{
 "cells": [
  {
   "cell_type": "code",
   "execution_count": 50,
   "metadata": {},
   "outputs": [
    {
     "name": "stderr",
     "output_type": "stream",
     "text": [
      "/home/mati/anaconda3/lib/python3.7/site-packages/IPython/core/interactiveshell.py:3020: DtypeWarning: Columns (18) have mixed types. Specify dtype option on import or set low_memory=False.\n",
      "  interactivity=interactivity, compiler=compiler, result=result)\n"
     ]
    }
   ],
   "source": [
    "import matplotlib as mpl\n",
    "import matplotlib.pyplot as plt\n",
    "import seaborn as sns\n",
    "import math\n",
    "\n",
    "import pandas as pd\n",
    "import numpy as np\n",
    "\n",
    "types = {'date':'object','event_id':'int64','ref_type':'category','ref_hash':'int64','application_id':'int64',\\\n",
    "         'attributed':'bool','device_countrycode':'category','device_os_version':'float64','device_brand':'float64',\\\n",
    "         'device_model':'float64','device_city':'float64','session_user_agent':'float64','trans_id':'category',\\\n",
    "         'user_agent':'float64','event_uuid':'object','carrier':'float64','kind':'float64','device_os':'category',\\\n",
    "         'wifi':'bool','connection_type':'category','ip_address':'int64','device_language':'float64'}\n",
    "cols = ['date','event_id','ref_type','ref_hash','application_id',\\\n",
    "         'attributed','device_countrycode','device_os_version','device_brand',\\\n",
    "         'device_model','device_city','session_user_agent','trans_id',\\\n",
    "         'user_agent','event_uuid','carrier','kind',\\\n",
    "         'wifi','connection_type','ip_address','device_language']\n",
    "events = pd.read_csv(r'Data/events.csv.gzip',compression = 'gzip', dtype = types, usecols = cols)"
   ]
  },
  {
   "cell_type": "code",
   "execution_count": 26,
   "metadata": {},
   "outputs": [],
   "source": [
    "cols = ['advertiser_id','source_id','created','latitude','longitude','carrier_id',\n",
    "        'trans_id','os_minor','agent_device','os_major','specs_brand','brand','timeToClick','touchX',\n",
    "        'touchY','ref_type','ref_hash']\n",
    "\n",
    "dtypes = {'advertiser_id':'category','source_id':'category','latitude':'float32','longitude':'float32','carrier_id':'float32',\n",
    "          'brand':'category','timeToClick':'float32'}\n",
    "\n",
    "clicks = pd.read_csv(r'Data/clicks.csv.gzip',usecols = cols,dtype = dtypes,compression = 'gzip')"
   ]
  },
  {
   "cell_type": "code",
   "execution_count": 3,
   "metadata": {},
   "outputs": [],
   "source": [
    "def get_most_active(df,columnName,criteria,percentage):\n",
    "    return df.nlargest(math.ceil(events[columnName].nunique()*percentage),criteria)\n",
    "\n",
    "def get_least_active(df,columnName,criteria,percentage):\n",
    "    return df.nsmallest(math.floor(events[columnName].nunique()*percentage),criteria)\n",
    "\n",
    "def get_events_from_list(dlist,field):\n",
    "    return events[events[field].isin(dlist)]\n",
    "\n",
    "def new_comparison(dfs_to_compare,criteria,index_names):\n",
    "    df = pd.DataFrame()\n",
    "    j = 0\n",
    "    for i in index_names:\n",
    "        df[i] = dfs_to_compare[j][criteria]\n",
    "        j = j +1\n",
    "    return df"
   ]
  },
  {
   "cell_type": "code",
   "execution_count": 19,
   "metadata": {
    "scrolled": true
   },
   "outputs": [
    {
     "name": "stdout",
     "output_type": "stream",
     "text": [
      "<class 'pandas.core.frame.DataFrame'>\n",
      "RangeIndex: 2494423 entries, 0 to 2494422\n",
      "Data columns (total 22 columns):\n",
      "date                  datetime64[ns]\n",
      "event_id              int64\n",
      "ref_type              category\n",
      "ref_hash              int64\n",
      "application_id        int64\n",
      "attributed            bool\n",
      "device_countrycode    category\n",
      "device_os_version     float64\n",
      "device_brand          float64\n",
      "device_model          float64\n",
      "device_city           float64\n",
      "session_user_agent    float64\n",
      "trans_id              category\n",
      "user_agent            float64\n",
      "event_uuid            object\n",
      "carrier               float64\n",
      "kind                  float64\n",
      "wifi                  object\n",
      "connection_type       category\n",
      "ip_address            int64\n",
      "device_language       float64\n",
      "event_value           int64\n",
      "dtypes: bool(1), category(4), datetime64[ns](1), float64(9), int64(5), object(2)\n",
      "memory usage: 335.4+ MB\n"
     ]
    }
   ],
   "source": [
    "events.info()"
   ]
  },
  {
   "cell_type": "code",
   "execution_count": 56,
   "metadata": {},
   "outputs": [],
   "source": [
    "events['event_value'] = 1"
   ]
  },
  {
   "cell_type": "code",
   "execution_count": 6,
   "metadata": {},
   "outputs": [],
   "source": [
    "byApp = events.groupby('application_id').agg({'event_value':'sum'})"
   ]
  },
  {
   "cell_type": "code",
   "execution_count": 7,
   "metadata": {},
   "outputs": [
    {
     "data": {
      "text/plain": [
       "<matplotlib.axes._subplots.AxesSubplot at 0x7fc392a6cda0>"
      ]
     },
     "execution_count": 7,
     "metadata": {},
     "output_type": "execute_result"
    },
    {
     "data": {
      "image/png": "[encoded data removed]",
      "text/plain": [
       "<Figure size 432x288 with 1 Axes>"
      ]
     },
     "metadata": {},
     "output_type": "display_data"
    }
   ],
   "source": [
    "topApps = get_most_active(byApp,'application_id','event_value',.1)\n",
    "botApps = get_least_active(byApp,'application_id','event_value',.9)\n",
    "explode = [0,.25]\n",
    "total = pd.DataFrame({'% of total events':[topApps['event_value'].sum(),botApps['event_value'].sum()]},\n",
    "                    index = ['Top 10%','Bottom 90%'])\n",
    "total.plot.pie(y = '% of total events',autopct='%1.1f%%',title = 'Total events divided by top 10% vs bottom 90% of apps',explode = explode)"
   ]
  },
  {
   "cell_type": "code",
   "execution_count": 8,
   "metadata": {},
   "outputs": [],
   "source": [
    "events['date'] = pd.to_datetime(events['date'])"
   ]
  },
  {
   "cell_type": "code",
   "execution_count": 58,
   "metadata": {},
   "outputs": [
    {
     "data": {
      "text/html": [
       "<div>\n",
       "<style scoped>\n",
       "    .dataframe tbody tr th:only-of-type {\n",
       "        vertical-align: middle;\n",
       "    }\n",
       "\n",
       "    .dataframe tbody tr th {\n",
       "        vertical-align: top;\n",
       "    }\n",
       "\n",
       "    .dataframe thead th {\n",
       "        text-align: right;\n",
       "    }\n",
       "</style>\n",
       "<table border=\"1\" class=\"dataframe\">\n",
       "  <thead>\n",
       "    <tr style=\"text-align: right;\">\n",
       "      <th></th>\n",
       "      <th></th>\n",
       "      <th>event_value</th>\n",
       "    </tr>\n",
       "    <tr>\n",
       "      <th>ref_hash</th>\n",
       "      <th>wifi</th>\n",
       "      <th></th>\n",
       "    </tr>\n",
       "  </thead>\n",
       "  <tbody>\n",
       "    <tr>\n",
       "      <th>163367509015039</th>\n",
       "      <th>True</th>\n",
       "      <td>1</td>\n",
       "    </tr>\n",
       "    <tr>\n",
       "      <th>533598976671757</th>\n",
       "      <th>True</th>\n",
       "      <td>1</td>\n",
       "    </tr>\n",
       "    <tr>\n",
       "      <th>536121741587392</th>\n",
       "      <th>True</th>\n",
       "      <td>2</td>\n",
       "    </tr>\n",
       "    <tr>\n",
       "      <th rowspan=\"2\" valign=\"top\">542666285694718</th>\n",
       "      <th>False</th>\n",
       "      <td>4</td>\n",
       "    </tr>\n",
       "    <tr>\n",
       "      <th>True</th>\n",
       "      <td>3</td>\n",
       "    </tr>\n",
       "  </tbody>\n",
       "</table>\n",
       "</div>"
      ],
      "text/plain": [
       "                       event_value\n",
       "ref_hash        wifi              \n",
       "163367509015039 True             1\n",
       "533598976671757 True             1\n",
       "536121741587392 True             2\n",
       "542666285694718 False            4\n",
       "                True             3"
      ]
     },
     "execution_count": 58,
     "metadata": {},
     "output_type": "execute_result"
    }
   ],
   "source": [
    "eventswifi = events.groupby(['ref_hash','wifi']).agg({'event_value':'sum'})\n",
    "events.wifi.reset_index()\n",
    "eventswifi.head()"
   ]
  },
  {
   "cell_type": "code",
   "execution_count": 36,
   "metadata": {},
   "outputs": [
    {
     "data": {
      "text/plain": [
       "Int64Index([    163367509015039,     264819082914115,     400199180093841,\n",
       "                473597089501983,     533598976671757,     536121741587392,\n",
       "                542666285694718,     557498597278769,     600055813374062,\n",
       "                612201781063017,\n",
       "            ...\n",
       "            9223008425170922022, 9223012612488100531, 9223067760045772077,\n",
       "            9223080948870532020, 9223085717969577334, 9223177286048989154,\n",
       "            9223181552426975748, 9223208317795541061, 9223281253059206089,\n",
       "            9223315715583246351],\n",
       "           dtype='int64', name='ref_hash', length=196049)"
      ]
     },
     "execution_count": 36,
     "metadata": {},
     "output_type": "execute_result"
    }
   ],
   "source": [
    "eventsref.index"
   ]
  },
  {
   "cell_type": "code",
   "execution_count": 66,
   "metadata": {},
   "outputs": [
    {
     "data": {
      "text/plain": [
       "Index([False, True], dtype='object', name='wifi')"
      ]
     },
     "execution_count": 66,
     "metadata": {},
     "output_type": "execute_result"
    }
   ],
   "source": [
    "eventswifi = events.groupby('wifi').agg({'event_value':'sum'})\n",
    "eventswifi.unstack()\n",
    "eventswifi.head()"
   ]
  },
  {
   "cell_type": "code",
   "execution_count": 70,
   "metadata": {},
   "outputs": [
    {
     "data": {
      "text/plain": [
       "<matplotlib.axes._subplots.AxesSubplot at 0x7fc37ff4b6a0>"
      ]
     },
     "execution_count": 70,
     "metadata": {},
     "output_type": "execute_result"
    },
    {
     "data": {
      "image/png": "[encoded data removed]",
      "text/plain": [
       "<Figure size 432x288 with 1 Axes>"
      ]
     },
     "metadata": {},
     "output_type": "display_data"
    }
   ],
   "source": [
    "explode = [0,.25]\n",
    "eventswifi['% of events'] = eventswifi['event_value']\n",
    "eventswifi.plot.pie(y = '% of events',autopct='%1.1f%%',title = 'Events divided by wifi enabled',explode = explode)"
   ]
  }
 ],
 "metadata": {
  "kernelspec": {
   "display_name": "Python 3",
   "language": "python",
   "name": "python3"
  },
  "language_info": {
   "codemirror_mode": {
    "name": "ipython",
    "version": 3
   },
   "file_extension": ".py",
   "mimetype": "text/x-python",
   "name": "python",
   "nbconvert_exporter": "python",
   "pygments_lexer": "ipython3",
   "version": "3.7.1"
  }
 },
 "nbformat": 4,
 "nbformat_minor": 2
}
