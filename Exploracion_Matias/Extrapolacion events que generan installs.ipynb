{
 "cells": [
  {
   "cell_type": "code",
   "execution_count": 107,
   "metadata": {},
   "outputs": [],
   "source": [
    "import matplotlib as mpl\n",
    "import matplotlib.pyplot as plt\n",
    "import seaborn as sns\n",
    "import math"
   ]
  },
  {
   "cell_type": "code",
   "execution_count": 108,
   "metadata": {},
   "outputs": [],
   "source": [
    "import pandas as pd\n",
    "import numpy as np\n",
    "\n",
    "installs = pd.read_csv(r'Data/installs.csv.gzip',compression = 'gzip')"
   ]
  },
  {
   "cell_type": "code",
   "execution_count": 109,
   "metadata": {},
   "outputs": [],
   "source": [
    "types = {'date':'object','event_id':'int64','ref_type':'category','ref_hash':'int64','application_id':'int64',\\\n",
    "         'attributed':'bool','device_countrycode':'category','device_os_version':'float64','device_brand':'float64',\\\n",
    "         'device_model':'float64','device_city':'float64','session_user_agent':'float64','trans_id':'category',\\\n",
    "         'user_agent':'float64','event_uuid':'object','carrier':'float64','kind':'float64','device_os':'category',\\\n",
    "         'wifi':'bool','connection_type':'category','ip_address':'int64','device_language':'float64'}\n",
    "\n",
    "cols = ['date','event_id','ref_hash','application_id','attributed','device_brand','device_model'\n",
    "       ,'event_uuid','carrier','kind','device_os','wifi']\n",
    "\n",
    "events = pd.read_csv(r'Data/events.csv.gzip',compression = 'gzip', dtype = types, usecols = cols)"
   ]
  },
  {
   "cell_type": "code",
   "execution_count": 131,
   "metadata": {},
   "outputs": [],
   "source": [
    "\n",
    "#PRE: \n",
    "#df['timestamp'] = timestamp de una fecha\n",
    "#date fecha a comparar\n",
    "#refhash para filtrar los events\n",
    "#deltaTime para determinar el margen de aceptacion para exactmatch [Real+]\n",
    "\n",
    "#POS:\n",
    "#devuelve 2 dataframes, para checkear si estan vacios usar df.empty\n",
    "\n",
    "def find_lowest_neighbour_in_time(df,date,refhash,useDeltaTime=False,deltaTime=0):\n",
    "    df = df[df['ref_hash'] == refhash]\n",
    "    exactmatch=df[(df['date']==date) | \n",
    "                  ((useDeltaTime) & \n",
    "                   ((date.timestamp()- df['timestamp'])< deltaTime) &\n",
    "                  ((date.timestamp()- df['timestamp'])> 0))] # quiero solo los eventos previos a date\n",
    "    lowerneighbour_ind = df[df['timestamp']<date.timestamp()].nlargest(1,'timestamp')\n",
    "    return lowerneighbour_ind,exactmatch"
   ]
  },
  {
   "cell_type": "code",
   "execution_count": 111,
   "metadata": {},
   "outputs": [],
   "source": [
    "events['date'] = pd.to_datetime(events['date'])\n",
    "\n",
    "installs['created'] = pd.to_datetime(installs['created'])\n",
    "installs['hour'] = installs['created'].apply(lambda x: x.hour)\n",
    "installs['hour'] = installs['hour'].astype('int8')\n",
    "\n",
    "installs['day'] = installs['created'].apply(lambda x: x.day)\n",
    "installs['day'] = installs['day'].astype('int8')\n",
    "\n",
    "installs['install_value'] = 1"
   ]
  },
  {
   "cell_type": "code",
   "execution_count": 112,
   "metadata": {},
   "outputs": [],
   "source": [
    "installs['origin_event_uuid'] = None\n",
    "installs['exact_event_uuid'] = None"
   ]
  },
  {
   "cell_type": "code",
   "execution_count": 122,
   "metadata": {},
   "outputs": [
    {
     "name": "stdout",
     "output_type": "stream",
     "text": [
      "<class 'pandas.core.frame.DataFrame'>\n",
      "RangeIndex: 2494423 entries, 0 to 2494422\n",
      "Data columns (total 13 columns):\n",
      "date              datetime64[ns]\n",
      "event_id          int64\n",
      "ref_hash          int64\n",
      "application_id    int64\n",
      "attributed        bool\n",
      "device_brand      float64\n",
      "device_model      float64\n",
      "event_uuid        object\n",
      "carrier           float64\n",
      "kind              float64\n",
      "device_os         category\n",
      "wifi              object\n",
      "timestamp         float32\n",
      "dtypes: bool(1), category(1), datetime64[ns](1), float32(1), float64(4), int64(3), object(2)\n",
      "memory usage: 204.6+ MB\n"
     ]
    }
   ],
   "source": [
    "events['timestamp'] = events['date'].apply(lambda x: x.timestamp())\n",
    "events['timestamp'] = events['timestamp'].astype('float32')\n",
    "events.info()"
   ]
  },
  {
   "cell_type": "code",
   "execution_count": 114,
   "metadata": {},
   "outputs": [
    {
     "data": {
      "text/html": [
       "<div>\n",
       "<style scoped>\n",
       "    .dataframe tbody tr th:only-of-type {\n",
       "        vertical-align: middle;\n",
       "    }\n",
       "\n",
       "    .dataframe tbody tr th {\n",
       "        vertical-align: top;\n",
       "    }\n",
       "\n",
       "    .dataframe thead th {\n",
       "        text-align: right;\n",
       "    }\n",
       "</style>\n",
       "<table border=\"1\" class=\"dataframe\">\n",
       "  <thead>\n",
       "    <tr style=\"text-align: right;\">\n",
       "      <th></th>\n",
       "      <th>install_value</th>\n",
       "      <th>application_id</th>\n",
       "      <th>ref_hash</th>\n",
       "    </tr>\n",
       "    <tr>\n",
       "      <th>created</th>\n",
       "      <th></th>\n",
       "      <th></th>\n",
       "      <th></th>\n",
       "    </tr>\n",
       "  </thead>\n",
       "  <tbody>\n",
       "    <tr>\n",
       "      <th>2019-03-05 00:00:38.219</th>\n",
       "      <td>1</td>\n",
       "      <td>5</td>\n",
       "      <td>5924583283197158397</td>\n",
       "    </tr>\n",
       "    <tr>\n",
       "      <th>2019-03-05 00:05:35.234</th>\n",
       "      <td>1</td>\n",
       "      <td>16</td>\n",
       "      <td>1740562126672148647</td>\n",
       "    </tr>\n",
       "    <tr>\n",
       "      <th>2019-03-05 00:07:25.431</th>\n",
       "      <td>1</td>\n",
       "      <td>16</td>\n",
       "      <td>760677655438420566</td>\n",
       "    </tr>\n",
       "    <tr>\n",
       "      <th>2019-03-05 00:07:38.572</th>\n",
       "      <td>1</td>\n",
       "      <td>8</td>\n",
       "      <td>5006759053482448963</td>\n",
       "    </tr>\n",
       "    <tr>\n",
       "      <th>2019-03-05 00:10:36.708</th>\n",
       "      <td>1</td>\n",
       "      <td>7</td>\n",
       "      <td>3318538943125451633</td>\n",
       "    </tr>\n",
       "  </tbody>\n",
       "</table>\n",
       "</div>"
      ],
      "text/plain": [
       "                         install_value  application_id             ref_hash\n",
       "created                                                                    \n",
       "2019-03-05 00:00:38.219              1               5  5924583283197158397\n",
       "2019-03-05 00:05:35.234              1              16  1740562126672148647\n",
       "2019-03-05 00:07:25.431              1              16   760677655438420566\n",
       "2019-03-05 00:07:38.572              1               8  5006759053482448963\n",
       "2019-03-05 00:10:36.708              1               7  3318538943125451633"
      ]
     },
     "execution_count": 114,
     "metadata": {},
     "output_type": "execute_result"
    }
   ],
   "source": [
    "installsByTime = installs.groupby('created').agg({'install_value':sum,'application_id':lambda x: x,'ref_hash':lambda x: x})\n",
    "installsDevice = installs.groupby('ref_hash').agg({'install_value':sum,'application_id':lambda x: x,'created':lambda x: x})\n",
    "installsByTime.head()"
   ]
  },
  {
   "cell_type": "code",
   "execution_count": null,
   "metadata": {},
   "outputs": [],
   "source": [
    "#Agrego los eventos de origen y exactos a events"
   ]
  },
  {
   "cell_type": "code",
   "execution_count": 151,
   "metadata": {},
   "outputs": [],
   "source": [
    "for date in installsByTime.index.tolist():\n",
    "    neighbour,exact = find_lowest_neighbour_in_time(events,date,installsByTime.loc[date,'ref_hash'],True,0.1)\n",
    "    if neighbour.empty == False:\n",
    "        install = installs[installs['created'] == date]\n",
    "        value = neighbour.loc[neighbour.index[0],'event_uuid']\n",
    "        installs.loc[install.index[0],'origin_event_uuid'] = value\n",
    "    if exact.empty == False:\n",
    "        install = installs[installs['created'] == date]\n",
    "        value = exact.loc[exact.index[0],'event_uuid']\n",
    "        installs.loc[install.index[0],'exact_event_uuid'] = value\n",
    "        "
   ]
  },
  {
   "cell_type": "code",
   "execution_count": null,
   "metadata": {},
   "outputs": [],
   "source": []
  },
  {
   "cell_type": "code",
   "execution_count": 152,
   "metadata": {},
   "outputs": [],
   "source": [
    "instsource = installs.dropna(subset = ['origin_event_uuid'])\n",
    "instexact = installs.dropna(subset = ['exact_event_uuid'])"
   ]
  },
  {
   "cell_type": "code",
   "execution_count": 153,
   "metadata": {},
   "outputs": [
    {
     "data": {
      "text/plain": [
       "array([ 0,  2,  5,  8,  9, 12, 15, 17, 21, 10, 24, 20,  7, 30, 16,  6, 33,\n",
       "       29, 34])"
      ]
     },
     "execution_count": 153,
     "metadata": {},
     "output_type": "execute_result"
    }
   ],
   "source": [
    "#lista de apps con evento exacto\n",
    "instexact['application_id'].unique()"
   ]
  },
  {
   "cell_type": "code",
   "execution_count": 119,
   "metadata": {},
   "outputs": [],
   "source": [
    "#mi teoria es que las siguientes apps dejan marcada la instalacion como un evento\n",
    "#para desprobarla debo buscar casos donde:\n",
    "# 1) existan instalaciones no implicitas de las apps de la lista que dejen constancia del evento\n",
    "# 2) existan instalaciones de las apps en la lista que no dejen constancia del evento\n",
    "# 3) existan apps fuera de la lista que tengan constancia del evento\n",
    "\n",
    "#por la forma en la que forme la lista (usando dropna), la tercera esta descartada."
   ]
  },
  {
   "cell_type": "code",
   "execution_count": 154,
   "metadata": {},
   "outputs": [
    {
     "data": {
      "text/plain": [
       "array([ True])"
      ]
     },
     "execution_count": 154,
     "metadata": {},
     "output_type": "execute_result"
    }
   ],
   "source": [
    "instexact['implicit'].unique()"
   ]
  },
  {
   "cell_type": "code",
   "execution_count": null,
   "metadata": {},
   "outputs": [],
   "source": [
    "#Con esto demuestro que no hay instalaciones no implicitas que dejen constancia y que"
   ]
  },
  {
   "cell_type": "code",
   "execution_count": 155,
   "metadata": {},
   "outputs": [
    {
     "data": {
      "text/html": [
       "<div>\n",
       "<style scoped>\n",
       "    .dataframe tbody tr th:only-of-type {\n",
       "        vertical-align: middle;\n",
       "    }\n",
       "\n",
       "    .dataframe tbody tr th {\n",
       "        vertical-align: top;\n",
       "    }\n",
       "\n",
       "    .dataframe thead th {\n",
       "        text-align: right;\n",
       "    }\n",
       "</style>\n",
       "<table border=\"1\" class=\"dataframe\">\n",
       "  <thead>\n",
       "    <tr style=\"text-align: right;\">\n",
       "      <th></th>\n",
       "      <th>created</th>\n",
       "      <th>application_id</th>\n",
       "      <th>ref_type</th>\n",
       "      <th>ref_hash</th>\n",
       "      <th>click_hash</th>\n",
       "      <th>attributed</th>\n",
       "      <th>implicit</th>\n",
       "      <th>device_countrycode</th>\n",
       "      <th>device_brand</th>\n",
       "      <th>device_model</th>\n",
       "      <th>...</th>\n",
       "      <th>kind</th>\n",
       "      <th>wifi</th>\n",
       "      <th>trans_id</th>\n",
       "      <th>ip_address</th>\n",
       "      <th>device_language</th>\n",
       "      <th>hour</th>\n",
       "      <th>day</th>\n",
       "      <th>install_value</th>\n",
       "      <th>origin_event_uuid</th>\n",
       "      <th>exact_event_uuid</th>\n",
       "    </tr>\n",
       "  </thead>\n",
       "  <tbody>\n",
       "  </tbody>\n",
       "</table>\n",
       "<p>0 rows × 23 columns</p>\n",
       "</div>"
      ],
      "text/plain": [
       "Empty DataFrame\n",
       "Columns: [created, application_id, ref_type, ref_hash, click_hash, attributed, implicit, device_countrycode, device_brand, device_model, session_user_agent, user_agent, event_uuid, kind, wifi, trans_id, ip_address, device_language, hour, day, install_value, origin_event_uuid, exact_event_uuid]\n",
       "Index: []\n",
       "\n",
       "[0 rows x 23 columns]"
      ]
     },
     "execution_count": 155,
     "metadata": {},
     "output_type": "execute_result"
    }
   ],
   "source": [
    "installs_that_break_hypothesis = installs.loc[(installs['application_id'].isin(instexact['application_id'].unique())) & \n",
    "                  (installs['exact_event_uuid'] == None)]\n",
    "installs_that_break_hypothesis"
   ]
  },
  {
   "cell_type": "code",
   "execution_count": null,
   "metadata": {},
   "outputs": [],
   "source": [
    "#Con esto demuestro que no hay instalaciones de las apps que no dejen una constancia exacta"
   ]
  },
  {
   "cell_type": "code",
   "execution_count": null,
   "metadata": {},
   "outputs": [],
   "source": [
    "#Ahora, pruebo lo mismo dejando un pequeño margen de tiempo"
   ]
  },
  {
   "cell_type": "code",
   "execution_count": 148,
   "metadata": {},
   "outputs": [],
   "source": []
  },
  {
   "cell_type": "code",
   "execution_count": 149,
   "metadata": {},
   "outputs": [],
   "source": []
  },
  {
   "cell_type": "code",
   "execution_count": 150,
   "metadata": {},
   "outputs": [
    {
     "data": {
      "text/plain": [
       "array([ 0,  2,  5,  8,  9, 12, 15, 17, 21, 10, 24, 20,  7, 30, 16,  6, 33,\n",
       "       29, 34])"
      ]
     },
     "execution_count": 150,
     "metadata": {},
     "output_type": "execute_result"
    }
   ],
   "source": []
  }
 ],
 "metadata": {
  "kernelspec": {
   "display_name": "Python 3",
   "language": "python",
   "name": "python3"
  },
  "language_info": {
   "codemirror_mode": {
    "name": "ipython",
    "version": 3
   },
   "file_extension": ".py",
   "mimetype": "text/x-python",
   "name": "python",
   "nbconvert_exporter": "python",
   "pygments_lexer": "ipython3",
   "version": "3.7.1"
  }
 },
 "nbformat": 4,
 "nbformat_minor": 2
}
