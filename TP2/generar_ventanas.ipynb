{
 "cells": [
  {
   "cell_type": "code",
   "execution_count": null,
   "metadata": {},
   "outputs": [],
   "source": [
    "import pandas as pd\n",
    "from datetime import timedelta\n",
    "\n",
    "def generar_ventanas(df, str_columna_fecha):\n",
    "    FECHA_INICIO = pd.to_datetime(df[str_columna_fecha].min().strftime('%Y-%m-%d'))\n",
    "    FECHA_FIN = pd.to_datetime(df[str_columna_fecha].max().strftime('%Y-%m-%d'))\n",
    "\n",
    "    FECHA_VENTANA_DOS = FECHA_INICIO + timedelta(days=3)\n",
    "    FECHA_VENTANA_TRES = FECHA_INICIO + timedelta(days=6)\n",
    "    \n",
    "    ventana_uno = installs.loc[(df[str_columna_fecha] < FECHA_VENTANA_DOS)]\n",
    "    ventana_uno = ventana_uno.loc[(df[str_columna_fecha] > FECHA_INICIO)]\n",
    "\n",
    "    ventana_dos = installs.loc[(df[str_columna_fecha] < FECHA_VENTANA_TRES)]\n",
    "    ventana_dos = ventana_dos.loc[(df[str_columna_fecha] > FECHA_VENTANA_DOS)]\n",
    "\n",
    "    ventana_tres = installs.loc[(df[str_columna_fecha] < FECHA_FIN)]\n",
    "    ventana_tres = ventana_tres.loc[(df[str_columna_fecha] > FECHA_VENTANA_TRES)]\n",
    "    \n",
    "    return ventana_uno, ventana_dos, ventana_tres"
   ]
  }
 ],
 "metadata": {
  "kernelspec": {
   "display_name": "Python 3",
   "language": "python",
   "name": "python3"
  },
  "language_info": {
   "codemirror_mode": {
    "name": "ipython",
    "version": 3
   },
   "file_extension": ".py",
   "mimetype": "text/x-python",
   "name": "python",
   "nbconvert_exporter": "python",
   "pygments_lexer": "ipython3",
   "version": "3.5.3"
  }
 },
 "nbformat": 4,
 "nbformat_minor": 2
}
