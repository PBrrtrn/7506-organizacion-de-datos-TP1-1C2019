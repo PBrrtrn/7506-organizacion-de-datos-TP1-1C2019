{
 "cells": [
  {
   "cell_type": "markdown",
   "metadata": {},
   "source": [
    "# Survival analysis para la empresa JAMPP\n",
    "\n",
    "El objetivo es analizar los datos de la empresa JAMPP para saber cuando un usuario volverá a conectarse a una app, dado sus datos de conexiones previas. La segunda predicción que intentaremos hacer es saber cuando volverá a \"convertir\", es decir comprar la app de la cual tiene una publicidad en su movil a un momento dado.\n",
    "\n"
   ]
  },
  {
   "cell_type": "code",
   "execution_count": 1,
   "metadata": {},
   "outputs": [],
   "source": [
    "import matplotlib.pyplot as plt\n",
    "import pandas as pd\n",
    "import numpy as np\n",
    "import lifelines\n",
    "import category_encoders as ce\n",
    "from sklearn.linear_model import LinearRegression\n",
    "from sklearn.metrics import explained_variance_score\n",
    "import xgboost\n",
    "from func import generateSessions\n",
    "from func import agregarTiempoPromedio"
   ]
  },
  {
   "cell_type": "code",
   "execution_count": 2,
   "metadata": {},
   "outputs": [
    {
     "name": "stderr",
     "output_type": "stream",
     "text": [
      "C:\\ProgramData\\Anaconda3\\lib\\site-packages\\IPython\\core\\interactiveshell.py:3049: DtypeWarning: Columns (4,15) have mixed types. Specify dtype option on import or set low_memory=False.\n",
      "  interactivity=interactivity, compiler=compiler, result=result)\n"
     ]
    }
   ],
   "source": [
    "ev_types = {'event_id':'int64',\n",
    "            'ref_type':'category',\n",
    "            'ref_hash':'int64',\n",
    "            'application_id':'int64',\n",
    "            'attributed':'bool',\n",
    "            'device_countrycode':'category',\n",
    "            'device_os_version':'float64',\n",
    "            'device_brand':'float64',\n",
    "            'device_model':'float64',\n",
    "            'device_city':'float64',\n",
    "            'session_user_agent':'float64',\n",
    "            'trans_id':'category',\n",
    "            'user_agent':'float64',\n",
    "            'event_uuid':'object',\n",
    "            'carrier':'float64',\n",
    "            'kind':'float64',\n",
    "            'device_os':'category',\n",
    "            'wifi':'category',\n",
    "            'connection_type':'category',\n",
    "            'ip_address':'int64',\n",
    "            'device_language':'float64'}\n",
    "events = pd.read_csv('./archivos/events.csv', dtype = ev_types)\n",
    "installs = pd.read_csv('./archivos/installs.csv', dtype = {'wifi':'category'})"
   ]
  },
  {
   "cell_type": "markdown",
   "metadata": {},
   "source": [
    "### Estudio Datasets de installs y events"
   ]
  },
  {
   "cell_type": "markdown",
   "metadata": {},
   "source": [
    "### Para aliviar los sets, sacamos las columnas que no me sirvan.\n",
    "- agrego columna para discriminar una instalacion\n",
    "- casteo datetimes\n",
    "- casteo wifi info"
   ]
  },
  {
   "cell_type": "code",
   "execution_count": 50,
   "metadata": {
    "scrolled": true
   },
   "outputs": [
    {
     "name": "stderr",
     "output_type": "stream",
     "text": [
      "C:\\ProgramData\\Anaconda3\\lib\\site-packages\\ipykernel_launcher.py:4: SettingWithCopyWarning: \n",
      "A value is trying to be set on a copy of a slice from a DataFrame.\n",
      "Try using .loc[row_indexer,col_indexer] = value instead\n",
      "\n",
      "See the caveats in the documentation: http://pandas.pydata.org/pandas-docs/stable/indexing.html#indexing-view-versus-copy\n",
      "  after removing the cwd from sys.path.\n",
      "C:\\ProgramData\\Anaconda3\\lib\\site-packages\\ipykernel_launcher.py:5: SettingWithCopyWarning: \n",
      "A value is trying to be set on a copy of a slice from a DataFrame.\n",
      "Try using .loc[row_indexer,col_indexer] = value instead\n",
      "\n",
      "See the caveats in the documentation: http://pandas.pydata.org/pandas-docs/stable/indexing.html#indexing-view-versus-copy\n",
      "  \"\"\"\n",
      "C:\\ProgramData\\Anaconda3\\lib\\site-packages\\ipykernel_launcher.py:6: SettingWithCopyWarning: \n",
      "A value is trying to be set on a copy of a slice from a DataFrame.\n",
      "Try using .loc[row_indexer,col_indexer] = value instead\n",
      "\n",
      "See the caveats in the documentation: http://pandas.pydata.org/pandas-docs/stable/indexing.html#indexing-view-versus-copy\n",
      "  \n",
      "C:\\ProgramData\\Anaconda3\\lib\\site-packages\\ipykernel_launcher.py:7: SettingWithCopyWarning: \n",
      "A value is trying to be set on a copy of a slice from a DataFrame.\n",
      "Try using .loc[row_indexer,col_indexer] = value instead\n",
      "\n",
      "See the caveats in the documentation: http://pandas.pydata.org/pandas-docs/stable/indexing.html#indexing-view-versus-copy\n",
      "  import sys\n",
      "C:\\ProgramData\\Anaconda3\\lib\\site-packages\\ipykernel_launcher.py:8: SettingWithCopyWarning: \n",
      "A value is trying to be set on a copy of a slice from a DataFrame.\n",
      "Try using .loc[row_indexer,col_indexer] = value instead\n",
      "\n",
      "See the caveats in the documentation: http://pandas.pydata.org/pandas-docs/stable/indexing.html#indexing-view-versus-copy\n",
      "  \n",
      "C:\\ProgramData\\Anaconda3\\lib\\site-packages\\pandas\\core\\frame.py:3940: SettingWithCopyWarning: \n",
      "A value is trying to be set on a copy of a slice from a DataFrame\n",
      "\n",
      "See the caveats in the documentation: http://pandas.pydata.org/pandas-docs/stable/indexing.html#indexing-view-versus-copy\n",
      "  errors=errors)\n"
     ]
    }
   ],
   "source": [
    "ecur = events[['ref_hash', 'event_id', 'date', 'application_id', 'wifi', 'device_model', 'event_uuid']]\n",
    "icur = installs[['ref_hash', 'created', 'application_id', 'wifi', 'device_model', 'event_uuid']]\n",
    "icur.rename(columns={'created':'date'},inplace=True)\n",
    "icur['date'] = pd.to_datetime(icur['date'], format = '%Y-%m-%d %H:%M:%S')\n",
    "ecur['date'] = pd.to_datetime(ecur['date'], format = '%Y-%m-%d %H:%M:%S')\n",
    "ecur['ins'] = 0\n",
    "icur['ins'] = 1\n",
    "icur['event_id'] = -1\n",
    "icur.loc[(icur.wifi == 'true'), 'binwifi'] = 1\n",
    "icur.loc[(icur.wifi == 'false'), 'binwifi'] = 0\n",
    "ecur.loc[(ecur.wifi == 'True'), 'binwifi'] = 1\n",
    "ecur.loc[(ecur.wifi == 'False'), 'binwifi'] = 0\n",
    "ecur.drop(columns= 'wifi',inplace=True)\n",
    "icur.drop(columns= 'wifi',inplace=True)\n",
    "icur.binwifi.fillna(value=0.7,inplace=True)\n",
    "ecur.binwifi.fillna(value=0.3,inplace=True)"
   ]
  },
  {
   "cell_type": "markdown",
   "metadata": {},
   "source": [
    "# Concateno installs y events"
   ]
  },
  {
   "cell_type": "code",
   "execution_count": 52,
   "metadata": {},
   "outputs": [],
   "source": [
    "insev = pd.concat([icur,ecur])"
   ]
  },
  {
   "cell_type": "markdown",
   "metadata": {},
   "source": [
    "### Elimino instalaciones duplicadas"
   ]
  },
  {
   "cell_type": "code",
   "execution_count": 53,
   "metadata": {},
   "outputs": [],
   "source": [
    "insev.loc[(insev.duplicated(subset='event_uuid')), 'ins'] = 1\n",
    "insev.drop_duplicates(subset='event_uuid', inplace=True)"
   ]
  },
  {
   "cell_type": "markdown",
   "metadata": {},
   "source": [
    "### Creo ventanas de 3 dias"
   ]
  },
  {
   "cell_type": "code",
   "execution_count": 54,
   "metadata": {},
   "outputs": [],
   "source": [
    "insev1 = insev.loc[(insev[\"date\"] < \"2019-04-21\")]\n",
    "insev1 = insev1.loc[(insev1[\"date\"] > \"2019-04-18\")]"
   ]
  },
  {
   "cell_type": "code",
   "execution_count": 55,
   "metadata": {},
   "outputs": [],
   "source": [
    "insev2 = insev.loc[(insev[\"date\"] < \"2019-04-22\")]\n",
    "insev2 = insev2.loc[(insev2[\"date\"] > \"2019-04-19\")]"
   ]
  },
  {
   "cell_type": "code",
   "execution_count": 56,
   "metadata": {},
   "outputs": [],
   "source": [
    "insev3 = insev.loc[(insev[\"date\"] < \"2019-04-23\")]\n",
    "insev3 = insev3.loc[(insev3[\"date\"] > \"2019-04-20\")]"
   ]
  },
  {
   "cell_type": "code",
   "execution_count": 57,
   "metadata": {},
   "outputs": [],
   "source": [
    "insev4 = insev.loc[(insev[\"date\"] < \"2019-04-24\")]\n",
    "insev4 = insev4.loc[(insev4[\"date\"] > \"2019-04-21\")]"
   ]
  },
  {
   "cell_type": "code",
   "execution_count": 58,
   "metadata": {},
   "outputs": [],
   "source": [
    "insev5 = insev.loc[(insev[\"date\"] < \"2019-04-25\")]\n",
    "insev5 = insev5.loc[(insev5[\"date\"] > \"2019-04-22\")]"
   ]
  },
  {
   "cell_type": "markdown",
   "metadata": {},
   "source": [
    "### En todas las ventanas elegidas, vamos a agregar una columna de fecha inicial para poder basar los tiempos en base a eso. Despues podremos restar el tiempo inicial al tiempo absoluto para hacer modelos en segundos pasados."
   ]
  },
  {
   "cell_type": "code",
   "execution_count": 59,
   "metadata": {},
   "outputs": [],
   "source": [
    "fecha_inicial_1 = pd.to_datetime(\"2019-04-18 00:00:00\")\n",
    "fecha_inicial_2 = pd.to_datetime(\"2019-04-19 00:00:00\")\n",
    "fecha_inicial_3 = pd.to_datetime(\"2019-04-20 00:00:00\")\n",
    "fecha_inicial_4 = pd.to_datetime(\"2019-04-21 00:00:00\")\n",
    "fecha_inicial_5 = pd.to_datetime(\"2019-04-22 00:00:00\")\n",
    "insev1['delta_t'] = (insev1.date - fecha_inicial_1)\n",
    "insev1[\"delta_t\"] = insev1[\"delta_t\"].dt.total_seconds()\n",
    "insev2['delta_t'] = (insev2.date - fecha_inicial_2)\n",
    "insev2[\"delta_t\"] = insev2[\"delta_t\"].dt.total_seconds()\n",
    "insev3['delta_t'] = (insev3.date - fecha_inicial_3)\n",
    "insev3[\"delta_t\"] = insev3[\"delta_t\"].dt.total_seconds()\n",
    "insev4['delta_t'] = (insev4.date - fecha_inicial_4)\n",
    "insev4[\"delta_t\"] = insev4[\"delta_t\"].dt.total_seconds()\n",
    "insev5['delta_t'] = (insev5.date - fecha_inicial_5)\n",
    "insev5[\"delta_t\"] = insev5[\"delta_t\"].dt.total_seconds()"
   ]
  },
  {
   "cell_type": "markdown",
   "metadata": {},
   "source": [
    "### Genero sesiones por usuario"
   ]
  },
  {
   "cell_type": "code",
   "execution_count": 60,
   "metadata": {},
   "outputs": [],
   "source": [
    "insev1.reset_index(inplace=True)\n",
    "sess1 = generateSessions(insev1)\n",
    "insev1['session'] = sess1"
   ]
  },
  {
   "cell_type": "code",
   "execution_count": 61,
   "metadata": {},
   "outputs": [],
   "source": [
    "insev2.reset_index(inplace=True)\n",
    "sess2 = generateSessions(insev2)\n",
    "insev2['session'] = sess2"
   ]
  },
  {
   "cell_type": "code",
   "execution_count": 62,
   "metadata": {},
   "outputs": [],
   "source": [
    "insev3.reset_index(inplace=True)\n",
    "sess3 = generateSessions(insev3)\n",
    "insev3['session'] = sess3"
   ]
  },
  {
   "cell_type": "code",
   "execution_count": 63,
   "metadata": {},
   "outputs": [],
   "source": [
    "insev4.reset_index(inplace=True)\n",
    "sess4 = generateSessions(insev4)\n",
    "insev4['session'] = sess4"
   ]
  },
  {
   "cell_type": "code",
   "execution_count": 64,
   "metadata": {},
   "outputs": [],
   "source": [
    "insev5.reset_index(inplace=True)\n",
    "sess5 = generateSessions(insev5)\n",
    "insev5['session'] = sess5"
   ]
  },
  {
   "cell_type": "markdown",
   "metadata": {},
   "source": [
    "Agregamos una columna _sum_ para poder contar la cantidad de veces que aparece un device en una ventana de tres días."
   ]
  },
  {
   "cell_type": "code",
   "execution_count": 65,
   "metadata": {},
   "outputs": [],
   "source": [
    "insev1[\"sum\"] = 1\n",
    "insev2[\"sum\"] = 1\n",
    "insev3[\"sum\"] = 1\n",
    "insev4[\"sum\"] = 1\n",
    "insev5[\"sum\"] = 1"
   ]
  },
  {
   "cell_type": "markdown",
   "metadata": {},
   "source": [
    "### AGREGO FEATURES IMPORTANTES QUE LUEGO AGRUPARE POR USUARIO"
   ]
  },
  {
   "cell_type": "code",
   "execution_count": 66,
   "metadata": {},
   "outputs": [],
   "source": [
    "#AGREGO COLUMNAS DE DATOS EN INSTALACIONES\n",
    "insev1.loc[(insev1.ins==1), 'delta_t_ins'] = insev1.delta_t\n",
    "insev1.loc[(insev1.ins==1), 'app'] = insev1.application_id\n",
    "insev1.loc[(insev1.ins==1), 'ins_sess'] = insev1.session\n",
    "insev1.loc[(insev1.ins==1), 'wifi_on_ins'] = insev1.binwifi\n",
    "\n",
    "insev2.loc[(insev2.ins==1), 'delta_t_ins'] = insev2.delta_t\n",
    "insev2.loc[(insev2.ins==1), 'app'] = insev2.application_id\n",
    "insev2.loc[(insev2.ins==1), 'ins_sess'] = insev2.session\n",
    "insev2.loc[(insev2.ins==1), 'wifi_on_ins'] = insev2.binwifi\n",
    "\n",
    "insev3.loc[(insev3.ins==1), 'delta_t_ins'] = insev3.delta_t\n",
    "insev3.loc[(insev3.ins==1), 'app'] = insev3.application_id\n",
    "insev3.loc[(insev3.ins==1), 'ins_sess'] = insev3.session\n",
    "insev3.loc[(insev3.ins==1), 'wifi_on_ins'] = insev3.binwifi\n",
    "\n",
    "insev4.loc[(insev4.ins==1), 'delta_t_ins'] = insev4.delta_t\n",
    "insev4.loc[(insev4.ins==1), 'app'] = insev4.application_id\n",
    "insev4.loc[(insev4.ins==1), 'ins_sess'] = insev4.session\n",
    "insev4.loc[(insev4.ins==1), 'wifi_on_ins'] = insev4.binwifi\n",
    "\n",
    "insev5.loc[(insev5.ins==1), 'delta_t_ins'] = insev5.delta_t\n",
    "insev5.loc[(insev5.ins==1), 'app'] = insev5.application_id\n",
    "insev5.loc[(insev5.ins==1), 'ins_sess'] = insev5.session\n",
    "insev5.loc[(insev5.ins==1), 'wifi_on_ins'] = insev5.binwifi\n"
   ]
  },
  {
   "cell_type": "code",
   "execution_count": 67,
   "metadata": {},
   "outputs": [],
   "source": [
    "#ORDENO POR USUARIO Y DATE\n",
    "insev1.sort_values(by=['ref_hash','delta_t'], inplace=True)\n",
    "insev2.sort_values(by=['ref_hash','delta_t'], inplace=True)\n",
    "insev3.sort_values(by=['ref_hash','delta_t'], inplace=True)\n",
    "insev4.sort_values(by=['ref_hash','delta_t'], inplace=True)\n",
    "insev5.sort_values(by=['ref_hash','delta_t'], inplace=True)"
   ]
  },
  {
   "cell_type": "code",
   "execution_count": 80,
   "metadata": {
    "scrolled": true
   },
   "outputs": [],
   "source": [
    "insev1.drop(columns=['index','date','event_uuid'], inplace=True)\n",
    "insev2.drop(columns=['index','date','event_uuid'], inplace=True)\n",
    "insev3.drop(columns=['index','date','event_uuid'], inplace=True)\n",
    "insev4.drop(columns=['index','date','event_uuid'], inplace=True)\n",
    "insev5.drop(columns=['index','date','event_uuid'], inplace=True)"
   ]
  },
  {
   "cell_type": "markdown",
   "metadata": {},
   "source": [
    "### Genero copia de filas con installs mayor a cero que usare para calcular el t promedio entre installs"
   ]
  },
  {
   "cell_type": "code",
   "execution_count": 70,
   "metadata": {
    "scrolled": true
   },
   "outputs": [
    {
     "name": "stderr",
     "output_type": "stream",
     "text": [
      "C:\\ProgramData\\Anaconda3\\lib\\site-packages\\ipykernel_launcher.py:2: UserWarning: Boolean Series key will be reindexed to match DataFrame index.\n",
      "  \n",
      "C:\\ProgramData\\Anaconda3\\lib\\site-packages\\ipykernel_launcher.py:3: UserWarning: Boolean Series key will be reindexed to match DataFrame index.\n",
      "  This is separate from the ipykernel package so we can avoid doing imports until\n",
      "C:\\ProgramData\\Anaconda3\\lib\\site-packages\\ipykernel_launcher.py:4: UserWarning: Boolean Series key will be reindexed to match DataFrame index.\n",
      "  after removing the cwd from sys.path.\n",
      "C:\\ProgramData\\Anaconda3\\lib\\site-packages\\ipykernel_launcher.py:5: UserWarning: Boolean Series key will be reindexed to match DataFrame index.\n",
      "  \"\"\"\n"
     ]
    }
   ],
   "source": [
    "t_inst_1 = insev1[insev1.ins == 1]\n",
    "t_inst_2 = insev1[insev2.ins == 1]\n",
    "t_inst_3 = insev1[insev3.ins == 1]\n",
    "t_inst_4 = insev1[insev4.ins == 1]\n",
    "t_inst_5 = insev1[insev5.ins == 1]"
   ]
  },
  {
   "cell_type": "code",
   "execution_count": 71,
   "metadata": {},
   "outputs": [],
   "source": [
    "t_inst_1 = t_inst_1[['delta_t', 'ref_hash']]\n",
    "t_inst_2 = t_inst_2[['delta_t', 'ref_hash']]\n",
    "t_inst_3 = t_inst_3[['delta_t', 'ref_hash']]\n",
    "t_inst_4 = t_inst_4[['delta_t', 'ref_hash']]\n",
    "t_inst_5 = t_inst_5[['delta_t', 'ref_hash']]"
   ]
  },
  {
   "cell_type": "code",
   "execution_count": 73,
   "metadata": {},
   "outputs": [],
   "source": [
    "t_inst_1 = agregarTiempoPromedio(t_inst_1)\n",
    "t_inst_2 = agregarTiempoPromedio(t_inst_2)\n",
    "t_inst_3 = agregarTiempoPromedio(t_inst_3)\n",
    "t_inst_4 = agregarTiempoPromedio(t_inst_4)\n",
    "t_inst_5 = agregarTiempoPromedio(t_inst_5)"
   ]
  },
  {
   "cell_type": "code",
   "execution_count": 74,
   "metadata": {},
   "outputs": [],
   "source": [
    "t_inst_1 = t_inst_1[t_inst_1.time_diff != 0]\n",
    "t_inst_2 = t_inst_2[t_inst_2.time_diff != 0]\n",
    "t_inst_3 = t_inst_3[t_inst_3.time_diff != 0]\n",
    "t_inst_4 = t_inst_4[t_inst_4.time_diff != 0]\n",
    "t_inst_5 = t_inst_5[t_inst_5.time_diff != 0]"
   ]
  },
  {
   "cell_type": "code",
   "execution_count": 75,
   "metadata": {},
   "outputs": [],
   "source": [
    "t_inst_1 = t_inst_1[['ref_hash','time_diff']].groupby('ref_hash').mean()\n",
    "t_inst_2 = t_inst_2[['ref_hash','time_diff']].groupby('ref_hash').mean()\n",
    "t_inst_3 = t_inst_3[['ref_hash','time_diff']].groupby('ref_hash').mean()\n",
    "t_inst_4 = t_inst_4[['ref_hash','time_diff']].groupby('ref_hash').mean()\n",
    "t_inst_5 = t_inst_5[['ref_hash','time_diff']].groupby('ref_hash').mean()"
   ]
  },
  {
   "cell_type": "code",
   "execution_count": 76,
   "metadata": {},
   "outputs": [],
   "source": [
    "t_inst_1 = t_inst_1.stack().reset_index()\n",
    "t_inst_1 = t_inst_1.drop(columns = ['level_1'])\n",
    "t_inst_2 = t_inst_2.stack().reset_index()\n",
    "t_inst_2 = t_inst_2.drop(columns = ['level_1'])\n",
    "t_inst_3 = t_inst_3.stack().reset_index()\n",
    "t_inst_3 = t_inst_3.drop(columns = ['level_1'])\n",
    "t_inst_4 = t_inst_4.stack().reset_index()\n",
    "t_inst_4 = t_inst_4.drop(columns = ['level_1'])\n",
    "t_inst_5 = t_inst_5.stack().reset_index()\n",
    "t_inst_5 = t_inst_5.drop(columns = ['level_1'])"
   ]
  },
  {
   "cell_type": "code",
   "execution_count": 77,
   "metadata": {},
   "outputs": [],
   "source": [
    "t_inst_1.columns = ['ref_hash', 'tiempo_prom_entre_installs']\n",
    "t_inst_2.columns = ['ref_hash', 'tiempo_prom_entre_installs']\n",
    "t_inst_3.columns = ['ref_hash', 'tiempo_prom_entre_installs']\n",
    "t_inst_4.columns = ['ref_hash', 'tiempo_prom_entre_installs']\n",
    "t_inst_5.columns = ['ref_hash', 'tiempo_prom_entre_installs']"
   ]
  },
  {
   "cell_type": "markdown",
   "metadata": {},
   "source": [
    "### Mergeo lo obtenido"
   ]
  },
  {
   "cell_type": "code",
   "execution_count": 78,
   "metadata": {},
   "outputs": [
    {
     "data": {
      "text/html": [
       "<div>\n",
       "<style scoped>\n",
       "    .dataframe tbody tr th:only-of-type {\n",
       "        vertical-align: middle;\n",
       "    }\n",
       "\n",
       "    .dataframe tbody tr th {\n",
       "        vertical-align: top;\n",
       "    }\n",
       "\n",
       "    .dataframe thead th {\n",
       "        text-align: right;\n",
       "    }\n",
       "</style>\n",
       "<table border=\"1\" class=\"dataframe\">\n",
       "  <thead>\n",
       "    <tr style=\"text-align: right;\">\n",
       "      <th></th>\n",
       "      <th>index</th>\n",
       "      <th>application_id</th>\n",
       "      <th>binwifi</th>\n",
       "      <th>date</th>\n",
       "      <th>device_model</th>\n",
       "      <th>event_id</th>\n",
       "      <th>event_uuid</th>\n",
       "      <th>ins</th>\n",
       "      <th>ref_hash</th>\n",
       "      <th>delta_t</th>\n",
       "      <th>session</th>\n",
       "      <th>sum</th>\n",
       "      <th>delta_t_ins</th>\n",
       "      <th>app</th>\n",
       "      <th>ins_sess</th>\n",
       "      <th>wifi_on_ins</th>\n",
       "      <th>tiempo_prom_entre_installs</th>\n",
       "    </tr>\n",
       "  </thead>\n",
       "  <tbody>\n",
       "    <tr>\n",
       "      <th>0</th>\n",
       "      <td>398921</td>\n",
       "      <td>121</td>\n",
       "      <td>0.0</td>\n",
       "      <td>2019-04-18 21:11:50.326</td>\n",
       "      <td>1.658417e+18</td>\n",
       "      <td>-1</td>\n",
       "      <td>2f8be0cc-297e-4c9c-a097-1096aa5824b5</td>\n",
       "      <td>1</td>\n",
       "      <td>41863526108385</td>\n",
       "      <td>76310.326</td>\n",
       "      <td>0.0</td>\n",
       "      <td>1</td>\n",
       "      <td>76310.326</td>\n",
       "      <td>121.0</td>\n",
       "      <td>0.0</td>\n",
       "      <td>0.0</td>\n",
       "      <td>326.205</td>\n",
       "    </tr>\n",
       "    <tr>\n",
       "      <th>1</th>\n",
       "      <td>3315474</td>\n",
       "      <td>121</td>\n",
       "      <td>0.0</td>\n",
       "      <td>2019-04-18 21:13:05.063</td>\n",
       "      <td>1.658417e+18</td>\n",
       "      <td>106</td>\n",
       "      <td>553003e4-be49-40d2-9e40-dfc22da88057</td>\n",
       "      <td>0</td>\n",
       "      <td>41863526108385</td>\n",
       "      <td>76385.063</td>\n",
       "      <td>0.0</td>\n",
       "      <td>1</td>\n",
       "      <td>NaN</td>\n",
       "      <td>NaN</td>\n",
       "      <td>NaN</td>\n",
       "      <td>NaN</td>\n",
       "      <td>326.205</td>\n",
       "    </tr>\n",
       "    <tr>\n",
       "      <th>2</th>\n",
       "      <td>112200</td>\n",
       "      <td>65</td>\n",
       "      <td>0.0</td>\n",
       "      <td>2019-04-18 21:17:16.531</td>\n",
       "      <td>1.658417e+18</td>\n",
       "      <td>-1</td>\n",
       "      <td>f07fd6db-2f55-4539-b9ab-76f18ff4f51d</td>\n",
       "      <td>1</td>\n",
       "      <td>41863526108385</td>\n",
       "      <td>76636.531</td>\n",
       "      <td>0.0</td>\n",
       "      <td>1</td>\n",
       "      <td>76636.531</td>\n",
       "      <td>65.0</td>\n",
       "      <td>0.0</td>\n",
       "      <td>0.0</td>\n",
       "      <td>326.205</td>\n",
       "    </tr>\n",
       "    <tr>\n",
       "      <th>3</th>\n",
       "      <td>3146626</td>\n",
       "      <td>65</td>\n",
       "      <td>0.0</td>\n",
       "      <td>2019-04-18 21:17:21.831</td>\n",
       "      <td>1.658417e+18</td>\n",
       "      <td>15</td>\n",
       "      <td>b9ca7213-fdc4-4638-9319-111edb95539e</td>\n",
       "      <td>0</td>\n",
       "      <td>41863526108385</td>\n",
       "      <td>76641.831</td>\n",
       "      <td>0.0</td>\n",
       "      <td>1</td>\n",
       "      <td>NaN</td>\n",
       "      <td>NaN</td>\n",
       "      <td>NaN</td>\n",
       "      <td>NaN</td>\n",
       "      <td>326.205</td>\n",
       "    </tr>\n",
       "    <tr>\n",
       "      <th>4</th>\n",
       "      <td>3713263</td>\n",
       "      <td>65</td>\n",
       "      <td>0.0</td>\n",
       "      <td>2019-04-18 21:17:58.316</td>\n",
       "      <td>1.658417e+18</td>\n",
       "      <td>13</td>\n",
       "      <td>9d6c84b4-5ff5-4879-879c-61f32454369d</td>\n",
       "      <td>0</td>\n",
       "      <td>41863526108385</td>\n",
       "      <td>76678.316</td>\n",
       "      <td>0.0</td>\n",
       "      <td>1</td>\n",
       "      <td>NaN</td>\n",
       "      <td>NaN</td>\n",
       "      <td>NaN</td>\n",
       "      <td>NaN</td>\n",
       "      <td>326.205</td>\n",
       "    </tr>\n",
       "  </tbody>\n",
       "</table>\n",
       "</div>"
      ],
      "text/plain": [
       "     index  application_id  binwifi                    date  device_model  \\\n",
       "0   398921             121      0.0 2019-04-18 21:11:50.326  1.658417e+18   \n",
       "1  3315474             121      0.0 2019-04-18 21:13:05.063  1.658417e+18   \n",
       "2   112200              65      0.0 2019-04-18 21:17:16.531  1.658417e+18   \n",
       "3  3146626              65      0.0 2019-04-18 21:17:21.831  1.658417e+18   \n",
       "4  3713263              65      0.0 2019-04-18 21:17:58.316  1.658417e+18   \n",
       "\n",
       "   event_id                            event_uuid  ins        ref_hash  \\\n",
       "0        -1  2f8be0cc-297e-4c9c-a097-1096aa5824b5    1  41863526108385   \n",
       "1       106  553003e4-be49-40d2-9e40-dfc22da88057    0  41863526108385   \n",
       "2        -1  f07fd6db-2f55-4539-b9ab-76f18ff4f51d    1  41863526108385   \n",
       "3        15  b9ca7213-fdc4-4638-9319-111edb95539e    0  41863526108385   \n",
       "4        13  9d6c84b4-5ff5-4879-879c-61f32454369d    0  41863526108385   \n",
       "\n",
       "     delta_t  session  sum  delta_t_ins    app  ins_sess  wifi_on_ins  \\\n",
       "0  76310.326      0.0    1    76310.326  121.0       0.0          0.0   \n",
       "1  76385.063      0.0    1          NaN    NaN       NaN          NaN   \n",
       "2  76636.531      0.0    1    76636.531   65.0       0.0          0.0   \n",
       "3  76641.831      0.0    1          NaN    NaN       NaN          NaN   \n",
       "4  76678.316      0.0    1          NaN    NaN       NaN          NaN   \n",
       "\n",
       "   tiempo_prom_entre_installs  \n",
       "0                     326.205  \n",
       "1                     326.205  \n",
       "2                     326.205  \n",
       "3                     326.205  \n",
       "4                     326.205  "
      ]
     },
     "execution_count": 78,
     "metadata": {},
     "output_type": "execute_result"
    }
   ],
   "source": [
    "insev1 = insev1.merge(t_inst_1, how = 'left')\n",
    "insev2 = insev2.merge(t_inst_2, how = 'left')\n",
    "insev3 = insev3.merge(t_inst_3, how = 'left')\n",
    "insev4 = insev4.merge(t_inst_4, how = 'left')\n",
    "insev5 = insev5.merge(t_inst_5, how = 'left')\n",
    "\n",
    "insev1.head()"
   ]
  },
  {
   "cell_type": "markdown",
   "metadata": {},
   "source": [
    "##### A los registros sin installs le doy un promedio entre installs de 3 dias"
   ]
  },
  {
   "cell_type": "code",
   "execution_count": 79,
   "metadata": {},
   "outputs": [
    {
     "data": {
      "text/html": [
       "<div>\n",
       "<style scoped>\n",
       "    .dataframe tbody tr th:only-of-type {\n",
       "        vertical-align: middle;\n",
       "    }\n",
       "\n",
       "    .dataframe tbody tr th {\n",
       "        vertical-align: top;\n",
       "    }\n",
       "\n",
       "    .dataframe thead th {\n",
       "        text-align: right;\n",
       "    }\n",
       "</style>\n",
       "<table border=\"1\" class=\"dataframe\">\n",
       "  <thead>\n",
       "    <tr style=\"text-align: right;\">\n",
       "      <th></th>\n",
       "      <th>index</th>\n",
       "      <th>application_id</th>\n",
       "      <th>binwifi</th>\n",
       "      <th>date</th>\n",
       "      <th>device_model</th>\n",
       "      <th>event_id</th>\n",
       "      <th>event_uuid</th>\n",
       "      <th>ins</th>\n",
       "      <th>ref_hash</th>\n",
       "      <th>delta_t</th>\n",
       "      <th>session</th>\n",
       "      <th>sum</th>\n",
       "      <th>delta_t_ins</th>\n",
       "      <th>app</th>\n",
       "      <th>ins_sess</th>\n",
       "      <th>wifi_on_ins</th>\n",
       "      <th>tiempo_prom_entre_installs</th>\n",
       "      <th>tiempo_prom_entre_intalls</th>\n",
       "    </tr>\n",
       "  </thead>\n",
       "  <tbody>\n",
       "    <tr>\n",
       "      <th>0</th>\n",
       "      <td>2190853</td>\n",
       "      <td>77</td>\n",
       "      <td>0.0</td>\n",
       "      <td>2019-04-23 15:01:20.504</td>\n",
       "      <td>2.019322e+18</td>\n",
       "      <td>7</td>\n",
       "      <td>cd2ed243-9e02-4620-9c6d-cea63b97e37b</td>\n",
       "      <td>0</td>\n",
       "      <td>40621409780134</td>\n",
       "      <td>140480.504</td>\n",
       "      <td>0.0</td>\n",
       "      <td>1</td>\n",
       "      <td>NaN</td>\n",
       "      <td>NaN</td>\n",
       "      <td>NaN</td>\n",
       "      <td>NaN</td>\n",
       "      <td>NaN</td>\n",
       "      <td>259200.0</td>\n",
       "    </tr>\n",
       "    <tr>\n",
       "      <th>1</th>\n",
       "      <td>2190668</td>\n",
       "      <td>77</td>\n",
       "      <td>0.0</td>\n",
       "      <td>2019-04-23 15:01:35.855</td>\n",
       "      <td>2.019322e+18</td>\n",
       "      <td>364</td>\n",
       "      <td>cf8e678c-4321-45d1-a1ab-31ec717907e6</td>\n",
       "      <td>0</td>\n",
       "      <td>40621409780134</td>\n",
       "      <td>140495.855</td>\n",
       "      <td>0.0</td>\n",
       "      <td>1</td>\n",
       "      <td>NaN</td>\n",
       "      <td>NaN</td>\n",
       "      <td>NaN</td>\n",
       "      <td>NaN</td>\n",
       "      <td>NaN</td>\n",
       "      <td>259200.0</td>\n",
       "    </tr>\n",
       "    <tr>\n",
       "      <th>2</th>\n",
       "      <td>2190580</td>\n",
       "      <td>77</td>\n",
       "      <td>0.0</td>\n",
       "      <td>2019-04-23 15:02:00.589</td>\n",
       "      <td>2.019322e+18</td>\n",
       "      <td>363</td>\n",
       "      <td>29588999-39c0-40e4-a2ae-c8c138535e68</td>\n",
       "      <td>0</td>\n",
       "      <td>40621409780134</td>\n",
       "      <td>140520.589</td>\n",
       "      <td>0.0</td>\n",
       "      <td>1</td>\n",
       "      <td>NaN</td>\n",
       "      <td>NaN</td>\n",
       "      <td>NaN</td>\n",
       "      <td>NaN</td>\n",
       "      <td>NaN</td>\n",
       "      <td>259200.0</td>\n",
       "    </tr>\n",
       "    <tr>\n",
       "      <th>3</th>\n",
       "      <td>7727097</td>\n",
       "      <td>226</td>\n",
       "      <td>1.0</td>\n",
       "      <td>2019-04-23 17:32:16.586</td>\n",
       "      <td>7.403565e+18</td>\n",
       "      <td>15</td>\n",
       "      <td>81e366b6-1440-4c42-8ba4-e363198bd3b8</td>\n",
       "      <td>0</td>\n",
       "      <td>69039685746313</td>\n",
       "      <td>149536.586</td>\n",
       "      <td>0.0</td>\n",
       "      <td>1</td>\n",
       "      <td>NaN</td>\n",
       "      <td>NaN</td>\n",
       "      <td>NaN</td>\n",
       "      <td>NaN</td>\n",
       "      <td>NaN</td>\n",
       "      <td>259200.0</td>\n",
       "    </tr>\n",
       "    <tr>\n",
       "      <th>4</th>\n",
       "      <td>7690417</td>\n",
       "      <td>226</td>\n",
       "      <td>1.0</td>\n",
       "      <td>2019-04-23 17:32:16.784</td>\n",
       "      <td>7.403565e+18</td>\n",
       "      <td>287</td>\n",
       "      <td>0694da9b-0427-46de-87e5-d4261bbcaa41</td>\n",
       "      <td>0</td>\n",
       "      <td>69039685746313</td>\n",
       "      <td>149536.784</td>\n",
       "      <td>0.0</td>\n",
       "      <td>1</td>\n",
       "      <td>NaN</td>\n",
       "      <td>NaN</td>\n",
       "      <td>NaN</td>\n",
       "      <td>NaN</td>\n",
       "      <td>NaN</td>\n",
       "      <td>259200.0</td>\n",
       "    </tr>\n",
       "  </tbody>\n",
       "</table>\n",
       "</div>"
      ],
      "text/plain": [
       "     index  application_id  binwifi                    date  device_model  \\\n",
       "0  2190853              77      0.0 2019-04-23 15:01:20.504  2.019322e+18   \n",
       "1  2190668              77      0.0 2019-04-23 15:01:35.855  2.019322e+18   \n",
       "2  2190580              77      0.0 2019-04-23 15:02:00.589  2.019322e+18   \n",
       "3  7727097             226      1.0 2019-04-23 17:32:16.586  7.403565e+18   \n",
       "4  7690417             226      1.0 2019-04-23 17:32:16.784  7.403565e+18   \n",
       "\n",
       "   event_id                            event_uuid  ins        ref_hash  \\\n",
       "0         7  cd2ed243-9e02-4620-9c6d-cea63b97e37b    0  40621409780134   \n",
       "1       364  cf8e678c-4321-45d1-a1ab-31ec717907e6    0  40621409780134   \n",
       "2       363  29588999-39c0-40e4-a2ae-c8c138535e68    0  40621409780134   \n",
       "3        15  81e366b6-1440-4c42-8ba4-e363198bd3b8    0  69039685746313   \n",
       "4       287  0694da9b-0427-46de-87e5-d4261bbcaa41    0  69039685746313   \n",
       "\n",
       "      delta_t  session  sum  delta_t_ins  app  ins_sess  wifi_on_ins  \\\n",
       "0  140480.504      0.0    1          NaN  NaN       NaN          NaN   \n",
       "1  140495.855      0.0    1          NaN  NaN       NaN          NaN   \n",
       "2  140520.589      0.0    1          NaN  NaN       NaN          NaN   \n",
       "3  149536.586      0.0    1          NaN  NaN       NaN          NaN   \n",
       "4  149536.784      0.0    1          NaN  NaN       NaN          NaN   \n",
       "\n",
       "   tiempo_prom_entre_installs  tiempo_prom_entre_intalls  \n",
       "0                         NaN                   259200.0  \n",
       "1                         NaN                   259200.0  \n",
       "2                         NaN                   259200.0  \n",
       "3                         NaN                   259200.0  \n",
       "4                         NaN                   259200.0  "
      ]
     },
     "execution_count": 79,
     "metadata": {},
     "output_type": "execute_result"
    }
   ],
   "source": [
    "insev1.loc[insev1.ins == 0, 'tiempo_prom_entre_intalls'] = 259200\n",
    "insev2.loc[insev2.ins == 0, 'tiempo_prom_entre_intalls'] = 259200\n",
    "insev3.loc[insev3.ins == 0, 'tiempo_prom_entre_intalls'] = 259200\n",
    "insev4.loc[insev4.ins == 0, 'tiempo_prom_entre_intalls'] = 259200\n",
    "insev5.loc[insev5.ins == 0, 'tiempo_prom_entre_intalls'] = 259200\n",
    "\n",
    "insev5.head()"
   ]
  },
  {
   "cell_type": "code",
   "execution_count": null,
   "metadata": {},
   "outputs": [],
   "source": []
  },
  {
   "cell_type": "markdown",
   "metadata": {},
   "source": [
    "### Agrupo y emprolijo los features"
   ]
  },
  {
   "cell_type": "code",
   "execution_count": 111,
   "metadata": {},
   "outputs": [],
   "source": [
    "g_insev1 = insev1.groupby('ref_hash')\\\n",
    "               .agg({'session':'max','sum':'sum','ins':'sum','delta_t_ins':['min','mean'],'tiempo_prom_entre_installs':'min','wifi_on_ins':'mean'})\n",
    "g_insev2 = insev2.groupby('ref_hash')\\\n",
    "               .agg({'session':'max','sum':'sum','ins':'sum','delta_t_ins':['min','mean'],'tiempo_prom_entre_installs':'max','wifi_on_ins':'mean'})\n",
    "g_insev3 = insev3.groupby('ref_hash')\\\n",
    "               .agg({'session':'max','sum':'sum','ins':'sum','delta_t_ins':['min','mean'],'tiempo_prom_entre_installs':'max','wifi_on_ins':'mean'})\n",
    "g_insev4 = insev4.groupby('ref_hash')\\\n",
    "               .agg({'session':'max','sum':'sum','ins':'sum','delta_t_ins':['min','mean'],'tiempo_prom_entre_installs':'max','wifi_on_ins':'mean'})\n",
    "g_insev5 = insev5.groupby('ref_hash')\\\n",
    "               .agg({'session':'max','sum':'sum','ins':'sum','delta_t_ins':['min','mean'],'tiempo_prom_entre_installs':'max','wifi_on_ins':'mean'})"
   ]
  },
  {
   "cell_type": "code",
   "execution_count": 112,
   "metadata": {},
   "outputs": [],
   "source": [
    "g_insev1.columns = ['cant_sess','cant_ev','cant_ins','t_1er_ins','t_prom_ins','t_prom_entre_ins','prop_wifi_ins']\n",
    "g_insev2.columns = ['cant_sess','cant_ev','cant_ins','t_1er_ins','t_prom_ins','t_prom_entre_ins','prop_wifi_ins']\n",
    "g_insev3.columns = ['cant_sess','cant_ev','cant_ins','t_1er_ins','t_prom_ins','t_prom_entre_ins','prop_wifi_ins']\n",
    "g_insev4.columns = ['cant_sess','cant_ev','cant_ins','t_1er_ins','t_prom_ins','t_prom_entre_ins','prop_wifi_ins']\n",
    "g_insev5.columns = ['cant_sess','cant_ev','cant_ins','t_1er_ins','t_prom_ins','t_prom_entre_ins','prop_wifi_ins']"
   ]
  },
  {
   "cell_type": "code",
   "execution_count": 113,
   "metadata": {},
   "outputs": [],
   "source": [
    "g_insev1.t_1er_ins.fillna(value=259200,inplace=True)\n",
    "g_insev1.t_prom_ins.fillna(value=259200,inplace=True)\n",
    "g_insev1.t_prom_entre_ins.fillna(value=259200,inplace=True)\n",
    "g_insev1.prop_wifi_ins.fillna(value=0,inplace=True)\n",
    "\n",
    "g_insev2.t_1er_ins.fillna(value=259200,inplace=True)\n",
    "g_insev2.t_prom_ins.fillna(value=259200,inplace=True)\n",
    "g_insev2.t_prom_entre_ins.fillna(value=259200,inplace=True)\n",
    "g_insev2.prop_wifi_ins.fillna(value=0,inplace=True)\n",
    "\n",
    "g_insev3.t_1er_ins.fillna(value=259200,inplace=True)\n",
    "g_insev3.t_prom_ins.fillna(value=259200,inplace=True)\n",
    "g_insev3.t_prom_entre_ins.fillna(value=259200,inplace=True)\n",
    "g_insev3.prop_wifi_ins.fillna(value=0,inplace=True)\n",
    "\n",
    "g_insev4.t_1er_ins.fillna(value=259200,inplace=True)\n",
    "g_insev4.t_prom_ins.fillna(value=259200,inplace=True)\n",
    "g_insev4.t_prom_entre_ins.fillna(value=259200,inplace=True)\n",
    "g_insev4.prop_wifi_ins.fillna(value=0,inplace=True)\n",
    "\n",
    "g_insev5.t_1er_ins.fillna(value=259200,inplace=True)\n",
    "g_insev5.t_prom_ins.fillna(value=259200,inplace=True)\n",
    "g_insev5.t_prom_entre_ins.fillna(value=259200,inplace=True)\n",
    "g_insev5.prop_wifi_ins.fillna(value=0,inplace=True)\n"
   ]
  },
  {
   "cell_type": "code",
   "execution_count": 114,
   "metadata": {},
   "outputs": [
    {
     "name": "stdout",
     "output_type": "stream",
     "text": [
      "<class 'pandas.core.frame.DataFrame'>\n",
      "Int64Index: 165213 entries, 41863526108385 to 9223314893254762361\n",
      "Data columns (total 7 columns):\n",
      "cant_sess           165213 non-null int64\n",
      "cant_ev             165213 non-null int64\n",
      "cant_ins            165213 non-null int64\n",
      "t_1er_ins           165213 non-null int64\n",
      "t_prom_ins          165213 non-null int64\n",
      "t_prom_entre_ins    165213 non-null int64\n",
      "prop_wifi_ins       165213 non-null int64\n",
      "dtypes: int64(7)\n",
      "memory usage: 10.1 MB\n"
     ]
    }
   ],
   "source": [
    "g_insev1.cant_sess = g_insev1['cant_sess'].astype(np.int64)\n",
    "g_insev1.t_1er_ins = g_insev1['t_1er_ins'].astype(np.int64)\n",
    "g_insev1.t_prom_ins = g_insev1['t_prom_ins'].astype(np.int64)\n",
    "g_insev1.t_prom_entre_ins = g_insev1['t_prom_entre_ins'].astype(np.int64)\n",
    "g_insev1.prop_wifi_ins = (g_insev1['prop_wifi_ins']*100).astype(np.int64)\n",
    "g_insev1.info()"
   ]
  },
  {
   "cell_type": "code",
   "execution_count": 115,
   "metadata": {},
   "outputs": [
    {
     "data": {
      "text/html": [
       "<div>\n",
       "<style scoped>\n",
       "    .dataframe tbody tr th:only-of-type {\n",
       "        vertical-align: middle;\n",
       "    }\n",
       "\n",
       "    .dataframe tbody tr th {\n",
       "        vertical-align: top;\n",
       "    }\n",
       "\n",
       "    .dataframe thead th {\n",
       "        text-align: right;\n",
       "    }\n",
       "</style>\n",
       "<table border=\"1\" class=\"dataframe\">\n",
       "  <thead>\n",
       "    <tr style=\"text-align: right;\">\n",
       "      <th></th>\n",
       "      <th>cant_sess</th>\n",
       "      <th>cant_ev</th>\n",
       "      <th>cant_ins</th>\n",
       "      <th>t_1er_ins</th>\n",
       "      <th>t_prom_ins</th>\n",
       "      <th>t_prom_entre_ins</th>\n",
       "      <th>prop_wifi_ins</th>\n",
       "    </tr>\n",
       "    <tr>\n",
       "      <th>ref_hash</th>\n",
       "      <th></th>\n",
       "      <th></th>\n",
       "      <th></th>\n",
       "      <th></th>\n",
       "      <th></th>\n",
       "      <th></th>\n",
       "      <th></th>\n",
       "    </tr>\n",
       "  </thead>\n",
       "  <tbody>\n",
       "    <tr>\n",
       "      <th>41863526108385</th>\n",
       "      <td>0</td>\n",
       "      <td>88</td>\n",
       "      <td>2</td>\n",
       "      <td>76310</td>\n",
       "      <td>76473</td>\n",
       "      <td>326</td>\n",
       "      <td>0</td>\n",
       "    </tr>\n",
       "    <tr>\n",
       "      <th>161514654074162</th>\n",
       "      <td>0</td>\n",
       "      <td>8</td>\n",
       "      <td>0</td>\n",
       "      <td>259200</td>\n",
       "      <td>259200</td>\n",
       "      <td>259200</td>\n",
       "      <td>0</td>\n",
       "    </tr>\n",
       "    <tr>\n",
       "      <th>186034136943920</th>\n",
       "      <td>0</td>\n",
       "      <td>13</td>\n",
       "      <td>1</td>\n",
       "      <td>60042</td>\n",
       "      <td>60042</td>\n",
       "      <td>60042</td>\n",
       "      <td>70</td>\n",
       "    </tr>\n",
       "    <tr>\n",
       "      <th>360710529886978</th>\n",
       "      <td>0</td>\n",
       "      <td>3</td>\n",
       "      <td>0</td>\n",
       "      <td>259200</td>\n",
       "      <td>259200</td>\n",
       "      <td>259200</td>\n",
       "      <td>0</td>\n",
       "    </tr>\n",
       "    <tr>\n",
       "      <th>365882020742330</th>\n",
       "      <td>0</td>\n",
       "      <td>57</td>\n",
       "      <td>0</td>\n",
       "      <td>259200</td>\n",
       "      <td>259200</td>\n",
       "      <td>259200</td>\n",
       "      <td>0</td>\n",
       "    </tr>\n",
       "  </tbody>\n",
       "</table>\n",
       "</div>"
      ],
      "text/plain": [
       "                 cant_sess  cant_ev  cant_ins  t_1er_ins  t_prom_ins  \\\n",
       "ref_hash                                                               \n",
       "41863526108385           0       88         2      76310       76473   \n",
       "161514654074162          0        8         0     259200      259200   \n",
       "186034136943920          0       13         1      60042       60042   \n",
       "360710529886978          0        3         0     259200      259200   \n",
       "365882020742330          0       57         0     259200      259200   \n",
       "\n",
       "                 t_prom_entre_ins  prop_wifi_ins  \n",
       "ref_hash                                          \n",
       "41863526108385                326              0  \n",
       "161514654074162            259200              0  \n",
       "186034136943920             60042             70  \n",
       "360710529886978            259200              0  \n",
       "365882020742330            259200              0  "
      ]
     },
     "execution_count": 115,
     "metadata": {},
     "output_type": "execute_result"
    }
   ],
   "source": [
    "g_insev1.head()"
   ]
  },
  {
   "cell_type": "markdown",
   "metadata": {},
   "source": [
    "### Creo arrays para regresion lineal"
   ]
  },
  {
   "cell_type": "code",
   "execution_count": 116,
   "metadata": {},
   "outputs": [],
   "source": [
    "array_insev1 = insev1.values\n",
    "array_insev2 = insev2.values\n",
    "array_insev3 = insev3.values\n",
    "array_insev4 = insev4.values\n",
    "array_insev5 = insev5.values"
   ]
  },
  {
   "cell_type": "code",
   "execution_count": 117,
   "metadata": {},
   "outputs": [],
   "source": [
    "X_insev1 = array_insev1[:, :-1]\n",
    "y_insev1 = array_insev1[:, -1]\n",
    "X_insev2 = array_insev2[:, :-1]\n",
    "y_insev2 = array_insev2[:, -1]\n",
    "X_insev3 = array_insev3[:, :-1]\n",
    "y_insev3 = array_insev3[:, -1]\n",
    "X_insev4 = array_insev4[:, :-1]\n",
    "y_insev4 = array_insev4[:, -1]\n",
    "X_insev5 = array_insev5[:, :-1]\n",
    "y_insev5 = array_insev5[:, -1]\n"
   ]
  },
  {
   "cell_type": "code",
   "execution_count": 124,
   "metadata": {},
   "outputs": [
    {
     "data": {
      "text/plain": [
       "array([    nan, 259200.,     nan, ..., 259200., 259200., 259200.])"
      ]
     },
     "execution_count": 124,
     "metadata": {},
     "output_type": "execute_result"
    }
   ],
   "source": [
    "y_insev1"
   ]
  },
  {
   "cell_type": "markdown",
   "metadata": {},
   "source": [
    "### Hago el fit"
   ]
  },
  {
   "cell_type": "code",
   "execution_count": 119,
   "metadata": {},
   "outputs": [
    {
     "ename": "ValueError",
     "evalue": "Input contains NaN, infinity or a value too large for dtype('float64').",
     "output_type": "error",
     "traceback": [
      "\u001b[1;31m---------------------------------------------------------------------------\u001b[0m",
      "\u001b[1;31mValueError\u001b[0m                                Traceback (most recent call last)",
      "\u001b[1;32m<ipython-input-119-60c756b6e66b>\u001b[0m in \u001b[0;36m<module>\u001b[1;34m\u001b[0m\n\u001b[1;32m----> 1\u001b[1;33m \u001b[0mreg_insev1\u001b[0m \u001b[1;33m=\u001b[0m \u001b[0mLinearRegression\u001b[0m\u001b[1;33m(\u001b[0m\u001b[1;33m)\u001b[0m\u001b[1;33m.\u001b[0m\u001b[0mfit\u001b[0m\u001b[1;33m(\u001b[0m\u001b[0mX_insev1\u001b[0m\u001b[1;33m,\u001b[0m \u001b[0my_insev1\u001b[0m\u001b[1;33m)\u001b[0m\u001b[1;33m\u001b[0m\u001b[1;33m\u001b[0m\u001b[0m\n\u001b[0m\u001b[0;32m      2\u001b[0m \u001b[0mreg_insev2\u001b[0m \u001b[1;33m=\u001b[0m \u001b[0mLinearRegression\u001b[0m\u001b[1;33m(\u001b[0m\u001b[1;33m)\u001b[0m\u001b[1;33m.\u001b[0m\u001b[0mfit\u001b[0m\u001b[1;33m(\u001b[0m\u001b[0mX_insev2\u001b[0m\u001b[1;33m,\u001b[0m \u001b[0my_insev2\u001b[0m\u001b[1;33m)\u001b[0m\u001b[1;33m\u001b[0m\u001b[1;33m\u001b[0m\u001b[0m\n\u001b[0;32m      3\u001b[0m \u001b[0mreg_insev3\u001b[0m \u001b[1;33m=\u001b[0m \u001b[0mLinearRegression\u001b[0m\u001b[1;33m(\u001b[0m\u001b[1;33m)\u001b[0m\u001b[1;33m.\u001b[0m\u001b[0mfit\u001b[0m\u001b[1;33m(\u001b[0m\u001b[0mX_insev3\u001b[0m\u001b[1;33m,\u001b[0m \u001b[0my_insev3\u001b[0m\u001b[1;33m)\u001b[0m\u001b[1;33m\u001b[0m\u001b[1;33m\u001b[0m\u001b[0m\n\u001b[0;32m      4\u001b[0m \u001b[0mreg_insev4\u001b[0m \u001b[1;33m=\u001b[0m \u001b[0mLinearRegression\u001b[0m\u001b[1;33m(\u001b[0m\u001b[1;33m)\u001b[0m\u001b[1;33m.\u001b[0m\u001b[0mfit\u001b[0m\u001b[1;33m(\u001b[0m\u001b[0mX_insev4\u001b[0m\u001b[1;33m,\u001b[0m \u001b[0my_insev4\u001b[0m\u001b[1;33m)\u001b[0m\u001b[1;33m\u001b[0m\u001b[1;33m\u001b[0m\u001b[0m\n\u001b[0;32m      5\u001b[0m \u001b[0mreg_insev5\u001b[0m \u001b[1;33m=\u001b[0m \u001b[0mLinearRegression\u001b[0m\u001b[1;33m(\u001b[0m\u001b[1;33m)\u001b[0m\u001b[1;33m.\u001b[0m\u001b[0mfit\u001b[0m\u001b[1;33m(\u001b[0m\u001b[0mX_insev5\u001b[0m\u001b[1;33m,\u001b[0m \u001b[0my_insev5\u001b[0m\u001b[1;33m)\u001b[0m\u001b[1;33m\u001b[0m\u001b[1;33m\u001b[0m\u001b[0m\n",
      "\u001b[1;32mC:\\ProgramData\\Anaconda3\\lib\\site-packages\\sklearn\\linear_model\\base.py\u001b[0m in \u001b[0;36mfit\u001b[1;34m(self, X, y, sample_weight)\u001b[0m\n\u001b[0;32m    456\u001b[0m         \u001b[0mn_jobs_\u001b[0m \u001b[1;33m=\u001b[0m \u001b[0mself\u001b[0m\u001b[1;33m.\u001b[0m\u001b[0mn_jobs\u001b[0m\u001b[1;33m\u001b[0m\u001b[1;33m\u001b[0m\u001b[0m\n\u001b[0;32m    457\u001b[0m         X, y = check_X_y(X, y, accept_sparse=['csr', 'csc', 'coo'],\n\u001b[1;32m--> 458\u001b[1;33m                          y_numeric=True, multi_output=True)\n\u001b[0m\u001b[0;32m    459\u001b[0m \u001b[1;33m\u001b[0m\u001b[0m\n\u001b[0;32m    460\u001b[0m         \u001b[1;32mif\u001b[0m \u001b[0msample_weight\u001b[0m \u001b[1;32mis\u001b[0m \u001b[1;32mnot\u001b[0m \u001b[1;32mNone\u001b[0m \u001b[1;32mand\u001b[0m \u001b[0mnp\u001b[0m\u001b[1;33m.\u001b[0m\u001b[0matleast_1d\u001b[0m\u001b[1;33m(\u001b[0m\u001b[0msample_weight\u001b[0m\u001b[1;33m)\u001b[0m\u001b[1;33m.\u001b[0m\u001b[0mndim\u001b[0m \u001b[1;33m>\u001b[0m \u001b[1;36m1\u001b[0m\u001b[1;33m:\u001b[0m\u001b[1;33m\u001b[0m\u001b[1;33m\u001b[0m\u001b[0m\n",
      "\u001b[1;32mC:\\ProgramData\\Anaconda3\\lib\\site-packages\\sklearn\\utils\\validation.py\u001b[0m in \u001b[0;36mcheck_X_y\u001b[1;34m(X, y, accept_sparse, accept_large_sparse, dtype, order, copy, force_all_finite, ensure_2d, allow_nd, multi_output, ensure_min_samples, ensure_min_features, y_numeric, warn_on_dtype, estimator)\u001b[0m\n\u001b[0;32m    754\u001b[0m                     \u001b[0mensure_min_features\u001b[0m\u001b[1;33m=\u001b[0m\u001b[0mensure_min_features\u001b[0m\u001b[1;33m,\u001b[0m\u001b[1;33m\u001b[0m\u001b[1;33m\u001b[0m\u001b[0m\n\u001b[0;32m    755\u001b[0m                     \u001b[0mwarn_on_dtype\u001b[0m\u001b[1;33m=\u001b[0m\u001b[0mwarn_on_dtype\u001b[0m\u001b[1;33m,\u001b[0m\u001b[1;33m\u001b[0m\u001b[1;33m\u001b[0m\u001b[0m\n\u001b[1;32m--> 756\u001b[1;33m                     estimator=estimator)\n\u001b[0m\u001b[0;32m    757\u001b[0m     \u001b[1;32mif\u001b[0m \u001b[0mmulti_output\u001b[0m\u001b[1;33m:\u001b[0m\u001b[1;33m\u001b[0m\u001b[1;33m\u001b[0m\u001b[0m\n\u001b[0;32m    758\u001b[0m         y = check_array(y, 'csr', force_all_finite=True, ensure_2d=False,\n",
      "\u001b[1;32mC:\\ProgramData\\Anaconda3\\lib\\site-packages\\sklearn\\utils\\validation.py\u001b[0m in \u001b[0;36mcheck_array\u001b[1;34m(array, accept_sparse, accept_large_sparse, dtype, order, copy, force_all_finite, ensure_2d, allow_nd, ensure_min_samples, ensure_min_features, warn_on_dtype, estimator)\u001b[0m\n\u001b[0;32m    571\u001b[0m         \u001b[1;32mif\u001b[0m \u001b[0mforce_all_finite\u001b[0m\u001b[1;33m:\u001b[0m\u001b[1;33m\u001b[0m\u001b[1;33m\u001b[0m\u001b[0m\n\u001b[0;32m    572\u001b[0m             _assert_all_finite(array,\n\u001b[1;32m--> 573\u001b[1;33m                                allow_nan=force_all_finite == 'allow-nan')\n\u001b[0m\u001b[0;32m    574\u001b[0m \u001b[1;33m\u001b[0m\u001b[0m\n\u001b[0;32m    575\u001b[0m     \u001b[0mshape_repr\u001b[0m \u001b[1;33m=\u001b[0m \u001b[0m_shape_repr\u001b[0m\u001b[1;33m(\u001b[0m\u001b[0marray\u001b[0m\u001b[1;33m.\u001b[0m\u001b[0mshape\u001b[0m\u001b[1;33m)\u001b[0m\u001b[1;33m\u001b[0m\u001b[1;33m\u001b[0m\u001b[0m\n",
      "\u001b[1;32mC:\\ProgramData\\Anaconda3\\lib\\site-packages\\sklearn\\utils\\validation.py\u001b[0m in \u001b[0;36m_assert_all_finite\u001b[1;34m(X, allow_nan)\u001b[0m\n\u001b[0;32m     54\u001b[0m                 not allow_nan and not np.isfinite(X).all()):\n\u001b[0;32m     55\u001b[0m             \u001b[0mtype_err\u001b[0m \u001b[1;33m=\u001b[0m \u001b[1;34m'infinity'\u001b[0m \u001b[1;32mif\u001b[0m \u001b[0mallow_nan\u001b[0m \u001b[1;32melse\u001b[0m \u001b[1;34m'NaN, infinity'\u001b[0m\u001b[1;33m\u001b[0m\u001b[1;33m\u001b[0m\u001b[0m\n\u001b[1;32m---> 56\u001b[1;33m             \u001b[1;32mraise\u001b[0m \u001b[0mValueError\u001b[0m\u001b[1;33m(\u001b[0m\u001b[0mmsg_err\u001b[0m\u001b[1;33m.\u001b[0m\u001b[0mformat\u001b[0m\u001b[1;33m(\u001b[0m\u001b[0mtype_err\u001b[0m\u001b[1;33m,\u001b[0m \u001b[0mX\u001b[0m\u001b[1;33m.\u001b[0m\u001b[0mdtype\u001b[0m\u001b[1;33m)\u001b[0m\u001b[1;33m)\u001b[0m\u001b[1;33m\u001b[0m\u001b[1;33m\u001b[0m\u001b[0m\n\u001b[0m\u001b[0;32m     57\u001b[0m \u001b[1;33m\u001b[0m\u001b[0m\n\u001b[0;32m     58\u001b[0m \u001b[1;33m\u001b[0m\u001b[0m\n",
      "\u001b[1;31mValueError\u001b[0m: Input contains NaN, infinity or a value too large for dtype('float64')."
     ]
    }
   ],
   "source": [
    "reg_insev1 = LinearRegression().fit(X_insev1, y_insev1)\n",
    "reg_insev2 = LinearRegression().fit(X_insev2, y_insev2)\n",
    "reg_insev3 = LinearRegression().fit(X_insev3, y_insev3)\n",
    "reg_insev4 = LinearRegression().fit(X_insev4, y_insev4)\n",
    "reg_insev5 = LinearRegression().fit(X_insev5, y_insev5)"
   ]
  },
  {
   "cell_type": "markdown",
   "metadata": {},
   "source": [
    "### Obtengo Score"
   ]
  },
  {
   "cell_type": "code",
   "execution_count": 73,
   "metadata": {},
   "outputs": [],
   "source": [
    "reg_insev1.score(X_insev1, y_insev1)"
   ]
  },
  {
   "cell_type": "code",
   "execution_count": 76,
   "metadata": {},
   "outputs": [],
   "source": [
    "reg_insev1.coef_"
   ]
  },
  {
   "cell_type": "code",
   "execution_count": 98,
   "metadata": {
    "scrolled": true
   },
   "outputs": [
    {
     "data": {
      "text/plain": [
       "array([-5.85696566e+00, -1.41389940e+01, -3.73757482e+03,  9.33396781e-01])"
      ]
     },
     "execution_count": 98,
     "metadata": {},
     "output_type": "execute_result"
    }
   ],
   "source": [
    "reg_insev2.coef_"
   ]
  },
  {
   "cell_type": "markdown",
   "metadata": {},
   "source": [
    "### En esa regresión, se da mucha importancia al feature 3, es decir la cantidad de installs."
   ]
  },
  {
   "cell_type": "code",
   "execution_count": 80,
   "metadata": {},
   "outputs": [],
   "source": [
    "#prediccion_insev1_en2 = reg_insev1.predict(X_insev2)"
   ]
  },
  {
   "cell_type": "code",
   "execution_count": 102,
   "metadata": {},
   "outputs": [],
   "source": [
    "scoresSobreVentanaSiguiente = [reg_insev1.score(X_insev2, y_insev2),\\\n",
    "                               reg_insev2.score(X_insev3, y_insev3),\\\n",
    "                               reg_insev3.score(X_insev4, y_insev4),\\\n",
    "                               reg_insev4.score(X_insev5, y_insev5)]"
   ]
  },
  {
   "cell_type": "code",
   "execution_count": 103,
   "metadata": {},
   "outputs": [
    {
     "data": {
      "text/plain": [
       "[0.9020125359249261, 0.9063672310274357, 0.919034337499054, 0.9191289490852438]"
      ]
     },
     "execution_count": 103,
     "metadata": {},
     "output_type": "execute_result"
    }
   ],
   "source": [
    "scoresSobreVentanaSiguiente"
   ]
  },
  {
   "cell_type": "markdown",
   "metadata": {},
   "source": [
    "## Con XGBoost"
   ]
  },
  {
   "cell_type": "code",
   "execution_count": 104,
   "metadata": {},
   "outputs": [],
   "source": [
    "xgb_insev1 = xgboost.XGBRegressor(n_estimators=100, learning_rate=0.08, gamma=0, subsample=0.75,\n",
    "                           colsample_bytree=1, max_depth=7, objective='reg:squarederror')\n",
    "xgb_insev2 = xgboost.XGBRegressor(n_estimators=100, learning_rate=0.08, gamma=0, subsample=0.75,\n",
    "                           colsample_bytree=1, max_depth=7, objective='reg:squarederror')\n",
    "xgb_insev3 = xgboost.XGBRegressor(n_estimators=100, learning_rate=0.08, gamma=0, subsample=0.75,\n",
    "                           colsample_bytree=1, max_depth=7, objective='reg:squarederror')\n",
    "xgb_insev4 = xgboost.XGBRegressor(n_estimators=100, learning_rate=0.08, gamma=0, subsample=0.75,\n",
    "                           colsample_bytree=1, max_depth=7, objective='reg:squarederror')\n",
    "xgb_insev5 = xgboost.XGBRegressor(n_estimators=100, learning_rate=0.08, gamma=0, subsample=0.75,\n",
    "                           colsample_bytree=1, max_depth=7, objective='reg:squarederror')"
   ]
  },
  {
   "cell_type": "code",
   "execution_count": 105,
   "metadata": {},
   "outputs": [
    {
     "data": {
      "text/plain": [
       "XGBRegressor(base_score=0.5, booster='gbtree', colsample_bylevel=1,\n",
       "       colsample_bynode=1, colsample_bytree=1, gamma=0,\n",
       "       importance_type='gain', learning_rate=0.08, max_delta_step=0,\n",
       "       max_depth=7, min_child_weight=1, missing=None, n_estimators=100,\n",
       "       n_jobs=1, nthread=None, objective='reg:squarederror',\n",
       "       random_state=0, reg_alpha=0, reg_lambda=1, scale_pos_weight=1,\n",
       "       seed=None, silent=None, subsample=0.75, verbosity=1)"
      ]
     },
     "execution_count": 105,
     "metadata": {},
     "output_type": "execute_result"
    }
   ],
   "source": [
    "xgb_insev1.fit(X_insev1, y_insev1)\n",
    "xgb_insev2.fit(X_insev2, y_insev2)\n",
    "xgb_insev3.fit(X_insev3, y_insev3)\n",
    "xgb_insev4.fit(X_insev4, y_insev4)\n",
    "xgb_insev5.fit(X_insev5, y_insev5)"
   ]
  },
  {
   "cell_type": "code",
   "execution_count": 106,
   "metadata": {},
   "outputs": [],
   "source": [
    "predict1_2 = xgb_insev1.predict(X_insev2)\n",
    "predict2_3 = xgb_insev2.predict(X_insev3)\n",
    "predict3_4 = xgb_insev3.predict(X_insev4)\n",
    "predict4_5 = xgb_insev4.predict(X_insev5)"
   ]
  },
  {
   "cell_type": "code",
   "execution_count": 107,
   "metadata": {},
   "outputs": [],
   "source": [
    "xgbScoresSobreVentanaSiguiente = [explained_variance_score(predict1_2,y_insev2),\\\n",
    "                                  explained_variance_score(predict2_3,y_insev3),\\\n",
    "                                  explained_variance_score(predict3_4,y_insev4),\\\n",
    "                                  explained_variance_score(predict4_5,y_insev5)]\n"
   ]
  },
  {
   "cell_type": "code",
   "execution_count": 94,
   "metadata": {},
   "outputs": [
    {
     "name": "stdout",
     "output_type": "stream",
     "text": [
      "0.9674227884767749\n"
     ]
    }
   ],
   "source": [
    "#print(explained_variance_score(predictVentanaUnoSelf,y_insev1))"
   ]
  },
  {
   "cell_type": "code",
   "execution_count": 108,
   "metadata": {},
   "outputs": [
    {
     "data": {
      "text/plain": [
       "[0.950279878779768, 0.9527291356692622, 0.9530554877670591, 0.967660875441266]"
      ]
     },
     "execution_count": 108,
     "metadata": {},
     "output_type": "execute_result"
    }
   ],
   "source": [
    "xgbScoresSobreVentanaSiguiente"
   ]
  },
  {
   "cell_type": "markdown",
   "metadata": {},
   "source": [
    "### TODO LO SIGUIENTE NO LO TOQUE, esta como lo dejo yorick"
   ]
  },
  {
   "cell_type": "markdown",
   "metadata": {},
   "source": [
    "### Ahora recompilamos nuestros resultados con los device_id correspondientes."
   ]
  },
  {
   "cell_type": "code",
   "execution_count": 164,
   "metadata": {},
   "outputs": [],
   "source": [
    "dfPredictVentanaUnoSobreVentanaDos = pd.DataFrame(predict1_2, columns = ['prediccion_1'])\n",
    "dfPredictVentanaDosSobreVentanaTres = pd.DataFrame(predict2_3, columns = ['prediccion_2'])\n",
    "dfPredictVentanaTresSobreVentanaCuatro = pd.DataFrame(predict3_4, columns = ['prediccion_3'])\n",
    "dfPredictVentanaCuatroSobreVentanaCinco = pd.DataFrame(predict4_5, columns = ['prediccion_4'])"
   ]
  },
  {
   "cell_type": "code",
   "execution_count": 165,
   "metadata": {},
   "outputs": [
    {
     "data": {
      "text/html": [
       "<div>\n",
       "<style scoped>\n",
       "    .dataframe tbody tr th:only-of-type {\n",
       "        vertical-align: middle;\n",
       "    }\n",
       "\n",
       "    .dataframe tbody tr th {\n",
       "        vertical-align: top;\n",
       "    }\n",
       "\n",
       "    .dataframe thead th {\n",
       "        text-align: right;\n",
       "    }\n",
       "</style>\n",
       "<table border=\"1\" class=\"dataframe\">\n",
       "  <thead>\n",
       "    <tr style=\"text-align: right;\">\n",
       "      <th></th>\n",
       "      <th>prediccion_2</th>\n",
       "    </tr>\n",
       "  </thead>\n",
       "  <tbody>\n",
       "    <tr>\n",
       "      <th>0</th>\n",
       "      <td>259110.156250</td>\n",
       "    </tr>\n",
       "    <tr>\n",
       "      <th>1</th>\n",
       "      <td>259110.156250</td>\n",
       "    </tr>\n",
       "    <tr>\n",
       "      <th>2</th>\n",
       "      <td>158814.703125</td>\n",
       "    </tr>\n",
       "    <tr>\n",
       "      <th>3</th>\n",
       "      <td>259110.156250</td>\n",
       "    </tr>\n",
       "    <tr>\n",
       "      <th>4</th>\n",
       "      <td>259110.156250</td>\n",
       "    </tr>\n",
       "  </tbody>\n",
       "</table>\n",
       "</div>"
      ],
      "text/plain": [
       "    prediccion_2\n",
       "0  259110.156250\n",
       "1  259110.156250\n",
       "2  158814.703125\n",
       "3  259110.156250\n",
       "4  259110.156250"
      ]
     },
     "execution_count": 165,
     "metadata": {},
     "output_type": "execute_result"
    }
   ],
   "source": [
    "dfPredictVentanaDosSobreVentanaTres.head()"
   ]
  },
  {
   "cell_type": "code",
   "execution_count": 174,
   "metadata": {},
   "outputs": [],
   "source": [
    "dfPrediccionVentanaDosRegresionA = insev2[['ref_hash']]\n",
    "dfPrediccionVentanaTresRegresionA = insev3[['ref_hash']]\n",
    "dfPrediccionVentanaCuatroRegresionA = insev4[['ref_hash']]\n",
    "dfPrediccionVentanaCincoRegresionA = insev5[['ref_hash']]"
   ]
  },
  {
   "cell_type": "code",
   "execution_count": 175,
   "metadata": {},
   "outputs": [],
   "source": [
    "dfPrediccionVentanaDosRegresionA = dfPrediccionVentanaDosRegresionA.reset_index(drop = True)\n",
    "dfPrediccionVentanaTresRegresionA = dfPrediccionVentanaTresRegresionA.reset_index(drop = True)\n",
    "dfPrediccionVentanaCuatroRegresionA = dfPrediccionVentanaCuatroRegresionA.reset_index(drop = True)\n",
    "dfPrediccionVentanaCincoRegresionA = dfPrediccionVentanaCincoRegresionA.reset_index(drop = True)"
   ]
  },
  {
   "cell_type": "code",
   "execution_count": 176,
   "metadata": {},
   "outputs": [
    {
     "data": {
      "text/html": [
       "<div>\n",
       "<style scoped>\n",
       "    .dataframe tbody tr th:only-of-type {\n",
       "        vertical-align: middle;\n",
       "    }\n",
       "\n",
       "    .dataframe tbody tr th {\n",
       "        vertical-align: top;\n",
       "    }\n",
       "\n",
       "    .dataframe thead th {\n",
       "        text-align: right;\n",
       "    }\n",
       "</style>\n",
       "<table border=\"1\" class=\"dataframe\">\n",
       "  <thead>\n",
       "    <tr style=\"text-align: right;\">\n",
       "      <th></th>\n",
       "      <th>ref_hash</th>\n",
       "    </tr>\n",
       "  </thead>\n",
       "  <tbody>\n",
       "    <tr>\n",
       "      <th>0</th>\n",
       "      <td>40621409780134</td>\n",
       "    </tr>\n",
       "    <tr>\n",
       "      <th>1</th>\n",
       "      <td>41863526108385</td>\n",
       "    </tr>\n",
       "    <tr>\n",
       "      <th>2</th>\n",
       "      <td>161514654074162</td>\n",
       "    </tr>\n",
       "    <tr>\n",
       "      <th>3</th>\n",
       "      <td>168103949904656</td>\n",
       "    </tr>\n",
       "    <tr>\n",
       "      <th>4</th>\n",
       "      <td>186034136943920</td>\n",
       "    </tr>\n",
       "  </tbody>\n",
       "</table>\n",
       "</div>"
      ],
      "text/plain": [
       "          ref_hash\n",
       "0   40621409780134\n",
       "1   41863526108385\n",
       "2  161514654074162\n",
       "3  168103949904656\n",
       "4  186034136943920"
      ]
     },
     "execution_count": 176,
     "metadata": {},
     "output_type": "execute_result"
    }
   ],
   "source": [
    "dfPrediccionVentanaTresRegresionA.head()"
   ]
  },
  {
   "cell_type": "code",
   "execution_count": 177,
   "metadata": {},
   "outputs": [],
   "source": [
    "dfPrediccionVentanaDosRegresionA = pd.concat([dfPrediccionVentanaDosRegresionA,\\\n",
    "                                             dfPredictVentanaUnoSobreVentanaDos], axis = 1)\n",
    "dfPrediccionVentanaTresRegresionA = pd.concat([dfPrediccionVentanaTresRegresionA,\\\n",
    "                                             dfPredictVentanaDosSobreVentanaTres], axis = 1)\n",
    "dfPrediccionVentanaCuatroRegresionA = pd.concat([dfPrediccionVentanaCuatroRegresionA,\\\n",
    "                                             dfPredictVentanaTresSobreVentanaCuatro], axis = 1)\n",
    "dfPrediccionVentanaCincoRegresionA = pd.concat([dfPrediccionVentanaCincoRegresionA,\\\n",
    "                                             dfPredictVentanaCuatroSobreVentanaCinco], axis = 1)"
   ]
  },
  {
   "cell_type": "code",
   "execution_count": 178,
   "metadata": {},
   "outputs": [
    {
     "data": {
      "text/html": [
       "<div>\n",
       "<style scoped>\n",
       "    .dataframe tbody tr th:only-of-type {\n",
       "        vertical-align: middle;\n",
       "    }\n",
       "\n",
       "    .dataframe tbody tr th {\n",
       "        vertical-align: top;\n",
       "    }\n",
       "\n",
       "    .dataframe thead th {\n",
       "        text-align: right;\n",
       "    }\n",
       "</style>\n",
       "<table border=\"1\" class=\"dataframe\">\n",
       "  <thead>\n",
       "    <tr style=\"text-align: right;\">\n",
       "      <th></th>\n",
       "      <th>ref_hash</th>\n",
       "      <th>prediccion_4</th>\n",
       "    </tr>\n",
       "  </thead>\n",
       "  <tbody>\n",
       "    <tr>\n",
       "      <th>0</th>\n",
       "      <td>40621409780134</td>\n",
       "      <td>259113.359375</td>\n",
       "    </tr>\n",
       "    <tr>\n",
       "      <th>1</th>\n",
       "      <td>69039685746313</td>\n",
       "      <td>259113.359375</td>\n",
       "    </tr>\n",
       "    <tr>\n",
       "      <th>2</th>\n",
       "      <td>90072729247980</td>\n",
       "      <td>259113.359375</td>\n",
       "    </tr>\n",
       "    <tr>\n",
       "      <th>3</th>\n",
       "      <td>161514654074162</td>\n",
       "      <td>100249.804688</td>\n",
       "    </tr>\n",
       "    <tr>\n",
       "      <th>4</th>\n",
       "      <td>168103949904656</td>\n",
       "      <td>259113.359375</td>\n",
       "    </tr>\n",
       "  </tbody>\n",
       "</table>\n",
       "</div>"
      ],
      "text/plain": [
       "          ref_hash   prediccion_4\n",
       "0   40621409780134  259113.359375\n",
       "1   69039685746313  259113.359375\n",
       "2   90072729247980  259113.359375\n",
       "3  161514654074162  100249.804688\n",
       "4  168103949904656  259113.359375"
      ]
     },
     "execution_count": 178,
     "metadata": {},
     "output_type": "execute_result"
    }
   ],
   "source": [
    "dfPrediccionVentanaCincoRegresionA.head(5)"
   ]
  },
  {
   "cell_type": "markdown",
   "metadata": {},
   "source": [
    "### Ahora mergeamos los cuatro dataframes para tener el promedio asociado a cada modelo en una columna distinta. Despues de so, haremos un promedio de las predicciones y lo tomaremos como Survival Time para un install."
   ]
  },
  {
   "cell_type": "code",
   "execution_count": 291,
   "metadata": {},
   "outputs": [],
   "source": [
    "dfPrediccionSc = pd.merge(dfPrediccionVentanaDosRegresionA, dfPrediccionVentanaTresRegresionA,\\\n",
    "                        on = 'ref_hash', how = 'outer')"
   ]
  },
  {
   "cell_type": "code",
   "execution_count": 292,
   "metadata": {},
   "outputs": [],
   "source": [
    "dfPrediccionSc = pd.merge(dfPrediccionSc, dfPrediccionVentanaCuatroRegresionA,\\\n",
    "                        on = 'ref_hash', how = 'outer')\n",
    "dfPrediccionSc = pd.merge(dfPrediccionSc, dfPrediccionVentanaCincoRegresionA,\\\n",
    "                        on = 'ref_hash', how = 'outer')"
   ]
  },
  {
   "cell_type": "code",
   "execution_count": 235,
   "metadata": {},
   "outputs": [
    {
     "data": {
      "text/plain": [
       "273948"
      ]
     },
     "execution_count": 235,
     "metadata": {},
     "output_type": "execute_result"
    }
   ],
   "source": [
    "len(dfPrediccionSc)"
   ]
  },
  {
   "cell_type": "code",
   "execution_count": 293,
   "metadata": {
    "scrolled": true
   },
   "outputs": [
    {
     "data": {
      "text/html": [
       "<div>\n",
       "<style scoped>\n",
       "    .dataframe tbody tr th:only-of-type {\n",
       "        vertical-align: middle;\n",
       "    }\n",
       "\n",
       "    .dataframe tbody tr th {\n",
       "        vertical-align: top;\n",
       "    }\n",
       "\n",
       "    .dataframe thead th {\n",
       "        text-align: right;\n",
       "    }\n",
       "</style>\n",
       "<table border=\"1\" class=\"dataframe\">\n",
       "  <thead>\n",
       "    <tr style=\"text-align: right;\">\n",
       "      <th></th>\n",
       "      <th>ref_hash</th>\n",
       "      <th>prediccion_1</th>\n",
       "      <th>prediccion_2</th>\n",
       "      <th>prediccion_3</th>\n",
       "      <th>prediccion_4</th>\n",
       "    </tr>\n",
       "  </thead>\n",
       "  <tbody>\n",
       "    <tr>\n",
       "      <th>0</th>\n",
       "      <td>40621409780134</td>\n",
       "      <td>259119.390625</td>\n",
       "      <td>259110.156250</td>\n",
       "      <td>259114.703125</td>\n",
       "      <td>259113.359375</td>\n",
       "    </tr>\n",
       "    <tr>\n",
       "      <th>1</th>\n",
       "      <td>41863526108385</td>\n",
       "      <td>259119.390625</td>\n",
       "      <td>259110.156250</td>\n",
       "      <td>NaN</td>\n",
       "      <td>NaN</td>\n",
       "    </tr>\n",
       "    <tr>\n",
       "      <th>2</th>\n",
       "      <td>161514654074162</td>\n",
       "      <td>259126.875000</td>\n",
       "      <td>158814.703125</td>\n",
       "      <td>193308.062500</td>\n",
       "      <td>100249.804688</td>\n",
       "    </tr>\n",
       "    <tr>\n",
       "      <th>3</th>\n",
       "      <td>360710529886978</td>\n",
       "      <td>259119.390625</td>\n",
       "      <td>259110.156250</td>\n",
       "      <td>259114.703125</td>\n",
       "      <td>259113.359375</td>\n",
       "    </tr>\n",
       "    <tr>\n",
       "      <th>4</th>\n",
       "      <td>365882020742330</td>\n",
       "      <td>259119.390625</td>\n",
       "      <td>259110.156250</td>\n",
       "      <td>259114.703125</td>\n",
       "      <td>259113.359375</td>\n",
       "    </tr>\n",
       "  </tbody>\n",
       "</table>\n",
       "</div>"
      ],
      "text/plain": [
       "          ref_hash   prediccion_1   prediccion_2   prediccion_3   prediccion_4\n",
       "0   40621409780134  259119.390625  259110.156250  259114.703125  259113.359375\n",
       "1   41863526108385  259119.390625  259110.156250            NaN            NaN\n",
       "2  161514654074162  259126.875000  158814.703125  193308.062500  100249.804688\n",
       "3  360710529886978  259119.390625  259110.156250  259114.703125  259113.359375\n",
       "4  365882020742330  259119.390625  259110.156250  259114.703125  259113.359375"
      ]
     },
     "execution_count": 293,
     "metadata": {},
     "output_type": "execute_result"
    }
   ],
   "source": [
    "dfPrediccionSc.head(5)"
   ]
  },
  {
   "cell_type": "code",
   "execution_count": 294,
   "metadata": {},
   "outputs": [],
   "source": [
    "dfPrediccionSc = dfPrediccionSc.fillna(value = 259200)"
   ]
  },
  {
   "cell_type": "code",
   "execution_count": 295,
   "metadata": {},
   "outputs": [
    {
     "data": {
      "text/html": [
       "<div>\n",
       "<style scoped>\n",
       "    .dataframe tbody tr th:only-of-type {\n",
       "        vertical-align: middle;\n",
       "    }\n",
       "\n",
       "    .dataframe tbody tr th {\n",
       "        vertical-align: top;\n",
       "    }\n",
       "\n",
       "    .dataframe thead th {\n",
       "        text-align: right;\n",
       "    }\n",
       "</style>\n",
       "<table border=\"1\" class=\"dataframe\">\n",
       "  <thead>\n",
       "    <tr style=\"text-align: right;\">\n",
       "      <th></th>\n",
       "      <th>ref_hash</th>\n",
       "      <th>prediccion_1</th>\n",
       "      <th>prediccion_2</th>\n",
       "      <th>prediccion_3</th>\n",
       "      <th>prediccion_4</th>\n",
       "    </tr>\n",
       "  </thead>\n",
       "  <tbody>\n",
       "    <tr>\n",
       "      <th>0</th>\n",
       "      <td>40621409780134</td>\n",
       "      <td>259119.390625</td>\n",
       "      <td>259110.156250</td>\n",
       "      <td>259114.703125</td>\n",
       "      <td>259113.359375</td>\n",
       "    </tr>\n",
       "    <tr>\n",
       "      <th>1</th>\n",
       "      <td>41863526108385</td>\n",
       "      <td>259119.390625</td>\n",
       "      <td>259110.156250</td>\n",
       "      <td>259200.000000</td>\n",
       "      <td>259200.000000</td>\n",
       "    </tr>\n",
       "    <tr>\n",
       "      <th>2</th>\n",
       "      <td>161514654074162</td>\n",
       "      <td>259126.875000</td>\n",
       "      <td>158814.703125</td>\n",
       "      <td>193308.062500</td>\n",
       "      <td>100249.804688</td>\n",
       "    </tr>\n",
       "    <tr>\n",
       "      <th>3</th>\n",
       "      <td>360710529886978</td>\n",
       "      <td>259119.390625</td>\n",
       "      <td>259110.156250</td>\n",
       "      <td>259114.703125</td>\n",
       "      <td>259113.359375</td>\n",
       "    </tr>\n",
       "    <tr>\n",
       "      <th>4</th>\n",
       "      <td>365882020742330</td>\n",
       "      <td>259119.390625</td>\n",
       "      <td>259110.156250</td>\n",
       "      <td>259114.703125</td>\n",
       "      <td>259113.359375</td>\n",
       "    </tr>\n",
       "  </tbody>\n",
       "</table>\n",
       "</div>"
      ],
      "text/plain": [
       "          ref_hash   prediccion_1   prediccion_2   prediccion_3   prediccion_4\n",
       "0   40621409780134  259119.390625  259110.156250  259114.703125  259113.359375\n",
       "1   41863526108385  259119.390625  259110.156250  259200.000000  259200.000000\n",
       "2  161514654074162  259126.875000  158814.703125  193308.062500  100249.804688\n",
       "3  360710529886978  259119.390625  259110.156250  259114.703125  259113.359375\n",
       "4  365882020742330  259119.390625  259110.156250  259114.703125  259113.359375"
      ]
     },
     "execution_count": 295,
     "metadata": {},
     "output_type": "execute_result"
    }
   ],
   "source": [
    "dfPrediccionSc.head()"
   ]
  },
  {
   "cell_type": "code",
   "execution_count": 296,
   "metadata": {},
   "outputs": [],
   "source": [
    "dfPrediccionSc['prediccion_promedia'] = 0.25*(dfPrediccionSc.prediccion_1 + dfPrediccionSc.prediccion_2 +\\\n",
    "dfPrediccionSc.prediccion_3 + dfPrediccionSc.prediccion_4)"
   ]
  },
  {
   "cell_type": "code",
   "execution_count": 297,
   "metadata": {},
   "outputs": [
    {
     "data": {
      "text/html": [
       "<div>\n",
       "<style scoped>\n",
       "    .dataframe tbody tr th:only-of-type {\n",
       "        vertical-align: middle;\n",
       "    }\n",
       "\n",
       "    .dataframe tbody tr th {\n",
       "        vertical-align: top;\n",
       "    }\n",
       "\n",
       "    .dataframe thead th {\n",
       "        text-align: right;\n",
       "    }\n",
       "</style>\n",
       "<table border=\"1\" class=\"dataframe\">\n",
       "  <thead>\n",
       "    <tr style=\"text-align: right;\">\n",
       "      <th></th>\n",
       "      <th>ref_hash</th>\n",
       "      <th>prediccion_1</th>\n",
       "      <th>prediccion_2</th>\n",
       "      <th>prediccion_3</th>\n",
       "      <th>prediccion_4</th>\n",
       "      <th>prediccion_promedia</th>\n",
       "    </tr>\n",
       "  </thead>\n",
       "  <tbody>\n",
       "    <tr>\n",
       "      <th>0</th>\n",
       "      <td>40621409780134</td>\n",
       "      <td>259119.390625</td>\n",
       "      <td>259110.156250</td>\n",
       "      <td>259114.703125</td>\n",
       "      <td>259113.359375</td>\n",
       "      <td>259114.406250</td>\n",
       "    </tr>\n",
       "    <tr>\n",
       "      <th>1</th>\n",
       "      <td>41863526108385</td>\n",
       "      <td>259119.390625</td>\n",
       "      <td>259110.156250</td>\n",
       "      <td>259200.000000</td>\n",
       "      <td>259200.000000</td>\n",
       "      <td>259157.390625</td>\n",
       "    </tr>\n",
       "    <tr>\n",
       "      <th>2</th>\n",
       "      <td>161514654074162</td>\n",
       "      <td>259126.875000</td>\n",
       "      <td>158814.703125</td>\n",
       "      <td>193308.062500</td>\n",
       "      <td>100249.804688</td>\n",
       "      <td>177874.859375</td>\n",
       "    </tr>\n",
       "    <tr>\n",
       "      <th>3</th>\n",
       "      <td>360710529886978</td>\n",
       "      <td>259119.390625</td>\n",
       "      <td>259110.156250</td>\n",
       "      <td>259114.703125</td>\n",
       "      <td>259113.359375</td>\n",
       "      <td>259114.406250</td>\n",
       "    </tr>\n",
       "    <tr>\n",
       "      <th>4</th>\n",
       "      <td>365882020742330</td>\n",
       "      <td>259119.390625</td>\n",
       "      <td>259110.156250</td>\n",
       "      <td>259114.703125</td>\n",
       "      <td>259113.359375</td>\n",
       "      <td>259114.406250</td>\n",
       "    </tr>\n",
       "  </tbody>\n",
       "</table>\n",
       "</div>"
      ],
      "text/plain": [
       "          ref_hash   prediccion_1   prediccion_2   prediccion_3  \\\n",
       "0   40621409780134  259119.390625  259110.156250  259114.703125   \n",
       "1   41863526108385  259119.390625  259110.156250  259200.000000   \n",
       "2  161514654074162  259126.875000  158814.703125  193308.062500   \n",
       "3  360710529886978  259119.390625  259110.156250  259114.703125   \n",
       "4  365882020742330  259119.390625  259110.156250  259114.703125   \n",
       "\n",
       "    prediccion_4  prediccion_promedia  \n",
       "0  259113.359375        259114.406250  \n",
       "1  259200.000000        259157.390625  \n",
       "2  100249.804688        177874.859375  \n",
       "3  259113.359375        259114.406250  \n",
       "4  259113.359375        259114.406250  "
      ]
     },
     "execution_count": 297,
     "metadata": {},
     "output_type": "execute_result"
    }
   ],
   "source": [
    "dfPrediccionSc.head()"
   ]
  },
  {
   "cell_type": "code",
   "execution_count": 298,
   "metadata": {},
   "outputs": [],
   "source": [
    "dfPrediccionSc = dfPrediccionSc[['ref_hash', 'prediccion_promedia']]"
   ]
  },
  {
   "cell_type": "markdown",
   "metadata": {},
   "source": [
    "### Ahora vamos a completar con todos los ref_hash que nunca aparecieron en nuestro estudio pero que son parte del estudio."
   ]
  },
  {
   "cell_type": "code",
   "execution_count": 299,
   "metadata": {},
   "outputs": [],
   "source": [
    "dfPrediccionSc['ref_hash'] = dfPrediccionSc.ref_hash.astype(str) + '_sc'"
   ]
  },
  {
   "cell_type": "code",
   "execution_count": 300,
   "metadata": {},
   "outputs": [
    {
     "data": {
      "text/html": [
       "<div>\n",
       "<style scoped>\n",
       "    .dataframe tbody tr th:only-of-type {\n",
       "        vertical-align: middle;\n",
       "    }\n",
       "\n",
       "    .dataframe tbody tr th {\n",
       "        vertical-align: top;\n",
       "    }\n",
       "\n",
       "    .dataframe thead th {\n",
       "        text-align: right;\n",
       "    }\n",
       "</style>\n",
       "<table border=\"1\" class=\"dataframe\">\n",
       "  <thead>\n",
       "    <tr style=\"text-align: right;\">\n",
       "      <th></th>\n",
       "      <th>ref_hash</th>\n",
       "      <th>prediccion_promedia</th>\n",
       "    </tr>\n",
       "  </thead>\n",
       "  <tbody>\n",
       "    <tr>\n",
       "      <th>0</th>\n",
       "      <td>40621409780134_sc</td>\n",
       "      <td>259114.406250</td>\n",
       "    </tr>\n",
       "    <tr>\n",
       "      <th>1</th>\n",
       "      <td>41863526108385_sc</td>\n",
       "      <td>259157.390625</td>\n",
       "    </tr>\n",
       "    <tr>\n",
       "      <th>2</th>\n",
       "      <td>161514654074162_sc</td>\n",
       "      <td>177874.859375</td>\n",
       "    </tr>\n",
       "  </tbody>\n",
       "</table>\n",
       "</div>"
      ],
      "text/plain": [
       "             ref_hash  prediccion_promedia\n",
       "0   40621409780134_sc        259114.406250\n",
       "1   41863526108385_sc        259157.390625\n",
       "2  161514654074162_sc        177874.859375"
      ]
     },
     "execution_count": 300,
     "metadata": {},
     "output_type": "execute_result"
    }
   ],
   "source": [
    "dfPrediccionSc.head(3)"
   ]
  },
  {
   "cell_type": "code",
   "execution_count": 255,
   "metadata": {},
   "outputs": [],
   "source": [
    "target = pd.read_csv('./target_competencia_ids.csv')"
   ]
  },
  {
   "cell_type": "code",
   "execution_count": 191,
   "metadata": {},
   "outputs": [
    {
     "data": {
      "text/plain": [
       "ref_hash    object\n",
       "obj          int64\n",
       "dtype: object"
      ]
     },
     "execution_count": 191,
     "metadata": {},
     "output_type": "execute_result"
    }
   ],
   "source": [
    "target.dtypes"
   ]
  },
  {
   "cell_type": "code",
   "execution_count": 256,
   "metadata": {},
   "outputs": [
    {
     "data": {
      "text/html": [
       "<div>\n",
       "<style scoped>\n",
       "    .dataframe tbody tr th:only-of-type {\n",
       "        vertical-align: middle;\n",
       "    }\n",
       "\n",
       "    .dataframe tbody tr th {\n",
       "        vertical-align: top;\n",
       "    }\n",
       "\n",
       "    .dataframe thead th {\n",
       "        text-align: right;\n",
       "    }\n",
       "</style>\n",
       "<table border=\"1\" class=\"dataframe\">\n",
       "  <thead>\n",
       "    <tr style=\"text-align: right;\">\n",
       "      <th></th>\n",
       "      <th>ref_hash</th>\n",
       "      <th>obj</th>\n",
       "    </tr>\n",
       "  </thead>\n",
       "  <tbody>\n",
       "    <tr>\n",
       "      <th>0</th>\n",
       "      <td>1000169251625791246_sc</td>\n",
       "      <td>0</td>\n",
       "    </tr>\n",
       "    <tr>\n",
       "      <th>1</th>\n",
       "      <td>1000169251625791246_st</td>\n",
       "      <td>0</td>\n",
       "    </tr>\n",
       "    <tr>\n",
       "      <th>2</th>\n",
       "      <td>1000395625957344683_sc</td>\n",
       "      <td>0</td>\n",
       "    </tr>\n",
       "  </tbody>\n",
       "</table>\n",
       "</div>"
      ],
      "text/plain": [
       "                 ref_hash  obj\n",
       "0  1000169251625791246_sc    0\n",
       "1  1000169251625791246_st    0\n",
       "2  1000395625957344683_sc    0"
      ]
     },
     "execution_count": 256,
     "metadata": {},
     "output_type": "execute_result"
    }
   ],
   "source": [
    "target.head(3)"
   ]
  },
  {
   "cell_type": "code",
   "execution_count": 316,
   "metadata": {},
   "outputs": [],
   "source": [
    "targetUpdated = pd.merge(target, dfPrediccionSc, on = 'ref_hash', how = 'left')"
   ]
  },
  {
   "cell_type": "code",
   "execution_count": 317,
   "metadata": {
    "scrolled": true
   },
   "outputs": [
    {
     "data": {
      "text/html": [
       "<div>\n",
       "<style scoped>\n",
       "    .dataframe tbody tr th:only-of-type {\n",
       "        vertical-align: middle;\n",
       "    }\n",
       "\n",
       "    .dataframe tbody tr th {\n",
       "        vertical-align: top;\n",
       "    }\n",
       "\n",
       "    .dataframe thead th {\n",
       "        text-align: right;\n",
       "    }\n",
       "</style>\n",
       "<table border=\"1\" class=\"dataframe\">\n",
       "  <thead>\n",
       "    <tr style=\"text-align: right;\">\n",
       "      <th></th>\n",
       "      <th>ref_hash</th>\n",
       "      <th>obj</th>\n",
       "      <th>prediccion_promedia</th>\n",
       "    </tr>\n",
       "  </thead>\n",
       "  <tbody>\n",
       "    <tr>\n",
       "      <th>0</th>\n",
       "      <td>1000169251625791246_sc</td>\n",
       "      <td>0</td>\n",
       "      <td>259114.406250</td>\n",
       "    </tr>\n",
       "    <tr>\n",
       "      <th>1</th>\n",
       "      <td>1000169251625791246_st</td>\n",
       "      <td>0</td>\n",
       "      <td>NaN</td>\n",
       "    </tr>\n",
       "    <tr>\n",
       "      <th>2</th>\n",
       "      <td>1000395625957344683_sc</td>\n",
       "      <td>0</td>\n",
       "      <td>161908.000000</td>\n",
       "    </tr>\n",
       "    <tr>\n",
       "      <th>3</th>\n",
       "      <td>1000395625957344683_st</td>\n",
       "      <td>0</td>\n",
       "      <td>NaN</td>\n",
       "    </tr>\n",
       "    <tr>\n",
       "      <th>4</th>\n",
       "      <td>1003027494996471685_sc</td>\n",
       "      <td>0</td>\n",
       "      <td>182100.312500</td>\n",
       "    </tr>\n",
       "    <tr>\n",
       "      <th>5</th>\n",
       "      <td>1003027494996471685_st</td>\n",
       "      <td>0</td>\n",
       "      <td>NaN</td>\n",
       "    </tr>\n",
       "    <tr>\n",
       "      <th>6</th>\n",
       "      <td>1006670001679961544_sc</td>\n",
       "      <td>0</td>\n",
       "      <td>195578.828125</td>\n",
       "    </tr>\n",
       "    <tr>\n",
       "      <th>7</th>\n",
       "      <td>1006670001679961544_st</td>\n",
       "      <td>0</td>\n",
       "      <td>NaN</td>\n",
       "    </tr>\n",
       "    <tr>\n",
       "      <th>8</th>\n",
       "      <td>1007573308966476713_sc</td>\n",
       "      <td>0</td>\n",
       "      <td>259114.406250</td>\n",
       "    </tr>\n",
       "    <tr>\n",
       "      <th>9</th>\n",
       "      <td>1007573308966476713_st</td>\n",
       "      <td>0</td>\n",
       "      <td>NaN</td>\n",
       "    </tr>\n",
       "    <tr>\n",
       "      <th>10</th>\n",
       "      <td>1010070503877148763_sc</td>\n",
       "      <td>0</td>\n",
       "      <td>NaN</td>\n",
       "    </tr>\n",
       "    <tr>\n",
       "      <th>11</th>\n",
       "      <td>1010070503877148763_st</td>\n",
       "      <td>0</td>\n",
       "      <td>NaN</td>\n",
       "    </tr>\n",
       "    <tr>\n",
       "      <th>12</th>\n",
       "      <td>1010265377387765028_sc</td>\n",
       "      <td>0</td>\n",
       "      <td>NaN</td>\n",
       "    </tr>\n",
       "    <tr>\n",
       "      <th>13</th>\n",
       "      <td>1010265377387765028_st</td>\n",
       "      <td>0</td>\n",
       "      <td>NaN</td>\n",
       "    </tr>\n",
       "    <tr>\n",
       "      <th>14</th>\n",
       "      <td>1010531372912327058_sc</td>\n",
       "      <td>0</td>\n",
       "      <td>259181.718750</td>\n",
       "    </tr>\n",
       "  </tbody>\n",
       "</table>\n",
       "</div>"
      ],
      "text/plain": [
       "                  ref_hash  obj  prediccion_promedia\n",
       "0   1000169251625791246_sc    0        259114.406250\n",
       "1   1000169251625791246_st    0                  NaN\n",
       "2   1000395625957344683_sc    0        161908.000000\n",
       "3   1000395625957344683_st    0                  NaN\n",
       "4   1003027494996471685_sc    0        182100.312500\n",
       "5   1003027494996471685_st    0                  NaN\n",
       "6   1006670001679961544_sc    0        195578.828125\n",
       "7   1006670001679961544_st    0                  NaN\n",
       "8   1007573308966476713_sc    0        259114.406250\n",
       "9   1007573308966476713_st    0                  NaN\n",
       "10  1010070503877148763_sc    0                  NaN\n",
       "11  1010070503877148763_st    0                  NaN\n",
       "12  1010265377387765028_sc    0                  NaN\n",
       "13  1010265377387765028_st    0                  NaN\n",
       "14  1010531372912327058_sc    0        259181.718750"
      ]
     },
     "execution_count": 317,
     "metadata": {},
     "output_type": "execute_result"
    }
   ],
   "source": [
    "targetUpdated.head(15)"
   ]
  },
  {
   "cell_type": "markdown",
   "metadata": {},
   "source": [
    "### Si nunca apareció en nuestro analisis, le ponemos un valor de tres dias."
   ]
  },
  {
   "cell_type": "code",
   "execution_count": 318,
   "metadata": {},
   "outputs": [],
   "source": [
    "targetUpdated =  targetUpdated.fillna(value = 259200)"
   ]
  },
  {
   "cell_type": "code",
   "execution_count": 319,
   "metadata": {},
   "outputs": [],
   "source": [
    "targetUpdated = targetUpdated.drop(columns = ['obj'])\n",
    "targetUpdated.columns = ['ref_hash', 'obj']"
   ]
  },
  {
   "cell_type": "markdown",
   "metadata": {},
   "source": [
    "### Consideremos que los valores muy cerca de 259200 segundos son una aproximación para tres días asi las cambiamos."
   ]
  },
  {
   "cell_type": "code",
   "execution_count": 320,
   "metadata": {},
   "outputs": [],
   "source": [
    "targetUpdated.loc[targetUpdated.obj > 255000, 'obj'] = 259200"
   ]
  },
  {
   "cell_type": "markdown",
   "metadata": {},
   "source": [
    "### Dejando los valores de St(d) a 0 por ahora"
   ]
  },
  {
   "cell_type": "code",
   "execution_count": 321,
   "metadata": {},
   "outputs": [],
   "source": [
    "targetUpdated.loc[targetUpdated.index % 2 != 0, 'obj'] = 0"
   ]
  },
  {
   "cell_type": "code",
   "execution_count": 322,
   "metadata": {},
   "outputs": [
    {
     "data": {
      "text/plain": [
       "ref_hash     object\n",
       "obj         float64\n",
       "dtype: object"
      ]
     },
     "execution_count": 322,
     "metadata": {},
     "output_type": "execute_result"
    }
   ],
   "source": [
    "targetUpdated.dtypes"
   ]
  },
  {
   "cell_type": "code",
   "execution_count": 323,
   "metadata": {},
   "outputs": [],
   "source": [
    "targetUpdated['obj'] = targetUpdated.obj.round().astype(int)"
   ]
  },
  {
   "cell_type": "code",
   "execution_count": 324,
   "metadata": {},
   "outputs": [
    {
     "data": {
      "text/html": [
       "<div>\n",
       "<style scoped>\n",
       "    .dataframe tbody tr th:only-of-type {\n",
       "        vertical-align: middle;\n",
       "    }\n",
       "\n",
       "    .dataframe tbody tr th {\n",
       "        vertical-align: top;\n",
       "    }\n",
       "\n",
       "    .dataframe thead th {\n",
       "        text-align: right;\n",
       "    }\n",
       "</style>\n",
       "<table border=\"1\" class=\"dataframe\">\n",
       "  <thead>\n",
       "    <tr style=\"text-align: right;\">\n",
       "      <th></th>\n",
       "      <th>ref_hash</th>\n",
       "      <th>obj</th>\n",
       "    </tr>\n",
       "  </thead>\n",
       "  <tbody>\n",
       "    <tr>\n",
       "      <th>0</th>\n",
       "      <td>1000169251625791246_sc</td>\n",
       "      <td>259200</td>\n",
       "    </tr>\n",
       "    <tr>\n",
       "      <th>1</th>\n",
       "      <td>1000169251625791246_st</td>\n",
       "      <td>0</td>\n",
       "    </tr>\n",
       "    <tr>\n",
       "      <th>2</th>\n",
       "      <td>1000395625957344683_sc</td>\n",
       "      <td>161908</td>\n",
       "    </tr>\n",
       "    <tr>\n",
       "      <th>3</th>\n",
       "      <td>1000395625957344683_st</td>\n",
       "      <td>0</td>\n",
       "    </tr>\n",
       "    <tr>\n",
       "      <th>4</th>\n",
       "      <td>1003027494996471685_sc</td>\n",
       "      <td>182100</td>\n",
       "    </tr>\n",
       "    <tr>\n",
       "      <th>5</th>\n",
       "      <td>1003027494996471685_st</td>\n",
       "      <td>0</td>\n",
       "    </tr>\n",
       "    <tr>\n",
       "      <th>6</th>\n",
       "      <td>1006670001679961544_sc</td>\n",
       "      <td>195579</td>\n",
       "    </tr>\n",
       "    <tr>\n",
       "      <th>7</th>\n",
       "      <td>1006670001679961544_st</td>\n",
       "      <td>0</td>\n",
       "    </tr>\n",
       "    <tr>\n",
       "      <th>8</th>\n",
       "      <td>1007573308966476713_sc</td>\n",
       "      <td>259200</td>\n",
       "    </tr>\n",
       "    <tr>\n",
       "      <th>9</th>\n",
       "      <td>1007573308966476713_st</td>\n",
       "      <td>0</td>\n",
       "    </tr>\n",
       "    <tr>\n",
       "      <th>10</th>\n",
       "      <td>1010070503877148763_sc</td>\n",
       "      <td>259200</td>\n",
       "    </tr>\n",
       "    <tr>\n",
       "      <th>11</th>\n",
       "      <td>1010070503877148763_st</td>\n",
       "      <td>0</td>\n",
       "    </tr>\n",
       "    <tr>\n",
       "      <th>12</th>\n",
       "      <td>1010265377387765028_sc</td>\n",
       "      <td>259200</td>\n",
       "    </tr>\n",
       "    <tr>\n",
       "      <th>13</th>\n",
       "      <td>1010265377387765028_st</td>\n",
       "      <td>0</td>\n",
       "    </tr>\n",
       "    <tr>\n",
       "      <th>14</th>\n",
       "      <td>1010531372912327058_sc</td>\n",
       "      <td>259200</td>\n",
       "    </tr>\n",
       "    <tr>\n",
       "      <th>15</th>\n",
       "      <td>1010531372912327058_st</td>\n",
       "      <td>0</td>\n",
       "    </tr>\n",
       "    <tr>\n",
       "      <th>16</th>\n",
       "      <td>1011610998357271358_sc</td>\n",
       "      <td>196816</td>\n",
       "    </tr>\n",
       "    <tr>\n",
       "      <th>17</th>\n",
       "      <td>1011610998357271358_st</td>\n",
       "      <td>0</td>\n",
       "    </tr>\n",
       "    <tr>\n",
       "      <th>18</th>\n",
       "      <td>1013543838965040946_sc</td>\n",
       "      <td>259200</td>\n",
       "    </tr>\n",
       "    <tr>\n",
       "      <th>19</th>\n",
       "      <td>1013543838965040946_st</td>\n",
       "      <td>0</td>\n",
       "    </tr>\n",
       "  </tbody>\n",
       "</table>\n",
       "</div>"
      ],
      "text/plain": [
       "                  ref_hash     obj\n",
       "0   1000169251625791246_sc  259200\n",
       "1   1000169251625791246_st       0\n",
       "2   1000395625957344683_sc  161908\n",
       "3   1000395625957344683_st       0\n",
       "4   1003027494996471685_sc  182100\n",
       "5   1003027494996471685_st       0\n",
       "6   1006670001679961544_sc  195579\n",
       "7   1006670001679961544_st       0\n",
       "8   1007573308966476713_sc  259200\n",
       "9   1007573308966476713_st       0\n",
       "10  1010070503877148763_sc  259200\n",
       "11  1010070503877148763_st       0\n",
       "12  1010265377387765028_sc  259200\n",
       "13  1010265377387765028_st       0\n",
       "14  1010531372912327058_sc  259200\n",
       "15  1010531372912327058_st       0\n",
       "16  1011610998357271358_sc  196816\n",
       "17  1011610998357271358_st       0\n",
       "18  1013543838965040946_sc  259200\n",
       "19  1013543838965040946_st       0"
      ]
     },
     "execution_count": 324,
     "metadata": {},
     "output_type": "execute_result"
    }
   ],
   "source": [
    "targetUpdated.head(20)"
   ]
  },
  {
   "cell_type": "code",
   "execution_count": 325,
   "metadata": {},
   "outputs": [],
   "source": [
    "targetUpdated.to_csv('targetConSc.csv', encoding='utf-8', index=False)"
   ]
  }
 ],
 "metadata": {
  "kernelspec": {
   "display_name": "Python 3",
   "language": "python",
   "name": "python3"
  },
  "language_info": {
   "codemirror_mode": {
    "name": "ipython",
    "version": 3
   },
   "file_extension": ".py",
   "mimetype": "text/x-python",
   "name": "python",
   "nbconvert_exporter": "python",
   "pygments_lexer": "ipython3",
   "version": "3.7.3"
  }
 },
 "nbformat": 4,
 "nbformat_minor": 2
}
