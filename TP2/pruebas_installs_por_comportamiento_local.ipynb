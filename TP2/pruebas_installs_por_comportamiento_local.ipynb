{
 "cells": [
  {
   "cell_type": "markdown",
   "metadata": {},
   "source": [
    "# Survival analysis para la empresa JAMPP - Notebook usado para el installs. Estudio comportamiental, analisis de los valores promedios por usuario para usar esos valores en el target set\n"
   ]
  },
  {
   "cell_type": "code",
   "execution_count": 1,
   "metadata": {},
   "outputs": [],
   "source": [
    "import matplotlib.pyplot as plt\n",
    "import pandas as pd\n",
    "import numpy as np\n",
    "import lifelines\n",
    "import category_encoders as ce\n",
    "from sklearn.linear_model import LinearRegression\n",
    "from sklearn.metrics import explained_variance_score\n",
    "import xgboost"
   ]
  },
  {
   "cell_type": "code",
   "execution_count": 2,
   "metadata": {},
   "outputs": [
    {
     "name": "stderr",
     "output_type": "stream",
     "text": [
      "/Users/yorickvinesse/anaconda3/lib/python3.7/site-packages/IPython/core/interactiveshell.py:3020: DtypeWarning: Columns (13,20) have mixed types. Specify dtype option on import or set low_memory=False.\n",
      "  interactivity=interactivity, compiler=compiler, result=result)\n"
     ]
    }
   ],
   "source": [
    "events = pd.read_csv('./events.csv')"
   ]
  },
  {
   "cell_type": "code",
   "execution_count": 3,
   "metadata": {},
   "outputs": [
    {
     "name": "stderr",
     "output_type": "stream",
     "text": [
      "/Users/yorickvinesse/anaconda3/lib/python3.7/site-packages/IPython/core/interactiveshell.py:3020: DtypeWarning: Columns (16,17) have mixed types. Specify dtype option on import or set low_memory=False.\n",
      "  interactivity=interactivity, compiler=compiler, result=result)\n"
     ]
    }
   ],
   "source": [
    "clicks = pd.read_csv('./clicks.csv')"
   ]
  },
  {
   "cell_type": "code",
   "execution_count": 4,
   "metadata": {},
   "outputs": [
    {
     "name": "stderr",
     "output_type": "stream",
     "text": [
      "/Users/yorickvinesse/anaconda3/lib/python3.7/site-packages/IPython/core/interactiveshell.py:3020: DtypeWarning: Columns (4,15) have mixed types. Specify dtype option on import or set low_memory=False.\n",
      "  interactivity=interactivity, compiler=compiler, result=result)\n"
     ]
    }
   ],
   "source": [
    "installs = pd.read_csv('./installs.csv')"
   ]
  },
  {
   "cell_type": "markdown",
   "metadata": {},
   "source": [
    "# Que datos nos conviene usar?\n",
    "\n",
    "Acá estamos haciendo un _survival analysis_ entonces se necesita mostrar el momento al cual ocurrió un evento. En nuestro caso, si un evento aparece en el dataset de _auctions_, es porque ocurrió. El survival analysis se enfoca en la primera vez que ocurre un evento, puesto que hace una regresión de un set de caractéristicas en frente a una fecha de ocurrencia del evento.\n",
    "\n",
    "Pero es cierto que muchos usuarios, aca representados por sus *device_id* aparecen varias veces en la lista de subastas (_auctions_), considerando que 475338 *device_id* únicos se pueden contar adentro del set de _auctions_ que almacena 47409528 observaciones distintas (100 veces más).\n",
    "\n",
    "Dado eso, parecería inoportuno no considerar la característica de repetición de aparición de los usuarios cuando hacemos la predicción de su reaparición más adelante.\n",
    "\n",
    "Podemos tratar de analizar datos como la cantidad de clicks hecha por un usuario antes de llevar a cabo una instalación, o la cantidad de veces que apareció en una subasta."
   ]
  },
  {
   "cell_type": "markdown",
   "metadata": {},
   "source": [
    "### Para aliviar los sets, sacamos las columnas que llevan el mismo valor para todas filas."
   ]
  },
  {
   "cell_type": "code",
   "execution_count": 5,
   "metadata": {},
   "outputs": [],
   "source": [
    "events.drop(columns = ['device_countrycode'], inplace = True)\n",
    "clicks.drop(columns = ['country_code'], inplace = True)\n",
    "installs.drop(columns = ['device_countrycode'], inplace = True)"
   ]
  },
  {
   "cell_type": "markdown",
   "metadata": {},
   "source": [
    "# Cuandó aparecerá un usuario dado?\n",
    "\n",
    "### Desarrollo alrededor del dataset _auctions_\n",
    "\n",
    "Vamos a enriquecer el dataset relacionado a las subastas incluyendo, para cada observación, la cantidad de veces que ocurrió una aparición del mismo *device_id* dentro de la ventana de estudio anterior. También vamos a indicar el tiempo que pasó desde la última vez que ocurrió el evento para el mismo *device_id*.\n",
    "\n",
    "Primero, queremos tener un modelo que nos indica cuando será la próxima vez que aparecerá un usuario en una subasta.\n",
    "\n",
    "Es necesario convertir los tiempos de ocurrencia en segundos para que nos de una duración hasta el evento."
   ]
  },
  {
   "cell_type": "markdown",
   "metadata": {},
   "source": [
    "## Análisis de los eventos y installs para tratar de predecir con un modelo de Cox.\n",
    "\n",
    "Se debe tratar de predecir cuales features nos van a interesar en el fit. El tipo de conexión, por ejemplo, servirá mucho, mientras el countrycode no (solo hay uno en el set de datos)."
   ]
  },
  {
   "cell_type": "code",
   "execution_count": 6,
   "metadata": {},
   "outputs": [],
   "source": [
    "eventsCurated = events.drop(columns = ['ref_type', 'session_user_agent', 'device_os_version', 'device_brand',\\\n",
    "                                       'device_model', 'trans_id', 'user_agent', 'ip_address'])"
   ]
  },
  {
   "cell_type": "code",
   "execution_count": 7,
   "metadata": {},
   "outputs": [
    {
     "data": {
      "text/html": [
       "<div>\n",
       "<style scoped>\n",
       "    .dataframe tbody tr th:only-of-type {\n",
       "        vertical-align: middle;\n",
       "    }\n",
       "\n",
       "    .dataframe tbody tr th {\n",
       "        vertical-align: top;\n",
       "    }\n",
       "\n",
       "    .dataframe thead th {\n",
       "        text-align: right;\n",
       "    }\n",
       "</style>\n",
       "<table border=\"1\" class=\"dataframe\">\n",
       "  <thead>\n",
       "    <tr style=\"text-align: right;\">\n",
       "      <th></th>\n",
       "      <th>index</th>\n",
       "      <th>date</th>\n",
       "      <th>event_id</th>\n",
       "      <th>ref_hash</th>\n",
       "      <th>application_id</th>\n",
       "      <th>attributed</th>\n",
       "      <th>device_city</th>\n",
       "      <th>event_uuid</th>\n",
       "      <th>carrier</th>\n",
       "      <th>kind</th>\n",
       "      <th>device_os</th>\n",
       "      <th>wifi</th>\n",
       "      <th>connection_type</th>\n",
       "      <th>device_language</th>\n",
       "    </tr>\n",
       "  </thead>\n",
       "  <tbody>\n",
       "    <tr>\n",
       "      <th>0</th>\n",
       "      <td>2130678</td>\n",
       "      <td>2019-04-20 01:42:49.120</td>\n",
       "      <td>0</td>\n",
       "      <td>5857744372586891366</td>\n",
       "      <td>210</td>\n",
       "      <td>False</td>\n",
       "      <td>NaN</td>\n",
       "      <td>5b506964-5f47-4b28-a8c2-8a92d6c23379</td>\n",
       "      <td>NaN</td>\n",
       "      <td>5.882882e+18</td>\n",
       "      <td>NaN</td>\n",
       "      <td>False</td>\n",
       "      <td>NaN</td>\n",
       "      <td>3.301378e+18</td>\n",
       "    </tr>\n",
       "    <tr>\n",
       "      <th>1</th>\n",
       "      <td>2130680</td>\n",
       "      <td>2019-04-20 01:42:49.340</td>\n",
       "      <td>1</td>\n",
       "      <td>7642521036780133571</td>\n",
       "      <td>210</td>\n",
       "      <td>False</td>\n",
       "      <td>NaN</td>\n",
       "      <td>f1fb9d15-1a7b-4116-8d3b-c4c403e197e2</td>\n",
       "      <td>NaN</td>\n",
       "      <td>4.017674e+18</td>\n",
       "      <td>NaN</td>\n",
       "      <td>False</td>\n",
       "      <td>NaN</td>\n",
       "      <td>NaN</td>\n",
       "    </tr>\n",
       "  </tbody>\n",
       "</table>\n",
       "</div>"
      ],
      "text/plain": [
       "     index                     date  event_id             ref_hash  \\\n",
       "0  2130678  2019-04-20 01:42:49.120         0  5857744372586891366   \n",
       "1  2130680  2019-04-20 01:42:49.340         1  7642521036780133571   \n",
       "\n",
       "   application_id  attributed  device_city  \\\n",
       "0             210       False          NaN   \n",
       "1             210       False          NaN   \n",
       "\n",
       "                             event_uuid  carrier          kind  device_os  \\\n",
       "0  5b506964-5f47-4b28-a8c2-8a92d6c23379      NaN  5.882882e+18        NaN   \n",
       "1  f1fb9d15-1a7b-4116-8d3b-c4c403e197e2      NaN  4.017674e+18        NaN   \n",
       "\n",
       "    wifi connection_type  device_language  \n",
       "0  False             NaN     3.301378e+18  \n",
       "1  False             NaN              NaN  "
      ]
     },
     "execution_count": 7,
     "metadata": {},
     "output_type": "execute_result"
    }
   ],
   "source": [
    "eventsCurated.head(2)"
   ]
  },
  {
   "cell_type": "markdown",
   "metadata": {},
   "source": [
    "## Vamos a curar los features de installs ahora, dejar todas las columnas que ya aparecen en _events_ y despues empezar a mergear los dos dataframes, antes de separarlos en ventanas de tres días."
   ]
  },
  {
   "cell_type": "code",
   "execution_count": 125,
   "metadata": {},
   "outputs": [
    {
     "data": {
      "text/plain": [
       "created               481511\n",
       "application_id        481511\n",
       "ref_type              481511\n",
       "ref_hash              481511\n",
       "click_hash              1142\n",
       "attributed            481511\n",
       "implicit              481511\n",
       "device_brand          276443\n",
       "device_model          454619\n",
       "session_user_agent    466672\n",
       "user_agent            330768\n",
       "event_uuid            103168\n",
       "kind                  103168\n",
       "wifi                  294829\n",
       "trans_id                8933\n",
       "ip_address            481511\n",
       "device_language       453934\n",
       "dtype: int64"
      ]
     },
     "execution_count": 125,
     "metadata": {},
     "output_type": "execute_result"
    }
   ],
   "source": [
    "installs.count()"
   ]
  },
  {
   "cell_type": "code",
   "execution_count": 8,
   "metadata": {},
   "outputs": [],
   "source": [
    "installsCurated = installs.drop(columns = ['created', 'application_id', 'ref_type', 'ref_hash', \\\n",
    "                                           'click_hash', 'attributed', 'device_brand', 'device_model',\\\n",
    "                                           'session_user_agent', 'user_agent', 'kind', 'wifi', 'trans_id',\\\n",
    "                                          'ip_address', 'device_language'])"
   ]
  },
  {
   "cell_type": "markdown",
   "metadata": {},
   "source": [
    "### Nos quedamos con los implicit = True, para solo analizar los installs de los cuales tenemos el evento registrado."
   ]
  },
  {
   "cell_type": "code",
   "execution_count": 9,
   "metadata": {},
   "outputs": [],
   "source": [
    "installsCurated = installsCurated[installsCurated.implicit]"
   ]
  },
  {
   "cell_type": "code",
   "execution_count": 10,
   "metadata": {},
   "outputs": [],
   "source": [
    "installsCurated['installed'] = 1"
   ]
  },
  {
   "cell_type": "code",
   "execution_count": 11,
   "metadata": {
    "scrolled": true
   },
   "outputs": [
    {
     "data": {
      "text/html": [
       "<div>\n",
       "<style scoped>\n",
       "    .dataframe tbody tr th:only-of-type {\n",
       "        vertical-align: middle;\n",
       "    }\n",
       "\n",
       "    .dataframe tbody tr th {\n",
       "        vertical-align: top;\n",
       "    }\n",
       "\n",
       "    .dataframe thead th {\n",
       "        text-align: right;\n",
       "    }\n",
       "</style>\n",
       "<table border=\"1\" class=\"dataframe\">\n",
       "  <thead>\n",
       "    <tr style=\"text-align: right;\">\n",
       "      <th></th>\n",
       "      <th>implicit</th>\n",
       "      <th>event_uuid</th>\n",
       "      <th>installed</th>\n",
       "    </tr>\n",
       "  </thead>\n",
       "  <tbody>\n",
       "    <tr>\n",
       "      <th>0</th>\n",
       "      <td>True</td>\n",
       "      <td>79837499-2f2a-4605-a663-e322f759424f</td>\n",
       "      <td>1</td>\n",
       "    </tr>\n",
       "    <tr>\n",
       "      <th>2</th>\n",
       "      <td>True</td>\n",
       "      <td>dda99e3c-9c4b-487d-891c-79f0a02cb4a8</td>\n",
       "      <td>1</td>\n",
       "    </tr>\n",
       "  </tbody>\n",
       "</table>\n",
       "</div>"
      ],
      "text/plain": [
       "   implicit                            event_uuid  installed\n",
       "0      True  79837499-2f2a-4605-a663-e322f759424f          1\n",
       "2      True  dda99e3c-9c4b-487d-891c-79f0a02cb4a8          1"
      ]
     },
     "execution_count": 11,
     "metadata": {},
     "output_type": "execute_result"
    }
   ],
   "source": [
    "installsCurated.head(2)"
   ]
  },
  {
   "cell_type": "markdown",
   "metadata": {},
   "source": [
    "outer join"
   ]
  },
  {
   "cell_type": "code",
   "execution_count": 12,
   "metadata": {},
   "outputs": [],
   "source": [
    "eventsAndInstallsCurated = pd.merge(eventsCurated, installsCurated, on = 'event_uuid', how = 'left')"
   ]
  },
  {
   "cell_type": "code",
   "execution_count": 13,
   "metadata": {},
   "outputs": [
    {
     "data": {
      "text/plain": [
       "index              7744666\n",
       "date               7744666\n",
       "event_id           7744666\n",
       "ref_hash           7744666\n",
       "application_id     7744666\n",
       "attributed         7744666\n",
       "device_city        1895020\n",
       "event_uuid         7714894\n",
       "carrier            1925986\n",
       "kind               7714894\n",
       "device_os          1870190\n",
       "wifi               7744666\n",
       "connection_type    1809296\n",
       "device_language    5665494\n",
       "implicit            102359\n",
       "installed           102359\n",
       "dtype: int64"
      ]
     },
     "execution_count": 13,
     "metadata": {},
     "output_type": "execute_result"
    }
   ],
   "source": [
    "eventsAndInstallsCurated.count()"
   ]
  },
  {
   "cell_type": "code",
   "execution_count": 14,
   "metadata": {},
   "outputs": [],
   "source": [
    "eventsAndInstallsCurated = eventsAndInstallsCurated.drop(columns = ['implicit'])"
   ]
  },
  {
   "cell_type": "markdown",
   "metadata": {},
   "source": [
    "### Aca llenamos la columna de _installed_ con 0 en los eventos que no llevan a una instalacion. Eso sera la columna indicando el _censorship_ para nuestro modelo Cox"
   ]
  },
  {
   "cell_type": "code",
   "execution_count": 15,
   "metadata": {},
   "outputs": [],
   "source": [
    "eventsAndInstallsCurated[['installed']] = eventsAndInstallsCurated[['installed']].fillna(value = 0)"
   ]
  },
  {
   "cell_type": "code",
   "execution_count": 16,
   "metadata": {},
   "outputs": [
    {
     "data": {
      "text/plain": [
       "index              7744666\n",
       "date               7744666\n",
       "event_id           7744666\n",
       "ref_hash           7744666\n",
       "application_id     7744666\n",
       "attributed         7744666\n",
       "device_city        1895020\n",
       "event_uuid         7714894\n",
       "carrier            1925986\n",
       "kind               7714894\n",
       "device_os          1870190\n",
       "wifi               7744666\n",
       "connection_type    1809296\n",
       "device_language    5665494\n",
       "installed          7744666\n",
       "dtype: int64"
      ]
     },
     "execution_count": 16,
     "metadata": {},
     "output_type": "execute_result"
    }
   ],
   "source": [
    "eventsAndInstallsCurated.count()"
   ]
  },
  {
   "cell_type": "markdown",
   "metadata": {},
   "source": [
    "# Separacion por ventana, para no tratar con sets de datos enormes. Asi empezamos las pruebas y si nos anda bien, podemos hacerlo con todo."
   ]
  },
  {
   "cell_type": "code",
   "execution_count": 16,
   "metadata": {},
   "outputs": [],
   "source": [
    "eventsInstallsVentanaUno = eventsAndInstallsCurated.loc[(eventsAndInstallsCurated['date'] < \"2019-04-21\")]\n",
    "eventsInstallsVentanaUno = eventsInstallsVentanaUno.loc[(eventsAndInstallsCurated['date'] > \"2019-04-18\")]"
   ]
  },
  {
   "cell_type": "code",
   "execution_count": 17,
   "metadata": {},
   "outputs": [],
   "source": [
    "eventsInstallsVentanaDos = eventsAndInstallsCurated.loc[(eventsAndInstallsCurated['date'] < \"2019-04-22\")]\n",
    "eventsInstallsVentanaDos = eventsInstallsVentanaDos.loc[(eventsAndInstallsCurated['date'] > \"2019-04-19\")]"
   ]
  },
  {
   "cell_type": "code",
   "execution_count": 18,
   "metadata": {},
   "outputs": [],
   "source": [
    "eventsInstallsVentanaTres = eventsAndInstallsCurated.loc[(eventsAndInstallsCurated['date'] < \"2019-04-23\")]\n",
    "eventsInstallsVentanaTres = eventsInstallsVentanaTres.loc[(eventsAndInstallsCurated['date'] > \"2019-04-20\")]"
   ]
  },
  {
   "cell_type": "code",
   "execution_count": 19,
   "metadata": {},
   "outputs": [],
   "source": [
    "eventsInstallsVentanaCuatro = eventsAndInstallsCurated.loc[(eventsAndInstallsCurated['date'] < \"2019-04-24\")]\n",
    "eventsInstallsVentanaCuatro = eventsInstallsVentanaCuatro.loc[(eventsAndInstallsCurated['date'] > \"2019-04-21\")]"
   ]
  },
  {
   "cell_type": "code",
   "execution_count": 20,
   "metadata": {},
   "outputs": [],
   "source": [
    "eventsInstallsVentanaCinco = eventsAndInstallsCurated.loc[(eventsAndInstallsCurated['date'] < \"2019-04-25\")]\n",
    "eventsInstallsVentanaCinco = eventsInstallsVentanaCinco.loc[(eventsAndInstallsCurated['date'] > \"2019-04-22\")]"
   ]
  },
  {
   "cell_type": "markdown",
   "metadata": {},
   "source": [
    "### Tratamos de ver que importancia tiene el uso del wifi en la instalación de apps. Damos a cada device_id como feature su promedio de uso del wifi en los eventos en los cuales participó. \n",
    "\n",
    "### Hacemos pruebas con la ventana uno."
   ]
  },
  {
   "cell_type": "code",
   "execution_count": 21,
   "metadata": {},
   "outputs": [],
   "source": [
    "proporcionWifiPorDeviceVentanaUno = eventsInstallsVentanaUno[['ref_hash', 'wifi']].groupby('ref_hash').mean()\n",
    "proporcionWifiPorDeviceVentanaDos = eventsInstallsVentanaDos[['ref_hash', 'wifi']].groupby('ref_hash').mean()\n",
    "proporcionWifiPorDeviceVentanaTres = eventsInstallsVentanaTres[['ref_hash', 'wifi']].groupby('ref_hash').mean()\n",
    "proporcionWifiPorDeviceVentanaCuatro = eventsInstallsVentanaCuatro[['ref_hash', 'wifi']].groupby('ref_hash').mean()\n",
    "proporcionWifiPorDeviceVentanaCinco = eventsInstallsVentanaCinco[['ref_hash', 'wifi']].groupby('ref_hash').mean()"
   ]
  },
  {
   "cell_type": "code",
   "execution_count": 22,
   "metadata": {},
   "outputs": [
    {
     "data": {
      "text/html": [
       "<div>\n",
       "<style scoped>\n",
       "    .dataframe tbody tr th:only-of-type {\n",
       "        vertical-align: middle;\n",
       "    }\n",
       "\n",
       "    .dataframe tbody tr th {\n",
       "        vertical-align: top;\n",
       "    }\n",
       "\n",
       "    .dataframe thead th {\n",
       "        text-align: right;\n",
       "    }\n",
       "</style>\n",
       "<table border=\"1\" class=\"dataframe\">\n",
       "  <thead>\n",
       "    <tr style=\"text-align: right;\">\n",
       "      <th></th>\n",
       "      <th>wifi</th>\n",
       "    </tr>\n",
       "    <tr>\n",
       "      <th>ref_hash</th>\n",
       "      <th></th>\n",
       "    </tr>\n",
       "  </thead>\n",
       "  <tbody>\n",
       "    <tr>\n",
       "      <th>41863526108385</th>\n",
       "      <td>0.0</td>\n",
       "    </tr>\n",
       "    <tr>\n",
       "      <th>161514654074162</th>\n",
       "      <td>1.0</td>\n",
       "    </tr>\n",
       "  </tbody>\n",
       "</table>\n",
       "</div>"
      ],
      "text/plain": [
       "                 wifi\n",
       "ref_hash             \n",
       "41863526108385    0.0\n",
       "161514654074162   1.0"
      ]
     },
     "execution_count": 22,
     "metadata": {},
     "output_type": "execute_result"
    }
   ],
   "source": [
    "proporcionWifiPorDeviceVentanaUno.head(2)"
   ]
  },
  {
   "cell_type": "code",
   "execution_count": 23,
   "metadata": {},
   "outputs": [],
   "source": [
    "proporcionWifiPorDeviceVentanaUno = proporcionWifiPorDeviceVentanaUno.stack().reset_index()\n",
    "proporcionWifiPorDeviceVentanaDos = proporcionWifiPorDeviceVentanaDos.stack().reset_index()\n",
    "proporcionWifiPorDeviceVentanaTres = proporcionWifiPorDeviceVentanaTres.stack().reset_index()\n",
    "proporcionWifiPorDeviceVentanaCuatro = proporcionWifiPorDeviceVentanaCuatro.stack().reset_index()\n",
    "proporcionWifiPorDeviceVentanaCinco = proporcionWifiPorDeviceVentanaCinco.stack().reset_index()"
   ]
  },
  {
   "cell_type": "code",
   "execution_count": 24,
   "metadata": {},
   "outputs": [],
   "source": [
    "proporcionWifiPorDeviceVentanaUno = proporcionWifiPorDeviceVentanaUno.drop(columns = ['level_1'])\n",
    "proporcionWifiPorDeviceVentanaDos = proporcionWifiPorDeviceVentanaDos.drop(columns = ['level_1'])\n",
    "proporcionWifiPorDeviceVentanaTres = proporcionWifiPorDeviceVentanaTres.drop(columns = ['level_1'])\n",
    "proporcionWifiPorDeviceVentanaCuatro = proporcionWifiPorDeviceVentanaCuatro.drop(columns = ['level_1'])\n",
    "proporcionWifiPorDeviceVentanaCinco = proporcionWifiPorDeviceVentanaCinco.drop(columns = ['level_1'])"
   ]
  },
  {
   "cell_type": "code",
   "execution_count": 25,
   "metadata": {},
   "outputs": [],
   "source": [
    "proporcionWifiPorDeviceVentanaUno.columns = ['ref_hash', 'proporcion_wifi']\n",
    "proporcionWifiPorDeviceVentanaDos.columns = ['ref_hash', 'proporcion_wifi']\n",
    "proporcionWifiPorDeviceVentanaTres.columns = ['ref_hash', 'proporcion_wifi']\n",
    "proporcionWifiPorDeviceVentanaCuatro.columns = ['ref_hash', 'proporcion_wifi']\n",
    "proporcionWifiPorDeviceVentanaCinco.columns = ['ref_hash', 'proporcion_wifi']"
   ]
  },
  {
   "cell_type": "markdown",
   "metadata": {},
   "source": [
    "### Nos queremos quedar con un porcentaje, mas legible."
   ]
  },
  {
   "cell_type": "code",
   "execution_count": 26,
   "metadata": {},
   "outputs": [],
   "source": [
    "proporcionWifiPorDeviceVentanaUno['proporcion_wifi'] = proporcionWifiPorDeviceVentanaUno['proporcion_wifi']*100\n",
    "proporcionWifiPorDeviceVentanaDos['proporcion_wifi'] = proporcionWifiPorDeviceVentanaDos['proporcion_wifi']*100\n",
    "proporcionWifiPorDeviceVentanaTres['proporcion_wifi'] = proporcionWifiPorDeviceVentanaTres['proporcion_wifi']*100\n",
    "proporcionWifiPorDeviceVentanaCuatro['proporcion_wifi'] = proporcionWifiPorDeviceVentanaCuatro['proporcion_wifi']*100\n",
    "proporcionWifiPorDeviceVentanaCinco['proporcion_wifi'] = proporcionWifiPorDeviceVentanaCinco['proporcion_wifi']*100"
   ]
  },
  {
   "cell_type": "code",
   "execution_count": 27,
   "metadata": {
    "scrolled": true
   },
   "outputs": [
    {
     "data": {
      "text/html": [
       "<div>\n",
       "<style scoped>\n",
       "    .dataframe tbody tr th:only-of-type {\n",
       "        vertical-align: middle;\n",
       "    }\n",
       "\n",
       "    .dataframe tbody tr th {\n",
       "        vertical-align: top;\n",
       "    }\n",
       "\n",
       "    .dataframe thead th {\n",
       "        text-align: right;\n",
       "    }\n",
       "</style>\n",
       "<table border=\"1\" class=\"dataframe\">\n",
       "  <thead>\n",
       "    <tr style=\"text-align: right;\">\n",
       "      <th></th>\n",
       "      <th>ref_hash</th>\n",
       "      <th>proporcion_wifi</th>\n",
       "    </tr>\n",
       "  </thead>\n",
       "  <tbody>\n",
       "    <tr>\n",
       "      <th>0</th>\n",
       "      <td>41863526108385</td>\n",
       "      <td>0.0</td>\n",
       "    </tr>\n",
       "    <tr>\n",
       "      <th>1</th>\n",
       "      <td>161514654074162</td>\n",
       "      <td>100.0</td>\n",
       "    </tr>\n",
       "  </tbody>\n",
       "</table>\n",
       "</div>"
      ],
      "text/plain": [
       "          ref_hash  proporcion_wifi\n",
       "0   41863526108385              0.0\n",
       "1  161514654074162            100.0"
      ]
     },
     "execution_count": 27,
     "metadata": {},
     "output_type": "execute_result"
    }
   ],
   "source": [
    "proporcionWifiPorDeviceVentanaUno.head(2)"
   ]
  },
  {
   "cell_type": "code",
   "execution_count": 28,
   "metadata": {},
   "outputs": [],
   "source": [
    "eventsInstallsVentanaUno = pd.merge(eventsInstallsVentanaUno, proporcionWifiPorDeviceVentanaUno,\\\n",
    "                                    on = \"ref_hash\", how = \"left\")\n",
    "eventsInstallsVentanaDos = pd.merge(eventsInstallsVentanaDos, proporcionWifiPorDeviceVentanaDos,\\\n",
    "                                    on = \"ref_hash\", how = \"left\")\n",
    "eventsInstallsVentanaTres = pd.merge(eventsInstallsVentanaTres, proporcionWifiPorDeviceVentanaTres,\\\n",
    "                                    on = \"ref_hash\", how = \"left\")\n",
    "eventsInstallsVentanaCuatro = pd.merge(eventsInstallsVentanaCuatro, proporcionWifiPorDeviceVentanaCuatro,\\\n",
    "                                    on = \"ref_hash\", how = \"left\")\n",
    "eventsInstallsVentanaCinco = pd.merge(eventsInstallsVentanaCinco, proporcionWifiPorDeviceVentanaCinco,\\\n",
    "                                    on = \"ref_hash\", how = \"left\")"
   ]
  },
  {
   "cell_type": "code",
   "execution_count": 29,
   "metadata": {},
   "outputs": [
    {
     "data": {
      "text/html": [
       "<div>\n",
       "<style scoped>\n",
       "    .dataframe tbody tr th:only-of-type {\n",
       "        vertical-align: middle;\n",
       "    }\n",
       "\n",
       "    .dataframe tbody tr th {\n",
       "        vertical-align: top;\n",
       "    }\n",
       "\n",
       "    .dataframe thead th {\n",
       "        text-align: right;\n",
       "    }\n",
       "</style>\n",
       "<table border=\"1\" class=\"dataframe\">\n",
       "  <thead>\n",
       "    <tr style=\"text-align: right;\">\n",
       "      <th></th>\n",
       "      <th>index</th>\n",
       "      <th>date</th>\n",
       "      <th>event_id</th>\n",
       "      <th>ref_hash</th>\n",
       "      <th>application_id</th>\n",
       "      <th>attributed</th>\n",
       "      <th>device_city</th>\n",
       "      <th>event_uuid</th>\n",
       "      <th>carrier</th>\n",
       "      <th>kind</th>\n",
       "      <th>device_os</th>\n",
       "      <th>wifi</th>\n",
       "      <th>connection_type</th>\n",
       "      <th>device_language</th>\n",
       "      <th>installed</th>\n",
       "      <th>proporcion_wifi</th>\n",
       "    </tr>\n",
       "  </thead>\n",
       "  <tbody>\n",
       "    <tr>\n",
       "      <th>0</th>\n",
       "      <td>2130678</td>\n",
       "      <td>2019-04-20 01:42:49.120</td>\n",
       "      <td>0</td>\n",
       "      <td>5857744372586891366</td>\n",
       "      <td>210</td>\n",
       "      <td>False</td>\n",
       "      <td>NaN</td>\n",
       "      <td>5b506964-5f47-4b28-a8c2-8a92d6c23379</td>\n",
       "      <td>NaN</td>\n",
       "      <td>5.882882e+18</td>\n",
       "      <td>NaN</td>\n",
       "      <td>False</td>\n",
       "      <td>NaN</td>\n",
       "      <td>3.301378e+18</td>\n",
       "      <td>0.0</td>\n",
       "      <td>0.0</td>\n",
       "    </tr>\n",
       "    <tr>\n",
       "      <th>1</th>\n",
       "      <td>2130680</td>\n",
       "      <td>2019-04-20 01:42:49.340</td>\n",
       "      <td>1</td>\n",
       "      <td>7642521036780133571</td>\n",
       "      <td>210</td>\n",
       "      <td>False</td>\n",
       "      <td>NaN</td>\n",
       "      <td>f1fb9d15-1a7b-4116-8d3b-c4c403e197e2</td>\n",
       "      <td>NaN</td>\n",
       "      <td>4.017674e+18</td>\n",
       "      <td>NaN</td>\n",
       "      <td>False</td>\n",
       "      <td>NaN</td>\n",
       "      <td>NaN</td>\n",
       "      <td>0.0</td>\n",
       "      <td>0.0</td>\n",
       "    </tr>\n",
       "  </tbody>\n",
       "</table>\n",
       "</div>"
      ],
      "text/plain": [
       "     index                     date  event_id             ref_hash  \\\n",
       "0  2130678  2019-04-20 01:42:49.120         0  5857744372586891366   \n",
       "1  2130680  2019-04-20 01:42:49.340         1  7642521036780133571   \n",
       "\n",
       "   application_id  attributed  device_city  \\\n",
       "0             210       False          NaN   \n",
       "1             210       False          NaN   \n",
       "\n",
       "                             event_uuid  carrier          kind  device_os  \\\n",
       "0  5b506964-5f47-4b28-a8c2-8a92d6c23379      NaN  5.882882e+18        NaN   \n",
       "1  f1fb9d15-1a7b-4116-8d3b-c4c403e197e2      NaN  4.017674e+18        NaN   \n",
       "\n",
       "    wifi connection_type  device_language  installed  proporcion_wifi  \n",
       "0  False             NaN     3.301378e+18        0.0              0.0  \n",
       "1  False             NaN              NaN        0.0              0.0  "
      ]
     },
     "execution_count": 29,
     "metadata": {},
     "output_type": "execute_result"
    }
   ],
   "source": [
    "eventsInstallsVentanaUno.head(2)"
   ]
  },
  {
   "cell_type": "markdown",
   "metadata": {},
   "source": [
    "## Tratamiento de la fecha y de la forma del tiempo. Hacemos como lo que hicimos para auctions."
   ]
  },
  {
   "cell_type": "code",
   "execution_count": 30,
   "metadata": {},
   "outputs": [],
   "source": [
    "eventsInstallsVentanaUno['fechaInicial'] = pd.to_datetime(\"2019-04-18 00:00:00\")\n",
    "eventsInstallsVentanaDos['fechaInicial'] = pd.to_datetime(\"2019-04-19 00:00:00\")\n",
    "eventsInstallsVentanaTres['fechaInicial'] = pd.to_datetime(\"2019-04-20 00:00:00\")\n",
    "eventsInstallsVentanaCuatro['fechaInicial'] = pd.to_datetime(\"2019-04-21 00:00:00\")\n",
    "eventsInstallsVentanaCinco['fechaInicial'] = pd.to_datetime(\"2019-04-22 00:00:00\")"
   ]
  },
  {
   "cell_type": "code",
   "execution_count": 31,
   "metadata": {},
   "outputs": [],
   "source": [
    "eventsInstallsVentanaUno[\"sum\"] = 1\n",
    "eventsInstallsVentanaDos[\"sum\"] = 1\n",
    "eventsInstallsVentanaTres[\"sum\"] = 1\n",
    "eventsInstallsVentanaCuatro[\"sum\"] = 1\n",
    "eventsInstallsVentanaCinco[\"sum\"] = 1"
   ]
  },
  {
   "cell_type": "code",
   "execution_count": 32,
   "metadata": {},
   "outputs": [],
   "source": [
    "eventsInstallsVentanaUno.loc[:,'date'] = pd.to_datetime(eventsInstallsVentanaUno['date'], errors = 'coerce')\n",
    "eventsInstallsVentanaDos.loc[:,'date'] = pd.to_datetime(eventsInstallsVentanaDos['date'], errors = 'coerce')\n",
    "eventsInstallsVentanaTres.loc[:,'date'] = pd.to_datetime(eventsInstallsVentanaTres['date'], errors = 'coerce')\n",
    "eventsInstallsVentanaCuatro.loc[:,'date'] = pd.to_datetime(eventsInstallsVentanaCuatro['date'], errors = 'coerce')\n",
    "eventsInstallsVentanaCinco.loc[:,'date'] = pd.to_datetime(eventsInstallsVentanaCinco['date'], errors = 'coerce')"
   ]
  },
  {
   "cell_type": "code",
   "execution_count": 33,
   "metadata": {},
   "outputs": [],
   "source": [
    "eventsInstallsVentanaUno[\"date\"] = eventsInstallsVentanaUno[\"date\"] - eventsInstallsVentanaUno[\"fechaInicial\"]\n",
    "eventsInstallsVentanaDos[\"date\"] = eventsInstallsVentanaDos[\"date\"] - eventsInstallsVentanaDos[\"fechaInicial\"]\n",
    "eventsInstallsVentanaTres[\"date\"] = eventsInstallsVentanaTres[\"date\"] - eventsInstallsVentanaTres[\"fechaInicial\"]\n",
    "eventsInstallsVentanaCuatro[\"date\"] = eventsInstallsVentanaCuatro[\"date\"] - eventsInstallsVentanaCuatro[\"fechaInicial\"]\n",
    "eventsInstallsVentanaCinco[\"date\"] = eventsInstallsVentanaCinco[\"date\"] - eventsInstallsVentanaCinco[\"fechaInicial\"]"
   ]
  },
  {
   "cell_type": "code",
   "execution_count": 34,
   "metadata": {},
   "outputs": [
    {
     "data": {
      "text/html": [
       "<div>\n",
       "<style scoped>\n",
       "    .dataframe tbody tr th:only-of-type {\n",
       "        vertical-align: middle;\n",
       "    }\n",
       "\n",
       "    .dataframe tbody tr th {\n",
       "        vertical-align: top;\n",
       "    }\n",
       "\n",
       "    .dataframe thead th {\n",
       "        text-align: right;\n",
       "    }\n",
       "</style>\n",
       "<table border=\"1\" class=\"dataframe\">\n",
       "  <thead>\n",
       "    <tr style=\"text-align: right;\">\n",
       "      <th></th>\n",
       "      <th>index</th>\n",
       "      <th>date</th>\n",
       "      <th>event_id</th>\n",
       "      <th>ref_hash</th>\n",
       "      <th>application_id</th>\n",
       "      <th>attributed</th>\n",
       "      <th>device_city</th>\n",
       "      <th>event_uuid</th>\n",
       "      <th>carrier</th>\n",
       "      <th>kind</th>\n",
       "      <th>device_os</th>\n",
       "      <th>wifi</th>\n",
       "      <th>connection_type</th>\n",
       "      <th>device_language</th>\n",
       "      <th>installed</th>\n",
       "      <th>proporcion_wifi</th>\n",
       "      <th>fechaInicial</th>\n",
       "      <th>sum</th>\n",
       "    </tr>\n",
       "  </thead>\n",
       "  <tbody>\n",
       "    <tr>\n",
       "      <th>0</th>\n",
       "      <td>2130678</td>\n",
       "      <td>2 days 01:42:49.120000</td>\n",
       "      <td>0</td>\n",
       "      <td>5857744372586891366</td>\n",
       "      <td>210</td>\n",
       "      <td>False</td>\n",
       "      <td>NaN</td>\n",
       "      <td>5b506964-5f47-4b28-a8c2-8a92d6c23379</td>\n",
       "      <td>NaN</td>\n",
       "      <td>5.882882e+18</td>\n",
       "      <td>NaN</td>\n",
       "      <td>False</td>\n",
       "      <td>NaN</td>\n",
       "      <td>3.301378e+18</td>\n",
       "      <td>0.0</td>\n",
       "      <td>0.0</td>\n",
       "      <td>2019-04-18</td>\n",
       "      <td>1</td>\n",
       "    </tr>\n",
       "    <tr>\n",
       "      <th>1</th>\n",
       "      <td>2130680</td>\n",
       "      <td>2 days 01:42:49.340000</td>\n",
       "      <td>1</td>\n",
       "      <td>7642521036780133571</td>\n",
       "      <td>210</td>\n",
       "      <td>False</td>\n",
       "      <td>NaN</td>\n",
       "      <td>f1fb9d15-1a7b-4116-8d3b-c4c403e197e2</td>\n",
       "      <td>NaN</td>\n",
       "      <td>4.017674e+18</td>\n",
       "      <td>NaN</td>\n",
       "      <td>False</td>\n",
       "      <td>NaN</td>\n",
       "      <td>NaN</td>\n",
       "      <td>0.0</td>\n",
       "      <td>0.0</td>\n",
       "      <td>2019-04-18</td>\n",
       "      <td>1</td>\n",
       "    </tr>\n",
       "  </tbody>\n",
       "</table>\n",
       "</div>"
      ],
      "text/plain": [
       "     index                   date  event_id             ref_hash  \\\n",
       "0  2130678 2 days 01:42:49.120000         0  5857744372586891366   \n",
       "1  2130680 2 days 01:42:49.340000         1  7642521036780133571   \n",
       "\n",
       "   application_id  attributed  device_city  \\\n",
       "0             210       False          NaN   \n",
       "1             210       False          NaN   \n",
       "\n",
       "                             event_uuid  carrier          kind  device_os  \\\n",
       "0  5b506964-5f47-4b28-a8c2-8a92d6c23379      NaN  5.882882e+18        NaN   \n",
       "1  f1fb9d15-1a7b-4116-8d3b-c4c403e197e2      NaN  4.017674e+18        NaN   \n",
       "\n",
       "    wifi connection_type  device_language  installed  proporcion_wifi  \\\n",
       "0  False             NaN     3.301378e+18        0.0              0.0   \n",
       "1  False             NaN              NaN        0.0              0.0   \n",
       "\n",
       "  fechaInicial  sum  \n",
       "0   2019-04-18    1  \n",
       "1   2019-04-18    1  "
      ]
     },
     "execution_count": 34,
     "metadata": {},
     "output_type": "execute_result"
    }
   ],
   "source": [
    "eventsInstallsVentanaUno.head(2)"
   ]
  },
  {
   "cell_type": "markdown",
   "metadata": {},
   "source": [
    "### Convertimos el tiempo en cantidad de segundos."
   ]
  },
  {
   "cell_type": "code",
   "execution_count": 35,
   "metadata": {},
   "outputs": [],
   "source": [
    "eventsInstallsVentanaUno[\"date\"] = eventsInstallsVentanaUno[\"date\"].dt.total_seconds()\n",
    "eventsInstallsVentanaDos[\"date\"] = eventsInstallsVentanaDos[\"date\"].dt.total_seconds()\n",
    "eventsInstallsVentanaTres[\"date\"] = eventsInstallsVentanaTres[\"date\"].dt.total_seconds()\n",
    "eventsInstallsVentanaCuatro[\"date\"] = eventsInstallsVentanaCuatro[\"date\"].dt.total_seconds()\n",
    "eventsInstallsVentanaCinco[\"date\"] = eventsInstallsVentanaCinco[\"date\"].dt.total_seconds()"
   ]
  },
  {
   "cell_type": "markdown",
   "metadata": {},
   "source": [
    "### Ya no necesitamos la fecha inicial"
   ]
  },
  {
   "cell_type": "code",
   "execution_count": 36,
   "metadata": {},
   "outputs": [],
   "source": [
    "eventsInstallsVentanaUno = eventsInstallsVentanaUno.drop(columns = ['fechaInicial'])\n",
    "eventsInstallsVentanaDos = eventsInstallsVentanaDos.drop(columns = ['fechaInicial'])\n",
    "eventsInstallsVentanaTres = eventsInstallsVentanaTres.drop(columns = ['fechaInicial'])\n",
    "eventsInstallsVentanaCuatro = eventsInstallsVentanaCuatro.drop(columns = ['fechaInicial'])\n",
    "eventsInstallsVentanaCuatro = eventsInstallsVentanaCinco.drop(columns = ['fechaInicial'])"
   ]
  },
  {
   "cell_type": "markdown",
   "metadata": {},
   "source": [
    "### Contamos la cantidad de eventos por device_id (o ref_hash) en cada ventana"
   ]
  },
  {
   "cell_type": "code",
   "execution_count": 37,
   "metadata": {},
   "outputs": [],
   "source": [
    "cantidadDeEventosPorIdVentanaUno = eventsInstallsVentanaUno[['ref_hash','sum']].groupby('ref_hash').sum()\n",
    "cantidadDeEventosPorIdVentanaDos = eventsInstallsVentanaDos[['ref_hash','sum']].groupby('ref_hash').sum()\n",
    "cantidadDeEventosPorIdVentanaTres = eventsInstallsVentanaTres[['ref_hash','sum']].groupby('ref_hash').sum()\n",
    "cantidadDeEventosPorIdVentanaCuatro = eventsInstallsVentanaCuatro[['ref_hash','sum']].groupby('ref_hash').sum()\n",
    "cantidadDeEventosPorIdVentanaCinco = eventsInstallsVentanaCinco[['ref_hash','sum']].groupby('ref_hash').sum()"
   ]
  },
  {
   "cell_type": "code",
   "execution_count": 38,
   "metadata": {},
   "outputs": [],
   "source": [
    "cantidadDeEventosPorIdVentanaUno = cantidadDeEventosPorIdVentanaUno.stack().reset_index()\n",
    "cantidadDeEventosPorIdVentanaDos = cantidadDeEventosPorIdVentanaDos.stack().reset_index()\n",
    "cantidadDeEventosPorIdVentanaTres = cantidadDeEventosPorIdVentanaTres.stack().reset_index()\n",
    "cantidadDeEventosPorIdVentanaCuatro = cantidadDeEventosPorIdVentanaCuatro.stack().reset_index()\n",
    "cantidadDeEventosPorIdVentanaCinco = cantidadDeEventosPorIdVentanaCinco.stack().reset_index()"
   ]
  },
  {
   "cell_type": "code",
   "execution_count": 39,
   "metadata": {},
   "outputs": [],
   "source": [
    "cantidadDeEventosPorIdVentanaUno = cantidadDeEventosPorIdVentanaUno.drop(columns = ['level_1'])\n",
    "cantidadDeEventosPorIdVentanaDos = cantidadDeEventosPorIdVentanaDos.drop(columns = ['level_1'])\n",
    "cantidadDeEventosPorIdVentanaTres = cantidadDeEventosPorIdVentanaTres.drop(columns = ['level_1'])\n",
    "cantidadDeEventosPorIdVentanaCuatro = cantidadDeEventosPorIdVentanaCuatro.drop(columns = ['level_1'])\n",
    "cantidadDeEventosPorIdVentanaCinco = cantidadDeEventosPorIdVentanaCinco.drop(columns = ['level_1'])"
   ]
  },
  {
   "cell_type": "code",
   "execution_count": 40,
   "metadata": {},
   "outputs": [],
   "source": [
    "cantidadDeEventosPorIdVentanaUno.columns = ['ref_hash', 'cantidad_eventos']\n",
    "cantidadDeEventosPorIdVentanaDos.columns = ['ref_hash', 'cantidad_eventos']\n",
    "cantidadDeEventosPorIdVentanaTres.columns = ['ref_hash', 'cantidad_eventos']\n",
    "cantidadDeEventosPorIdVentanaCuatro.columns = ['ref_hash', 'cantidad_eventos']\n",
    "cantidadDeEventosPorIdVentanaCinco.columns = ['ref_hash', 'cantidad_eventos']"
   ]
  },
  {
   "cell_type": "code",
   "execution_count": 41,
   "metadata": {},
   "outputs": [
    {
     "data": {
      "text/html": [
       "<div>\n",
       "<style scoped>\n",
       "    .dataframe tbody tr th:only-of-type {\n",
       "        vertical-align: middle;\n",
       "    }\n",
       "\n",
       "    .dataframe tbody tr th {\n",
       "        vertical-align: top;\n",
       "    }\n",
       "\n",
       "    .dataframe thead th {\n",
       "        text-align: right;\n",
       "    }\n",
       "</style>\n",
       "<table border=\"1\" class=\"dataframe\">\n",
       "  <thead>\n",
       "    <tr style=\"text-align: right;\">\n",
       "      <th></th>\n",
       "      <th>ref_hash</th>\n",
       "      <th>cantidad_eventos</th>\n",
       "    </tr>\n",
       "  </thead>\n",
       "  <tbody>\n",
       "    <tr>\n",
       "      <th>0</th>\n",
       "      <td>40621409780134</td>\n",
       "      <td>6</td>\n",
       "    </tr>\n",
       "    <tr>\n",
       "      <th>1</th>\n",
       "      <td>41863526108385</td>\n",
       "      <td>72</td>\n",
       "    </tr>\n",
       "  </tbody>\n",
       "</table>\n",
       "</div>"
      ],
      "text/plain": [
       "         ref_hash  cantidad_eventos\n",
       "0  40621409780134                 6\n",
       "1  41863526108385                72"
      ]
     },
     "execution_count": 41,
     "metadata": {},
     "output_type": "execute_result"
    }
   ],
   "source": [
    "cantidadDeEventosPorIdVentanaDos.head(2)"
   ]
  },
  {
   "cell_type": "markdown",
   "metadata": {},
   "source": [
    "### Vamos a tomar todos los eventos que no llegan a un install y pasar la fecha a 3 days. Eso llevará a muchas columnas iguales, entonces iremos suprimiendolas. Sin embargo, se almacenerá la cantidad total de eventos para cada device_id. \n",
    "\n",
    "#### Para hacer eso, vamos a aplicar un _groupby_ por device_id sumando la columna _installed_. Los que tienen un puntaje de 0 son los que hay que reducir. \n",
    "\n",
    "\n",
    "#### Paras los eventos que llegan a varios installs, se conservará uno solo con la primera fecha de ocurrencia, pero se almacenará el tiempo promedio entre dos installs."
   ]
  },
  {
   "cell_type": "markdown",
   "metadata": {},
   "source": [
    "### Contamos la cantidad de installs por device_id (o ref_hash) en cada ventana"
   ]
  },
  {
   "cell_type": "code",
   "execution_count": 42,
   "metadata": {},
   "outputs": [],
   "source": [
    "cantidadDeInstallsPorIdVentanaUno = eventsInstallsVentanaUno[['ref_hash','installed']].groupby('ref_hash').sum()\n",
    "cantidadDeInstallsPorIdVentanaDos = eventsInstallsVentanaDos[['ref_hash','installed']].groupby('ref_hash').sum()\n",
    "cantidadDeInstallsPorIdVentanaTres = eventsInstallsVentanaTres[['ref_hash','installed']].groupby('ref_hash').sum()\n",
    "cantidadDeInstallsPorIdVentanaCuatro=eventsInstallsVentanaCuatro[['ref_hash','installed']].groupby('ref_hash').sum()\n",
    "cantidadDeInstallsPorIdVentanaCinco = eventsInstallsVentanaCinco[['ref_hash','installed']].groupby('ref_hash').sum()"
   ]
  },
  {
   "cell_type": "code",
   "execution_count": 43,
   "metadata": {},
   "outputs": [],
   "source": [
    "cantidadDeInstallsPorIdVentanaUno = cantidadDeInstallsPorIdVentanaUno.stack().reset_index()\n",
    "cantidadDeInstallsPorIdVentanaDos = cantidadDeInstallsPorIdVentanaDos.stack().reset_index()\n",
    "cantidadDeInstallsPorIdVentanaTres = cantidadDeInstallsPorIdVentanaTres.stack().reset_index()\n",
    "cantidadDeInstallsPorIdVentanaCuatro = cantidadDeInstallsPorIdVentanaCuatro.stack().reset_index()\n",
    "cantidadDeInstallsPorIdVentanaCinco = cantidadDeInstallsPorIdVentanaCinco.stack().reset_index()"
   ]
  },
  {
   "cell_type": "code",
   "execution_count": 44,
   "metadata": {},
   "outputs": [],
   "source": [
    "cantidadDeInstallsPorIdVentanaUno = cantidadDeInstallsPorIdVentanaUno.drop(columns = ['level_1'])\n",
    "cantidadDeInstallsPorIdVentanaDos = cantidadDeInstallsPorIdVentanaDos.drop(columns = ['level_1'])\n",
    "cantidadDeInstallsPorIdVentanaTres = cantidadDeInstallsPorIdVentanaTres.drop(columns = ['level_1'])\n",
    "cantidadDeInstallsPorIdVentanaCuatro = cantidadDeInstallsPorIdVentanaCuatro.drop(columns = ['level_1'])\n",
    "cantidadDeInstallsPorIdVentanaCinco = cantidadDeInstallsPorIdVentanaCinco.drop(columns = ['level_1'])"
   ]
  },
  {
   "cell_type": "code",
   "execution_count": 45,
   "metadata": {},
   "outputs": [],
   "source": [
    "cantidadDeInstallsPorIdVentanaUno.columns = ['ref_hash', 'cantidad_installs']\n",
    "cantidadDeInstallsPorIdVentanaDos.columns = ['ref_hash', 'cantidad_installs']\n",
    "cantidadDeInstallsPorIdVentanaTres.columns = ['ref_hash', 'cantidad_installs']\n",
    "cantidadDeInstallsPorIdVentanaCuatro.columns = ['ref_hash', 'cantidad_installs']\n",
    "cantidadDeInstallsPorIdVentanaCinco.columns = ['ref_hash', 'cantidad_installs']"
   ]
  },
  {
   "cell_type": "code",
   "execution_count": 46,
   "metadata": {},
   "outputs": [
    {
     "data": {
      "text/html": [
       "<div>\n",
       "<style scoped>\n",
       "    .dataframe tbody tr th:only-of-type {\n",
       "        vertical-align: middle;\n",
       "    }\n",
       "\n",
       "    .dataframe tbody tr th {\n",
       "        vertical-align: top;\n",
       "    }\n",
       "\n",
       "    .dataframe thead th {\n",
       "        text-align: right;\n",
       "    }\n",
       "</style>\n",
       "<table border=\"1\" class=\"dataframe\">\n",
       "  <thead>\n",
       "    <tr style=\"text-align: right;\">\n",
       "      <th></th>\n",
       "      <th>ref_hash</th>\n",
       "      <th>cantidad_installs</th>\n",
       "    </tr>\n",
       "  </thead>\n",
       "  <tbody>\n",
       "    <tr>\n",
       "      <th>0</th>\n",
       "      <td>40621409780134</td>\n",
       "      <td>0.0</td>\n",
       "    </tr>\n",
       "    <tr>\n",
       "      <th>1</th>\n",
       "      <td>41863526108385</td>\n",
       "      <td>0.0</td>\n",
       "    </tr>\n",
       "  </tbody>\n",
       "</table>\n",
       "</div>"
      ],
      "text/plain": [
       "         ref_hash  cantidad_installs\n",
       "0  40621409780134                0.0\n",
       "1  41863526108385                0.0"
      ]
     },
     "execution_count": 46,
     "metadata": {},
     "output_type": "execute_result"
    }
   ],
   "source": [
    "cantidadDeInstallsPorIdVentanaDos.head(2)"
   ]
  },
  {
   "cell_type": "markdown",
   "metadata": {},
   "source": [
    "# Aca nos ponemos a calcular el tiempo promerdio entre dos installs para cada decice_id. Le ponemos un valor del primer tiempo de ocurrencia si es que apareció una sola vez. Iremos cambiando este parametro.\n",
    "\n",
    "### Los que nunca aparecieron, le ponemos primero un tiempo de 3 días, y veremos como cambia el modelo si le dejamos un NaN\n",
    "\n",
    "### Primero nos quedamos con los que llevan un install al menos."
   ]
  },
  {
   "cell_type": "code",
   "execution_count": 47,
   "metadata": {},
   "outputs": [],
   "source": [
    "tiempoEntreInstallsPorIdVentanaUno = eventsInstallsVentanaUno.sort_values(['ref_hash', 'date'], ascending = [True, True])\n",
    "tiempoEntreInstallsPorIdVentanaDos = eventsInstallsVentanaDos.sort_values(['ref_hash', 'date'], ascending = [True, True])\n",
    "tiempoEntreInstallsPorIdVentanaTres = eventsInstallsVentanaTres.sort_values(['ref_hash', 'date'], ascending = [True, True])\n",
    "tiempoEntreInstallsPorIdVentanaCuatro = eventsInstallsVentanaCuatro.sort_values(['ref_hash', 'date'], ascending = [True, True])\n",
    "tiempoEntreInstallsPorIdVentanaCinco = eventsInstallsVentanaCinco.sort_values(['ref_hash', 'date'], ascending = [True, True])"
   ]
  },
  {
   "cell_type": "code",
   "execution_count": 48,
   "metadata": {},
   "outputs": [],
   "source": [
    "tiempoEntreInstallsPorIdVentanaUno = \\\n",
    "tiempoEntreInstallsPorIdVentanaUno[tiempoEntreInstallsPorIdVentanaUno.installed == 1]\n",
    "tiempoEntreInstallsPorIdVentanaDos = \\\n",
    "tiempoEntreInstallsPorIdVentanaDos[tiempoEntreInstallsPorIdVentanaDos.installed == 1]\n",
    "tiempoEntreInstallsPorIdVentanaTres = \\\n",
    "tiempoEntreInstallsPorIdVentanaTres[tiempoEntreInstallsPorIdVentanaTres.installed == 1]\n",
    "tiempoEntreInstallsPorIdVentanaCuatro = \\\n",
    "tiempoEntreInstallsPorIdVentanaCuatro[tiempoEntreInstallsPorIdVentanaCuatro.installed == 1]\n",
    "tiempoEntreInstallsPorIdVentanaCinco = \\\n",
    "tiempoEntreInstallsPorIdVentanaCinco[tiempoEntreInstallsPorIdVentanaCinco.installed == 1]"
   ]
  },
  {
   "cell_type": "code",
   "execution_count": 49,
   "metadata": {},
   "outputs": [],
   "source": [
    "tiempoEntreInstallsPorIdVentanaUno = tiempoEntreInstallsPorIdVentanaUno[['date', 'ref_hash']]\n",
    "tiempoEntreInstallsPorIdVentanaDos = tiempoEntreInstallsPorIdVentanaDos[['date', 'ref_hash']]\n",
    "tiempoEntreInstallsPorIdVentanaTres = tiempoEntreInstallsPorIdVentanaTres[['date', 'ref_hash']]\n",
    "tiempoEntreInstallsPorIdVentanaCuatro = tiempoEntreInstallsPorIdVentanaCuatro[['date', 'ref_hash']]\n",
    "tiempoEntreInstallsPorIdVentanaCinco = tiempoEntreInstallsPorIdVentanaCinco[['date', 'ref_hash']]"
   ]
  },
  {
   "cell_type": "code",
   "execution_count": 50,
   "metadata": {
    "scrolled": true
   },
   "outputs": [
    {
     "data": {
      "text/html": [
       "<div>\n",
       "<style scoped>\n",
       "    .dataframe tbody tr th:only-of-type {\n",
       "        vertical-align: middle;\n",
       "    }\n",
       "\n",
       "    .dataframe tbody tr th {\n",
       "        vertical-align: top;\n",
       "    }\n",
       "\n",
       "    .dataframe thead th {\n",
       "        text-align: right;\n",
       "    }\n",
       "</style>\n",
       "<table border=\"1\" class=\"dataframe\">\n",
       "  <thead>\n",
       "    <tr style=\"text-align: right;\">\n",
       "      <th></th>\n",
       "      <th>date</th>\n",
       "      <th>ref_hash</th>\n",
       "    </tr>\n",
       "  </thead>\n",
       "  <tbody>\n",
       "    <tr>\n",
       "      <th>269132</th>\n",
       "      <td>76310.326</td>\n",
       "      <td>41863526108385</td>\n",
       "    </tr>\n",
       "    <tr>\n",
       "      <th>876963</th>\n",
       "      <td>76636.531</td>\n",
       "      <td>41863526108385</td>\n",
       "    </tr>\n",
       "    <tr>\n",
       "      <th>326585</th>\n",
       "      <td>60042.839</td>\n",
       "      <td>186034136943920</td>\n",
       "    </tr>\n",
       "    <tr>\n",
       "      <th>378393</th>\n",
       "      <td>65400.392</td>\n",
       "      <td>558877640599287</td>\n",
       "    </tr>\n",
       "    <tr>\n",
       "      <th>783412</th>\n",
       "      <td>148990.929</td>\n",
       "      <td>989540301617336</td>\n",
       "    </tr>\n",
       "  </tbody>\n",
       "</table>\n",
       "</div>"
      ],
      "text/plain": [
       "              date         ref_hash\n",
       "269132   76310.326   41863526108385\n",
       "876963   76636.531   41863526108385\n",
       "326585   60042.839  186034136943920\n",
       "378393   65400.392  558877640599287\n",
       "783412  148990.929  989540301617336"
      ]
     },
     "execution_count": 50,
     "metadata": {},
     "output_type": "execute_result"
    }
   ],
   "source": [
    "tiempoEntreInstallsPorIdVentanaUno.head()"
   ]
  },
  {
   "cell_type": "markdown",
   "metadata": {},
   "source": [
    "### Método para calcular la diferencia de tiempo"
   ]
  },
  {
   "cell_type": "code",
   "execution_count": 51,
   "metadata": {},
   "outputs": [],
   "source": [
    "def agregarTiempoPromedio(dataframe):\n",
    "    dataframe['time_diff'] = 0\n",
    "\n",
    "    for I in range(1,len(dataframe) - 1):\n",
    "        if ((dataframe.iloc[I,1] != dataframe.iloc[I-1,1]) and (dataframe.iloc[I,1] != dataframe.iloc[I+1,1])):\n",
    "            dataframe.iloc[I,2] = dataframe.iloc[I,0] #tiempo hasta ocurrencia\n",
    "        elif (dataframe.iloc[I,0] > dataframe.iloc[I-1,0]) and (dataframe.iloc[I,1] == dataframe.iloc[I-1,1]):\n",
    "            dataframe.iloc[I,2] = dataframe.iloc[I,0] - dataframe.iloc[I-1,0]\n",
    "        else: \n",
    "            dataframe.iloc[I,2]=0\n",
    "    return (dataframe)"
   ]
  },
  {
   "cell_type": "code",
   "execution_count": 52,
   "metadata": {},
   "outputs": [],
   "source": [
    "tiempoEntreInstallsPorIdVentanaUno = agregarTiempoPromedio(tiempoEntreInstallsPorIdVentanaUno)"
   ]
  },
  {
   "cell_type": "code",
   "execution_count": 54,
   "metadata": {},
   "outputs": [],
   "source": [
    "tiempoEntreInstallsPorIdVentanaDos = agregarTiempoPromedio(tiempoEntreInstallsPorIdVentanaDos)\n",
    "tiempoEntreInstallsPorIdVentanaTres = agregarTiempoPromedio(tiempoEntreInstallsPorIdVentanaTres)\n",
    "tiempoEntreInstallsPorIdVentanaCuatro = agregarTiempoPromedio(tiempoEntreInstallsPorIdVentanaCuatro)\n",
    "tiempoEntreInstallsPorIdVentanaCinco = agregarTiempoPromedio(tiempoEntreInstallsPorIdVentanaCinco)"
   ]
  },
  {
   "cell_type": "markdown",
   "metadata": {},
   "source": [
    "### Atención: necesidad de agregar una parte que trata el primero y el ultimo elemento de la ventana."
   ]
  },
  {
   "cell_type": "code",
   "execution_count": 55,
   "metadata": {
    "scrolled": true
   },
   "outputs": [
    {
     "data": {
      "text/html": [
       "<div>\n",
       "<style scoped>\n",
       "    .dataframe tbody tr th:only-of-type {\n",
       "        vertical-align: middle;\n",
       "    }\n",
       "\n",
       "    .dataframe tbody tr th {\n",
       "        vertical-align: top;\n",
       "    }\n",
       "\n",
       "    .dataframe thead th {\n",
       "        text-align: right;\n",
       "    }\n",
       "</style>\n",
       "<table border=\"1\" class=\"dataframe\">\n",
       "  <thead>\n",
       "    <tr style=\"text-align: right;\">\n",
       "      <th></th>\n",
       "      <th>date</th>\n",
       "      <th>ref_hash</th>\n",
       "      <th>time_diff</th>\n",
       "    </tr>\n",
       "  </thead>\n",
       "  <tbody>\n",
       "    <tr>\n",
       "      <th>269132</th>\n",
       "      <td>76310.326</td>\n",
       "      <td>41863526108385</td>\n",
       "      <td>0.000</td>\n",
       "    </tr>\n",
       "    <tr>\n",
       "      <th>876963</th>\n",
       "      <td>76636.531</td>\n",
       "      <td>41863526108385</td>\n",
       "      <td>326.205</td>\n",
       "    </tr>\n",
       "    <tr>\n",
       "      <th>326585</th>\n",
       "      <td>60042.839</td>\n",
       "      <td>186034136943920</td>\n",
       "      <td>60042.839</td>\n",
       "    </tr>\n",
       "    <tr>\n",
       "      <th>378393</th>\n",
       "      <td>65400.392</td>\n",
       "      <td>558877640599287</td>\n",
       "      <td>65400.392</td>\n",
       "    </tr>\n",
       "    <tr>\n",
       "      <th>783412</th>\n",
       "      <td>148990.929</td>\n",
       "      <td>989540301617336</td>\n",
       "      <td>148990.929</td>\n",
       "    </tr>\n",
       "  </tbody>\n",
       "</table>\n",
       "</div>"
      ],
      "text/plain": [
       "              date         ref_hash   time_diff\n",
       "269132   76310.326   41863526108385       0.000\n",
       "876963   76636.531   41863526108385     326.205\n",
       "326585   60042.839  186034136943920   60042.839\n",
       "378393   65400.392  558877640599287   65400.392\n",
       "783412  148990.929  989540301617336  148990.929"
      ]
     },
     "execution_count": 55,
     "metadata": {},
     "output_type": "execute_result"
    }
   ],
   "source": [
    "tiempoEntreInstallsPorIdVentanaUno.head()"
   ]
  },
  {
   "cell_type": "markdown",
   "metadata": {},
   "source": [
    "### Nos liberamos de los valores a 0 para tener un promedio válido."
   ]
  },
  {
   "cell_type": "code",
   "execution_count": 56,
   "metadata": {},
   "outputs": [],
   "source": [
    "tiempoEntreInstallsPorIdVentanaUno = \\\n",
    "tiempoEntreInstallsPorIdVentanaUno[tiempoEntreInstallsPorIdVentanaUno.time_diff != 0]\n",
    "tiempoEntreInstallsPorIdVentanaDos = \\\n",
    "tiempoEntreInstallsPorIdVentanaDos[tiempoEntreInstallsPorIdVentanaDos.time_diff != 0]\n",
    "tiempoEntreInstallsPorIdVentanaTres = \\\n",
    "tiempoEntreInstallsPorIdVentanaTres[tiempoEntreInstallsPorIdVentanaTres.time_diff != 0]\n",
    "tiempoEntreInstallsPorIdVentanaCuatro = \\\n",
    "tiempoEntreInstallsPorIdVentanaCuatro[tiempoEntreInstallsPorIdVentanaCuatro.time_diff != 0]\n",
    "tiempoEntreInstallsPorIdVentanaCinco = \\\n",
    "tiempoEntreInstallsPorIdVentanaCinco[tiempoEntreInstallsPorIdVentanaCinco.time_diff != 0]"
   ]
  },
  {
   "cell_type": "markdown",
   "metadata": {},
   "source": [
    "### Calculo del tiempo promedio entre events."
   ]
  },
  {
   "cell_type": "code",
   "execution_count": 57,
   "metadata": {},
   "outputs": [],
   "source": [
    "tiempoEntreInstallsPorIdVentanaUno = \\\n",
    "tiempoEntreInstallsPorIdVentanaUno[['ref_hash', 'time_diff']].groupby('ref_hash').mean()\n",
    "tiempoEntreInstallsPorIdVentanaDos = \\\n",
    "tiempoEntreInstallsPorIdVentanaDos[['ref_hash', 'time_diff']].groupby('ref_hash').mean()\n",
    "tiempoEntreInstallsPorIdVentanaTres = \\\n",
    "tiempoEntreInstallsPorIdVentanaTres[['ref_hash', 'time_diff']].groupby('ref_hash').mean()\n",
    "tiempoEntreInstallsPorIdVentanaCuatro = \\\n",
    "tiempoEntreInstallsPorIdVentanaCuatro[['ref_hash', 'time_diff']].groupby('ref_hash').mean()\n",
    "tiempoEntreInstallsPorIdVentanaCinco = \\\n",
    "tiempoEntreInstallsPorIdVentanaCinco[['ref_hash', 'time_diff']].groupby('ref_hash').mean()"
   ]
  },
  {
   "cell_type": "code",
   "execution_count": 165,
   "metadata": {},
   "outputs": [
    {
     "data": {
      "text/html": [
       "<div>\n",
       "<style scoped>\n",
       "    .dataframe tbody tr th:only-of-type {\n",
       "        vertical-align: middle;\n",
       "    }\n",
       "\n",
       "    .dataframe tbody tr th {\n",
       "        vertical-align: top;\n",
       "    }\n",
       "\n",
       "    .dataframe thead th {\n",
       "        text-align: right;\n",
       "    }\n",
       "</style>\n",
       "<table border=\"1\" class=\"dataframe\">\n",
       "  <thead>\n",
       "    <tr style=\"text-align: right;\">\n",
       "      <th></th>\n",
       "      <th>time_diff</th>\n",
       "    </tr>\n",
       "    <tr>\n",
       "      <th>ref_hash</th>\n",
       "      <th></th>\n",
       "    </tr>\n",
       "  </thead>\n",
       "  <tbody>\n",
       "    <tr>\n",
       "      <th>41863526108385</th>\n",
       "      <td>326.205</td>\n",
       "    </tr>\n",
       "    <tr>\n",
       "      <th>186034136943920</th>\n",
       "      <td>129600.000</td>\n",
       "    </tr>\n",
       "    <tr>\n",
       "      <th>558877640599287</th>\n",
       "      <td>129600.000</td>\n",
       "    </tr>\n",
       "    <tr>\n",
       "      <th>989540301617336</th>\n",
       "      <td>129600.000</td>\n",
       "    </tr>\n",
       "    <tr>\n",
       "      <th>1187457308005333</th>\n",
       "      <td>129600.000</td>\n",
       "    </tr>\n",
       "  </tbody>\n",
       "</table>\n",
       "</div>"
      ],
      "text/plain": [
       "                   time_diff\n",
       "ref_hash                    \n",
       "41863526108385       326.205\n",
       "186034136943920   129600.000\n",
       "558877640599287   129600.000\n",
       "989540301617336   129600.000\n",
       "1187457308005333  129600.000"
      ]
     },
     "execution_count": 165,
     "metadata": {},
     "output_type": "execute_result"
    }
   ],
   "source": [
    "tiempoEntreInstallsPorIdVentanaUno.head()"
   ]
  },
  {
   "cell_type": "code",
   "execution_count": 58,
   "metadata": {},
   "outputs": [],
   "source": [
    "tiempoEntreInstallsPorIdVentanaUno = tiempoEntreInstallsPorIdVentanaUno.stack().reset_index()\n",
    "tiempoEntreInstallsPorIdVentanaUno = tiempoEntreInstallsPorIdVentanaUno.drop(columns = ['level_1'])\n",
    "tiempoEntreInstallsPorIdVentanaDos = tiempoEntreInstallsPorIdVentanaDos.stack().reset_index()\n",
    "tiempoEntreInstallsPorIdVentanaDos = tiempoEntreInstallsPorIdVentanaDos.drop(columns = ['level_1'])\n",
    "tiempoEntreInstallsPorIdVentanaTres = tiempoEntreInstallsPorIdVentanaTres.stack().reset_index()\n",
    "tiempoEntreInstallsPorIdVentanaTres = tiempoEntreInstallsPorIdVentanaTres.drop(columns = ['level_1'])\n",
    "tiempoEntreInstallsPorIdVentanaCuatro = tiempoEntreInstallsPorIdVentanaCuatro.stack().reset_index()\n",
    "tiempoEntreInstallsPorIdVentanaCuatro = tiempoEntreInstallsPorIdVentanaCuatro.drop(columns = ['level_1'])\n",
    "tiempoEntreInstallsPorIdVentanaCinco = tiempoEntreInstallsPorIdVentanaCinco.stack().reset_index()\n",
    "tiempoEntreInstallsPorIdVentanaCinco = tiempoEntreInstallsPorIdVentanaCinco.drop(columns = ['level_1'])"
   ]
  },
  {
   "cell_type": "code",
   "execution_count": 59,
   "metadata": {},
   "outputs": [],
   "source": [
    "tiempoEntreInstallsPorIdVentanaUno.columns = ['ref_hash', 'tiempo_prom_entre_installs']\n",
    "tiempoEntreInstallsPorIdVentanaDos.columns = ['ref_hash', 'tiempo_prom_entre_installs']\n",
    "tiempoEntreInstallsPorIdVentanaTres.columns = ['ref_hash', 'tiempo_prom_entre_installs']\n",
    "tiempoEntreInstallsPorIdVentanaCuatro.columns = ['ref_hash', 'tiempo_prom_entre_installs']\n",
    "tiempoEntreInstallsPorIdVentanaCinco.columns = ['ref_hash', 'tiempo_prom_entre_installs']"
   ]
  },
  {
   "cell_type": "code",
   "execution_count": 60,
   "metadata": {},
   "outputs": [
    {
     "data": {
      "text/html": [
       "<div>\n",
       "<style scoped>\n",
       "    .dataframe tbody tr th:only-of-type {\n",
       "        vertical-align: middle;\n",
       "    }\n",
       "\n",
       "    .dataframe tbody tr th {\n",
       "        vertical-align: top;\n",
       "    }\n",
       "\n",
       "    .dataframe thead th {\n",
       "        text-align: right;\n",
       "    }\n",
       "</style>\n",
       "<table border=\"1\" class=\"dataframe\">\n",
       "  <thead>\n",
       "    <tr style=\"text-align: right;\">\n",
       "      <th></th>\n",
       "      <th>ref_hash</th>\n",
       "      <th>tiempo_prom_entre_installs</th>\n",
       "    </tr>\n",
       "  </thead>\n",
       "  <tbody>\n",
       "    <tr>\n",
       "      <th>0</th>\n",
       "      <td>989540301617336</td>\n",
       "      <td>62590.929</td>\n",
       "    </tr>\n",
       "    <tr>\n",
       "      <th>1</th>\n",
       "      <td>1440206761476269</td>\n",
       "      <td>101367.243</td>\n",
       "    </tr>\n",
       "    <tr>\n",
       "      <th>2</th>\n",
       "      <td>1719664649402429</td>\n",
       "      <td>194009.325</td>\n",
       "    </tr>\n",
       "    <tr>\n",
       "      <th>3</th>\n",
       "      <td>2493454867357963</td>\n",
       "      <td>255003.890</td>\n",
       "    </tr>\n",
       "    <tr>\n",
       "      <th>4</th>\n",
       "      <td>2706649710050643</td>\n",
       "      <td>23822.230</td>\n",
       "    </tr>\n",
       "  </tbody>\n",
       "</table>\n",
       "</div>"
      ],
      "text/plain": [
       "           ref_hash  tiempo_prom_entre_installs\n",
       "0   989540301617336                   62590.929\n",
       "1  1440206761476269                  101367.243\n",
       "2  1719664649402429                  194009.325\n",
       "3  2493454867357963                  255003.890\n",
       "4  2706649710050643                   23822.230"
      ]
     },
     "execution_count": 60,
     "metadata": {},
     "output_type": "execute_result"
    }
   ],
   "source": [
    "tiempoEntreInstallsPorIdVentanaDos.head()"
   ]
  },
  {
   "cell_type": "markdown",
   "metadata": {},
   "source": [
    "### Llegó el momento de mergear todo en un único dataframe. Primero con el timepo promedio entre installs."
   ]
  },
  {
   "cell_type": "code",
   "execution_count": 61,
   "metadata": {},
   "outputs": [],
   "source": [
    "eventsInstallsVentanaUno = pd.merge(eventsInstallsVentanaUno, tiempoEntreInstallsPorIdVentanaUno,\\\n",
    "                                    on = 'ref_hash', how = 'left')\n",
    "eventsInstallsVentanaDos = pd.merge(eventsInstallsVentanaDos, tiempoEntreInstallsPorIdVentanaDos,\\\n",
    "                                    on = 'ref_hash', how = 'left')\n",
    "eventsInstallsVentanaTres = pd.merge(eventsInstallsVentanaTres, tiempoEntreInstallsPorIdVentanaTres,\\\n",
    "                                    on = 'ref_hash', how = 'left')\n",
    "eventsInstallsVentanaCuatro = pd.merge(eventsInstallsVentanaCuatro, tiempoEntreInstallsPorIdVentanaCuatro,\\\n",
    "                                    on = 'ref_hash', how = 'left')\n",
    "eventsInstallsVentanaCinco = pd.merge(eventsInstallsVentanaCinco, tiempoEntreInstallsPorIdVentanaCinco,\\\n",
    "                                    on = 'ref_hash', how = 'left')"
   ]
  },
  {
   "cell_type": "markdown",
   "metadata": {},
   "source": [
    "### Despues con la cantidad de installs y de eventos por device_id."
   ]
  },
  {
   "cell_type": "code",
   "execution_count": 62,
   "metadata": {},
   "outputs": [],
   "source": [
    "eventsInstallsVentanaUno = pd.merge(eventsInstallsVentanaUno, cantidadDeEventosPorIdVentanaUno,\\\n",
    "                                    on = 'ref_hash', how = 'left')\n",
    "eventsInstallsVentanaDos = pd.merge(eventsInstallsVentanaDos, cantidadDeEventosPorIdVentanaDos,\\\n",
    "                                    on = 'ref_hash', how = 'left')\n",
    "eventsInstallsVentanaTres = pd.merge(eventsInstallsVentanaTres, cantidadDeEventosPorIdVentanaTres,\\\n",
    "                                    on = 'ref_hash', how = 'left')\n",
    "eventsInstallsVentanaCuatro = pd.merge(eventsInstallsVentanaCuatro, cantidadDeEventosPorIdVentanaCuatro,\\\n",
    "                                    on = 'ref_hash', how = 'left')\n",
    "eventsInstallsVentanaCinco = pd.merge(eventsInstallsVentanaCinco, cantidadDeEventosPorIdVentanaCinco,\\\n",
    "                                    on = 'ref_hash', how = 'left')"
   ]
  },
  {
   "cell_type": "code",
   "execution_count": 63,
   "metadata": {},
   "outputs": [],
   "source": [
    "eventsInstallsVentanaUno = pd.merge(eventsInstallsVentanaUno, cantidadDeInstallsPorIdVentanaUno,\\\n",
    "                                    on = 'ref_hash', how = 'left')\n",
    "eventsInstallsVentanaDos = pd.merge(eventsInstallsVentanaDos, cantidadDeInstallsPorIdVentanaDos,\\\n",
    "                                    on = 'ref_hash', how = 'left')\n",
    "eventsInstallsVentanaTres = pd.merge(eventsInstallsVentanaTres, cantidadDeInstallsPorIdVentanaTres,\\\n",
    "                                    on = 'ref_hash', how = 'left')\n",
    "eventsInstallsVentanaCuatro = pd.merge(eventsInstallsVentanaCuatro, cantidadDeInstallsPorIdVentanaCuatro,\\\n",
    "                                    on = 'ref_hash', how = 'left')\n",
    "eventsInstallsVentanaCinco = pd.merge(eventsInstallsVentanaCinco, cantidadDeInstallsPorIdVentanaCinco,\\\n",
    "                                    on = 'ref_hash', how = 'left')"
   ]
  },
  {
   "cell_type": "code",
   "execution_count": 64,
   "metadata": {},
   "outputs": [
    {
     "data": {
      "text/html": [
       "<div>\n",
       "<style scoped>\n",
       "    .dataframe tbody tr th:only-of-type {\n",
       "        vertical-align: middle;\n",
       "    }\n",
       "\n",
       "    .dataframe tbody tr th {\n",
       "        vertical-align: top;\n",
       "    }\n",
       "\n",
       "    .dataframe thead th {\n",
       "        text-align: right;\n",
       "    }\n",
       "</style>\n",
       "<table border=\"1\" class=\"dataframe\">\n",
       "  <thead>\n",
       "    <tr style=\"text-align: right;\">\n",
       "      <th></th>\n",
       "      <th>index</th>\n",
       "      <th>date</th>\n",
       "      <th>event_id</th>\n",
       "      <th>ref_hash</th>\n",
       "      <th>application_id</th>\n",
       "      <th>attributed</th>\n",
       "      <th>device_city</th>\n",
       "      <th>event_uuid</th>\n",
       "      <th>carrier</th>\n",
       "      <th>kind</th>\n",
       "      <th>device_os</th>\n",
       "      <th>wifi</th>\n",
       "      <th>connection_type</th>\n",
       "      <th>device_language</th>\n",
       "      <th>installed</th>\n",
       "      <th>proporcion_wifi</th>\n",
       "      <th>sum</th>\n",
       "      <th>tiempo_prom_entre_installs</th>\n",
       "      <th>cantidad_eventos</th>\n",
       "      <th>cantidad_installs</th>\n",
       "    </tr>\n",
       "  </thead>\n",
       "  <tbody>\n",
       "    <tr>\n",
       "      <th>0</th>\n",
       "      <td>2130678</td>\n",
       "      <td>178969.12</td>\n",
       "      <td>0</td>\n",
       "      <td>5857744372586891366</td>\n",
       "      <td>210</td>\n",
       "      <td>False</td>\n",
       "      <td>NaN</td>\n",
       "      <td>5b506964-5f47-4b28-a8c2-8a92d6c23379</td>\n",
       "      <td>NaN</td>\n",
       "      <td>5.882882e+18</td>\n",
       "      <td>NaN</td>\n",
       "      <td>False</td>\n",
       "      <td>NaN</td>\n",
       "      <td>3.301378e+18</td>\n",
       "      <td>0.0</td>\n",
       "      <td>0.0</td>\n",
       "      <td>1</td>\n",
       "      <td>NaN</td>\n",
       "      <td>3</td>\n",
       "      <td>0.0</td>\n",
       "    </tr>\n",
       "    <tr>\n",
       "      <th>1</th>\n",
       "      <td>2130680</td>\n",
       "      <td>178969.34</td>\n",
       "      <td>1</td>\n",
       "      <td>7642521036780133571</td>\n",
       "      <td>210</td>\n",
       "      <td>False</td>\n",
       "      <td>NaN</td>\n",
       "      <td>f1fb9d15-1a7b-4116-8d3b-c4c403e197e2</td>\n",
       "      <td>NaN</td>\n",
       "      <td>4.017674e+18</td>\n",
       "      <td>NaN</td>\n",
       "      <td>False</td>\n",
       "      <td>NaN</td>\n",
       "      <td>NaN</td>\n",
       "      <td>0.0</td>\n",
       "      <td>0.0</td>\n",
       "      <td>1</td>\n",
       "      <td>NaN</td>\n",
       "      <td>95</td>\n",
       "      <td>0.0</td>\n",
       "    </tr>\n",
       "  </tbody>\n",
       "</table>\n",
       "</div>"
      ],
      "text/plain": [
       "     index       date  event_id             ref_hash  application_id  \\\n",
       "0  2130678  178969.12         0  5857744372586891366             210   \n",
       "1  2130680  178969.34         1  7642521036780133571             210   \n",
       "\n",
       "   attributed  device_city                            event_uuid  carrier  \\\n",
       "0       False          NaN  5b506964-5f47-4b28-a8c2-8a92d6c23379      NaN   \n",
       "1       False          NaN  f1fb9d15-1a7b-4116-8d3b-c4c403e197e2      NaN   \n",
       "\n",
       "           kind  device_os   wifi connection_type  device_language  installed  \\\n",
       "0  5.882882e+18        NaN  False             NaN     3.301378e+18        0.0   \n",
       "1  4.017674e+18        NaN  False             NaN              NaN        0.0   \n",
       "\n",
       "   proporcion_wifi  sum  tiempo_prom_entre_installs  cantidad_eventos  \\\n",
       "0              0.0    1                         NaN                 3   \n",
       "1              0.0    1                         NaN                95   \n",
       "\n",
       "   cantidad_installs  \n",
       "0                0.0  \n",
       "1                0.0  "
      ]
     },
     "execution_count": 64,
     "metadata": {},
     "output_type": "execute_result"
    }
   ],
   "source": [
    "eventsInstallsVentanaUno.head(2)"
   ]
  },
  {
   "cell_type": "markdown",
   "metadata": {},
   "source": [
    "### Ahora pasando el tiempo de los que no llevan install a 3 dias."
   ]
  },
  {
   "cell_type": "code",
   "execution_count": 65,
   "metadata": {},
   "outputs": [],
   "source": [
    "eventsInstallsVentanaUno.loc[eventsInstallsVentanaUno.cantidad_installs == 0, 'date'] = 259200\n",
    "eventsInstallsVentanaDos.loc[eventsInstallsVentanaDos.cantidad_installs == 0, 'date'] = 259200\n",
    "eventsInstallsVentanaTres.loc[eventsInstallsVentanaTres.cantidad_installs == 0, 'date'] = 259200\n",
    "eventsInstallsVentanaCuatro.loc[eventsInstallsVentanaCuatro.cantidad_installs == 0, 'date'] = 259200\n",
    "eventsInstallsVentanaCinco.loc[eventsInstallsVentanaCinco.cantidad_installs == 0, 'date'] = 259200"
   ]
  },
  {
   "cell_type": "markdown",
   "metadata": {},
   "source": [
    "### Vamos a quedarnos con una unica ocurrencia de cada ref_hash, la primera de ellos. Por eso hacemos un sort_values por ref_hash y por date.\n",
    "\n",
    "### Lo hacemos en un nuevo dataframe para tener el anterior a disposicion para armar nuevos modelos"
   ]
  },
  {
   "cell_type": "code",
   "execution_count": 66,
   "metadata": {},
   "outputs": [],
   "source": [
    "eventsInstallsVentanaUnoRegresion = eventsInstallsVentanaUno.sort_values(['ref_hash', 'date'], ascending = [True, True])\n",
    "eventsInstallsVentanaDosRegresion = eventsInstallsVentanaDos.sort_values(['ref_hash', 'date'], ascending = [True, True])\n",
    "eventsInstallsVentanaTresRegresion = eventsInstallsVentanaTres.sort_values(['ref_hash', 'date'], ascending = [True, True])\n",
    "eventsInstallsVentanaCuatroRegresion = eventsInstallsVentanaCuatro.sort_values(['ref_hash', 'date'], ascending = [True, True])\n",
    "eventsInstallsVentanaCincoRegresion = eventsInstallsVentanaCinco.sort_values(['ref_hash', 'date'], ascending = [True, True])"
   ]
  },
  {
   "cell_type": "code",
   "execution_count": 67,
   "metadata": {},
   "outputs": [],
   "source": [
    "eventsInstallsVentanaUnoRegresion = eventsInstallsVentanaUnoRegresion.drop_duplicates(subset = ['ref_hash'])\n",
    "eventsInstallsVentanaDosRegresion = eventsInstallsVentanaDosRegresion.drop_duplicates(subset = ['ref_hash'])\n",
    "eventsInstallsVentanaTresRegresion = eventsInstallsVentanaTresRegresion.drop_duplicates(subset = ['ref_hash'])\n",
    "eventsInstallsVentanaCuatroRegresion = eventsInstallsVentanaCuatroRegresion.drop_duplicates(subset = ['ref_hash'])\n",
    "eventsInstallsVentanaCincoRegresion = eventsInstallsVentanaCincoRegresion.drop_duplicates(subset = ['ref_hash'])"
   ]
  },
  {
   "cell_type": "code",
   "execution_count": 68,
   "metadata": {},
   "outputs": [
    {
     "data": {
      "text/html": [
       "<div>\n",
       "<style scoped>\n",
       "    .dataframe tbody tr th:only-of-type {\n",
       "        vertical-align: middle;\n",
       "    }\n",
       "\n",
       "    .dataframe tbody tr th {\n",
       "        vertical-align: top;\n",
       "    }\n",
       "\n",
       "    .dataframe thead th {\n",
       "        text-align: right;\n",
       "    }\n",
       "</style>\n",
       "<table border=\"1\" class=\"dataframe\">\n",
       "  <thead>\n",
       "    <tr style=\"text-align: right;\">\n",
       "      <th></th>\n",
       "      <th>index</th>\n",
       "      <th>date</th>\n",
       "      <th>event_id</th>\n",
       "      <th>ref_hash</th>\n",
       "      <th>application_id</th>\n",
       "      <th>attributed</th>\n",
       "      <th>device_city</th>\n",
       "      <th>event_uuid</th>\n",
       "      <th>carrier</th>\n",
       "      <th>kind</th>\n",
       "      <th>device_os</th>\n",
       "      <th>wifi</th>\n",
       "      <th>connection_type</th>\n",
       "      <th>device_language</th>\n",
       "      <th>installed</th>\n",
       "      <th>proporcion_wifi</th>\n",
       "      <th>sum</th>\n",
       "      <th>tiempo_prom_entre_installs</th>\n",
       "      <th>cantidad_eventos</th>\n",
       "      <th>cantidad_installs</th>\n",
       "    </tr>\n",
       "  </thead>\n",
       "  <tbody>\n",
       "    <tr>\n",
       "      <th>269132</th>\n",
       "      <td>14701</td>\n",
       "      <td>76310.326</td>\n",
       "      <td>23</td>\n",
       "      <td>41863526108385</td>\n",
       "      <td>121</td>\n",
       "      <td>False</td>\n",
       "      <td>NaN</td>\n",
       "      <td>2f8be0cc-297e-4c9c-a097-1096aa5824b5</td>\n",
       "      <td>NaN</td>\n",
       "      <td>6.081165e+18</td>\n",
       "      <td>NaN</td>\n",
       "      <td>False</td>\n",
       "      <td>NaN</td>\n",
       "      <td>6.977049e+18</td>\n",
       "      <td>1.0</td>\n",
       "      <td>0.0</td>\n",
       "      <td>1</td>\n",
       "      <td>326.205</td>\n",
       "      <td>88</td>\n",
       "      <td>2.0</td>\n",
       "    </tr>\n",
       "    <tr>\n",
       "      <th>109661</th>\n",
       "      <td>63891</td>\n",
       "      <td>259200.000</td>\n",
       "      <td>23</td>\n",
       "      <td>161514654074162</td>\n",
       "      <td>121</td>\n",
       "      <td>False</td>\n",
       "      <td>NaN</td>\n",
       "      <td>45d306f1-3195-4e37-b115-126b46481316</td>\n",
       "      <td>NaN</td>\n",
       "      <td>6.081165e+18</td>\n",
       "      <td>NaN</td>\n",
       "      <td>True</td>\n",
       "      <td>NaN</td>\n",
       "      <td>6.977049e+18</td>\n",
       "      <td>0.0</td>\n",
       "      <td>100.0</td>\n",
       "      <td>1</td>\n",
       "      <td>NaN</td>\n",
       "      <td>8</td>\n",
       "      <td>0.0</td>\n",
       "    </tr>\n",
       "  </tbody>\n",
       "</table>\n",
       "</div>"
      ],
      "text/plain": [
       "        index        date  event_id         ref_hash  application_id  \\\n",
       "269132  14701   76310.326        23   41863526108385             121   \n",
       "109661  63891  259200.000        23  161514654074162             121   \n",
       "\n",
       "        attributed  device_city                            event_uuid  \\\n",
       "269132       False          NaN  2f8be0cc-297e-4c9c-a097-1096aa5824b5   \n",
       "109661       False          NaN  45d306f1-3195-4e37-b115-126b46481316   \n",
       "\n",
       "        carrier          kind  device_os   wifi connection_type  \\\n",
       "269132      NaN  6.081165e+18        NaN  False             NaN   \n",
       "109661      NaN  6.081165e+18        NaN   True             NaN   \n",
       "\n",
       "        device_language  installed  proporcion_wifi  sum  \\\n",
       "269132     6.977049e+18        1.0              0.0    1   \n",
       "109661     6.977049e+18        0.0            100.0    1   \n",
       "\n",
       "        tiempo_prom_entre_installs  cantidad_eventos  cantidad_installs  \n",
       "269132                     326.205                88                2.0  \n",
       "109661                         NaN                 8                0.0  "
      ]
     },
     "execution_count": 68,
     "metadata": {},
     "output_type": "execute_result"
    }
   ],
   "source": [
    "eventsInstallsVentanaUnoRegresion.head(2)"
   ]
  },
  {
   "cell_type": "code",
   "execution_count": 69,
   "metadata": {},
   "outputs": [],
   "source": [
    "eventsInstallsVentanaUnoRegresionA = eventsInstallsVentanaUnoRegresion[['proporcion_wifi', 'cantidad_eventos',\\\n",
    "                                                                       'cantidad_installs', 'tiempo_prom_entre_installs',\\\n",
    "                                                                       'date']]\n",
    "eventsInstallsVentanaDosRegresionA = eventsInstallsVentanaDosRegresion[['proporcion_wifi', 'cantidad_eventos',\\\n",
    "                                                                       'cantidad_installs', 'tiempo_prom_entre_installs',\\\n",
    "                                                                       'date']]\n",
    "eventsInstallsVentanaTresRegresionA = eventsInstallsVentanaTresRegresion[['proporcion_wifi', 'cantidad_eventos',\\\n",
    "                                                                       'cantidad_installs', 'tiempo_prom_entre_installs',\\\n",
    "                                                                       'date']]\n",
    "eventsInstallsVentanaCuatroRegresionA = eventsInstallsVentanaCuatroRegresion[['proporcion_wifi', 'cantidad_eventos',\\\n",
    "                                                                       'cantidad_installs', 'tiempo_prom_entre_installs',\\\n",
    "                                                                       'date']]\n",
    "eventsInstallsVentanaCincoRegresionA = eventsInstallsVentanaCincoRegresion[['proporcion_wifi', 'cantidad_eventos',\\\n",
    "                                                                       'cantidad_installs', 'tiempo_prom_entre_installs',\\\n",
    "                                                                       'date']]"
   ]
  },
  {
   "cell_type": "markdown",
   "metadata": {},
   "source": [
    "### Aca se da la posibilidad de llenar los NaN con un tiempo de 3 días, es decir 259200 segundos. Lo haremos con y sin eso, en el fit xgboost. Para numpy, es necesario tener valores que no sean NaN."
   ]
  },
  {
   "cell_type": "code",
   "execution_count": 70,
   "metadata": {
    "scrolled": true
   },
   "outputs": [
    {
     "name": "stderr",
     "output_type": "stream",
     "text": [
      "/Users/yorickvinesse/anaconda3/lib/python3.7/site-packages/pandas/core/frame.py:3140: SettingWithCopyWarning: \n",
      "A value is trying to be set on a copy of a slice from a DataFrame.\n",
      "Try using .loc[row_indexer,col_indexer] = value instead\n",
      "\n",
      "See the caveats in the documentation: http://pandas.pydata.org/pandas-docs/stable/indexing.html#indexing-view-versus-copy\n",
      "  self[k1] = value[k2]\n"
     ]
    }
   ],
   "source": [
    "eventsInstallsVentanaUnoRegresionA[['tiempo_prom_entre_installs']] = \\\n",
    "eventsInstallsVentanaUnoRegresionA[['tiempo_prom_entre_installs']].fillna(value = 259200)\n",
    "eventsInstallsVentanaDosRegresionA[['tiempo_prom_entre_installs']] = \\\n",
    "eventsInstallsVentanaDosRegresionA[['tiempo_prom_entre_installs']].fillna(value = 259200)\n",
    "eventsInstallsVentanaTresRegresionA[['tiempo_prom_entre_installs']] = \\\n",
    "eventsInstallsVentanaTresRegresionA[['tiempo_prom_entre_installs']].fillna(value = 259200)\n",
    "eventsInstallsVentanaCuatroRegresionA[['tiempo_prom_entre_installs']] = \\\n",
    "eventsInstallsVentanaCuatroRegresionA[['tiempo_prom_entre_installs']].fillna(value = 259200)\n",
    "eventsInstallsVentanaCincoRegresionA[['tiempo_prom_entre_installs']] = \\\n",
    "eventsInstallsVentanaCincoRegresionA[['tiempo_prom_entre_installs']].fillna(value = 259200)"
   ]
  },
  {
   "cell_type": "code",
   "execution_count": 71,
   "metadata": {},
   "outputs": [
    {
     "data": {
      "text/html": [
       "<div>\n",
       "<style scoped>\n",
       "    .dataframe tbody tr th:only-of-type {\n",
       "        vertical-align: middle;\n",
       "    }\n",
       "\n",
       "    .dataframe tbody tr th {\n",
       "        vertical-align: top;\n",
       "    }\n",
       "\n",
       "    .dataframe thead th {\n",
       "        text-align: right;\n",
       "    }\n",
       "</style>\n",
       "<table border=\"1\" class=\"dataframe\">\n",
       "  <thead>\n",
       "    <tr style=\"text-align: right;\">\n",
       "      <th></th>\n",
       "      <th>proporcion_wifi</th>\n",
       "      <th>cantidad_eventos</th>\n",
       "      <th>cantidad_installs</th>\n",
       "      <th>tiempo_prom_entre_installs</th>\n",
       "      <th>date</th>\n",
       "    </tr>\n",
       "  </thead>\n",
       "  <tbody>\n",
       "    <tr>\n",
       "      <th>269132</th>\n",
       "      <td>0.0</td>\n",
       "      <td>88</td>\n",
       "      <td>2.0</td>\n",
       "      <td>326.205</td>\n",
       "      <td>76310.326</td>\n",
       "    </tr>\n",
       "    <tr>\n",
       "      <th>109661</th>\n",
       "      <td>100.0</td>\n",
       "      <td>8</td>\n",
       "      <td>0.0</td>\n",
       "      <td>259200.000</td>\n",
       "      <td>259200.000</td>\n",
       "    </tr>\n",
       "    <tr>\n",
       "      <th>326585</th>\n",
       "      <td>0.0</td>\n",
       "      <td>13</td>\n",
       "      <td>1.0</td>\n",
       "      <td>60042.839</td>\n",
       "      <td>60042.839</td>\n",
       "    </tr>\n",
       "  </tbody>\n",
       "</table>\n",
       "</div>"
      ],
      "text/plain": [
       "        proporcion_wifi  cantidad_eventos  cantidad_installs  \\\n",
       "269132              0.0                88                2.0   \n",
       "109661            100.0                 8                0.0   \n",
       "326585              0.0                13                1.0   \n",
       "\n",
       "        tiempo_prom_entre_installs        date  \n",
       "269132                     326.205   76310.326  \n",
       "109661                  259200.000  259200.000  \n",
       "326585                   60042.839   60042.839  "
      ]
     },
     "execution_count": 71,
     "metadata": {},
     "output_type": "execute_result"
    }
   ],
   "source": [
    "eventsInstallsVentanaUnoRegresionA.head(3)"
   ]
  },
  {
   "cell_type": "code",
   "execution_count": 72,
   "metadata": {},
   "outputs": [
    {
     "data": {
      "text/plain": [
       "proporcion_wifi               166002\n",
       "cantidad_eventos              166002\n",
       "cantidad_installs             166002\n",
       "tiempo_prom_entre_installs    166002\n",
       "date                          166002\n",
       "dtype: int64"
      ]
     },
     "execution_count": 72,
     "metadata": {},
     "output_type": "execute_result"
    }
   ],
   "source": [
    "eventsInstallsVentanaUnoRegresionA.count()"
   ]
  },
  {
   "cell_type": "markdown",
   "metadata": {},
   "source": [
    "### Paso necesario para ingresar datos a fitters de scikit y de XGBoost"
   ]
  },
  {
   "cell_type": "code",
   "execution_count": 73,
   "metadata": {},
   "outputs": [],
   "source": [
    "arrayVentanaUnoRegresionA = eventsInstallsVentanaUnoRegresionA.values\n",
    "arrayVentanaDosRegresionA = eventsInstallsVentanaDosRegresionA.values\n",
    "arrayVentanaTresRegresionA = eventsInstallsVentanaTresRegresionA.values\n",
    "arrayVentanaCuatroRegresionA = eventsInstallsVentanaCuatroRegresionA.values\n",
    "arrayVentanaCincoRegresionA = eventsInstallsVentanaCincoRegresionA.values"
   ]
  },
  {
   "cell_type": "code",
   "execution_count": 76,
   "metadata": {},
   "outputs": [],
   "source": [
    "X_VentanaUnoRegresionA = arrayVentanaUnoRegresionA[:, :-1]\n",
    "y_VentanaUnoRegresionA = arrayVentanaUnoRegresionA[:, -1]\n",
    "X_VentanaDosRegresionA = arrayVentanaDosRegresionA[:, :-1]\n",
    "y_VentanaDosRegresionA = arrayVentanaDosRegresionA[:, -1]\n",
    "X_VentanaTresRegresionA = arrayVentanaTresRegresionA[:, :-1]\n",
    "y_VentanaTresRegresionA = arrayVentanaTresRegresionA[:, -1]\n",
    "X_VentanaCuatroRegresionA = arrayVentanaCuatroRegresionA[:, :-1]\n",
    "y_VentanaCuatroRegresionA = arrayVentanaCuatroRegresionA[:, -1]\n",
    "X_VentanaCincoRegresionA = arrayVentanaCincoRegresionA[:, :-1]\n",
    "y_VentanaCincoRegresionA = arrayVentanaCincoRegresionA[:, -1]"
   ]
  },
  {
   "cell_type": "markdown",
   "metadata": {},
   "source": [
    "## Con la regresion lineal de scikit"
   ]
  },
  {
   "cell_type": "code",
   "execution_count": 96,
   "metadata": {},
   "outputs": [],
   "source": [
    "regVentanaUnoA = LinearRegression().fit(X_VentanaUnoRegresionA, y_VentanaUnoRegresionA)\n",
    "regVentanaDosA = LinearRegression().fit(X_VentanaDosRegresionA, y_VentanaDosRegresionA)\n",
    "regVentanaTresA = LinearRegression().fit(X_VentanaTresRegresionA, y_VentanaTresRegresionA)\n",
    "regVentanaCuatroA = LinearRegression().fit(X_VentanaCuatroRegresionA, y_VentanaCuatroRegresionA)\n",
    "regVentanaCincoA = LinearRegression().fit(X_VentanaCincoRegresionA, y_VentanaCincoRegresionA)"
   ]
  },
  {
   "cell_type": "code",
   "execution_count": 78,
   "metadata": {},
   "outputs": [
    {
     "data": {
      "text/plain": [
       "0.9132174973693319"
      ]
     },
     "execution_count": 78,
     "metadata": {},
     "output_type": "execute_result"
    }
   ],
   "source": [
    "regVentanaUnoA.score(X_VentanaUnoRegresionA, y_VentanaUnoRegresionA)"
   ]
  },
  {
   "cell_type": "markdown",
   "metadata": {},
   "source": [
    "### El score para si mismo esta alto, la predicción esta bastante buena."
   ]
  },
  {
   "cell_type": "code",
   "execution_count": 98,
   "metadata": {},
   "outputs": [
    {
     "data": {
      "text/plain": [
       "array([-5.85696566e+00, -1.41389940e+01, -3.73757482e+03,  9.33396781e-01])"
      ]
     },
     "execution_count": 98,
     "metadata": {},
     "output_type": "execute_result"
    }
   ],
   "source": [
    "regVentanaUnoA.coef_"
   ]
  },
  {
   "cell_type": "code",
   "execution_count": 100,
   "metadata": {},
   "outputs": [
    {
     "data": {
      "text/plain": [
       "array([-8.51433241e+00, -1.38105817e+01, -3.80749040e+03,  9.24202176e-01])"
      ]
     },
     "execution_count": 100,
     "metadata": {},
     "output_type": "execute_result"
    }
   ],
   "source": [
    "regVentanaDosA.coef_"
   ]
  },
  {
   "cell_type": "markdown",
   "metadata": {},
   "source": [
    "### En esa regresión, se da mucha importancia al feature 3, es decir la cantidad de installs."
   ]
  },
  {
   "cell_type": "code",
   "execution_count": 80,
   "metadata": {},
   "outputs": [],
   "source": [
    "prediccionVentanaUnoSobreVentanaDosA = regVentanaUnoA.predict(X_VentanaDosRegresionA)"
   ]
  },
  {
   "cell_type": "code",
   "execution_count": 102,
   "metadata": {},
   "outputs": [],
   "source": [
    "scoresSobreVentanaSiguienteRegresionA = [regVentanaUnoA.score(X_VentanaDosRegresionA, y_VentanaDosRegresionA),\\\n",
    "                                    regVentanaDosA.score(X_VentanaTresRegresionA, y_VentanaTresRegresionA),\\\n",
    "                                     regVentanaTresA.score(X_VentanaCuatroRegresionA, y_VentanaCuatroRegresionA),\\\n",
    "                                     regVentanaCuatroA.score(X_VentanaCincoRegresionA, y_VentanaCincoRegresionA)]"
   ]
  },
  {
   "cell_type": "code",
   "execution_count": 103,
   "metadata": {},
   "outputs": [
    {
     "data": {
      "text/plain": [
       "[0.9020125359249261, 0.9063672310274357, 0.919034337499054, 0.9191289490852438]"
      ]
     },
     "execution_count": 103,
     "metadata": {},
     "output_type": "execute_result"
    }
   ],
   "source": [
    "scoresSobreVentanaSiguienteRegresionA"
   ]
  },
  {
   "cell_type": "markdown",
   "metadata": {},
   "source": [
    "## Con XGBoost"
   ]
  },
  {
   "cell_type": "code",
   "execution_count": 104,
   "metadata": {},
   "outputs": [],
   "source": [
    "xgbVentanaUnoRegresionA = xgboost.XGBRegressor(n_estimators=100, learning_rate=0.08, gamma=0, subsample=0.75,\n",
    "                           colsample_bytree=1, max_depth=7, objective='reg:squarederror')\n",
    "xgbVentanaDosRegresionA = xgboost.XGBRegressor(n_estimators=100, learning_rate=0.08, gamma=0, subsample=0.75,\n",
    "                           colsample_bytree=1, max_depth=7, objective='reg:squarederror')\n",
    "xgbVentanaTresRegresionA = xgboost.XGBRegressor(n_estimators=100, learning_rate=0.08, gamma=0, subsample=0.75,\n",
    "                           colsample_bytree=1, max_depth=7, objective='reg:squarederror')\n",
    "xgbVentanaCuatroRegresionA = xgboost.XGBRegressor(n_estimators=100, learning_rate=0.08, gamma=0, subsample=0.75,\n",
    "                           colsample_bytree=1, max_depth=7, objective='reg:squarederror')\n",
    "xgbVentanaCincoRegresionA = xgboost.XGBRegressor(n_estimators=100, learning_rate=0.08, gamma=0, subsample=0.75,\n",
    "                           colsample_bytree=1, max_depth=7, objective='reg:squarederror')"
   ]
  },
  {
   "cell_type": "code",
   "execution_count": 105,
   "metadata": {},
   "outputs": [
    {
     "data": {
      "text/plain": [
       "XGBRegressor(base_score=0.5, booster='gbtree', colsample_bylevel=1,\n",
       "       colsample_bynode=1, colsample_bytree=1, gamma=0,\n",
       "       importance_type='gain', learning_rate=0.08, max_delta_step=0,\n",
       "       max_depth=7, min_child_weight=1, missing=None, n_estimators=100,\n",
       "       n_jobs=1, nthread=None, objective='reg:squarederror',\n",
       "       random_state=0, reg_alpha=0, reg_lambda=1, scale_pos_weight=1,\n",
       "       seed=None, silent=None, subsample=0.75, verbosity=1)"
      ]
     },
     "execution_count": 105,
     "metadata": {},
     "output_type": "execute_result"
    }
   ],
   "source": [
    "xgbVentanaUnoRegresionA.fit(X_VentanaUnoRegresionA, y_VentanaUnoRegresionA)\n",
    "xgbVentanaDosRegresionA.fit(X_VentanaDosRegresionA, y_VentanaDosRegresionA)\n",
    "xgbVentanaTresRegresionA.fit(X_VentanaTresRegresionA, y_VentanaTresRegresionA)\n",
    "xgbVentanaCuatroRegresionA.fit(X_VentanaCuatroRegresionA, y_VentanaCuatroRegresionA)\n",
    "xgbVentanaCincoRegresionA.fit(X_VentanaCincoRegresionA, y_VentanaCincoRegresionA)"
   ]
  },
  {
   "cell_type": "code",
   "execution_count": 106,
   "metadata": {},
   "outputs": [],
   "source": [
    "predictVentanaUnoSobreVentanaDos = xgbVentanaUnoRegresionA.predict(X_VentanaDosRegresionA)\n",
    "predictVentanaDosSobreVentanaTres = xgbVentanaDosRegresionA.predict(X_VentanaTresRegresionA)\n",
    "predictVentanaTresSobreVentanaCuatro = xgbVentanaTresRegresionA.predict(X_VentanaCuatroRegresionA)\n",
    "predictVentanaCuatroSobreVentanaCinco = xgbVentanaCuatroRegresionA.predict(X_VentanaCincoRegresionA)"
   ]
  },
  {
   "cell_type": "code",
   "execution_count": 107,
   "metadata": {},
   "outputs": [],
   "source": [
    "xgbScoresSobreVentanaSiguienteRegresionA = [explained_variance_score(predictVentanaUnoSobreVentanaDos,y_VentanaDosRegresionA),\\\n",
    "                                           explained_variance_score(predictVentanaDosSobreVentanaTres,y_VentanaTresRegresionA),\\\n",
    "                                           explained_variance_score(predictVentanaTresSobreVentanaCuatro,y_VentanaCuatroRegresionA),\\\n",
    "                                           explained_variance_score(predictVentanaCuatroSobreVentanaCinco,y_VentanaCincoRegresionA)]\n"
   ]
  },
  {
   "cell_type": "code",
   "execution_count": 94,
   "metadata": {},
   "outputs": [
    {
     "name": "stdout",
     "output_type": "stream",
     "text": [
      "0.9674227884767749\n"
     ]
    }
   ],
   "source": [
    "print(explained_variance_score(predictVentanaUnoSelf,y_VentanaUnoRegresionA))"
   ]
  },
  {
   "cell_type": "code",
   "execution_count": 108,
   "metadata": {},
   "outputs": [
    {
     "data": {
      "text/plain": [
       "[0.950279878779768, 0.9527291356692622, 0.9530554877670591, 0.967660875441266]"
      ]
     },
     "execution_count": 108,
     "metadata": {},
     "output_type": "execute_result"
    }
   ],
   "source": [
    "xgbScoresSobreVentanaSiguienteRegresionA"
   ]
  },
  {
   "cell_type": "markdown",
   "metadata": {},
   "source": [
    "### Muy buenos resultados con el algoritmo XGB, con un accuracy de 0.95 para la ventana dos con el modelo 1."
   ]
  },
  {
   "cell_type": "markdown",
   "metadata": {},
   "source": [
    "### Ahora recompilamos nuestros resultados con los device_id correspondientes. El calculo con XGBoost sera él usado para el target"
   ]
  },
  {
   "cell_type": "code",
   "execution_count": 164,
   "metadata": {},
   "outputs": [],
   "source": [
    "dfPredictVentanaUnoSobreVentanaDos = pd.DataFrame(predictVentanaUnoSobreVentanaDos, columns = ['prediccion_1'])\n",
    "dfPredictVentanaDosSobreVentanaTres = pd.DataFrame(predictVentanaDosSobreVentanaTres, columns = ['prediccion_2'])\n",
    "dfPredictVentanaTresSobreVentanaCuatro = pd.DataFrame(predictVentanaTresSobreVentanaCuatro, columns = ['prediccion_3'])\n",
    "dfPredictVentanaCuatroSobreVentanaCinco = pd.DataFrame(predictVentanaCuatroSobreVentanaCinco, columns = ['prediccion_4'])"
   ]
  },
  {
   "cell_type": "code",
   "execution_count": 165,
   "metadata": {},
   "outputs": [
    {
     "data": {
      "text/html": [
       "<div>\n",
       "<style scoped>\n",
       "    .dataframe tbody tr th:only-of-type {\n",
       "        vertical-align: middle;\n",
       "    }\n",
       "\n",
       "    .dataframe tbody tr th {\n",
       "        vertical-align: top;\n",
       "    }\n",
       "\n",
       "    .dataframe thead th {\n",
       "        text-align: right;\n",
       "    }\n",
       "</style>\n",
       "<table border=\"1\" class=\"dataframe\">\n",
       "  <thead>\n",
       "    <tr style=\"text-align: right;\">\n",
       "      <th></th>\n",
       "      <th>prediccion_2</th>\n",
       "    </tr>\n",
       "  </thead>\n",
       "  <tbody>\n",
       "    <tr>\n",
       "      <th>0</th>\n",
       "      <td>259110.156250</td>\n",
       "    </tr>\n",
       "    <tr>\n",
       "      <th>1</th>\n",
       "      <td>259110.156250</td>\n",
       "    </tr>\n",
       "    <tr>\n",
       "      <th>2</th>\n",
       "      <td>158814.703125</td>\n",
       "    </tr>\n",
       "    <tr>\n",
       "      <th>3</th>\n",
       "      <td>259110.156250</td>\n",
       "    </tr>\n",
       "    <tr>\n",
       "      <th>4</th>\n",
       "      <td>259110.156250</td>\n",
       "    </tr>\n",
       "  </tbody>\n",
       "</table>\n",
       "</div>"
      ],
      "text/plain": [
       "    prediccion_2\n",
       "0  259110.156250\n",
       "1  259110.156250\n",
       "2  158814.703125\n",
       "3  259110.156250\n",
       "4  259110.156250"
      ]
     },
     "execution_count": 165,
     "metadata": {},
     "output_type": "execute_result"
    }
   ],
   "source": [
    "dfPredictVentanaDosSobreVentanaTres.head()"
   ]
  },
  {
   "cell_type": "code",
   "execution_count": 174,
   "metadata": {},
   "outputs": [],
   "source": [
    "dfPrediccionVentanaDosRegresionA = eventsInstallsVentanaDosRegresion[['ref_hash']]\n",
    "dfPrediccionVentanaTresRegresionA = eventsInstallsVentanaTresRegresion[['ref_hash']]\n",
    "dfPrediccionVentanaCuatroRegresionA = eventsInstallsVentanaCuatroRegresion[['ref_hash']]\n",
    "dfPrediccionVentanaCincoRegresionA = eventsInstallsVentanaCincoRegresion[['ref_hash']]"
   ]
  },
  {
   "cell_type": "code",
   "execution_count": 175,
   "metadata": {},
   "outputs": [],
   "source": [
    "dfPrediccionVentanaDosRegresionA = dfPrediccionVentanaDosRegresionA.reset_index(drop = True)\n",
    "dfPrediccionVentanaTresRegresionA = dfPrediccionVentanaTresRegresionA.reset_index(drop = True)\n",
    "dfPrediccionVentanaCuatroRegresionA = dfPrediccionVentanaCuatroRegresionA.reset_index(drop = True)\n",
    "dfPrediccionVentanaCincoRegresionA = dfPrediccionVentanaCincoRegresionA.reset_index(drop = True)"
   ]
  },
  {
   "cell_type": "code",
   "execution_count": 176,
   "metadata": {},
   "outputs": [
    {
     "data": {
      "text/html": [
       "<div>\n",
       "<style scoped>\n",
       "    .dataframe tbody tr th:only-of-type {\n",
       "        vertical-align: middle;\n",
       "    }\n",
       "\n",
       "    .dataframe tbody tr th {\n",
       "        vertical-align: top;\n",
       "    }\n",
       "\n",
       "    .dataframe thead th {\n",
       "        text-align: right;\n",
       "    }\n",
       "</style>\n",
       "<table border=\"1\" class=\"dataframe\">\n",
       "  <thead>\n",
       "    <tr style=\"text-align: right;\">\n",
       "      <th></th>\n",
       "      <th>ref_hash</th>\n",
       "    </tr>\n",
       "  </thead>\n",
       "  <tbody>\n",
       "    <tr>\n",
       "      <th>0</th>\n",
       "      <td>40621409780134</td>\n",
       "    </tr>\n",
       "    <tr>\n",
       "      <th>1</th>\n",
       "      <td>41863526108385</td>\n",
       "    </tr>\n",
       "    <tr>\n",
       "      <th>2</th>\n",
       "      <td>161514654074162</td>\n",
       "    </tr>\n",
       "    <tr>\n",
       "      <th>3</th>\n",
       "      <td>168103949904656</td>\n",
       "    </tr>\n",
       "    <tr>\n",
       "      <th>4</th>\n",
       "      <td>186034136943920</td>\n",
       "    </tr>\n",
       "  </tbody>\n",
       "</table>\n",
       "</div>"
      ],
      "text/plain": [
       "          ref_hash\n",
       "0   40621409780134\n",
       "1   41863526108385\n",
       "2  161514654074162\n",
       "3  168103949904656\n",
       "4  186034136943920"
      ]
     },
     "execution_count": 176,
     "metadata": {},
     "output_type": "execute_result"
    }
   ],
   "source": [
    "dfPrediccionVentanaTresRegresionA.head()"
   ]
  },
  {
   "cell_type": "code",
   "execution_count": 177,
   "metadata": {},
   "outputs": [],
   "source": [
    "dfPrediccionVentanaDosRegresionA = pd.concat([dfPrediccionVentanaDosRegresionA,\\\n",
    "                                             dfPredictVentanaUnoSobreVentanaDos], axis = 1)\n",
    "dfPrediccionVentanaTresRegresionA = pd.concat([dfPrediccionVentanaTresRegresionA,\\\n",
    "                                             dfPredictVentanaDosSobreVentanaTres], axis = 1)\n",
    "dfPrediccionVentanaCuatroRegresionA = pd.concat([dfPrediccionVentanaCuatroRegresionA,\\\n",
    "                                             dfPredictVentanaTresSobreVentanaCuatro], axis = 1)\n",
    "dfPrediccionVentanaCincoRegresionA = pd.concat([dfPrediccionVentanaCincoRegresionA,\\\n",
    "                                             dfPredictVentanaCuatroSobreVentanaCinco], axis = 1)"
   ]
  },
  {
   "cell_type": "code",
   "execution_count": 178,
   "metadata": {},
   "outputs": [
    {
     "data": {
      "text/html": [
       "<div>\n",
       "<style scoped>\n",
       "    .dataframe tbody tr th:only-of-type {\n",
       "        vertical-align: middle;\n",
       "    }\n",
       "\n",
       "    .dataframe tbody tr th {\n",
       "        vertical-align: top;\n",
       "    }\n",
       "\n",
       "    .dataframe thead th {\n",
       "        text-align: right;\n",
       "    }\n",
       "</style>\n",
       "<table border=\"1\" class=\"dataframe\">\n",
       "  <thead>\n",
       "    <tr style=\"text-align: right;\">\n",
       "      <th></th>\n",
       "      <th>ref_hash</th>\n",
       "      <th>prediccion_4</th>\n",
       "    </tr>\n",
       "  </thead>\n",
       "  <tbody>\n",
       "    <tr>\n",
       "      <th>0</th>\n",
       "      <td>40621409780134</td>\n",
       "      <td>259113.359375</td>\n",
       "    </tr>\n",
       "    <tr>\n",
       "      <th>1</th>\n",
       "      <td>69039685746313</td>\n",
       "      <td>259113.359375</td>\n",
       "    </tr>\n",
       "    <tr>\n",
       "      <th>2</th>\n",
       "      <td>90072729247980</td>\n",
       "      <td>259113.359375</td>\n",
       "    </tr>\n",
       "    <tr>\n",
       "      <th>3</th>\n",
       "      <td>161514654074162</td>\n",
       "      <td>100249.804688</td>\n",
       "    </tr>\n",
       "    <tr>\n",
       "      <th>4</th>\n",
       "      <td>168103949904656</td>\n",
       "      <td>259113.359375</td>\n",
       "    </tr>\n",
       "  </tbody>\n",
       "</table>\n",
       "</div>"
      ],
      "text/plain": [
       "          ref_hash   prediccion_4\n",
       "0   40621409780134  259113.359375\n",
       "1   69039685746313  259113.359375\n",
       "2   90072729247980  259113.359375\n",
       "3  161514654074162  100249.804688\n",
       "4  168103949904656  259113.359375"
      ]
     },
     "execution_count": 178,
     "metadata": {},
     "output_type": "execute_result"
    }
   ],
   "source": [
    "dfPrediccionVentanaCincoRegresionA.head(5)"
   ]
  },
  {
   "cell_type": "markdown",
   "metadata": {},
   "source": [
    "### Ahora mergeamos los cuatro dataframes para tener el promedio asociado a cada modelo en una columna distinta. Despues de so, haremos un promedio de las predicciones y lo tomaremos como Survival Time para un install."
   ]
  },
  {
   "cell_type": "code",
   "execution_count": 291,
   "metadata": {},
   "outputs": [],
   "source": [
    "dfPrediccionSc = pd.merge(dfPrediccionVentanaDosRegresionA, dfPrediccionVentanaTresRegresionA,\\\n",
    "                        on = 'ref_hash', how = 'outer')"
   ]
  },
  {
   "cell_type": "code",
   "execution_count": 292,
   "metadata": {},
   "outputs": [],
   "source": [
    "dfPrediccionSc = pd.merge(dfPrediccionSc, dfPrediccionVentanaCuatroRegresionA,\\\n",
    "                        on = 'ref_hash', how = 'outer')\n",
    "dfPrediccionSc = pd.merge(dfPrediccionSc, dfPrediccionVentanaCincoRegresionA,\\\n",
    "                        on = 'ref_hash', how = 'outer')"
   ]
  },
  {
   "cell_type": "code",
   "execution_count": 235,
   "metadata": {},
   "outputs": [
    {
     "data": {
      "text/plain": [
       "273948"
      ]
     },
     "execution_count": 235,
     "metadata": {},
     "output_type": "execute_result"
    }
   ],
   "source": [
    "len(dfPrediccionSc)"
   ]
  },
  {
   "cell_type": "code",
   "execution_count": 293,
   "metadata": {
    "scrolled": true
   },
   "outputs": [
    {
     "data": {
      "text/html": [
       "<div>\n",
       "<style scoped>\n",
       "    .dataframe tbody tr th:only-of-type {\n",
       "        vertical-align: middle;\n",
       "    }\n",
       "\n",
       "    .dataframe tbody tr th {\n",
       "        vertical-align: top;\n",
       "    }\n",
       "\n",
       "    .dataframe thead th {\n",
       "        text-align: right;\n",
       "    }\n",
       "</style>\n",
       "<table border=\"1\" class=\"dataframe\">\n",
       "  <thead>\n",
       "    <tr style=\"text-align: right;\">\n",
       "      <th></th>\n",
       "      <th>ref_hash</th>\n",
       "      <th>prediccion_1</th>\n",
       "      <th>prediccion_2</th>\n",
       "      <th>prediccion_3</th>\n",
       "      <th>prediccion_4</th>\n",
       "    </tr>\n",
       "  </thead>\n",
       "  <tbody>\n",
       "    <tr>\n",
       "      <th>0</th>\n",
       "      <td>40621409780134</td>\n",
       "      <td>259119.390625</td>\n",
       "      <td>259110.156250</td>\n",
       "      <td>259114.703125</td>\n",
       "      <td>259113.359375</td>\n",
       "    </tr>\n",
       "    <tr>\n",
       "      <th>1</th>\n",
       "      <td>41863526108385</td>\n",
       "      <td>259119.390625</td>\n",
       "      <td>259110.156250</td>\n",
       "      <td>NaN</td>\n",
       "      <td>NaN</td>\n",
       "    </tr>\n",
       "    <tr>\n",
       "      <th>2</th>\n",
       "      <td>161514654074162</td>\n",
       "      <td>259126.875000</td>\n",
       "      <td>158814.703125</td>\n",
       "      <td>193308.062500</td>\n",
       "      <td>100249.804688</td>\n",
       "    </tr>\n",
       "    <tr>\n",
       "      <th>3</th>\n",
       "      <td>360710529886978</td>\n",
       "      <td>259119.390625</td>\n",
       "      <td>259110.156250</td>\n",
       "      <td>259114.703125</td>\n",
       "      <td>259113.359375</td>\n",
       "    </tr>\n",
       "    <tr>\n",
       "      <th>4</th>\n",
       "      <td>365882020742330</td>\n",
       "      <td>259119.390625</td>\n",
       "      <td>259110.156250</td>\n",
       "      <td>259114.703125</td>\n",
       "      <td>259113.359375</td>\n",
       "    </tr>\n",
       "  </tbody>\n",
       "</table>\n",
       "</div>"
      ],
      "text/plain": [
       "          ref_hash   prediccion_1   prediccion_2   prediccion_3   prediccion_4\n",
       "0   40621409780134  259119.390625  259110.156250  259114.703125  259113.359375\n",
       "1   41863526108385  259119.390625  259110.156250            NaN            NaN\n",
       "2  161514654074162  259126.875000  158814.703125  193308.062500  100249.804688\n",
       "3  360710529886978  259119.390625  259110.156250  259114.703125  259113.359375\n",
       "4  365882020742330  259119.390625  259110.156250  259114.703125  259113.359375"
      ]
     },
     "execution_count": 293,
     "metadata": {},
     "output_type": "execute_result"
    }
   ],
   "source": [
    "dfPrediccionSc.head(5)"
   ]
  },
  {
   "cell_type": "code",
   "execution_count": 294,
   "metadata": {},
   "outputs": [],
   "source": [
    "dfPrediccionSc = dfPrediccionSc.fillna(value = 259200)"
   ]
  },
  {
   "cell_type": "code",
   "execution_count": 295,
   "metadata": {},
   "outputs": [
    {
     "data": {
      "text/html": [
       "<div>\n",
       "<style scoped>\n",
       "    .dataframe tbody tr th:only-of-type {\n",
       "        vertical-align: middle;\n",
       "    }\n",
       "\n",
       "    .dataframe tbody tr th {\n",
       "        vertical-align: top;\n",
       "    }\n",
       "\n",
       "    .dataframe thead th {\n",
       "        text-align: right;\n",
       "    }\n",
       "</style>\n",
       "<table border=\"1\" class=\"dataframe\">\n",
       "  <thead>\n",
       "    <tr style=\"text-align: right;\">\n",
       "      <th></th>\n",
       "      <th>ref_hash</th>\n",
       "      <th>prediccion_1</th>\n",
       "      <th>prediccion_2</th>\n",
       "      <th>prediccion_3</th>\n",
       "      <th>prediccion_4</th>\n",
       "    </tr>\n",
       "  </thead>\n",
       "  <tbody>\n",
       "    <tr>\n",
       "      <th>0</th>\n",
       "      <td>40621409780134</td>\n",
       "      <td>259119.390625</td>\n",
       "      <td>259110.156250</td>\n",
       "      <td>259114.703125</td>\n",
       "      <td>259113.359375</td>\n",
       "    </tr>\n",
       "    <tr>\n",
       "      <th>1</th>\n",
       "      <td>41863526108385</td>\n",
       "      <td>259119.390625</td>\n",
       "      <td>259110.156250</td>\n",
       "      <td>259200.000000</td>\n",
       "      <td>259200.000000</td>\n",
       "    </tr>\n",
       "    <tr>\n",
       "      <th>2</th>\n",
       "      <td>161514654074162</td>\n",
       "      <td>259126.875000</td>\n",
       "      <td>158814.703125</td>\n",
       "      <td>193308.062500</td>\n",
       "      <td>100249.804688</td>\n",
       "    </tr>\n",
       "    <tr>\n",
       "      <th>3</th>\n",
       "      <td>360710529886978</td>\n",
       "      <td>259119.390625</td>\n",
       "      <td>259110.156250</td>\n",
       "      <td>259114.703125</td>\n",
       "      <td>259113.359375</td>\n",
       "    </tr>\n",
       "    <tr>\n",
       "      <th>4</th>\n",
       "      <td>365882020742330</td>\n",
       "      <td>259119.390625</td>\n",
       "      <td>259110.156250</td>\n",
       "      <td>259114.703125</td>\n",
       "      <td>259113.359375</td>\n",
       "    </tr>\n",
       "  </tbody>\n",
       "</table>\n",
       "</div>"
      ],
      "text/plain": [
       "          ref_hash   prediccion_1   prediccion_2   prediccion_3   prediccion_4\n",
       "0   40621409780134  259119.390625  259110.156250  259114.703125  259113.359375\n",
       "1   41863526108385  259119.390625  259110.156250  259200.000000  259200.000000\n",
       "2  161514654074162  259126.875000  158814.703125  193308.062500  100249.804688\n",
       "3  360710529886978  259119.390625  259110.156250  259114.703125  259113.359375\n",
       "4  365882020742330  259119.390625  259110.156250  259114.703125  259113.359375"
      ]
     },
     "execution_count": 295,
     "metadata": {},
     "output_type": "execute_result"
    }
   ],
   "source": [
    "dfPrediccionSc.head()"
   ]
  },
  {
   "cell_type": "code",
   "execution_count": 296,
   "metadata": {},
   "outputs": [],
   "source": [
    "dfPrediccionSc['prediccion_promedia'] = 0.25*(dfPrediccionSc.prediccion_1 + dfPrediccionSc.prediccion_2 +\\\n",
    "dfPrediccionSc.prediccion_3 + dfPrediccionSc.prediccion_4)"
   ]
  },
  {
   "cell_type": "code",
   "execution_count": 297,
   "metadata": {},
   "outputs": [
    {
     "data": {
      "text/html": [
       "<div>\n",
       "<style scoped>\n",
       "    .dataframe tbody tr th:only-of-type {\n",
       "        vertical-align: middle;\n",
       "    }\n",
       "\n",
       "    .dataframe tbody tr th {\n",
       "        vertical-align: top;\n",
       "    }\n",
       "\n",
       "    .dataframe thead th {\n",
       "        text-align: right;\n",
       "    }\n",
       "</style>\n",
       "<table border=\"1\" class=\"dataframe\">\n",
       "  <thead>\n",
       "    <tr style=\"text-align: right;\">\n",
       "      <th></th>\n",
       "      <th>ref_hash</th>\n",
       "      <th>prediccion_1</th>\n",
       "      <th>prediccion_2</th>\n",
       "      <th>prediccion_3</th>\n",
       "      <th>prediccion_4</th>\n",
       "      <th>prediccion_promedia</th>\n",
       "    </tr>\n",
       "  </thead>\n",
       "  <tbody>\n",
       "    <tr>\n",
       "      <th>0</th>\n",
       "      <td>40621409780134</td>\n",
       "      <td>259119.390625</td>\n",
       "      <td>259110.156250</td>\n",
       "      <td>259114.703125</td>\n",
       "      <td>259113.359375</td>\n",
       "      <td>259114.406250</td>\n",
       "    </tr>\n",
       "    <tr>\n",
       "      <th>1</th>\n",
       "      <td>41863526108385</td>\n",
       "      <td>259119.390625</td>\n",
       "      <td>259110.156250</td>\n",
       "      <td>259200.000000</td>\n",
       "      <td>259200.000000</td>\n",
       "      <td>259157.390625</td>\n",
       "    </tr>\n",
       "    <tr>\n",
       "      <th>2</th>\n",
       "      <td>161514654074162</td>\n",
       "      <td>259126.875000</td>\n",
       "      <td>158814.703125</td>\n",
       "      <td>193308.062500</td>\n",
       "      <td>100249.804688</td>\n",
       "      <td>177874.859375</td>\n",
       "    </tr>\n",
       "    <tr>\n",
       "      <th>3</th>\n",
       "      <td>360710529886978</td>\n",
       "      <td>259119.390625</td>\n",
       "      <td>259110.156250</td>\n",
       "      <td>259114.703125</td>\n",
       "      <td>259113.359375</td>\n",
       "      <td>259114.406250</td>\n",
       "    </tr>\n",
       "    <tr>\n",
       "      <th>4</th>\n",
       "      <td>365882020742330</td>\n",
       "      <td>259119.390625</td>\n",
       "      <td>259110.156250</td>\n",
       "      <td>259114.703125</td>\n",
       "      <td>259113.359375</td>\n",
       "      <td>259114.406250</td>\n",
       "    </tr>\n",
       "  </tbody>\n",
       "</table>\n",
       "</div>"
      ],
      "text/plain": [
       "          ref_hash   prediccion_1   prediccion_2   prediccion_3  \\\n",
       "0   40621409780134  259119.390625  259110.156250  259114.703125   \n",
       "1   41863526108385  259119.390625  259110.156250  259200.000000   \n",
       "2  161514654074162  259126.875000  158814.703125  193308.062500   \n",
       "3  360710529886978  259119.390625  259110.156250  259114.703125   \n",
       "4  365882020742330  259119.390625  259110.156250  259114.703125   \n",
       "\n",
       "    prediccion_4  prediccion_promedia  \n",
       "0  259113.359375        259114.406250  \n",
       "1  259200.000000        259157.390625  \n",
       "2  100249.804688        177874.859375  \n",
       "3  259113.359375        259114.406250  \n",
       "4  259113.359375        259114.406250  "
      ]
     },
     "execution_count": 297,
     "metadata": {},
     "output_type": "execute_result"
    }
   ],
   "source": [
    "dfPrediccionSc.head()"
   ]
  },
  {
   "cell_type": "code",
   "execution_count": 298,
   "metadata": {},
   "outputs": [],
   "source": [
    "dfPrediccionSc = dfPrediccionSc[['ref_hash', 'prediccion_promedia']]"
   ]
  },
  {
   "cell_type": "markdown",
   "metadata": {},
   "source": [
    "### Ahora vamos a completar con todos los ref_hash que nunca aparecieron en nuestro estudio pero que son parte del estudio."
   ]
  },
  {
   "cell_type": "code",
   "execution_count": 299,
   "metadata": {},
   "outputs": [],
   "source": [
    "dfPrediccionSc['ref_hash'] = dfPrediccionSc.ref_hash.astype(str) + '_sc'"
   ]
  },
  {
   "cell_type": "code",
   "execution_count": 300,
   "metadata": {},
   "outputs": [
    {
     "data": {
      "text/html": [
       "<div>\n",
       "<style scoped>\n",
       "    .dataframe tbody tr th:only-of-type {\n",
       "        vertical-align: middle;\n",
       "    }\n",
       "\n",
       "    .dataframe tbody tr th {\n",
       "        vertical-align: top;\n",
       "    }\n",
       "\n",
       "    .dataframe thead th {\n",
       "        text-align: right;\n",
       "    }\n",
       "</style>\n",
       "<table border=\"1\" class=\"dataframe\">\n",
       "  <thead>\n",
       "    <tr style=\"text-align: right;\">\n",
       "      <th></th>\n",
       "      <th>ref_hash</th>\n",
       "      <th>prediccion_promedia</th>\n",
       "    </tr>\n",
       "  </thead>\n",
       "  <tbody>\n",
       "    <tr>\n",
       "      <th>0</th>\n",
       "      <td>40621409780134_sc</td>\n",
       "      <td>259114.406250</td>\n",
       "    </tr>\n",
       "    <tr>\n",
       "      <th>1</th>\n",
       "      <td>41863526108385_sc</td>\n",
       "      <td>259157.390625</td>\n",
       "    </tr>\n",
       "    <tr>\n",
       "      <th>2</th>\n",
       "      <td>161514654074162_sc</td>\n",
       "      <td>177874.859375</td>\n",
       "    </tr>\n",
       "  </tbody>\n",
       "</table>\n",
       "</div>"
      ],
      "text/plain": [
       "             ref_hash  prediccion_promedia\n",
       "0   40621409780134_sc        259114.406250\n",
       "1   41863526108385_sc        259157.390625\n",
       "2  161514654074162_sc        177874.859375"
      ]
     },
     "execution_count": 300,
     "metadata": {},
     "output_type": "execute_result"
    }
   ],
   "source": [
    "dfPrediccionSc.head(3)"
   ]
  },
  {
   "cell_type": "code",
   "execution_count": 255,
   "metadata": {},
   "outputs": [],
   "source": [
    "target = pd.read_csv('./target_competencia_ids.csv')"
   ]
  },
  {
   "cell_type": "code",
   "execution_count": 191,
   "metadata": {},
   "outputs": [
    {
     "data": {
      "text/plain": [
       "ref_hash    object\n",
       "obj          int64\n",
       "dtype: object"
      ]
     },
     "execution_count": 191,
     "metadata": {},
     "output_type": "execute_result"
    }
   ],
   "source": [
    "target.dtypes"
   ]
  },
  {
   "cell_type": "code",
   "execution_count": 256,
   "metadata": {},
   "outputs": [
    {
     "data": {
      "text/html": [
       "<div>\n",
       "<style scoped>\n",
       "    .dataframe tbody tr th:only-of-type {\n",
       "        vertical-align: middle;\n",
       "    }\n",
       "\n",
       "    .dataframe tbody tr th {\n",
       "        vertical-align: top;\n",
       "    }\n",
       "\n",
       "    .dataframe thead th {\n",
       "        text-align: right;\n",
       "    }\n",
       "</style>\n",
       "<table border=\"1\" class=\"dataframe\">\n",
       "  <thead>\n",
       "    <tr style=\"text-align: right;\">\n",
       "      <th></th>\n",
       "      <th>ref_hash</th>\n",
       "      <th>obj</th>\n",
       "    </tr>\n",
       "  </thead>\n",
       "  <tbody>\n",
       "    <tr>\n",
       "      <th>0</th>\n",
       "      <td>1000169251625791246_sc</td>\n",
       "      <td>0</td>\n",
       "    </tr>\n",
       "    <tr>\n",
       "      <th>1</th>\n",
       "      <td>1000169251625791246_st</td>\n",
       "      <td>0</td>\n",
       "    </tr>\n",
       "    <tr>\n",
       "      <th>2</th>\n",
       "      <td>1000395625957344683_sc</td>\n",
       "      <td>0</td>\n",
       "    </tr>\n",
       "  </tbody>\n",
       "</table>\n",
       "</div>"
      ],
      "text/plain": [
       "                 ref_hash  obj\n",
       "0  1000169251625791246_sc    0\n",
       "1  1000169251625791246_st    0\n",
       "2  1000395625957344683_sc    0"
      ]
     },
     "execution_count": 256,
     "metadata": {},
     "output_type": "execute_result"
    }
   ],
   "source": [
    "target.head(3)"
   ]
  },
  {
   "cell_type": "code",
   "execution_count": 316,
   "metadata": {},
   "outputs": [],
   "source": [
    "targetUpdated = pd.merge(target, dfPrediccionSc, on = 'ref_hash', how = 'left')"
   ]
  },
  {
   "cell_type": "code",
   "execution_count": 317,
   "metadata": {
    "scrolled": true
   },
   "outputs": [
    {
     "data": {
      "text/html": [
       "<div>\n",
       "<style scoped>\n",
       "    .dataframe tbody tr th:only-of-type {\n",
       "        vertical-align: middle;\n",
       "    }\n",
       "\n",
       "    .dataframe tbody tr th {\n",
       "        vertical-align: top;\n",
       "    }\n",
       "\n",
       "    .dataframe thead th {\n",
       "        text-align: right;\n",
       "    }\n",
       "</style>\n",
       "<table border=\"1\" class=\"dataframe\">\n",
       "  <thead>\n",
       "    <tr style=\"text-align: right;\">\n",
       "      <th></th>\n",
       "      <th>ref_hash</th>\n",
       "      <th>obj</th>\n",
       "      <th>prediccion_promedia</th>\n",
       "    </tr>\n",
       "  </thead>\n",
       "  <tbody>\n",
       "    <tr>\n",
       "      <th>0</th>\n",
       "      <td>1000169251625791246_sc</td>\n",
       "      <td>0</td>\n",
       "      <td>259114.406250</td>\n",
       "    </tr>\n",
       "    <tr>\n",
       "      <th>1</th>\n",
       "      <td>1000169251625791246_st</td>\n",
       "      <td>0</td>\n",
       "      <td>NaN</td>\n",
       "    </tr>\n",
       "    <tr>\n",
       "      <th>2</th>\n",
       "      <td>1000395625957344683_sc</td>\n",
       "      <td>0</td>\n",
       "      <td>161908.000000</td>\n",
       "    </tr>\n",
       "    <tr>\n",
       "      <th>3</th>\n",
       "      <td>1000395625957344683_st</td>\n",
       "      <td>0</td>\n",
       "      <td>NaN</td>\n",
       "    </tr>\n",
       "    <tr>\n",
       "      <th>4</th>\n",
       "      <td>1003027494996471685_sc</td>\n",
       "      <td>0</td>\n",
       "      <td>182100.312500</td>\n",
       "    </tr>\n",
       "    <tr>\n",
       "      <th>5</th>\n",
       "      <td>1003027494996471685_st</td>\n",
       "      <td>0</td>\n",
       "      <td>NaN</td>\n",
       "    </tr>\n",
       "    <tr>\n",
       "      <th>6</th>\n",
       "      <td>1006670001679961544_sc</td>\n",
       "      <td>0</td>\n",
       "      <td>195578.828125</td>\n",
       "    </tr>\n",
       "    <tr>\n",
       "      <th>7</th>\n",
       "      <td>1006670001679961544_st</td>\n",
       "      <td>0</td>\n",
       "      <td>NaN</td>\n",
       "    </tr>\n",
       "    <tr>\n",
       "      <th>8</th>\n",
       "      <td>1007573308966476713_sc</td>\n",
       "      <td>0</td>\n",
       "      <td>259114.406250</td>\n",
       "    </tr>\n",
       "    <tr>\n",
       "      <th>9</th>\n",
       "      <td>1007573308966476713_st</td>\n",
       "      <td>0</td>\n",
       "      <td>NaN</td>\n",
       "    </tr>\n",
       "    <tr>\n",
       "      <th>10</th>\n",
       "      <td>1010070503877148763_sc</td>\n",
       "      <td>0</td>\n",
       "      <td>NaN</td>\n",
       "    </tr>\n",
       "    <tr>\n",
       "      <th>11</th>\n",
       "      <td>1010070503877148763_st</td>\n",
       "      <td>0</td>\n",
       "      <td>NaN</td>\n",
       "    </tr>\n",
       "    <tr>\n",
       "      <th>12</th>\n",
       "      <td>1010265377387765028_sc</td>\n",
       "      <td>0</td>\n",
       "      <td>NaN</td>\n",
       "    </tr>\n",
       "    <tr>\n",
       "      <th>13</th>\n",
       "      <td>1010265377387765028_st</td>\n",
       "      <td>0</td>\n",
       "      <td>NaN</td>\n",
       "    </tr>\n",
       "    <tr>\n",
       "      <th>14</th>\n",
       "      <td>1010531372912327058_sc</td>\n",
       "      <td>0</td>\n",
       "      <td>259181.718750</td>\n",
       "    </tr>\n",
       "  </tbody>\n",
       "</table>\n",
       "</div>"
      ],
      "text/plain": [
       "                  ref_hash  obj  prediccion_promedia\n",
       "0   1000169251625791246_sc    0        259114.406250\n",
       "1   1000169251625791246_st    0                  NaN\n",
       "2   1000395625957344683_sc    0        161908.000000\n",
       "3   1000395625957344683_st    0                  NaN\n",
       "4   1003027494996471685_sc    0        182100.312500\n",
       "5   1003027494996471685_st    0                  NaN\n",
       "6   1006670001679961544_sc    0        195578.828125\n",
       "7   1006670001679961544_st    0                  NaN\n",
       "8   1007573308966476713_sc    0        259114.406250\n",
       "9   1007573308966476713_st    0                  NaN\n",
       "10  1010070503877148763_sc    0                  NaN\n",
       "11  1010070503877148763_st    0                  NaN\n",
       "12  1010265377387765028_sc    0                  NaN\n",
       "13  1010265377387765028_st    0                  NaN\n",
       "14  1010531372912327058_sc    0        259181.718750"
      ]
     },
     "execution_count": 317,
     "metadata": {},
     "output_type": "execute_result"
    }
   ],
   "source": [
    "targetUpdated.head(15)"
   ]
  },
  {
   "cell_type": "markdown",
   "metadata": {},
   "source": [
    "### Si nunca apareció en nuestro analisis, le ponemos un valor de tres dias."
   ]
  },
  {
   "cell_type": "code",
   "execution_count": 318,
   "metadata": {},
   "outputs": [],
   "source": [
    "targetUpdated =  targetUpdated.fillna(value = 259200)"
   ]
  },
  {
   "cell_type": "code",
   "execution_count": 319,
   "metadata": {},
   "outputs": [],
   "source": [
    "targetUpdated = targetUpdated.drop(columns = ['obj'])\n",
    "targetUpdated.columns = ['ref_hash', 'obj']"
   ]
  },
  {
   "cell_type": "markdown",
   "metadata": {},
   "source": [
    "### Consideremos que los valores muy cerca de 259200 segundos son una aproximación para tres días asi las cambiamos."
   ]
  },
  {
   "cell_type": "code",
   "execution_count": 320,
   "metadata": {},
   "outputs": [],
   "source": [
    "targetUpdated.loc[targetUpdated.obj > 255000, 'obj'] = 259200"
   ]
  },
  {
   "cell_type": "markdown",
   "metadata": {},
   "source": [
    "### Dejando los valores de St(d) a 0 por ahora"
   ]
  },
  {
   "cell_type": "code",
   "execution_count": 321,
   "metadata": {},
   "outputs": [],
   "source": [
    "targetUpdated.loc[targetUpdated.index % 2 != 0, 'obj'] = 0"
   ]
  },
  {
   "cell_type": "code",
   "execution_count": 322,
   "metadata": {},
   "outputs": [
    {
     "data": {
      "text/plain": [
       "ref_hash     object\n",
       "obj         float64\n",
       "dtype: object"
      ]
     },
     "execution_count": 322,
     "metadata": {},
     "output_type": "execute_result"
    }
   ],
   "source": [
    "targetUpdated.dtypes"
   ]
  },
  {
   "cell_type": "code",
   "execution_count": 323,
   "metadata": {},
   "outputs": [],
   "source": [
    "targetUpdated['obj'] = targetUpdated.obj.round().astype(int)"
   ]
  },
  {
   "cell_type": "code",
   "execution_count": 324,
   "metadata": {},
   "outputs": [
    {
     "data": {
      "text/html": [
       "<div>\n",
       "<style scoped>\n",
       "    .dataframe tbody tr th:only-of-type {\n",
       "        vertical-align: middle;\n",
       "    }\n",
       "\n",
       "    .dataframe tbody tr th {\n",
       "        vertical-align: top;\n",
       "    }\n",
       "\n",
       "    .dataframe thead th {\n",
       "        text-align: right;\n",
       "    }\n",
       "</style>\n",
       "<table border=\"1\" class=\"dataframe\">\n",
       "  <thead>\n",
       "    <tr style=\"text-align: right;\">\n",
       "      <th></th>\n",
       "      <th>ref_hash</th>\n",
       "      <th>obj</th>\n",
       "    </tr>\n",
       "  </thead>\n",
       "  <tbody>\n",
       "    <tr>\n",
       "      <th>0</th>\n",
       "      <td>1000169251625791246_sc</td>\n",
       "      <td>259200</td>\n",
       "    </tr>\n",
       "    <tr>\n",
       "      <th>1</th>\n",
       "      <td>1000169251625791246_st</td>\n",
       "      <td>0</td>\n",
       "    </tr>\n",
       "    <tr>\n",
       "      <th>2</th>\n",
       "      <td>1000395625957344683_sc</td>\n",
       "      <td>161908</td>\n",
       "    </tr>\n",
       "    <tr>\n",
       "      <th>3</th>\n",
       "      <td>1000395625957344683_st</td>\n",
       "      <td>0</td>\n",
       "    </tr>\n",
       "    <tr>\n",
       "      <th>4</th>\n",
       "      <td>1003027494996471685_sc</td>\n",
       "      <td>182100</td>\n",
       "    </tr>\n",
       "    <tr>\n",
       "      <th>5</th>\n",
       "      <td>1003027494996471685_st</td>\n",
       "      <td>0</td>\n",
       "    </tr>\n",
       "    <tr>\n",
       "      <th>6</th>\n",
       "      <td>1006670001679961544_sc</td>\n",
       "      <td>195579</td>\n",
       "    </tr>\n",
       "    <tr>\n",
       "      <th>7</th>\n",
       "      <td>1006670001679961544_st</td>\n",
       "      <td>0</td>\n",
       "    </tr>\n",
       "    <tr>\n",
       "      <th>8</th>\n",
       "      <td>1007573308966476713_sc</td>\n",
       "      <td>259200</td>\n",
       "    </tr>\n",
       "    <tr>\n",
       "      <th>9</th>\n",
       "      <td>1007573308966476713_st</td>\n",
       "      <td>0</td>\n",
       "    </tr>\n",
       "    <tr>\n",
       "      <th>10</th>\n",
       "      <td>1010070503877148763_sc</td>\n",
       "      <td>259200</td>\n",
       "    </tr>\n",
       "    <tr>\n",
       "      <th>11</th>\n",
       "      <td>1010070503877148763_st</td>\n",
       "      <td>0</td>\n",
       "    </tr>\n",
       "    <tr>\n",
       "      <th>12</th>\n",
       "      <td>1010265377387765028_sc</td>\n",
       "      <td>259200</td>\n",
       "    </tr>\n",
       "    <tr>\n",
       "      <th>13</th>\n",
       "      <td>1010265377387765028_st</td>\n",
       "      <td>0</td>\n",
       "    </tr>\n",
       "    <tr>\n",
       "      <th>14</th>\n",
       "      <td>1010531372912327058_sc</td>\n",
       "      <td>259200</td>\n",
       "    </tr>\n",
       "    <tr>\n",
       "      <th>15</th>\n",
       "      <td>1010531372912327058_st</td>\n",
       "      <td>0</td>\n",
       "    </tr>\n",
       "    <tr>\n",
       "      <th>16</th>\n",
       "      <td>1011610998357271358_sc</td>\n",
       "      <td>196816</td>\n",
       "    </tr>\n",
       "    <tr>\n",
       "      <th>17</th>\n",
       "      <td>1011610998357271358_st</td>\n",
       "      <td>0</td>\n",
       "    </tr>\n",
       "    <tr>\n",
       "      <th>18</th>\n",
       "      <td>1013543838965040946_sc</td>\n",
       "      <td>259200</td>\n",
       "    </tr>\n",
       "    <tr>\n",
       "      <th>19</th>\n",
       "      <td>1013543838965040946_st</td>\n",
       "      <td>0</td>\n",
       "    </tr>\n",
       "  </tbody>\n",
       "</table>\n",
       "</div>"
      ],
      "text/plain": [
       "                  ref_hash     obj\n",
       "0   1000169251625791246_sc  259200\n",
       "1   1000169251625791246_st       0\n",
       "2   1000395625957344683_sc  161908\n",
       "3   1000395625957344683_st       0\n",
       "4   1003027494996471685_sc  182100\n",
       "5   1003027494996471685_st       0\n",
       "6   1006670001679961544_sc  195579\n",
       "7   1006670001679961544_st       0\n",
       "8   1007573308966476713_sc  259200\n",
       "9   1007573308966476713_st       0\n",
       "10  1010070503877148763_sc  259200\n",
       "11  1010070503877148763_st       0\n",
       "12  1010265377387765028_sc  259200\n",
       "13  1010265377387765028_st       0\n",
       "14  1010531372912327058_sc  259200\n",
       "15  1010531372912327058_st       0\n",
       "16  1011610998357271358_sc  196816\n",
       "17  1011610998357271358_st       0\n",
       "18  1013543838965040946_sc  259200\n",
       "19  1013543838965040946_st       0"
      ]
     },
     "execution_count": 324,
     "metadata": {},
     "output_type": "execute_result"
    }
   ],
   "source": [
    "targetUpdated.head(20)"
   ]
  },
  {
   "cell_type": "markdown",
   "metadata": {},
   "source": [
    "## Aca tenemos nuestra primera prediccion para las conversiones."
   ]
  },
  {
   "cell_type": "code",
   "execution_count": 325,
   "metadata": {},
   "outputs": [],
   "source": [
    "targetUpdated.to_csv('targetConSc.csv', encoding='utf-8', index=False)"
   ]
  }
 ],
 "metadata": {
  "kernelspec": {
   "display_name": "Python 3",
   "language": "python",
   "name": "python3"
  },
  "language_info": {
   "codemirror_mode": {
    "name": "ipython",
    "version": 3
   },
   "file_extension": ".py",
   "mimetype": "text/x-python",
   "name": "python",
   "nbconvert_exporter": "python",
   "pygments_lexer": "ipython3",
   "version": "3.7.1"
  }
 },
 "nbformat": 4,
 "nbformat_minor": 2
}
