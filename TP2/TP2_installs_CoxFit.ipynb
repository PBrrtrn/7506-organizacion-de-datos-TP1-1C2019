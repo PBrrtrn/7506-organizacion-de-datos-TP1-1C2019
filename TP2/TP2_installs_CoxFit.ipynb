{
 "cells": [
  {
   "cell_type": "markdown",
   "metadata": {},
   "source": [
    "# Survival analysis para la empresa JAMPP - Notebook dedicado al fit con Cox\n",
    "\n",
    "El objetivo es analizar los datos de la empresa JAMPP para saber cuando un usuario volverá a conectarse a una app, dado sus datos de conexiones previas. La segunda predicción que intentaremos hacer es saber cuando volverá a \"convertir\", es decir comprar la app de la cual tiene una publicidad en su movil a un momento dado.\n",
    "\n"
   ]
  },
  {
   "cell_type": "code",
   "execution_count": 1,
   "metadata": {},
   "outputs": [],
   "source": [
    "import matplotlib.pyplot as plt\n",
    "import pandas as pd\n",
    "import numpy as np\n",
    "import lifelines\n",
    "import category_encoders as ce"
   ]
  },
  {
   "cell_type": "code",
   "execution_count": 2,
   "metadata": {},
   "outputs": [
    {
     "name": "stderr",
     "output_type": "stream",
     "text": [
      "/Users/yorickvinesse/anaconda3/lib/python3.7/site-packages/IPython/core/interactiveshell.py:3020: DtypeWarning: Columns (13,20) have mixed types. Specify dtype option on import or set low_memory=False.\n",
      "  interactivity=interactivity, compiler=compiler, result=result)\n"
     ]
    }
   ],
   "source": [
    "events = pd.read_csv('./events.csv')"
   ]
  },
  {
   "cell_type": "code",
   "execution_count": 3,
   "metadata": {},
   "outputs": [
    {
     "name": "stderr",
     "output_type": "stream",
     "text": [
      "/Users/yorickvinesse/anaconda3/lib/python3.7/site-packages/IPython/core/interactiveshell.py:3020: DtypeWarning: Columns (16,17) have mixed types. Specify dtype option on import or set low_memory=False.\n",
      "  interactivity=interactivity, compiler=compiler, result=result)\n"
     ]
    }
   ],
   "source": [
    "clicks = pd.read_csv('./clicks.csv')"
   ]
  },
  {
   "cell_type": "code",
   "execution_count": 4,
   "metadata": {},
   "outputs": [
    {
     "name": "stderr",
     "output_type": "stream",
     "text": [
      "/Users/yorickvinesse/anaconda3/lib/python3.7/site-packages/IPython/core/interactiveshell.py:3020: DtypeWarning: Columns (4,15) have mixed types. Specify dtype option on import or set low_memory=False.\n",
      "  interactivity=interactivity, compiler=compiler, result=result)\n"
     ]
    }
   ],
   "source": [
    "installs = pd.read_csv('./installs.csv')"
   ]
  },
  {
   "cell_type": "markdown",
   "metadata": {},
   "source": [
    "# Que datos nos conviene usar?\n",
    "\n",
    "Acá estamos haciendo un _survival analysis_ entonces se necesita mostrar el momento al cual ocurrió un evento. En nuestro caso, si un evento aparece en el dataset de _auctions_, es porque ocurrió. El survival analysis se enfoca en la primera vez que ocurre un evento, puesto que hace una regresión de un set de caractéristicas en frente a una fecha de ocurrencia del evento.\n",
    "\n",
    "Pero es cierto que muchos usuarios, aca representados por sus *device_id* aparecen varias veces en la lista de subastas (_auctions_), considerando que 475338 *device_id* únicos se pueden contar adentro del set de _auctions_ que almacena 47409528 observaciones distintas (100 veces más).\n",
    "\n",
    "Dado eso, parecería inoportuno no considerar la característica de repetición de aparición de los usuarios cuando hacemos la predicción de su reaparición más adelante.\n",
    "\n",
    "Podemos tratar de analizar datos como la cantidad de clicks hecha por un usuario antes de llevar a cabo una instalación, o la cantidad de veces que apareció en una subasta."
   ]
  },
  {
   "cell_type": "markdown",
   "metadata": {},
   "source": [
    "### Para aliviar los sets, sacamos las columnas que llevan el mismo valor para todas filas."
   ]
  },
  {
   "cell_type": "code",
   "execution_count": 5,
   "metadata": {},
   "outputs": [],
   "source": [
    "events.drop(columns = ['device_countrycode'], inplace = True)\n",
    "clicks.drop(columns = ['country_code'], inplace = True)\n",
    "installs.drop(columns = ['device_countrycode'], inplace = True)"
   ]
  },
  {
   "cell_type": "markdown",
   "metadata": {},
   "source": [
    "## Análisis de los eventos y installs para tratar de predecir con un modelo de Cox.\n",
    "\n",
    "Se debe tratar de predecir cuales features nos van a interesar en el fit. El tipo de conexión, por ejemplo, servirá mucho, mientras el countrycode no (solo hay uno en el set de datos)."
   ]
  },
  {
   "cell_type": "code",
   "execution_count": 108,
   "metadata": {},
   "outputs": [
    {
     "data": {
      "text/plain": [
       "index                 7744581\n",
       "date                  7744581\n",
       "event_id              7744581\n",
       "ref_type              7744581\n",
       "ref_hash              7744581\n",
       "application_id        7744581\n",
       "attributed            7744581\n",
       "device_os_version     2332975\n",
       "device_brand          2553424\n",
       "device_model          5668092\n",
       "device_city           1894935\n",
       "session_user_agent    7702301\n",
       "trans_id                37642\n",
       "user_agent            3341483\n",
       "event_uuid            7714809\n",
       "carrier               1925901\n",
       "kind                  7714809\n",
       "device_os             1870190\n",
       "wifi                  7744581\n",
       "connection_type       1809296\n",
       "ip_address            7744581\n",
       "device_language       5665409\n",
       "dtype: int64"
      ]
     },
     "execution_count": 108,
     "metadata": {},
     "output_type": "execute_result"
    }
   ],
   "source": [
    "events.count()"
   ]
  },
  {
   "cell_type": "code",
   "execution_count": 6,
   "metadata": {},
   "outputs": [],
   "source": [
    "eventsCurated = events.drop(columns = ['ref_type', 'session_user_agent', 'device_os_version', 'device_brand',\\\n",
    "                                       'device_model', 'trans_id', 'user_agent', 'ip_address'])"
   ]
  },
  {
   "cell_type": "code",
   "execution_count": 7,
   "metadata": {},
   "outputs": [
    {
     "data": {
      "text/html": [
       "<div>\n",
       "<style scoped>\n",
       "    .dataframe tbody tr th:only-of-type {\n",
       "        vertical-align: middle;\n",
       "    }\n",
       "\n",
       "    .dataframe tbody tr th {\n",
       "        vertical-align: top;\n",
       "    }\n",
       "\n",
       "    .dataframe thead th {\n",
       "        text-align: right;\n",
       "    }\n",
       "</style>\n",
       "<table border=\"1\" class=\"dataframe\">\n",
       "  <thead>\n",
       "    <tr style=\"text-align: right;\">\n",
       "      <th></th>\n",
       "      <th>index</th>\n",
       "      <th>date</th>\n",
       "      <th>event_id</th>\n",
       "      <th>ref_hash</th>\n",
       "      <th>application_id</th>\n",
       "      <th>attributed</th>\n",
       "      <th>device_city</th>\n",
       "      <th>event_uuid</th>\n",
       "      <th>carrier</th>\n",
       "      <th>kind</th>\n",
       "      <th>device_os</th>\n",
       "      <th>wifi</th>\n",
       "      <th>connection_type</th>\n",
       "      <th>device_language</th>\n",
       "    </tr>\n",
       "  </thead>\n",
       "  <tbody>\n",
       "    <tr>\n",
       "      <th>0</th>\n",
       "      <td>2130678</td>\n",
       "      <td>2019-04-20 01:42:49.120</td>\n",
       "      <td>0</td>\n",
       "      <td>5857744372586891366</td>\n",
       "      <td>210</td>\n",
       "      <td>False</td>\n",
       "      <td>NaN</td>\n",
       "      <td>5b506964-5f47-4b28-a8c2-8a92d6c23379</td>\n",
       "      <td>NaN</td>\n",
       "      <td>5.882882e+18</td>\n",
       "      <td>NaN</td>\n",
       "      <td>False</td>\n",
       "      <td>NaN</td>\n",
       "      <td>3.301378e+18</td>\n",
       "    </tr>\n",
       "    <tr>\n",
       "      <th>1</th>\n",
       "      <td>2130680</td>\n",
       "      <td>2019-04-20 01:42:49.340</td>\n",
       "      <td>1</td>\n",
       "      <td>7642521036780133571</td>\n",
       "      <td>210</td>\n",
       "      <td>False</td>\n",
       "      <td>NaN</td>\n",
       "      <td>f1fb9d15-1a7b-4116-8d3b-c4c403e197e2</td>\n",
       "      <td>NaN</td>\n",
       "      <td>4.017674e+18</td>\n",
       "      <td>NaN</td>\n",
       "      <td>False</td>\n",
       "      <td>NaN</td>\n",
       "      <td>NaN</td>\n",
       "    </tr>\n",
       "  </tbody>\n",
       "</table>\n",
       "</div>"
      ],
      "text/plain": [
       "     index                     date  event_id             ref_hash  \\\n",
       "0  2130678  2019-04-20 01:42:49.120         0  5857744372586891366   \n",
       "1  2130680  2019-04-20 01:42:49.340         1  7642521036780133571   \n",
       "\n",
       "   application_id  attributed  device_city  \\\n",
       "0             210       False          NaN   \n",
       "1             210       False          NaN   \n",
       "\n",
       "                             event_uuid  carrier          kind  device_os  \\\n",
       "0  5b506964-5f47-4b28-a8c2-8a92d6c23379      NaN  5.882882e+18        NaN   \n",
       "1  f1fb9d15-1a7b-4116-8d3b-c4c403e197e2      NaN  4.017674e+18        NaN   \n",
       "\n",
       "    wifi connection_type  device_language  \n",
       "0  False             NaN     3.301378e+18  \n",
       "1  False             NaN              NaN  "
      ]
     },
     "execution_count": 7,
     "metadata": {},
     "output_type": "execute_result"
    }
   ],
   "source": [
    "eventsCurated.head(2)"
   ]
  },
  {
   "cell_type": "markdown",
   "metadata": {},
   "source": [
    "## Vamos a curar los features de installs ahora, dejar todas las columnas que ya aparecen en _events_ y despues empezar a mergear los dos dataframes, antes de separarlos en ventanas de tres días."
   ]
  },
  {
   "cell_type": "code",
   "execution_count": 125,
   "metadata": {},
   "outputs": [
    {
     "data": {
      "text/plain": [
       "created               481511\n",
       "application_id        481511\n",
       "ref_type              481511\n",
       "ref_hash              481511\n",
       "click_hash              1142\n",
       "attributed            481511\n",
       "implicit              481511\n",
       "device_brand          276443\n",
       "device_model          454619\n",
       "session_user_agent    466672\n",
       "user_agent            330768\n",
       "event_uuid            103168\n",
       "kind                  103168\n",
       "wifi                  294829\n",
       "trans_id                8933\n",
       "ip_address            481511\n",
       "device_language       453934\n",
       "dtype: int64"
      ]
     },
     "execution_count": 125,
     "metadata": {},
     "output_type": "execute_result"
    }
   ],
   "source": [
    "installs.count()"
   ]
  },
  {
   "cell_type": "code",
   "execution_count": 8,
   "metadata": {},
   "outputs": [],
   "source": [
    "installsCurated = installs.drop(columns = ['created', 'application_id', 'ref_type', 'ref_hash', \\\n",
    "                                           'click_hash', 'attributed', 'device_brand', 'device_model',\\\n",
    "                                           'session_user_agent', 'user_agent', 'kind', 'wifi', 'trans_id',\\\n",
    "                                          'ip_address', 'device_language'])"
   ]
  },
  {
   "cell_type": "markdown",
   "metadata": {},
   "source": [
    "### Nos quedamos con los implicit = True, para solo analizar los installs de los cuales tenemos el evento registrado."
   ]
  },
  {
   "cell_type": "code",
   "execution_count": 9,
   "metadata": {},
   "outputs": [],
   "source": [
    "installsCurated = installsCurated[installsCurated.implicit]"
   ]
  },
  {
   "cell_type": "code",
   "execution_count": 10,
   "metadata": {},
   "outputs": [],
   "source": [
    "installsCurated['installed'] = 1"
   ]
  },
  {
   "cell_type": "code",
   "execution_count": 11,
   "metadata": {
    "scrolled": true
   },
   "outputs": [
    {
     "data": {
      "text/html": [
       "<div>\n",
       "<style scoped>\n",
       "    .dataframe tbody tr th:only-of-type {\n",
       "        vertical-align: middle;\n",
       "    }\n",
       "\n",
       "    .dataframe tbody tr th {\n",
       "        vertical-align: top;\n",
       "    }\n",
       "\n",
       "    .dataframe thead th {\n",
       "        text-align: right;\n",
       "    }\n",
       "</style>\n",
       "<table border=\"1\" class=\"dataframe\">\n",
       "  <thead>\n",
       "    <tr style=\"text-align: right;\">\n",
       "      <th></th>\n",
       "      <th>implicit</th>\n",
       "      <th>event_uuid</th>\n",
       "      <th>installed</th>\n",
       "    </tr>\n",
       "  </thead>\n",
       "  <tbody>\n",
       "    <tr>\n",
       "      <th>0</th>\n",
       "      <td>True</td>\n",
       "      <td>79837499-2f2a-4605-a663-e322f759424f</td>\n",
       "      <td>1</td>\n",
       "    </tr>\n",
       "    <tr>\n",
       "      <th>2</th>\n",
       "      <td>True</td>\n",
       "      <td>dda99e3c-9c4b-487d-891c-79f0a02cb4a8</td>\n",
       "      <td>1</td>\n",
       "    </tr>\n",
       "  </tbody>\n",
       "</table>\n",
       "</div>"
      ],
      "text/plain": [
       "   implicit                            event_uuid  installed\n",
       "0      True  79837499-2f2a-4605-a663-e322f759424f          1\n",
       "2      True  dda99e3c-9c4b-487d-891c-79f0a02cb4a8          1"
      ]
     },
     "execution_count": 11,
     "metadata": {},
     "output_type": "execute_result"
    }
   ],
   "source": [
    "installsCurated.head(2)"
   ]
  },
  {
   "cell_type": "code",
   "execution_count": 12,
   "metadata": {},
   "outputs": [],
   "source": [
    "eventsAndInstallsCurated = pd.merge(eventsCurated, installsCurated, on = 'event_uuid', how = 'left')"
   ]
  },
  {
   "cell_type": "code",
   "execution_count": 11,
   "metadata": {},
   "outputs": [
    {
     "data": {
      "text/plain": [
       "index                   7744666\n",
       "date                    7744666\n",
       "event_id                7744666\n",
       "ref_hash                7744666\n",
       "application_id          7744666\n",
       "attributed              7744666\n",
       "device_countrycode_x    7744666\n",
       "device_city             1895020\n",
       "event_uuid              7714894\n",
       "carrier                 1925986\n",
       "kind                    7714894\n",
       "device_os               1870190\n",
       "wifi                    7744666\n",
       "connection_type         1809296\n",
       "device_language         5665494\n",
       "implicit                 102359\n",
       "device_countrycode_y     102359\n",
       "installed                102359\n",
       "dtype: int64"
      ]
     },
     "execution_count": 11,
     "metadata": {},
     "output_type": "execute_result"
    }
   ],
   "source": [
    "eventsAndInstallsCurated.count()"
   ]
  },
  {
   "cell_type": "code",
   "execution_count": 13,
   "metadata": {},
   "outputs": [],
   "source": [
    "eventsAndInstallsCurated = eventsAndInstallsCurated.drop(columns = ['implicit'])"
   ]
  },
  {
   "cell_type": "markdown",
   "metadata": {},
   "source": [
    "### Aca llenamos la columna de _installed_ con 0 en los eventos que no llevan a una instalacion. Eso sera la columna indicando el _censorship_ para nuestro modelo Cox"
   ]
  },
  {
   "cell_type": "code",
   "execution_count": 14,
   "metadata": {},
   "outputs": [],
   "source": [
    "eventsAndInstallsCurated[['installed']] = eventsAndInstallsCurated[['installed']].fillna(value = 0)"
   ]
  },
  {
   "cell_type": "code",
   "execution_count": 16,
   "metadata": {},
   "outputs": [
    {
     "data": {
      "text/plain": [
       "index              7744666\n",
       "date               7744666\n",
       "event_id           7744666\n",
       "ref_hash           7744666\n",
       "application_id     7744666\n",
       "attributed         7744666\n",
       "device_city        1895020\n",
       "event_uuid         7714894\n",
       "carrier            1925986\n",
       "kind               7714894\n",
       "device_os          1870190\n",
       "wifi               7744666\n",
       "connection_type    1809296\n",
       "device_language    5665494\n",
       "installed          7744666\n",
       "dtype: int64"
      ]
     },
     "execution_count": 16,
     "metadata": {},
     "output_type": "execute_result"
    }
   ],
   "source": [
    "eventsAndInstallsCurated.count()"
   ]
  },
  {
   "cell_type": "markdown",
   "metadata": {},
   "source": [
    "# Separacion por ventana, para no tratar con sets de datos enormes. Asi empezamos las pruebas y si nos anda bien, podemos hacerlo con todo."
   ]
  },
  {
   "cell_type": "code",
   "execution_count": 15,
   "metadata": {},
   "outputs": [],
   "source": [
    "eventsInstallsVentanaUno = eventsAndInstallsCurated.loc[(eventsAndInstallsCurated['date'] < \"2019-04-21\")]\n",
    "eventsInstallsVentanaUno = eventsInstallsVentanaUno.loc[(eventsAndInstallsCurated['date'] > \"2019-04-18\")]"
   ]
  },
  {
   "cell_type": "code",
   "execution_count": 16,
   "metadata": {},
   "outputs": [],
   "source": [
    "eventsInstallsVentanaDos = eventsAndInstallsCurated.loc[(eventsAndInstallsCurated['date'] < \"2019-04-22\")]\n",
    "eventsInstallsVentanaDos = eventsInstallsVentanaDos.loc[(eventsAndInstallsCurated['date'] > \"2019-04-19\")]"
   ]
  },
  {
   "cell_type": "code",
   "execution_count": 17,
   "metadata": {},
   "outputs": [],
   "source": [
    "eventsInstallsVentanaTres = eventsAndInstallsCurated.loc[(eventsAndInstallsCurated['date'] < \"2019-04-23\")]\n",
    "eventsInstallsVentanaTres = eventsInstallsVentanaTres.loc[(eventsAndInstallsCurated['date'] > \"2019-04-20\")]"
   ]
  },
  {
   "cell_type": "code",
   "execution_count": 18,
   "metadata": {},
   "outputs": [],
   "source": [
    "eventsInstallsVentanaCuatro = eventsAndInstallsCurated.loc[(eventsAndInstallsCurated['date'] < \"2019-04-24\")]\n",
    "eventsInstallsVentanaCuatro = eventsInstallsVentanaCuatro.loc[(eventsAndInstallsCurated['date'] > \"2019-04-21\")]"
   ]
  },
  {
   "cell_type": "code",
   "execution_count": 19,
   "metadata": {},
   "outputs": [],
   "source": [
    "eventsInstallsVentanaCinco = eventsAndInstallsCurated.loc[(eventsAndInstallsCurated['date'] < \"2019-04-25\")]\n",
    "eventsInstallsVentanaCinco = eventsInstallsVentanaCinco.loc[(eventsAndInstallsCurated['date'] > \"2019-04-22\")]"
   ]
  },
  {
   "cell_type": "markdown",
   "metadata": {},
   "source": [
    "### Tratamos de ver que importancia tiene el uso del wifi en la instalación de apps. Damos a cada device_id como feature su promedio de uso del wifi en los eventos en los cuales participó. \n",
    "\n",
    "### Hacemos pruebas con la ventana uno."
   ]
  },
  {
   "cell_type": "code",
   "execution_count": 20,
   "metadata": {},
   "outputs": [],
   "source": [
    "proporcionWifiPorDeviceVentanaUno = eventsInstallsVentanaUno[['ref_hash', 'wifi']].groupby('ref_hash').mean()\n",
    "proporcionWifiPorDeviceVentanaDos = eventsInstallsVentanaDos[['ref_hash', 'wifi']].groupby('ref_hash').mean()\n",
    "proporcionWifiPorDeviceVentanaTres = eventsInstallsVentanaTres[['ref_hash', 'wifi']].groupby('ref_hash').mean()\n",
    "proporcionWifiPorDeviceVentanaCuatro = eventsInstallsVentanaCuatro[['ref_hash', 'wifi']].groupby('ref_hash').mean()\n",
    "proporcionWifiPorDeviceVentanaCinco = eventsInstallsVentanaCinco[['ref_hash', 'wifi']].groupby('ref_hash').mean()"
   ]
  },
  {
   "cell_type": "code",
   "execution_count": 21,
   "metadata": {},
   "outputs": [
    {
     "data": {
      "text/html": [
       "<div>\n",
       "<style scoped>\n",
       "    .dataframe tbody tr th:only-of-type {\n",
       "        vertical-align: middle;\n",
       "    }\n",
       "\n",
       "    .dataframe tbody tr th {\n",
       "        vertical-align: top;\n",
       "    }\n",
       "\n",
       "    .dataframe thead th {\n",
       "        text-align: right;\n",
       "    }\n",
       "</style>\n",
       "<table border=\"1\" class=\"dataframe\">\n",
       "  <thead>\n",
       "    <tr style=\"text-align: right;\">\n",
       "      <th></th>\n",
       "      <th>wifi</th>\n",
       "    </tr>\n",
       "    <tr>\n",
       "      <th>ref_hash</th>\n",
       "      <th></th>\n",
       "    </tr>\n",
       "  </thead>\n",
       "  <tbody>\n",
       "    <tr>\n",
       "      <th>41863526108385</th>\n",
       "      <td>0.0</td>\n",
       "    </tr>\n",
       "    <tr>\n",
       "      <th>161514654074162</th>\n",
       "      <td>1.0</td>\n",
       "    </tr>\n",
       "  </tbody>\n",
       "</table>\n",
       "</div>"
      ],
      "text/plain": [
       "                 wifi\n",
       "ref_hash             \n",
       "41863526108385    0.0\n",
       "161514654074162   1.0"
      ]
     },
     "execution_count": 21,
     "metadata": {},
     "output_type": "execute_result"
    }
   ],
   "source": [
    "proporcionWifiPorDeviceVentanaUno.head(2)"
   ]
  },
  {
   "cell_type": "code",
   "execution_count": 22,
   "metadata": {},
   "outputs": [],
   "source": [
    "proporcionWifiPorDeviceVentanaUno = proporcionWifiPorDeviceVentanaUno.stack().reset_index()\n",
    "proporcionWifiPorDeviceVentanaDos = proporcionWifiPorDeviceVentanaDos.stack().reset_index()\n",
    "proporcionWifiPorDeviceVentanaTres = proporcionWifiPorDeviceVentanaTres.stack().reset_index()\n",
    "proporcionWifiPorDeviceVentanaCuatro = proporcionWifiPorDeviceVentanaCuatro.stack().reset_index()\n",
    "proporcionWifiPorDeviceVentanaCinco = proporcionWifiPorDeviceVentanaCinco.stack().reset_index()"
   ]
  },
  {
   "cell_type": "code",
   "execution_count": 23,
   "metadata": {},
   "outputs": [],
   "source": [
    "proporcionWifiPorDeviceVentanaUno = proporcionWifiPorDeviceVentanaUno.drop(columns = ['level_1'])\n",
    "proporcionWifiPorDeviceVentanaDos = proporcionWifiPorDeviceVentanaDos.drop(columns = ['level_1'])\n",
    "proporcionWifiPorDeviceVentanaTres = proporcionWifiPorDeviceVentanaTres.drop(columns = ['level_1'])\n",
    "proporcionWifiPorDeviceVentanaCuatro = proporcionWifiPorDeviceVentanaCuatro.drop(columns = ['level_1'])\n",
    "proporcionWifiPorDeviceVentanaCinco = proporcionWifiPorDeviceVentanaCinco.drop(columns = ['level_1'])"
   ]
  },
  {
   "cell_type": "code",
   "execution_count": 24,
   "metadata": {},
   "outputs": [],
   "source": [
    "proporcionWifiPorDeviceVentanaUno.columns = ['ref_hash', 'proporcion_wifi']\n",
    "proporcionWifiPorDeviceVentanaDos.columns = ['ref_hash', 'proporcion_wifi']\n",
    "proporcionWifiPorDeviceVentanaTres.columns = ['ref_hash', 'proporcion_wifi']\n",
    "proporcionWifiPorDeviceVentanaCuatro.columns = ['ref_hash', 'proporcion_wifi']\n",
    "proporcionWifiPorDeviceVentanaCinco.columns = ['ref_hash', 'proporcion_wifi']"
   ]
  },
  {
   "cell_type": "markdown",
   "metadata": {},
   "source": [
    "### Nos queremos quedar con un porcentaje, mas legible."
   ]
  },
  {
   "cell_type": "code",
   "execution_count": 25,
   "metadata": {},
   "outputs": [],
   "source": [
    "proporcionWifiPorDeviceVentanaUno['proporcion_wifi'] = proporcionWifiPorDeviceVentanaUno['proporcion_wifi']*100\n",
    "proporcionWifiPorDeviceVentanaDos['proporcion_wifi'] = proporcionWifiPorDeviceVentanaDos['proporcion_wifi']*100\n",
    "proporcionWifiPorDeviceVentanaTres['proporcion_wifi'] = proporcionWifiPorDeviceVentanaTres['proporcion_wifi']*100\n",
    "proporcionWifiPorDeviceVentanaCuatro['proporcion_wifi'] = proporcionWifiPorDeviceVentanaCuatro['proporcion_wifi']*100\n",
    "proporcionWifiPorDeviceVentanaCinco['proporcion_wifi'] = proporcionWifiPorDeviceVentanaCinco['proporcion_wifi']*100"
   ]
  },
  {
   "cell_type": "code",
   "execution_count": 26,
   "metadata": {
    "scrolled": true
   },
   "outputs": [
    {
     "data": {
      "text/html": [
       "<div>\n",
       "<style scoped>\n",
       "    .dataframe tbody tr th:only-of-type {\n",
       "        vertical-align: middle;\n",
       "    }\n",
       "\n",
       "    .dataframe tbody tr th {\n",
       "        vertical-align: top;\n",
       "    }\n",
       "\n",
       "    .dataframe thead th {\n",
       "        text-align: right;\n",
       "    }\n",
       "</style>\n",
       "<table border=\"1\" class=\"dataframe\">\n",
       "  <thead>\n",
       "    <tr style=\"text-align: right;\">\n",
       "      <th></th>\n",
       "      <th>ref_hash</th>\n",
       "      <th>proporcion_wifi</th>\n",
       "    </tr>\n",
       "  </thead>\n",
       "  <tbody>\n",
       "    <tr>\n",
       "      <th>0</th>\n",
       "      <td>41863526108385</td>\n",
       "      <td>0.0</td>\n",
       "    </tr>\n",
       "    <tr>\n",
       "      <th>1</th>\n",
       "      <td>161514654074162</td>\n",
       "      <td>100.0</td>\n",
       "    </tr>\n",
       "  </tbody>\n",
       "</table>\n",
       "</div>"
      ],
      "text/plain": [
       "          ref_hash  proporcion_wifi\n",
       "0   41863526108385              0.0\n",
       "1  161514654074162            100.0"
      ]
     },
     "execution_count": 26,
     "metadata": {},
     "output_type": "execute_result"
    }
   ],
   "source": [
    "proporcionWifiPorDeviceVentanaUno.head(2)"
   ]
  },
  {
   "cell_type": "code",
   "execution_count": 27,
   "metadata": {},
   "outputs": [],
   "source": [
    "eventsInstallsVentanaUno = pd.merge(eventsInstallsVentanaUno, proporcionWifiPorDeviceVentanaUno,\\\n",
    "                                    on = \"ref_hash\", how = \"left\")\n",
    "eventsInstallsVentanaDos = pd.merge(eventsInstallsVentanaDos, proporcionWifiPorDeviceVentanaDos,\\\n",
    "                                    on = \"ref_hash\", how = \"left\")\n",
    "eventsInstallsVentanaTres = pd.merge(eventsInstallsVentanaTres, proporcionWifiPorDeviceVentanaTres,\\\n",
    "                                    on = \"ref_hash\", how = \"left\")\n",
    "eventsInstallsVentanaCuatro = pd.merge(eventsInstallsVentanaCuatro, proporcionWifiPorDeviceVentanaCuatro,\\\n",
    "                                    on = \"ref_hash\", how = \"left\")\n",
    "eventsInstallsVentanaCinco = pd.merge(eventsInstallsVentanaCinco, proporcionWifiPorDeviceVentanaCinco,\\\n",
    "                                    on = \"ref_hash\", how = \"left\")"
   ]
  },
  {
   "cell_type": "code",
   "execution_count": 28,
   "metadata": {},
   "outputs": [
    {
     "data": {
      "text/html": [
       "<div>\n",
       "<style scoped>\n",
       "    .dataframe tbody tr th:only-of-type {\n",
       "        vertical-align: middle;\n",
       "    }\n",
       "\n",
       "    .dataframe tbody tr th {\n",
       "        vertical-align: top;\n",
       "    }\n",
       "\n",
       "    .dataframe thead th {\n",
       "        text-align: right;\n",
       "    }\n",
       "</style>\n",
       "<table border=\"1\" class=\"dataframe\">\n",
       "  <thead>\n",
       "    <tr style=\"text-align: right;\">\n",
       "      <th></th>\n",
       "      <th>index</th>\n",
       "      <th>date</th>\n",
       "      <th>event_id</th>\n",
       "      <th>ref_hash</th>\n",
       "      <th>application_id</th>\n",
       "      <th>attributed</th>\n",
       "      <th>device_city</th>\n",
       "      <th>event_uuid</th>\n",
       "      <th>carrier</th>\n",
       "      <th>kind</th>\n",
       "      <th>device_os</th>\n",
       "      <th>wifi</th>\n",
       "      <th>connection_type</th>\n",
       "      <th>device_language</th>\n",
       "      <th>installed</th>\n",
       "      <th>proporcion_wifi</th>\n",
       "    </tr>\n",
       "  </thead>\n",
       "  <tbody>\n",
       "    <tr>\n",
       "      <th>0</th>\n",
       "      <td>2130678</td>\n",
       "      <td>2019-04-20 01:42:49.120</td>\n",
       "      <td>0</td>\n",
       "      <td>5857744372586891366</td>\n",
       "      <td>210</td>\n",
       "      <td>False</td>\n",
       "      <td>NaN</td>\n",
       "      <td>5b506964-5f47-4b28-a8c2-8a92d6c23379</td>\n",
       "      <td>NaN</td>\n",
       "      <td>5.882882e+18</td>\n",
       "      <td>NaN</td>\n",
       "      <td>False</td>\n",
       "      <td>NaN</td>\n",
       "      <td>3.301378e+18</td>\n",
       "      <td>0.0</td>\n",
       "      <td>0.0</td>\n",
       "    </tr>\n",
       "    <tr>\n",
       "      <th>1</th>\n",
       "      <td>2130680</td>\n",
       "      <td>2019-04-20 01:42:49.340</td>\n",
       "      <td>1</td>\n",
       "      <td>7642521036780133571</td>\n",
       "      <td>210</td>\n",
       "      <td>False</td>\n",
       "      <td>NaN</td>\n",
       "      <td>f1fb9d15-1a7b-4116-8d3b-c4c403e197e2</td>\n",
       "      <td>NaN</td>\n",
       "      <td>4.017674e+18</td>\n",
       "      <td>NaN</td>\n",
       "      <td>False</td>\n",
       "      <td>NaN</td>\n",
       "      <td>NaN</td>\n",
       "      <td>0.0</td>\n",
       "      <td>0.0</td>\n",
       "    </tr>\n",
       "  </tbody>\n",
       "</table>\n",
       "</div>"
      ],
      "text/plain": [
       "     index                     date  event_id             ref_hash  \\\n",
       "0  2130678  2019-04-20 01:42:49.120         0  5857744372586891366   \n",
       "1  2130680  2019-04-20 01:42:49.340         1  7642521036780133571   \n",
       "\n",
       "   application_id  attributed  device_city  \\\n",
       "0             210       False          NaN   \n",
       "1             210       False          NaN   \n",
       "\n",
       "                             event_uuid  carrier          kind  device_os  \\\n",
       "0  5b506964-5f47-4b28-a8c2-8a92d6c23379      NaN  5.882882e+18        NaN   \n",
       "1  f1fb9d15-1a7b-4116-8d3b-c4c403e197e2      NaN  4.017674e+18        NaN   \n",
       "\n",
       "    wifi connection_type  device_language  installed  proporcion_wifi  \n",
       "0  False             NaN     3.301378e+18        0.0              0.0  \n",
       "1  False             NaN              NaN        0.0              0.0  "
      ]
     },
     "execution_count": 28,
     "metadata": {},
     "output_type": "execute_result"
    }
   ],
   "source": [
    "eventsInstallsVentanaUno.head(2)"
   ]
  },
  {
   "cell_type": "markdown",
   "metadata": {},
   "source": [
    "## Tratamiento de la fecha y de la forma del tiempo."
   ]
  },
  {
   "cell_type": "code",
   "execution_count": 29,
   "metadata": {},
   "outputs": [],
   "source": [
    "eventsInstallsVentanaUno['fechaInicial'] = pd.to_datetime(\"2019-04-18 00:00:00\")\n",
    "eventsInstallsVentanaDos['fechaInicial'] = pd.to_datetime(\"2019-04-19 00:00:00\")\n",
    "eventsInstallsVentanaTres['fechaInicial'] = pd.to_datetime(\"2019-04-20 00:00:00\")\n",
    "eventsInstallsVentanaCuatro['fechaInicial'] = pd.to_datetime(\"2019-04-21 00:00:00\")\n",
    "eventsInstallsVentanaCinco['fechaInicial'] = pd.to_datetime(\"2019-04-22 00:00:00\")"
   ]
  },
  {
   "cell_type": "code",
   "execution_count": 30,
   "metadata": {},
   "outputs": [],
   "source": [
    "eventsInstallsVentanaUno[\"sum\"] = 1\n",
    "eventsInstallsVentanaDos[\"sum\"] = 1\n",
    "eventsInstallsVentanaTres[\"sum\"] = 1\n",
    "eventsInstallsVentanaCuatro[\"sum\"] = 1\n",
    "eventsInstallsVentanaCinco[\"sum\"] = 1"
   ]
  },
  {
   "cell_type": "code",
   "execution_count": 31,
   "metadata": {},
   "outputs": [],
   "source": [
    "eventsInstallsVentanaUno.loc[:,'date'] = pd.to_datetime(eventsInstallsVentanaUno['date'], errors = 'coerce')\n",
    "eventsInstallsVentanaDos.loc[:,'date'] = pd.to_datetime(eventsInstallsVentanaDos['date'], errors = 'coerce')\n",
    "eventsInstallsVentanaTres.loc[:,'date'] = pd.to_datetime(eventsInstallsVentanaTres['date'], errors = 'coerce')\n",
    "eventsInstallsVentanaCuatro.loc[:,'date'] = pd.to_datetime(eventsInstallsVentanaCuatro['date'], errors = 'coerce')\n",
    "eventsInstallsVentanaCinco.loc[:,'date'] = pd.to_datetime(eventsInstallsVentanaCinco['date'], errors = 'coerce')"
   ]
  },
  {
   "cell_type": "code",
   "execution_count": 32,
   "metadata": {},
   "outputs": [],
   "source": [
    "eventsInstallsVentanaUno[\"date\"] = eventsInstallsVentanaUno[\"date\"] - eventsInstallsVentanaUno[\"fechaInicial\"]\n",
    "eventsInstallsVentanaDos[\"date\"] = eventsInstallsVentanaDos[\"date\"] - eventsInstallsVentanaDos[\"fechaInicial\"]\n",
    "eventsInstallsVentanaTres[\"date\"] = eventsInstallsVentanaTres[\"date\"] - eventsInstallsVentanaTres[\"fechaInicial\"]\n",
    "eventsInstallsVentanaCuatro[\"date\"] = eventsInstallsVentanaCuatro[\"date\"] - eventsInstallsVentanaCuatro[\"fechaInicial\"]\n",
    "eventsInstallsVentanaCinco[\"date\"] = eventsInstallsVentanaCinco[\"date\"] - eventsInstallsVentanaCinco[\"fechaInicial\"]"
   ]
  },
  {
   "cell_type": "code",
   "execution_count": 33,
   "metadata": {},
   "outputs": [
    {
     "data": {
      "text/html": [
       "<div>\n",
       "<style scoped>\n",
       "    .dataframe tbody tr th:only-of-type {\n",
       "        vertical-align: middle;\n",
       "    }\n",
       "\n",
       "    .dataframe tbody tr th {\n",
       "        vertical-align: top;\n",
       "    }\n",
       "\n",
       "    .dataframe thead th {\n",
       "        text-align: right;\n",
       "    }\n",
       "</style>\n",
       "<table border=\"1\" class=\"dataframe\">\n",
       "  <thead>\n",
       "    <tr style=\"text-align: right;\">\n",
       "      <th></th>\n",
       "      <th>index</th>\n",
       "      <th>date</th>\n",
       "      <th>event_id</th>\n",
       "      <th>ref_hash</th>\n",
       "      <th>application_id</th>\n",
       "      <th>attributed</th>\n",
       "      <th>device_city</th>\n",
       "      <th>event_uuid</th>\n",
       "      <th>carrier</th>\n",
       "      <th>kind</th>\n",
       "      <th>device_os</th>\n",
       "      <th>wifi</th>\n",
       "      <th>connection_type</th>\n",
       "      <th>device_language</th>\n",
       "      <th>installed</th>\n",
       "      <th>proporcion_wifi</th>\n",
       "      <th>fechaInicial</th>\n",
       "      <th>sum</th>\n",
       "    </tr>\n",
       "  </thead>\n",
       "  <tbody>\n",
       "    <tr>\n",
       "      <th>0</th>\n",
       "      <td>2130678</td>\n",
       "      <td>2 days 01:42:49.120000</td>\n",
       "      <td>0</td>\n",
       "      <td>5857744372586891366</td>\n",
       "      <td>210</td>\n",
       "      <td>False</td>\n",
       "      <td>NaN</td>\n",
       "      <td>5b506964-5f47-4b28-a8c2-8a92d6c23379</td>\n",
       "      <td>NaN</td>\n",
       "      <td>5.882882e+18</td>\n",
       "      <td>NaN</td>\n",
       "      <td>False</td>\n",
       "      <td>NaN</td>\n",
       "      <td>3.301378e+18</td>\n",
       "      <td>0.0</td>\n",
       "      <td>0.0</td>\n",
       "      <td>2019-04-18</td>\n",
       "      <td>1</td>\n",
       "    </tr>\n",
       "    <tr>\n",
       "      <th>1</th>\n",
       "      <td>2130680</td>\n",
       "      <td>2 days 01:42:49.340000</td>\n",
       "      <td>1</td>\n",
       "      <td>7642521036780133571</td>\n",
       "      <td>210</td>\n",
       "      <td>False</td>\n",
       "      <td>NaN</td>\n",
       "      <td>f1fb9d15-1a7b-4116-8d3b-c4c403e197e2</td>\n",
       "      <td>NaN</td>\n",
       "      <td>4.017674e+18</td>\n",
       "      <td>NaN</td>\n",
       "      <td>False</td>\n",
       "      <td>NaN</td>\n",
       "      <td>NaN</td>\n",
       "      <td>0.0</td>\n",
       "      <td>0.0</td>\n",
       "      <td>2019-04-18</td>\n",
       "      <td>1</td>\n",
       "    </tr>\n",
       "  </tbody>\n",
       "</table>\n",
       "</div>"
      ],
      "text/plain": [
       "     index                   date  event_id             ref_hash  \\\n",
       "0  2130678 2 days 01:42:49.120000         0  5857744372586891366   \n",
       "1  2130680 2 days 01:42:49.340000         1  7642521036780133571   \n",
       "\n",
       "   application_id  attributed  device_city  \\\n",
       "0             210       False          NaN   \n",
       "1             210       False          NaN   \n",
       "\n",
       "                             event_uuid  carrier          kind  device_os  \\\n",
       "0  5b506964-5f47-4b28-a8c2-8a92d6c23379      NaN  5.882882e+18        NaN   \n",
       "1  f1fb9d15-1a7b-4116-8d3b-c4c403e197e2      NaN  4.017674e+18        NaN   \n",
       "\n",
       "    wifi connection_type  device_language  installed  proporcion_wifi  \\\n",
       "0  False             NaN     3.301378e+18        0.0              0.0   \n",
       "1  False             NaN              NaN        0.0              0.0   \n",
       "\n",
       "  fechaInicial  sum  \n",
       "0   2019-04-18    1  \n",
       "1   2019-04-18    1  "
      ]
     },
     "execution_count": 33,
     "metadata": {},
     "output_type": "execute_result"
    }
   ],
   "source": [
    "eventsInstallsVentanaUno.head(2)"
   ]
  },
  {
   "cell_type": "markdown",
   "metadata": {},
   "source": [
    "### Convertimos el tiempo en cantidad de segundos."
   ]
  },
  {
   "cell_type": "code",
   "execution_count": 34,
   "metadata": {},
   "outputs": [],
   "source": [
    "eventsInstallsVentanaUno[\"date\"] = eventsInstallsVentanaUno[\"date\"].dt.total_seconds()\n",
    "eventsInstallsVentanaDos[\"date\"] = eventsInstallsVentanaDos[\"date\"].dt.total_seconds()\n",
    "eventsInstallsVentanaTres[\"date\"] = eventsInstallsVentanaTres[\"date\"].dt.total_seconds()\n",
    "eventsInstallsVentanaCuatro[\"date\"] = eventsInstallsVentanaCuatro[\"date\"].dt.total_seconds()\n",
    "eventsInstallsVentanaCinco[\"date\"] = eventsInstallsVentanaCinco[\"date\"].dt.total_seconds()"
   ]
  },
  {
   "cell_type": "markdown",
   "metadata": {},
   "source": [
    "### Ya no necesitamos la fecha inicial"
   ]
  },
  {
   "cell_type": "code",
   "execution_count": 35,
   "metadata": {},
   "outputs": [],
   "source": [
    "eventsInstallsVentanaUno = eventsInstallsVentanaUno.drop(columns = ['fechaInicial'])\n",
    "eventsInstallsVentanaDos = eventsInstallsVentanaDos.drop(columns = ['fechaInicial'])\n",
    "eventsInstallsVentanaTres = eventsInstallsVentanaTres.drop(columns = ['fechaInicial'])\n",
    "eventsInstallsVentanaCuatro = eventsInstallsVentanaCuatro.drop(columns = ['fechaInicial'])\n",
    "eventsInstallsVentanaCuatro = eventsInstallsVentanaCinco.drop(columns = ['fechaInicial'])"
   ]
  },
  {
   "cell_type": "markdown",
   "metadata": {},
   "source": [
    "### Contamos la cantidad de eventos por device_id (o ref_hash) en cada ventana"
   ]
  },
  {
   "cell_type": "code",
   "execution_count": 36,
   "metadata": {},
   "outputs": [],
   "source": [
    "cantidadDeEventosPorIdVentanaUno = eventsInstallsVentanaUno[['ref_hash','sum']].groupby('ref_hash').sum()\n",
    "cantidadDeEventosPorIdVentanaDos = eventsInstallsVentanaDos[['ref_hash','sum']].groupby('ref_hash').sum()\n",
    "cantidadDeEventosPorIdVentanaTres = eventsInstallsVentanaTres[['ref_hash','sum']].groupby('ref_hash').sum()\n",
    "cantidadDeEventosPorIdVentanaCuatro = eventsInstallsVentanaCuatro[['ref_hash','sum']].groupby('ref_hash').sum()\n",
    "cantidadDeEventosPorIdVentanaCinco = eventsInstallsVentanaCinco[['ref_hash','sum']].groupby('ref_hash').sum()"
   ]
  },
  {
   "cell_type": "code",
   "execution_count": 37,
   "metadata": {},
   "outputs": [],
   "source": [
    "cantidadDeEventosPorIdVentanaUno = cantidadDeEventosPorIdVentanaUno.stack().reset_index()\n",
    "cantidadDeEventosPorIdVentanaDos = cantidadDeEventosPorIdVentanaDos.stack().reset_index()\n",
    "cantidadDeEventosPorIdVentanaTres = cantidadDeEventosPorIdVentanaTres.stack().reset_index()\n",
    "cantidadDeEventosPorIdVentanaCuatro = cantidadDeEventosPorIdVentanaCuatro.stack().reset_index()\n",
    "cantidadDeEventosPorIdVentanaCinco = cantidadDeEventosPorIdVentanaCinco.stack().reset_index()"
   ]
  },
  {
   "cell_type": "code",
   "execution_count": 38,
   "metadata": {},
   "outputs": [],
   "source": [
    "cantidadDeEventosPorIdVentanaUno = cantidadDeEventosPorIdVentanaUno.drop(columns = ['level_1'])\n",
    "cantidadDeEventosPorIdVentanaDos = cantidadDeEventosPorIdVentanaDos.drop(columns = ['level_1'])\n",
    "cantidadDeEventosPorIdVentanaTres = cantidadDeEventosPorIdVentanaTres.drop(columns = ['level_1'])\n",
    "cantidadDeEventosPorIdVentanaCuatro = cantidadDeEventosPorIdVentanaCuatro.drop(columns = ['level_1'])\n",
    "cantidadDeEventosPorIdVentanaCinco = cantidadDeEventosPorIdVentanaCinco.drop(columns = ['level_1'])"
   ]
  },
  {
   "cell_type": "code",
   "execution_count": 39,
   "metadata": {},
   "outputs": [],
   "source": [
    "cantidadDeEventosPorIdVentanaUno.columns = ['ref_hash', 'cantidad_eventos']\n",
    "cantidadDeEventosPorIdVentanaDos.columns = ['ref_hash', 'cantidad_eventos']\n",
    "cantidadDeEventosPorIdVentanaTres.columns = ['ref_hash', 'cantidad_eventos']\n",
    "cantidadDeEventosPorIdVentanaCuatro.columns = ['ref_hash', 'cantidad_eventos']\n",
    "cantidadDeEventosPorIdVentanaCinco.columns = ['ref_hash', 'cantidad_eventos']"
   ]
  },
  {
   "cell_type": "code",
   "execution_count": 40,
   "metadata": {},
   "outputs": [
    {
     "data": {
      "text/html": [
       "<div>\n",
       "<style scoped>\n",
       "    .dataframe tbody tr th:only-of-type {\n",
       "        vertical-align: middle;\n",
       "    }\n",
       "\n",
       "    .dataframe tbody tr th {\n",
       "        vertical-align: top;\n",
       "    }\n",
       "\n",
       "    .dataframe thead th {\n",
       "        text-align: right;\n",
       "    }\n",
       "</style>\n",
       "<table border=\"1\" class=\"dataframe\">\n",
       "  <thead>\n",
       "    <tr style=\"text-align: right;\">\n",
       "      <th></th>\n",
       "      <th>ref_hash</th>\n",
       "      <th>cantidad_eventos</th>\n",
       "    </tr>\n",
       "  </thead>\n",
       "  <tbody>\n",
       "    <tr>\n",
       "      <th>0</th>\n",
       "      <td>40621409780134</td>\n",
       "      <td>6</td>\n",
       "    </tr>\n",
       "    <tr>\n",
       "      <th>1</th>\n",
       "      <td>41863526108385</td>\n",
       "      <td>72</td>\n",
       "    </tr>\n",
       "  </tbody>\n",
       "</table>\n",
       "</div>"
      ],
      "text/plain": [
       "         ref_hash  cantidad_eventos\n",
       "0  40621409780134                 6\n",
       "1  41863526108385                72"
      ]
     },
     "execution_count": 40,
     "metadata": {},
     "output_type": "execute_result"
    }
   ],
   "source": [
    "cantidadDeEventosPorIdVentanaDos.head(2)"
   ]
  },
  {
   "cell_type": "markdown",
   "metadata": {},
   "source": [
    "### Vamos a intentar el fit con un dataset solo conteniendo la proporcion de wifi y la cantidad de eventos"
   ]
  },
  {
   "cell_type": "markdown",
   "metadata": {},
   "source": [
    "### Vamos a tomar todos los eventos que no llegan a un install y pasar la fecha a 3 days. Eso llevará a muchas columnas iguales, entonces iremos suprimiendolas. Sin embargo, se almacenerá la cantidad total de eventos para cada device_id. \n",
    "\n",
    "#### Para hacer eso, vamos a aplicar un _groupby_ por device_id sumando la columna _installed_. Los que tienen un puntaje de 0 son los que hay que reducir. \n",
    "\n",
    "\n",
    "#### Todos los eventos que llegan a un install serán conservados tal cual ya que la fecha de ocurrencia varia en cada una de las observaciones."
   ]
  },
  {
   "cell_type": "markdown",
   "metadata": {},
   "source": [
    "### Contamos la cantidad de installs por device_id (o ref_hash) en cada ventana"
   ]
  },
  {
   "cell_type": "code",
   "execution_count": 42,
   "metadata": {},
   "outputs": [],
   "source": [
    "cantidadDeInstallsPorIdVentanaUno = eventsInstallsVentanaUno[['ref_hash','installed']].groupby('ref_hash').sum()\n",
    "cantidadDeInstallsPorIdVentanaDos = eventsInstallsVentanaDos[['ref_hash','installed']].groupby('ref_hash').sum()\n",
    "cantidadDeInstallsPorIdVentanaTres = eventsInstallsVentanaTres[['ref_hash','installed']].groupby('ref_hash').sum()\n",
    "cantidadDeInstallsPorIdVentanaCuatro=eventsInstallsVentanaCuatro[['ref_hash','installed']].groupby('ref_hash').sum()\n",
    "cantidadDeInstallsPorIdVentanaCinco = eventsInstallsVentanaCinco[['ref_hash','installed']].groupby('ref_hash').sum()"
   ]
  },
  {
   "cell_type": "code",
   "execution_count": 43,
   "metadata": {},
   "outputs": [
    {
     "data": {
      "text/html": [
       "<div>\n",
       "<style scoped>\n",
       "    .dataframe tbody tr th:only-of-type {\n",
       "        vertical-align: middle;\n",
       "    }\n",
       "\n",
       "    .dataframe tbody tr th {\n",
       "        vertical-align: top;\n",
       "    }\n",
       "\n",
       "    .dataframe thead th {\n",
       "        text-align: right;\n",
       "    }\n",
       "</style>\n",
       "<table border=\"1\" class=\"dataframe\">\n",
       "  <thead>\n",
       "    <tr style=\"text-align: right;\">\n",
       "      <th></th>\n",
       "      <th>installed</th>\n",
       "    </tr>\n",
       "    <tr>\n",
       "      <th>ref_hash</th>\n",
       "      <th></th>\n",
       "    </tr>\n",
       "  </thead>\n",
       "  <tbody>\n",
       "    <tr>\n",
       "      <th>41863526108385</th>\n",
       "      <td>2.0</td>\n",
       "    </tr>\n",
       "    <tr>\n",
       "      <th>161514654074162</th>\n",
       "      <td>0.0</td>\n",
       "    </tr>\n",
       "  </tbody>\n",
       "</table>\n",
       "</div>"
      ],
      "text/plain": [
       "                 installed\n",
       "ref_hash                  \n",
       "41863526108385         2.0\n",
       "161514654074162        0.0"
      ]
     },
     "execution_count": 43,
     "metadata": {},
     "output_type": "execute_result"
    }
   ],
   "source": [
    "cantidadDeInstallsPorIdVentanaUno.head(2)"
   ]
  },
  {
   "cell_type": "code",
   "execution_count": 44,
   "metadata": {},
   "outputs": [],
   "source": [
    "cantidadDeInstallsPorIdVentanaUno = cantidadDeInstallsPorIdVentanaUno.stack().reset_index()\n",
    "cantidadDeInstallsPorIdVentanaDos = cantidadDeInstallsPorIdVentanaDos.stack().reset_index()\n",
    "cantidadDeInstallsPorIdVentanaTres = cantidadDeInstallsPorIdVentanaTres.stack().reset_index()\n",
    "cantidadDeInstallsPorIdVentanaCuatro = cantidadDeInstallsPorIdVentanaCuatro.stack().reset_index()\n",
    "cantidadDeInstallsPorIdVentanaCinco = cantidadDeInstallsPorIdVentanaCinco.stack().reset_index()"
   ]
  },
  {
   "cell_type": "code",
   "execution_count": 45,
   "metadata": {},
   "outputs": [],
   "source": [
    "cantidadDeInstallsPorIdVentanaUno = cantidadDeInstallsPorIdVentanaUno.drop(columns = ['level_1'])\n",
    "cantidadDeInstallsPorIdVentanaDos = cantidadDeInstallsPorIdVentanaDos.drop(columns = ['level_1'])\n",
    "cantidadDeInstallsPorIdVentanaTres = cantidadDeInstallsPorIdVentanaTres.drop(columns = ['level_1'])\n",
    "cantidadDeInstallsPorIdVentanaCuatro = cantidadDeInstallsPorIdVentanaCuatro.drop(columns = ['level_1'])\n",
    "cantidadDeInstallsPorIdVentanaCinco = cantidadDeInstallsPorIdVentanaCinco.drop(columns = ['level_1'])"
   ]
  },
  {
   "cell_type": "code",
   "execution_count": 46,
   "metadata": {},
   "outputs": [],
   "source": [
    "cantidadDeInstallsPorIdVentanaUno.columns = ['ref_hash', 'cantidad_installs']\n",
    "cantidadDeInstallsPorIdVentanaDos.columns = ['ref_hash', 'cantidad_installs']\n",
    "cantidadDeInstallsPorIdVentanaTres.columns = ['ref_hash', 'cantidad_installs']\n",
    "cantidadDeInstallsPorIdVentanaCuatro.columns = ['ref_hash', 'cantidad_installs']\n",
    "cantidadDeInstallsPorIdVentanaCinco.columns = ['ref_hash', 'cantidad_installs']"
   ]
  },
  {
   "cell_type": "code",
   "execution_count": 47,
   "metadata": {},
   "outputs": [
    {
     "data": {
      "text/html": [
       "<div>\n",
       "<style scoped>\n",
       "    .dataframe tbody tr th:only-of-type {\n",
       "        vertical-align: middle;\n",
       "    }\n",
       "\n",
       "    .dataframe tbody tr th {\n",
       "        vertical-align: top;\n",
       "    }\n",
       "\n",
       "    .dataframe thead th {\n",
       "        text-align: right;\n",
       "    }\n",
       "</style>\n",
       "<table border=\"1\" class=\"dataframe\">\n",
       "  <thead>\n",
       "    <tr style=\"text-align: right;\">\n",
       "      <th></th>\n",
       "      <th>ref_hash</th>\n",
       "      <th>cantidad_installs</th>\n",
       "    </tr>\n",
       "  </thead>\n",
       "  <tbody>\n",
       "    <tr>\n",
       "      <th>0</th>\n",
       "      <td>40621409780134</td>\n",
       "      <td>0.0</td>\n",
       "    </tr>\n",
       "    <tr>\n",
       "      <th>1</th>\n",
       "      <td>41863526108385</td>\n",
       "      <td>0.0</td>\n",
       "    </tr>\n",
       "  </tbody>\n",
       "</table>\n",
       "</div>"
      ],
      "text/plain": [
       "         ref_hash  cantidad_installs\n",
       "0  40621409780134                0.0\n",
       "1  41863526108385                0.0"
      ]
     },
     "execution_count": 47,
     "metadata": {},
     "output_type": "execute_result"
    }
   ],
   "source": [
    "cantidadDeInstallsPorIdVentanaDos.head(2)"
   ]
  },
  {
   "cell_type": "markdown",
   "metadata": {},
   "source": [
    "### Una vez que tenemos la cantidad de installs y de eventos por device_id, lo mergeamos con el dataFrame antes de cambiar las fechas y hacer un _drop_ de los duplicados."
   ]
  },
  {
   "cell_type": "code",
   "execution_count": 48,
   "metadata": {},
   "outputs": [],
   "source": [
    "eventsInstallsVentanaUno = pd.merge(eventsInstallsVentanaUno, cantidadDeEventosPorIdVentanaUno,\\\n",
    "                                    on = 'ref_hash', how = 'left')\n",
    "eventsInstallsVentanaDos = pd.merge(eventsInstallsVentanaDos, cantidadDeEventosPorIdVentanaDos,\\\n",
    "                                    on = 'ref_hash', how = 'left')\n",
    "eventsInstallsVentanaTres = pd.merge(eventsInstallsVentanaTres, cantidadDeEventosPorIdVentanaTres,\\\n",
    "                                    on = 'ref_hash', how = 'left')\n",
    "eventsInstallsVentanaCuatro = pd.merge(eventsInstallsVentanaCuatro, cantidadDeEventosPorIdVentanaCuatro,\\\n",
    "                                    on = 'ref_hash', how = 'left')\n",
    "eventsInstallsVentanaCinco = pd.merge(eventsInstallsVentanaCinco, cantidadDeEventosPorIdVentanaCinco,\\\n",
    "                                    on = 'ref_hash', how = 'left')"
   ]
  },
  {
   "cell_type": "code",
   "execution_count": 49,
   "metadata": {},
   "outputs": [
    {
     "data": {
      "text/html": [
       "<div>\n",
       "<style scoped>\n",
       "    .dataframe tbody tr th:only-of-type {\n",
       "        vertical-align: middle;\n",
       "    }\n",
       "\n",
       "    .dataframe tbody tr th {\n",
       "        vertical-align: top;\n",
       "    }\n",
       "\n",
       "    .dataframe thead th {\n",
       "        text-align: right;\n",
       "    }\n",
       "</style>\n",
       "<table border=\"1\" class=\"dataframe\">\n",
       "  <thead>\n",
       "    <tr style=\"text-align: right;\">\n",
       "      <th></th>\n",
       "      <th>index</th>\n",
       "      <th>date</th>\n",
       "      <th>event_id</th>\n",
       "      <th>ref_hash</th>\n",
       "      <th>application_id</th>\n",
       "      <th>attributed</th>\n",
       "      <th>device_city</th>\n",
       "      <th>event_uuid</th>\n",
       "      <th>carrier</th>\n",
       "      <th>kind</th>\n",
       "      <th>device_os</th>\n",
       "      <th>wifi</th>\n",
       "      <th>connection_type</th>\n",
       "      <th>device_language</th>\n",
       "      <th>installed</th>\n",
       "      <th>proporcion_wifi</th>\n",
       "      <th>fechaInicial</th>\n",
       "      <th>sum</th>\n",
       "      <th>cantidad_eventos</th>\n",
       "    </tr>\n",
       "  </thead>\n",
       "  <tbody>\n",
       "    <tr>\n",
       "      <th>0</th>\n",
       "      <td>2154837</td>\n",
       "      <td>157181.432</td>\n",
       "      <td>1</td>\n",
       "      <td>1194609495716092219</td>\n",
       "      <td>210</td>\n",
       "      <td>False</td>\n",
       "      <td>NaN</td>\n",
       "      <td>616fa46f-022d-42ee-bac0-b6f198c990fb</td>\n",
       "      <td>NaN</td>\n",
       "      <td>4.017674e+18</td>\n",
       "      <td>NaN</td>\n",
       "      <td>False</td>\n",
       "      <td>NaN</td>\n",
       "      <td>NaN</td>\n",
       "      <td>0.0</td>\n",
       "      <td>0.000000</td>\n",
       "      <td>2019-04-22</td>\n",
       "      <td>1</td>\n",
       "      <td>19</td>\n",
       "    </tr>\n",
       "    <tr>\n",
       "      <th>1</th>\n",
       "      <td>2154839</td>\n",
       "      <td>157181.452</td>\n",
       "      <td>3</td>\n",
       "      <td>3010904108806702053</td>\n",
       "      <td>210</td>\n",
       "      <td>False</td>\n",
       "      <td>NaN</td>\n",
       "      <td>00d319e8-ab25-4273-bc4e-94e640d4e672</td>\n",
       "      <td>NaN</td>\n",
       "      <td>4.171878e+18</td>\n",
       "      <td>NaN</td>\n",
       "      <td>False</td>\n",
       "      <td>NaN</td>\n",
       "      <td>NaN</td>\n",
       "      <td>0.0</td>\n",
       "      <td>4.651163</td>\n",
       "      <td>2019-04-22</td>\n",
       "      <td>1</td>\n",
       "      <td>86</td>\n",
       "    </tr>\n",
       "  </tbody>\n",
       "</table>\n",
       "</div>"
      ],
      "text/plain": [
       "     index        date  event_id             ref_hash  application_id  \\\n",
       "0  2154837  157181.432         1  1194609495716092219             210   \n",
       "1  2154839  157181.452         3  3010904108806702053             210   \n",
       "\n",
       "   attributed  device_city                            event_uuid  carrier  \\\n",
       "0       False          NaN  616fa46f-022d-42ee-bac0-b6f198c990fb      NaN   \n",
       "1       False          NaN  00d319e8-ab25-4273-bc4e-94e640d4e672      NaN   \n",
       "\n",
       "           kind  device_os   wifi connection_type  device_language  installed  \\\n",
       "0  4.017674e+18        NaN  False             NaN              NaN        0.0   \n",
       "1  4.171878e+18        NaN  False             NaN              NaN        0.0   \n",
       "\n",
       "   proporcion_wifi fechaInicial  sum  cantidad_eventos  \n",
       "0         0.000000   2019-04-22    1                19  \n",
       "1         4.651163   2019-04-22    1                86  "
      ]
     },
     "execution_count": 49,
     "metadata": {},
     "output_type": "execute_result"
    }
   ],
   "source": [
    "eventsInstallsVentanaCinco.head(2)"
   ]
  },
  {
   "cell_type": "code",
   "execution_count": 50,
   "metadata": {},
   "outputs": [],
   "source": [
    "eventsInstallsVentanaUno = pd.merge(eventsInstallsVentanaUno, cantidadDeInstallsPorIdVentanaUno,\\\n",
    "                                    on = 'ref_hash', how = 'left')\n",
    "eventsInstallsVentanaDos = pd.merge(eventsInstallsVentanaDos, cantidadDeInstallsPorIdVentanaDos,\\\n",
    "                                    on = 'ref_hash', how = 'left')\n",
    "eventsInstallsVentanaTres = pd.merge(eventsInstallsVentanaTres, cantidadDeInstallsPorIdVentanaTres,\\\n",
    "                                    on = 'ref_hash', how = 'left')\n",
    "eventsInstallsVentanaCuatro = pd.merge(eventsInstallsVentanaCuatro, cantidadDeInstallsPorIdVentanaCuatro,\\\n",
    "                                    on = 'ref_hash', how = 'left')\n",
    "eventsInstallsVentanaCinco = pd.merge(eventsInstallsVentanaCinco, cantidadDeInstallsPorIdVentanaCinco,\\\n",
    "                                    on = 'ref_hash', how = 'left')"
   ]
  },
  {
   "cell_type": "code",
   "execution_count": 51,
   "metadata": {},
   "outputs": [
    {
     "data": {
      "text/html": [
       "<div>\n",
       "<style scoped>\n",
       "    .dataframe tbody tr th:only-of-type {\n",
       "        vertical-align: middle;\n",
       "    }\n",
       "\n",
       "    .dataframe tbody tr th {\n",
       "        vertical-align: top;\n",
       "    }\n",
       "\n",
       "    .dataframe thead th {\n",
       "        text-align: right;\n",
       "    }\n",
       "</style>\n",
       "<table border=\"1\" class=\"dataframe\">\n",
       "  <thead>\n",
       "    <tr style=\"text-align: right;\">\n",
       "      <th></th>\n",
       "      <th>index</th>\n",
       "      <th>date</th>\n",
       "      <th>event_id</th>\n",
       "      <th>ref_hash</th>\n",
       "      <th>application_id</th>\n",
       "      <th>attributed</th>\n",
       "      <th>device_city</th>\n",
       "      <th>event_uuid</th>\n",
       "      <th>carrier</th>\n",
       "      <th>kind</th>\n",
       "      <th>device_os</th>\n",
       "      <th>wifi</th>\n",
       "      <th>connection_type</th>\n",
       "      <th>device_language</th>\n",
       "      <th>installed</th>\n",
       "      <th>proporcion_wifi</th>\n",
       "      <th>sum</th>\n",
       "      <th>cantidad_eventos</th>\n",
       "      <th>cantidad_installs</th>\n",
       "    </tr>\n",
       "  </thead>\n",
       "  <tbody>\n",
       "    <tr>\n",
       "      <th>0</th>\n",
       "      <td>2130678</td>\n",
       "      <td>178969.12</td>\n",
       "      <td>0</td>\n",
       "      <td>5857744372586891366</td>\n",
       "      <td>210</td>\n",
       "      <td>False</td>\n",
       "      <td>NaN</td>\n",
       "      <td>5b506964-5f47-4b28-a8c2-8a92d6c23379</td>\n",
       "      <td>NaN</td>\n",
       "      <td>5.882882e+18</td>\n",
       "      <td>NaN</td>\n",
       "      <td>False</td>\n",
       "      <td>NaN</td>\n",
       "      <td>3.301378e+18</td>\n",
       "      <td>0.0</td>\n",
       "      <td>0.0</td>\n",
       "      <td>1</td>\n",
       "      <td>3</td>\n",
       "      <td>0.0</td>\n",
       "    </tr>\n",
       "    <tr>\n",
       "      <th>1</th>\n",
       "      <td>2130680</td>\n",
       "      <td>178969.34</td>\n",
       "      <td>1</td>\n",
       "      <td>7642521036780133571</td>\n",
       "      <td>210</td>\n",
       "      <td>False</td>\n",
       "      <td>NaN</td>\n",
       "      <td>f1fb9d15-1a7b-4116-8d3b-c4c403e197e2</td>\n",
       "      <td>NaN</td>\n",
       "      <td>4.017674e+18</td>\n",
       "      <td>NaN</td>\n",
       "      <td>False</td>\n",
       "      <td>NaN</td>\n",
       "      <td>NaN</td>\n",
       "      <td>0.0</td>\n",
       "      <td>0.0</td>\n",
       "      <td>1</td>\n",
       "      <td>95</td>\n",
       "      <td>0.0</td>\n",
       "    </tr>\n",
       "  </tbody>\n",
       "</table>\n",
       "</div>"
      ],
      "text/plain": [
       "     index       date  event_id             ref_hash  application_id  \\\n",
       "0  2130678  178969.12         0  5857744372586891366             210   \n",
       "1  2130680  178969.34         1  7642521036780133571             210   \n",
       "\n",
       "   attributed  device_city                            event_uuid  carrier  \\\n",
       "0       False          NaN  5b506964-5f47-4b28-a8c2-8a92d6c23379      NaN   \n",
       "1       False          NaN  f1fb9d15-1a7b-4116-8d3b-c4c403e197e2      NaN   \n",
       "\n",
       "           kind  device_os   wifi connection_type  device_language  installed  \\\n",
       "0  5.882882e+18        NaN  False             NaN     3.301378e+18        0.0   \n",
       "1  4.017674e+18        NaN  False             NaN              NaN        0.0   \n",
       "\n",
       "   proporcion_wifi  sum  cantidad_eventos  cantidad_installs  \n",
       "0              0.0    1                 3                0.0  \n",
       "1              0.0    1                95                0.0  "
      ]
     },
     "execution_count": 51,
     "metadata": {},
     "output_type": "execute_result"
    }
   ],
   "source": [
    "eventsInstallsVentanaUno.head(2)"
   ]
  },
  {
   "cell_type": "markdown",
   "metadata": {},
   "source": [
    "### Ahora pasando el tiempo de los que no llevan install a 3 dias."
   ]
  },
  {
   "cell_type": "code",
   "execution_count": 52,
   "metadata": {},
   "outputs": [],
   "source": [
    "eventsInstallsVentanaUno.loc[eventsInstallsVentanaUno.cantidad_installs == 0, 'date'] = 259200\n",
    "eventsInstallsVentanaDos.loc[eventsInstallsVentanaDos.cantidad_installs == 0, 'date'] = 259200\n",
    "eventsInstallsVentanaTres.loc[eventsInstallsVentanaTres.cantidad_installs == 0, 'date'] = 259200\n",
    "eventsInstallsVentanaCuatro.loc[eventsInstallsVentanaCuatro.cantidad_installs == 0, 'date'] = 259200\n",
    "eventsInstallsVentanaCinco.loc[eventsInstallsVentanaCinco.cantidad_installs == 0, 'date'] = 259200"
   ]
  },
  {
   "cell_type": "markdown",
   "metadata": {},
   "source": [
    "### Intentamos primero con pocos features. "
   ]
  },
  {
   "cell_type": "code",
   "execution_count": 53,
   "metadata": {},
   "outputs": [],
   "source": [
    "eventsInstallsVentanaUnoWifiAndCantidad = eventsInstallsVentanaUno[['date', 'ref_hash', 'installed',\\\n",
    "                                                                   'proporcion_wifi', 'cantidad_eventos',\\\n",
    "                                                                   'cantidad_installs']]\n",
    "eventsInstallsVentanaDosWifiAndCantidad = eventsInstallsVentanaDos[['date', 'ref_hash', 'installed',\\\n",
    "                                                                   'proporcion_wifi', 'cantidad_eventos',\\\n",
    "                                                                   'cantidad_installs']]\n",
    "eventsInstallsVentanaTresWifiAndCantidad = eventsInstallsVentanaTres[['date', 'ref_hash', 'installed',\\\n",
    "                                                                   'proporcion_wifi', 'cantidad_eventos',\\\n",
    "                                                                   'cantidad_installs']]\n",
    "eventsInstallsVentanaCuatroWifiAndCantidad = eventsInstallsVentanaCuatro[['date', 'ref_hash', 'installed',\\\n",
    "                                                                   'proporcion_wifi', 'cantidad_eventos',\\\n",
    "                                                                   'cantidad_installs']]\n",
    "eventsInstallsVentanaCincoWifiAndCantidad = eventsInstallsVentanaCinco[['date', 'ref_hash', 'installed',\\\n",
    "                                                                   'proporcion_wifi', 'cantidad_eventos',\\\n",
    "                                                                   'cantidad_installs']]"
   ]
  },
  {
   "cell_type": "code",
   "execution_count": 54,
   "metadata": {},
   "outputs": [
    {
     "data": {
      "text/html": [
       "<div>\n",
       "<style scoped>\n",
       "    .dataframe tbody tr th:only-of-type {\n",
       "        vertical-align: middle;\n",
       "    }\n",
       "\n",
       "    .dataframe tbody tr th {\n",
       "        vertical-align: top;\n",
       "    }\n",
       "\n",
       "    .dataframe thead th {\n",
       "        text-align: right;\n",
       "    }\n",
       "</style>\n",
       "<table border=\"1\" class=\"dataframe\">\n",
       "  <thead>\n",
       "    <tr style=\"text-align: right;\">\n",
       "      <th></th>\n",
       "      <th>date</th>\n",
       "      <th>ref_hash</th>\n",
       "      <th>installed</th>\n",
       "      <th>proporcion_wifi</th>\n",
       "      <th>cantidad_eventos</th>\n",
       "      <th>cantidad_installs</th>\n",
       "    </tr>\n",
       "  </thead>\n",
       "  <tbody>\n",
       "    <tr>\n",
       "      <th>0</th>\n",
       "      <td>259200.0</td>\n",
       "      <td>5857744372586891366</td>\n",
       "      <td>0.0</td>\n",
       "      <td>0.0</td>\n",
       "      <td>3</td>\n",
       "      <td>0.0</td>\n",
       "    </tr>\n",
       "    <tr>\n",
       "      <th>1</th>\n",
       "      <td>259200.0</td>\n",
       "      <td>7642521036780133571</td>\n",
       "      <td>0.0</td>\n",
       "      <td>0.0</td>\n",
       "      <td>95</td>\n",
       "      <td>0.0</td>\n",
       "    </tr>\n",
       "  </tbody>\n",
       "</table>\n",
       "</div>"
      ],
      "text/plain": [
       "       date             ref_hash  installed  proporcion_wifi  \\\n",
       "0  259200.0  5857744372586891366        0.0              0.0   \n",
       "1  259200.0  7642521036780133571        0.0              0.0   \n",
       "\n",
       "   cantidad_eventos  cantidad_installs  \n",
       "0                 3                0.0  \n",
       "1                95                0.0  "
      ]
     },
     "execution_count": 54,
     "metadata": {},
     "output_type": "execute_result"
    }
   ],
   "source": [
    "eventsInstallsVentanaUnoWifiAndCantidad.head(2)"
   ]
  },
  {
   "cell_type": "markdown",
   "metadata": {},
   "source": [
    "### Sacamos todos los duplicates"
   ]
  },
  {
   "cell_type": "code",
   "execution_count": 55,
   "metadata": {},
   "outputs": [],
   "source": [
    "eventsInstallsVentanaUnoWifiAndCantidad = eventsInstallsVentanaUnoWifiAndCantidad.drop_duplicates()\n",
    "eventsInstallsVentanaDosWifiAndCantidad = eventsInstallsVentanaDosWifiAndCantidad.drop_duplicates()\n",
    "eventsInstallsVentanaTresWifiAndCantidad = eventsInstallsVentanaTresWifiAndCantidad.drop_duplicates()\n",
    "eventsInstallsVentanaCuatroWifiAndCantidad = eventsInstallsVentanaCuatroWifiAndCantidad.drop_duplicates()\n",
    "eventsInstallsVentanaCincoWifiAndCantidad = eventsInstallsVentanaCincoWifiAndCantidad.drop_duplicates()"
   ]
  },
  {
   "cell_type": "markdown",
   "metadata": {},
   "source": [
    "### Ahora nos quedamos con una ocurrencia de los device_id que nunca instalaron, pero incluyendo la cantidad de veces que aparecieron en un evento. A partir de eso podemos tratar de aplicar un modelo de Cox."
   ]
  },
  {
   "cell_type": "markdown",
   "metadata": {},
   "source": [
    "### Nos nos olvidamos bajar el *ref_hash* que no lleva importancia en eso."
   ]
  },
  {
   "cell_type": "code",
   "execution_count": 56,
   "metadata": {},
   "outputs": [],
   "source": [
    "eventsInstallsVentanaUnoWifiAndCantidad = eventsInstallsVentanaUnoWifiAndCantidad.drop(columns = ['ref_hash'])\n",
    "eventsInstallsVentanaDosWifiAndCantidad = eventsInstallsVentanaDosWifiAndCantidad.drop(columns = ['ref_hash'])\n",
    "eventsInstallsVentanaTresWifiAndCantidad = eventsInstallsVentanaTresWifiAndCantidad.drop(columns = ['ref_hash'])\n",
    "eventsInstallsVentanaCuatroWifiAndCantidad = eventsInstallsVentanaCuatroWifiAndCantidad.drop(columns = ['ref_hash'])\n",
    "eventsInstallsVentanaCincoWifiAndCantidad = eventsInstallsVentanaCincoWifiAndCantidad.drop(columns = ['ref_hash'])"
   ]
  },
  {
   "cell_type": "markdown",
   "metadata": {},
   "source": [
    "## Hacemos un fit con el modelo de Cox Proportional Hazard con el primer dataset "
   ]
  },
  {
   "cell_type": "code",
   "execution_count": 57,
   "metadata": {},
   "outputs": [
    {
     "name": "stdout",
     "output_type": "stream",
     "text": [
      "Iteration 8: norm_delta = 0.00000, step_size = 1.0000, ll = -415475.85820, newton_decrement = 0.00000, seconds_since_start = 70.2Convergence completed after 8 iterations.\n"
     ]
    },
    {
     "data": {
      "text/plain": [
       "<lifelines.CoxPHFitter: fitted with 504451 observations, 469424 censored>"
      ]
     },
     "execution_count": 57,
     "metadata": {},
     "output_type": "execute_result"
    }
   ],
   "source": [
    "cphSinDuplicadosSinId = lifelines.CoxPHFitter()\n",
    "cphSinDuplicadosSinId.fit(eventsInstallsVentanaUnoWifiAndCantidad, duration_col = 'date', event_col = 'installed',\\\n",
    "                    show_progress = True)"
   ]
  },
  {
   "cell_type": "code",
   "execution_count": 58,
   "metadata": {},
   "outputs": [
    {
     "name": "stdout",
     "output_type": "stream",
     "text": [
      "<lifelines.CoxPHFitter: fitted with 504451 observations, 469424 censored>\n",
      "      duration col = 'date'\n",
      "         event col = 'installed'\n",
      "number of subjects = 504451\n",
      "  number of events = 35027\n",
      "partial log-likelihood = -415475.86\n",
      "  time fit was run = 2019-06-24 00:00:56 UTC\n",
      "\n",
      "---\n",
      "                   coef exp(coef)  se(coef)       z      p  -log2(p)  lower 0.95  upper 0.95\n",
      "proporcion_wifi    0.00      1.00      0.00    8.98 <0.005     61.70        0.00        0.00\n",
      "cantidad_eventos  -0.05      0.95      0.00 -107.98 <0.005       inf       -0.05       -0.05\n",
      "cantidad_installs  1.44      4.23      0.01  243.35 <0.005       inf        1.43        1.45\n",
      "---\n",
      "Concordance = 0.87\n",
      "Log-likelihood ratio test = 56448.46 on 3 df, -log2(p)=inf\n"
     ]
    },
    {
     "data": {
      "text/plain": [
       "<matplotlib.axes._subplots.AxesSubplot at 0x1a1ab9cc50>"
      ]
     },
     "execution_count": 58,
     "metadata": {},
     "output_type": "execute_result"
    },
    {
     "data": {
      "image/png": "[encoded data removed]",
      "text/plain": [
       "<Figure size 432x288 with 1 Axes>"
      ]
     },
     "metadata": {
      "needs_background": "light"
     },
     "output_type": "display_data"
    }
   ],
   "source": [
    "cphSinDuplicadosSinId.print_summary()\n",
    "cphSinDuplicadosSinId.plot()"
   ]
  },
  {
   "cell_type": "markdown",
   "metadata": {},
   "source": [
    "### El resultado parece bastante interesante aunque tiene un concordance_index muy alto. Tratamos ahora de fittearlo a la ventana siguiente, reducida en tamaño."
   ]
  },
  {
   "cell_type": "code",
   "execution_count": 68,
   "metadata": {},
   "outputs": [],
   "source": [
    "setDePrediccionVentanaUno = eventsInstallsVentanaDosWifiAndCantidad.drop(columns = ['date', 'installed'])"
   ]
  },
  {
   "cell_type": "code",
   "execution_count": 60,
   "metadata": {},
   "outputs": [
    {
     "data": {
      "text/plain": [
       "509271"
      ]
     },
     "execution_count": 60,
     "metadata": {},
     "output_type": "execute_result"
    }
   ],
   "source": [
    "len(setDePrediccionVentanaUno)"
   ]
  },
  {
   "cell_type": "markdown",
   "metadata": {},
   "source": [
    "# Aca podemos probar con distintos tamaños, pero el fit a la ventana siguiente hizo que se moría mi kernel."
   ]
  },
  {
   "cell_type": "code",
   "execution_count": 69,
   "metadata": {},
   "outputs": [],
   "source": [
    "setDePrediccionVentanaUno = setDePrediccionVentanaUno.head(100)"
   ]
  },
  {
   "cell_type": "code",
   "execution_count": 77,
   "metadata": {},
   "outputs": [],
   "source": [
    "fitModeloUnoSobreVentanaDos = cphSinDuplicadosSinId.predict_median(setDePrediccionVentanaUno)"
   ]
  },
  {
   "cell_type": "code",
   "execution_count": 78,
   "metadata": {},
   "outputs": [
    {
     "data": {
      "text/html": [
       "<div>\n",
       "<style scoped>\n",
       "    .dataframe tbody tr th:only-of-type {\n",
       "        vertical-align: middle;\n",
       "    }\n",
       "\n",
       "    .dataframe tbody tr th {\n",
       "        vertical-align: top;\n",
       "    }\n",
       "\n",
       "    .dataframe thead th {\n",
       "        text-align: right;\n",
       "    }\n",
       "</style>\n",
       "<table border=\"1\" class=\"dataframe\">\n",
       "  <thead>\n",
       "    <tr style=\"text-align: right;\">\n",
       "      <th></th>\n",
       "      <th>0.5</th>\n",
       "    </tr>\n",
       "  </thead>\n",
       "  <tbody>\n",
       "    <tr>\n",
       "      <th>count</th>\n",
       "      <td>100.000000</td>\n",
       "    </tr>\n",
       "    <tr>\n",
       "      <th>mean</th>\n",
       "      <td>inf</td>\n",
       "    </tr>\n",
       "    <tr>\n",
       "      <th>std</th>\n",
       "      <td>NaN</td>\n",
       "    </tr>\n",
       "    <tr>\n",
       "      <th>min</th>\n",
       "      <td>inf</td>\n",
       "    </tr>\n",
       "    <tr>\n",
       "      <th>25%</th>\n",
       "      <td>inf</td>\n",
       "    </tr>\n",
       "    <tr>\n",
       "      <th>50%</th>\n",
       "      <td>inf</td>\n",
       "    </tr>\n",
       "    <tr>\n",
       "      <th>75%</th>\n",
       "      <td>inf</td>\n",
       "    </tr>\n",
       "    <tr>\n",
       "      <th>max</th>\n",
       "      <td>inf</td>\n",
       "    </tr>\n",
       "  </tbody>\n",
       "</table>\n",
       "</div>"
      ],
      "text/plain": [
       "              0.5\n",
       "count  100.000000\n",
       "mean          inf\n",
       "std           NaN\n",
       "min           inf\n",
       "25%           inf\n",
       "50%           inf\n",
       "75%           inf\n",
       "max           inf"
      ]
     },
     "execution_count": 78,
     "metadata": {},
     "output_type": "execute_result"
    }
   ],
   "source": [
    "fitModeloUnoSobreVentanaDos.describe()"
   ]
  },
  {
   "cell_type": "markdown",
   "metadata": {},
   "source": [
    "### No es un fit que funciona, ya que nunca cruza con la mediana."
   ]
  },
  {
   "cell_type": "markdown",
   "metadata": {},
   "source": [
    "# FIN DE PRUEBAS DE COX"
   ]
  }
 ],
 "metadata": {
  "kernelspec": {
   "display_name": "Python 3",
   "language": "python",
   "name": "python3"
  },
  "language_info": {
   "codemirror_mode": {
    "name": "ipython",
    "version": 3
   },
   "file_extension": ".py",
   "mimetype": "text/x-python",
   "name": "python",
   "nbconvert_exporter": "python",
   "pygments_lexer": "ipython3",
   "version": "3.7.1"
  }
 },
 "nbformat": 4,
 "nbformat_minor": 2
}
