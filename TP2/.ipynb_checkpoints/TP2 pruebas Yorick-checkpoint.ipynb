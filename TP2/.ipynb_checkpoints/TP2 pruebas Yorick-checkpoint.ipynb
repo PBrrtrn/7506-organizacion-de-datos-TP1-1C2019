{
 "cells": [
  {
   "cell_type": "markdown",
   "metadata": {},
   "source": [
    "# Survival analysis para la empresa JAMPP\n",
    "\n",
    "El objetivo es analizar los datos de la empresa JAMPP para saber cuando un usuario volverá a conectarse a una app, dado sus datos de conexiones previas. La segunda predicción que intentaremos hacer es saber cuando volverá a \"convertir\", es decir comprar la app de la cual tiene una publicidad en su movil a un momento dado.\n",
    "\n"
   ]
  },
  {
   "cell_type": "code",
   "execution_count": 1,
   "metadata": {},
   "outputs": [],
   "source": [
    "import matplotlib.pyplot as plt\n",
    "import pandas as pd\n",
    "import numpy as np\n",
    "import lifelines\n",
    "import findspark\n",
    "findspark.init()\n",
    "import pyspark"
   ]
  },
  {
   "cell_type": "code",
   "execution_count": 3,
   "metadata": {},
   "outputs": [
    {
     "name": "stderr",
     "output_type": "stream",
     "text": [
      "/Users/yorickvinesse/anaconda3/lib/python3.7/site-packages/IPython/core/interactiveshell.py:3020: DtypeWarning: Columns (13,20) have mixed types. Specify dtype option on import or set low_memory=False.\n",
      "  interactivity=interactivity, compiler=compiler, result=result)\n"
     ]
    }
   ],
   "source": [
    "events = pd.read_csv('./events.csv')"
   ]
  },
  {
   "cell_type": "code",
   "execution_count": 2,
   "metadata": {},
   "outputs": [],
   "source": [
    "auctions = pd.read_csv('./auctions.csv')"
   ]
  },
  {
   "cell_type": "code",
   "execution_count": 4,
   "metadata": {},
   "outputs": [
    {
     "name": "stderr",
     "output_type": "stream",
     "text": [
      "/Users/yorickvinesse/anaconda3/lib/python3.7/site-packages/IPython/core/interactiveshell.py:3020: DtypeWarning: Columns (16,17) have mixed types. Specify dtype option on import or set low_memory=False.\n",
      "  interactivity=interactivity, compiler=compiler, result=result)\n"
     ]
    }
   ],
   "source": [
    "clicks = pd.read_csv('./clicks.csv')"
   ]
  },
  {
   "cell_type": "code",
   "execution_count": 5,
   "metadata": {},
   "outputs": [
    {
     "name": "stderr",
     "output_type": "stream",
     "text": [
      "/Users/yorickvinesse/anaconda3/lib/python3.7/site-packages/IPython/core/interactiveshell.py:3020: DtypeWarning: Columns (4,15) have mixed types. Specify dtype option on import or set low_memory=False.\n",
      "  interactivity=interactivity, compiler=compiler, result=result)\n"
     ]
    }
   ],
   "source": [
    "installs = pd.read_csv('./installs.csv')"
   ]
  },
  {
   "cell_type": "code",
   "execution_count": 18,
   "metadata": {},
   "outputs": [
    {
     "data": {
      "text/html": [
       "<div>\n",
       "<style scoped>\n",
       "    .dataframe tbody tr th:only-of-type {\n",
       "        vertical-align: middle;\n",
       "    }\n",
       "\n",
       "    .dataframe tbody tr th {\n",
       "        vertical-align: top;\n",
       "    }\n",
       "\n",
       "    .dataframe thead th {\n",
       "        text-align: right;\n",
       "    }\n",
       "</style>\n",
       "<table border=\"1\" class=\"dataframe\">\n",
       "  <thead>\n",
       "    <tr style=\"text-align: right;\">\n",
       "      <th></th>\n",
       "      <th>created</th>\n",
       "      <th>application_id</th>\n",
       "      <th>ref_type</th>\n",
       "      <th>ref_hash</th>\n",
       "      <th>click_hash</th>\n",
       "      <th>attributed</th>\n",
       "      <th>implicit</th>\n",
       "      <th>device_countrycode</th>\n",
       "      <th>device_brand</th>\n",
       "      <th>device_model</th>\n",
       "      <th>session_user_agent</th>\n",
       "      <th>user_agent</th>\n",
       "      <th>event_uuid</th>\n",
       "      <th>kind</th>\n",
       "      <th>wifi</th>\n",
       "      <th>trans_id</th>\n",
       "      <th>ip_address</th>\n",
       "      <th>device_language</th>\n",
       "    </tr>\n",
       "  </thead>\n",
       "  <tbody>\n",
       "    <tr>\n",
       "      <th>0</th>\n",
       "      <td>2019-04-24 06:23:29.495</td>\n",
       "      <td>1</td>\n",
       "      <td>1494519392962156891</td>\n",
       "      <td>4716708407362582887</td>\n",
       "      <td>NaN</td>\n",
       "      <td>False</td>\n",
       "      <td>True</td>\n",
       "      <td>6287817205707153877</td>\n",
       "      <td>NaN</td>\n",
       "      <td>3.739127e+17</td>\n",
       "      <td>adjust.com</td>\n",
       "      <td>NaN</td>\n",
       "      <td>79837499-2f2a-4605-a663-e322f759424f</td>\n",
       "      <td>app_open</td>\n",
       "      <td>NaN</td>\n",
       "      <td>NaN</td>\n",
       "      <td>4243443387795468703</td>\n",
       "      <td>3.301378e+18</td>\n",
       "    </tr>\n",
       "    <tr>\n",
       "      <th>1</th>\n",
       "      <td>2019-04-24 02:06:01.032</td>\n",
       "      <td>1</td>\n",
       "      <td>1494519392962156891</td>\n",
       "      <td>7143568733100935872</td>\n",
       "      <td>NaN</td>\n",
       "      <td>False</td>\n",
       "      <td>False</td>\n",
       "      <td>6287817205707153877</td>\n",
       "      <td>NaN</td>\n",
       "      <td>7.805539e+18</td>\n",
       "      <td>adjust.com</td>\n",
       "      <td>NaN</td>\n",
       "      <td>NaN</td>\n",
       "      <td>NaN</td>\n",
       "      <td>NaN</td>\n",
       "      <td>NaN</td>\n",
       "      <td>4724288679627032761</td>\n",
       "      <td>3.301378e+18</td>\n",
       "    </tr>\n",
       "    <tr>\n",
       "      <th>2</th>\n",
       "      <td>2019-04-20 10:15:36.274</td>\n",
       "      <td>1</td>\n",
       "      <td>1494519392962156891</td>\n",
       "      <td>5230323462636548010</td>\n",
       "      <td>NaN</td>\n",
       "      <td>False</td>\n",
       "      <td>True</td>\n",
       "      <td>6287817205707153877</td>\n",
       "      <td>NaN</td>\n",
       "      <td>8.355496e+18</td>\n",
       "      <td>adjust.com</td>\n",
       "      <td>NaN</td>\n",
       "      <td>dda99e3c-9c4b-487d-891c-79f0a02cb4a8</td>\n",
       "      <td>app_open</td>\n",
       "      <td>NaN</td>\n",
       "      <td>NaN</td>\n",
       "      <td>8291809486355890410</td>\n",
       "      <td>4.060930e+18</td>\n",
       "    </tr>\n",
       "    <tr>\n",
       "      <th>3</th>\n",
       "      <td>2019-04-20 21:56:47.151</td>\n",
       "      <td>1</td>\n",
       "      <td>1494519392962156891</td>\n",
       "      <td>5097163995161606833</td>\n",
       "      <td>NaN</td>\n",
       "      <td>False</td>\n",
       "      <td>True</td>\n",
       "      <td>6287817205707153877</td>\n",
       "      <td>NaN</td>\n",
       "      <td>2.355772e+18</td>\n",
       "      <td>adjust.com</td>\n",
       "      <td>NaN</td>\n",
       "      <td>7010c3ce-0fcf-46c6-9be8-374cc0e20af4</td>\n",
       "      <td>app_open</td>\n",
       "      <td>NaN</td>\n",
       "      <td>NaN</td>\n",
       "      <td>4006811922873399949</td>\n",
       "      <td>3.301378e+18</td>\n",
       "    </tr>\n",
       "    <tr>\n",
       "      <th>4</th>\n",
       "      <td>2019-04-20 22:40:41.239</td>\n",
       "      <td>1</td>\n",
       "      <td>1494519392962156891</td>\n",
       "      <td>6328027616411983332</td>\n",
       "      <td>NaN</td>\n",
       "      <td>False</td>\n",
       "      <td>False</td>\n",
       "      <td>6287817205707153877</td>\n",
       "      <td>NaN</td>\n",
       "      <td>6.156971e+18</td>\n",
       "      <td>adjust.com</td>\n",
       "      <td>NaN</td>\n",
       "      <td>NaN</td>\n",
       "      <td>NaN</td>\n",
       "      <td>NaN</td>\n",
       "      <td>NaN</td>\n",
       "      <td>3386455054590810771</td>\n",
       "      <td>3.301378e+18</td>\n",
       "    </tr>\n",
       "  </tbody>\n",
       "</table>\n",
       "</div>"
      ],
      "text/plain": [
       "                   created  application_id             ref_type  \\\n",
       "0  2019-04-24 06:23:29.495               1  1494519392962156891   \n",
       "1  2019-04-24 02:06:01.032               1  1494519392962156891   \n",
       "2  2019-04-20 10:15:36.274               1  1494519392962156891   \n",
       "3  2019-04-20 21:56:47.151               1  1494519392962156891   \n",
       "4  2019-04-20 22:40:41.239               1  1494519392962156891   \n",
       "\n",
       "              ref_hash click_hash  attributed  implicit   device_countrycode  \\\n",
       "0  4716708407362582887        NaN       False      True  6287817205707153877   \n",
       "1  7143568733100935872        NaN       False     False  6287817205707153877   \n",
       "2  5230323462636548010        NaN       False      True  6287817205707153877   \n",
       "3  5097163995161606833        NaN       False      True  6287817205707153877   \n",
       "4  6328027616411983332        NaN       False     False  6287817205707153877   \n",
       "\n",
       "   device_brand  device_model session_user_agent user_agent  \\\n",
       "0           NaN  3.739127e+17         adjust.com        NaN   \n",
       "1           NaN  7.805539e+18         adjust.com        NaN   \n",
       "2           NaN  8.355496e+18         adjust.com        NaN   \n",
       "3           NaN  2.355772e+18         adjust.com        NaN   \n",
       "4           NaN  6.156971e+18         adjust.com        NaN   \n",
       "\n",
       "                             event_uuid      kind wifi trans_id  \\\n",
       "0  79837499-2f2a-4605-a663-e322f759424f  app_open  NaN      NaN   \n",
       "1                                   NaN       NaN  NaN      NaN   \n",
       "2  dda99e3c-9c4b-487d-891c-79f0a02cb4a8  app_open  NaN      NaN   \n",
       "3  7010c3ce-0fcf-46c6-9be8-374cc0e20af4  app_open  NaN      NaN   \n",
       "4                                   NaN       NaN  NaN      NaN   \n",
       "\n",
       "            ip_address  device_language  \n",
       "0  4243443387795468703     3.301378e+18  \n",
       "1  4724288679627032761     3.301378e+18  \n",
       "2  8291809486355890410     4.060930e+18  \n",
       "3  4006811922873399949     3.301378e+18  \n",
       "4  3386455054590810771     3.301378e+18  "
      ]
     },
     "execution_count": 18,
     "metadata": {},
     "output_type": "execute_result"
    }
   ],
   "source": [
    "installs.head()"
   ]
  },
  {
   "cell_type": "code",
   "execution_count": 24,
   "metadata": {},
   "outputs": [
    {
     "data": {
      "text/html": [
       "<div>\n",
       "<style scoped>\n",
       "    .dataframe tbody tr th:only-of-type {\n",
       "        vertical-align: middle;\n",
       "    }\n",
       "\n",
       "    .dataframe tbody tr th {\n",
       "        vertical-align: top;\n",
       "    }\n",
       "\n",
       "    .dataframe thead th {\n",
       "        text-align: right;\n",
       "    }\n",
       "</style>\n",
       "<table border=\"1\" class=\"dataframe\">\n",
       "  <thead>\n",
       "    <tr style=\"text-align: right;\">\n",
       "      <th></th>\n",
       "      <th>index</th>\n",
       "      <th>date</th>\n",
       "      <th>event_id</th>\n",
       "      <th>ref_type</th>\n",
       "      <th>ref_hash</th>\n",
       "      <th>application_id</th>\n",
       "      <th>attributed</th>\n",
       "      <th>device_countrycode</th>\n",
       "      <th>device_os_version</th>\n",
       "      <th>device_brand</th>\n",
       "      <th>...</th>\n",
       "      <th>trans_id</th>\n",
       "      <th>user_agent</th>\n",
       "      <th>event_uuid</th>\n",
       "      <th>carrier</th>\n",
       "      <th>kind</th>\n",
       "      <th>device_os</th>\n",
       "      <th>wifi</th>\n",
       "      <th>connection_type</th>\n",
       "      <th>ip_address</th>\n",
       "      <th>device_language</th>\n",
       "    </tr>\n",
       "  </thead>\n",
       "  <tbody>\n",
       "    <tr>\n",
       "      <th>0</th>\n",
       "      <td>2130678</td>\n",
       "      <td>2019-04-20 01:42:49.120</td>\n",
       "      <td>0</td>\n",
       "      <td>1891515180541284343</td>\n",
       "      <td>5857744372586891366</td>\n",
       "      <td>210</td>\n",
       "      <td>False</td>\n",
       "      <td>6287817205707153877</td>\n",
       "      <td>NaN</td>\n",
       "      <td>NaN</td>\n",
       "      <td>...</td>\n",
       "      <td>NaN</td>\n",
       "      <td>5.046185e+18</td>\n",
       "      <td>5b506964-5f47-4b28-a8c2-8a92d6c23379</td>\n",
       "      <td>NaN</td>\n",
       "      <td>5.882882e+18</td>\n",
       "      <td>NaN</td>\n",
       "      <td>False</td>\n",
       "      <td>NaN</td>\n",
       "      <td>7544543351571901618</td>\n",
       "      <td>3.301378e+18</td>\n",
       "    </tr>\n",
       "    <tr>\n",
       "      <th>1</th>\n",
       "      <td>2130680</td>\n",
       "      <td>2019-04-20 01:42:49.340</td>\n",
       "      <td>1</td>\n",
       "      <td>1891515180541284343</td>\n",
       "      <td>7642521036780133571</td>\n",
       "      <td>210</td>\n",
       "      <td>False</td>\n",
       "      <td>6287817205707153877</td>\n",
       "      <td>NaN</td>\n",
       "      <td>NaN</td>\n",
       "      <td>...</td>\n",
       "      <td>NaN</td>\n",
       "      <td>NaN</td>\n",
       "      <td>f1fb9d15-1a7b-4116-8d3b-c4c403e197e2</td>\n",
       "      <td>NaN</td>\n",
       "      <td>4.017674e+18</td>\n",
       "      <td>NaN</td>\n",
       "      <td>False</td>\n",
       "      <td>NaN</td>\n",
       "      <td>6949523255335024165</td>\n",
       "      <td>NaN</td>\n",
       "    </tr>\n",
       "    <tr>\n",
       "      <th>2</th>\n",
       "      <td>2130681</td>\n",
       "      <td>2019-04-20 01:42:49.365</td>\n",
       "      <td>1</td>\n",
       "      <td>1891515180541284343</td>\n",
       "      <td>2548841562898283198</td>\n",
       "      <td>210</td>\n",
       "      <td>False</td>\n",
       "      <td>6287817205707153877</td>\n",
       "      <td>NaN</td>\n",
       "      <td>NaN</td>\n",
       "      <td>...</td>\n",
       "      <td>NaN</td>\n",
       "      <td>NaN</td>\n",
       "      <td>c85a0b15-a5d7-472e-8116-6bfa3db19687</td>\n",
       "      <td>NaN</td>\n",
       "      <td>4.017674e+18</td>\n",
       "      <td>NaN</td>\n",
       "      <td>False</td>\n",
       "      <td>NaN</td>\n",
       "      <td>6428537280982666957</td>\n",
       "      <td>NaN</td>\n",
       "    </tr>\n",
       "    <tr>\n",
       "      <th>3</th>\n",
       "      <td>2130684</td>\n",
       "      <td>2019-04-20 01:42:51.438</td>\n",
       "      <td>2</td>\n",
       "      <td>1891515180541284343</td>\n",
       "      <td>609402887625919085</td>\n",
       "      <td>210</td>\n",
       "      <td>False</td>\n",
       "      <td>6287817205707153877</td>\n",
       "      <td>NaN</td>\n",
       "      <td>NaN</td>\n",
       "      <td>...</td>\n",
       "      <td>NaN</td>\n",
       "      <td>NaN</td>\n",
       "      <td>f4aa0a97-2de6-4f22-95c6-1b3150112cb9</td>\n",
       "      <td>NaN</td>\n",
       "      <td>6.168309e+18</td>\n",
       "      <td>NaN</td>\n",
       "      <td>False</td>\n",
       "      <td>NaN</td>\n",
       "      <td>7607371352198017145</td>\n",
       "      <td>NaN</td>\n",
       "    </tr>\n",
       "    <tr>\n",
       "      <th>4</th>\n",
       "      <td>2130688</td>\n",
       "      <td>2019-04-20 01:42:51.838</td>\n",
       "      <td>1</td>\n",
       "      <td>1891515180541284343</td>\n",
       "      <td>9114651763556439823</td>\n",
       "      <td>210</td>\n",
       "      <td>False</td>\n",
       "      <td>6287817205707153877</td>\n",
       "      <td>NaN</td>\n",
       "      <td>NaN</td>\n",
       "      <td>...</td>\n",
       "      <td>NaN</td>\n",
       "      <td>NaN</td>\n",
       "      <td>08e2f7f7-875f-4aa0-b337-b9b87b0d83ea</td>\n",
       "      <td>NaN</td>\n",
       "      <td>4.017674e+18</td>\n",
       "      <td>NaN</td>\n",
       "      <td>False</td>\n",
       "      <td>NaN</td>\n",
       "      <td>2901772839007473756</td>\n",
       "      <td>NaN</td>\n",
       "    </tr>\n",
       "  </tbody>\n",
       "</table>\n",
       "<p>5 rows × 23 columns</p>\n",
       "</div>"
      ],
      "text/plain": [
       "     index                     date  event_id             ref_type  \\\n",
       "0  2130678  2019-04-20 01:42:49.120         0  1891515180541284343   \n",
       "1  2130680  2019-04-20 01:42:49.340         1  1891515180541284343   \n",
       "2  2130681  2019-04-20 01:42:49.365         1  1891515180541284343   \n",
       "3  2130684  2019-04-20 01:42:51.438         2  1891515180541284343   \n",
       "4  2130688  2019-04-20 01:42:51.838         1  1891515180541284343   \n",
       "\n",
       "              ref_hash  application_id  attributed   device_countrycode  \\\n",
       "0  5857744372586891366             210       False  6287817205707153877   \n",
       "1  7642521036780133571             210       False  6287817205707153877   \n",
       "2  2548841562898283198             210       False  6287817205707153877   \n",
       "3   609402887625919085             210       False  6287817205707153877   \n",
       "4  9114651763556439823             210       False  6287817205707153877   \n",
       "\n",
       "   device_os_version  device_brand       ...         trans_id    user_agent  \\\n",
       "0                NaN           NaN       ...              NaN  5.046185e+18   \n",
       "1                NaN           NaN       ...              NaN           NaN   \n",
       "2                NaN           NaN       ...              NaN           NaN   \n",
       "3                NaN           NaN       ...              NaN           NaN   \n",
       "4                NaN           NaN       ...              NaN           NaN   \n",
       "\n",
       "                             event_uuid carrier          kind device_os  \\\n",
       "0  5b506964-5f47-4b28-a8c2-8a92d6c23379     NaN  5.882882e+18       NaN   \n",
       "1  f1fb9d15-1a7b-4116-8d3b-c4c403e197e2     NaN  4.017674e+18       NaN   \n",
       "2  c85a0b15-a5d7-472e-8116-6bfa3db19687     NaN  4.017674e+18       NaN   \n",
       "3  f4aa0a97-2de6-4f22-95c6-1b3150112cb9     NaN  6.168309e+18       NaN   \n",
       "4  08e2f7f7-875f-4aa0-b337-b9b87b0d83ea     NaN  4.017674e+18       NaN   \n",
       "\n",
       "    wifi  connection_type           ip_address  device_language  \n",
       "0  False              NaN  7544543351571901618     3.301378e+18  \n",
       "1  False              NaN  6949523255335024165              NaN  \n",
       "2  False              NaN  6428537280982666957              NaN  \n",
       "3  False              NaN  7607371352198017145              NaN  \n",
       "4  False              NaN  2901772839007473756              NaN  \n",
       "\n",
       "[5 rows x 23 columns]"
      ]
     },
     "execution_count": 24,
     "metadata": {},
     "output_type": "execute_result"
    }
   ],
   "source": [
    "events.head()"
   ]
  },
  {
   "cell_type": "code",
   "execution_count": 97,
   "metadata": {},
   "outputs": [
    {
     "data": {
      "text/plain": [
       "created               481511\n",
       "application_id        481511\n",
       "ref_type              481511\n",
       "ref_hash              481511\n",
       "click_hash              1142\n",
       "attributed            481511\n",
       "implicit              481511\n",
       "device_countrycode    481511\n",
       "device_brand          276443\n",
       "device_model          454619\n",
       "session_user_agent    466672\n",
       "user_agent            330768\n",
       "event_uuid            103168\n",
       "kind                  103168\n",
       "wifi                  294829\n",
       "trans_id                8933\n",
       "ip_address            481511\n",
       "device_language       453934\n",
       "dtype: int64"
      ]
     },
     "execution_count": 97,
     "metadata": {},
     "output_type": "execute_result"
    }
   ],
   "source": [
    "installs.count()"
   ]
  },
  {
   "cell_type": "code",
   "execution_count": 98,
   "metadata": {},
   "outputs": [
    {
     "data": {
      "text/plain": [
       "index                 7744581\n",
       "date                  7744581\n",
       "event_id              7744581\n",
       "ref_type              7744581\n",
       "ref_hash              7744581\n",
       "application_id        7744581\n",
       "attributed            7744581\n",
       "device_countrycode    7744581\n",
       "device_os_version     2332975\n",
       "device_brand          2553424\n",
       "device_model          5668092\n",
       "device_city           1894935\n",
       "session_user_agent    7702301\n",
       "trans_id                37642\n",
       "user_agent            3341483\n",
       "event_uuid            7714809\n",
       "carrier               1925901\n",
       "kind                  7714809\n",
       "device_os             1870190\n",
       "wifi                  7744581\n",
       "connection_type       1809296\n",
       "ip_address            7744581\n",
       "device_language       5665409\n",
       "dtype: int64"
      ]
     },
     "execution_count": 98,
     "metadata": {},
     "output_type": "execute_result"
    }
   ],
   "source": [
    "events.count()"
   ]
  },
  {
   "cell_type": "code",
   "execution_count": 99,
   "metadata": {},
   "outputs": [
    {
     "data": {
      "text/plain": [
       "advertiser_id      64296\n",
       "action_id              7\n",
       "source_id          64296\n",
       "created            64296\n",
       "country_code       64296\n",
       "latitude           64296\n",
       "longitude          64296\n",
       "wifi_connection    64296\n",
       "carrier_id         63097\n",
       "trans_id           64296\n",
       "os_minor           64261\n",
       "agent_device        8920\n",
       "os_major           64261\n",
       "specs_brand        64296\n",
       "brand              15035\n",
       "timeToClick        38178\n",
       "touchX             43678\n",
       "touchY             43678\n",
       "ref_type           64296\n",
       "ref_hash           64296\n",
       "dtype: int64"
      ]
     },
     "execution_count": 99,
     "metadata": {},
     "output_type": "execute_result"
    }
   ],
   "source": [
    "clicks.count()"
   ]
  },
  {
   "cell_type": "code",
   "execution_count": 100,
   "metadata": {},
   "outputs": [
    {
     "data": {
      "text/plain": [
       "date           47409528\n",
       "device_id      47409528\n",
       "ref_type_id    47409528\n",
       "source_id      47409528\n",
       "dtype: int64"
      ]
     },
     "execution_count": 100,
     "metadata": {},
     "output_type": "execute_result"
    }
   ],
   "source": [
    "auctions.count()"
   ]
  },
  {
   "cell_type": "markdown",
   "metadata": {},
   "source": [
    "# Que datos nos conviene usar?\n",
    "\n",
    "Acá estamos haciendo un _survival analysis_ entonces se necesita mostrar el momento al cual ocurrió un evento. En nuestro caso, si un evento aparece en el dataset de _auctions_, es porque ocurrió. El survival analysis se enfoca en la primera vez que ocurre un evento, puesto que hace una regresión de un set de caractéristicas en frente a una fecha de ocurrencia del evento.\n",
    "\n",
    "Pero es cierto que muchos usuarios, aca representados por sus *device_id* aparecen varias veces en la lista de subastas (_auctions_), considerando que 475338 *device_id* únicos se pueden contar adentro del set de _auctions_ que almacena 47409528 observaciones distintas (100 veces más).\n",
    "\n",
    "Dado eso, parecería inoportuno no considerar la característica de repetición de aparición de los usuarios cuando hacemos la predicción de su reaparición más adelante.\n",
    "\n",
    "Podemos tratar de analizar datos como la cantidad de clicks hecha por un usuario antes de llevar a cabo una instalación, o la cantidad de veces que apareció en una subasta."
   ]
  },
  {
   "cell_type": "markdown",
   "metadata": {},
   "source": [
    "### Para aliviar los sets, sacamos las columnas que llevan el mismo valor para todas filas."
   ]
  },
  {
   "cell_type": "code",
   "execution_count": 6,
   "metadata": {},
   "outputs": [],
   "source": [
    "events.drop(columns = ['device_countrycode'], inplace = True)\n",
    "clicks.drop(columns = ['country_code'], inplace = True)\n",
    "installs.drop(columns = ['device_countrycode'], inplace = True)"
   ]
  },
  {
   "cell_type": "markdown",
   "metadata": {},
   "source": [
    "# Cuandó aparecerá un usuario dado?\n",
    "\n",
    "### Desarrollo alrededor del dataset _auctions_\n",
    "\n",
    "Vamos a enriquecer el dataset relacionado a las subastas incluyendo, para cada observación, la cantidad de veces que ocurrió una aparición del mismo *device_id* dentro de la ventana de estudio anterior. También vamos a indicar el tiempo que pasó desde la última vez que ocurrió el evento para el mismo *device_id*.\n",
    "\n",
    "Primero, queremos tener un modelo que nos indica cuando será la próxima vez que aparecerá un usuario en una subasta.\n",
    "\n",
    "Es necesario convertir los tiempos de ocurrencia en segundos para que nos de una duración hasta el evento."
   ]
  },
  {
   "cell_type": "markdown",
   "metadata": {},
   "source": [
    "## Selección de las ventanas de tests de tres días en _Auctions_"
   ]
  },
  {
   "cell_type": "code",
   "execution_count": 7,
   "metadata": {},
   "outputs": [],
   "source": [
    "auctionsVentanaUno = auctions.loc[(auctions[\"date\"] < \"2019-04-21\")]\n",
    "auctionsVentanaUno = auctionsVentanaUno.loc[(auctions[\"date\"] > \"2019-04-18\")]"
   ]
  },
  {
   "cell_type": "code",
   "execution_count": 8,
   "metadata": {},
   "outputs": [],
   "source": [
    "auctionsVentanaDos = auctions.loc[(auctions[\"date\"] < \"2019-04-22\")]\n",
    "auctionsVentanaDos = auctionsVentanaDos.loc[(auctions[\"date\"] > \"2019-04-19\")]"
   ]
  },
  {
   "cell_type": "code",
   "execution_count": 9,
   "metadata": {},
   "outputs": [],
   "source": [
    "auctionsVentanaTres = auctions.loc[(auctions[\"date\"] < \"2019-04-23\")]\n",
    "auctionsVentanaTres = auctionsVentanaTres.loc[(auctions[\"date\"] > \"2019-04-20\")]"
   ]
  },
  {
   "cell_type": "code",
   "execution_count": 10,
   "metadata": {},
   "outputs": [],
   "source": [
    "auctionsVentanaCuatro = auctions.loc[(auctions[\"date\"] < \"2019-04-24\")]\n",
    "auctionsVentanaCuatro = auctionsVentanaCuatro.loc[(auctions[\"date\"] > \"2019-04-21\")]"
   ]
  },
  {
   "cell_type": "code",
   "execution_count": 11,
   "metadata": {},
   "outputs": [],
   "source": [
    "auctionsVentanaCinco = auctions.loc[(auctions[\"date\"] < \"2019-04-25\")]\n",
    "auctionsVentanaCinco = auctionsVentanaCinco.loc[(auctions[\"date\"] > \"2019-04-22\")]"
   ]
  },
  {
   "cell_type": "markdown",
   "metadata": {},
   "source": [
    "### En todas las ventanas elegidas, vamos a agregar una columna de fecha inicial para poder basar los tiempos en base a eso. Despues podremos restar el tiempo inicial al tiempo absoluto para hacer modelos en segundos pasados."
   ]
  },
  {
   "cell_type": "code",
   "execution_count": 12,
   "metadata": {},
   "outputs": [],
   "source": [
    "auctionsVentanaUno['fechaInicial'] = pd.to_datetime(\"2019-04-18 00:00:00\")\n",
    "auctionsVentanaDos['fechaInicial'] = pd.to_datetime(\"2019-04-19 00:00:00\")\n",
    "auctionsVentanaTres['fechaInicial'] = pd.to_datetime(\"2019-04-20 00:00:00\")\n",
    "auctionsVentanaCuatro['fechaInicial'] = pd.to_datetime(\"2019-04-21 00:00:00\")\n",
    "auctionsVentanaCinco['fechaInicial'] = pd.to_datetime(\"2019-04-22 00:00:00\")"
   ]
  },
  {
   "cell_type": "code",
   "execution_count": 13,
   "metadata": {},
   "outputs": [
    {
     "data": {
      "text/html": [
       "<div>\n",
       "<style scoped>\n",
       "    .dataframe tbody tr th:only-of-type {\n",
       "        vertical-align: middle;\n",
       "    }\n",
       "\n",
       "    .dataframe tbody tr th {\n",
       "        vertical-align: top;\n",
       "    }\n",
       "\n",
       "    .dataframe thead th {\n",
       "        text-align: right;\n",
       "    }\n",
       "</style>\n",
       "<table border=\"1\" class=\"dataframe\">\n",
       "  <thead>\n",
       "    <tr style=\"text-align: right;\">\n",
       "      <th></th>\n",
       "      <th>date</th>\n",
       "      <th>device_id</th>\n",
       "      <th>ref_type_id</th>\n",
       "      <th>source_id</th>\n",
       "      <th>fechaInicial</th>\n",
       "    </tr>\n",
       "  </thead>\n",
       "  <tbody>\n",
       "    <tr>\n",
       "      <th>221726</th>\n",
       "      <td>2019-04-20 23:57:27.912838</td>\n",
       "      <td>1109595589636746168</td>\n",
       "      <td>7</td>\n",
       "      <td>0</td>\n",
       "      <td>2019-04-18</td>\n",
       "    </tr>\n",
       "    <tr>\n",
       "      <th>221727</th>\n",
       "      <td>2019-04-20 23:57:28.381114</td>\n",
       "      <td>5896614299191635403</td>\n",
       "      <td>1</td>\n",
       "      <td>0</td>\n",
       "      <td>2019-04-18</td>\n",
       "    </tr>\n",
       "    <tr>\n",
       "      <th>221728</th>\n",
       "      <td>2019-04-20 23:57:28.515423</td>\n",
       "      <td>4172466725848941608</td>\n",
       "      <td>1</td>\n",
       "      <td>0</td>\n",
       "      <td>2019-04-18</td>\n",
       "    </tr>\n",
       "    <tr>\n",
       "      <th>221729</th>\n",
       "      <td>2019-04-20 23:57:28.700884</td>\n",
       "      <td>2616279795187318849</td>\n",
       "      <td>7</td>\n",
       "      <td>0</td>\n",
       "      <td>2019-04-18</td>\n",
       "    </tr>\n",
       "    <tr>\n",
       "      <th>221730</th>\n",
       "      <td>2019-04-20 23:57:28.868312</td>\n",
       "      <td>8034952072073026056</td>\n",
       "      <td>1</td>\n",
       "      <td>0</td>\n",
       "      <td>2019-04-18</td>\n",
       "    </tr>\n",
       "  </tbody>\n",
       "</table>\n",
       "</div>"
      ],
      "text/plain": [
       "                              date            device_id  ref_type_id  \\\n",
       "221726  2019-04-20 23:57:27.912838  1109595589636746168            7   \n",
       "221727  2019-04-20 23:57:28.381114  5896614299191635403            1   \n",
       "221728  2019-04-20 23:57:28.515423  4172466725848941608            1   \n",
       "221729  2019-04-20 23:57:28.700884  2616279795187318849            7   \n",
       "221730  2019-04-20 23:57:28.868312  8034952072073026056            1   \n",
       "\n",
       "        source_id fechaInicial  \n",
       "221726          0   2019-04-18  \n",
       "221727          0   2019-04-18  \n",
       "221728          0   2019-04-18  \n",
       "221729          0   2019-04-18  \n",
       "221730          0   2019-04-18  "
      ]
     },
     "execution_count": 13,
     "metadata": {},
     "output_type": "execute_result"
    }
   ],
   "source": [
    "auctionsVentanaUno.head()"
   ]
  },
  {
   "cell_type": "markdown",
   "metadata": {},
   "source": [
    "Agregamos una columna _sum_ para poder contar la cantidad de veces que aparece un device en una ventana de tres días."
   ]
  },
  {
   "cell_type": "code",
   "execution_count": 14,
   "metadata": {},
   "outputs": [],
   "source": [
    "auctionsVentanaUno[\"sum\"] = 1\n",
    "auctionsVentanaDos[\"sum\"] = 1\n",
    "auctionsVentanaTres[\"sum\"] = 1\n",
    "auctionsVentanaCuatro[\"sum\"] = 1\n",
    "auctionsVentanaCinco[\"sum\"] = 1"
   ]
  },
  {
   "cell_type": "markdown",
   "metadata": {},
   "source": [
    "Contamos la cantidad de auctions en la ventana de 3 días para incluirla en la ventana siguiente como parametro."
   ]
  },
  {
   "cell_type": "code",
   "execution_count": 15,
   "metadata": {},
   "outputs": [],
   "source": [
    "cantidadDeSubastasPorIdVentanaUno = auctionsVentanaUno[['device_id','sum']].groupby('device_id').sum()\n",
    "cantidadDeSubastasPorIdVentanaDos = auctionsVentanaDos[['device_id','sum']].groupby('device_id').sum()\n",
    "cantidadDeSubastasPorIdVentanaTres = auctionsVentanaTres[['device_id','sum']].groupby('device_id').sum()\n",
    "cantidadDeSubastasPorIdVentanaCuatro = auctionsVentanaCuatro[['device_id','sum']].groupby('device_id').sum()\n",
    "cantidadDeSubastasPorIdVentanaCinco = auctionsVentanaCinco[['device_id','sum']].groupby('device_id').sum()"
   ]
  },
  {
   "cell_type": "code",
   "execution_count": 30,
   "metadata": {},
   "outputs": [
    {
     "data": {
      "text/html": [
       "<div>\n",
       "<style scoped>\n",
       "    .dataframe tbody tr th:only-of-type {\n",
       "        vertical-align: middle;\n",
       "    }\n",
       "\n",
       "    .dataframe tbody tr th {\n",
       "        vertical-align: top;\n",
       "    }\n",
       "\n",
       "    .dataframe thead th {\n",
       "        text-align: right;\n",
       "    }\n",
       "</style>\n",
       "<table border=\"1\" class=\"dataframe\">\n",
       "  <thead>\n",
       "    <tr style=\"text-align: right;\">\n",
       "      <th></th>\n",
       "      <th>sum</th>\n",
       "    </tr>\n",
       "    <tr>\n",
       "      <th>device_id</th>\n",
       "      <th></th>\n",
       "    </tr>\n",
       "  </thead>\n",
       "  <tbody>\n",
       "    <tr>\n",
       "      <th>41863526108385</th>\n",
       "      <td>35</td>\n",
       "    </tr>\n",
       "    <tr>\n",
       "      <th>135153013040192</th>\n",
       "      <td>8</td>\n",
       "    </tr>\n",
       "    <tr>\n",
       "      <th>161514654074162</th>\n",
       "      <td>6</td>\n",
       "    </tr>\n",
       "    <tr>\n",
       "      <th>181891380775191</th>\n",
       "      <td>1</td>\n",
       "    </tr>\n",
       "    <tr>\n",
       "      <th>186034136943920</th>\n",
       "      <td>7</td>\n",
       "    </tr>\n",
       "  </tbody>\n",
       "</table>\n",
       "</div>"
      ],
      "text/plain": [
       "                 sum\n",
       "device_id           \n",
       "41863526108385    35\n",
       "135153013040192    8\n",
       "161514654074162    6\n",
       "181891380775191    1\n",
       "186034136943920    7"
      ]
     },
     "execution_count": 30,
     "metadata": {},
     "output_type": "execute_result"
    }
   ],
   "source": [
    "cantidadDeSubastasPorIdVentanaUno.head()"
   ]
  },
  {
   "cell_type": "markdown",
   "metadata": {},
   "source": [
    "### Convertimos los objects de _date_ a elementos de tipo _datetime_ para poder calcular diferencias de tiempo y poder utilisar modelos de Lifelines."
   ]
  },
  {
   "cell_type": "code",
   "execution_count": 16,
   "metadata": {},
   "outputs": [],
   "source": [
    "auctionsVentanaUno.loc[:,'date'] = pd.to_datetime(auctionsVentanaUno['date'], errors = 'coerce')"
   ]
  },
  {
   "cell_type": "code",
   "execution_count": 17,
   "metadata": {},
   "outputs": [],
   "source": [
    "auctionsVentanaDos.loc[:,'date'] = pd.to_datetime(auctionsVentanaDos['date'], errors = 'coerce')"
   ]
  },
  {
   "cell_type": "code",
   "execution_count": 18,
   "metadata": {},
   "outputs": [],
   "source": [
    "auctionsVentanaTres.loc[:,'date'] = pd.to_datetime(auctionsVentanaTres['date'], errors = 'coerce')"
   ]
  },
  {
   "cell_type": "code",
   "execution_count": 19,
   "metadata": {},
   "outputs": [],
   "source": [
    "auctionsVentanaCuatro.loc[:,'date'] = pd.to_datetime(auctionsVentanaCuatro['date'], errors = 'coerce')"
   ]
  },
  {
   "cell_type": "code",
   "execution_count": 20,
   "metadata": {},
   "outputs": [],
   "source": [
    "auctionsVentanaCinco.loc[:,'date'] = pd.to_datetime(auctionsVentanaCinco['date'], errors = 'coerce')"
   ]
  },
  {
   "cell_type": "markdown",
   "metadata": {},
   "source": [
    "### Sacamos la diferencia entre el tiempo de la ventana y el tiempo inicial de la ventana"
   ]
  },
  {
   "cell_type": "code",
   "execution_count": 21,
   "metadata": {},
   "outputs": [],
   "source": [
    "auctionsVentanaUno[\"date\"] = auctionsVentanaUno[\"date\"] - auctionsVentanaUno[\"fechaInicial\"]"
   ]
  },
  {
   "cell_type": "code",
   "execution_count": 22,
   "metadata": {},
   "outputs": [],
   "source": [
    "auctionsVentanaDos[\"date\"] = auctionsVentanaDos[\"date\"] - auctionsVentanaDos[\"fechaInicial\"]"
   ]
  },
  {
   "cell_type": "code",
   "execution_count": 23,
   "metadata": {},
   "outputs": [],
   "source": [
    "auctionsVentanaTres[\"date\"] = auctionsVentanaTres[\"date\"] - auctionsVentanaTres[\"fechaInicial\"]"
   ]
  },
  {
   "cell_type": "code",
   "execution_count": 24,
   "metadata": {},
   "outputs": [],
   "source": [
    "auctionsVentanaCuatro[\"date\"] = auctionsVentanaCuatro[\"date\"] - auctionsVentanaCuatro[\"fechaInicial\"]"
   ]
  },
  {
   "cell_type": "code",
   "execution_count": 25,
   "metadata": {},
   "outputs": [],
   "source": [
    "auctionsVentanaCinco[\"date\"] = auctionsVentanaCinco[\"date\"] - auctionsVentanaCinco[\"fechaInicial\"]"
   ]
  },
  {
   "cell_type": "code",
   "execution_count": 26,
   "metadata": {},
   "outputs": [
    {
     "data": {
      "text/html": [
       "<div>\n",
       "<style scoped>\n",
       "    .dataframe tbody tr th:only-of-type {\n",
       "        vertical-align: middle;\n",
       "    }\n",
       "\n",
       "    .dataframe tbody tr th {\n",
       "        vertical-align: top;\n",
       "    }\n",
       "\n",
       "    .dataframe thead th {\n",
       "        text-align: right;\n",
       "    }\n",
       "</style>\n",
       "<table border=\"1\" class=\"dataframe\">\n",
       "  <thead>\n",
       "    <tr style=\"text-align: right;\">\n",
       "      <th></th>\n",
       "      <th>date</th>\n",
       "      <th>device_id</th>\n",
       "      <th>ref_type_id</th>\n",
       "      <th>source_id</th>\n",
       "      <th>fechaInicial</th>\n",
       "      <th>sum</th>\n",
       "    </tr>\n",
       "  </thead>\n",
       "  <tbody>\n",
       "    <tr>\n",
       "      <th>221726</th>\n",
       "      <td>2 days 23:57:27.912838</td>\n",
       "      <td>1109595589636746168</td>\n",
       "      <td>7</td>\n",
       "      <td>0</td>\n",
       "      <td>2019-04-18</td>\n",
       "      <td>1</td>\n",
       "    </tr>\n",
       "    <tr>\n",
       "      <th>221727</th>\n",
       "      <td>2 days 23:57:28.381114</td>\n",
       "      <td>5896614299191635403</td>\n",
       "      <td>1</td>\n",
       "      <td>0</td>\n",
       "      <td>2019-04-18</td>\n",
       "      <td>1</td>\n",
       "    </tr>\n",
       "    <tr>\n",
       "      <th>221728</th>\n",
       "      <td>2 days 23:57:28.515423</td>\n",
       "      <td>4172466725848941608</td>\n",
       "      <td>1</td>\n",
       "      <td>0</td>\n",
       "      <td>2019-04-18</td>\n",
       "      <td>1</td>\n",
       "    </tr>\n",
       "    <tr>\n",
       "      <th>221729</th>\n",
       "      <td>2 days 23:57:28.700884</td>\n",
       "      <td>2616279795187318849</td>\n",
       "      <td>7</td>\n",
       "      <td>0</td>\n",
       "      <td>2019-04-18</td>\n",
       "      <td>1</td>\n",
       "    </tr>\n",
       "    <tr>\n",
       "      <th>221730</th>\n",
       "      <td>2 days 23:57:28.868312</td>\n",
       "      <td>8034952072073026056</td>\n",
       "      <td>1</td>\n",
       "      <td>0</td>\n",
       "      <td>2019-04-18</td>\n",
       "      <td>1</td>\n",
       "    </tr>\n",
       "  </tbody>\n",
       "</table>\n",
       "</div>"
      ],
      "text/plain": [
       "                         date            device_id  ref_type_id  source_id  \\\n",
       "221726 2 days 23:57:27.912838  1109595589636746168            7          0   \n",
       "221727 2 days 23:57:28.381114  5896614299191635403            1          0   \n",
       "221728 2 days 23:57:28.515423  4172466725848941608            1          0   \n",
       "221729 2 days 23:57:28.700884  2616279795187318849            7          0   \n",
       "221730 2 days 23:57:28.868312  8034952072073026056            1          0   \n",
       "\n",
       "       fechaInicial  sum  \n",
       "221726   2019-04-18    1  \n",
       "221727   2019-04-18    1  \n",
       "221728   2019-04-18    1  \n",
       "221729   2019-04-18    1  \n",
       "221730   2019-04-18    1  "
      ]
     },
     "execution_count": 26,
     "metadata": {},
     "output_type": "execute_result"
    }
   ],
   "source": [
    "auctionsVentanaUno.head()"
   ]
  },
  {
   "cell_type": "markdown",
   "metadata": {},
   "source": [
    "### Ya que estamos analizando la primera ocurrencia de cada device_id, hacemos un drop_duplicates para los que siguen, una vez ordenadas las subastas por tiempo de ocurrencia.\n",
    "\n",
    "Antes de hacer eso, asegurarse de haber calculado la suma por device_id. "
   ]
  },
  {
   "cell_type": "code",
   "execution_count": 28,
   "metadata": {},
   "outputs": [],
   "source": [
    "auctionsVentanaUno.sort_values(by = [\"date\"], inplace = True)\n",
    "auctionsVentanaDos.sort_values(by = [\"date\"], inplace = True)\n",
    "auctionsVentanaTres.sort_values(by = [\"date\"], inplace = True)\n",
    "auctionsVentanaCuatro.sort_values(by = [\"date\"], inplace = True)\n",
    "auctionsVentanaCinco.sort_values(by = [\"date\"], inplace = True)"
   ]
  },
  {
   "cell_type": "code",
   "execution_count": 29,
   "metadata": {},
   "outputs": [],
   "source": [
    "auctionsVentanaUno.drop_duplicates(subset = 'device_id', inplace = True);\n",
    "auctionsVentanaDos.drop_duplicates(subset = 'device_id', inplace = True);\n",
    "auctionsVentanaTres.drop_duplicates(subset = 'device_id', inplace = True);\n",
    "auctionsVentanaCuatro.drop_duplicates(subset = 'device_id', inplace = True);\n",
    "auctionsVentanaCinco.drop_duplicates(subset = 'device_id', inplace = True);"
   ]
  },
  {
   "cell_type": "code",
   "execution_count": 31,
   "metadata": {},
   "outputs": [
    {
     "data": {
      "text/html": [
       "<div>\n",
       "<style scoped>\n",
       "    .dataframe tbody tr th:only-of-type {\n",
       "        vertical-align: middle;\n",
       "    }\n",
       "\n",
       "    .dataframe tbody tr th {\n",
       "        vertical-align: top;\n",
       "    }\n",
       "\n",
       "    .dataframe thead th {\n",
       "        text-align: right;\n",
       "    }\n",
       "</style>\n",
       "<table border=\"1\" class=\"dataframe\">\n",
       "  <thead>\n",
       "    <tr style=\"text-align: right;\">\n",
       "      <th></th>\n",
       "      <th>date</th>\n",
       "      <th>device_id</th>\n",
       "      <th>ref_type_id</th>\n",
       "      <th>source_id</th>\n",
       "      <th>fechaInicial</th>\n",
       "      <th>sum</th>\n",
       "    </tr>\n",
       "  </thead>\n",
       "  <tbody>\n",
       "    <tr>\n",
       "      <th>10129864</th>\n",
       "      <td>00:00:00.015050</td>\n",
       "      <td>1826643666390887030</td>\n",
       "      <td>7</td>\n",
       "      <td>0</td>\n",
       "      <td>2019-04-18</td>\n",
       "      <td>1</td>\n",
       "    </tr>\n",
       "    <tr>\n",
       "      <th>25285906</th>\n",
       "      <td>00:00:00.029014</td>\n",
       "      <td>7037174172278258682</td>\n",
       "      <td>1</td>\n",
       "      <td>0</td>\n",
       "      <td>2019-04-18</td>\n",
       "      <td>1</td>\n",
       "    </tr>\n",
       "    <tr>\n",
       "      <th>3946062</th>\n",
       "      <td>00:00:00.057540</td>\n",
       "      <td>3392065368947589877</td>\n",
       "      <td>1</td>\n",
       "      <td>1</td>\n",
       "      <td>2019-04-18</td>\n",
       "      <td>1</td>\n",
       "    </tr>\n",
       "    <tr>\n",
       "      <th>3946063</th>\n",
       "      <td>00:00:00.126828</td>\n",
       "      <td>1228982273563226229</td>\n",
       "      <td>1</td>\n",
       "      <td>1</td>\n",
       "      <td>2019-04-18</td>\n",
       "      <td>1</td>\n",
       "    </tr>\n",
       "    <tr>\n",
       "      <th>24607726</th>\n",
       "      <td>00:00:00.132510</td>\n",
       "      <td>4123059034628125459</td>\n",
       "      <td>1</td>\n",
       "      <td>8</td>\n",
       "      <td>2019-04-18</td>\n",
       "      <td>1</td>\n",
       "    </tr>\n",
       "  </tbody>\n",
       "</table>\n",
       "</div>"
      ],
      "text/plain": [
       "                    date            device_id  ref_type_id  source_id  \\\n",
       "10129864 00:00:00.015050  1826643666390887030            7          0   \n",
       "25285906 00:00:00.029014  7037174172278258682            1          0   \n",
       "3946062  00:00:00.057540  3392065368947589877            1          1   \n",
       "3946063  00:00:00.126828  1228982273563226229            1          1   \n",
       "24607726 00:00:00.132510  4123059034628125459            1          8   \n",
       "\n",
       "         fechaInicial  sum  \n",
       "10129864   2019-04-18    1  \n",
       "25285906   2019-04-18    1  \n",
       "3946062    2019-04-18    1  \n",
       "3946063    2019-04-18    1  \n",
       "24607726   2019-04-18    1  "
      ]
     },
     "execution_count": 31,
     "metadata": {},
     "output_type": "execute_result"
    }
   ],
   "source": [
    "auctionsVentanaUno.head()"
   ]
  },
  {
   "cell_type": "markdown",
   "metadata": {},
   "source": [
    "### Para poder usar el modelo de Cox, necesitamos una cantidad de segundos."
   ]
  },
  {
   "cell_type": "code",
   "execution_count": 32,
   "metadata": {},
   "outputs": [],
   "source": [
    "auctionsVentanaUno[\"date\"] = auctionsVentanaUno[\"date\"].dt.total_seconds()\n",
    "auctionsVentanaDos[\"date\"] = auctionsVentanaDos[\"date\"].dt.total_seconds()\n",
    "auctionsVentanaTres[\"date\"] = auctionsVentanaTres[\"date\"].dt.total_seconds()\n",
    "auctionsVentanaCuatro[\"date\"] = auctionsVentanaCuatro[\"date\"].dt.total_seconds()\n",
    "auctionsVentanaCinco[\"date\"] = auctionsVentanaCinco[\"date\"].dt.total_seconds()"
   ]
  },
  {
   "cell_type": "code",
   "execution_count": 33,
   "metadata": {},
   "outputs": [
    {
     "data": {
      "text/html": [
       "<div>\n",
       "<style scoped>\n",
       "    .dataframe tbody tr th:only-of-type {\n",
       "        vertical-align: middle;\n",
       "    }\n",
       "\n",
       "    .dataframe tbody tr th {\n",
       "        vertical-align: top;\n",
       "    }\n",
       "\n",
       "    .dataframe thead th {\n",
       "        text-align: right;\n",
       "    }\n",
       "</style>\n",
       "<table border=\"1\" class=\"dataframe\">\n",
       "  <thead>\n",
       "    <tr style=\"text-align: right;\">\n",
       "      <th></th>\n",
       "      <th>date</th>\n",
       "      <th>device_id</th>\n",
       "      <th>ref_type_id</th>\n",
       "      <th>source_id</th>\n",
       "      <th>fechaInicial</th>\n",
       "      <th>sum</th>\n",
       "    </tr>\n",
       "  </thead>\n",
       "  <tbody>\n",
       "    <tr>\n",
       "      <th>10129864</th>\n",
       "      <td>0.015050</td>\n",
       "      <td>1826643666390887030</td>\n",
       "      <td>7</td>\n",
       "      <td>0</td>\n",
       "      <td>2019-04-18</td>\n",
       "      <td>1</td>\n",
       "    </tr>\n",
       "    <tr>\n",
       "      <th>25285906</th>\n",
       "      <td>0.029014</td>\n",
       "      <td>7037174172278258682</td>\n",
       "      <td>1</td>\n",
       "      <td>0</td>\n",
       "      <td>2019-04-18</td>\n",
       "      <td>1</td>\n",
       "    </tr>\n",
       "    <tr>\n",
       "      <th>3946062</th>\n",
       "      <td>0.057540</td>\n",
       "      <td>3392065368947589877</td>\n",
       "      <td>1</td>\n",
       "      <td>1</td>\n",
       "      <td>2019-04-18</td>\n",
       "      <td>1</td>\n",
       "    </tr>\n",
       "    <tr>\n",
       "      <th>3946063</th>\n",
       "      <td>0.126828</td>\n",
       "      <td>1228982273563226229</td>\n",
       "      <td>1</td>\n",
       "      <td>1</td>\n",
       "      <td>2019-04-18</td>\n",
       "      <td>1</td>\n",
       "    </tr>\n",
       "    <tr>\n",
       "      <th>24607726</th>\n",
       "      <td>0.132510</td>\n",
       "      <td>4123059034628125459</td>\n",
       "      <td>1</td>\n",
       "      <td>8</td>\n",
       "      <td>2019-04-18</td>\n",
       "      <td>1</td>\n",
       "    </tr>\n",
       "  </tbody>\n",
       "</table>\n",
       "</div>"
      ],
      "text/plain": [
       "              date            device_id  ref_type_id  source_id fechaInicial  \\\n",
       "10129864  0.015050  1826643666390887030            7          0   2019-04-18   \n",
       "25285906  0.029014  7037174172278258682            1          0   2019-04-18   \n",
       "3946062   0.057540  3392065368947589877            1          1   2019-04-18   \n",
       "3946063   0.126828  1228982273563226229            1          1   2019-04-18   \n",
       "24607726  0.132510  4123059034628125459            1          8   2019-04-18   \n",
       "\n",
       "          sum  \n",
       "10129864    1  \n",
       "25285906    1  \n",
       "3946062     1  \n",
       "3946063     1  \n",
       "24607726    1  "
      ]
     },
     "execution_count": 33,
     "metadata": {},
     "output_type": "execute_result"
    }
   ],
   "source": [
    "auctionsVentanaUno.head()"
   ]
  },
  {
   "cell_type": "markdown",
   "metadata": {},
   "source": [
    "### Se sacan datos que son iguales para todas las columnas y que no sirven."
   ]
  },
  {
   "cell_type": "code",
   "execution_count": 34,
   "metadata": {},
   "outputs": [],
   "source": [
    "auctionsVentanaUno.drop(columns = ['fechaInicial', 'sum'], inplace = True)\n",
    "auctionsVentanaDos.drop(columns = ['fechaInicial', 'sum'], inplace = True)\n",
    "auctionsVentanaTres.drop(columns = ['fechaInicial', 'sum'], inplace = True)\n",
    "auctionsVentanaCuatro.drop(columns = ['fechaInicial', 'sum'], inplace = True)\n",
    "auctionsVentanaCinco.drop(columns = ['fechaInicial', 'sum'], inplace = True)"
   ]
  },
  {
   "cell_type": "markdown",
   "metadata": {},
   "source": [
    "### Se podrá usar el modelo de fitting de Cox una vez que estaran encodeadas las variables. Tampoco podemos hacer una regresion con el valor de *device_id*, eso no tiene sentido. Lo que necesitamos hacer es bajarlo del dataset que sirve para la regresion (una vez que lo hemos usado par joinear con los datos que nos interesan).\n",
    "\n",
    "### Los datos categoricales deben ser codificados con el uso de get_dummies(), para que aparezcan como label de columnas con 0 y 1 adentro."
   ]
  },
  {
   "cell_type": "code",
   "execution_count": 35,
   "metadata": {},
   "outputs": [],
   "source": [
    "dummies_ref_type_idVentanaUno = pd.get_dummies(auctionsVentanaUno['ref_type_id'], prefix = 'ref_type_id')\n",
    "dummies_ref_type_idVentanaDos = pd.get_dummies(auctionsVentanaDos['ref_type_id'], prefix = 'ref_type_id')\n",
    "dummies_ref_type_idVentanaTres = pd.get_dummies(auctionsVentanaTres['ref_type_id'], prefix = 'ref_type_id')\n",
    "dummies_ref_type_idVentanaCuatro = pd.get_dummies(auctionsVentanaCuatro['ref_type_id'], prefix = 'ref_type_id')\n",
    "dummies_ref_type_idVentanaCinco = pd.get_dummies(auctionsVentanaCinco['ref_type_id'], prefix = 'ref_type_id')"
   ]
  },
  {
   "cell_type": "code",
   "execution_count": 36,
   "metadata": {},
   "outputs": [],
   "source": [
    "dummies_source_idVentanaUno = pd.get_dummies(auctionsVentanaUno['source_id'], prefix = 'source_id')\n",
    "dummies_source_idVentanaDos = pd.get_dummies(auctionsVentanaDos['source_id'], prefix = 'source_id')\n",
    "dummies_source_idVentanaTres = pd.get_dummies(auctionsVentanaTres['source_id'], prefix = 'source_id')\n",
    "dummies_source_idVentanaCuatro = pd.get_dummies(auctionsVentanaCuatro['source_id'], prefix = 'source_id')\n",
    "dummies_source_idVentanaCinco = pd.get_dummies(auctionsVentanaCinco['source_id'], prefix = 'source_id')"
   ]
  },
  {
   "cell_type": "code",
   "execution_count": 37,
   "metadata": {},
   "outputs": [],
   "source": [
    "auctionsVentanaUno = pd.concat([auctionsVentanaUno, dummies_ref_type_idVentanaUno, dummies_source_idVentanaUno], axis = 1)"
   ]
  },
  {
   "cell_type": "code",
   "execution_count": 39,
   "metadata": {},
   "outputs": [],
   "source": [
    "auctionsVentanaDos = pd.concat([auctionsVentanaDos, dummies_ref_type_idVentanaDos, dummies_source_idVentanaDos], axis = 1)\n",
    "auctionsVentanaTres = pd.concat([auctionsVentanaTres, dummies_ref_type_idVentanaTres, dummies_source_idVentanaTres], axis = 1)\n",
    "auctionsVentanaCuatro = pd.concat([auctionsVentanaCuatro, dummies_ref_type_idVentanaCuatro, dummies_source_idVentanaCuatro], axis = 1)\n",
    "auctionsVentanaCinco = pd.concat([auctionsVentanaCinco, dummies_ref_type_idVentanaCinco, dummies_source_idVentanaCinco], axis = 1)"
   ]
  },
  {
   "cell_type": "code",
   "execution_count": 38,
   "metadata": {},
   "outputs": [
    {
     "data": {
      "text/html": [
       "<div>\n",
       "<style scoped>\n",
       "    .dataframe tbody tr th:only-of-type {\n",
       "        vertical-align: middle;\n",
       "    }\n",
       "\n",
       "    .dataframe tbody tr th {\n",
       "        vertical-align: top;\n",
       "    }\n",
       "\n",
       "    .dataframe thead th {\n",
       "        text-align: right;\n",
       "    }\n",
       "</style>\n",
       "<table border=\"1\" class=\"dataframe\">\n",
       "  <thead>\n",
       "    <tr style=\"text-align: right;\">\n",
       "      <th></th>\n",
       "      <th>date</th>\n",
       "      <th>device_id</th>\n",
       "      <th>ref_type_id</th>\n",
       "      <th>source_id</th>\n",
       "      <th>ref_type_id_1</th>\n",
       "      <th>ref_type_id_7</th>\n",
       "      <th>source_id_0</th>\n",
       "      <th>source_id_1</th>\n",
       "      <th>source_id_2</th>\n",
       "      <th>source_id_3</th>\n",
       "      <th>source_id_4</th>\n",
       "      <th>source_id_5</th>\n",
       "      <th>source_id_6</th>\n",
       "      <th>source_id_7</th>\n",
       "      <th>source_id_8</th>\n",
       "      <th>source_id_9</th>\n",
       "    </tr>\n",
       "  </thead>\n",
       "  <tbody>\n",
       "    <tr>\n",
       "      <th>10129864</th>\n",
       "      <td>0.015050</td>\n",
       "      <td>1826643666390887030</td>\n",
       "      <td>7</td>\n",
       "      <td>0</td>\n",
       "      <td>0</td>\n",
       "      <td>1</td>\n",
       "      <td>1</td>\n",
       "      <td>0</td>\n",
       "      <td>0</td>\n",
       "      <td>0</td>\n",
       "      <td>0</td>\n",
       "      <td>0</td>\n",
       "      <td>0</td>\n",
       "      <td>0</td>\n",
       "      <td>0</td>\n",
       "      <td>0</td>\n",
       "    </tr>\n",
       "    <tr>\n",
       "      <th>25285906</th>\n",
       "      <td>0.029014</td>\n",
       "      <td>7037174172278258682</td>\n",
       "      <td>1</td>\n",
       "      <td>0</td>\n",
       "      <td>1</td>\n",
       "      <td>0</td>\n",
       "      <td>1</td>\n",
       "      <td>0</td>\n",
       "      <td>0</td>\n",
       "      <td>0</td>\n",
       "      <td>0</td>\n",
       "      <td>0</td>\n",
       "      <td>0</td>\n",
       "      <td>0</td>\n",
       "      <td>0</td>\n",
       "      <td>0</td>\n",
       "    </tr>\n",
       "    <tr>\n",
       "      <th>3946062</th>\n",
       "      <td>0.057540</td>\n",
       "      <td>3392065368947589877</td>\n",
       "      <td>1</td>\n",
       "      <td>1</td>\n",
       "      <td>1</td>\n",
       "      <td>0</td>\n",
       "      <td>0</td>\n",
       "      <td>1</td>\n",
       "      <td>0</td>\n",
       "      <td>0</td>\n",
       "      <td>0</td>\n",
       "      <td>0</td>\n",
       "      <td>0</td>\n",
       "      <td>0</td>\n",
       "      <td>0</td>\n",
       "      <td>0</td>\n",
       "    </tr>\n",
       "    <tr>\n",
       "      <th>3946063</th>\n",
       "      <td>0.126828</td>\n",
       "      <td>1228982273563226229</td>\n",
       "      <td>1</td>\n",
       "      <td>1</td>\n",
       "      <td>1</td>\n",
       "      <td>0</td>\n",
       "      <td>0</td>\n",
       "      <td>1</td>\n",
       "      <td>0</td>\n",
       "      <td>0</td>\n",
       "      <td>0</td>\n",
       "      <td>0</td>\n",
       "      <td>0</td>\n",
       "      <td>0</td>\n",
       "      <td>0</td>\n",
       "      <td>0</td>\n",
       "    </tr>\n",
       "    <tr>\n",
       "      <th>24607726</th>\n",
       "      <td>0.132510</td>\n",
       "      <td>4123059034628125459</td>\n",
       "      <td>1</td>\n",
       "      <td>8</td>\n",
       "      <td>1</td>\n",
       "      <td>0</td>\n",
       "      <td>0</td>\n",
       "      <td>0</td>\n",
       "      <td>0</td>\n",
       "      <td>0</td>\n",
       "      <td>0</td>\n",
       "      <td>0</td>\n",
       "      <td>0</td>\n",
       "      <td>0</td>\n",
       "      <td>1</td>\n",
       "      <td>0</td>\n",
       "    </tr>\n",
       "  </tbody>\n",
       "</table>\n",
       "</div>"
      ],
      "text/plain": [
       "              date            device_id  ref_type_id  source_id  \\\n",
       "10129864  0.015050  1826643666390887030            7          0   \n",
       "25285906  0.029014  7037174172278258682            1          0   \n",
       "3946062   0.057540  3392065368947589877            1          1   \n",
       "3946063   0.126828  1228982273563226229            1          1   \n",
       "24607726  0.132510  4123059034628125459            1          8   \n",
       "\n",
       "          ref_type_id_1  ref_type_id_7  source_id_0  source_id_1  source_id_2  \\\n",
       "10129864              0              1            1            0            0   \n",
       "25285906              1              0            1            0            0   \n",
       "3946062               1              0            0            1            0   \n",
       "3946063               1              0            0            1            0   \n",
       "24607726              1              0            0            0            0   \n",
       "\n",
       "          source_id_3  source_id_4  source_id_5  source_id_6  source_id_7  \\\n",
       "10129864            0            0            0            0            0   \n",
       "25285906            0            0            0            0            0   \n",
       "3946062             0            0            0            0            0   \n",
       "3946063             0            0            0            0            0   \n",
       "24607726            0            0            0            0            0   \n",
       "\n",
       "          source_id_8  source_id_9  \n",
       "10129864            0            0  \n",
       "25285906            0            0  \n",
       "3946062             0            0  \n",
       "3946063             0            0  \n",
       "24607726            1            0  "
      ]
     },
     "execution_count": 38,
     "metadata": {},
     "output_type": "execute_result"
    }
   ],
   "source": [
    "auctionsVentanaUno.head()"
   ]
  },
  {
   "cell_type": "markdown",
   "metadata": {},
   "source": [
    "### Ahora que hicimos los dummies, vamos a dejar las variables ref_type y source_id que ya estan en nuestros datasets. No bajamos los device_id todavia porque nos falta hacer los joins, pero será necesario bajarlo porque es un dato irrelevante."
   ]
  },
  {
   "cell_type": "code",
   "execution_count": 40,
   "metadata": {},
   "outputs": [],
   "source": [
    "auctionsVentanaUno.drop(columns = ['ref_type_id', 'source_id'], inplace = True)\n",
    "auctionsVentanaDos.drop(columns = ['ref_type_id', 'source_id'], inplace = True)\n",
    "auctionsVentanaTres.drop(columns = ['ref_type_id', 'source_id'], inplace = True)\n",
    "auctionsVentanaCuatro.drop(columns = ['ref_type_id', 'source_id'], inplace = True)\n",
    "auctionsVentanaCinco.drop(columns = ['ref_type_id', 'source_id'], inplace = True)"
   ]
  },
  {
   "cell_type": "code",
   "execution_count": 41,
   "metadata": {},
   "outputs": [
    {
     "data": {
      "text/html": [
       "<div>\n",
       "<style scoped>\n",
       "    .dataframe tbody tr th:only-of-type {\n",
       "        vertical-align: middle;\n",
       "    }\n",
       "\n",
       "    .dataframe tbody tr th {\n",
       "        vertical-align: top;\n",
       "    }\n",
       "\n",
       "    .dataframe thead th {\n",
       "        text-align: right;\n",
       "    }\n",
       "</style>\n",
       "<table border=\"1\" class=\"dataframe\">\n",
       "  <thead>\n",
       "    <tr style=\"text-align: right;\">\n",
       "      <th></th>\n",
       "      <th>date</th>\n",
       "      <th>device_id</th>\n",
       "      <th>ref_type_id_1</th>\n",
       "      <th>ref_type_id_7</th>\n",
       "      <th>source_id_0</th>\n",
       "      <th>source_id_1</th>\n",
       "      <th>source_id_2</th>\n",
       "      <th>source_id_3</th>\n",
       "      <th>source_id_4</th>\n",
       "      <th>source_id_5</th>\n",
       "      <th>source_id_6</th>\n",
       "      <th>source_id_7</th>\n",
       "      <th>source_id_8</th>\n",
       "      <th>source_id_9</th>\n",
       "    </tr>\n",
       "  </thead>\n",
       "  <tbody>\n",
       "    <tr>\n",
       "      <th>10129864</th>\n",
       "      <td>0.015050</td>\n",
       "      <td>1826643666390887030</td>\n",
       "      <td>0</td>\n",
       "      <td>1</td>\n",
       "      <td>1</td>\n",
       "      <td>0</td>\n",
       "      <td>0</td>\n",
       "      <td>0</td>\n",
       "      <td>0</td>\n",
       "      <td>0</td>\n",
       "      <td>0</td>\n",
       "      <td>0</td>\n",
       "      <td>0</td>\n",
       "      <td>0</td>\n",
       "    </tr>\n",
       "    <tr>\n",
       "      <th>25285906</th>\n",
       "      <td>0.029014</td>\n",
       "      <td>7037174172278258682</td>\n",
       "      <td>1</td>\n",
       "      <td>0</td>\n",
       "      <td>1</td>\n",
       "      <td>0</td>\n",
       "      <td>0</td>\n",
       "      <td>0</td>\n",
       "      <td>0</td>\n",
       "      <td>0</td>\n",
       "      <td>0</td>\n",
       "      <td>0</td>\n",
       "      <td>0</td>\n",
       "      <td>0</td>\n",
       "    </tr>\n",
       "    <tr>\n",
       "      <th>3946062</th>\n",
       "      <td>0.057540</td>\n",
       "      <td>3392065368947589877</td>\n",
       "      <td>1</td>\n",
       "      <td>0</td>\n",
       "      <td>0</td>\n",
       "      <td>1</td>\n",
       "      <td>0</td>\n",
       "      <td>0</td>\n",
       "      <td>0</td>\n",
       "      <td>0</td>\n",
       "      <td>0</td>\n",
       "      <td>0</td>\n",
       "      <td>0</td>\n",
       "      <td>0</td>\n",
       "    </tr>\n",
       "    <tr>\n",
       "      <th>3946063</th>\n",
       "      <td>0.126828</td>\n",
       "      <td>1228982273563226229</td>\n",
       "      <td>1</td>\n",
       "      <td>0</td>\n",
       "      <td>0</td>\n",
       "      <td>1</td>\n",
       "      <td>0</td>\n",
       "      <td>0</td>\n",
       "      <td>0</td>\n",
       "      <td>0</td>\n",
       "      <td>0</td>\n",
       "      <td>0</td>\n",
       "      <td>0</td>\n",
       "      <td>0</td>\n",
       "    </tr>\n",
       "    <tr>\n",
       "      <th>24607726</th>\n",
       "      <td>0.132510</td>\n",
       "      <td>4123059034628125459</td>\n",
       "      <td>1</td>\n",
       "      <td>0</td>\n",
       "      <td>0</td>\n",
       "      <td>0</td>\n",
       "      <td>0</td>\n",
       "      <td>0</td>\n",
       "      <td>0</td>\n",
       "      <td>0</td>\n",
       "      <td>0</td>\n",
       "      <td>0</td>\n",
       "      <td>1</td>\n",
       "      <td>0</td>\n",
       "    </tr>\n",
       "  </tbody>\n",
       "</table>\n",
       "</div>"
      ],
      "text/plain": [
       "              date            device_id  ref_type_id_1  ref_type_id_7  \\\n",
       "10129864  0.015050  1826643666390887030              0              1   \n",
       "25285906  0.029014  7037174172278258682              1              0   \n",
       "3946062   0.057540  3392065368947589877              1              0   \n",
       "3946063   0.126828  1228982273563226229              1              0   \n",
       "24607726  0.132510  4123059034628125459              1              0   \n",
       "\n",
       "          source_id_0  source_id_1  source_id_2  source_id_3  source_id_4  \\\n",
       "10129864            1            0            0            0            0   \n",
       "25285906            1            0            0            0            0   \n",
       "3946062             0            1            0            0            0   \n",
       "3946063             0            1            0            0            0   \n",
       "24607726            0            0            0            0            0   \n",
       "\n",
       "          source_id_5  source_id_6  source_id_7  source_id_8  source_id_9  \n",
       "10129864            0            0            0            0            0  \n",
       "25285906            0            0            0            0            0  \n",
       "3946062             0            0            0            0            0  \n",
       "3946063             0            0            0            0            0  \n",
       "24607726            0            0            0            1            0  "
      ]
     },
     "execution_count": 41,
     "metadata": {},
     "output_type": "execute_result"
    }
   ],
   "source": [
    "auctionsVentanaUno.head()"
   ]
  },
  {
   "cell_type": "markdown",
   "metadata": {},
   "source": [
    "### Ahora nos ponemos a hacer un primer fit con Cox, para cer si los datos de ref_type y de source_id nos indican algo relevante para predecir la aparicion (aunque esta mal tener device_id todavia)"
   ]
  },
  {
   "cell_type": "code",
   "execution_count": 43,
   "metadata": {},
   "outputs": [
    {
     "name": "stderr",
     "output_type": "stream",
     "text": [
      "/Users/yorickvinesse/anaconda3/lib/python3.7/site-packages/lifelines/utils/__init__.py:945: ConvergenceWarning: Column(s) ['source_id_9'] have very low variance. This may harm convergence. Try dropping this redundant column before fitting if convergence fails.\n",
      "  warnings.warn(warning_text, ConvergenceWarning)\n"
     ]
    },
    {
     "name": "stdout",
     "output_type": "stream",
     "text": [
      "Iteration 5: norm_delta = 0.00000, step_size = 1.0000, ll = -3714565.06564, newton_decrement = 0.00000, seconds_since_start = 104.0Convergence completed after 5 iterations.\n"
     ]
    },
    {
     "data": {
      "text/plain": [
       "<lifelines.CoxPHFitter: fitted with 318325 observations, 0 censored>"
      ]
     },
     "execution_count": 43,
     "metadata": {},
     "output_type": "execute_result"
    }
   ],
   "source": [
    "cph = lifelines.CoxPHFitter(penalizer = 0.1)\n",
    "cph.fit(auctionsVentanaUno, duration_col='date', show_progress=True)"
   ]
  },
  {
   "cell_type": "code",
   "execution_count": 44,
   "metadata": {},
   "outputs": [
    {
     "name": "stdout",
     "output_type": "stream",
     "text": [
      "<lifelines.CoxPHFitter: fitted with 318325 observations, 0 censored>\n",
      "      duration col = 'date'\n",
      "         penalizer = 0.1\n",
      "number of subjects = 318325\n",
      "  number of events = 318325\n",
      "partial log-likelihood = -3714565.07\n",
      "  time fit was run = 2019-06-19 20:22:53 UTC\n",
      "\n",
      "---\n",
      "               coef exp(coef)  se(coef)     z    p  -log2(p)  lower 0.95  upper 0.95\n",
      "device_id     -0.00      1.00      0.00 -1.32 0.19      2.43       -0.00        0.00\n",
      "ref_type_id_1  0.02      1.02      6.20  0.00 1.00      0.00      -12.12       12.17\n",
      "ref_type_id_7 -0.02      0.98      6.20 -0.00 1.00      0.00      -12.17       12.12\n",
      "source_id_0   -0.02      0.98      3.66 -0.00 1.00      0.00       -7.18        7.15\n",
      "source_id_1    0.05      1.05      3.66  0.01 0.99      0.02       -7.12        7.22\n",
      "source_id_2   -0.09      0.91      3.66 -0.03 0.98      0.03       -7.26        7.08\n",
      "source_id_3    0.02      1.02      3.66  0.01 0.99      0.01       -7.14        7.19\n",
      "source_id_4   -0.06      0.94      3.66 -0.02 0.99      0.02       -7.23        7.11\n",
      "source_id_5   -0.29      0.75      3.66 -0.08 0.94      0.09       -7.46        6.88\n",
      "source_id_6    0.06      1.06      3.66  0.02 0.99      0.02       -7.11        7.23\n",
      "source_id_7   -0.02      0.98      3.66 -0.01 1.00      0.01       -7.19        7.15\n",
      "source_id_8   -0.09      0.92      3.66 -0.02 0.98      0.03       -7.26        7.08\n",
      "source_id_9   -0.43      0.65      3.66 -0.12 0.91      0.14       -7.61        6.75\n",
      "---\n",
      "Concordance = 0.52\n",
      "Log-likelihood ratio test = 1117.12 on 13 df, -log2(p)=763.80\n"
     ]
    }
   ],
   "source": [
    "cph.print_summary()"
   ]
  },
  {
   "cell_type": "markdown",
   "metadata": {},
   "source": [
    "### La dicumentación de Lifelines indica que un indice de concordance de 0.52 no es suficiente para decir que el fit estuvo bueno. 0.5 es un indice para una predicción random, y se considera que el fit esta bueno cuando este entre 0.55 y 0.75\n",
    "\n",
    "### Agregaremos más parámetros haciendo joins para ver si se puede hacer un mejor fit.\n",
    "\n",
    "\n",
    "\n",
    "\n",
    "\n",
    "\n",
    "# A partir de acá, no tomar en cuenta, son pruebas por mi lado."
   ]
  },
  {
   "cell_type": "code",
   "execution_count": 88,
   "metadata": {},
   "outputs": [
    {
     "data": {
      "text/plain": [
       "array([nan, 'Cellular', 'Cable/DSL', 'Dialup', 'Corporate'], dtype=object)"
      ]
     },
     "execution_count": 88,
     "metadata": {},
     "output_type": "execute_result"
    }
   ],
   "source": [
    "events.connection_type.unique()"
   ]
  },
  {
   "cell_type": "code",
   "execution_count": 92,
   "metadata": {},
   "outputs": [],
   "source": [
    "lista_advertiser_id = clicks.advertiser_id.unique()"
   ]
  },
  {
   "cell_type": "code",
   "execution_count": 95,
   "metadata": {},
   "outputs": [
    {
     "data": {
      "text/plain": [
       "array([1, 0, 2, 3, 4])"
      ]
     },
     "execution_count": 95,
     "metadata": {},
     "output_type": "execute_result"
    }
   ],
   "source": [
    "lista_advertiser_id"
   ]
  },
  {
   "cell_type": "markdown",
   "metadata": {},
   "source": [
    "## Selección de las ventanas de tres días sobre las cuales se adaptaron los modelos.\n",
    "\n",
    "Primero lo hacemos con los eventos."
   ]
  },
  {
   "cell_type": "code",
   "execution_count": 35,
   "metadata": {},
   "outputs": [],
   "source": [
    "eventsVentanaUno = events.loc[(events['date'] < \"2019-04-21\")]\n",
    "eventsVentanaUno = eventsVentanaUno.loc[(events['date'] > \"2019-04-18\")]"
   ]
  },
  {
   "cell_type": "code",
   "execution_count": 36,
   "metadata": {},
   "outputs": [
    {
     "data": {
      "text/html": [
       "<div>\n",
       "<style scoped>\n",
       "    .dataframe tbody tr th:only-of-type {\n",
       "        vertical-align: middle;\n",
       "    }\n",
       "\n",
       "    .dataframe tbody tr th {\n",
       "        vertical-align: top;\n",
       "    }\n",
       "\n",
       "    .dataframe thead th {\n",
       "        text-align: right;\n",
       "    }\n",
       "</style>\n",
       "<table border=\"1\" class=\"dataframe\">\n",
       "  <thead>\n",
       "    <tr style=\"text-align: right;\">\n",
       "      <th></th>\n",
       "      <th>index</th>\n",
       "      <th>event_id</th>\n",
       "      <th>ref_type</th>\n",
       "      <th>ref_hash</th>\n",
       "      <th>application_id</th>\n",
       "      <th>device_countrycode</th>\n",
       "      <th>device_os_version</th>\n",
       "      <th>device_brand</th>\n",
       "      <th>device_model</th>\n",
       "      <th>device_city</th>\n",
       "      <th>session_user_agent</th>\n",
       "      <th>user_agent</th>\n",
       "      <th>carrier</th>\n",
       "      <th>kind</th>\n",
       "      <th>device_os</th>\n",
       "      <th>ip_address</th>\n",
       "      <th>device_language</th>\n",
       "    </tr>\n",
       "  </thead>\n",
       "  <tbody>\n",
       "    <tr>\n",
       "      <th>count</th>\n",
       "      <td>2.261451e+06</td>\n",
       "      <td>2.261451e+06</td>\n",
       "      <td>2.261451e+06</td>\n",
       "      <td>2.261451e+06</td>\n",
       "      <td>2.261451e+06</td>\n",
       "      <td>2.261451e+06</td>\n",
       "      <td>6.225520e+05</td>\n",
       "      <td>7.822200e+05</td>\n",
       "      <td>1.635481e+06</td>\n",
       "      <td>5.036680e+05</td>\n",
       "      <td>2.249034e+06</td>\n",
       "      <td>1.014075e+06</td>\n",
       "      <td>5.143710e+05</td>\n",
       "      <td>2.253036e+06</td>\n",
       "      <td>4.774240e+05</td>\n",
       "      <td>2.261451e+06</td>\n",
       "      <td>1.636247e+06</td>\n",
       "    </tr>\n",
       "    <tr>\n",
       "      <th>mean</th>\n",
       "      <td>3.547148e+05</td>\n",
       "      <td>6.129488e+01</td>\n",
       "      <td>1.822631e+18</td>\n",
       "      <td>4.587355e+18</td>\n",
       "      <td>1.350960e+02</td>\n",
       "      <td>6.287817e+18</td>\n",
       "      <td>6.400796e+18</td>\n",
       "      <td>3.094036e+18</td>\n",
       "      <td>5.108344e+18</td>\n",
       "      <td>4.346932e+18</td>\n",
       "      <td>4.685938e+18</td>\n",
       "      <td>4.908450e+18</td>\n",
       "      <td>7.081189e+18</td>\n",
       "      <td>5.276299e+18</td>\n",
       "      <td>7.487113e+18</td>\n",
       "      <td>4.582120e+18</td>\n",
       "      <td>5.459445e+18</td>\n",
       "    </tr>\n",
       "    <tr>\n",
       "      <th>std</th>\n",
       "      <td>5.529223e+05</td>\n",
       "      <td>8.860274e+01</td>\n",
       "      <td>1.503389e+17</td>\n",
       "      <td>2.656761e+18</td>\n",
       "      <td>7.416130e+01</td>\n",
       "      <td>1.917481e+08</td>\n",
       "      <td>2.456183e+18</td>\n",
       "      <td>2.460385e+18</td>\n",
       "      <td>2.416463e+18</td>\n",
       "      <td>2.024442e+18</td>\n",
       "      <td>1.584493e+18</td>\n",
       "      <td>2.840782e+18</td>\n",
       "      <td>2.496161e+18</td>\n",
       "      <td>1.754932e+18</td>\n",
       "      <td>1.558717e+17</td>\n",
       "      <td>2.652743e+18</td>\n",
       "      <td>1.975349e+18</td>\n",
       "    </tr>\n",
       "    <tr>\n",
       "      <th>min</th>\n",
       "      <td>0.000000e+00</td>\n",
       "      <td>0.000000e+00</td>\n",
       "      <td>1.494519e+18</td>\n",
       "      <td>4.186353e+13</td>\n",
       "      <td>1.000000e+00</td>\n",
       "      <td>6.287817e+18</td>\n",
       "      <td>1.004084e+16</td>\n",
       "      <td>4.359146e+15</td>\n",
       "      <td>2.817426e+15</td>\n",
       "      <td>6.480067e+15</td>\n",
       "      <td>2.597219e+15</td>\n",
       "      <td>5.046382e+14</td>\n",
       "      <td>1.925158e+17</td>\n",
       "      <td>2.129368e+16</td>\n",
       "      <td>6.941825e+18</td>\n",
       "      <td>1.367256e+14</td>\n",
       "      <td>9.569587e+16</td>\n",
       "    </tr>\n",
       "    <tr>\n",
       "      <th>25%</th>\n",
       "      <td>4.104300e+04</td>\n",
       "      <td>2.000000e+00</td>\n",
       "      <td>1.891515e+18</td>\n",
       "      <td>2.298115e+18</td>\n",
       "      <td>6.500000e+01</td>\n",
       "      <td>6.287817e+18</td>\n",
       "      <td>4.821386e+18</td>\n",
       "      <td>3.083059e+17</td>\n",
       "      <td>3.134978e+18</td>\n",
       "      <td>3.844989e+18</td>\n",
       "      <td>3.819516e+18</td>\n",
       "      <td>2.320571e+18</td>\n",
       "      <td>6.647944e+18</td>\n",
       "      <td>4.017674e+18</td>\n",
       "      <td>7.531669e+18</td>\n",
       "      <td>2.270091e+18</td>\n",
       "      <td>3.301378e+18</td>\n",
       "    </tr>\n",
       "    <tr>\n",
       "      <th>50%</th>\n",
       "      <td>1.058640e+05</td>\n",
       "      <td>1.500000e+01</td>\n",
       "      <td>1.891515e+18</td>\n",
       "      <td>4.539577e+18</td>\n",
       "      <td>1.220000e+02</td>\n",
       "      <td>6.287817e+18</td>\n",
       "      <td>7.391844e+18</td>\n",
       "      <td>2.208835e+18</td>\n",
       "      <td>5.297715e+18</td>\n",
       "      <td>4.007929e+18</td>\n",
       "      <td>3.819516e+18</td>\n",
       "      <td>4.933865e+18</td>\n",
       "      <td>8.707893e+18</td>\n",
       "      <td>5.500848e+18</td>\n",
       "      <td>7.531669e+18</td>\n",
       "      <td>4.588475e+18</td>\n",
       "      <td>6.977049e+18</td>\n",
       "    </tr>\n",
       "    <tr>\n",
       "      <th>75%</th>\n",
       "      <td>3.259085e+05</td>\n",
       "      <td>1.150000e+02</td>\n",
       "      <td>1.891515e+18</td>\n",
       "      <td>6.869993e+18</td>\n",
       "      <td>2.100000e+02</td>\n",
       "      <td>6.287817e+18</td>\n",
       "      <td>8.218260e+18</td>\n",
       "      <td>6.115026e+18</td>\n",
       "      <td>6.794880e+18</td>\n",
       "      <td>5.320469e+18</td>\n",
       "      <td>5.907387e+18</td>\n",
       "      <td>7.683619e+18</td>\n",
       "      <td>8.758763e+18</td>\n",
       "      <td>6.123834e+18</td>\n",
       "      <td>7.531669e+18</td>\n",
       "      <td>6.845889e+18</td>\n",
       "      <td>6.977049e+18</td>\n",
       "    </tr>\n",
       "    <tr>\n",
       "      <th>max</th>\n",
       "      <td>2.619098e+06</td>\n",
       "      <td>5.760000e+02</td>\n",
       "      <td>1.891515e+18</td>\n",
       "      <td>9.223315e+18</td>\n",
       "      <td>3.670000e+02</td>\n",
       "      <td>6.287817e+18</td>\n",
       "      <td>9.135482e+18</td>\n",
       "      <td>9.221511e+18</td>\n",
       "      <td>9.223357e+18</td>\n",
       "      <td>9.221371e+18</td>\n",
       "      <td>9.210386e+18</td>\n",
       "      <td>9.222756e+18</td>\n",
       "      <td>9.053638e+18</td>\n",
       "      <td>9.220024e+18</td>\n",
       "      <td>7.531669e+18</td>\n",
       "      <td>9.223350e+18</td>\n",
       "      <td>9.177844e+18</td>\n",
       "    </tr>\n",
       "  </tbody>\n",
       "</table>\n",
       "</div>"
      ],
      "text/plain": [
       "              index      event_id      ref_type      ref_hash  application_id  \\\n",
       "count  2.261451e+06  2.261451e+06  2.261451e+06  2.261451e+06    2.261451e+06   \n",
       "mean   3.547148e+05  6.129488e+01  1.822631e+18  4.587355e+18    1.350960e+02   \n",
       "std    5.529223e+05  8.860274e+01  1.503389e+17  2.656761e+18    7.416130e+01   \n",
       "min    0.000000e+00  0.000000e+00  1.494519e+18  4.186353e+13    1.000000e+00   \n",
       "25%    4.104300e+04  2.000000e+00  1.891515e+18  2.298115e+18    6.500000e+01   \n",
       "50%    1.058640e+05  1.500000e+01  1.891515e+18  4.539577e+18    1.220000e+02   \n",
       "75%    3.259085e+05  1.150000e+02  1.891515e+18  6.869993e+18    2.100000e+02   \n",
       "max    2.619098e+06  5.760000e+02  1.891515e+18  9.223315e+18    3.670000e+02   \n",
       "\n",
       "       device_countrycode  device_os_version  device_brand  device_model  \\\n",
       "count        2.261451e+06       6.225520e+05  7.822200e+05  1.635481e+06   \n",
       "mean         6.287817e+18       6.400796e+18  3.094036e+18  5.108344e+18   \n",
       "std          1.917481e+08       2.456183e+18  2.460385e+18  2.416463e+18   \n",
       "min          6.287817e+18       1.004084e+16  4.359146e+15  2.817426e+15   \n",
       "25%          6.287817e+18       4.821386e+18  3.083059e+17  3.134978e+18   \n",
       "50%          6.287817e+18       7.391844e+18  2.208835e+18  5.297715e+18   \n",
       "75%          6.287817e+18       8.218260e+18  6.115026e+18  6.794880e+18   \n",
       "max          6.287817e+18       9.135482e+18  9.221511e+18  9.223357e+18   \n",
       "\n",
       "        device_city  session_user_agent    user_agent       carrier  \\\n",
       "count  5.036680e+05        2.249034e+06  1.014075e+06  5.143710e+05   \n",
       "mean   4.346932e+18        4.685938e+18  4.908450e+18  7.081189e+18   \n",
       "std    2.024442e+18        1.584493e+18  2.840782e+18  2.496161e+18   \n",
       "min    6.480067e+15        2.597219e+15  5.046382e+14  1.925158e+17   \n",
       "25%    3.844989e+18        3.819516e+18  2.320571e+18  6.647944e+18   \n",
       "50%    4.007929e+18        3.819516e+18  4.933865e+18  8.707893e+18   \n",
       "75%    5.320469e+18        5.907387e+18  7.683619e+18  8.758763e+18   \n",
       "max    9.221371e+18        9.210386e+18  9.222756e+18  9.053638e+18   \n",
       "\n",
       "               kind     device_os    ip_address  device_language  \n",
       "count  2.253036e+06  4.774240e+05  2.261451e+06     1.636247e+06  \n",
       "mean   5.276299e+18  7.487113e+18  4.582120e+18     5.459445e+18  \n",
       "std    1.754932e+18  1.558717e+17  2.652743e+18     1.975349e+18  \n",
       "min    2.129368e+16  6.941825e+18  1.367256e+14     9.569587e+16  \n",
       "25%    4.017674e+18  7.531669e+18  2.270091e+18     3.301378e+18  \n",
       "50%    5.500848e+18  7.531669e+18  4.588475e+18     6.977049e+18  \n",
       "75%    6.123834e+18  7.531669e+18  6.845889e+18     6.977049e+18  \n",
       "max    9.220024e+18  7.531669e+18  9.223350e+18     9.177844e+18  "
      ]
     },
     "execution_count": 36,
     "metadata": {},
     "output_type": "execute_result"
    }
   ],
   "source": [
    "eventsVentanaUno.describe()"
   ]
  },
  {
   "cell_type": "code",
   "execution_count": 37,
   "metadata": {},
   "outputs": [],
   "source": [
    "eventsVentanaDos = events.loc[(events['date'] < \"2019-04-22\")]\n",
    "eventsVentanaDos = eventsVentanaDos.loc[(events['date'] > \"2019-04-19\")]"
   ]
  },
  {
   "cell_type": "code",
   "execution_count": 38,
   "metadata": {},
   "outputs": [],
   "source": [
    "eventsVentanaTres = events.loc[(events['date'] < \"2019-04-23\")]\n",
    "eventsVentanaTres = eventsVentanaTres.loc[(events['date'] > \"2019-04-20\")]"
   ]
  },
  {
   "cell_type": "code",
   "execution_count": 39,
   "metadata": {},
   "outputs": [],
   "source": [
    "eventsVentanaCuatro = events.loc[(events['date'] < \"2019-04-24\")]\n",
    "eventsVentanaCuatro = eventsVentanaCuatro.loc[(events['date'] > \"2019-04-21\")]"
   ]
  },
  {
   "cell_type": "code",
   "execution_count": 40,
   "metadata": {},
   "outputs": [],
   "source": [
    "eventsVentanaCinco = events.loc[(events['date'] < \"2019-04-25\")]\n",
    "eventsVentanaCinco = eventsVentanaCinco.loc[(events['date'] > \"2019-04-22\")]"
   ]
  },
  {
   "cell_type": "code",
   "execution_count": 42,
   "metadata": {},
   "outputs": [
    {
     "data": {
      "text/plain": [
       "'2019-04-20 23:59:59.996'"
      ]
     },
     "execution_count": 42,
     "metadata": {},
     "output_type": "execute_result"
    }
   ],
   "source": [
    "eventsVentanaUno[\"date\"].max()"
   ]
  },
  {
   "cell_type": "code",
   "execution_count": 43,
   "metadata": {},
   "outputs": [
    {
     "data": {
      "text/plain": [
       "'2019-04-18 00:00:00.027'"
      ]
     },
     "execution_count": 43,
     "metadata": {},
     "output_type": "execute_result"
    }
   ],
   "source": [
    "eventsVentanaUno[\"date\"].min()"
   ]
  },
  {
   "cell_type": "code",
   "execution_count": 44,
   "metadata": {},
   "outputs": [],
   "source": [
    "correlations = clicks.corr()"
   ]
  },
  {
   "cell_type": "code",
   "execution_count": 45,
   "metadata": {},
   "outputs": [
    {
     "data": {
      "image/png": "[encoded data removed]",
      "text/plain": [
       "<Figure size 1080x1080 with 2 Axes>"
      ]
     },
     "metadata": {
      "needs_background": "light"
     },
     "output_type": "display_data"
    }
   ],
   "source": [
    "fig = plt.figure(figsize = (15,15))\n",
    "ax = fig.add_subplot(111)\n",
    "cax = ax.matshow(correlations, vmin=-1, vmax=1)\n",
    "fig.colorbar(cax)\n",
    "ticks = np.arange(0,16,1)\n",
    "ax.set_xticks(ticks)\n",
    "ax.set_yticks(ticks)\n",
    "ax.set_xticklabels(list(clicks))\n",
    "ax.set_yticklabels(list(clicks))\n",
    "plt.show()"
   ]
  },
  {
   "cell_type": "code",
   "execution_count": null,
   "metadata": {},
   "outputs": [],
   "source": []
  },
  {
   "cell_type": "code",
   "execution_count": null,
   "metadata": {},
   "outputs": [],
   "source": []
  },
  {
   "cell_type": "code",
   "execution_count": null,
   "metadata": {},
   "outputs": [],
   "source": []
  },
  {
   "cell_type": "code",
   "execution_count": null,
   "metadata": {},
   "outputs": [],
   "source": []
  },
  {
   "cell_type": "code",
   "execution_count": null,
   "metadata": {},
   "outputs": [],
   "source": []
  }
 ],
 "metadata": {
  "kernelspec": {
   "display_name": "Python 3",
   "language": "python",
   "name": "python3"
  },
  "language_info": {
   "codemirror_mode": {
    "name": "ipython",
    "version": 3
   },
   "file_extension": ".py",
   "mimetype": "text/x-python",
   "name": "python",
   "nbconvert_exporter": "python",
   "pygments_lexer": "ipython3",
   "version": "3.7.3"
  }
 },
 "nbformat": 4,
 "nbformat_minor": 2
}
