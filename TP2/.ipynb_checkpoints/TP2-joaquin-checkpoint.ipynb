{
 "cells": [
  {
   "cell_type": "code",
   "execution_count": 1,
   "metadata": {},
   "outputs": [],
   "source": [
    "import matplotlib.pyplot as plt\n",
    "import pandas as pd\n",
    "import numpy as np\n",
    "import lifelines"
   ]
  },
  {
   "cell_type": "code",
   "execution_count": 2,
   "metadata": {},
   "outputs": [
    {
     "name": "stderr",
     "output_type": "stream",
     "text": [
      "C:\\ProgramData\\Anaconda3\\lib\\site-packages\\IPython\\core\\interactiveshell.py:3049: DtypeWarning: Columns (13,20) have mixed types. Specify dtype option on import or set low_memory=False.\n",
      "  interactivity=interactivity, compiler=compiler, result=result)\n",
      "C:\\ProgramData\\Anaconda3\\lib\\site-packages\\IPython\\core\\interactiveshell.py:3049: DtypeWarning: Columns (4,15) have mixed types. Specify dtype option on import or set low_memory=False.\n",
      "  interactivity=interactivity, compiler=compiler, result=result)\n"
     ]
    }
   ],
   "source": [
    "ev_types = {'event_id':'int64',\n",
    "            'ref_type':'category',\n",
    "            'ref_hash':'int64',\n",
    "            'application_id':'int64',\n",
    "            'attributed':'bool',\n",
    "            'device_countrycode':'category',\n",
    "            'device_os_version':'float64',\n",
    "            'device_brand':'float64',\n",
    "            'device_model':'float64',\n",
    "            'device_city':'float64',\n",
    "            'session_user_agent':'float64',\n",
    "            'trans_id':'category',\n",
    "            'user_agent':'float64',\n",
    "            'event_uuid':'object',\n",
    "            'carrier':'float64',\n",
    "            'kind':'float64',\n",
    "            'device_os':'category',\n",
    "            'wifi':'category',\n",
    "            'connection_type':'category',\n",
    "            'ip_address':'int64',\n",
    "            'device_language':'float64'}\n",
    "events = pd.read_csv('../../archivos/events.csv', dtype = ev_types)\n",
    "installs = pd.read_csv('../../archivos/installs.csv')\n"
   ]
  },
  {
   "cell_type": "code",
   "execution_count": 3,
   "metadata": {},
   "outputs": [],
   "source": [
    "installs.rename(columns={'created':'date'},inplace=True)\n",
    "installs['date'] = pd.to_datetime(installs['date'], format = '%Y-%m-%d %H:%M:%S')\n",
    "events['date'] = pd.to_datetime(events['date'], format = '%Y-%m-%d %H:%M:%S')\n",
    "installs['ins'] = 1\n",
    "events['ins'] = 0"
   ]
  },
  {
   "cell_type": "code",
   "execution_count": 5,
   "metadata": {},
   "outputs": [],
   "source": [
    "eventsCurated = events.drop(columns = ['device_countrycode', 'kind', 'user_agent'])\n",
    "installsCurated = installs.drop(columns = ['device_countrycode', 'user_agent', 'kind', 'device_language'])"
   ]
  },
  {
   "cell_type": "code",
   "execution_count": 6,
   "metadata": {},
   "outputs": [],
   "source": [
    "ev_ins = pd.concat([installs,events])"
   ]
  },
  {
   "cell_type": "code",
   "execution_count": 8,
   "metadata": {},
   "outputs": [],
   "source": [
    "ev_ins.drop_duplicates(subset = ['event_uuid'], inplace = True)"
   ]
  },
  {
   "cell_type": "code",
   "execution_count": null,
   "metadata": {},
   "outputs": [],
   "source": [
    "ev_ins.details()"
   ]
  },
  {
   "cell_type": "code",
   "execution_count": null,
   "metadata": {},
   "outputs": [],
   "source": [
    "ev_ins.loc[(ev_ins['ins'] == 1), 'event_id'] = 'install'\n",
    "ev_ins.sort_values(by=[\"ip_address\", \"date\"], inplace = True)\n",
    "ev_ins.drop(columns = {'carrier', 'click_hash', 'connection_type', 'device_brand', 'device_city', 'ins'})"
   ]
  },
  {
   "cell_type": "code",
   "execution_count": null,
   "metadata": {},
   "outputs": [],
   "source": []
  }
 ],
 "metadata": {
  "kernelspec": {
   "display_name": "Python 3",
   "language": "python",
   "name": "python3"
  },
  "language_info": {
   "codemirror_mode": {
    "name": "ipython",
    "version": 3
   },
   "file_extension": ".py",
   "mimetype": "text/x-python",
   "name": "python",
   "nbconvert_exporter": "python",
   "pygments_lexer": "ipython3",
   "version": "3.7.3"
  }
 },
 "nbformat": 4,
 "nbformat_minor": 2
}
