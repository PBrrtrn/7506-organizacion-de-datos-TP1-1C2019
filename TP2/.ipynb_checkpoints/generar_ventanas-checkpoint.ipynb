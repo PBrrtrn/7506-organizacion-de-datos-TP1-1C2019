{
 "cells": [
  {
   "cell_type": "code",
   "execution_count": null,
   "metadata": {},
   "outputs": [],
   "source": [
    "def generar_ventanas(df, str_columna_fecha):\n",
    "    FECHA_INICIO = pd.to_datetime(df[str_columna_fecha].min().strftime('%Y-%m-%d'))\n",
    "    FECHA_FIN = pd.to_datetime(df[str_columna_fecha].max().strftime('%Y-%m-%d'))\n",
    "\n",
    "    FECHA_UN_DIA = FECHA_INICIO + timedelta(days=1)\n",
    "    FECHA_DOS_DIAS = FECHA_INICIO + timedelta(days=2)\n",
    "    FECHA_TRES_DIAS = FECHA_INICIO + timedelta(days=3)\n",
    "    FECHA_CUATRO_DIAS = FECHA_INICIO + timedelta(days=4)\n",
    "    FECHA_CINCO_DIAS = FECHA_INICIO + timedelta(days=5)\n",
    "    FECHA_SEIS_DIAS = FECHA_INICIO + timedelta(days=6)\n",
    "    FECHA_SIETE_DIAS = FECHA_INICIO + timedelta(days=7)\n",
    "\n",
    "    ventana_uno = installs.loc[(df[str_columna_fecha] < FECHA_TRES_DIAS)]\n",
    "    ventana_uno = ventana_uno.loc[(df[str_columna_fecha] > FECHA_INICIO)]\n",
    "\n",
    "    ventana_dos = installs.loc[(df[str_columna_fecha] < FECHA_CUATRO_DIAS)]\n",
    "    ventana_dos = ventana_dos.loc[(df[str_columna_fecha] > FECHA_UN_DIA)]\n",
    "\n",
    "    ventana_tres = installs.loc[(df[str_columna_fecha] < FECHA_CINCO_DIAS)]\n",
    "    ventana_tres = ventana_tres.loc[(df[str_columna_fecha] > FECHA_DOS_DIAS)]\n",
    "    \n",
    "    ventana_cuatro = installs.loc[(df[str_columna_fecha] < FECHA_SEIS_DIAS)]\n",
    "    ventana_cuatro = ventana_tres.loc[(df[str_columna_fecha] > FECHA_TRES_DIAS)]\n",
    "    \n",
    "    ventana_cinco = installs.loc[(df[str_columna_fecha] < FECHA_SIETE_DIAS)]\n",
    "    ventana_cinco = ventana_tres.loc[(df[str_columna_fecha] > FECHA_CUATRO_DIAS)]\n",
    "    \n",
    "    return ventana_uno, ventana_dos, ventana_tres, ventana_cuatro, ventana_cinco"
   ]
  }
 ],
 "metadata": {
  "kernelspec": {
   "display_name": "Python 3",
   "language": "python",
   "name": "python3"
  },
  "language_info": {
   "codemirror_mode": {
    "name": "ipython",
    "version": 3
   },
   "file_extension": ".py",
   "mimetype": "text/x-python",
   "name": "python",
   "nbconvert_exporter": "python",
   "pygments_lexer": "ipython3",
   "version": "3.7.3"
  }
 },
 "nbformat": 4,
 "nbformat_minor": 2
}
