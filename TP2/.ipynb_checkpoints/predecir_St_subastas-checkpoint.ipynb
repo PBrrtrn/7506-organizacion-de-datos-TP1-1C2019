{
 "cells": [
  {
   "cell_type": "code",
   "execution_count": 1,
   "metadata": {},
   "outputs": [],
   "source": [
    "import pandas as pd\n",
    "import sklearn as skl\n",
    "import xgboost as xgb\n",
    "import category_encoders as ce\n",
    "from datetime import timedelta\n",
    "from sklearn.metrics import explained_variance_score\n",
    "\n",
    "cols = ['date','device_id']\n",
    "auctions_csv = pd.read_csv('./data/auctions.csv',usecols=cols)"
   ]
  },
  {
   "cell_type": "code",
   "execution_count": 3,
   "metadata": {},
   "outputs": [],
   "source": [
    "auctions = auctions_csv.rename({'device_id':'ref_hash'}, axis = 1, inplace=False)"
   ]
  },
  {
   "cell_type": "code",
   "execution_count": 4,
   "metadata": {},
   "outputs": [
    {
     "data": {
      "text/html": [
       "<div>\n",
       "<style scoped>\n",
       "    .dataframe tbody tr th:only-of-type {\n",
       "        vertical-align: middle;\n",
       "    }\n",
       "\n",
       "    .dataframe tbody tr th {\n",
       "        vertical-align: top;\n",
       "    }\n",
       "\n",
       "    .dataframe thead th {\n",
       "        text-align: right;\n",
       "    }\n",
       "</style>\n",
       "<table border=\"1\" class=\"dataframe\">\n",
       "  <thead>\n",
       "    <tr style=\"text-align: right;\">\n",
       "      <th></th>\n",
       "      <th>date</th>\n",
       "      <th>ref_hash</th>\n",
       "    </tr>\n",
       "  </thead>\n",
       "  <tbody>\n",
       "    <tr>\n",
       "      <th>0</th>\n",
       "      <td>2019-04-23 18:58:00.842116</td>\n",
       "      <td>2564673204772915246_st</td>\n",
       "    </tr>\n",
       "    <tr>\n",
       "      <th>1</th>\n",
       "      <td>2019-04-23 18:58:01.530771</td>\n",
       "      <td>4441121667607578179_st</td>\n",
       "    </tr>\n",
       "    <tr>\n",
       "      <th>2</th>\n",
       "      <td>2019-04-23 18:58:01.767562</td>\n",
       "      <td>7721769811471055264_st</td>\n",
       "    </tr>\n",
       "    <tr>\n",
       "      <th>3</th>\n",
       "      <td>2019-04-23 18:58:02.363468</td>\n",
       "      <td>6416039086842158968_st</td>\n",
       "    </tr>\n",
       "    <tr>\n",
       "      <th>4</th>\n",
       "      <td>2019-04-23 18:58:02.397559</td>\n",
       "      <td>1258642015983312729_st</td>\n",
       "    </tr>\n",
       "  </tbody>\n",
       "</table>\n",
       "</div>"
      ],
      "text/plain": [
       "                         date                ref_hash\n",
       "0  2019-04-23 18:58:00.842116  2564673204772915246_st\n",
       "1  2019-04-23 18:58:01.530771  4441121667607578179_st\n",
       "2  2019-04-23 18:58:01.767562  7721769811471055264_st\n",
       "3  2019-04-23 18:58:02.363468  6416039086842158968_st\n",
       "4  2019-04-23 18:58:02.397559  1258642015983312729_st"
      ]
     },
     "execution_count": 4,
     "metadata": {},
     "output_type": "execute_result"
    }
   ],
   "source": [
    "def agregar_st(hash_ref):\n",
    "    return (str(hash_ref) + '_st' )\n",
    "\n",
    "auctions['ref_hash'] = auctions['ref_hash'].apply(agregar_st)\n",
    "auctions.head()"
   ]
  },
  {
   "cell_type": "code",
   "execution_count": 5,
   "metadata": {},
   "outputs": [
    {
     "data": {
      "text/html": [
       "<div>\n",
       "<style scoped>\n",
       "    .dataframe tbody tr th:only-of-type {\n",
       "        vertical-align: middle;\n",
       "    }\n",
       "\n",
       "    .dataframe tbody tr th {\n",
       "        vertical-align: top;\n",
       "    }\n",
       "\n",
       "    .dataframe thead th {\n",
       "        text-align: right;\n",
       "    }\n",
       "</style>\n",
       "<table border=\"1\" class=\"dataframe\">\n",
       "  <thead>\n",
       "    <tr style=\"text-align: right;\">\n",
       "      <th></th>\n",
       "      <th>ref_hash</th>\n",
       "    </tr>\n",
       "  </thead>\n",
       "  <tbody>\n",
       "    <tr>\n",
       "      <th>0</th>\n",
       "      <td>1000169251625791246_sc</td>\n",
       "    </tr>\n",
       "    <tr>\n",
       "      <th>1</th>\n",
       "      <td>1000169251625791246_st</td>\n",
       "    </tr>\n",
       "    <tr>\n",
       "      <th>2</th>\n",
       "      <td>1000395625957344683_sc</td>\n",
       "    </tr>\n",
       "    <tr>\n",
       "      <th>3</th>\n",
       "      <td>1000395625957344683_st</td>\n",
       "    </tr>\n",
       "    <tr>\n",
       "      <th>4</th>\n",
       "      <td>1003027494996471685_sc</td>\n",
       "    </tr>\n",
       "  </tbody>\n",
       "</table>\n",
       "</div>"
      ],
      "text/plain": [
       "                 ref_hash\n",
       "0  1000169251625791246_sc\n",
       "1  1000169251625791246_st\n",
       "2  1000395625957344683_sc\n",
       "3  1000395625957344683_st\n",
       "4  1003027494996471685_sc"
      ]
     },
     "execution_count": 5,
     "metadata": {},
     "output_type": "execute_result"
    }
   ],
   "source": [
    "target = pd.read_csv('./data/target_competencia_ids.csv', usecols = ['ref_hash'])\n",
    "\n",
    "target.head()"
   ]
  },
  {
   "cell_type": "code",
   "execution_count": 7,
   "metadata": {},
   "outputs": [
    {
     "data": {
      "text/html": [
       "<div>\n",
       "<style scoped>\n",
       "    .dataframe tbody tr th:only-of-type {\n",
       "        vertical-align: middle;\n",
       "    }\n",
       "\n",
       "    .dataframe tbody tr th {\n",
       "        vertical-align: top;\n",
       "    }\n",
       "\n",
       "    .dataframe thead th {\n",
       "        text-align: right;\n",
       "    }\n",
       "</style>\n",
       "<table border=\"1\" class=\"dataframe\">\n",
       "  <thead>\n",
       "    <tr style=\"text-align: right;\">\n",
       "      <th></th>\n",
       "      <th>date</th>\n",
       "      <th>ref_hash</th>\n",
       "    </tr>\n",
       "  </thead>\n",
       "  <tbody>\n",
       "    <tr>\n",
       "      <th>0</th>\n",
       "      <td>2019-04-23 18:58:28.872668</td>\n",
       "      <td>6781020342679131794_st</td>\n",
       "    </tr>\n",
       "    <tr>\n",
       "      <th>1</th>\n",
       "      <td>2019-04-23 19:11:06.104243</td>\n",
       "      <td>6781020342679131794_st</td>\n",
       "    </tr>\n",
       "    <tr>\n",
       "      <th>2</th>\n",
       "      <td>2019-04-23 19:19:04.310737</td>\n",
       "      <td>6781020342679131794_st</td>\n",
       "    </tr>\n",
       "    <tr>\n",
       "      <th>3</th>\n",
       "      <td>2019-04-23 19:20:17.592881</td>\n",
       "      <td>6781020342679131794_st</td>\n",
       "    </tr>\n",
       "    <tr>\n",
       "      <th>4</th>\n",
       "      <td>2019-04-23 19:21:51.217194</td>\n",
       "      <td>6781020342679131794_st</td>\n",
       "    </tr>\n",
       "  </tbody>\n",
       "</table>\n",
       "</div>"
      ],
      "text/plain": [
       "                         date                ref_hash\n",
       "0  2019-04-23 18:58:28.872668  6781020342679131794_st\n",
       "1  2019-04-23 19:11:06.104243  6781020342679131794_st\n",
       "2  2019-04-23 19:19:04.310737  6781020342679131794_st\n",
       "3  2019-04-23 19:20:17.592881  6781020342679131794_st\n",
       "4  2019-04-23 19:21:51.217194  6781020342679131794_st"
      ]
     },
     "execution_count": 7,
     "metadata": {},
     "output_type": "execute_result"
    }
   ],
   "source": [
    "auctions = auctions.merge(target, on='ref_hash', how='inner')\n",
    "auctions.head()"
   ]
  },
  {
   "cell_type": "code",
   "execution_count": 15,
   "metadata": {},
   "outputs": [
    {
     "data": {
      "text/plain": [
       "4037"
      ]
     },
     "execution_count": 15,
     "metadata": {},
     "output_type": "execute_result"
    }
   ],
   "source": [
    "len(auctions['ref_hash'].unique())"
   ]
  },
  {
   "cell_type": "code",
   "execution_count": 18,
   "metadata": {},
   "outputs": [
    {
     "data": {
      "text/html": [
       "<div>\n",
       "<style scoped>\n",
       "    .dataframe tbody tr th:only-of-type {\n",
       "        vertical-align: middle;\n",
       "    }\n",
       "\n",
       "    .dataframe tbody tr th {\n",
       "        vertical-align: top;\n",
       "    }\n",
       "\n",
       "    .dataframe thead th {\n",
       "        text-align: right;\n",
       "    }\n",
       "</style>\n",
       "<table border=\"1\" class=\"dataframe\">\n",
       "  <thead>\n",
       "    <tr style=\"text-align: right;\">\n",
       "      <th></th>\n",
       "      <th>t_sum</th>\n",
       "      <th>ref_hash</th>\n",
       "      <th>n_subastas</th>\n",
       "      <th>t_primera_subasta</th>\n",
       "    </tr>\n",
       "  </thead>\n",
       "  <tbody>\n",
       "    <tr>\n",
       "      <th>0</th>\n",
       "      <td>2019-04-23 18:58:28.872668</td>\n",
       "      <td>6781020342679131794_st</td>\n",
       "      <td>1</td>\n",
       "      <td>2019-04-23 18:58:28.872668</td>\n",
       "    </tr>\n",
       "    <tr>\n",
       "      <th>1</th>\n",
       "      <td>2019-04-23 19:11:06.104243</td>\n",
       "      <td>6781020342679131794_st</td>\n",
       "      <td>1</td>\n",
       "      <td>2019-04-23 19:11:06.104243</td>\n",
       "    </tr>\n",
       "    <tr>\n",
       "      <th>2</th>\n",
       "      <td>2019-04-23 19:19:04.310737</td>\n",
       "      <td>6781020342679131794_st</td>\n",
       "      <td>1</td>\n",
       "      <td>2019-04-23 19:19:04.310737</td>\n",
       "    </tr>\n",
       "    <tr>\n",
       "      <th>3</th>\n",
       "      <td>2019-04-23 19:20:17.592881</td>\n",
       "      <td>6781020342679131794_st</td>\n",
       "      <td>1</td>\n",
       "      <td>2019-04-23 19:20:17.592881</td>\n",
       "    </tr>\n",
       "    <tr>\n",
       "      <th>4</th>\n",
       "      <td>2019-04-23 19:21:51.217194</td>\n",
       "      <td>6781020342679131794_st</td>\n",
       "      <td>1</td>\n",
       "      <td>2019-04-23 19:21:51.217194</td>\n",
       "    </tr>\n",
       "  </tbody>\n",
       "</table>\n",
       "</div>"
      ],
      "text/plain": [
       "                        t_sum                ref_hash  n_subastas  \\\n",
       "0  2019-04-23 18:58:28.872668  6781020342679131794_st           1   \n",
       "1  2019-04-23 19:11:06.104243  6781020342679131794_st           1   \n",
       "2  2019-04-23 19:19:04.310737  6781020342679131794_st           1   \n",
       "3  2019-04-23 19:20:17.592881  6781020342679131794_st           1   \n",
       "4  2019-04-23 19:21:51.217194  6781020342679131794_st           1   \n",
       "\n",
       "            t_primera_subasta  \n",
       "0  2019-04-23 18:58:28.872668  \n",
       "1  2019-04-23 19:11:06.104243  \n",
       "2  2019-04-23 19:19:04.310737  \n",
       "3  2019-04-23 19:20:17.592881  \n",
       "4  2019-04-23 19:21:51.217194  "
      ]
     },
     "execution_count": 18,
     "metadata": {},
     "output_type": "execute_result"
    }
   ],
   "source": [
    "subastas = auctions\n",
    "subastas.rename({'date':'t_sum'},axis=1,inplace=True)\n",
    "subastas['n_subastas'] = 1\n",
    "subastas['t_primera_subasta'] = subastas['t_sum']\n",
    "\n",
    "subastas.head()"
   ]
  },
  {
   "cell_type": "code",
   "execution_count": 24,
   "metadata": {},
   "outputs": [],
   "source": [
    "def generar_ventanas(df, str_columna_fecha):\n",
    "    FECHA_INICIO = pd.to_datetime(pd.to_datetime(df[str_columna_fecha].min()).strftime('%Y-%m-%d'))\n",
    "    FECHA_FIN = pd.to_datetime(pd.to_datetime(df[str_columna_fecha].max()).strftime('%Y-%m-%d'))\n",
    "\n",
    "    FECHA_UN_DIA = FECHA_INICIO + timedelta(days=1)\n",
    "    FECHA_DOS_DIAS = FECHA_INICIO + timedelta(days=2)\n",
    "    FECHA_TRES_DIAS = FECHA_INICIO + timedelta(days=3)\n",
    "    FECHA_CUATRO_DIAS = FECHA_INICIO + timedelta(days=4)\n",
    "    FECHA_CINCO_DIAS = FECHA_INICIO + timedelta(days=5)\n",
    "    FECHA_SEIS_DIAS = FECHA_INICIO + timedelta(days=6)\n",
    "    FECHA_SIETE_DIAS = FECHA_INICIO + timedelta(days=7)\n",
    "\n",
    "    df[str_columna_fecha] = pd.to_datetime(df[str_columna_fecha])\n",
    "    \n",
    "    ventana_uno = df.loc[(df[str_columna_fecha] < FECHA_TRES_DIAS)]\n",
    "    ventana_uno = ventana_uno.loc[(df[str_columna_fecha] > FECHA_INICIO)]\n",
    "\n",
    "    ventana_dos = df.loc[(df[str_columna_fecha] < FECHA_CUATRO_DIAS)]\n",
    "    ventana_dos = ventana_dos.loc[(df[str_columna_fecha] > FECHA_UN_DIA)]\n",
    "\n",
    "    ventana_tres = df.loc[(df[str_columna_fecha] < FECHA_CINCO_DIAS)]\n",
    "    ventana_tres = ventana_tres.loc[(df[str_columna_fecha] > FECHA_DOS_DIAS)]\n",
    "    \n",
    "    ventana_cuatro = df.loc[(df[str_columna_fecha] < FECHA_SEIS_DIAS)]\n",
    "    ventana_cuatro = ventana_tres.loc[(df[str_columna_fecha] > FECHA_TRES_DIAS)]\n",
    "    \n",
    "    ventana_cinco = df.loc[(df[str_columna_fecha] < FECHA_SIETE_DIAS)]\n",
    "    ventana_cinco = ventana_tres.loc[(df[str_columna_fecha] > FECHA_CUATRO_DIAS)]\n",
    "    \n",
    "    return ventana_uno, ventana_dos, ventana_tres, ventana_cuatro, ventana_cinco\n",
    "\n",
    "subastas.sort_values(by='t_sum', axis=0, inplace=True)\n",
    "subastas_ventana_uno, subastas_ventana_dos, subastas_ventana_tres, subastas_ventana_cuatro, subastas_ventana_cinco = generar_ventanas(subastas,'t_sum')"
   ]
  },
  {
   "cell_type": "code",
   "execution_count": 32,
   "metadata": {},
   "outputs": [
    {
     "data": {
      "text/html": [
       "<div>\n",
       "<style scoped>\n",
       "    .dataframe tbody tr th:only-of-type {\n",
       "        vertical-align: middle;\n",
       "    }\n",
       "\n",
       "    .dataframe tbody tr th {\n",
       "        vertical-align: top;\n",
       "    }\n",
       "\n",
       "    .dataframe thead th {\n",
       "        text-align: right;\n",
       "    }\n",
       "</style>\n",
       "<table border=\"1\" class=\"dataframe\">\n",
       "  <thead>\n",
       "    <tr style=\"text-align: right;\">\n",
       "      <th></th>\n",
       "      <th>n_subastas</th>\n",
       "      <th>t_sum</th>\n",
       "      <th>t_primera_subasta</th>\n",
       "    </tr>\n",
       "    <tr>\n",
       "      <th>ref_hash</th>\n",
       "      <th></th>\n",
       "      <th></th>\n",
       "      <th></th>\n",
       "    </tr>\n",
       "  </thead>\n",
       "  <tbody>\n",
       "    <tr>\n",
       "      <th>1000169251625791246_st</th>\n",
       "      <td>10</td>\n",
       "      <td>156901.935170</td>\n",
       "      <td>10509.519448</td>\n",
       "    </tr>\n",
       "    <tr>\n",
       "      <th>1000395625957344683_st</th>\n",
       "      <td>18</td>\n",
       "      <td>108005.261223</td>\n",
       "      <td>65601.910900</td>\n",
       "    </tr>\n",
       "    <tr>\n",
       "      <th>1003027494996471685_st</th>\n",
       "      <td>1</td>\n",
       "      <td>75911.481120</td>\n",
       "      <td>75911.481120</td>\n",
       "    </tr>\n",
       "    <tr>\n",
       "      <th>1007573308966476713_st</th>\n",
       "      <td>2</td>\n",
       "      <td>79555.025066</td>\n",
       "      <td>18137.251334</td>\n",
       "    </tr>\n",
       "    <tr>\n",
       "      <th>1010070503877148763_st</th>\n",
       "      <td>3</td>\n",
       "      <td>82077.156191</td>\n",
       "      <td>9396.648854</td>\n",
       "    </tr>\n",
       "  </tbody>\n",
       "</table>\n",
       "</div>"
      ],
      "text/plain": [
       "                        n_subastas          t_sum  t_primera_subasta\n",
       "ref_hash                                                            \n",
       "1000169251625791246_st          10  156901.935170       10509.519448\n",
       "1000395625957344683_st          18  108005.261223       65601.910900\n",
       "1003027494996471685_st           1   75911.481120       75911.481120\n",
       "1007573308966476713_st           2   79555.025066       18137.251334\n",
       "1010070503877148763_st           3   82077.156191        9396.648854"
      ]
     },
     "execution_count": 32,
     "metadata": {},
     "output_type": "execute_result"
    }
   ],
   "source": [
    "def t_sum(t_inst):\n",
    "    suma = (pd.to_datetime(t_inst.iloc[0]) - pd.to_datetime(pd.to_datetime(t_inst.iloc[0]).strftime('%Y-%m-%d'))).total_seconds()\n",
    "    for i in range(1, len(t_inst)):\n",
    "        suma += (pd.to_datetime(t_inst.iloc[i]) - pd.to_datetime(t_inst.iloc[i-1])).total_seconds()\n",
    "    return suma\n",
    "\n",
    "def t_primera_subasta(t_inst):\n",
    "    return (pd.to_datetime(t_inst.iloc[0]) - pd.to_datetime(pd.to_datetime(t_inst.iloc[0]).strftime('%Y-%m-%d'))).total_seconds()\n",
    "\n",
    "sv1 = subastas_ventana_uno.groupby(['ref_hash']).agg({'t_sum':t_sum, 't_primera_subasta':t_primera_subasta,'n_subastas':'sum'})\n",
    "sv2 = subastas_ventana_dos.groupby(['ref_hash']).agg({'t_sum':t_sum, 't_primera_subasta':t_primera_subasta,'n_subastas':'sum'})\n",
    "sv3 = subastas_ventana_tres.groupby(['ref_hash']).agg({'t_sum':t_sum, 't_primera_subasta':t_primera_subasta, 'n_subastas':'sum'})\n",
    "sv4 = subastas_ventana_cuatro.groupby(['ref_hash']).agg({'t_sum':t_sum, 't_primera_subasta':t_primera_subasta,'n_subastas':'sum'})\n",
    "sv5 = subastas_ventana_cinco.groupby(['ref_hash']).agg({'t_sum':t_sum, 't_primera_subasta':t_primera_subasta, 'n_subastas':'sum'})\n",
    "\n",
    "sv1.head()"
   ]
  },
  {
   "cell_type": "code",
   "execution_count": 35,
   "metadata": {},
   "outputs": [],
   "source": [
    "ventanaUnoData = sv1.drop(['t_primera_subasta'], axis=1).values\n",
    "ventanaUnoTargets = sv1['t_primera_subasta'].values\n",
    "\n",
    "ventanaDosData = sv2.drop(['t_primera_subasta'],axis=1).values\n",
    "ventanaDosTargets = sv2['t_primera_subasta'].values\n",
    "\n",
    "ventanaTresData = sv3.drop(['t_primera_subasta'], axis=1).values\n",
    "ventanaTresTargets = sv3['t_primera_subasta'].values\n",
    "\n",
    "ventanaCuatroData = sv4.drop(['t_primera_subasta'], axis=1).values\n",
    "ventanaCuatroTargets = sv4['t_primera_subasta'].values\n",
    "\n",
    "ventanaCincoData = sv5.drop(['t_primera_subasta'], axis=1).values\n",
    "ventanaCincoTargets = sv5['t_primera_subasta'].values\n",
    "\n",
    "xgbVentanaUno = xgb.XGBRegressor(n_estimators=100, learning_rate=0.08, gamma=0, subsample=0.75,\n",
    "                           colsample_bytree=1, max_depth=7, objective='reg:squarederror')\n",
    "\n",
    "xgbVentanaDos = xgb.XGBRegressor(n_estimators=100, learning_rate=0.08, gamma=0, subsample=0.75,\n",
    "                           colsample_bytree=1, max_depth=7, objective='reg:squarederror')\n",
    "\n",
    "xgbVentanaTres = xgb.XGBRegressor(n_estimators=100, learning_rate=0.08, gamma=0, subsample=0.75,\n",
    "                           colsample_bytree=1, max_depth=7, objective='reg:squarederror')\n",
    "\n",
    "xgbVentanaCuatro = xgb.XGBRegressor(n_estimators=100, learning_rate=0.08, gamma=0, subsample=0.75,\n",
    "                           colsample_bytree=1, max_depth=7, objective='reg:squarederror')\n",
    "\n",
    "xgbVentanaCinco = xgb.XGBRegressor(n_estimators=100, learning_rate=0.08, gamma=0, subsample=0.75,\n",
    "                           colsample_bytree=1, max_depth=7, objective='reg:squarederror')"
   ]
  },
  {
   "cell_type": "code",
   "execution_count": 36,
   "metadata": {},
   "outputs": [
    {
     "data": {
      "text/plain": [
       "XGBRegressor(base_score=0.5, booster='gbtree', colsample_bylevel=1,\n",
       "             colsample_bynode=1, colsample_bytree=1, gamma=0,\n",
       "             importance_type='gain', learning_rate=0.08, max_delta_step=0,\n",
       "             max_depth=7, min_child_weight=1, missing=None, n_estimators=100,\n",
       "             n_jobs=1, nthread=None, objective='reg:squarederror',\n",
       "             random_state=0, reg_alpha=0, reg_lambda=1, scale_pos_weight=1,\n",
       "             seed=None, silent=None, subsample=0.75, verbosity=1)"
      ]
     },
     "execution_count": 36,
     "metadata": {},
     "output_type": "execute_result"
    }
   ],
   "source": [
    "xgbVentanaUno.fit(ventanaUnoData, ventanaUnoTargets)\n",
    "xgbVentanaDos.fit(ventanaDosData, ventanaDosTargets)\n",
    "xgbVentanaTres.fit(ventanaTresData, ventanaTresTargets)\n",
    "xgbVentanaCuatro.fit(ventanaCuatroData, ventanaCuatroTargets)\n",
    "xgbVentanaCinco.fit(ventanaCincoData, ventanaCincoTargets)"
   ]
  },
  {
   "cell_type": "code",
   "execution_count": 46,
   "metadata": {},
   "outputs": [
    {
     "data": {
      "text/plain": [
       "-1.3327288476241623"
      ]
     },
     "execution_count": 46,
     "metadata": {},
     "output_type": "execute_result"
    }
   ],
   "source": [
    "prediccionV1_V4 = xgbVentanaUno.predict(ventanaCuatroData)\n",
    "explained_variance_score(prediccionV1_V4, ventanaCuatroTargets)"
   ]
  },
  {
   "cell_type": "code",
   "execution_count": 47,
   "metadata": {},
   "outputs": [],
   "source": [
    "# Me quiero morir"
   ]
  },
  {
   "cell_type": "code",
   "execution_count": null,
   "metadata": {},
   "outputs": [],
   "source": []
  }
 ],
 "metadata": {
  "kernelspec": {
   "display_name": "Python 3",
   "language": "python",
   "name": "python3"
  },
  "language_info": {
   "codemirror_mode": {
    "name": "ipython",
    "version": 3
   },
   "file_extension": ".py",
   "mimetype": "text/x-python",
   "name": "python",
   "nbconvert_exporter": "python",
   "pygments_lexer": "ipython3",
   "version": "3.7.3"
  }
 },
 "nbformat": 4,
 "nbformat_minor": 2
}
