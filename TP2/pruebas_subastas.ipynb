{
 "cells": [
  {
   "cell_type": "markdown",
   "metadata": {},
   "source": [
    "# Survival analysis para la empresa JAMPP\n",
    "\n",
    "El objetivo es analizar los datos de la empresa JAMPP para saber cuando un usuario volverá a conectarse a una app, dado sus datos de conexiones previas. La segunda predicción que intentaremos hacer es saber cuando volverá a \"convertir\", es decir comprar la app de la cual tiene una publicidad en su movil a un momento dado.\n",
    "\n"
   ]
  },
  {
   "cell_type": "code",
   "execution_count": 54,
   "metadata": {},
   "outputs": [],
   "source": [
    "import matplotlib.pyplot as plt\n",
    "import pandas as pd\n",
    "import numpy as np\n",
    "import lifelines\n",
    "import math\n",
    "import category_encoders as ce\n",
    "from sklearn.linear_model import LinearRegression\n",
    "from sklearn.metrics import explained_variance_score\n",
    "from sklearn.model_selection import train_test_split\n",
    "from sklearn.metrics import mean_squared_error\n",
    "from sklearn.ensemble import RandomForestRegressor\n",
    "from sklearn.linear_model import Ridge\n",
    "import xgboost"
   ]
  },
  {
   "cell_type": "code",
   "execution_count": 2,
   "metadata": {},
   "outputs": [
    {
     "name": "stderr",
     "output_type": "stream",
     "text": [
      "/Users/yorickvinesse/anaconda3/lib/python3.7/site-packages/IPython/core/interactiveshell.py:3020: DtypeWarning: Columns (13,20) have mixed types. Specify dtype option on import or set low_memory=False.\n",
      "  interactivity=interactivity, compiler=compiler, result=result)\n"
     ]
    }
   ],
   "source": [
    "events = pd.read_csv('./events.csv')"
   ]
  },
  {
   "cell_type": "code",
   "execution_count": 2,
   "metadata": {},
   "outputs": [],
   "source": [
    "auctions = pd.read_csv('./auctions.csv')"
   ]
  },
  {
   "cell_type": "code",
   "execution_count": 4,
   "metadata": {},
   "outputs": [
    {
     "name": "stderr",
     "output_type": "stream",
     "text": [
      "/Users/yorickvinesse/anaconda3/lib/python3.7/site-packages/IPython/core/interactiveshell.py:3020: DtypeWarning: Columns (16,17) have mixed types. Specify dtype option on import or set low_memory=False.\n",
      "  interactivity=interactivity, compiler=compiler, result=result)\n"
     ]
    }
   ],
   "source": [
    "clicks = pd.read_csv('./clicks.csv')"
   ]
  },
  {
   "cell_type": "code",
   "execution_count": 3,
   "metadata": {},
   "outputs": [
    {
     "name": "stderr",
     "output_type": "stream",
     "text": [
      "/Users/yorickvinesse/anaconda3/lib/python3.7/site-packages/IPython/core/interactiveshell.py:3020: DtypeWarning: Columns (4,15) have mixed types. Specify dtype option on import or set low_memory=False.\n",
      "  interactivity=interactivity, compiler=compiler, result=result)\n"
     ]
    }
   ],
   "source": [
    "installs = pd.read_csv('./installs.csv')"
   ]
  },
  {
   "cell_type": "code",
   "execution_count": 3,
   "metadata": {},
   "outputs": [
    {
     "data": {
      "text/plain": [
       "date           object\n",
       "device_id       int64\n",
       "ref_type_id     int64\n",
       "source_id       int64\n",
       "dtype: object"
      ]
     },
     "execution_count": 3,
     "metadata": {},
     "output_type": "execute_result"
    }
   ],
   "source": [
    "auctions.dtypes"
   ]
  },
  {
   "cell_type": "code",
   "execution_count": 4,
   "metadata": {},
   "outputs": [
    {
     "data": {
      "text/plain": [
       "date           47409528\n",
       "device_id      47409528\n",
       "ref_type_id    47409528\n",
       "source_id      47409528\n",
       "dtype: int64"
      ]
     },
     "execution_count": 4,
     "metadata": {},
     "output_type": "execute_result"
    }
   ],
   "source": [
    "auctions.count()"
   ]
  },
  {
   "cell_type": "markdown",
   "metadata": {},
   "source": [
    "# Que datos nos conviene usar?\n",
    "\n",
    "Acá estamos haciendo un _survival analysis_ entonces se necesita mostrar el momento al cual ocurrió un evento. En nuestro caso, si un evento aparece en el dataset de _auctions_, es porque ocurrió. El survival analysis se enfoca en la primera vez que ocurre un evento, puesto que hace una regresión de un set de caractéristicas en frente a una fecha de ocurrencia del evento.\n",
    "\n",
    "Pero es cierto que muchos usuarios, aca representados por sus *device_id* aparecen varias veces en la lista de subastas (_auctions_), considerando que 475338 *device_id* únicos se pueden contar adentro del set de _auctions_ que almacena 47409528 observaciones distintas (100 veces más).\n",
    "\n",
    "Dado eso, parecería inoportuno no considerar la característica de repetición de aparición de los usuarios cuando hacemos la predicción de su reaparición más adelante.\n",
    "\n",
    "Podemos tratar de analizar datos como la cantidad de clicks hecha por un usuario antes de llevar a cabo una instalación, o la cantidad de veces que apareció en una subasta."
   ]
  },
  {
   "cell_type": "code",
   "execution_count": 3,
   "metadata": {},
   "outputs": [
    {
     "data": {
      "text/html": [
       "<div>\n",
       "<style scoped>\n",
       "    .dataframe tbody tr th:only-of-type {\n",
       "        vertical-align: middle;\n",
       "    }\n",
       "\n",
       "    .dataframe tbody tr th {\n",
       "        vertical-align: top;\n",
       "    }\n",
       "\n",
       "    .dataframe thead th {\n",
       "        text-align: right;\n",
       "    }\n",
       "</style>\n",
       "<table border=\"1\" class=\"dataframe\">\n",
       "  <thead>\n",
       "    <tr style=\"text-align: right;\">\n",
       "      <th></th>\n",
       "      <th>date</th>\n",
       "      <th>device_id</th>\n",
       "      <th>ref_type_id</th>\n",
       "      <th>source_id</th>\n",
       "    </tr>\n",
       "  </thead>\n",
       "  <tbody>\n",
       "    <tr>\n",
       "      <th>0</th>\n",
       "      <td>2019-04-23 18:58:00.842116</td>\n",
       "      <td>2564673204772915246</td>\n",
       "      <td>1</td>\n",
       "      <td>0</td>\n",
       "    </tr>\n",
       "    <tr>\n",
       "      <th>1</th>\n",
       "      <td>2019-04-23 18:58:01.530771</td>\n",
       "      <td>4441121667607578179</td>\n",
       "      <td>7</td>\n",
       "      <td>0</td>\n",
       "    </tr>\n",
       "    <tr>\n",
       "      <th>2</th>\n",
       "      <td>2019-04-23 18:58:01.767562</td>\n",
       "      <td>7721769811471055264</td>\n",
       "      <td>1</td>\n",
       "      <td>0</td>\n",
       "    </tr>\n",
       "    <tr>\n",
       "      <th>3</th>\n",
       "      <td>2019-04-23 18:58:02.363468</td>\n",
       "      <td>6416039086842158968</td>\n",
       "      <td>1</td>\n",
       "      <td>0</td>\n",
       "    </tr>\n",
       "    <tr>\n",
       "      <th>4</th>\n",
       "      <td>2019-04-23 18:58:02.397559</td>\n",
       "      <td>1258642015983312729</td>\n",
       "      <td>1</td>\n",
       "      <td>0</td>\n",
       "    </tr>\n",
       "  </tbody>\n",
       "</table>\n",
       "</div>"
      ],
      "text/plain": [
       "                         date            device_id  ref_type_id  source_id\n",
       "0  2019-04-23 18:58:00.842116  2564673204772915246            1          0\n",
       "1  2019-04-23 18:58:01.530771  4441121667607578179            7          0\n",
       "2  2019-04-23 18:58:01.767562  7721769811471055264            1          0\n",
       "3  2019-04-23 18:58:02.363468  6416039086842158968            1          0\n",
       "4  2019-04-23 18:58:02.397559  1258642015983312729            1          0"
      ]
     },
     "execution_count": 3,
     "metadata": {},
     "output_type": "execute_result"
    }
   ],
   "source": [
    "auctions.head(5)"
   ]
  },
  {
   "cell_type": "code",
   "execution_count": 23,
   "metadata": {},
   "outputs": [
    {
     "data": {
      "text/plain": [
       "'2019-04-26 23:59:59.969518'"
      ]
     },
     "execution_count": 23,
     "metadata": {},
     "output_type": "execute_result"
    }
   ],
   "source": [
    "auctions.date.max()"
   ]
  },
  {
   "cell_type": "code",
   "execution_count": 112,
   "metadata": {},
   "outputs": [
    {
     "data": {
      "text/plain": [
       "475338"
      ]
     },
     "execution_count": 112,
     "metadata": {},
     "output_type": "execute_result"
    }
   ],
   "source": [
    "len(auctions.device_id.unique())"
   ]
  },
  {
   "cell_type": "markdown",
   "metadata": {},
   "source": [
    "# Cuandó aparecerá un usuario dado?\n",
    "\n",
    "### Desarrollo alrededor del dataset _auctions_\n",
    "\n",
    "Vamos a enriquecer el dataset relacionado a las subastas incluyendo, para cada observación, la cantidad de veces que ocurrió una aparición del mismo *device_id* dentro de la ventana de estudio anterior. También vamos a indicar el tiempo que pasó desde la última vez que ocurrió el evento para el mismo *device_id*.\n",
    "\n",
    "Primero, queremos tener un modelo que nos indica cuando será la próxima vez que aparecerá un usuario en una subasta.\n",
    "\n",
    "Es necesario convertir los tiempos de ocurrencia en segundos para que nos de una duración hasta el evento."
   ]
  },
  {
   "cell_type": "markdown",
   "metadata": {},
   "source": [
    "## Selección de las ventanas de tests de tres días en _Auctions_"
   ]
  },
  {
   "cell_type": "code",
   "execution_count": 3,
   "metadata": {},
   "outputs": [],
   "source": [
    "auctionsVentanaUno = auctions.loc[(auctions[\"date\"] < \"2019-04-21\")]\n",
    "auctionsVentanaUno = auctionsVentanaUno.loc[(auctions[\"date\"] > \"2019-04-18\")]"
   ]
  },
  {
   "cell_type": "code",
   "execution_count": 4,
   "metadata": {},
   "outputs": [],
   "source": [
    "auctionsVentanaDos = auctions.loc[(auctions[\"date\"] < \"2019-04-22\")]\n",
    "auctionsVentanaDos = auctionsVentanaDos.loc[(auctions[\"date\"] > \"2019-04-19\")]"
   ]
  },
  {
   "cell_type": "code",
   "execution_count": 5,
   "metadata": {},
   "outputs": [],
   "source": [
    "auctionsVentanaTres = auctions.loc[(auctions[\"date\"] < \"2019-04-23\")]\n",
    "auctionsVentanaTres = auctionsVentanaTres.loc[(auctions[\"date\"] > \"2019-04-20\")]"
   ]
  },
  {
   "cell_type": "code",
   "execution_count": 6,
   "metadata": {},
   "outputs": [],
   "source": [
    "auctionsVentanaCuatro = auctions.loc[(auctions[\"date\"] < \"2019-04-24\")]\n",
    "auctionsVentanaCuatro = auctionsVentanaCuatro.loc[(auctions[\"date\"] > \"2019-04-21\")]"
   ]
  },
  {
   "cell_type": "code",
   "execution_count": 7,
   "metadata": {},
   "outputs": [],
   "source": [
    "auctionsVentanaCinco = auctions.loc[(auctions[\"date\"] < \"2019-04-25\")]\n",
    "auctionsVentanaCinco = auctionsVentanaCinco.loc[(auctions[\"date\"] > \"2019-04-22\")]"
   ]
  },
  {
   "cell_type": "code",
   "execution_count": 8,
   "metadata": {},
   "outputs": [],
   "source": [
    "auctionsVentanaSeis = auctions.loc[(auctions[\"date\"] < \"2019-04-26\")]\n",
    "auctionsVentanaSeis = auctionsVentanaSeis.loc[(auctions[\"date\"] > \"2019-04-23\")]"
   ]
  },
  {
   "cell_type": "code",
   "execution_count": 9,
   "metadata": {},
   "outputs": [],
   "source": [
    "auctionsVentanaSiete = auctions.loc[(auctions[\"date\"] < \"2019-04-27\")]\n",
    "auctionsVentanaSiete = auctionsVentanaSiete.loc[(auctions[\"date\"] > \"2019-04-24\")]"
   ]
  },
  {
   "cell_type": "markdown",
   "metadata": {},
   "source": [
    "### En todas las ventanas elegidas, vamos a agregar una columna de fecha inicial para poder basar los tiempos en base a eso. Despues podremos restar el tiempo inicial al tiempo absoluto para hacer modelos en segundos pasados."
   ]
  },
  {
   "cell_type": "code",
   "execution_count": 10,
   "metadata": {},
   "outputs": [],
   "source": [
    "auctionsVentanaUno['fechaInicial'] = pd.to_datetime(\"2019-04-18 00:00:00\")\n",
    "auctionsVentanaDos['fechaInicial'] = pd.to_datetime(\"2019-04-19 00:00:00\")\n",
    "auctionsVentanaTres['fechaInicial'] = pd.to_datetime(\"2019-04-20 00:00:00\")\n",
    "auctionsVentanaCuatro['fechaInicial'] = pd.to_datetime(\"2019-04-21 00:00:00\")\n",
    "auctionsVentanaCinco['fechaInicial'] = pd.to_datetime(\"2019-04-22 00:00:00\")\n",
    "auctionsVentanaSeis['fechaInicial'] = pd.to_datetime(\"2019-04-23 00:00:00\")\n",
    "auctionsVentanaSiete['fechaInicial'] = pd.to_datetime(\"2019-04-24 00:00:00\")"
   ]
  },
  {
   "cell_type": "code",
   "execution_count": 15,
   "metadata": {},
   "outputs": [
    {
     "data": {
      "text/html": [
       "<div>\n",
       "<style scoped>\n",
       "    .dataframe tbody tr th:only-of-type {\n",
       "        vertical-align: middle;\n",
       "    }\n",
       "\n",
       "    .dataframe tbody tr th {\n",
       "        vertical-align: top;\n",
       "    }\n",
       "\n",
       "    .dataframe thead th {\n",
       "        text-align: right;\n",
       "    }\n",
       "</style>\n",
       "<table border=\"1\" class=\"dataframe\">\n",
       "  <thead>\n",
       "    <tr style=\"text-align: right;\">\n",
       "      <th></th>\n",
       "      <th>date</th>\n",
       "      <th>device_id</th>\n",
       "      <th>ref_type_id</th>\n",
       "      <th>source_id</th>\n",
       "      <th>fechaInicial</th>\n",
       "    </tr>\n",
       "  </thead>\n",
       "  <tbody>\n",
       "    <tr>\n",
       "      <th>221726</th>\n",
       "      <td>2019-04-20 23:57:27.912838</td>\n",
       "      <td>1109595589636746168</td>\n",
       "      <td>7</td>\n",
       "      <td>0</td>\n",
       "      <td>2019-04-18</td>\n",
       "    </tr>\n",
       "    <tr>\n",
       "      <th>221727</th>\n",
       "      <td>2019-04-20 23:57:28.381114</td>\n",
       "      <td>5896614299191635403</td>\n",
       "      <td>1</td>\n",
       "      <td>0</td>\n",
       "      <td>2019-04-18</td>\n",
       "    </tr>\n",
       "    <tr>\n",
       "      <th>221728</th>\n",
       "      <td>2019-04-20 23:57:28.515423</td>\n",
       "      <td>4172466725848941608</td>\n",
       "      <td>1</td>\n",
       "      <td>0</td>\n",
       "      <td>2019-04-18</td>\n",
       "    </tr>\n",
       "    <tr>\n",
       "      <th>221729</th>\n",
       "      <td>2019-04-20 23:57:28.700884</td>\n",
       "      <td>2616279795187318849</td>\n",
       "      <td>7</td>\n",
       "      <td>0</td>\n",
       "      <td>2019-04-18</td>\n",
       "    </tr>\n",
       "    <tr>\n",
       "      <th>221730</th>\n",
       "      <td>2019-04-20 23:57:28.868312</td>\n",
       "      <td>8034952072073026056</td>\n",
       "      <td>1</td>\n",
       "      <td>0</td>\n",
       "      <td>2019-04-18</td>\n",
       "    </tr>\n",
       "  </tbody>\n",
       "</table>\n",
       "</div>"
      ],
      "text/plain": [
       "                              date            device_id  ref_type_id  \\\n",
       "221726  2019-04-20 23:57:27.912838  1109595589636746168            7   \n",
       "221727  2019-04-20 23:57:28.381114  5896614299191635403            1   \n",
       "221728  2019-04-20 23:57:28.515423  4172466725848941608            1   \n",
       "221729  2019-04-20 23:57:28.700884  2616279795187318849            7   \n",
       "221730  2019-04-20 23:57:28.868312  8034952072073026056            1   \n",
       "\n",
       "        source_id fechaInicial  \n",
       "221726          0   2019-04-18  \n",
       "221727          0   2019-04-18  \n",
       "221728          0   2019-04-18  \n",
       "221729          0   2019-04-18  \n",
       "221730          0   2019-04-18  "
      ]
     },
     "execution_count": 15,
     "metadata": {},
     "output_type": "execute_result"
    }
   ],
   "source": [
    "auctionsVentanaUno.head()"
   ]
  },
  {
   "cell_type": "markdown",
   "metadata": {},
   "source": [
    "### Convertimos los objects de _date_ a elementos de tipo _datetime_ para poder calcular diferencias de tiempo y poder utilisar modelos de Lifelines."
   ]
  },
  {
   "cell_type": "code",
   "execution_count": 11,
   "metadata": {},
   "outputs": [],
   "source": [
    "auctionsVentanaUno.loc[:,'date'] = pd.to_datetime(auctionsVentanaUno['date'], errors = 'coerce')\n",
    "auctionsVentanaDos.loc[:,'date'] = pd.to_datetime(auctionsVentanaDos['date'], errors = 'coerce')\n",
    "auctionsVentanaTres.loc[:,'date'] = pd.to_datetime(auctionsVentanaTres['date'], errors = 'coerce')\n",
    "auctionsVentanaCuatro.loc[:,'date'] = pd.to_datetime(auctionsVentanaCuatro['date'], errors = 'coerce')\n",
    "auctionsVentanaCinco.loc[:,'date'] = pd.to_datetime(auctionsVentanaCinco['date'], errors = 'coerce')\n",
    "auctionsVentanaSeis.loc[:,'date'] = pd.to_datetime(auctionsVentanaSeis['date'], errors = 'coerce')\n",
    "auctionsVentanaSiete.loc[:,'date'] = pd.to_datetime(auctionsVentanaSiete['date'], errors = 'coerce')"
   ]
  },
  {
   "cell_type": "markdown",
   "metadata": {},
   "source": [
    "### Sacamos la diferencia entre el tiempo de la ventana y el tiempo inicial de la ventana"
   ]
  },
  {
   "cell_type": "code",
   "execution_count": 12,
   "metadata": {},
   "outputs": [],
   "source": [
    "auctionsVentanaUno[\"date\"] = auctionsVentanaUno[\"date\"] - auctionsVentanaUno[\"fechaInicial\"]\n",
    "auctionsVentanaDos[\"date\"] = auctionsVentanaDos[\"date\"] - auctionsVentanaDos[\"fechaInicial\"]\n",
    "auctionsVentanaTres[\"date\"] = auctionsVentanaTres[\"date\"] - auctionsVentanaTres[\"fechaInicial\"]\n",
    "auctionsVentanaCuatro[\"date\"] = auctionsVentanaCuatro[\"date\"] - auctionsVentanaCuatro[\"fechaInicial\"]\n",
    "auctionsVentanaCinco[\"date\"] = auctionsVentanaCinco[\"date\"] - auctionsVentanaCinco[\"fechaInicial\"]\n",
    "auctionsVentanaSeis[\"date\"] = auctionsVentanaSeis[\"date\"] - auctionsVentanaSeis[\"fechaInicial\"]\n",
    "auctionsVentanaSiete[\"date\"] = auctionsVentanaSiete[\"date\"] - auctionsVentanaSiete[\"fechaInicial\"]"
   ]
  },
  {
   "cell_type": "code",
   "execution_count": 13,
   "metadata": {},
   "outputs": [
    {
     "data": {
      "text/html": [
       "<div>\n",
       "<style scoped>\n",
       "    .dataframe tbody tr th:only-of-type {\n",
       "        vertical-align: middle;\n",
       "    }\n",
       "\n",
       "    .dataframe tbody tr th {\n",
       "        vertical-align: top;\n",
       "    }\n",
       "\n",
       "    .dataframe thead th {\n",
       "        text-align: right;\n",
       "    }\n",
       "</style>\n",
       "<table border=\"1\" class=\"dataframe\">\n",
       "  <thead>\n",
       "    <tr style=\"text-align: right;\">\n",
       "      <th></th>\n",
       "      <th>date</th>\n",
       "      <th>device_id</th>\n",
       "      <th>ref_type_id</th>\n",
       "      <th>source_id</th>\n",
       "      <th>fechaInicial</th>\n",
       "    </tr>\n",
       "  </thead>\n",
       "  <tbody>\n",
       "    <tr>\n",
       "      <th>221726</th>\n",
       "      <td>2 days 23:57:27.912838</td>\n",
       "      <td>1109595589636746168</td>\n",
       "      <td>7</td>\n",
       "      <td>0</td>\n",
       "      <td>2019-04-18</td>\n",
       "    </tr>\n",
       "    <tr>\n",
       "      <th>221727</th>\n",
       "      <td>2 days 23:57:28.381114</td>\n",
       "      <td>5896614299191635403</td>\n",
       "      <td>1</td>\n",
       "      <td>0</td>\n",
       "      <td>2019-04-18</td>\n",
       "    </tr>\n",
       "  </tbody>\n",
       "</table>\n",
       "</div>"
      ],
      "text/plain": [
       "                         date            device_id  ref_type_id  source_id  \\\n",
       "221726 2 days 23:57:27.912838  1109595589636746168            7          0   \n",
       "221727 2 days 23:57:28.381114  5896614299191635403            1          0   \n",
       "\n",
       "       fechaInicial  \n",
       "221726   2019-04-18  \n",
       "221727   2019-04-18  "
      ]
     },
     "execution_count": 13,
     "metadata": {},
     "output_type": "execute_result"
    }
   ],
   "source": [
    "auctionsVentanaUno.head(2)"
   ]
  },
  {
   "cell_type": "code",
   "execution_count": 113,
   "metadata": {},
   "outputs": [
    {
     "data": {
      "text/plain": [
       "date                        float64\n",
       "device_id                     int64\n",
       "ref_type_id                   int64\n",
       "source_id                     int64\n",
       "fechaInicial         datetime64[ns]\n",
       "sum                           int64\n",
       "cantidad_subastas             int64\n",
       "dtype: object"
      ]
     },
     "execution_count": 113,
     "metadata": {},
     "output_type": "execute_result"
    }
   ],
   "source": [
    "auctionsVentanaUno.dtypes"
   ]
  },
  {
   "cell_type": "markdown",
   "metadata": {},
   "source": [
    "### Queremos resultados en segundos"
   ]
  },
  {
   "cell_type": "code",
   "execution_count": 14,
   "metadata": {},
   "outputs": [],
   "source": [
    "auctionsVentanaUno[\"date\"] = auctionsVentanaUno[\"date\"].dt.total_seconds()\n",
    "auctionsVentanaDos[\"date\"] = auctionsVentanaDos[\"date\"].dt.total_seconds()\n",
    "auctionsVentanaTres[\"date\"] = auctionsVentanaTres[\"date\"].dt.total_seconds()\n",
    "auctionsVentanaCuatro[\"date\"] = auctionsVentanaCuatro[\"date\"].dt.total_seconds()\n",
    "auctionsVentanaCinco[\"date\"] = auctionsVentanaCinco[\"date\"].dt.total_seconds()\n",
    "auctionsVentanaSeis[\"date\"] = auctionsVentanaSeis[\"date\"].dt.total_seconds()\n",
    "auctionsVentanaSiete[\"date\"] = auctionsVentanaSiete[\"date\"].dt.total_seconds()"
   ]
  },
  {
   "cell_type": "markdown",
   "metadata": {},
   "source": [
    "Agregamos una columna _sum_ para poder contar la cantidad de veces que aparece un device en una ventana de tres días."
   ]
  },
  {
   "cell_type": "code",
   "execution_count": 15,
   "metadata": {},
   "outputs": [],
   "source": [
    "auctionsVentanaUno[\"sum\"] = 1\n",
    "auctionsVentanaDos[\"sum\"] = 1\n",
    "auctionsVentanaTres[\"sum\"] = 1\n",
    "auctionsVentanaCuatro[\"sum\"] = 1\n",
    "auctionsVentanaCinco[\"sum\"] = 1\n",
    "auctionsVentanaSeis[\"sum\"] = 1\n",
    "auctionsVentanaSiete[\"sum\"] = 1"
   ]
  },
  {
   "cell_type": "markdown",
   "metadata": {},
   "source": [
    "Contamos la cantidad de auctions en la ventana de 3 días para incluirla en la ventana siguiente como parametro."
   ]
  },
  {
   "cell_type": "code",
   "execution_count": 16,
   "metadata": {},
   "outputs": [],
   "source": [
    "cantidadDeSubastasPorIdVentanaUno = auctionsVentanaUno[['device_id','sum']].groupby('device_id').sum()\n",
    "cantidadDeSubastasPorIdVentanaDos = auctionsVentanaDos[['device_id','sum']].groupby('device_id').sum()\n",
    "cantidadDeSubastasPorIdVentanaTres = auctionsVentanaTres[['device_id','sum']].groupby('device_id').sum()\n",
    "cantidadDeSubastasPorIdVentanaCuatro = auctionsVentanaCuatro[['device_id','sum']].groupby('device_id').sum()\n",
    "cantidadDeSubastasPorIdVentanaCinco = auctionsVentanaCinco[['device_id','sum']].groupby('device_id').sum()\n",
    "cantidadDeSubastasPorIdVentanaSeis = auctionsVentanaSeis[['device_id','sum']].groupby('device_id').sum()\n",
    "cantidadDeSubastasPorIdVentanaSiete = auctionsVentanaSiete[['device_id','sum']].groupby('device_id').sum()"
   ]
  },
  {
   "cell_type": "code",
   "execution_count": 38,
   "metadata": {},
   "outputs": [
    {
     "data": {
      "text/html": [
       "<div>\n",
       "<style scoped>\n",
       "    .dataframe tbody tr th:only-of-type {\n",
       "        vertical-align: middle;\n",
       "    }\n",
       "\n",
       "    .dataframe tbody tr th {\n",
       "        vertical-align: top;\n",
       "    }\n",
       "\n",
       "    .dataframe thead th {\n",
       "        text-align: right;\n",
       "    }\n",
       "</style>\n",
       "<table border=\"1\" class=\"dataframe\">\n",
       "  <thead>\n",
       "    <tr style=\"text-align: right;\">\n",
       "      <th></th>\n",
       "      <th>sum</th>\n",
       "    </tr>\n",
       "    <tr>\n",
       "      <th>device_id</th>\n",
       "      <th></th>\n",
       "    </tr>\n",
       "  </thead>\n",
       "  <tbody>\n",
       "    <tr>\n",
       "      <th>40621409780134</th>\n",
       "      <td>1</td>\n",
       "    </tr>\n",
       "    <tr>\n",
       "      <th>69039685746313</th>\n",
       "      <td>4</td>\n",
       "    </tr>\n",
       "  </tbody>\n",
       "</table>\n",
       "</div>"
      ],
      "text/plain": [
       "                sum\n",
       "device_id          \n",
       "40621409780134    1\n",
       "69039685746313    4"
      ]
     },
     "execution_count": 38,
     "metadata": {},
     "output_type": "execute_result"
    }
   ],
   "source": [
    "cantidadDeSubastasPorIdVentanaSeis.head(2)"
   ]
  },
  {
   "cell_type": "code",
   "execution_count": 17,
   "metadata": {},
   "outputs": [],
   "source": [
    "cantidadDeSubastasPorIdVentanaUno = cantidadDeSubastasPorIdVentanaUno.stack().reset_index()\n",
    "cantidadDeSubastasPorIdVentanaDos = cantidadDeSubastasPorIdVentanaDos.stack().reset_index()\n",
    "cantidadDeSubastasPorIdVentanaTres = cantidadDeSubastasPorIdVentanaTres.stack().reset_index()\n",
    "cantidadDeSubastasPorIdVentanaCuatro = cantidadDeSubastasPorIdVentanaCuatro.stack().reset_index()\n",
    "cantidadDeSubastasPorIdVentanaCinco = cantidadDeSubastasPorIdVentanaCinco.stack().reset_index()\n",
    "cantidadDeSubastasPorIdVentanaSeis = cantidadDeSubastasPorIdVentanaSeis.stack().reset_index()\n",
    "cantidadDeSubastasPorIdVentanaSiete = cantidadDeSubastasPorIdVentanaSiete.stack().reset_index()"
   ]
  },
  {
   "cell_type": "code",
   "execution_count": 18,
   "metadata": {},
   "outputs": [],
   "source": [
    "cantidadDeSubastasPorIdVentanaUno = cantidadDeSubastasPorIdVentanaUno.drop(columns = ['level_1'])\n",
    "cantidadDeSubastasPorIdVentanaDos = cantidadDeSubastasPorIdVentanaDos.drop(columns = ['level_1'])\n",
    "cantidadDeSubastasPorIdVentanaTres = cantidadDeSubastasPorIdVentanaTres.drop(columns = ['level_1'])\n",
    "cantidadDeSubastasPorIdVentanaCuatro = cantidadDeSubastasPorIdVentanaCuatro.drop(columns = ['level_1'])\n",
    "cantidadDeSubastasPorIdVentanaCinco = cantidadDeSubastasPorIdVentanaCinco.drop(columns = ['level_1'])\n",
    "cantidadDeSubastasPorIdVentanaSeis = cantidadDeSubastasPorIdVentanaSeis.drop(columns = ['level_1'])\n",
    "cantidadDeSubastasPorIdVentanaSiete = cantidadDeSubastasPorIdVentanaSiete.drop(columns = ['level_1'])"
   ]
  },
  {
   "cell_type": "code",
   "execution_count": 19,
   "metadata": {},
   "outputs": [],
   "source": [
    "cantidadDeSubastasPorIdVentanaUno.columns = ['device_id', 'cantidad_subastas']\n",
    "cantidadDeSubastasPorIdVentanaDos.columns = ['device_id', 'cantidad_subastas']\n",
    "cantidadDeSubastasPorIdVentanaTres.columns = ['device_id', 'cantidad_subastas']\n",
    "cantidadDeSubastasPorIdVentanaCuatro.columns = ['device_id', 'cantidad_subastas']\n",
    "cantidadDeSubastasPorIdVentanaCinco.columns = ['device_id', 'cantidad_subastas']\n",
    "cantidadDeSubastasPorIdVentanaSeis.columns = ['device_id', 'cantidad_subastas']\n",
    "cantidadDeSubastasPorIdVentanaSiete.columns = ['device_id', 'cantidad_subastas']"
   ]
  },
  {
   "cell_type": "code",
   "execution_count": 20,
   "metadata": {},
   "outputs": [
    {
     "data": {
      "text/html": [
       "<div>\n",
       "<style scoped>\n",
       "    .dataframe tbody tr th:only-of-type {\n",
       "        vertical-align: middle;\n",
       "    }\n",
       "\n",
       "    .dataframe tbody tr th {\n",
       "        vertical-align: top;\n",
       "    }\n",
       "\n",
       "    .dataframe thead th {\n",
       "        text-align: right;\n",
       "    }\n",
       "</style>\n",
       "<table border=\"1\" class=\"dataframe\">\n",
       "  <thead>\n",
       "    <tr style=\"text-align: right;\">\n",
       "      <th></th>\n",
       "      <th>device_id</th>\n",
       "      <th>cantidad_subastas</th>\n",
       "    </tr>\n",
       "  </thead>\n",
       "  <tbody>\n",
       "    <tr>\n",
       "      <th>0</th>\n",
       "      <td>41863526108385</td>\n",
       "      <td>35</td>\n",
       "    </tr>\n",
       "    <tr>\n",
       "      <th>1</th>\n",
       "      <td>135153013040192</td>\n",
       "      <td>8</td>\n",
       "    </tr>\n",
       "  </tbody>\n",
       "</table>\n",
       "</div>"
      ],
      "text/plain": [
       "         device_id  cantidad_subastas\n",
       "0   41863526108385                 35\n",
       "1  135153013040192                  8"
      ]
     },
     "execution_count": 20,
     "metadata": {},
     "output_type": "execute_result"
    }
   ],
   "source": [
    "cantidadDeSubastasPorIdVentanaUno.head(2)"
   ]
  },
  {
   "cell_type": "code",
   "execution_count": 21,
   "metadata": {},
   "outputs": [],
   "source": [
    "auctionsVentanaUno = pd.merge(auctionsVentanaUno, cantidadDeSubastasPorIdVentanaUno, on ='device_id', how = 'left')\n",
    "auctionsVentanaDos = pd.merge(auctionsVentanaDos, cantidadDeSubastasPorIdVentanaDos, on ='device_id', how = 'left')\n",
    "auctionsVentanaTres = pd.merge(auctionsVentanaTres, cantidadDeSubastasPorIdVentanaTres, on ='device_id', how = 'left')\n",
    "auctionsVentanaCuatro = pd.merge(auctionsVentanaCuatro, cantidadDeSubastasPorIdVentanaCuatro, on ='device_id', how = 'left')\n",
    "auctionsVentanaCinco = pd.merge(auctionsVentanaCinco, cantidadDeSubastasPorIdVentanaCinco, on ='device_id', how = 'left')\n",
    "auctionsVentanaSeis = pd.merge(auctionsVentanaSeis, cantidadDeSubastasPorIdVentanaSeis, on ='device_id', how = 'left')\n",
    "auctionsVentanaSiete = pd.merge(auctionsVentanaSiete, cantidadDeSubastasPorIdVentanaSiete, on ='device_id', how = 'left')\n"
   ]
  },
  {
   "cell_type": "code",
   "execution_count": 22,
   "metadata": {},
   "outputs": [
    {
     "data": {
      "text/html": [
       "<div>\n",
       "<style scoped>\n",
       "    .dataframe tbody tr th:only-of-type {\n",
       "        vertical-align: middle;\n",
       "    }\n",
       "\n",
       "    .dataframe tbody tr th {\n",
       "        vertical-align: top;\n",
       "    }\n",
       "\n",
       "    .dataframe thead th {\n",
       "        text-align: right;\n",
       "    }\n",
       "</style>\n",
       "<table border=\"1\" class=\"dataframe\">\n",
       "  <thead>\n",
       "    <tr style=\"text-align: right;\">\n",
       "      <th></th>\n",
       "      <th>date</th>\n",
       "      <th>device_id</th>\n",
       "      <th>ref_type_id</th>\n",
       "      <th>source_id</th>\n",
       "      <th>fechaInicial</th>\n",
       "      <th>sum</th>\n",
       "      <th>cantidad_subastas</th>\n",
       "    </tr>\n",
       "  </thead>\n",
       "  <tbody>\n",
       "    <tr>\n",
       "      <th>0</th>\n",
       "      <td>259047.912838</td>\n",
       "      <td>1109595589636746168</td>\n",
       "      <td>7</td>\n",
       "      <td>0</td>\n",
       "      <td>2019-04-18</td>\n",
       "      <td>1</td>\n",
       "      <td>128</td>\n",
       "    </tr>\n",
       "    <tr>\n",
       "      <th>1</th>\n",
       "      <td>259048.381114</td>\n",
       "      <td>5896614299191635403</td>\n",
       "      <td>1</td>\n",
       "      <td>0</td>\n",
       "      <td>2019-04-18</td>\n",
       "      <td>1</td>\n",
       "      <td>46</td>\n",
       "    </tr>\n",
       "    <tr>\n",
       "      <th>2</th>\n",
       "      <td>259048.515423</td>\n",
       "      <td>4172466725848941608</td>\n",
       "      <td>1</td>\n",
       "      <td>0</td>\n",
       "      <td>2019-04-18</td>\n",
       "      <td>1</td>\n",
       "      <td>252</td>\n",
       "    </tr>\n",
       "    <tr>\n",
       "      <th>3</th>\n",
       "      <td>259048.700884</td>\n",
       "      <td>2616279795187318849</td>\n",
       "      <td>7</td>\n",
       "      <td>0</td>\n",
       "      <td>2019-04-18</td>\n",
       "      <td>1</td>\n",
       "      <td>191</td>\n",
       "    </tr>\n",
       "    <tr>\n",
       "      <th>4</th>\n",
       "      <td>259048.868312</td>\n",
       "      <td>8034952072073026056</td>\n",
       "      <td>1</td>\n",
       "      <td>0</td>\n",
       "      <td>2019-04-18</td>\n",
       "      <td>1</td>\n",
       "      <td>166</td>\n",
       "    </tr>\n",
       "    <tr>\n",
       "      <th>5</th>\n",
       "      <td>259049.202778</td>\n",
       "      <td>8018738201130876812</td>\n",
       "      <td>1</td>\n",
       "      <td>0</td>\n",
       "      <td>2019-04-18</td>\n",
       "      <td>1</td>\n",
       "      <td>1647</td>\n",
       "    </tr>\n",
       "    <tr>\n",
       "      <th>6</th>\n",
       "      <td>259049.441246</td>\n",
       "      <td>4914962826064649332</td>\n",
       "      <td>7</td>\n",
       "      <td>0</td>\n",
       "      <td>2019-04-18</td>\n",
       "      <td>1</td>\n",
       "      <td>58</td>\n",
       "    </tr>\n",
       "  </tbody>\n",
       "</table>\n",
       "</div>"
      ],
      "text/plain": [
       "            date            device_id  ref_type_id  source_id fechaInicial  \\\n",
       "0  259047.912838  1109595589636746168            7          0   2019-04-18   \n",
       "1  259048.381114  5896614299191635403            1          0   2019-04-18   \n",
       "2  259048.515423  4172466725848941608            1          0   2019-04-18   \n",
       "3  259048.700884  2616279795187318849            7          0   2019-04-18   \n",
       "4  259048.868312  8034952072073026056            1          0   2019-04-18   \n",
       "5  259049.202778  8018738201130876812            1          0   2019-04-18   \n",
       "6  259049.441246  4914962826064649332            7          0   2019-04-18   \n",
       "\n",
       "   sum  cantidad_subastas  \n",
       "0    1                128  \n",
       "1    1                 46  \n",
       "2    1                252  \n",
       "3    1                191  \n",
       "4    1                166  \n",
       "5    1               1647  \n",
       "6    1                 58  "
      ]
     },
     "execution_count": 22,
     "metadata": {},
     "output_type": "execute_result"
    }
   ],
   "source": [
    "auctionsVentanaUno.head(7)"
   ]
  },
  {
   "cell_type": "markdown",
   "metadata": {},
   "source": [
    "### Despues haremos un feature con el tiempo promedio entre dos subastas por device_id.\n",
    "\n",
    "### Para hacer eso, ordenaremos por device_id y despues por fecha, para poder correr una funcion que resta la diferencia entre dos elementos si tienen el mismo id"
   ]
  },
  {
   "cell_type": "code",
   "execution_count": 23,
   "metadata": {},
   "outputs": [],
   "source": [
    "auctionsVentanaUno = auctionsVentanaUno.sort_values(['device_id', 'date'], ascending = [True, True])\n",
    "auctionsVentanaDos = auctionsVentanaDos.sort_values(['device_id', 'date'], ascending = [True, True])\n",
    "auctionsVentanaTres = auctionsVentanaTres.sort_values(['device_id', 'date'], ascending = [True, True])\n",
    "auctionsVentanaCuatro = auctionsVentanaCuatro.sort_values(['device_id', 'date'], ascending = [True, True])\n",
    "auctionsVentanaCinco = auctionsVentanaCinco.sort_values(['device_id', 'date'], ascending = [True, True])\n",
    "auctionsVentanaSeis = auctionsVentanaSeis.sort_values(['device_id', 'date'], ascending = [True, True])\n",
    "auctionsVentanaSiete = auctionsVentanaSiete.sort_values(['device_id', 'date'], ascending = [True, True])"
   ]
  },
  {
   "cell_type": "code",
   "execution_count": 24,
   "metadata": {},
   "outputs": [
    {
     "data": {
      "text/html": [
       "<div>\n",
       "<style scoped>\n",
       "    .dataframe tbody tr th:only-of-type {\n",
       "        vertical-align: middle;\n",
       "    }\n",
       "\n",
       "    .dataframe tbody tr th {\n",
       "        vertical-align: top;\n",
       "    }\n",
       "\n",
       "    .dataframe thead th {\n",
       "        text-align: right;\n",
       "    }\n",
       "</style>\n",
       "<table border=\"1\" class=\"dataframe\">\n",
       "  <thead>\n",
       "    <tr style=\"text-align: right;\">\n",
       "      <th></th>\n",
       "      <th>date</th>\n",
       "      <th>device_id</th>\n",
       "      <th>ref_type_id</th>\n",
       "      <th>source_id</th>\n",
       "      <th>fechaInicial</th>\n",
       "      <th>sum</th>\n",
       "      <th>cantidad_subastas</th>\n",
       "    </tr>\n",
       "  </thead>\n",
       "  <tbody>\n",
       "    <tr>\n",
       "      <th>11212121</th>\n",
       "      <td>157228.465866</td>\n",
       "      <td>41863526108385</td>\n",
       "      <td>1</td>\n",
       "      <td>8</td>\n",
       "      <td>2019-04-18</td>\n",
       "      <td>1</td>\n",
       "      <td>35</td>\n",
       "    </tr>\n",
       "    <tr>\n",
       "      <th>5304186</th>\n",
       "      <td>183146.892880</td>\n",
       "      <td>41863526108385</td>\n",
       "      <td>1</td>\n",
       "      <td>3</td>\n",
       "      <td>2019-04-18</td>\n",
       "      <td>1</td>\n",
       "      <td>35</td>\n",
       "    </tr>\n",
       "    <tr>\n",
       "      <th>11604212</th>\n",
       "      <td>183542.509230</td>\n",
       "      <td>41863526108385</td>\n",
       "      <td>1</td>\n",
       "      <td>3</td>\n",
       "      <td>2019-04-18</td>\n",
       "      <td>1</td>\n",
       "      <td>35</td>\n",
       "    </tr>\n",
       "    <tr>\n",
       "      <th>14997595</th>\n",
       "      <td>183961.675788</td>\n",
       "      <td>41863526108385</td>\n",
       "      <td>1</td>\n",
       "      <td>3</td>\n",
       "      <td>2019-04-18</td>\n",
       "      <td>1</td>\n",
       "      <td>35</td>\n",
       "    </tr>\n",
       "    <tr>\n",
       "      <th>13857860</th>\n",
       "      <td>184137.388160</td>\n",
       "      <td>41863526108385</td>\n",
       "      <td>1</td>\n",
       "      <td>3</td>\n",
       "      <td>2019-04-18</td>\n",
       "      <td>1</td>\n",
       "      <td>35</td>\n",
       "    </tr>\n",
       "    <tr>\n",
       "      <th>8143403</th>\n",
       "      <td>184286.463903</td>\n",
       "      <td>41863526108385</td>\n",
       "      <td>1</td>\n",
       "      <td>3</td>\n",
       "      <td>2019-04-18</td>\n",
       "      <td>1</td>\n",
       "      <td>35</td>\n",
       "    </tr>\n",
       "    <tr>\n",
       "      <th>4680108</th>\n",
       "      <td>184301.011671</td>\n",
       "      <td>41863526108385</td>\n",
       "      <td>1</td>\n",
       "      <td>3</td>\n",
       "      <td>2019-04-18</td>\n",
       "      <td>1</td>\n",
       "      <td>35</td>\n",
       "    </tr>\n",
       "    <tr>\n",
       "      <th>13858166</th>\n",
       "      <td>184346.681062</td>\n",
       "      <td>41863526108385</td>\n",
       "      <td>1</td>\n",
       "      <td>5</td>\n",
       "      <td>2019-04-18</td>\n",
       "      <td>1</td>\n",
       "      <td>35</td>\n",
       "    </tr>\n",
       "    <tr>\n",
       "      <th>4680208</th>\n",
       "      <td>184377.482482</td>\n",
       "      <td>41863526108385</td>\n",
       "      <td>1</td>\n",
       "      <td>3</td>\n",
       "      <td>2019-04-18</td>\n",
       "      <td>1</td>\n",
       "      <td>35</td>\n",
       "    </tr>\n",
       "    <tr>\n",
       "      <th>13128758</th>\n",
       "      <td>184496.144108</td>\n",
       "      <td>41863526108385</td>\n",
       "      <td>1</td>\n",
       "      <td>3</td>\n",
       "      <td>2019-04-18</td>\n",
       "      <td>1</td>\n",
       "      <td>35</td>\n",
       "    </tr>\n",
       "  </tbody>\n",
       "</table>\n",
       "</div>"
      ],
      "text/plain": [
       "                   date       device_id  ref_type_id  source_id fechaInicial  \\\n",
       "11212121  157228.465866  41863526108385            1          8   2019-04-18   \n",
       "5304186   183146.892880  41863526108385            1          3   2019-04-18   \n",
       "11604212  183542.509230  41863526108385            1          3   2019-04-18   \n",
       "14997595  183961.675788  41863526108385            1          3   2019-04-18   \n",
       "13857860  184137.388160  41863526108385            1          3   2019-04-18   \n",
       "8143403   184286.463903  41863526108385            1          3   2019-04-18   \n",
       "4680108   184301.011671  41863526108385            1          3   2019-04-18   \n",
       "13858166  184346.681062  41863526108385            1          5   2019-04-18   \n",
       "4680208   184377.482482  41863526108385            1          3   2019-04-18   \n",
       "13128758  184496.144108  41863526108385            1          3   2019-04-18   \n",
       "\n",
       "          sum  cantidad_subastas  \n",
       "11212121    1                 35  \n",
       "5304186     1                 35  \n",
       "11604212    1                 35  \n",
       "14997595    1                 35  \n",
       "13857860    1                 35  \n",
       "8143403     1                 35  \n",
       "4680108     1                 35  \n",
       "13858166    1                 35  \n",
       "4680208     1                 35  \n",
       "13128758    1                 35  "
      ]
     },
     "execution_count": 24,
     "metadata": {},
     "output_type": "execute_result"
    }
   ],
   "source": [
    "auctionsVentanaUno.head(10)"
   ]
  },
  {
   "cell_type": "markdown",
   "metadata": {},
   "source": [
    "### Nos separamos de los duplicates para hacer una regresion por device. Nos quedaremos con ese set sin tocarlo para poder despues concatenar nuestros resultados sin device_id pero con el mismo orden. El orden nos indicara cual device_id es."
   ]
  },
  {
   "cell_type": "code",
   "execution_count": 24,
   "metadata": {},
   "outputs": [],
   "source": [
    "auctionsVentanaUnoRegressionSet = auctionsVentanaUno.drop_duplicates(subset = 'device_id')\n",
    "auctionsVentanaDosRegressionSet = auctionsVentanaDos.drop_duplicates(subset = 'device_id')\n",
    "auctionsVentanaTresRegressionSet = auctionsVentanaTres.drop_duplicates(subset = 'device_id')\n",
    "auctionsVentanaCuatroRegressionSet = auctionsVentanaCuatro.drop_duplicates(subset = 'device_id')\n",
    "auctionsVentanaCincoRegressionSet = auctionsVentanaCinco.drop_duplicates(subset = 'device_id')\n",
    "auctionsVentanaSeisRegressionSet = auctionsVentanaSeis.drop_duplicates(subset = 'device_id')\n",
    "auctionsVentanaSieteRegressionSet = auctionsVentanaSiete.drop_duplicates(subset = 'device_id')"
   ]
  },
  {
   "cell_type": "code",
   "execution_count": 25,
   "metadata": {},
   "outputs": [
    {
     "data": {
      "text/html": [
       "<div>\n",
       "<style scoped>\n",
       "    .dataframe tbody tr th:only-of-type {\n",
       "        vertical-align: middle;\n",
       "    }\n",
       "\n",
       "    .dataframe tbody tr th {\n",
       "        vertical-align: top;\n",
       "    }\n",
       "\n",
       "    .dataframe thead th {\n",
       "        text-align: right;\n",
       "    }\n",
       "</style>\n",
       "<table border=\"1\" class=\"dataframe\">\n",
       "  <thead>\n",
       "    <tr style=\"text-align: right;\">\n",
       "      <th></th>\n",
       "      <th>date</th>\n",
       "      <th>device_id</th>\n",
       "      <th>ref_type_id</th>\n",
       "      <th>source_id</th>\n",
       "      <th>fechaInicial</th>\n",
       "      <th>sum</th>\n",
       "      <th>cantidad_subastas</th>\n",
       "    </tr>\n",
       "  </thead>\n",
       "  <tbody>\n",
       "    <tr>\n",
       "      <th>11212121</th>\n",
       "      <td>157228.465866</td>\n",
       "      <td>41863526108385</td>\n",
       "      <td>1</td>\n",
       "      <td>8</td>\n",
       "      <td>2019-04-18</td>\n",
       "      <td>1</td>\n",
       "      <td>35</td>\n",
       "    </tr>\n",
       "    <tr>\n",
       "      <th>12832576</th>\n",
       "      <td>187854.009137</td>\n",
       "      <td>135153013040192</td>\n",
       "      <td>1</td>\n",
       "      <td>1</td>\n",
       "      <td>2019-04-18</td>\n",
       "      <td>1</td>\n",
       "      <td>8</td>\n",
       "    </tr>\n",
       "    <tr>\n",
       "      <th>15276817</th>\n",
       "      <td>10366.357746</td>\n",
       "      <td>161514654074162</td>\n",
       "      <td>1</td>\n",
       "      <td>1</td>\n",
       "      <td>2019-04-18</td>\n",
       "      <td>1</td>\n",
       "      <td>6</td>\n",
       "    </tr>\n",
       "    <tr>\n",
       "      <th>3972519</th>\n",
       "      <td>256765.420614</td>\n",
       "      <td>181891380775191</td>\n",
       "      <td>1</td>\n",
       "      <td>1</td>\n",
       "      <td>2019-04-18</td>\n",
       "      <td>1</td>\n",
       "      <td>1</td>\n",
       "    </tr>\n",
       "    <tr>\n",
       "      <th>5728752</th>\n",
       "      <td>60166.331894</td>\n",
       "      <td>186034136943920</td>\n",
       "      <td>1</td>\n",
       "      <td>1</td>\n",
       "      <td>2019-04-18</td>\n",
       "      <td>1</td>\n",
       "      <td>7</td>\n",
       "    </tr>\n",
       "  </tbody>\n",
       "</table>\n",
       "</div>"
      ],
      "text/plain": [
       "                   date        device_id  ref_type_id  source_id fechaInicial  \\\n",
       "11212121  157228.465866   41863526108385            1          8   2019-04-18   \n",
       "12832576  187854.009137  135153013040192            1          1   2019-04-18   \n",
       "15276817   10366.357746  161514654074162            1          1   2019-04-18   \n",
       "3972519   256765.420614  181891380775191            1          1   2019-04-18   \n",
       "5728752    60166.331894  186034136943920            1          1   2019-04-18   \n",
       "\n",
       "          sum  cantidad_subastas  \n",
       "11212121    1                 35  \n",
       "12832576    1                  8  \n",
       "15276817    1                  6  \n",
       "3972519     1                  1  \n",
       "5728752     1                  7  "
      ]
     },
     "execution_count": 25,
     "metadata": {},
     "output_type": "execute_result"
    }
   ],
   "source": [
    "auctionsVentanaUnoRegressionSet.head(5)"
   ]
  },
  {
   "cell_type": "code",
   "execution_count": 26,
   "metadata": {},
   "outputs": [],
   "source": [
    "auctionsVentanaUnoRegressionSet = auctionsVentanaUnoRegressionSet[['cantidad_subastas', 'date', 'device_id']]\n",
    "auctionsVentanaDosRegressionSet = auctionsVentanaDosRegressionSet[['cantidad_subastas', 'date', 'device_id']]\n",
    "auctionsVentanaTresRegressionSet = auctionsVentanaTresRegressionSet[['cantidad_subastas', 'date', 'device_id']]\n",
    "auctionsVentanaCuatroRegressionSet = auctionsVentanaCuatroRegressionSet[['cantidad_subastas', 'date', 'device_id']]\n",
    "auctionsVentanaCincoRegressionSet = auctionsVentanaCincoRegressionSet[['cantidad_subastas', 'date', 'device_id']]\n",
    "auctionsVentanaSeisRegressionSet = auctionsVentanaSeisRegressionSet[['cantidad_subastas', 'date', 'device_id']]\n",
    "auctionsVentanaSieteRegressionSet = auctionsVentanaSieteRegressionSet[['cantidad_subastas', 'date', 'device_id']]"
   ]
  },
  {
   "cell_type": "code",
   "execution_count": 27,
   "metadata": {},
   "outputs": [],
   "source": [
    "auctionsVentanaUnoRegressionSet = auctionsVentanaUnoRegressionSet.reset_index(drop = True)\n",
    "auctionsVentanaDosRegressionSet = auctionsVentanaDosRegressionSet.reset_index(drop = True)\n",
    "auctionsVentanaTresRegressionSet = auctionsVentanaTresRegressionSet.reset_index(drop = True)\n",
    "auctionsVentanaCuatroRegressionSet = auctionsVentanaCuatroRegressionSet.reset_index(drop = True)\n",
    "auctionsVentanaCincoRegressionSet = auctionsVentanaCincoRegressionSet.reset_index(drop = True)\n",
    "auctionsVentanaSeisRegressionSet = auctionsVentanaSeisRegressionSet.reset_index(drop = True)\n",
    "auctionsVentanaSieteRegressionSet = auctionsVentanaSieteRegressionSet.reset_index(drop = True)"
   ]
  },
  {
   "cell_type": "code",
   "execution_count": 54,
   "metadata": {},
   "outputs": [
    {
     "data": {
      "text/html": [
       "<div>\n",
       "<style scoped>\n",
       "    .dataframe tbody tr th:only-of-type {\n",
       "        vertical-align: middle;\n",
       "    }\n",
       "\n",
       "    .dataframe tbody tr th {\n",
       "        vertical-align: top;\n",
       "    }\n",
       "\n",
       "    .dataframe thead th {\n",
       "        text-align: right;\n",
       "    }\n",
       "</style>\n",
       "<table border=\"1\" class=\"dataframe\">\n",
       "  <thead>\n",
       "    <tr style=\"text-align: right;\">\n",
       "      <th></th>\n",
       "      <th>cantidad_subastas</th>\n",
       "      <th>date</th>\n",
       "      <th>device_id</th>\n",
       "    </tr>\n",
       "  </thead>\n",
       "  <tbody>\n",
       "    <tr>\n",
       "      <th>0</th>\n",
       "      <td>35</td>\n",
       "      <td>157228.465866</td>\n",
       "      <td>41863526108385</td>\n",
       "    </tr>\n",
       "    <tr>\n",
       "      <th>1</th>\n",
       "      <td>8</td>\n",
       "      <td>187854.009137</td>\n",
       "      <td>135153013040192</td>\n",
       "    </tr>\n",
       "  </tbody>\n",
       "</table>\n",
       "</div>"
      ],
      "text/plain": [
       "   cantidad_subastas           date        device_id\n",
       "0                 35  157228.465866   41863526108385\n",
       "1                  8  187854.009137  135153013040192"
      ]
     },
     "execution_count": 54,
     "metadata": {},
     "output_type": "execute_result"
    }
   ],
   "source": [
    "auctionsVentanaUnoRegressionSet.head(2)"
   ]
  },
  {
   "cell_type": "code",
   "execution_count": 28,
   "metadata": {},
   "outputs": [],
   "source": [
    "auctionsVentanaUnoRegressionSet.columns = ['cantidad_subastas_v1', 'date_v1', 'device_id']\n",
    "auctionsVentanaDosRegressionSet.columns = ['cantidad_subastas_v2', 'date_v2', 'device_id']\n",
    "auctionsVentanaTresRegressionSet.columns = ['cantidad_subastas_v3', 'date_v3', 'device_id']\n",
    "auctionsVentanaCuatroRegressionSet.columns = ['cantidad_subastas_v4', 'date_v4', 'device_id']\n",
    "auctionsVentanaCincoRegressionSet.columns = ['cantidad_subastas_v5', 'date_v5', 'device_id']\n",
    "auctionsVentanaSeisRegressionSet.columns = ['cantidad_subastas_v6', 'date_v6', 'device_id']\n",
    "auctionsVentanaSieteRegressionSet.columns = ['cantidad_subastas_v7', 'date_v7', 'device_id']"
   ]
  },
  {
   "cell_type": "code",
   "execution_count": 29,
   "metadata": {},
   "outputs": [
    {
     "data": {
      "text/html": [
       "<div>\n",
       "<style scoped>\n",
       "    .dataframe tbody tr th:only-of-type {\n",
       "        vertical-align: middle;\n",
       "    }\n",
       "\n",
       "    .dataframe tbody tr th {\n",
       "        vertical-align: top;\n",
       "    }\n",
       "\n",
       "    .dataframe thead th {\n",
       "        text-align: right;\n",
       "    }\n",
       "</style>\n",
       "<table border=\"1\" class=\"dataframe\">\n",
       "  <thead>\n",
       "    <tr style=\"text-align: right;\">\n",
       "      <th></th>\n",
       "      <th>cantidad_subastas_v7</th>\n",
       "      <th>date_v7</th>\n",
       "      <th>device_id</th>\n",
       "    </tr>\n",
       "  </thead>\n",
       "  <tbody>\n",
       "    <tr>\n",
       "      <th>0</th>\n",
       "      <td>4</td>\n",
       "      <td>126258.597103</td>\n",
       "      <td>69039685746313</td>\n",
       "    </tr>\n",
       "    <tr>\n",
       "      <th>1</th>\n",
       "      <td>2</td>\n",
       "      <td>250362.048531</td>\n",
       "      <td>345999128501141</td>\n",
       "    </tr>\n",
       "  </tbody>\n",
       "</table>\n",
       "</div>"
      ],
      "text/plain": [
       "   cantidad_subastas_v7        date_v7        device_id\n",
       "0                     4  126258.597103   69039685746313\n",
       "1                     2  250362.048531  345999128501141"
      ]
     },
     "execution_count": 29,
     "metadata": {},
     "output_type": "execute_result"
    }
   ],
   "source": [
    "auctionsVentanaSieteRegressionSet.head(2)"
   ]
  },
  {
   "cell_type": "code",
   "execution_count": 30,
   "metadata": {},
   "outputs": [],
   "source": [
    "auctionsV_1_2_3 = pd.merge(auctionsVentanaUnoRegressionSet, auctionsVentanaDosRegressionSet,\\\n",
    "                           on = \"device_id\", how = \"outer\")"
   ]
  },
  {
   "cell_type": "code",
   "execution_count": 31,
   "metadata": {},
   "outputs": [],
   "source": [
    "auctionsV_1_2_3 = pd.merge(auctionsV_1_2_3, auctionsVentanaTresRegressionSet,\\\n",
    "                           on = \"device_id\", how = \"outer\")"
   ]
  },
  {
   "cell_type": "markdown",
   "metadata": {},
   "source": [
    "### Tomamos tambien el set sobre lo cual aplicaremos el fit despues para predecir el target, aca auctionsV_5_6_7"
   ]
  },
  {
   "cell_type": "code",
   "execution_count": 71,
   "metadata": {},
   "outputs": [],
   "source": [
    "auctionsV_5_6_7 = pd.merge(auctionsVentanaCincoRegressionSet, auctionsVentanaSeisRegressionSet,\\\n",
    "                           on = \"device_id\", how = \"outer\")"
   ]
  },
  {
   "cell_type": "code",
   "execution_count": 72,
   "metadata": {},
   "outputs": [],
   "source": [
    "auctionsV_5_6_7 = pd.merge(auctionsV_5_6_7, auctionsVentanaSieteRegressionSet,\\\n",
    "                           on = \"device_id\", how = \"outer\")"
   ]
  },
  {
   "cell_type": "code",
   "execution_count": 32,
   "metadata": {},
   "outputs": [
    {
     "data": {
      "text/html": [
       "<div>\n",
       "<style scoped>\n",
       "    .dataframe tbody tr th:only-of-type {\n",
       "        vertical-align: middle;\n",
       "    }\n",
       "\n",
       "    .dataframe tbody tr th {\n",
       "        vertical-align: top;\n",
       "    }\n",
       "\n",
       "    .dataframe thead th {\n",
       "        text-align: right;\n",
       "    }\n",
       "</style>\n",
       "<table border=\"1\" class=\"dataframe\">\n",
       "  <thead>\n",
       "    <tr style=\"text-align: right;\">\n",
       "      <th></th>\n",
       "      <th>cantidad_subastas_v1</th>\n",
       "      <th>date_v1</th>\n",
       "      <th>device_id</th>\n",
       "      <th>cantidad_subastas_v2</th>\n",
       "      <th>date_v2</th>\n",
       "      <th>cantidad_subastas_v3</th>\n",
       "      <th>date_v3</th>\n",
       "    </tr>\n",
       "  </thead>\n",
       "  <tbody>\n",
       "    <tr>\n",
       "      <th>0</th>\n",
       "      <td>35.0</td>\n",
       "      <td>157228.465866</td>\n",
       "      <td>41863526108385</td>\n",
       "      <td>35.0</td>\n",
       "      <td>70828.465866</td>\n",
       "      <td>34.0</td>\n",
       "      <td>10346.892880</td>\n",
       "    </tr>\n",
       "    <tr>\n",
       "      <th>1</th>\n",
       "      <td>8.0</td>\n",
       "      <td>187854.009137</td>\n",
       "      <td>135153013040192</td>\n",
       "      <td>8.0</td>\n",
       "      <td>101454.009137</td>\n",
       "      <td>8.0</td>\n",
       "      <td>15054.009137</td>\n",
       "    </tr>\n",
       "  </tbody>\n",
       "</table>\n",
       "</div>"
      ],
      "text/plain": [
       "   cantidad_subastas_v1        date_v1        device_id  cantidad_subastas_v2  \\\n",
       "0                  35.0  157228.465866   41863526108385                  35.0   \n",
       "1                   8.0  187854.009137  135153013040192                   8.0   \n",
       "\n",
       "         date_v2  cantidad_subastas_v3       date_v3  \n",
       "0   70828.465866                  34.0  10346.892880  \n",
       "1  101454.009137                   8.0  15054.009137  "
      ]
     },
     "execution_count": 32,
     "metadata": {},
     "output_type": "execute_result"
    }
   ],
   "source": [
    "auctionsV_1_2_3.head(2)"
   ]
  },
  {
   "cell_type": "code",
   "execution_count": 33,
   "metadata": {},
   "outputs": [],
   "source": [
    "targetV_6 = auctionsVentanaSeisRegressionSet[['date_v6', 'device_id']]"
   ]
  },
  {
   "cell_type": "code",
   "execution_count": 34,
   "metadata": {},
   "outputs": [
    {
     "data": {
      "text/html": [
       "<div>\n",
       "<style scoped>\n",
       "    .dataframe tbody tr th:only-of-type {\n",
       "        vertical-align: middle;\n",
       "    }\n",
       "\n",
       "    .dataframe tbody tr th {\n",
       "        vertical-align: top;\n",
       "    }\n",
       "\n",
       "    .dataframe thead th {\n",
       "        text-align: right;\n",
       "    }\n",
       "</style>\n",
       "<table border=\"1\" class=\"dataframe\">\n",
       "  <thead>\n",
       "    <tr style=\"text-align: right;\">\n",
       "      <th></th>\n",
       "      <th>date_v6</th>\n",
       "      <th>device_id</th>\n",
       "    </tr>\n",
       "  </thead>\n",
       "  <tbody>\n",
       "    <tr>\n",
       "      <th>0</th>\n",
       "      <td>54057.222979</td>\n",
       "      <td>40621409780134</td>\n",
       "    </tr>\n",
       "    <tr>\n",
       "      <th>1</th>\n",
       "      <td>212658.597103</td>\n",
       "      <td>69039685746313</td>\n",
       "    </tr>\n",
       "  </tbody>\n",
       "</table>\n",
       "</div>"
      ],
      "text/plain": [
       "         date_v6       device_id\n",
       "0   54057.222979  40621409780134\n",
       "1  212658.597103  69039685746313"
      ]
     },
     "execution_count": 34,
     "metadata": {},
     "output_type": "execute_result"
    }
   ],
   "source": [
    "targetV_6.head(2)"
   ]
  },
  {
   "cell_type": "code",
   "execution_count": 35,
   "metadata": {},
   "outputs": [],
   "source": [
    "trainingSetV_1_2_3_6 = pd.merge(auctionsV_1_2_3, targetV_6, on = \"device_id\", how = \"left\")"
   ]
  },
  {
   "cell_type": "code",
   "execution_count": 36,
   "metadata": {},
   "outputs": [],
   "source": [
    "trainingSetV_1_2_3_6[['cantidad_subastas_v1', 'cantidad_subastas_v2', 'cantidad_subastas_v3']] = \\\n",
    "trainingSetV_1_2_3_6[['cantidad_subastas_v1', 'cantidad_subastas_v2', 'cantidad_subastas_v3']].fillna(value = 0)"
   ]
  },
  {
   "cell_type": "code",
   "execution_count": 38,
   "metadata": {},
   "outputs": [],
   "source": [
    "trainingSetV_1_2_3_6[['date_v1', 'date_v2', 'date_v3', 'date_v6']] = \\\n",
    "trainingSetV_1_2_3_6[['date_v1', 'date_v2', 'date_v3', 'date_v6']].fillna(value = 259200)"
   ]
  },
  {
   "cell_type": "markdown",
   "metadata": {},
   "source": [
    "### Eso que sigue para predecir el target"
   ]
  },
  {
   "cell_type": "code",
   "execution_count": 74,
   "metadata": {},
   "outputs": [],
   "source": [
    "auctionsV_5_6_7[['cantidad_subastas_v5', 'cantidad_subastas_v6', 'cantidad_subastas_v7']] = \\\n",
    "auctionsV_5_6_7[['cantidad_subastas_v5', 'cantidad_subastas_v6', 'cantidad_subastas_v7']].fillna(value = 0)"
   ]
  },
  {
   "cell_type": "code",
   "execution_count": 75,
   "metadata": {},
   "outputs": [],
   "source": [
    "auctionsV_5_6_7[['date_v5', 'date_v6', 'date_v7']] = \\\n",
    "auctionsV_5_6_7[['date_v5', 'date_v6', 'date_v7']].fillna(value = 259200)"
   ]
  },
  {
   "cell_type": "code",
   "execution_count": 39,
   "metadata": {},
   "outputs": [
    {
     "data": {
      "text/html": [
       "<div>\n",
       "<style scoped>\n",
       "    .dataframe tbody tr th:only-of-type {\n",
       "        vertical-align: middle;\n",
       "    }\n",
       "\n",
       "    .dataframe tbody tr th {\n",
       "        vertical-align: top;\n",
       "    }\n",
       "\n",
       "    .dataframe thead th {\n",
       "        text-align: right;\n",
       "    }\n",
       "</style>\n",
       "<table border=\"1\" class=\"dataframe\">\n",
       "  <thead>\n",
       "    <tr style=\"text-align: right;\">\n",
       "      <th></th>\n",
       "      <th>cantidad_subastas_v1</th>\n",
       "      <th>date_v1</th>\n",
       "      <th>device_id</th>\n",
       "      <th>cantidad_subastas_v2</th>\n",
       "      <th>date_v2</th>\n",
       "      <th>cantidad_subastas_v3</th>\n",
       "      <th>date_v3</th>\n",
       "      <th>date_v6</th>\n",
       "    </tr>\n",
       "  </thead>\n",
       "  <tbody>\n",
       "    <tr>\n",
       "      <th>0</th>\n",
       "      <td>35.0</td>\n",
       "      <td>157228.465866</td>\n",
       "      <td>41863526108385</td>\n",
       "      <td>35.0</td>\n",
       "      <td>70828.465866</td>\n",
       "      <td>34.0</td>\n",
       "      <td>10346.892880</td>\n",
       "      <td>259200.0</td>\n",
       "    </tr>\n",
       "    <tr>\n",
       "      <th>1</th>\n",
       "      <td>8.0</td>\n",
       "      <td>187854.009137</td>\n",
       "      <td>135153013040192</td>\n",
       "      <td>8.0</td>\n",
       "      <td>101454.009137</td>\n",
       "      <td>8.0</td>\n",
       "      <td>15054.009137</td>\n",
       "      <td>259200.0</td>\n",
       "    </tr>\n",
       "  </tbody>\n",
       "</table>\n",
       "</div>"
      ],
      "text/plain": [
       "   cantidad_subastas_v1        date_v1        device_id  cantidad_subastas_v2  \\\n",
       "0                  35.0  157228.465866   41863526108385                  35.0   \n",
       "1                   8.0  187854.009137  135153013040192                   8.0   \n",
       "\n",
       "         date_v2  cantidad_subastas_v3       date_v3   date_v6  \n",
       "0   70828.465866                  34.0  10346.892880  259200.0  \n",
       "1  101454.009137                   8.0  15054.009137  259200.0  "
      ]
     },
     "execution_count": 39,
     "metadata": {},
     "output_type": "execute_result"
    }
   ],
   "source": [
    "trainingSetV_1_2_3_6.head(2)"
   ]
  },
  {
   "cell_type": "code",
   "execution_count": 76,
   "metadata": {},
   "outputs": [
    {
     "data": {
      "text/html": [
       "<div>\n",
       "<style scoped>\n",
       "    .dataframe tbody tr th:only-of-type {\n",
       "        vertical-align: middle;\n",
       "    }\n",
       "\n",
       "    .dataframe tbody tr th {\n",
       "        vertical-align: top;\n",
       "    }\n",
       "\n",
       "    .dataframe thead th {\n",
       "        text-align: right;\n",
       "    }\n",
       "</style>\n",
       "<table border=\"1\" class=\"dataframe\">\n",
       "  <thead>\n",
       "    <tr style=\"text-align: right;\">\n",
       "      <th></th>\n",
       "      <th>cantidad_subastas_v5</th>\n",
       "      <th>date_v5</th>\n",
       "      <th>device_id</th>\n",
       "      <th>cantidad_subastas_v6</th>\n",
       "      <th>date_v6</th>\n",
       "      <th>cantidad_subastas_v7</th>\n",
       "      <th>date_v7</th>\n",
       "    </tr>\n",
       "  </thead>\n",
       "  <tbody>\n",
       "    <tr>\n",
       "      <th>0</th>\n",
       "      <td>1.0</td>\n",
       "      <td>140457.222979</td>\n",
       "      <td>40621409780134</td>\n",
       "      <td>1.0</td>\n",
       "      <td>54057.222979</td>\n",
       "      <td>0.0</td>\n",
       "      <td>259200.0</td>\n",
       "    </tr>\n",
       "    <tr>\n",
       "      <th>1</th>\n",
       "      <td>1.0</td>\n",
       "      <td>86644.526198</td>\n",
       "      <td>168103949904656</td>\n",
       "      <td>1.0</td>\n",
       "      <td>244.526198</td>\n",
       "      <td>0.0</td>\n",
       "      <td>259200.0</td>\n",
       "    </tr>\n",
       "  </tbody>\n",
       "</table>\n",
       "</div>"
      ],
      "text/plain": [
       "   cantidad_subastas_v5        date_v5        device_id  cantidad_subastas_v6  \\\n",
       "0                   1.0  140457.222979   40621409780134                   1.0   \n",
       "1                   1.0   86644.526198  168103949904656                   1.0   \n",
       "\n",
       "        date_v6  cantidad_subastas_v7   date_v7  \n",
       "0  54057.222979                   0.0  259200.0  \n",
       "1    244.526198                   0.0  259200.0  "
      ]
     },
     "execution_count": 76,
     "metadata": {},
     "output_type": "execute_result"
    }
   ],
   "source": [
    "auctionsV_5_6_7.head(2)"
   ]
  },
  {
   "cell_type": "code",
   "execution_count": 40,
   "metadata": {},
   "outputs": [],
   "source": [
    "trainingSetV_1_2_3_6sinId = trainingSetV_1_2_3_6.drop(columns = ['device_id'])"
   ]
  },
  {
   "cell_type": "code",
   "execution_count": 78,
   "metadata": {},
   "outputs": [],
   "source": [
    "auctionsV_5_6_7sinId = auctionsV_5_6_7.drop(columns = ['device_id'])"
   ]
  },
  {
   "cell_type": "markdown",
   "metadata": {},
   "source": [
    "### Le damos una forma NumPy Array para ingresarlo a los fitters."
   ]
  },
  {
   "cell_type": "code",
   "execution_count": 41,
   "metadata": {},
   "outputs": [],
   "source": [
    "arraytrainingSetV_1_2_3_6 = trainingSetV_1_2_3_6sinId.values"
   ]
  },
  {
   "cell_type": "markdown",
   "metadata": {},
   "source": [
    "### Misma forma para el que necesitamos para predecir el target"
   ]
  },
  {
   "cell_type": "code",
   "execution_count": 80,
   "metadata": {},
   "outputs": [],
   "source": [
    "X_arrayauctionsV_5_6_7sinId = auctionsV_5_6_7sinId.values"
   ]
  },
  {
   "cell_type": "code",
   "execution_count": 42,
   "metadata": {},
   "outputs": [
    {
     "data": {
      "text/plain": [
       "389603"
      ]
     },
     "execution_count": 42,
     "metadata": {},
     "output_type": "execute_result"
    }
   ],
   "source": [
    "len(arraytrainingSetV_1_2_3_6)"
   ]
  },
  {
   "cell_type": "code",
   "execution_count": 43,
   "metadata": {},
   "outputs": [],
   "source": [
    "X_arraytrainingSetV_1_2_3_6 = arraytrainingSetV_1_2_3_6[:, :-1]\n",
    "y_arraytrainingSetV_1_2_3_6 = arraytrainingSetV_1_2_3_6[:, -1]"
   ]
  },
  {
   "cell_type": "code",
   "execution_count": 44,
   "metadata": {},
   "outputs": [],
   "source": [
    "X_train, X_test, y_train, y_test = train_test_split(X_arraytrainingSetV_1_2_3_6,\\\n",
    "                                                    y_arraytrainingSetV_1_2_3_6, test_size=0.2, random_state=42)"
   ]
  },
  {
   "cell_type": "markdown",
   "metadata": {},
   "source": [
    "### Con regresion"
   ]
  },
  {
   "cell_type": "code",
   "execution_count": 45,
   "metadata": {},
   "outputs": [],
   "source": [
    "regTrainingSetV_1_2_3_6 = LinearRegression().fit(X_train, y_train)"
   ]
  },
  {
   "cell_type": "code",
   "execution_count": 46,
   "metadata": {},
   "outputs": [],
   "source": [
    "y_estim = regTrainingSetV_1_2_3_6.predict(X_test)"
   ]
  },
  {
   "cell_type": "code",
   "execution_count": 47,
   "metadata": {},
   "outputs": [],
   "source": [
    "rmseRegLin = math.sqrt(mean_squared_error(y_test, y_estim))"
   ]
  },
  {
   "cell_type": "code",
   "execution_count": 48,
   "metadata": {},
   "outputs": [
    {
     "data": {
      "text/plain": [
       "98372.71602602713"
      ]
     },
     "execution_count": 48,
     "metadata": {},
     "output_type": "execute_result"
    }
   ],
   "source": [
    "rmseRegLin"
   ]
  },
  {
   "cell_type": "code",
   "execution_count": 55,
   "metadata": {},
   "outputs": [
    {
     "data": {
      "text/plain": [
       "0.1459743415712349"
      ]
     },
     "execution_count": 55,
     "metadata": {},
     "output_type": "execute_result"
    }
   ],
   "source": [
    "regTrainingSetV_1_2_3_6.score(X_train, y_train)"
   ]
  },
  {
   "cell_type": "markdown",
   "metadata": {},
   "source": [
    "### Avec XGBoost "
   ]
  },
  {
   "cell_type": "code",
   "execution_count": 49,
   "metadata": {},
   "outputs": [],
   "source": [
    "xgbV_1_2_3_6 = xgboost.XGBRegressor(n_estimators=100, learning_rate=0.08, gamma=0, subsample=0.75,\n",
    "                           colsample_bytree=1, max_depth=7, objective='reg:squarederror')"
   ]
  },
  {
   "cell_type": "code",
   "execution_count": 50,
   "metadata": {},
   "outputs": [
    {
     "data": {
      "text/plain": [
       "XGBRegressor(base_score=0.5, booster='gbtree', colsample_bylevel=1,\n",
       "       colsample_bynode=1, colsample_bytree=1, gamma=0,\n",
       "       importance_type='gain', learning_rate=0.08, max_delta_step=0,\n",
       "       max_depth=7, min_child_weight=1, missing=None, n_estimators=100,\n",
       "       n_jobs=1, nthread=None, objective='reg:squarederror',\n",
       "       random_state=0, reg_alpha=0, reg_lambda=1, scale_pos_weight=1,\n",
       "       seed=None, silent=None, subsample=0.75, verbosity=1)"
      ]
     },
     "execution_count": 50,
     "metadata": {},
     "output_type": "execute_result"
    }
   ],
   "source": [
    "xgbV_1_2_3_6.fit(X_train, y_train)"
   ]
  },
  {
   "cell_type": "code",
   "execution_count": 51,
   "metadata": {},
   "outputs": [],
   "source": [
    "y_estim = xgbV_1_2_3_6.predict(X_test)"
   ]
  },
  {
   "cell_type": "code",
   "execution_count": 52,
   "metadata": {},
   "outputs": [],
   "source": [
    "rmseXGB = math.sqrt(mean_squared_error(y_test, y_estim))"
   ]
  },
  {
   "cell_type": "code",
   "execution_count": 53,
   "metadata": {},
   "outputs": [
    {
     "data": {
      "text/plain": [
       "91293.24236426195"
      ]
     },
     "execution_count": 53,
     "metadata": {},
     "output_type": "execute_result"
    }
   ],
   "source": [
    "rmseXGB"
   ]
  },
  {
   "cell_type": "markdown",
   "metadata": {},
   "source": [
    "### Con Ridge alpha = 100"
   ]
  },
  {
   "cell_type": "code",
   "execution_count": 66,
   "metadata": {},
   "outputs": [],
   "source": [
    "RidgeV_1_2_3_6 = Ridge(alpha = 100)"
   ]
  },
  {
   "cell_type": "code",
   "execution_count": 67,
   "metadata": {},
   "outputs": [
    {
     "data": {
      "text/plain": [
       "Ridge(alpha=100, copy_X=True, fit_intercept=True, max_iter=None,\n",
       "   normalize=False, random_state=None, solver='auto', tol=0.001)"
      ]
     },
     "execution_count": 67,
     "metadata": {},
     "output_type": "execute_result"
    }
   ],
   "source": [
    "RidgeV_1_2_3_6.fit(X_train, y_train)"
   ]
  },
  {
   "cell_type": "code",
   "execution_count": 68,
   "metadata": {},
   "outputs": [],
   "source": [
    "y_estim = RidgeV_1_2_3_6.predict(X_test)"
   ]
  },
  {
   "cell_type": "code",
   "execution_count": 69,
   "metadata": {},
   "outputs": [],
   "source": [
    "rmseRidge1 = math.sqrt(mean_squared_error(y_test, y_estim))"
   ]
  },
  {
   "cell_type": "code",
   "execution_count": 70,
   "metadata": {},
   "outputs": [
    {
     "data": {
      "text/plain": [
       "98372.71603035436"
      ]
     },
     "execution_count": 70,
     "metadata": {},
     "output_type": "execute_result"
    }
   ],
   "source": [
    "rmseRidge1"
   ]
  },
  {
   "cell_type": "markdown",
   "metadata": {},
   "source": [
    "### en random forest"
   ]
  },
  {
   "cell_type": "code",
   "execution_count": 108,
   "metadata": {},
   "outputs": [],
   "source": [
    "rfV_1_2_3_7 = RandomForestRegressor(n_estimators = 1000, random_state = 42)"
   ]
  },
  {
   "cell_type": "code",
   "execution_count": 109,
   "metadata": {},
   "outputs": [
    {
     "data": {
      "text/plain": [
       "RandomForestRegressor(bootstrap=True, criterion='mse', max_depth=None,\n",
       "           max_features='auto', max_leaf_nodes=None,\n",
       "           min_impurity_decrease=0.0, min_impurity_split=None,\n",
       "           min_samples_leaf=1, min_samples_split=2,\n",
       "           min_weight_fraction_leaf=0.0, n_estimators=1000, n_jobs=None,\n",
       "           oob_score=False, random_state=42, verbose=0, warm_start=False)"
      ]
     },
     "execution_count": 109,
     "metadata": {},
     "output_type": "execute_result"
    }
   ],
   "source": [
    "rfV_1_2_3_7.fit(X_train, y_train)"
   ]
  },
  {
   "cell_type": "code",
   "execution_count": 110,
   "metadata": {},
   "outputs": [],
   "source": [
    "y_estim = rfV_1_2_3_7.predict(X_test)"
   ]
  },
  {
   "cell_type": "code",
   "execution_count": 111,
   "metadata": {},
   "outputs": [],
   "source": [
    "rmse = math.sqrt(mean_squared_error(y_test, y_estim))"
   ]
  },
  {
   "cell_type": "code",
   "execution_count": 112,
   "metadata": {},
   "outputs": [
    {
     "data": {
      "text/plain": [
       "100770.00664961891"
      ]
     },
     "execution_count": 112,
     "metadata": {},
     "output_type": "execute_result"
    }
   ],
   "source": [
    "rmse"
   ]
  },
  {
   "cell_type": "markdown",
   "metadata": {},
   "source": [
    "### Usamos el fitter de XGBoost para predecir el target"
   ]
  },
  {
   "cell_type": "code",
   "execution_count": 81,
   "metadata": {},
   "outputs": [],
   "source": [
    "y_targetXGBoost = xgbV_1_2_3_6.predict(X_arrayauctionsV_5_6_7sinId)"
   ]
  },
  {
   "cell_type": "code",
   "execution_count": 82,
   "metadata": {},
   "outputs": [],
   "source": [
    "dfPredictXGBoost = pd.DataFrame(y_targetXGBoost, columns = ['prediccion_subasta'])"
   ]
  },
  {
   "cell_type": "code",
   "execution_count": 83,
   "metadata": {},
   "outputs": [],
   "source": [
    "df_device_auctionsV_5_6_7 = auctionsV_5_6_7[['device_id']]"
   ]
  },
  {
   "cell_type": "code",
   "execution_count": 85,
   "metadata": {},
   "outputs": [],
   "source": [
    "df_device_auctionsV_5_6_7 = df_device_auctionsV_5_6_7.reset_index(drop = True)"
   ]
  },
  {
   "cell_type": "code",
   "execution_count": 87,
   "metadata": {},
   "outputs": [],
   "source": [
    "dfPredictXGBoost = pd.concat([df_device_auctionsV_5_6_7, dfPredictXGBoost], axis = 1)"
   ]
  },
  {
   "cell_type": "code",
   "execution_count": 89,
   "metadata": {},
   "outputs": [
    {
     "data": {
      "text/plain": [
       "395239"
      ]
     },
     "execution_count": 89,
     "metadata": {},
     "output_type": "execute_result"
    }
   ],
   "source": [
    "len(dfPredictXGBoost)"
   ]
  },
  {
   "cell_type": "code",
   "execution_count": 90,
   "metadata": {},
   "outputs": [],
   "source": [
    "dfPredictXGBoost['device_id'] = dfPredictXGBoost.device_id.astype(str) + '_st'"
   ]
  },
  {
   "cell_type": "code",
   "execution_count": 95,
   "metadata": {},
   "outputs": [],
   "source": [
    "dfPredictXGBoost.columns = ['ref_hash', 'prediccion_subasta']"
   ]
  },
  {
   "cell_type": "code",
   "execution_count": 96,
   "metadata": {},
   "outputs": [
    {
     "data": {
      "text/html": [
       "<div>\n",
       "<style scoped>\n",
       "    .dataframe tbody tr th:only-of-type {\n",
       "        vertical-align: middle;\n",
       "    }\n",
       "\n",
       "    .dataframe tbody tr th {\n",
       "        vertical-align: top;\n",
       "    }\n",
       "\n",
       "    .dataframe thead th {\n",
       "        text-align: right;\n",
       "    }\n",
       "</style>\n",
       "<table border=\"1\" class=\"dataframe\">\n",
       "  <thead>\n",
       "    <tr style=\"text-align: right;\">\n",
       "      <th></th>\n",
       "      <th>ref_hash</th>\n",
       "      <th>prediccion_subasta</th>\n",
       "    </tr>\n",
       "  </thead>\n",
       "  <tbody>\n",
       "    <tr>\n",
       "      <th>0</th>\n",
       "      <td>40621409780134_st</td>\n",
       "      <td>206127.28125</td>\n",
       "    </tr>\n",
       "    <tr>\n",
       "      <th>1</th>\n",
       "      <td>168103949904656_st</td>\n",
       "      <td>186466.50000</td>\n",
       "    </tr>\n",
       "  </tbody>\n",
       "</table>\n",
       "</div>"
      ],
      "text/plain": [
       "             ref_hash  prediccion_subasta\n",
       "0   40621409780134_st        206127.28125\n",
       "1  168103949904656_st        186466.50000"
      ]
     },
     "execution_count": 96,
     "metadata": {},
     "output_type": "execute_result"
    }
   ],
   "source": [
    "dfPredictXGBoost.head(2)"
   ]
  },
  {
   "cell_type": "markdown",
   "metadata": {},
   "source": [
    "### Ahora a leer el archivo llenado con los Sc, para ponerle los valores St"
   ]
  },
  {
   "cell_type": "code",
   "execution_count": 91,
   "metadata": {},
   "outputs": [],
   "source": [
    "targetConSc = pd.read_csv('./targetConSc.csv')"
   ]
  },
  {
   "cell_type": "code",
   "execution_count": 93,
   "metadata": {},
   "outputs": [
    {
     "data": {
      "text/html": [
       "<div>\n",
       "<style scoped>\n",
       "    .dataframe tbody tr th:only-of-type {\n",
       "        vertical-align: middle;\n",
       "    }\n",
       "\n",
       "    .dataframe tbody tr th {\n",
       "        vertical-align: top;\n",
       "    }\n",
       "\n",
       "    .dataframe thead th {\n",
       "        text-align: right;\n",
       "    }\n",
       "</style>\n",
       "<table border=\"1\" class=\"dataframe\">\n",
       "  <thead>\n",
       "    <tr style=\"text-align: right;\">\n",
       "      <th></th>\n",
       "      <th>ref_hash</th>\n",
       "      <th>obj</th>\n",
       "    </tr>\n",
       "  </thead>\n",
       "  <tbody>\n",
       "    <tr>\n",
       "      <th>0</th>\n",
       "      <td>1000169251625791246_sc</td>\n",
       "      <td>259200</td>\n",
       "    </tr>\n",
       "    <tr>\n",
       "      <th>1</th>\n",
       "      <td>1000169251625791246_st</td>\n",
       "      <td>0</td>\n",
       "    </tr>\n",
       "    <tr>\n",
       "      <th>2</th>\n",
       "      <td>1000395625957344683_sc</td>\n",
       "      <td>161908</td>\n",
       "    </tr>\n",
       "    <tr>\n",
       "      <th>3</th>\n",
       "      <td>1000395625957344683_st</td>\n",
       "      <td>0</td>\n",
       "    </tr>\n",
       "    <tr>\n",
       "      <th>4</th>\n",
       "      <td>1003027494996471685_sc</td>\n",
       "      <td>182100</td>\n",
       "    </tr>\n",
       "  </tbody>\n",
       "</table>\n",
       "</div>"
      ],
      "text/plain": [
       "                 ref_hash     obj\n",
       "0  1000169251625791246_sc  259200\n",
       "1  1000169251625791246_st       0\n",
       "2  1000395625957344683_sc  161908\n",
       "3  1000395625957344683_st       0\n",
       "4  1003027494996471685_sc  182100"
      ]
     },
     "execution_count": 93,
     "metadata": {},
     "output_type": "execute_result"
    }
   ],
   "source": [
    "targetConSc.head()"
   ]
  },
  {
   "cell_type": "code",
   "execution_count": 97,
   "metadata": {},
   "outputs": [],
   "source": [
    "targetConScConSt = pd.merge(targetConSc, dfPredictXGBoost, on = 'ref_hash', how = 'left')"
   ]
  },
  {
   "cell_type": "code",
   "execution_count": 99,
   "metadata": {},
   "outputs": [
    {
     "data": {
      "text/html": [
       "<div>\n",
       "<style scoped>\n",
       "    .dataframe tbody tr th:only-of-type {\n",
       "        vertical-align: middle;\n",
       "    }\n",
       "\n",
       "    .dataframe tbody tr th {\n",
       "        vertical-align: top;\n",
       "    }\n",
       "\n",
       "    .dataframe thead th {\n",
       "        text-align: right;\n",
       "    }\n",
       "</style>\n",
       "<table border=\"1\" class=\"dataframe\">\n",
       "  <thead>\n",
       "    <tr style=\"text-align: right;\">\n",
       "      <th></th>\n",
       "      <th>ref_hash</th>\n",
       "      <th>obj</th>\n",
       "      <th>prediccion_subasta</th>\n",
       "    </tr>\n",
       "  </thead>\n",
       "  <tbody>\n",
       "    <tr>\n",
       "      <th>0</th>\n",
       "      <td>1000169251625791246_sc</td>\n",
       "      <td>259200</td>\n",
       "      <td>NaN</td>\n",
       "    </tr>\n",
       "    <tr>\n",
       "      <th>1</th>\n",
       "      <td>1000169251625791246_st</td>\n",
       "      <td>0</td>\n",
       "      <td>73578.976562</td>\n",
       "    </tr>\n",
       "    <tr>\n",
       "      <th>2</th>\n",
       "      <td>1000395625957344683_sc</td>\n",
       "      <td>161908</td>\n",
       "      <td>NaN</td>\n",
       "    </tr>\n",
       "    <tr>\n",
       "      <th>3</th>\n",
       "      <td>1000395625957344683_st</td>\n",
       "      <td>0</td>\n",
       "      <td>46671.476562</td>\n",
       "    </tr>\n",
       "    <tr>\n",
       "      <th>4</th>\n",
       "      <td>1003027494996471685_sc</td>\n",
       "      <td>182100</td>\n",
       "      <td>NaN</td>\n",
       "    </tr>\n",
       "    <tr>\n",
       "      <th>5</th>\n",
       "      <td>1003027494996471685_st</td>\n",
       "      <td>0</td>\n",
       "      <td>118290.710938</td>\n",
       "    </tr>\n",
       "    <tr>\n",
       "      <th>6</th>\n",
       "      <td>1006670001679961544_sc</td>\n",
       "      <td>195579</td>\n",
       "      <td>NaN</td>\n",
       "    </tr>\n",
       "    <tr>\n",
       "      <th>7</th>\n",
       "      <td>1006670001679961544_st</td>\n",
       "      <td>0</td>\n",
       "      <td>150629.578125</td>\n",
       "    </tr>\n",
       "    <tr>\n",
       "      <th>8</th>\n",
       "      <td>1007573308966476713_sc</td>\n",
       "      <td>259200</td>\n",
       "      <td>NaN</td>\n",
       "    </tr>\n",
       "    <tr>\n",
       "      <th>9</th>\n",
       "      <td>1007573308966476713_st</td>\n",
       "      <td>0</td>\n",
       "      <td>95972.078125</td>\n",
       "    </tr>\n",
       "  </tbody>\n",
       "</table>\n",
       "</div>"
      ],
      "text/plain": [
       "                 ref_hash     obj  prediccion_subasta\n",
       "0  1000169251625791246_sc  259200                 NaN\n",
       "1  1000169251625791246_st       0        73578.976562\n",
       "2  1000395625957344683_sc  161908                 NaN\n",
       "3  1000395625957344683_st       0        46671.476562\n",
       "4  1003027494996471685_sc  182100                 NaN\n",
       "5  1003027494996471685_st       0       118290.710938\n",
       "6  1006670001679961544_sc  195579                 NaN\n",
       "7  1006670001679961544_st       0       150629.578125\n",
       "8  1007573308966476713_sc  259200                 NaN\n",
       "9  1007573308966476713_st       0        95972.078125"
      ]
     },
     "execution_count": 99,
     "metadata": {},
     "output_type": "execute_result"
    }
   ],
   "source": [
    "targetConScConSt.head(10)"
   ]
  },
  {
   "cell_type": "code",
   "execution_count": 100,
   "metadata": {},
   "outputs": [],
   "source": [
    "targetConScConSt.loc[targetConScConSt.index % 2 == 0, 'prediccion_subasta'] = 0"
   ]
  },
  {
   "cell_type": "code",
   "execution_count": 103,
   "metadata": {},
   "outputs": [],
   "source": [
    "targetConScConSt = targetConScConSt.fillna(value = 259200)"
   ]
  },
  {
   "cell_type": "code",
   "execution_count": 104,
   "metadata": {},
   "outputs": [
    {
     "data": {
      "text/html": [
       "<div>\n",
       "<style scoped>\n",
       "    .dataframe tbody tr th:only-of-type {\n",
       "        vertical-align: middle;\n",
       "    }\n",
       "\n",
       "    .dataframe tbody tr th {\n",
       "        vertical-align: top;\n",
       "    }\n",
       "\n",
       "    .dataframe thead th {\n",
       "        text-align: right;\n",
       "    }\n",
       "</style>\n",
       "<table border=\"1\" class=\"dataframe\">\n",
       "  <thead>\n",
       "    <tr style=\"text-align: right;\">\n",
       "      <th></th>\n",
       "      <th>ref_hash</th>\n",
       "      <th>obj</th>\n",
       "      <th>prediccion_subasta</th>\n",
       "    </tr>\n",
       "  </thead>\n",
       "  <tbody>\n",
       "    <tr>\n",
       "      <th>0</th>\n",
       "      <td>1000169251625791246_sc</td>\n",
       "      <td>259200</td>\n",
       "      <td>0.000000</td>\n",
       "    </tr>\n",
       "    <tr>\n",
       "      <th>1</th>\n",
       "      <td>1000169251625791246_st</td>\n",
       "      <td>0</td>\n",
       "      <td>73578.976562</td>\n",
       "    </tr>\n",
       "  </tbody>\n",
       "</table>\n",
       "</div>"
      ],
      "text/plain": [
       "                 ref_hash     obj  prediccion_subasta\n",
       "0  1000169251625791246_sc  259200            0.000000\n",
       "1  1000169251625791246_st       0        73578.976562"
      ]
     },
     "execution_count": 104,
     "metadata": {},
     "output_type": "execute_result"
    }
   ],
   "source": [
    "targetConScConSt.head(2)"
   ]
  },
  {
   "cell_type": "code",
   "execution_count": 105,
   "metadata": {},
   "outputs": [],
   "source": [
    "targetConScConSt['prediccion_subasta'] = targetConScConSt.prediccion_subasta.round().astype(int)"
   ]
  },
  {
   "cell_type": "code",
   "execution_count": 107,
   "metadata": {},
   "outputs": [],
   "source": [
    "targetConScConSt['obj'] = targetConScConSt['obj'] + targetConScConSt['prediccion_subasta']"
   ]
  },
  {
   "cell_type": "code",
   "execution_count": 108,
   "metadata": {},
   "outputs": [
    {
     "data": {
      "text/html": [
       "<div>\n",
       "<style scoped>\n",
       "    .dataframe tbody tr th:only-of-type {\n",
       "        vertical-align: middle;\n",
       "    }\n",
       "\n",
       "    .dataframe tbody tr th {\n",
       "        vertical-align: top;\n",
       "    }\n",
       "\n",
       "    .dataframe thead th {\n",
       "        text-align: right;\n",
       "    }\n",
       "</style>\n",
       "<table border=\"1\" class=\"dataframe\">\n",
       "  <thead>\n",
       "    <tr style=\"text-align: right;\">\n",
       "      <th></th>\n",
       "      <th>ref_hash</th>\n",
       "      <th>obj</th>\n",
       "      <th>prediccion_subasta</th>\n",
       "    </tr>\n",
       "  </thead>\n",
       "  <tbody>\n",
       "    <tr>\n",
       "      <th>0</th>\n",
       "      <td>1000169251625791246_sc</td>\n",
       "      <td>259200</td>\n",
       "      <td>0</td>\n",
       "    </tr>\n",
       "    <tr>\n",
       "      <th>1</th>\n",
       "      <td>1000169251625791246_st</td>\n",
       "      <td>73579</td>\n",
       "      <td>73579</td>\n",
       "    </tr>\n",
       "  </tbody>\n",
       "</table>\n",
       "</div>"
      ],
      "text/plain": [
       "                 ref_hash     obj  prediccion_subasta\n",
       "0  1000169251625791246_sc  259200                   0\n",
       "1  1000169251625791246_st   73579               73579"
      ]
     },
     "execution_count": 108,
     "metadata": {},
     "output_type": "execute_result"
    }
   ],
   "source": [
    "targetConScConSt.head(2)"
   ]
  },
  {
   "cell_type": "code",
   "execution_count": 109,
   "metadata": {},
   "outputs": [],
   "source": [
    "targetConScConSt = targetConScConSt.drop(columns = ['prediccion_subasta'])"
   ]
  },
  {
   "cell_type": "code",
   "execution_count": 110,
   "metadata": {},
   "outputs": [
    {
     "data": {
      "text/html": [
       "<div>\n",
       "<style scoped>\n",
       "    .dataframe tbody tr th:only-of-type {\n",
       "        vertical-align: middle;\n",
       "    }\n",
       "\n",
       "    .dataframe tbody tr th {\n",
       "        vertical-align: top;\n",
       "    }\n",
       "\n",
       "    .dataframe thead th {\n",
       "        text-align: right;\n",
       "    }\n",
       "</style>\n",
       "<table border=\"1\" class=\"dataframe\">\n",
       "  <thead>\n",
       "    <tr style=\"text-align: right;\">\n",
       "      <th></th>\n",
       "      <th>ref_hash</th>\n",
       "      <th>obj</th>\n",
       "    </tr>\n",
       "  </thead>\n",
       "  <tbody>\n",
       "    <tr>\n",
       "      <th>0</th>\n",
       "      <td>1000169251625791246_sc</td>\n",
       "      <td>259200</td>\n",
       "    </tr>\n",
       "    <tr>\n",
       "      <th>1</th>\n",
       "      <td>1000169251625791246_st</td>\n",
       "      <td>73579</td>\n",
       "    </tr>\n",
       "    <tr>\n",
       "      <th>2</th>\n",
       "      <td>1000395625957344683_sc</td>\n",
       "      <td>161908</td>\n",
       "    </tr>\n",
       "    <tr>\n",
       "      <th>3</th>\n",
       "      <td>1000395625957344683_st</td>\n",
       "      <td>46671</td>\n",
       "    </tr>\n",
       "    <tr>\n",
       "      <th>4</th>\n",
       "      <td>1003027494996471685_sc</td>\n",
       "      <td>182100</td>\n",
       "    </tr>\n",
       "  </tbody>\n",
       "</table>\n",
       "</div>"
      ],
      "text/plain": [
       "                 ref_hash     obj\n",
       "0  1000169251625791246_sc  259200\n",
       "1  1000169251625791246_st   73579\n",
       "2  1000395625957344683_sc  161908\n",
       "3  1000395625957344683_st   46671\n",
       "4  1003027494996471685_sc  182100"
      ]
     },
     "execution_count": 110,
     "metadata": {},
     "output_type": "execute_result"
    }
   ],
   "source": [
    "targetConScConSt.head()"
   ]
  },
  {
   "cell_type": "code",
   "execution_count": 111,
   "metadata": {},
   "outputs": [],
   "source": [
    "targetConScConSt.to_csv('targetConScConSt.csv', encoding='utf-8', index=False)"
   ]
  },
  {
   "cell_type": "code",
   "execution_count": null,
   "metadata": {},
   "outputs": [],
   "source": []
  },
  {
   "cell_type": "code",
   "execution_count": 325,
   "metadata": {},
   "outputs": [],
   "source": [
    "targetUpdated.to_csv('targetConSc.csv', encoding='utf-8', index=False)"
   ]
  }
 ],
 "metadata": {
  "kernelspec": {
   "display_name": "Python 3",
   "language": "python",
   "name": "python3"
  },
  "language_info": {
   "codemirror_mode": {
    "name": "ipython",
    "version": 3
   },
   "file_extension": ".py",
   "mimetype": "text/x-python",
   "name": "python",
   "nbconvert_exporter": "python",
   "pygments_lexer": "ipython3",
   "version": "3.7.1"
  }
 },
 "nbformat": 4,
 "nbformat_minor": 2
}
