{
 "cells": [
  {
   "cell_type": "code",
   "execution_count": 1,
   "metadata": {},
   "outputs": [],
   "source": [
    "import matplotlib.pyplot as plt\n",
    "import pandas as pd\n",
    "import numpy as np\n",
    "import lifelines\n",
    "import category_encoders as ce\n",
    "from sklearn.linear_model import LinearRegression\n",
    "from sklearn.metrics import explained_variance_score\n",
    "import xgboost"
   ]
  },
  {
   "cell_type": "code",
   "execution_count": 10,
   "metadata": {},
   "outputs": [
    {
     "name": "stderr",
     "output_type": "stream",
     "text": [
      "/home/mati/anaconda3/lib/python3.7/site-packages/IPython/core/interactiveshell.py:3020: DtypeWarning: Columns (4,15) have mixed types. Specify dtype option on import or set low_memory=False.\n",
      "  interactivity=interactivity, compiler=compiler, result=result)\n"
     ]
    }
   ],
   "source": [
    "installs = pd.read_csv(r'../DataTP2/installs.csv')"
   ]
  },
  {
   "cell_type": "code",
   "execution_count": 109,
   "metadata": {},
   "outputs": [
    {
     "name": "stdout",
     "output_type": "stream",
     "text": [
      "<class 'pandas.core.frame.DataFrame'>\n",
      "RangeIndex: 481511 entries, 0 to 481510\n",
      "Data columns (total 18 columns):\n",
      "created               481511 non-null datetime64[ns]\n",
      "application_id        481511 non-null int64\n",
      "ref_type              481511 non-null int64\n",
      "ref_hash              481511 non-null int64\n",
      "click_hash            1142 non-null object\n",
      "attributed            481511 non-null bool\n",
      "implicit              481511 non-null bool\n",
      "device_countrycode    481511 non-null int64\n",
      "device_brand          276443 non-null float64\n",
      "device_model          454619 non-null float64\n",
      "session_user_agent    466672 non-null object\n",
      "user_agent            330768 non-null object\n",
      "event_uuid            103168 non-null object\n",
      "kind                  103168 non-null object\n",
      "wifi                  294829 non-null object\n",
      "trans_id              8933 non-null object\n",
      "ip_address            481511 non-null int64\n",
      "device_language       453934 non-null float64\n",
      "dtypes: bool(2), datetime64[ns](1), float64(3), int64(5), object(7)\n",
      "memory usage: 59.7+ MB\n"
     ]
    }
   ],
   "source": [
    "installDate = installs[['created','ref_hash']]\n",
    "installs.info()\n",
    "installs['sum'] = 1"
   ]
  },
  {
   "cell_type": "code",
   "execution_count": 17,
   "metadata": {},
   "outputs": [
    {
     "name": "stderr",
     "output_type": "stream",
     "text": [
      "/home/mati/anaconda3/lib/python3.7/site-packages/ipykernel_launcher.py:1: SettingWithCopyWarning: \n",
      "A value is trying to be set on a copy of a slice from a DataFrame.\n",
      "Try using .loc[row_indexer,col_indexer] = value instead\n",
      "\n",
      "See the caveats in the documentation: http://pandas.pydata.org/pandas-docs/stable/indexing.html#indexing-view-versus-copy\n",
      "  \"\"\"Entry point for launching an IPython kernel.\n"
     ]
    },
    {
     "data": {
      "text/html": [
       "<div>\n",
       "<style scoped>\n",
       "    .dataframe tbody tr th:only-of-type {\n",
       "        vertical-align: middle;\n",
       "    }\n",
       "\n",
       "    .dataframe tbody tr th {\n",
       "        vertical-align: top;\n",
       "    }\n",
       "\n",
       "    .dataframe thead th {\n",
       "        text-align: right;\n",
       "    }\n",
       "</style>\n",
       "<table border=\"1\" class=\"dataframe\">\n",
       "  <thead>\n",
       "    <tr style=\"text-align: right;\">\n",
       "      <th></th>\n",
       "      <th>created</th>\n",
       "      <th>ref_hash</th>\n",
       "      <th>sum</th>\n",
       "    </tr>\n",
       "  </thead>\n",
       "  <tbody>\n",
       "    <tr>\n",
       "      <th>0</th>\n",
       "      <td>2019-04-24 06:23:29.495</td>\n",
       "      <td>4716708407362582887</td>\n",
       "      <td>1</td>\n",
       "    </tr>\n",
       "    <tr>\n",
       "      <th>1</th>\n",
       "      <td>2019-04-24 02:06:01.032</td>\n",
       "      <td>7143568733100935872</td>\n",
       "      <td>1</td>\n",
       "    </tr>\n",
       "    <tr>\n",
       "      <th>2</th>\n",
       "      <td>2019-04-20 10:15:36.274</td>\n",
       "      <td>5230323462636548010</td>\n",
       "      <td>1</td>\n",
       "    </tr>\n",
       "    <tr>\n",
       "      <th>3</th>\n",
       "      <td>2019-04-20 21:56:47.151</td>\n",
       "      <td>5097163995161606833</td>\n",
       "      <td>1</td>\n",
       "    </tr>\n",
       "    <tr>\n",
       "      <th>4</th>\n",
       "      <td>2019-04-20 22:40:41.239</td>\n",
       "      <td>6328027616411983332</td>\n",
       "      <td>1</td>\n",
       "    </tr>\n",
       "  </tbody>\n",
       "</table>\n",
       "</div>"
      ],
      "text/plain": [
       "                   created             ref_hash  sum\n",
       "0  2019-04-24 06:23:29.495  4716708407362582887    1\n",
       "1  2019-04-24 02:06:01.032  7143568733100935872    1\n",
       "2  2019-04-20 10:15:36.274  5230323462636548010    1\n",
       "3  2019-04-20 21:56:47.151  5097163995161606833    1\n",
       "4  2019-04-20 22:40:41.239  6328027616411983332    1"
      ]
     },
     "execution_count": 17,
     "metadata": {},
     "output_type": "execute_result"
    }
   ],
   "source": [
    "installDate['sum'] = 1\n",
    "installDate.head()"
   ]
  },
  {
   "cell_type": "code",
   "execution_count": 4,
   "metadata": {},
   "outputs": [],
   "source": [
    "cols = ['date','ref_hash']"
   ]
  },
  {
   "cell_type": "code",
   "execution_count": 5,
   "metadata": {},
   "outputs": [],
   "source": [
    "auctions = pd.read_csv(r'../DataTP2/events.csv',usecols = cols)"
   ]
  },
  {
   "cell_type": "code",
   "execution_count": 7,
   "metadata": {},
   "outputs": [
    {
     "name": "stdout",
     "output_type": "stream",
     "text": [
      "<class 'pandas.core.frame.DataFrame'>\n",
      "RangeIndex: 7744581 entries, 0 to 7744580\n",
      "Data columns (total 2 columns):\n",
      "date        object\n",
      "ref_hash    int64\n",
      "dtypes: int64(1), object(1)\n",
      "memory usage: 118.2+ MB\n"
     ]
    }
   ],
   "source": [
    "auctions.info()"
   ]
  },
  {
   "cell_type": "code",
   "execution_count": 30,
   "metadata": {},
   "outputs": [
    {
     "data": {
      "text/plain": [
       "362619"
      ]
     },
     "execution_count": 30,
     "metadata": {},
     "output_type": "execute_result"
    }
   ],
   "source": [
    "auctions['ref_hash'].nunique()"
   ]
  },
  {
   "cell_type": "code",
   "execution_count": 87,
   "metadata": {},
   "outputs": [
    {
     "ename": "KeyboardInterrupt",
     "evalue": "",
     "output_type": "error",
     "traceback": [
      "\u001b[0;31m---------------------------------------------------------------------------\u001b[0m",
      "\u001b[0;31mKeyboardInterrupt\u001b[0m                         Traceback (most recent call last)",
      "\u001b[0;32m<ipython-input-87-fc7fe009490c>\u001b[0m in \u001b[0;36m<module>\u001b[0;34m\u001b[0m\n\u001b[1;32m      1\u001b[0m \u001b[0mevents\u001b[0m \u001b[0;34m=\u001b[0m \u001b[0mauctions\u001b[0m\u001b[0;34m\u001b[0m\u001b[0;34m\u001b[0m\u001b[0m\n\u001b[1;32m      2\u001b[0m \u001b[0mevents\u001b[0m\u001b[0;34m[\u001b[0m\u001b[0;34m'sum'\u001b[0m\u001b[0;34m]\u001b[0m \u001b[0;34m=\u001b[0m \u001b[0;36m1\u001b[0m\u001b[0;34m\u001b[0m\u001b[0;34m\u001b[0m\u001b[0m\n\u001b[0;32m----> 3\u001b[0;31m \u001b[0mevents\u001b[0m\u001b[0;34m[\u001b[0m\u001b[0;34m'date'\u001b[0m\u001b[0;34m]\u001b[0m \u001b[0;34m=\u001b[0m \u001b[0mpd\u001b[0m\u001b[0;34m.\u001b[0m\u001b[0mto_datetime\u001b[0m\u001b[0;34m(\u001b[0m\u001b[0mevents\u001b[0m\u001b[0;34m[\u001b[0m\u001b[0;34m'date'\u001b[0m\u001b[0;34m]\u001b[0m\u001b[0;34m)\u001b[0m\u001b[0;34m\u001b[0m\u001b[0;34m\u001b[0m\u001b[0m\n\u001b[0m",
      "\u001b[0;32m~/anaconda3/lib/python3.7/site-packages/pandas/core/tools/datetimes.py\u001b[0m in \u001b[0;36mto_datetime\u001b[0;34m(arg, errors, dayfirst, yearfirst, utc, box, format, exact, unit, infer_datetime_format, origin, cache)\u001b[0m\n\u001b[1;32m    449\u001b[0m         \u001b[0;32melse\u001b[0m\u001b[0;34m:\u001b[0m\u001b[0;34m\u001b[0m\u001b[0;34m\u001b[0m\u001b[0m\n\u001b[1;32m    450\u001b[0m             \u001b[0;32mfrom\u001b[0m \u001b[0mpandas\u001b[0m \u001b[0;32mimport\u001b[0m \u001b[0mSeries\u001b[0m\u001b[0;34m\u001b[0m\u001b[0;34m\u001b[0m\u001b[0m\n\u001b[0;32m--> 451\u001b[0;31m             \u001b[0mvalues\u001b[0m \u001b[0;34m=\u001b[0m \u001b[0m_convert_listlike\u001b[0m\u001b[0;34m(\u001b[0m\u001b[0marg\u001b[0m\u001b[0;34m.\u001b[0m\u001b[0m_values\u001b[0m\u001b[0;34m,\u001b[0m \u001b[0;32mTrue\u001b[0m\u001b[0;34m,\u001b[0m \u001b[0mformat\u001b[0m\u001b[0;34m)\u001b[0m\u001b[0;34m\u001b[0m\u001b[0;34m\u001b[0m\u001b[0m\n\u001b[0m\u001b[1;32m    452\u001b[0m             \u001b[0mresult\u001b[0m \u001b[0;34m=\u001b[0m \u001b[0mSeries\u001b[0m\u001b[0;34m(\u001b[0m\u001b[0mvalues\u001b[0m\u001b[0;34m,\u001b[0m \u001b[0mindex\u001b[0m\u001b[0;34m=\u001b[0m\u001b[0marg\u001b[0m\u001b[0;34m.\u001b[0m\u001b[0mindex\u001b[0m\u001b[0;34m,\u001b[0m \u001b[0mname\u001b[0m\u001b[0;34m=\u001b[0m\u001b[0marg\u001b[0m\u001b[0;34m.\u001b[0m\u001b[0mname\u001b[0m\u001b[0;34m)\u001b[0m\u001b[0;34m\u001b[0m\u001b[0;34m\u001b[0m\u001b[0m\n\u001b[1;32m    453\u001b[0m     \u001b[0;32melif\u001b[0m \u001b[0misinstance\u001b[0m\u001b[0;34m(\u001b[0m\u001b[0marg\u001b[0m\u001b[0;34m,\u001b[0m \u001b[0;34m(\u001b[0m\u001b[0mABCDataFrame\u001b[0m\u001b[0;34m,\u001b[0m \u001b[0mMutableMapping\u001b[0m\u001b[0;34m)\u001b[0m\u001b[0;34m)\u001b[0m\u001b[0;34m:\u001b[0m\u001b[0;34m\u001b[0m\u001b[0;34m\u001b[0m\u001b[0m\n",
      "\u001b[0;32m~/anaconda3/lib/python3.7/site-packages/pandas/core/tools/datetimes.py\u001b[0m in \u001b[0;36m_convert_listlike\u001b[0;34m(arg, box, format, name, tz)\u001b[0m\n\u001b[1;32m    366\u001b[0m                     \u001b[0mdayfirst\u001b[0m\u001b[0;34m=\u001b[0m\u001b[0mdayfirst\u001b[0m\u001b[0;34m,\u001b[0m\u001b[0;34m\u001b[0m\u001b[0;34m\u001b[0m\u001b[0m\n\u001b[1;32m    367\u001b[0m                     \u001b[0myearfirst\u001b[0m\u001b[0;34m=\u001b[0m\u001b[0myearfirst\u001b[0m\u001b[0;34m,\u001b[0m\u001b[0;34m\u001b[0m\u001b[0;34m\u001b[0m\u001b[0m\n\u001b[0;32m--> 368\u001b[0;31m                     \u001b[0mrequire_iso8601\u001b[0m\u001b[0;34m=\u001b[0m\u001b[0mrequire_iso8601\u001b[0m\u001b[0;34m\u001b[0m\u001b[0;34m\u001b[0m\u001b[0m\n\u001b[0m\u001b[1;32m    369\u001b[0m                 )\n\u001b[1;32m    370\u001b[0m \u001b[0;34m\u001b[0m\u001b[0m\n",
      "\u001b[0;31mKeyboardInterrupt\u001b[0m: "
     ]
    }
   ],
   "source": [
    "events = auctions\n",
    "events['sum'] = 1"
   ]
  },
  {
   "cell_type": "markdown",
   "metadata": {},
   "source": [
    "# events"
   ]
  },
  {
   "cell_type": "code",
   "execution_count": 122,
   "metadata": {},
   "outputs": [],
   "source": [
    "eventsVentanaUno = events.loc[(events[\"date\"] < \"2019-04-21\")]\n",
    "eventsVentanaUno = eventsVentanaUno.loc[(events[\"date\"] > \"2019-04-18\")]\n",
    "\n",
    "eventsVentanaDos = events.loc[(events[\"date\"] < \"2019-04-22\")]\n",
    "eventsVentanaDos = eventsVentanaDos.loc[(events[\"date\"] > \"2019-04-19\")]"
   ]
  },
  {
   "cell_type": "code",
   "execution_count": 123,
   "metadata": {},
   "outputs": [],
   "source": [
    "eventsVentanaTres = events.loc[(events[\"date\"] < \"2019-04-23\")]\n",
    "eventsVentanaTres = eventsVentanaTres.loc[(events[\"date\"] > \"2019-04-20\")]\n",
    "\n",
    "eventsVentanaCuatro = events.loc[(events[\"date\"] < \"2019-04-24\")]\n",
    "eventsVentanaCuatro = eventsVentanaCuatro.loc[(events[\"date\"] > \"2019-04-21\")]"
   ]
  },
  {
   "cell_type": "code",
   "execution_count": 124,
   "metadata": {},
   "outputs": [],
   "source": [
    "eventsVentanaCinco = events.loc[(events[\"date\"] < \"2019-04-25\")]\n",
    "eventsVentanaCinco = eventsVentanaCinco.loc[(events[\"date\"] > \"2019-04-22\")]\n",
    "\n",
    "eventsVentanaSeis = events.loc[(events[\"date\"] < \"2019-04-26\")]\n",
    "eventsVentanaSeis = eventsVentanaSeis.loc[(events[\"date\"] > \"2019-04-23\")]\n",
    "\n",
    "eventsVentanaSiete = events.loc[(events[\"date\"] < \"2019-04-27\")]\n",
    "eventsVentanaSiete = eventsVentanaSiete.loc[(events[\"date\"] > \"2019-04-24\")]"
   ]
  },
  {
   "cell_type": "markdown",
   "metadata": {},
   "source": [
    "# installs"
   ]
  },
  {
   "cell_type": "code",
   "execution_count": 110,
   "metadata": {},
   "outputs": [],
   "source": [
    "installVentanaUno = installs.loc[(installs[\"created\"] < \"2019-04-21\")]\n",
    "installVentanaUno = installVentanaUno.loc[(installs[\"created\"] > \"2019-04-18\")]\n",
    "\n",
    "installVentanaDos = installs.loc[(installs[\"created\"] < \"2019-04-22\")]\n",
    "installVentanaDos = installVentanaDos.loc[(installs[\"created\"] > \"2019-04-19\")]\n"
   ]
  },
  {
   "cell_type": "code",
   "execution_count": 111,
   "metadata": {},
   "outputs": [],
   "source": [
    "\n",
    "installVentanaTres = installs.loc[(installDate[\"created\"] < \"2019-04-23\")]\n",
    "installVentanaTres = installVentanaTres.loc[(installs[\"created\"] > \"2019-04-20\")]\n",
    "\n",
    "installVentanaCuatro = installs.loc[(installs[\"created\"] < \"2019-04-24\")]\n",
    "installVentanaCuatro = installVentanaCuatro.loc[(installs[\"created\"] > \"2019-04-21\")]"
   ]
  },
  {
   "cell_type": "code",
   "execution_count": 112,
   "metadata": {},
   "outputs": [],
   "source": [
    "\n",
    "installVentanaCinco = installs.loc[(installs[\"created\"] < \"2019-04-25\")]\n",
    "installVentanaCinco = installVentanaCinco.loc[(installs[\"created\"] > \"2019-04-22\")]\n",
    "\n",
    "installVentanaSeis = installs.loc[(installs[\"created\"] < \"2019-04-26\")]\n",
    "installVentanaSeis = installVentanaSeis.loc[(installs[\"created\"] > \"2019-04-23\")]\n",
    "\n",
    "installVentanaSiete = installs.loc[(installs[\"created\"] < \"2019-04-27\")]\n",
    "installVentanaSiete = installVentanaSiete.loc[(installs[\"created\"] > \"2019-04-24\")]"
   ]
  },
  {
   "cell_type": "code",
   "execution_count": 113,
   "metadata": {},
   "outputs": [],
   "source": [
    "installVentanaUno['created'] = installVentanaUno['created'] - pd.to_datetime(\"2019-04-18 00:00:00\")\n",
    "installVentanaDos['created'] = installVentanaDos['created'] - pd.to_datetime(\"2019-04-19 00:00:00\")\n",
    "installVentanaTres['created'] = installVentanaTres['created'] - pd.to_datetime(\"2019-04-20 00:00:00\")\n",
    "installVentanaCuatro['created'] = installVentanaCuatro['created'] - pd.to_datetime(\"2019-04-21 00:00:00\")\n",
    "installVentanaCinco['created'] = installVentanaCinco['created'] - pd.to_datetime(\"2019-04-22 00:00:00\")\n",
    "installVentanaSeis['created'] = installVentanaSeis['created'] -  pd.to_datetime(\"2019-04-23 00:00:00\")\n",
    "installVentanaSiete['created'] = installVentanaSiete['created'] -  pd.to_datetime(\"2019-04-24 00:00:00\")\n",
    "\n"
   ]
  },
  {
   "cell_type": "code",
   "execution_count": 125,
   "metadata": {},
   "outputs": [],
   "source": [
    "eventsVentanaUno['date'] = pd.to_datetime(eventsVentanaUno['date']) - pd.to_datetime(\"2019-04-18 00:00:00\")\n",
    "eventsVentanaDos['date'] = pd.to_datetime(eventsVentanaDos['date']) - pd.to_datetime(\"2019-04-19 00:00:00\")\n",
    "eventsVentanaTres['date'] = pd.to_datetime(eventsVentanaTres['date']) - pd.to_datetime(\"2019-04-20 00:00:00\")\n",
    "eventsVentanaCuatro['date'] = pd.to_datetime(eventsVentanaCuatro['date']) - pd.to_datetime(\"2019-04-21 00:00:00\")\n",
    "eventsVentanaCinco['date'] = pd.to_datetime(eventsVentanaCinco['date']) - pd.to_datetime(\"2019-04-22 00:00:00\")\n",
    "eventsVentanaSeis['date'] =  pd.to_datetime(eventsVentanaSeis['date']) - pd.to_datetime(\"2019-04-23 00:00:00\")\n",
    "eventsVentanaSiete['date'] = pd.to_datetime(eventsVentanaSiete['date'])- pd.to_datetime(\"2019-04-24 00:00:00\")"
   ]
  },
  {
   "cell_type": "code",
   "execution_count": 114,
   "metadata": {},
   "outputs": [
    {
     "name": "stdout",
     "output_type": "stream",
     "text": [
      "<class 'pandas.core.frame.DataFrame'>\n",
      "Int64Index: 160861 entries, 2 to 481415\n",
      "Data columns (total 19 columns):\n",
      "created               160861 non-null timedelta64[ns]\n",
      "application_id        160861 non-null int64\n",
      "ref_type              160861 non-null int64\n",
      "ref_hash              160861 non-null int64\n",
      "click_hash            307 non-null object\n",
      "attributed            160861 non-null bool\n",
      "implicit              160861 non-null bool\n",
      "device_countrycode    160861 non-null int64\n",
      "device_brand          95803 non-null float64\n",
      "device_model          152978 non-null float64\n",
      "session_user_agent    156740 non-null object\n",
      "user_agent            111880 non-null object\n",
      "event_uuid            35226 non-null object\n",
      "kind                  35226 non-null object\n",
      "wifi                  100903 non-null object\n",
      "trans_id              2867 non-null object\n",
      "ip_address            160861 non-null int64\n",
      "device_language       153042 non-null float64\n",
      "sum                   160861 non-null int64\n",
      "dtypes: bool(2), float64(3), int64(6), object(7), timedelta64[ns](1)\n",
      "memory usage: 22.4+ MB\n"
     ]
    }
   ],
   "source": [
    "installVentanaUno.info()"
   ]
  },
  {
   "cell_type": "code",
   "execution_count": 115,
   "metadata": {},
   "outputs": [],
   "source": [
    "installVentanaUno['created'] = installVentanaUno['created'].dt.total_seconds()\n",
    "installVentanaDos['created'] = installVentanaDos['created'].dt.total_seconds()\n",
    "installVentanaTres['created'] = installVentanaTres['created'].dt.total_seconds()\n",
    "installVentanaCuatro['created'] = installVentanaCuatro['created'].dt.total_seconds()\n",
    "installVentanaCinco['created'] = installVentanaCinco['created'].dt.total_seconds()\n",
    "installVentanaSeis['created'] = installVentanaSeis['created'].dt.total_seconds()\n",
    "installVentanaSiete['created'] =installVentanaSiete['created'].dt.total_seconds()\n",
    "\n",
    "\n",
    "\n"
   ]
  },
  {
   "cell_type": "code",
   "execution_count": 126,
   "metadata": {},
   "outputs": [],
   "source": [
    "eventsVentanaUno['date'] = eventsVentanaUno['date'].dt.total_seconds()\n",
    "eventsVentanaDos['date'] = eventsVentanaDos['date'].dt.total_seconds()\n",
    "eventsVentanaTres['date'] = eventsVentanaTres['date'].dt.total_seconds()\n",
    "eventsVentanaCuatro['date'] = eventsVentanaCuatro['date'].dt.total_seconds()\n",
    "eventsVentanaCinco['date'] = eventsVentanaCinco['date'].dt.total_seconds()\n",
    "eventsVentanaSeis['date'] =  eventsVentanaSeis['date'].dt.total_seconds()\n",
    "eventsVentanaSiete['date'] = eventsVentanaSiete['date'].dt.total_seconds()"
   ]
  },
  {
   "cell_type": "code",
   "execution_count": 127,
   "metadata": {},
   "outputs": [
    {
     "data": {
      "text/plain": [
       "0.027000000000000003"
      ]
     },
     "execution_count": 127,
     "metadata": {},
     "output_type": "execute_result"
    }
   ],
   "source": [
    "eventsVentanaUno['date'].min()"
   ]
  },
  {
   "cell_type": "code",
   "execution_count": 116,
   "metadata": {},
   "outputs": [],
   "source": [
    "iv1 = installVentanaUno.groupby(['ref_hash']).agg({'created':'mean', 'sum':'sum','implicit':lambda x: (x ==True).mean(),'wifi':lambda x: (x == True).mean()})\n",
    "iv2 = installVentanaDos.groupby(['ref_hash']).agg({'created':'mean', 'sum':'sum','implicit':lambda x: (x ==True).mean(),'wifi':lambda x: (x == True).mean()})\n",
    "iv3 = installVentanaTres.groupby(['ref_hash']).agg({'created':'mean', 'sum':'sum','implicit':lambda x: (x ==True).mean(),'wifi':lambda x: (x == True).mean()})\n",
    "iv4 = installVentanaCuatro.groupby(['ref_hash']).agg({'created':'mean', 'sum':'sum','implicit':lambda x: (x ==True).mean(),'wifi':lambda x: (x == True).mean()})\n",
    "iv5 = installVentanaCinco.groupby(['ref_hash']).agg({'created':'mean', 'sum':'sum','implicit':lambda x: (x ==True).mean(),'wifi':lambda x: (x == True).mean()})\n",
    "iv6 = installVentanaSeis.groupby(['ref_hash']).agg({'created':'mean', 'sum':'sum','implicit':lambda x: (x ==True).mean(),'wifi':lambda x: (x == True).mean()})\n",
    "iv7 = installVentanaSiete.groupby(['ref_hash']).agg({'created':'mean', 'sum':'sum','implicit':lambda x: (x ==True).mean(),'wifi':lambda x: (x == True).mean()})"
   ]
  },
  {
   "cell_type": "code",
   "execution_count": 128,
   "metadata": {},
   "outputs": [],
   "source": [
    "ev1 = eventsVentanaUno.groupby(['ref_hash']).agg({'date':'mean','sum':'sum'})\n",
    "ev2 = eventsVentanaDos.groupby(['ref_hash']).agg({'date':'mean','sum':'sum'})\n",
    "ev3 = eventsVentanaTres.groupby(['ref_hash']).agg({'date':'mean','sum':'sum'})\n",
    "ev4 = eventsVentanaCuatro.groupby(['ref_hash']).agg({'date':'mean','sum':'sum'})\n",
    "ev5 = eventsVentanaCinco.groupby(['ref_hash']).agg({'date':'mean','sum':'sum'})\n",
    "ev6 = eventsVentanaSeis.groupby(['ref_hash']).agg({'date':'mean','sum':'sum'})\n",
    "ev7 = eventsVentanaSiete.groupby(['ref_hash']).agg({'date':'mean','sum':'sum'})"
   ]
  },
  {
   "cell_type": "code",
   "execution_count": 129,
   "metadata": {},
   "outputs": [
    {
     "data": {
      "text/html": [
       "<div>\n",
       "<style scoped>\n",
       "    .dataframe tbody tr th:only-of-type {\n",
       "        vertical-align: middle;\n",
       "    }\n",
       "\n",
       "    .dataframe tbody tr th {\n",
       "        vertical-align: top;\n",
       "    }\n",
       "\n",
       "    .dataframe thead th {\n",
       "        text-align: right;\n",
       "    }\n",
       "</style>\n",
       "<table border=\"1\" class=\"dataframe\">\n",
       "  <thead>\n",
       "    <tr style=\"text-align: right;\">\n",
       "      <th></th>\n",
       "      <th>date</th>\n",
       "      <th>sum</th>\n",
       "    </tr>\n",
       "    <tr>\n",
       "      <th>ref_hash</th>\n",
       "      <th></th>\n",
       "      <th></th>\n",
       "    </tr>\n",
       "  </thead>\n",
       "  <tbody>\n",
       "    <tr>\n",
       "      <th>41863526108385</th>\n",
       "      <td>140063.116193</td>\n",
       "      <td>88</td>\n",
       "    </tr>\n",
       "    <tr>\n",
       "      <th>161514654074162</th>\n",
       "      <td>147937.895375</td>\n",
       "      <td>8</td>\n",
       "    </tr>\n",
       "    <tr>\n",
       "      <th>186034136943920</th>\n",
       "      <td>60126.241846</td>\n",
       "      <td>13</td>\n",
       "    </tr>\n",
       "    <tr>\n",
       "      <th>360710529886978</th>\n",
       "      <td>214874.528000</td>\n",
       "      <td>3</td>\n",
       "    </tr>\n",
       "    <tr>\n",
       "      <th>365882020742330</th>\n",
       "      <td>151255.449737</td>\n",
       "      <td>57</td>\n",
       "    </tr>\n",
       "  </tbody>\n",
       "</table>\n",
       "</div>"
      ],
      "text/plain": [
       "                          date  sum\n",
       "ref_hash                           \n",
       "41863526108385   140063.116193   88\n",
       "161514654074162  147937.895375    8\n",
       "186034136943920   60126.241846   13\n",
       "360710529886978  214874.528000    3\n",
       "365882020742330  151255.449737   57"
      ]
     },
     "execution_count": 129,
     "metadata": {},
     "output_type": "execute_result"
    }
   ],
   "source": [
    "ev1.head()"
   ]
  },
  {
   "cell_type": "code",
   "execution_count": 118,
   "metadata": {},
   "outputs": [
    {
     "data": {
      "text/html": [
       "<div>\n",
       "<style scoped>\n",
       "    .dataframe tbody tr th:only-of-type {\n",
       "        vertical-align: middle;\n",
       "    }\n",
       "\n",
       "    .dataframe tbody tr th {\n",
       "        vertical-align: top;\n",
       "    }\n",
       "\n",
       "    .dataframe thead th {\n",
       "        text-align: right;\n",
       "    }\n",
       "</style>\n",
       "<table border=\"1\" class=\"dataframe\">\n",
       "  <thead>\n",
       "    <tr style=\"text-align: right;\">\n",
       "      <th></th>\n",
       "      <th>created</th>\n",
       "      <th>sum</th>\n",
       "      <th>implicit</th>\n",
       "      <th>wifi</th>\n",
       "    </tr>\n",
       "    <tr>\n",
       "      <th>ref_hash</th>\n",
       "      <th></th>\n",
       "      <th></th>\n",
       "      <th></th>\n",
       "      <th></th>\n",
       "    </tr>\n",
       "  </thead>\n",
       "  <tbody>\n",
       "    <tr>\n",
       "      <th>41863526108385</th>\n",
       "      <td>76472.69225</td>\n",
       "      <td>4</td>\n",
       "      <td>0.5</td>\n",
       "      <td>0.0</td>\n",
       "    </tr>\n",
       "    <tr>\n",
       "      <th>135153013040192</th>\n",
       "      <td>192980.25800</td>\n",
       "      <td>1</td>\n",
       "      <td>0.0</td>\n",
       "      <td>0.0</td>\n",
       "    </tr>\n",
       "    <tr>\n",
       "      <th>186034136943920</th>\n",
       "      <td>60042.83900</td>\n",
       "      <td>1</td>\n",
       "      <td>1.0</td>\n",
       "      <td>0.0</td>\n",
       "    </tr>\n",
       "    <tr>\n",
       "      <th>365882020742330</th>\n",
       "      <td>96156.50800</td>\n",
       "      <td>1</td>\n",
       "      <td>0.0</td>\n",
       "      <td>0.0</td>\n",
       "    </tr>\n",
       "    <tr>\n",
       "      <th>519199987760489</th>\n",
       "      <td>92860.47500</td>\n",
       "      <td>1</td>\n",
       "      <td>0.0</td>\n",
       "      <td>1.0</td>\n",
       "    </tr>\n",
       "  </tbody>\n",
       "</table>\n",
       "</div>"
      ],
      "text/plain": [
       "                      created  sum  implicit  wifi\n",
       "ref_hash                                          \n",
       "41863526108385    76472.69225    4       0.5   0.0\n",
       "135153013040192  192980.25800    1       0.0   0.0\n",
       "186034136943920   60042.83900    1       1.0   0.0\n",
       "365882020742330   96156.50800    1       0.0   0.0\n",
       "519199987760489   92860.47500    1       0.0   1.0"
      ]
     },
     "execution_count": 118,
     "metadata": {},
     "output_type": "execute_result"
    }
   ],
   "source": [
    "iv1.head()"
   ]
  },
  {
   "cell_type": "code",
   "execution_count": 130,
   "metadata": {},
   "outputs": [],
   "source": [
    "iev1 = iv1.merge(ev1, how = 'left', on = 'ref_hash')\n",
    "iev1['sum_y'].fillna(value = 0,inplace = True)\n",
    "iev1['eventos_por_install_avg'] = iev1['sum_y']/iev1['sum_x']\n",
    "\n",
    "iev2 = iv2.merge(ev2, how = 'left', on = 'ref_hash')\n",
    "iev2['sum_y'].fillna(value = 0,inplace = True)\n",
    "iev2['eventos_por_install_avg'] = iev2['sum_y']/iev2['sum_x']\n",
    "\n",
    "iev3 = iv3.merge(ev1, how = 'left', on = 'ref_hash')\n",
    "iev3['sum_y'].fillna(value = 0,inplace = True)\n",
    "iev3['eventos_por_install_avg'] = iev3['sum_y']/iev3['sum_x']\n",
    "\n",
    "iev4 = iv4.merge(ev4, how = 'left', on = 'ref_hash')\n",
    "iev4['sum_y'].fillna(value = 0,inplace = True)\n",
    "iev4['eventos_por_install_avg'] = iev4['sum_y']/iev4['sum_x']\n",
    "\n",
    "iev5 = iv5.merge(ev5, how = 'left', on = 'ref_hash')\n",
    "iev5['sum_y'].fillna(value = 0,inplace = True)\n",
    "iev5['eventos_por_install_avg'] = iev5['sum_y']/iev5['sum_x']\n",
    "\n",
    "iev6 = iv6.merge(ev6, how = 'left', on = 'ref_hash')\n",
    "iev6['sum_y'].fillna(value = 0,inplace = True)\n",
    "iev6['eventos_por_install_avg'] = iev6['sum_y']/iev6['sum_x']\n",
    "\n",
    "iev7 = iv7.merge(ev7, how = 'left', on = 'ref_hash')\n",
    "iev7['sum_y'].fillna(value = 0,inplace = True)\n",
    "iev7['eventos_por_install_avg'] = iev7['sum_y']/iev7['sum_x']\n"
   ]
  },
  {
   "cell_type": "code",
   "execution_count": 132,
   "metadata": {},
   "outputs": [],
   "source": [
    "iev1['date'].fillna(value = 259200,inplace = True)\n",
    "iev2['date'].fillna(value = 259200,inplace = True)\n",
    "iev3['date'].fillna(value = 259200,inplace = True)\n",
    "iev4['date'].fillna(value = 259200,inplace = True)\n",
    "iev5['date'].fillna(value = 259200,inplace = True)\n",
    "iev6['date'].fillna(value = 259200,inplace = True)\n",
    "iev7['date'].fillna(value = 259200,inplace = True)"
   ]
  },
  {
   "cell_type": "markdown",
   "metadata": {},
   "source": [
    "#### entonces las ventanas obtenidas contienen features en base a wifi, cantidad de eventos, cantidad de installs,promedio de implicit installs y la cantidad promedio de eventos por cada install."
   ]
  },
  {
   "cell_type": "code",
   "execution_count": null,
   "metadata": {},
   "outputs": [],
   "source": []
  },
  {
   "cell_type": "code",
   "execution_count": null,
   "metadata": {},
   "outputs": [],
   "source": []
  },
  {
   "cell_type": "code",
   "execution_count": null,
   "metadata": {},
   "outputs": [],
   "source": []
  },
  {
   "cell_type": "code",
   "execution_count": null,
   "metadata": {},
   "outputs": [],
   "source": []
  },
  {
   "cell_type": "code",
   "execution_count": null,
   "metadata": {},
   "outputs": [],
   "source": []
  },
  {
   "cell_type": "code",
   "execution_count": null,
   "metadata": {},
   "outputs": [],
   "source": []
  }
 ],
 "metadata": {
  "kernelspec": {
   "display_name": "Python 3",
   "language": "python",
   "name": "python3"
  },
  "language_info": {
   "codemirror_mode": {
    "name": "ipython",
    "version": 3
   },
   "file_extension": ".py",
   "mimetype": "text/x-python",
   "name": "python",
   "nbconvert_exporter": "python",
   "pygments_lexer": "ipython3",
   "version": "3.7.1"
  }
 },
 "nbformat": 4,
 "nbformat_minor": 2
}
