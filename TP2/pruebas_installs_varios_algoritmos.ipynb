{
 "cells": [
  {
   "cell_type": "markdown",
   "metadata": {},
   "source": [
    "# Survival analysis para la empresa JAMPP\n",
    "\n",
    "El objetivo es analizar los datos de la empresa JAMPP para saber cuando un usuario volverá a conectarse a una app, dado sus datos de conexiones previas. La segunda predicción que intentaremos hacer es saber cuando volverá a \"convertir\", es decir comprar la app de la cual tiene una publicidad en su movil a un momento dado.\n",
    "\n"
   ]
  },
  {
   "cell_type": "code",
   "execution_count": 460,
   "metadata": {},
   "outputs": [],
   "source": [
    "import matplotlib.pyplot as plt\n",
    "import pandas as pd\n",
    "import numpy as np\n",
    "import lifelines\n",
    "import math\n",
    "import category_encoders as ce\n",
    "from sklearn.linear_model import LinearRegression\n",
    "from sklearn.metrics import explained_variance_score\n",
    "from sklearn.model_selection import train_test_split\n",
    "from sklearn.metrics import mean_squared_error\n",
    "from sklearn.ensemble import RandomForestRegressor\n",
    "from sklearn.linear_model import Ridge\n",
    "from sklearn.model_selection import GridSearchCV\n",
    "from sklearn.model_selection import StratifiedKFold\n",
    "from sklearn.preprocessing import LabelEncoder\n",
    "import xgboost"
   ]
  },
  {
   "cell_type": "code",
   "execution_count": 2,
   "metadata": {},
   "outputs": [
    {
     "name": "stderr",
     "output_type": "stream",
     "text": [
      "/Users/yorickvinesse/anaconda3/lib/python3.7/site-packages/IPython/core/interactiveshell.py:3020: DtypeWarning: Columns (13,20) have mixed types. Specify dtype option on import or set low_memory=False.\n",
      "  interactivity=interactivity, compiler=compiler, result=result)\n"
     ]
    }
   ],
   "source": [
    "events = pd.read_csv('./events.csv')"
   ]
  },
  {
   "cell_type": "code",
   "execution_count": 3,
   "metadata": {},
   "outputs": [
    {
     "name": "stderr",
     "output_type": "stream",
     "text": [
      "/Users/yorickvinesse/anaconda3/lib/python3.7/site-packages/IPython/core/interactiveshell.py:3020: DtypeWarning: Columns (16,17) have mixed types. Specify dtype option on import or set low_memory=False.\n",
      "  interactivity=interactivity, compiler=compiler, result=result)\n"
     ]
    }
   ],
   "source": [
    "clicks = pd.read_csv('./clicks.csv')"
   ]
  },
  {
   "cell_type": "code",
   "execution_count": 4,
   "metadata": {},
   "outputs": [
    {
     "name": "stderr",
     "output_type": "stream",
     "text": [
      "/Users/yorickvinesse/anaconda3/lib/python3.7/site-packages/IPython/core/interactiveshell.py:3020: DtypeWarning: Columns (4,15) have mixed types. Specify dtype option on import or set low_memory=False.\n",
      "  interactivity=interactivity, compiler=compiler, result=result)\n"
     ]
    }
   ],
   "source": [
    "installs = pd.read_csv('./installs.csv')"
   ]
  },
  {
   "cell_type": "code",
   "execution_count": 5,
   "metadata": {},
   "outputs": [
    {
     "data": {
      "text/plain": [
       "created                object\n",
       "application_id          int64\n",
       "ref_type                int64\n",
       "ref_hash                int64\n",
       "click_hash             object\n",
       "attributed               bool\n",
       "implicit                 bool\n",
       "device_countrycode      int64\n",
       "device_brand          float64\n",
       "device_model          float64\n",
       "session_user_agent     object\n",
       "user_agent             object\n",
       "event_uuid             object\n",
       "kind                   object\n",
       "wifi                   object\n",
       "trans_id               object\n",
       "ip_address              int64\n",
       "device_language       float64\n",
       "dtype: object"
      ]
     },
     "execution_count": 5,
     "metadata": {},
     "output_type": "execute_result"
    }
   ],
   "source": [
    "installs.dtypes"
   ]
  },
  {
   "cell_type": "code",
   "execution_count": 6,
   "metadata": {},
   "outputs": [
    {
     "data": {
      "text/plain": [
       "index                   int64\n",
       "date                   object\n",
       "event_id                int64\n",
       "ref_type                int64\n",
       "ref_hash                int64\n",
       "application_id          int64\n",
       "attributed               bool\n",
       "device_countrycode      int64\n",
       "device_os_version     float64\n",
       "device_brand          float64\n",
       "device_model          float64\n",
       "device_city           float64\n",
       "session_user_agent    float64\n",
       "trans_id               object\n",
       "user_agent            float64\n",
       "event_uuid             object\n",
       "carrier               float64\n",
       "kind                  float64\n",
       "device_os             float64\n",
       "wifi                     bool\n",
       "connection_type        object\n",
       "ip_address              int64\n",
       "device_language       float64\n",
       "dtype: object"
      ]
     },
     "execution_count": 6,
     "metadata": {},
     "output_type": "execute_result"
    }
   ],
   "source": [
    "events.dtypes"
   ]
  },
  {
   "cell_type": "markdown",
   "metadata": {},
   "source": [
    "# Que datos nos conviene usar?\n",
    "\n",
    "Acá estamos haciendo un _survival analysis_ entonces se necesita mostrar el momento al cual ocurrió un evento. En nuestro caso, si un evento aparece en el dataset de _auctions_, es porque ocurrió. El survival analysis se enfoca en la primera vez que ocurre un evento, puesto que hace una regresión de un set de caractéristicas en frente a una fecha de ocurrencia del evento.\n",
    "\n",
    "Pero es cierto que muchos usuarios, aca representados por sus *device_id* aparecen varias veces en la lista de subastas (_auctions_), considerando que 475338 *device_id* únicos se pueden contar adentro del set de _auctions_ que almacena 47409528 observaciones distintas (100 veces más).\n",
    "\n",
    "Dado eso, parecería inoportuno no considerar la característica de repetición de aparición de los usuarios cuando hacemos la predicción de su reaparición más adelante.\n",
    "\n",
    "Podemos tratar de analizar datos como la cantidad de clicks hecha por un usuario antes de llevar a cabo una instalación, o la cantidad de veces que apareció en una subasta."
   ]
  },
  {
   "cell_type": "code",
   "execution_count": 3,
   "metadata": {},
   "outputs": [
    {
     "data": {
      "text/html": [
       "<div>\n",
       "<style scoped>\n",
       "    .dataframe tbody tr th:only-of-type {\n",
       "        vertical-align: middle;\n",
       "    }\n",
       "\n",
       "    .dataframe tbody tr th {\n",
       "        vertical-align: top;\n",
       "    }\n",
       "\n",
       "    .dataframe thead th {\n",
       "        text-align: right;\n",
       "    }\n",
       "</style>\n",
       "<table border=\"1\" class=\"dataframe\">\n",
       "  <thead>\n",
       "    <tr style=\"text-align: right;\">\n",
       "      <th></th>\n",
       "      <th>date</th>\n",
       "      <th>device_id</th>\n",
       "      <th>ref_type_id</th>\n",
       "      <th>source_id</th>\n",
       "    </tr>\n",
       "  </thead>\n",
       "  <tbody>\n",
       "    <tr>\n",
       "      <th>0</th>\n",
       "      <td>2019-04-23 18:58:00.842116</td>\n",
       "      <td>2564673204772915246</td>\n",
       "      <td>1</td>\n",
       "      <td>0</td>\n",
       "    </tr>\n",
       "    <tr>\n",
       "      <th>1</th>\n",
       "      <td>2019-04-23 18:58:01.530771</td>\n",
       "      <td>4441121667607578179</td>\n",
       "      <td>7</td>\n",
       "      <td>0</td>\n",
       "    </tr>\n",
       "    <tr>\n",
       "      <th>2</th>\n",
       "      <td>2019-04-23 18:58:01.767562</td>\n",
       "      <td>7721769811471055264</td>\n",
       "      <td>1</td>\n",
       "      <td>0</td>\n",
       "    </tr>\n",
       "    <tr>\n",
       "      <th>3</th>\n",
       "      <td>2019-04-23 18:58:02.363468</td>\n",
       "      <td>6416039086842158968</td>\n",
       "      <td>1</td>\n",
       "      <td>0</td>\n",
       "    </tr>\n",
       "    <tr>\n",
       "      <th>4</th>\n",
       "      <td>2019-04-23 18:58:02.397559</td>\n",
       "      <td>1258642015983312729</td>\n",
       "      <td>1</td>\n",
       "      <td>0</td>\n",
       "    </tr>\n",
       "  </tbody>\n",
       "</table>\n",
       "</div>"
      ],
      "text/plain": [
       "                         date            device_id  ref_type_id  source_id\n",
       "0  2019-04-23 18:58:00.842116  2564673204772915246            1          0\n",
       "1  2019-04-23 18:58:01.530771  4441121667607578179            7          0\n",
       "2  2019-04-23 18:58:01.767562  7721769811471055264            1          0\n",
       "3  2019-04-23 18:58:02.363468  6416039086842158968            1          0\n",
       "4  2019-04-23 18:58:02.397559  1258642015983312729            1          0"
      ]
     },
     "execution_count": 3,
     "metadata": {},
     "output_type": "execute_result"
    }
   ],
   "source": [
    "auctions.head(5)"
   ]
  },
  {
   "cell_type": "code",
   "execution_count": 23,
   "metadata": {},
   "outputs": [
    {
     "data": {
      "text/plain": [
       "'2019-04-26 23:59:59.969518'"
      ]
     },
     "execution_count": 23,
     "metadata": {},
     "output_type": "execute_result"
    }
   ],
   "source": [
    "auctions.date.max()"
   ]
  },
  {
   "cell_type": "code",
   "execution_count": 33,
   "metadata": {},
   "outputs": [
    {
     "data": {
      "text/plain": [
       "index                 7744581\n",
       "date                  7744581\n",
       "event_id              7744581\n",
       "ref_type              7744581\n",
       "ref_hash              7744581\n",
       "application_id        7744581\n",
       "attributed            7744581\n",
       "device_countrycode    7744581\n",
       "device_os_version     2332975\n",
       "device_brand          2553424\n",
       "device_model          5668092\n",
       "device_city           1894935\n",
       "session_user_agent    7702301\n",
       "trans_id                37642\n",
       "user_agent            3341483\n",
       "event_uuid            7714809\n",
       "carrier               1925901\n",
       "kind                  7714809\n",
       "device_os             1870190\n",
       "wifi                  7744581\n",
       "connection_type       1809296\n",
       "ip_address            7744581\n",
       "device_language       5665409\n",
       "dtype: int64"
      ]
     },
     "execution_count": 33,
     "metadata": {},
     "output_type": "execute_result"
    }
   ],
   "source": [
    "events.count()"
   ]
  },
  {
   "cell_type": "markdown",
   "metadata": {},
   "source": [
    "# Cuandó instalará un usuario dado?\n",
    "\n",
    "### Desarrollo alrededor del dataset _installs_ y _events_"
   ]
  },
  {
   "cell_type": "code",
   "execution_count": 7,
   "metadata": {},
   "outputs": [],
   "source": [
    "eventsCurated = events.drop(columns = ['ref_type', 'session_user_agent', 'device_os_version', 'device_brand',\\\n",
    "                                       'device_model', 'trans_id', 'user_agent', 'ip_address', 'device_countrycode'])"
   ]
  },
  {
   "cell_type": "code",
   "execution_count": 8,
   "metadata": {},
   "outputs": [
    {
     "data": {
      "text/html": [
       "<div>\n",
       "<style scoped>\n",
       "    .dataframe tbody tr th:only-of-type {\n",
       "        vertical-align: middle;\n",
       "    }\n",
       "\n",
       "    .dataframe tbody tr th {\n",
       "        vertical-align: top;\n",
       "    }\n",
       "\n",
       "    .dataframe thead th {\n",
       "        text-align: right;\n",
       "    }\n",
       "</style>\n",
       "<table border=\"1\" class=\"dataframe\">\n",
       "  <thead>\n",
       "    <tr style=\"text-align: right;\">\n",
       "      <th></th>\n",
       "      <th>index</th>\n",
       "      <th>date</th>\n",
       "      <th>event_id</th>\n",
       "      <th>ref_hash</th>\n",
       "      <th>application_id</th>\n",
       "      <th>attributed</th>\n",
       "      <th>device_city</th>\n",
       "      <th>event_uuid</th>\n",
       "      <th>carrier</th>\n",
       "      <th>kind</th>\n",
       "      <th>device_os</th>\n",
       "      <th>wifi</th>\n",
       "      <th>connection_type</th>\n",
       "      <th>device_language</th>\n",
       "    </tr>\n",
       "  </thead>\n",
       "  <tbody>\n",
       "    <tr>\n",
       "      <th>0</th>\n",
       "      <td>2130678</td>\n",
       "      <td>2019-04-20 01:42:49.120</td>\n",
       "      <td>0</td>\n",
       "      <td>5857744372586891366</td>\n",
       "      <td>210</td>\n",
       "      <td>False</td>\n",
       "      <td>NaN</td>\n",
       "      <td>5b506964-5f47-4b28-a8c2-8a92d6c23379</td>\n",
       "      <td>NaN</td>\n",
       "      <td>5.882882e+18</td>\n",
       "      <td>NaN</td>\n",
       "      <td>False</td>\n",
       "      <td>NaN</td>\n",
       "      <td>3.301378e+18</td>\n",
       "    </tr>\n",
       "    <tr>\n",
       "      <th>1</th>\n",
       "      <td>2130680</td>\n",
       "      <td>2019-04-20 01:42:49.340</td>\n",
       "      <td>1</td>\n",
       "      <td>7642521036780133571</td>\n",
       "      <td>210</td>\n",
       "      <td>False</td>\n",
       "      <td>NaN</td>\n",
       "      <td>f1fb9d15-1a7b-4116-8d3b-c4c403e197e2</td>\n",
       "      <td>NaN</td>\n",
       "      <td>4.017674e+18</td>\n",
       "      <td>NaN</td>\n",
       "      <td>False</td>\n",
       "      <td>NaN</td>\n",
       "      <td>NaN</td>\n",
       "    </tr>\n",
       "  </tbody>\n",
       "</table>\n",
       "</div>"
      ],
      "text/plain": [
       "     index                     date  event_id             ref_hash  \\\n",
       "0  2130678  2019-04-20 01:42:49.120         0  5857744372586891366   \n",
       "1  2130680  2019-04-20 01:42:49.340         1  7642521036780133571   \n",
       "\n",
       "   application_id  attributed  device_city  \\\n",
       "0             210       False          NaN   \n",
       "1             210       False          NaN   \n",
       "\n",
       "                             event_uuid  carrier          kind  device_os  \\\n",
       "0  5b506964-5f47-4b28-a8c2-8a92d6c23379      NaN  5.882882e+18        NaN   \n",
       "1  f1fb9d15-1a7b-4116-8d3b-c4c403e197e2      NaN  4.017674e+18        NaN   \n",
       "\n",
       "    wifi connection_type  device_language  \n",
       "0  False             NaN     3.301378e+18  \n",
       "1  False             NaN              NaN  "
      ]
     },
     "execution_count": 8,
     "metadata": {},
     "output_type": "execute_result"
    }
   ],
   "source": [
    "eventsCurated.head(2)"
   ]
  },
  {
   "cell_type": "code",
   "execution_count": null,
   "metadata": {},
   "outputs": [],
   "source": [
    "installsSinDoble = installs[]"
   ]
  },
  {
   "cell_type": "code",
   "execution_count": 150,
   "metadata": {},
   "outputs": [],
   "source": [
    "installsCurated = installs.drop(columns = ['application_id', 'ref_type', \\\n",
    "                                           'click_hash', 'attributed', 'device_brand', 'device_model',\\\n",
    "                                           'session_user_agent', 'user_agent', 'kind', 'trans_id',\\\n",
    "                                          'ip_address', 'device_language', 'device_countrycode'])"
   ]
  },
  {
   "cell_type": "code",
   "execution_count": 151,
   "metadata": {},
   "outputs": [],
   "source": [
    "installsCurated['installed'] = 1"
   ]
  },
  {
   "cell_type": "code",
   "execution_count": 152,
   "metadata": {},
   "outputs": [
    {
     "data": {
      "text/html": [
       "<div>\n",
       "<style scoped>\n",
       "    .dataframe tbody tr th:only-of-type {\n",
       "        vertical-align: middle;\n",
       "    }\n",
       "\n",
       "    .dataframe tbody tr th {\n",
       "        vertical-align: top;\n",
       "    }\n",
       "\n",
       "    .dataframe thead th {\n",
       "        text-align: right;\n",
       "    }\n",
       "</style>\n",
       "<table border=\"1\" class=\"dataframe\">\n",
       "  <thead>\n",
       "    <tr style=\"text-align: right;\">\n",
       "      <th></th>\n",
       "      <th>created</th>\n",
       "      <th>ref_hash</th>\n",
       "      <th>implicit</th>\n",
       "      <th>event_uuid</th>\n",
       "      <th>wifi</th>\n",
       "      <th>installed</th>\n",
       "    </tr>\n",
       "  </thead>\n",
       "  <tbody>\n",
       "    <tr>\n",
       "      <th>0</th>\n",
       "      <td>2019-04-24 06:23:29.495</td>\n",
       "      <td>4716708407362582887</td>\n",
       "      <td>True</td>\n",
       "      <td>79837499-2f2a-4605-a663-e322f759424f</td>\n",
       "      <td>NaN</td>\n",
       "      <td>1</td>\n",
       "    </tr>\n",
       "    <tr>\n",
       "      <th>1</th>\n",
       "      <td>2019-04-24 02:06:01.032</td>\n",
       "      <td>7143568733100935872</td>\n",
       "      <td>False</td>\n",
       "      <td>NaN</td>\n",
       "      <td>NaN</td>\n",
       "      <td>1</td>\n",
       "    </tr>\n",
       "  </tbody>\n",
       "</table>\n",
       "</div>"
      ],
      "text/plain": [
       "                   created             ref_hash  implicit  \\\n",
       "0  2019-04-24 06:23:29.495  4716708407362582887      True   \n",
       "1  2019-04-24 02:06:01.032  7143568733100935872     False   \n",
       "\n",
       "                             event_uuid wifi  installed  \n",
       "0  79837499-2f2a-4605-a663-e322f759424f  NaN          1  \n",
       "1                                   NaN  NaN          1  "
      ]
     },
     "execution_count": 152,
     "metadata": {},
     "output_type": "execute_result"
    }
   ],
   "source": [
    "installsCurated.head(2)"
   ]
  },
  {
   "cell_type": "code",
   "execution_count": 153,
   "metadata": {},
   "outputs": [],
   "source": [
    "installsCurated = installsCurated.sort_values(['ref_hash', 'created'], ascending = [True, True])"
   ]
  },
  {
   "cell_type": "code",
   "execution_count": 154,
   "metadata": {},
   "outputs": [],
   "source": [
    "installsCurated.loc[:,'created'] = pd.to_datetime(installsCurated['created'], errors = 'coerce')"
   ]
  },
  {
   "cell_type": "code",
   "execution_count": 155,
   "metadata": {},
   "outputs": [
    {
     "data": {
      "text/plain": [
       "created       datetime64[ns]\n",
       "ref_hash               int64\n",
       "implicit                bool\n",
       "event_uuid            object\n",
       "wifi                  object\n",
       "installed              int64\n",
       "dtype: object"
      ]
     },
     "execution_count": 155,
     "metadata": {},
     "output_type": "execute_result"
    }
   ],
   "source": [
    "installsCurated.dtypes"
   ]
  },
  {
   "cell_type": "code",
   "execution_count": 156,
   "metadata": {},
   "outputs": [
    {
     "data": {
      "text/plain": [
       "created       481511\n",
       "ref_hash      481511\n",
       "implicit      481511\n",
       "event_uuid    103168\n",
       "wifi          294829\n",
       "installed     481511\n",
       "dtype: int64"
      ]
     },
     "execution_count": 156,
     "metadata": {},
     "output_type": "execute_result"
    }
   ],
   "source": [
    "installsCurated.count()"
   ]
  },
  {
   "cell_type": "markdown",
   "metadata": {},
   "source": [
    "## Vamos a suprimir los installs que parecen ser los mismos, es decir lo que tienen el mismo hash y un tiempo de instalacion dentro de 1 minuto."
   ]
  },
  {
   "cell_type": "code",
   "execution_count": 157,
   "metadata": {},
   "outputs": [],
   "source": [
    "installsCurated['is_replica'] = False"
   ]
  },
  {
   "cell_type": "code",
   "execution_count": 158,
   "metadata": {},
   "outputs": [],
   "source": [
    "segundo = np.timedelta64(1, 's')"
   ]
  },
  {
   "cell_type": "code",
   "execution_count": 147,
   "metadata": {},
   "outputs": [],
   "source": [
    "def isNaN(num):\n",
    "    return num != num"
   ]
  },
  {
   "cell_type": "code",
   "execution_count": 161,
   "metadata": {},
   "outputs": [
    {
     "data": {
      "text/html": [
       "<div>\n",
       "<style scoped>\n",
       "    .dataframe tbody tr th:only-of-type {\n",
       "        vertical-align: middle;\n",
       "    }\n",
       "\n",
       "    .dataframe tbody tr th {\n",
       "        vertical-align: top;\n",
       "    }\n",
       "\n",
       "    .dataframe thead th {\n",
       "        text-align: right;\n",
       "    }\n",
       "</style>\n",
       "<table border=\"1\" class=\"dataframe\">\n",
       "  <thead>\n",
       "    <tr style=\"text-align: right;\">\n",
       "      <th></th>\n",
       "      <th>created</th>\n",
       "      <th>ref_hash</th>\n",
       "      <th>implicit</th>\n",
       "      <th>event_uuid</th>\n",
       "      <th>wifi</th>\n",
       "      <th>installed</th>\n",
       "      <th>is_replica</th>\n",
       "    </tr>\n",
       "  </thead>\n",
       "  <tbody>\n",
       "    <tr>\n",
       "      <th>46742</th>\n",
       "      <td>2019-04-21 19:17:47.657</td>\n",
       "      <td>40621409780134</td>\n",
       "      <td>False</td>\n",
       "      <td>NaN</td>\n",
       "      <td>NaN</td>\n",
       "      <td>1</td>\n",
       "      <td>False</td>\n",
       "    </tr>\n",
       "    <tr>\n",
       "      <th>398921</th>\n",
       "      <td>2019-04-18 21:11:50.326</td>\n",
       "      <td>41863526108385</td>\n",
       "      <td>True</td>\n",
       "      <td>2f8be0cc-297e-4c9c-a097-1096aa5824b5</td>\n",
       "      <td>False</td>\n",
       "      <td>1</td>\n",
       "      <td>False</td>\n",
       "    </tr>\n",
       "    <tr>\n",
       "      <th>249204</th>\n",
       "      <td>2019-04-18 21:11:51.966</td>\n",
       "      <td>41863526108385</td>\n",
       "      <td>False</td>\n",
       "      <td>NaN</td>\n",
       "      <td>False</td>\n",
       "      <td>1</td>\n",
       "      <td>False</td>\n",
       "    </tr>\n",
       "    <tr>\n",
       "      <th>112218</th>\n",
       "      <td>2019-04-18 21:17:11.946</td>\n",
       "      <td>41863526108385</td>\n",
       "      <td>False</td>\n",
       "      <td>NaN</td>\n",
       "      <td>False</td>\n",
       "      <td>1</td>\n",
       "      <td>False</td>\n",
       "    </tr>\n",
       "    <tr>\n",
       "      <th>112200</th>\n",
       "      <td>2019-04-18 21:17:16.531</td>\n",
       "      <td>41863526108385</td>\n",
       "      <td>True</td>\n",
       "      <td>f07fd6db-2f55-4539-b9ab-76f18ff4f51d</td>\n",
       "      <td>False</td>\n",
       "      <td>1</td>\n",
       "      <td>False</td>\n",
       "    </tr>\n",
       "    <tr>\n",
       "      <th>205516</th>\n",
       "      <td>2019-04-24 18:30:50.199</td>\n",
       "      <td>90072729247980</td>\n",
       "      <td>False</td>\n",
       "      <td>NaN</td>\n",
       "      <td>NaN</td>\n",
       "      <td>1</td>\n",
       "      <td>False</td>\n",
       "    </tr>\n",
       "    <tr>\n",
       "      <th>157023</th>\n",
       "      <td>2019-04-20 05:36:20.258</td>\n",
       "      <td>135153013040192</td>\n",
       "      <td>False</td>\n",
       "      <td>NaN</td>\n",
       "      <td>NaN</td>\n",
       "      <td>1</td>\n",
       "      <td>False</td>\n",
       "    </tr>\n",
       "    <tr>\n",
       "      <th>418098</th>\n",
       "      <td>2019-04-22 18:13:44.805</td>\n",
       "      <td>161514654074162</td>\n",
       "      <td>True</td>\n",
       "      <td>a0231d93-a9be-4052-ba1a-1b0c09c49f6c</td>\n",
       "      <td>True</td>\n",
       "      <td>1</td>\n",
       "      <td>False</td>\n",
       "    </tr>\n",
       "    <tr>\n",
       "      <th>198205</th>\n",
       "      <td>2019-04-22 00:09:33.188</td>\n",
       "      <td>168103949904656</td>\n",
       "      <td>False</td>\n",
       "      <td>NaN</td>\n",
       "      <td>NaN</td>\n",
       "      <td>1</td>\n",
       "      <td>False</td>\n",
       "    </tr>\n",
       "    <tr>\n",
       "      <th>366926</th>\n",
       "      <td>2019-04-18 16:40:42.839</td>\n",
       "      <td>186034136943920</td>\n",
       "      <td>True</td>\n",
       "      <td>11a503ae-9059-4cc1-bba0-3dcfa8ab635e</td>\n",
       "      <td>NaN</td>\n",
       "      <td>1</td>\n",
       "      <td>False</td>\n",
       "    </tr>\n",
       "    <tr>\n",
       "      <th>374761</th>\n",
       "      <td>2019-04-22 13:42:09.476</td>\n",
       "      <td>283297668933729</td>\n",
       "      <td>False</td>\n",
       "      <td>NaN</td>\n",
       "      <td>NaN</td>\n",
       "      <td>1</td>\n",
       "      <td>False</td>\n",
       "    </tr>\n",
       "    <tr>\n",
       "      <th>219372</th>\n",
       "      <td>2019-04-26 22:23:41.836</td>\n",
       "      <td>342614246084071</td>\n",
       "      <td>False</td>\n",
       "      <td>NaN</td>\n",
       "      <td>NaN</td>\n",
       "      <td>1</td>\n",
       "      <td>False</td>\n",
       "    </tr>\n",
       "    <tr>\n",
       "      <th>154739</th>\n",
       "      <td>2019-04-21 04:19:38.532</td>\n",
       "      <td>345999128501141</td>\n",
       "      <td>False</td>\n",
       "      <td>NaN</td>\n",
       "      <td>NaN</td>\n",
       "      <td>1</td>\n",
       "      <td>False</td>\n",
       "    </tr>\n",
       "    <tr>\n",
       "      <th>288979</th>\n",
       "      <td>2019-04-26 21:40:11.227</td>\n",
       "      <td>347785260789835</td>\n",
       "      <td>True</td>\n",
       "      <td>7f189316-61b6-4c01-a77e-9f3ae5edf805</td>\n",
       "      <td>NaN</td>\n",
       "      <td>1</td>\n",
       "      <td>False</td>\n",
       "    </tr>\n",
       "    <tr>\n",
       "      <th>424433</th>\n",
       "      <td>2019-04-19 02:42:36.508</td>\n",
       "      <td>365882020742330</td>\n",
       "      <td>False</td>\n",
       "      <td>NaN</td>\n",
       "      <td>False</td>\n",
       "      <td>1</td>\n",
       "      <td>False</td>\n",
       "    </tr>\n",
       "    <tr>\n",
       "      <th>228155</th>\n",
       "      <td>2019-04-25 15:09:11.886</td>\n",
       "      <td>416301579449694</td>\n",
       "      <td>False</td>\n",
       "      <td>NaN</td>\n",
       "      <td>NaN</td>\n",
       "      <td>1</td>\n",
       "      <td>False</td>\n",
       "    </tr>\n",
       "    <tr>\n",
       "      <th>408449</th>\n",
       "      <td>2019-04-25 17:03:11.040</td>\n",
       "      <td>420449720220692</td>\n",
       "      <td>False</td>\n",
       "      <td>NaN</td>\n",
       "      <td>NaN</td>\n",
       "      <td>1</td>\n",
       "      <td>False</td>\n",
       "    </tr>\n",
       "    <tr>\n",
       "      <th>142730</th>\n",
       "      <td>2019-04-24 20:39:14.142</td>\n",
       "      <td>448610188195811</td>\n",
       "      <td>True</td>\n",
       "      <td>7cbdf64a-a8cf-4a55-af4a-8b7181403feb</td>\n",
       "      <td>False</td>\n",
       "      <td>1</td>\n",
       "      <td>False</td>\n",
       "    </tr>\n",
       "    <tr>\n",
       "      <th>116965</th>\n",
       "      <td>2019-04-24 20:39:55.008</td>\n",
       "      <td>448610188195811</td>\n",
       "      <td>False</td>\n",
       "      <td>NaN</td>\n",
       "      <td>NaN</td>\n",
       "      <td>1</td>\n",
       "      <td>False</td>\n",
       "    </tr>\n",
       "    <tr>\n",
       "      <th>426967</th>\n",
       "      <td>2019-04-24 18:39:57.494</td>\n",
       "      <td>456015810461357</td>\n",
       "      <td>False</td>\n",
       "      <td>NaN</td>\n",
       "      <td>True</td>\n",
       "      <td>1</td>\n",
       "      <td>False</td>\n",
       "    </tr>\n",
       "    <tr>\n",
       "      <th>380813</th>\n",
       "      <td>2019-04-21 21:57:27.288</td>\n",
       "      <td>457867161681660</td>\n",
       "      <td>False</td>\n",
       "      <td>NaN</td>\n",
       "      <td>True</td>\n",
       "      <td>1</td>\n",
       "      <td>False</td>\n",
       "    </tr>\n",
       "    <tr>\n",
       "      <th>247856</th>\n",
       "      <td>2019-04-23 03:45:54.598</td>\n",
       "      <td>468235013311868</td>\n",
       "      <td>False</td>\n",
       "      <td>NaN</td>\n",
       "      <td>True</td>\n",
       "      <td>1</td>\n",
       "      <td>False</td>\n",
       "    </tr>\n",
       "    <tr>\n",
       "      <th>304132</th>\n",
       "      <td>2019-04-21 22:31:11.662</td>\n",
       "      <td>475635010681369</td>\n",
       "      <td>True</td>\n",
       "      <td>56caed98-1785-43e7-8209-bbeb747f9268</td>\n",
       "      <td>True</td>\n",
       "      <td>1</td>\n",
       "      <td>False</td>\n",
       "    </tr>\n",
       "    <tr>\n",
       "      <th>303913</th>\n",
       "      <td>2019-04-21 22:31:18.581</td>\n",
       "      <td>475635010681369</td>\n",
       "      <td>False</td>\n",
       "      <td>NaN</td>\n",
       "      <td>True</td>\n",
       "      <td>1</td>\n",
       "      <td>False</td>\n",
       "    </tr>\n",
       "    <tr>\n",
       "      <th>263639</th>\n",
       "      <td>2019-04-19 01:47:40.475</td>\n",
       "      <td>519199987760489</td>\n",
       "      <td>False</td>\n",
       "      <td>NaN</td>\n",
       "      <td>True</td>\n",
       "      <td>1</td>\n",
       "      <td>False</td>\n",
       "    </tr>\n",
       "  </tbody>\n",
       "</table>\n",
       "</div>"
      ],
      "text/plain": [
       "                       created         ref_hash  implicit  \\\n",
       "46742  2019-04-21 19:17:47.657   40621409780134     False   \n",
       "398921 2019-04-18 21:11:50.326   41863526108385      True   \n",
       "249204 2019-04-18 21:11:51.966   41863526108385     False   \n",
       "112218 2019-04-18 21:17:11.946   41863526108385     False   \n",
       "112200 2019-04-18 21:17:16.531   41863526108385      True   \n",
       "205516 2019-04-24 18:30:50.199   90072729247980     False   \n",
       "157023 2019-04-20 05:36:20.258  135153013040192     False   \n",
       "418098 2019-04-22 18:13:44.805  161514654074162      True   \n",
       "198205 2019-04-22 00:09:33.188  168103949904656     False   \n",
       "366926 2019-04-18 16:40:42.839  186034136943920      True   \n",
       "374761 2019-04-22 13:42:09.476  283297668933729     False   \n",
       "219372 2019-04-26 22:23:41.836  342614246084071     False   \n",
       "154739 2019-04-21 04:19:38.532  345999128501141     False   \n",
       "288979 2019-04-26 21:40:11.227  347785260789835      True   \n",
       "424433 2019-04-19 02:42:36.508  365882020742330     False   \n",
       "228155 2019-04-25 15:09:11.886  416301579449694     False   \n",
       "408449 2019-04-25 17:03:11.040  420449720220692     False   \n",
       "142730 2019-04-24 20:39:14.142  448610188195811      True   \n",
       "116965 2019-04-24 20:39:55.008  448610188195811     False   \n",
       "426967 2019-04-24 18:39:57.494  456015810461357     False   \n",
       "380813 2019-04-21 21:57:27.288  457867161681660     False   \n",
       "247856 2019-04-23 03:45:54.598  468235013311868     False   \n",
       "304132 2019-04-21 22:31:11.662  475635010681369      True   \n",
       "303913 2019-04-21 22:31:18.581  475635010681369     False   \n",
       "263639 2019-04-19 01:47:40.475  519199987760489     False   \n",
       "\n",
       "                                  event_uuid   wifi  installed  is_replica  \n",
       "46742                                    NaN    NaN          1       False  \n",
       "398921  2f8be0cc-297e-4c9c-a097-1096aa5824b5  False          1       False  \n",
       "249204                                   NaN  False          1       False  \n",
       "112218                                   NaN  False          1       False  \n",
       "112200  f07fd6db-2f55-4539-b9ab-76f18ff4f51d  False          1       False  \n",
       "205516                                   NaN    NaN          1       False  \n",
       "157023                                   NaN    NaN          1       False  \n",
       "418098  a0231d93-a9be-4052-ba1a-1b0c09c49f6c   True          1       False  \n",
       "198205                                   NaN    NaN          1       False  \n",
       "366926  11a503ae-9059-4cc1-bba0-3dcfa8ab635e    NaN          1       False  \n",
       "374761                                   NaN    NaN          1       False  \n",
       "219372                                   NaN    NaN          1       False  \n",
       "154739                                   NaN    NaN          1       False  \n",
       "288979  7f189316-61b6-4c01-a77e-9f3ae5edf805    NaN          1       False  \n",
       "424433                                   NaN  False          1       False  \n",
       "228155                                   NaN    NaN          1       False  \n",
       "408449                                   NaN    NaN          1       False  \n",
       "142730  7cbdf64a-a8cf-4a55-af4a-8b7181403feb  False          1       False  \n",
       "116965                                   NaN    NaN          1       False  \n",
       "426967                                   NaN   True          1       False  \n",
       "380813                                   NaN   True          1       False  \n",
       "247856                                   NaN   True          1       False  \n",
       "304132  56caed98-1785-43e7-8209-bbeb747f9268   True          1       False  \n",
       "303913                                   NaN   True          1       False  \n",
       "263639                                   NaN   True          1       False  "
      ]
     },
     "execution_count": 161,
     "metadata": {},
     "output_type": "execute_result"
    }
   ],
   "source": [
    "installsCurated.head(25)"
   ]
  },
  {
   "cell_type": "code",
   "execution_count": 163,
   "metadata": {},
   "outputs": [],
   "source": [
    "for i in range(1, len(installsCurated)):\n",
    "     if (installsCurated.iloc[i,1] == installsCurated.iloc[i-1,1]):\n",
    "        installsCurated.iloc[i,6] = \\\n",
    "         ((abs((installsCurated.iloc[i,0] - (installsCurated.iloc[i-1 ,0])) / segundo)) < 60)\n",
    "        if (isNaN(installsCurated.iloc[i,4])== False):\n",
    "            installsCurated.iloc[i-1, 4] = installsCurated.iloc[i, 4]"
   ]
  },
  {
   "cell_type": "markdown",
   "metadata": {},
   "source": [
    "### Cantidad de installs antes de suprimir las replicas"
   ]
  },
  {
   "cell_type": "code",
   "execution_count": 99,
   "metadata": {},
   "outputs": [
    {
     "data": {
      "text/plain": [
       "481511"
      ]
     },
     "execution_count": 99,
     "metadata": {},
     "output_type": "execute_result"
    }
   ],
   "source": [
    "len(installsCurated)"
   ]
  },
  {
   "cell_type": "code",
   "execution_count": 164,
   "metadata": {},
   "outputs": [
    {
     "data": {
      "text/html": [
       "<div>\n",
       "<style scoped>\n",
       "    .dataframe tbody tr th:only-of-type {\n",
       "        vertical-align: middle;\n",
       "    }\n",
       "\n",
       "    .dataframe tbody tr th {\n",
       "        vertical-align: top;\n",
       "    }\n",
       "\n",
       "    .dataframe thead th {\n",
       "        text-align: right;\n",
       "    }\n",
       "</style>\n",
       "<table border=\"1\" class=\"dataframe\">\n",
       "  <thead>\n",
       "    <tr style=\"text-align: right;\">\n",
       "      <th></th>\n",
       "      <th>created</th>\n",
       "      <th>ref_hash</th>\n",
       "      <th>implicit</th>\n",
       "      <th>event_uuid</th>\n",
       "      <th>wifi</th>\n",
       "      <th>installed</th>\n",
       "      <th>is_replica</th>\n",
       "    </tr>\n",
       "  </thead>\n",
       "  <tbody>\n",
       "    <tr>\n",
       "      <th>46742</th>\n",
       "      <td>2019-04-21 19:17:47.657</td>\n",
       "      <td>40621409780134</td>\n",
       "      <td>False</td>\n",
       "      <td>NaN</td>\n",
       "      <td>NaN</td>\n",
       "      <td>1</td>\n",
       "      <td>False</td>\n",
       "    </tr>\n",
       "    <tr>\n",
       "      <th>398921</th>\n",
       "      <td>2019-04-18 21:11:50.326</td>\n",
       "      <td>41863526108385</td>\n",
       "      <td>True</td>\n",
       "      <td>2f8be0cc-297e-4c9c-a097-1096aa5824b5</td>\n",
       "      <td>False</td>\n",
       "      <td>1</td>\n",
       "      <td>False</td>\n",
       "    </tr>\n",
       "    <tr>\n",
       "      <th>249204</th>\n",
       "      <td>2019-04-18 21:11:51.966</td>\n",
       "      <td>41863526108385</td>\n",
       "      <td>False</td>\n",
       "      <td>NaN</td>\n",
       "      <td>False</td>\n",
       "      <td>1</td>\n",
       "      <td>True</td>\n",
       "    </tr>\n",
       "    <tr>\n",
       "      <th>112218</th>\n",
       "      <td>2019-04-18 21:17:11.946</td>\n",
       "      <td>41863526108385</td>\n",
       "      <td>False</td>\n",
       "      <td>NaN</td>\n",
       "      <td>False</td>\n",
       "      <td>1</td>\n",
       "      <td>False</td>\n",
       "    </tr>\n",
       "    <tr>\n",
       "      <th>112200</th>\n",
       "      <td>2019-04-18 21:17:16.531</td>\n",
       "      <td>41863526108385</td>\n",
       "      <td>True</td>\n",
       "      <td>f07fd6db-2f55-4539-b9ab-76f18ff4f51d</td>\n",
       "      <td>False</td>\n",
       "      <td>1</td>\n",
       "      <td>True</td>\n",
       "    </tr>\n",
       "  </tbody>\n",
       "</table>\n",
       "</div>"
      ],
      "text/plain": [
       "                       created        ref_hash  implicit  \\\n",
       "46742  2019-04-21 19:17:47.657  40621409780134     False   \n",
       "398921 2019-04-18 21:11:50.326  41863526108385      True   \n",
       "249204 2019-04-18 21:11:51.966  41863526108385     False   \n",
       "112218 2019-04-18 21:17:11.946  41863526108385     False   \n",
       "112200 2019-04-18 21:17:16.531  41863526108385      True   \n",
       "\n",
       "                                  event_uuid   wifi  installed  is_replica  \n",
       "46742                                    NaN    NaN          1       False  \n",
       "398921  2f8be0cc-297e-4c9c-a097-1096aa5824b5  False          1       False  \n",
       "249204                                   NaN  False          1        True  \n",
       "112218                                   NaN  False          1       False  \n",
       "112200  f07fd6db-2f55-4539-b9ab-76f18ff4f51d  False          1        True  "
      ]
     },
     "execution_count": 164,
     "metadata": {},
     "output_type": "execute_result"
    }
   ],
   "source": [
    "installsCurated.head()"
   ]
  },
  {
   "cell_type": "code",
   "execution_count": 169,
   "metadata": {},
   "outputs": [
    {
     "data": {
      "text/plain": [
       "False    422872\n",
       "True      58639\n",
       "Name: is_replica, dtype: int64"
      ]
     },
     "execution_count": 169,
     "metadata": {},
     "output_type": "execute_result"
    }
   ],
   "source": [
    "installsCurated.is_replica.value_counts()"
   ]
  },
  {
   "cell_type": "code",
   "execution_count": 167,
   "metadata": {},
   "outputs": [],
   "source": [
    "installsCuratedSinRep = installsCurated[installsCurated.is_replica == False]"
   ]
  },
  {
   "cell_type": "code",
   "execution_count": 171,
   "metadata": {},
   "outputs": [
    {
     "data": {
      "text/plain": [
       "created       422872\n",
       "ref_hash      422872\n",
       "implicit      422872\n",
       "event_uuid     91021\n",
       "wifi          260780\n",
       "installed     422872\n",
       "is_replica    422872\n",
       "dtype: int64"
      ]
     },
     "execution_count": 171,
     "metadata": {},
     "output_type": "execute_result"
    }
   ],
   "source": [
    "installsCuratedSinRep.count()"
   ]
  },
  {
   "cell_type": "code",
   "execution_count": 168,
   "metadata": {},
   "outputs": [
    {
     "data": {
      "text/plain": [
       "True     208723\n",
       "False     52057\n",
       "Name: wifi, dtype: int64"
      ]
     },
     "execution_count": 168,
     "metadata": {},
     "output_type": "execute_result"
    }
   ],
   "source": [
    "installsCuratedSinRep.wifi.value_counts()"
   ]
  },
  {
   "cell_type": "code",
   "execution_count": 172,
   "metadata": {},
   "outputs": [
    {
     "data": {
      "text/plain": [
       "False    422872\n",
       "Name: is_replica, dtype: int64"
      ]
     },
     "execution_count": 172,
     "metadata": {},
     "output_type": "execute_result"
    }
   ],
   "source": [
    "installsCuratedSinRep.is_replica.value_counts()"
   ]
  },
  {
   "cell_type": "code",
   "execution_count": 173,
   "metadata": {},
   "outputs": [],
   "source": [
    "installsCuratedSinRep = installsCuratedSinRep.drop(columns = ['is_replica', 'implicit'])"
   ]
  },
  {
   "cell_type": "code",
   "execution_count": 175,
   "metadata": {},
   "outputs": [],
   "source": [
    "installsCuratedSinRep = installsCuratedSinRep.drop(columns = ['event_uuid'])"
   ]
  },
  {
   "cell_type": "code",
   "execution_count": 176,
   "metadata": {},
   "outputs": [
    {
     "data": {
      "text/html": [
       "<div>\n",
       "<style scoped>\n",
       "    .dataframe tbody tr th:only-of-type {\n",
       "        vertical-align: middle;\n",
       "    }\n",
       "\n",
       "    .dataframe tbody tr th {\n",
       "        vertical-align: top;\n",
       "    }\n",
       "\n",
       "    .dataframe thead th {\n",
       "        text-align: right;\n",
       "    }\n",
       "</style>\n",
       "<table border=\"1\" class=\"dataframe\">\n",
       "  <thead>\n",
       "    <tr style=\"text-align: right;\">\n",
       "      <th></th>\n",
       "      <th>created</th>\n",
       "      <th>ref_hash</th>\n",
       "      <th>wifi</th>\n",
       "      <th>installed</th>\n",
       "    </tr>\n",
       "  </thead>\n",
       "  <tbody>\n",
       "    <tr>\n",
       "      <th>46742</th>\n",
       "      <td>2019-04-21 19:17:47.657</td>\n",
       "      <td>40621409780134</td>\n",
       "      <td>NaN</td>\n",
       "      <td>1</td>\n",
       "    </tr>\n",
       "    <tr>\n",
       "      <th>398921</th>\n",
       "      <td>2019-04-18 21:11:50.326</td>\n",
       "      <td>41863526108385</td>\n",
       "      <td>False</td>\n",
       "      <td>1</td>\n",
       "    </tr>\n",
       "  </tbody>\n",
       "</table>\n",
       "</div>"
      ],
      "text/plain": [
       "                       created        ref_hash   wifi  installed\n",
       "46742  2019-04-21 19:17:47.657  40621409780134    NaN          1\n",
       "398921 2019-04-18 21:11:50.326  41863526108385  False          1"
      ]
     },
     "execution_count": 176,
     "metadata": {},
     "output_type": "execute_result"
    }
   ],
   "source": [
    "installsCuratedSinRep.head(2)"
   ]
  },
  {
   "cell_type": "code",
   "execution_count": 184,
   "metadata": {},
   "outputs": [],
   "source": [
    "installsCuratedSinRep.to_csv('installsCuratedSinRep.csv', encoding='utf-8', index=False)"
   ]
  },
  {
   "cell_type": "markdown",
   "metadata": {},
   "source": [
    "### Con este nuevo set curado, vamos a separar en ventanas de tres dias y despues contar la cantidad de installs por device_id, y el promedio del uso del wifi para el install. Nos quedaremos despues con una fila por device_id"
   ]
  },
  {
   "cell_type": "code",
   "execution_count": 177,
   "metadata": {},
   "outputs": [],
   "source": [
    "installsVentanaUno = installsCuratedSinRep.loc[(installsCuratedSinRep['created'] < \"2019-04-21\")]\n",
    "installsVentanaUno = installsVentanaUno.loc[(installsCuratedSinRep['created'] > \"2019-04-18\")]"
   ]
  },
  {
   "cell_type": "code",
   "execution_count": 178,
   "metadata": {},
   "outputs": [],
   "source": [
    "installsVentanaDos = installsCuratedSinRep.loc[(installsCuratedSinRep['created'] < \"2019-04-22\")]\n",
    "installsVentanaDos = installsVentanaDos.loc[(installsCuratedSinRep['created'] > \"2019-04-19\")]"
   ]
  },
  {
   "cell_type": "code",
   "execution_count": 179,
   "metadata": {},
   "outputs": [],
   "source": [
    "installsVentanaTres = installsCuratedSinRep.loc[(installsCuratedSinRep['created'] < \"2019-04-23\")]\n",
    "installsVentanaTres = installsVentanaTres.loc[(installsCuratedSinRep['created'] > \"2019-04-20\")]"
   ]
  },
  {
   "cell_type": "code",
   "execution_count": 180,
   "metadata": {},
   "outputs": [],
   "source": [
    "installsVentanaCuatro = installsCuratedSinRep.loc[(installsCuratedSinRep['created'] < \"2019-04-24\")]\n",
    "installsVentanaCuatro = installsVentanaCuatro.loc[(installsCuratedSinRep['created'] > \"2019-04-21\")]"
   ]
  },
  {
   "cell_type": "code",
   "execution_count": 181,
   "metadata": {},
   "outputs": [],
   "source": [
    "installsVentanaCinco = installsCuratedSinRep.loc[(installsCuratedSinRep['created'] < \"2019-04-25\")]\n",
    "installsVentanaCinco = installsVentanaCinco.loc[(installsCuratedSinRep['created'] > \"2019-04-22\")]"
   ]
  },
  {
   "cell_type": "code",
   "execution_count": 182,
   "metadata": {},
   "outputs": [],
   "source": [
    "installsVentanaSeis = installsCuratedSinRep.loc[(installsCuratedSinRep['created'] < \"2019-04-26\")]\n",
    "installsVentanaSeis = installsVentanaSeis.loc[(installsCuratedSinRep['created'] > \"2019-04-23\")]"
   ]
  },
  {
   "cell_type": "code",
   "execution_count": 183,
   "metadata": {},
   "outputs": [],
   "source": [
    "installsVentanaSiete = installsCuratedSinRep.loc[(installsCuratedSinRep['created'] < \"2019-04-27\")]\n",
    "installsVentanaSiete = installsVentanaSiete.loc[(installsCuratedSinRep['created'] > \"2019-04-24\")]"
   ]
  },
  {
   "cell_type": "code",
   "execution_count": 185,
   "metadata": {},
   "outputs": [
    {
     "data": {
      "text/html": [
       "<div>\n",
       "<style scoped>\n",
       "    .dataframe tbody tr th:only-of-type {\n",
       "        vertical-align: middle;\n",
       "    }\n",
       "\n",
       "    .dataframe tbody tr th {\n",
       "        vertical-align: top;\n",
       "    }\n",
       "\n",
       "    .dataframe thead th {\n",
       "        text-align: right;\n",
       "    }\n",
       "</style>\n",
       "<table border=\"1\" class=\"dataframe\">\n",
       "  <thead>\n",
       "    <tr style=\"text-align: right;\">\n",
       "      <th></th>\n",
       "      <th>created</th>\n",
       "      <th>ref_hash</th>\n",
       "      <th>wifi</th>\n",
       "      <th>installed</th>\n",
       "    </tr>\n",
       "  </thead>\n",
       "  <tbody>\n",
       "    <tr>\n",
       "      <th>205516</th>\n",
       "      <td>2019-04-24 18:30:50.199</td>\n",
       "      <td>90072729247980</td>\n",
       "      <td>NaN</td>\n",
       "      <td>1</td>\n",
       "    </tr>\n",
       "    <tr>\n",
       "      <th>219372</th>\n",
       "      <td>2019-04-26 22:23:41.836</td>\n",
       "      <td>342614246084071</td>\n",
       "      <td>NaN</td>\n",
       "      <td>1</td>\n",
       "    </tr>\n",
       "    <tr>\n",
       "      <th>288979</th>\n",
       "      <td>2019-04-26 21:40:11.227</td>\n",
       "      <td>347785260789835</td>\n",
       "      <td>NaN</td>\n",
       "      <td>1</td>\n",
       "    </tr>\n",
       "    <tr>\n",
       "      <th>228155</th>\n",
       "      <td>2019-04-25 15:09:11.886</td>\n",
       "      <td>416301579449694</td>\n",
       "      <td>NaN</td>\n",
       "      <td>1</td>\n",
       "    </tr>\n",
       "    <tr>\n",
       "      <th>408449</th>\n",
       "      <td>2019-04-25 17:03:11.040</td>\n",
       "      <td>420449720220692</td>\n",
       "      <td>NaN</td>\n",
       "      <td>1</td>\n",
       "    </tr>\n",
       "  </tbody>\n",
       "</table>\n",
       "</div>"
      ],
      "text/plain": [
       "                       created         ref_hash wifi  installed\n",
       "205516 2019-04-24 18:30:50.199   90072729247980  NaN          1\n",
       "219372 2019-04-26 22:23:41.836  342614246084071  NaN          1\n",
       "288979 2019-04-26 21:40:11.227  347785260789835  NaN          1\n",
       "228155 2019-04-25 15:09:11.886  416301579449694  NaN          1\n",
       "408449 2019-04-25 17:03:11.040  420449720220692  NaN          1"
      ]
     },
     "execution_count": 185,
     "metadata": {},
     "output_type": "execute_result"
    }
   ],
   "source": [
    "installsVentanaSiete.head(5)"
   ]
  },
  {
   "cell_type": "code",
   "execution_count": 186,
   "metadata": {},
   "outputs": [],
   "source": [
    "installsVentanaUno['fechaInicial'] = pd.to_datetime(\"2019-04-18 00:00:00\")\n",
    "installsVentanaDos['fechaInicial'] = pd.to_datetime(\"2019-04-19 00:00:00\")\n",
    "installsVentanaTres['fechaInicial'] = pd.to_datetime(\"2019-04-20 00:00:00\")\n",
    "installsVentanaCuatro['fechaInicial'] = pd.to_datetime(\"2019-04-21 00:00:00\")\n",
    "installsVentanaCinco['fechaInicial'] = pd.to_datetime(\"2019-04-22 00:00:00\")\n",
    "installsVentanaSeis['fechaInicial'] = pd.to_datetime(\"2019-04-23 00:00:00\")\n",
    "installsVentanaSiete['fechaInicial'] = pd.to_datetime(\"2019-04-24 00:00:00\")"
   ]
  },
  {
   "cell_type": "code",
   "execution_count": 187,
   "metadata": {},
   "outputs": [],
   "source": [
    "installsVentanaUno[\"created\"] = installsVentanaUno[\"created\"] - installsVentanaUno[\"fechaInicial\"]\n",
    "installsVentanaDos[\"created\"] = installsVentanaDos[\"created\"] - installsVentanaDos[\"fechaInicial\"]\n",
    "installsVentanaTres[\"created\"] = installsVentanaTres[\"created\"] - installsVentanaTres[\"fechaInicial\"]\n",
    "installsVentanaCuatro[\"created\"] = installsVentanaCuatro[\"created\"] - installsVentanaCuatro[\"fechaInicial\"]\n",
    "installsVentanaCinco[\"created\"] = installsVentanaCinco[\"created\"] - installsVentanaCinco[\"fechaInicial\"]\n",
    "installsVentanaSeis[\"created\"] = installsVentanaSeis[\"created\"] - installsVentanaSeis[\"fechaInicial\"]\n",
    "installsVentanaSiete[\"created\"] = installsVentanaSiete[\"created\"] - installsVentanaSeis[\"fechaInicial\"]"
   ]
  },
  {
   "cell_type": "code",
   "execution_count": 188,
   "metadata": {},
   "outputs": [
    {
     "data": {
      "text/html": [
       "<div>\n",
       "<style scoped>\n",
       "    .dataframe tbody tr th:only-of-type {\n",
       "        vertical-align: middle;\n",
       "    }\n",
       "\n",
       "    .dataframe tbody tr th {\n",
       "        vertical-align: top;\n",
       "    }\n",
       "\n",
       "    .dataframe thead th {\n",
       "        text-align: right;\n",
       "    }\n",
       "</style>\n",
       "<table border=\"1\" class=\"dataframe\">\n",
       "  <thead>\n",
       "    <tr style=\"text-align: right;\">\n",
       "      <th></th>\n",
       "      <th>created</th>\n",
       "      <th>ref_hash</th>\n",
       "      <th>wifi</th>\n",
       "      <th>installed</th>\n",
       "      <th>fechaInicial</th>\n",
       "    </tr>\n",
       "  </thead>\n",
       "  <tbody>\n",
       "    <tr>\n",
       "      <th>398921</th>\n",
       "      <td>0 days 21:11:50.326000</td>\n",
       "      <td>41863526108385</td>\n",
       "      <td>False</td>\n",
       "      <td>1</td>\n",
       "      <td>2019-04-18</td>\n",
       "    </tr>\n",
       "    <tr>\n",
       "      <th>112218</th>\n",
       "      <td>0 days 21:17:11.946000</td>\n",
       "      <td>41863526108385</td>\n",
       "      <td>False</td>\n",
       "      <td>1</td>\n",
       "      <td>2019-04-18</td>\n",
       "    </tr>\n",
       "    <tr>\n",
       "      <th>157023</th>\n",
       "      <td>2 days 05:36:20.258000</td>\n",
       "      <td>135153013040192</td>\n",
       "      <td>NaN</td>\n",
       "      <td>1</td>\n",
       "      <td>2019-04-18</td>\n",
       "    </tr>\n",
       "    <tr>\n",
       "      <th>366926</th>\n",
       "      <td>0 days 16:40:42.839000</td>\n",
       "      <td>186034136943920</td>\n",
       "      <td>NaN</td>\n",
       "      <td>1</td>\n",
       "      <td>2019-04-18</td>\n",
       "    </tr>\n",
       "    <tr>\n",
       "      <th>424433</th>\n",
       "      <td>1 days 02:42:36.508000</td>\n",
       "      <td>365882020742330</td>\n",
       "      <td>False</td>\n",
       "      <td>1</td>\n",
       "      <td>2019-04-18</td>\n",
       "    </tr>\n",
       "  </tbody>\n",
       "</table>\n",
       "</div>"
      ],
      "text/plain": [
       "                      created         ref_hash   wifi  installed fechaInicial\n",
       "398921 0 days 21:11:50.326000   41863526108385  False          1   2019-04-18\n",
       "112218 0 days 21:17:11.946000   41863526108385  False          1   2019-04-18\n",
       "157023 2 days 05:36:20.258000  135153013040192    NaN          1   2019-04-18\n",
       "366926 0 days 16:40:42.839000  186034136943920    NaN          1   2019-04-18\n",
       "424433 1 days 02:42:36.508000  365882020742330  False          1   2019-04-18"
      ]
     },
     "execution_count": 188,
     "metadata": {},
     "output_type": "execute_result"
    }
   ],
   "source": [
    "installsVentanaUno.head()"
   ]
  },
  {
   "cell_type": "code",
   "execution_count": 209,
   "metadata": {},
   "outputs": [],
   "source": [
    "installsVentanaUno.to_csv('installsVentanaUno.csv', encoding = 'utf_8', index = False)"
   ]
  },
  {
   "cell_type": "code",
   "execution_count": 215,
   "metadata": {},
   "outputs": [],
   "source": [
    "cantidadInstallsPorIdVentanaUno = installsVentanaUno[['ref_hash', 'installed']].groupby('ref_hash').sum()\n",
    "cantidadInstallsPorIdVentanaDos = installsVentanaDos[['ref_hash', 'installed']].groupby('ref_hash').sum()\n",
    "cantidadInstallsPorIdVentanaTres = installsVentanaTres[['ref_hash', 'installed']].groupby('ref_hash').sum()\n",
    "cantidadInstallsPorIdVentanaCuatro = installsVentanaCuatro[['ref_hash', 'installed']].groupby('ref_hash').sum()\n",
    "cantidadInstallsPorIdVentanaCinco = installsVentanaCinco[['ref_hash', 'installed']].groupby('ref_hash').sum()\n",
    "cantidadInstallsPorIdVentanaSeis = installsVentanaSeis[['ref_hash', 'installed']].groupby('ref_hash').sum()\n",
    "cantidadInstallsPorIdVentanaSiete = installsVentanaSiete[['ref_hash', 'installed']].groupby('ref_hash').sum()"
   ]
  },
  {
   "cell_type": "code",
   "execution_count": 217,
   "metadata": {},
   "outputs": [],
   "source": [
    "cantidadInstallsPorIdVentanaUno = cantidadInstallsPorIdVentanaUno.stack().reset_index()\n",
    "cantidadInstallsPorIdVentanaDos = cantidadInstallsPorIdVentanaDos.stack().reset_index()\n",
    "cantidadInstallsPorIdVentanaTres = cantidadInstallsPorIdVentanaTres.stack().reset_index()\n",
    "cantidadInstallsPorIdVentanaCuatro = cantidadInstallsPorIdVentanaCuatro.stack().reset_index()\n",
    "cantidadInstallsPorIdVentanaCinco = cantidadInstallsPorIdVentanaCinco.stack().reset_index()\n",
    "cantidadInstallsPorIdVentanaSeis = cantidadInstallsPorIdVentanaSeis.stack().reset_index()\n",
    "cantidadInstallsPorIdVentanaSiete = cantidadInstallsPorIdVentanaSiete.stack().reset_index()"
   ]
  },
  {
   "cell_type": "code",
   "execution_count": 218,
   "metadata": {},
   "outputs": [
    {
     "data": {
      "text/html": [
       "<div>\n",
       "<style scoped>\n",
       "    .dataframe tbody tr th:only-of-type {\n",
       "        vertical-align: middle;\n",
       "    }\n",
       "\n",
       "    .dataframe tbody tr th {\n",
       "        vertical-align: top;\n",
       "    }\n",
       "\n",
       "    .dataframe thead th {\n",
       "        text-align: right;\n",
       "    }\n",
       "</style>\n",
       "<table border=\"1\" class=\"dataframe\">\n",
       "  <thead>\n",
       "    <tr style=\"text-align: right;\">\n",
       "      <th></th>\n",
       "      <th>ref_hash</th>\n",
       "      <th>level_1</th>\n",
       "      <th>0</th>\n",
       "    </tr>\n",
       "  </thead>\n",
       "  <tbody>\n",
       "    <tr>\n",
       "      <th>0</th>\n",
       "      <td>41863526108385</td>\n",
       "      <td>installed</td>\n",
       "      <td>2</td>\n",
       "    </tr>\n",
       "    <tr>\n",
       "      <th>1</th>\n",
       "      <td>135153013040192</td>\n",
       "      <td>installed</td>\n",
       "      <td>1</td>\n",
       "    </tr>\n",
       "  </tbody>\n",
       "</table>\n",
       "</div>"
      ],
      "text/plain": [
       "          ref_hash    level_1  0\n",
       "0   41863526108385  installed  2\n",
       "1  135153013040192  installed  1"
      ]
     },
     "execution_count": 218,
     "metadata": {},
     "output_type": "execute_result"
    }
   ],
   "source": [
    "cantidadInstallsPorIdVentanaUno.head(2)"
   ]
  },
  {
   "cell_type": "code",
   "execution_count": 219,
   "metadata": {},
   "outputs": [],
   "source": [
    "cantidadInstallsPorIdVentanaUno = cantidadInstallsPorIdVentanaUno.drop(columns = ['level_1'])\n",
    "cantidadInstallsPorIdVentanaDos = cantidadInstallsPorIdVentanaDos.drop(columns = ['level_1'])\n",
    "cantidadInstallsPorIdVentanaTres = cantidadInstallsPorIdVentanaTres.drop(columns = ['level_1'])\n",
    "cantidadInstallsPorIdVentanaCuatro = cantidadInstallsPorIdVentanaCuatro.drop(columns = ['level_1'])\n",
    "cantidadInstallsPorIdVentanaCinco = cantidadInstallsPorIdVentanaCinco.drop(columns = ['level_1'])\n",
    "cantidadInstallsPorIdVentanaSeis = cantidadInstallsPorIdVentanaSeis.drop(columns = ['level_1'])\n",
    "cantidadInstallsPorIdVentanaSiete = cantidadInstallsPorIdVentanaSiete.drop(columns = ['level_1'])"
   ]
  },
  {
   "cell_type": "code",
   "execution_count": 220,
   "metadata": {},
   "outputs": [],
   "source": [
    "cantidadInstallsPorIdVentanaUno.columns = ['ref_hash', 'cantidad_installs']\n",
    "cantidadInstallsPorIdVentanaDos.columns = ['ref_hash', 'cantidad_installs']\n",
    "cantidadInstallsPorIdVentanaTres.columns = ['ref_hash', 'cantidad_installs']\n",
    "cantidadInstallsPorIdVentanaCuatro.columns = ['ref_hash', 'cantidad_installs']\n",
    "cantidadInstallsPorIdVentanaCinco.columns = ['ref_hash', 'cantidad_installs']\n",
    "cantidadInstallsPorIdVentanaSeis.columns = ['ref_hash', 'cantidad_installs']\n",
    "cantidadInstallsPorIdVentanaSiete.columns = ['ref_hash', 'cantidad_installs']"
   ]
  },
  {
   "cell_type": "code",
   "execution_count": 221,
   "metadata": {},
   "outputs": [
    {
     "data": {
      "text/html": [
       "<div>\n",
       "<style scoped>\n",
       "    .dataframe tbody tr th:only-of-type {\n",
       "        vertical-align: middle;\n",
       "    }\n",
       "\n",
       "    .dataframe tbody tr th {\n",
       "        vertical-align: top;\n",
       "    }\n",
       "\n",
       "    .dataframe thead th {\n",
       "        text-align: right;\n",
       "    }\n",
       "</style>\n",
       "<table border=\"1\" class=\"dataframe\">\n",
       "  <thead>\n",
       "    <tr style=\"text-align: right;\">\n",
       "      <th></th>\n",
       "      <th>ref_hash</th>\n",
       "      <th>cantidad_installs</th>\n",
       "    </tr>\n",
       "  </thead>\n",
       "  <tbody>\n",
       "    <tr>\n",
       "      <th>0</th>\n",
       "      <td>90072729247980</td>\n",
       "      <td>1</td>\n",
       "    </tr>\n",
       "    <tr>\n",
       "      <th>1</th>\n",
       "      <td>342614246084071</td>\n",
       "      <td>1</td>\n",
       "    </tr>\n",
       "  </tbody>\n",
       "</table>\n",
       "</div>"
      ],
      "text/plain": [
       "          ref_hash  cantidad_installs\n",
       "0   90072729247980                  1\n",
       "1  342614246084071                  1"
      ]
     },
     "execution_count": 221,
     "metadata": {},
     "output_type": "execute_result"
    }
   ],
   "source": [
    "cantidadInstallsPorIdVentanaSiete.head(2)"
   ]
  },
  {
   "cell_type": "code",
   "execution_count": 224,
   "metadata": {},
   "outputs": [],
   "source": [
    "installsVentanaUno['wifi2'] = np.nan"
   ]
  },
  {
   "cell_type": "code",
   "execution_count": 225,
   "metadata": {},
   "outputs": [],
   "source": [
    "installsVentanaDos['wifi2'] = np.nan\n",
    "installsVentanaTres['wifi2'] = np.nan\n",
    "installsVentanaCuatro['wifi2'] = np.nan\n",
    "installsVentanaCinco['wifi2'] = np.nan\n",
    "installsVentanaSeis['wifi2'] = np.nan\n",
    "installsVentanaSiete['wifi2'] = np.nan"
   ]
  },
  {
   "cell_type": "code",
   "execution_count": 226,
   "metadata": {},
   "outputs": [],
   "source": [
    "installsVentanaUno.loc[installsVentanaUno.wifi == True, 'wifi2'] = 1\n",
    "installsVentanaUno.loc[installsVentanaUno.wifi == False, 'wifi2'] = 0"
   ]
  },
  {
   "cell_type": "code",
   "execution_count": 229,
   "metadata": {},
   "outputs": [],
   "source": [
    "installsVentanaDos.loc[installsVentanaDos.wifi == True, 'wifi2'] = 1\n",
    "installsVentanaDos.loc[installsVentanaDos.wifi == False, 'wifi2'] = 0\n",
    "installsVentanaTres.loc[installsVentanaTres.wifi == True, 'wifi2'] = 1\n",
    "installsVentanaTres.loc[installsVentanaTres.wifi == False, 'wifi2'] = 0\n",
    "installsVentanaCuatro.loc[installsVentanaCuatro.wifi == True, 'wifi2'] = 1\n",
    "installsVentanaCuatro.loc[installsVentanaCuatro.wifi == False, 'wifi2'] = 0\n",
    "installsVentanaCinco.loc[installsVentanaCinco.wifi == True, 'wifi2'] = 1\n",
    "installsVentanaCinco.loc[installsVentanaCinco.wifi == False, 'wifi2'] = 0\n",
    "installsVentanaSeis.loc[installsVentanaSeis.wifi == True, 'wifi2'] = 1\n",
    "installsVentanaSeis.loc[installsVentanaSeis.wifi == False, 'wifi2'] = 0\n",
    "installsVentanaSiete.loc[installsVentanaSiete.wifi == True, 'wifi2'] = 1\n",
    "installsVentanaSiete.loc[installsVentanaSiete.wifi == False, 'wifi2'] = 0"
   ]
  },
  {
   "cell_type": "code",
   "execution_count": 227,
   "metadata": {},
   "outputs": [],
   "source": [
    "installsWifiPromedioPorIdVentanaUno = installsVentanaUno[['ref_hash', 'wifi2']].groupby('ref_hash').mean()"
   ]
  },
  {
   "cell_type": "code",
   "execution_count": 230,
   "metadata": {},
   "outputs": [],
   "source": [
    "installsWifiPromedioPorIdVentanaDos = installsVentanaDos[['ref_hash', 'wifi2']].groupby('ref_hash').mean()\n",
    "installsWifiPromedioPorIdVentanaTres = installsVentanaTres[['ref_hash', 'wifi2']].groupby('ref_hash').mean()\n",
    "installsWifiPromedioPorIdVentanaCuatro = installsVentanaCuatro[['ref_hash', 'wifi2']].groupby('ref_hash').mean()\n",
    "installsWifiPromedioPorIdVentanaCinco = installsVentanaCinco[['ref_hash', 'wifi2']].groupby('ref_hash').mean()\n",
    "installsWifiPromedioPorIdVentanaSeis = installsVentanaSeis[['ref_hash', 'wifi2']].groupby('ref_hash').mean()\n",
    "installsWifiPromedioPorIdVentanaSiete = installsVentanaSiete[['ref_hash', 'wifi2']].groupby('ref_hash').mean()"
   ]
  },
  {
   "cell_type": "code",
   "execution_count": 228,
   "metadata": {},
   "outputs": [
    {
     "data": {
      "text/html": [
       "<div>\n",
       "<style scoped>\n",
       "    .dataframe tbody tr th:only-of-type {\n",
       "        vertical-align: middle;\n",
       "    }\n",
       "\n",
       "    .dataframe tbody tr th {\n",
       "        vertical-align: top;\n",
       "    }\n",
       "\n",
       "    .dataframe thead th {\n",
       "        text-align: right;\n",
       "    }\n",
       "</style>\n",
       "<table border=\"1\" class=\"dataframe\">\n",
       "  <thead>\n",
       "    <tr style=\"text-align: right;\">\n",
       "      <th></th>\n",
       "      <th>wifi2</th>\n",
       "    </tr>\n",
       "    <tr>\n",
       "      <th>ref_hash</th>\n",
       "      <th></th>\n",
       "    </tr>\n",
       "  </thead>\n",
       "  <tbody>\n",
       "    <tr>\n",
       "      <th>41863526108385</th>\n",
       "      <td>0.0</td>\n",
       "    </tr>\n",
       "    <tr>\n",
       "      <th>135153013040192</th>\n",
       "      <td>NaN</td>\n",
       "    </tr>\n",
       "  </tbody>\n",
       "</table>\n",
       "</div>"
      ],
      "text/plain": [
       "                 wifi2\n",
       "ref_hash              \n",
       "41863526108385     0.0\n",
       "135153013040192    NaN"
      ]
     },
     "execution_count": 228,
     "metadata": {},
     "output_type": "execute_result"
    }
   ],
   "source": [
    "installsWifiPromedioPorIdVentanaUno.head(2)"
   ]
  },
  {
   "cell_type": "code",
   "execution_count": 231,
   "metadata": {},
   "outputs": [],
   "source": [
    "installsWifiPromedioPorIdVentanaUno = installsWifiPromedioPorIdVentanaUno.stack().reset_index()\n",
    "installsWifiPromedioPorIdVentanaDos = installsWifiPromedioPorIdVentanaDos.stack().reset_index()\n",
    "installsWifiPromedioPorIdVentanaTres = installsWifiPromedioPorIdVentanaTres.stack().reset_index()\n",
    "installsWifiPromedioPorIdVentanaCuatro = installsWifiPromedioPorIdVentanaCuatro.stack().reset_index()\n",
    "installsWifiPromedioPorIdVentanaCinco = installsWifiPromedioPorIdVentanaCinco.stack().reset_index()\n",
    "installsWifiPromedioPorIdVentanaSeis = installsWifiPromedioPorIdVentanaSeis.stack().reset_index()\n",
    "installsWifiPromedioPorIdVentanaSiete = installsWifiPromedioPorIdVentanaSiete.stack().reset_index()"
   ]
  },
  {
   "cell_type": "code",
   "execution_count": 232,
   "metadata": {},
   "outputs": [],
   "source": [
    "installsWifiPromedioPorIdVentanaUno = installsWifiPromedioPorIdVentanaUno.drop(columns = ['level_1'])\n",
    "installsWifiPromedioPorIdVentanaDos = installsWifiPromedioPorIdVentanaDos.drop(columns = ['level_1'])\n",
    "installsWifiPromedioPorIdVentanaTres = installsWifiPromedioPorIdVentanaTres.drop(columns = ['level_1'])\n",
    "installsWifiPromedioPorIdVentanaCuatro = installsWifiPromedioPorIdVentanaCuatro.drop(columns = ['level_1'])\n",
    "installsWifiPromedioPorIdVentanaCinco = installsWifiPromedioPorIdVentanaCinco.drop(columns = ['level_1'])\n",
    "installsWifiPromedioPorIdVentanaSeis = installsWifiPromedioPorIdVentanaSeis.drop(columns = ['level_1'])\n",
    "installsWifiPromedioPorIdVentanaSiete = installsWifiPromedioPorIdVentanaSiete.drop(columns = ['level_1'])"
   ]
  },
  {
   "cell_type": "code",
   "execution_count": 233,
   "metadata": {},
   "outputs": [],
   "source": [
    "installsWifiPromedioPorIdVentanaUno.columns = ['ref_hash', 'wifi_promedio_inst']\n",
    "installsWifiPromedioPorIdVentanaDos.columns = ['ref_hash', 'wifi_promedio_inst']\n",
    "installsWifiPromedioPorIdVentanaTres.columns = ['ref_hash', 'wifi_promedio_inst']\n",
    "installsWifiPromedioPorIdVentanaCuatro.columns = ['ref_hash', 'wifi_promedio_inst']\n",
    "installsWifiPromedioPorIdVentanaCinco.columns = ['ref_hash', 'wifi_promedio_inst']\n",
    "installsWifiPromedioPorIdVentanaSeis.columns = ['ref_hash', 'wifi_promedio_inst']\n",
    "installsWifiPromedioPorIdVentanaSiete.columns = ['ref_hash', 'wifi_promedio_inst']"
   ]
  },
  {
   "cell_type": "code",
   "execution_count": 234,
   "metadata": {},
   "outputs": [
    {
     "data": {
      "text/html": [
       "<div>\n",
       "<style scoped>\n",
       "    .dataframe tbody tr th:only-of-type {\n",
       "        vertical-align: middle;\n",
       "    }\n",
       "\n",
       "    .dataframe tbody tr th {\n",
       "        vertical-align: top;\n",
       "    }\n",
       "\n",
       "    .dataframe thead th {\n",
       "        text-align: right;\n",
       "    }\n",
       "</style>\n",
       "<table border=\"1\" class=\"dataframe\">\n",
       "  <thead>\n",
       "    <tr style=\"text-align: right;\">\n",
       "      <th></th>\n",
       "      <th>ref_hash</th>\n",
       "      <th>wifi_promedio_inst</th>\n",
       "    </tr>\n",
       "  </thead>\n",
       "  <tbody>\n",
       "    <tr>\n",
       "      <th>0</th>\n",
       "      <td>41863526108385</td>\n",
       "      <td>0.0</td>\n",
       "    </tr>\n",
       "    <tr>\n",
       "      <th>1</th>\n",
       "      <td>365882020742330</td>\n",
       "      <td>0.0</td>\n",
       "    </tr>\n",
       "    <tr>\n",
       "      <th>2</th>\n",
       "      <td>519199987760489</td>\n",
       "      <td>1.0</td>\n",
       "    </tr>\n",
       "  </tbody>\n",
       "</table>\n",
       "</div>"
      ],
      "text/plain": [
       "          ref_hash  wifi_promedio_inst\n",
       "0   41863526108385                 0.0\n",
       "1  365882020742330                 0.0\n",
       "2  519199987760489                 1.0"
      ]
     },
     "execution_count": 234,
     "metadata": {},
     "output_type": "execute_result"
    }
   ],
   "source": [
    "installsWifiPromedioPorIdVentanaUno.head(3)"
   ]
  },
  {
   "cell_type": "code",
   "execution_count": 237,
   "metadata": {},
   "outputs": [],
   "source": [
    "installsVentanaUno = pd.merge(installsVentanaUno, installsWifiPromedioPorIdVentanaUno, on = 'ref_hash', how = 'left')\n",
    "installsVentanaDos = pd.merge(installsVentanaDos, installsWifiPromedioPorIdVentanaDos, on = 'ref_hash', how = 'left')\n",
    "installsVentanaTres = pd.merge(installsVentanaTres, installsWifiPromedioPorIdVentanaTres, on = 'ref_hash', how = 'left')\n",
    "installsVentanaCuatro = pd.merge(installsVentanaCuatro, installsWifiPromedioPorIdVentanaCuatro, on = 'ref_hash', how = 'left')\n",
    "installsVentanaCinco = pd.merge(installsVentanaCinco, installsWifiPromedioPorIdVentanaCinco, on = 'ref_hash', how = 'left')\n",
    "installsVentanaSeis = pd.merge(installsVentanaSeis, installsWifiPromedioPorIdVentanaSeis, on = 'ref_hash', how = 'left')\n",
    "installsVentanaSiete = pd.merge(installsVentanaSiete, installsWifiPromedioPorIdVentanaSiete, on = 'ref_hash', how = 'left')\n"
   ]
  },
  {
   "cell_type": "code",
   "execution_count": 240,
   "metadata": {},
   "outputs": [],
   "source": [
    "installsVentanaUno = pd.merge(installsVentanaUno, cantidadInstallsPorIdVentanaUno, on = 'ref_hash', how = 'left')\n",
    "installsVentanaDos = pd.merge(installsVentanaDos, cantidadInstallsPorIdVentanaDos, on = 'ref_hash', how = 'left')\n",
    "installsVentanaTres = pd.merge(installsVentanaTres, cantidadInstallsPorIdVentanaTres, on = 'ref_hash', how = 'left')\n",
    "installsVentanaCuatro = pd.merge(installsVentanaCuatro, cantidadInstallsPorIdVentanaCuatro, on = 'ref_hash', how = 'left')\n",
    "installsVentanaCinco = pd.merge(installsVentanaCinco, cantidadInstallsPorIdVentanaCinco, on = 'ref_hash', how = 'left')\n",
    "installsVentanaSeis = pd.merge(installsVentanaSeis, cantidadInstallsPorIdVentanaSeis, on = 'ref_hash', how = 'left')\n",
    "installsVentanaSiete = pd.merge(installsVentanaSiete, cantidadInstallsPorIdVentanaSiete, on = 'ref_hash', how = 'left')\n"
   ]
  },
  {
   "cell_type": "code",
   "execution_count": 242,
   "metadata": {},
   "outputs": [
    {
     "data": {
      "text/html": [
       "<div>\n",
       "<style scoped>\n",
       "    .dataframe tbody tr th:only-of-type {\n",
       "        vertical-align: middle;\n",
       "    }\n",
       "\n",
       "    .dataframe tbody tr th {\n",
       "        vertical-align: top;\n",
       "    }\n",
       "\n",
       "    .dataframe thead th {\n",
       "        text-align: right;\n",
       "    }\n",
       "</style>\n",
       "<table border=\"1\" class=\"dataframe\">\n",
       "  <thead>\n",
       "    <tr style=\"text-align: right;\">\n",
       "      <th></th>\n",
       "      <th>created</th>\n",
       "      <th>ref_hash</th>\n",
       "      <th>wifi</th>\n",
       "      <th>installed</th>\n",
       "      <th>fechaInicial</th>\n",
       "      <th>wifi2</th>\n",
       "      <th>wifi_promedio_inst</th>\n",
       "      <th>cantidad_installs</th>\n",
       "    </tr>\n",
       "  </thead>\n",
       "  <tbody>\n",
       "    <tr>\n",
       "      <th>0</th>\n",
       "      <td>21:11:50.326000</td>\n",
       "      <td>41863526108385</td>\n",
       "      <td>False</td>\n",
       "      <td>1</td>\n",
       "      <td>2019-04-18</td>\n",
       "      <td>0.0</td>\n",
       "      <td>0.0</td>\n",
       "      <td>2</td>\n",
       "    </tr>\n",
       "    <tr>\n",
       "      <th>1</th>\n",
       "      <td>21:17:11.946000</td>\n",
       "      <td>41863526108385</td>\n",
       "      <td>False</td>\n",
       "      <td>1</td>\n",
       "      <td>2019-04-18</td>\n",
       "      <td>0.0</td>\n",
       "      <td>0.0</td>\n",
       "      <td>2</td>\n",
       "    </tr>\n",
       "  </tbody>\n",
       "</table>\n",
       "</div>"
      ],
      "text/plain": [
       "          created        ref_hash   wifi  installed fechaInicial  wifi2  \\\n",
       "0 21:11:50.326000  41863526108385  False          1   2019-04-18    0.0   \n",
       "1 21:17:11.946000  41863526108385  False          1   2019-04-18    0.0   \n",
       "\n",
       "   wifi_promedio_inst  cantidad_installs  \n",
       "0                 0.0                  2  \n",
       "1                 0.0                  2  "
      ]
     },
     "execution_count": 242,
     "metadata": {},
     "output_type": "execute_result"
    }
   ],
   "source": [
    "installsVentanaUno.head(2)"
   ]
  },
  {
   "cell_type": "code",
   "execution_count": 243,
   "metadata": {},
   "outputs": [],
   "source": [
    "installsIdUnicoVentanaUno = installsVentanaUno[['created', 'ref_hash', 'wifi_promedio_inst', 'cantidad_installs']]\n",
    "installsIdUnicoVentanaDos = installsVentanaDos[['created', 'ref_hash', 'wifi_promedio_inst', 'cantidad_installs']]\n",
    "installsIdUnicoVentanaTres = installsVentanaTres[['created', 'ref_hash', 'wifi_promedio_inst', 'cantidad_installs']]\n",
    "installsIdUnicoVentanaCuatro = installsVentanaCuatro[['created', 'ref_hash', 'wifi_promedio_inst', 'cantidad_installs']]\n",
    "installsIdUnicoVentanaCinco = installsVentanaCinco[['created', 'ref_hash', 'wifi_promedio_inst', 'cantidad_installs']]\n",
    "installsIdUnicoVentanaSeis = installsVentanaSeis[['created', 'ref_hash', 'wifi_promedio_inst', 'cantidad_installs']]\n",
    "installsIdUnicoVentanaSiete = installsVentanaSiete[['created', 'ref_hash', 'wifi_promedio_inst', 'cantidad_installs']]"
   ]
  },
  {
   "cell_type": "code",
   "execution_count": 245,
   "metadata": {},
   "outputs": [],
   "source": [
    "installsIdUnicoVentanaUno = installsIdUnicoVentanaUno.drop_duplicates(subset = 'ref_hash')\n",
    "installsIdUnicoVentanaDos = installsIdUnicoVentanaDos.drop_duplicates(subset = 'ref_hash')\n",
    "installsIdUnicoVentanaTres = installsIdUnicoVentanaTres.drop_duplicates(subset = 'ref_hash')\n",
    "installsIdUnicoVentanaCuatro = installsIdUnicoVentanaCuatro.drop_duplicates(subset = 'ref_hash')\n",
    "installsIdUnicoVentanaCinco = installsIdUnicoVentanaCinco.drop_duplicates(subset = 'ref_hash')\n",
    "installsIdUnicoVentanaSeis = installsIdUnicoVentanaSeis.drop_duplicates(subset = 'ref_hash')\n",
    "installsIdUnicoVentanaSiete = installsIdUnicoVentanaSiete.drop_duplicates(subset = 'ref_hash')"
   ]
  },
  {
   "cell_type": "code",
   "execution_count": 297,
   "metadata": {},
   "outputs": [],
   "source": [
    "installsIdUnicoVentanaUno[\"created\"] = installsIdUnicoVentanaUno[\"created\"].dt.total_seconds()\n",
    "installsIdUnicoVentanaDos[\"created\"] = installsIdUnicoVentanaDos[\"created\"].dt.total_seconds()\n",
    "installsIdUnicoVentanaTres[\"created\"] = installsIdUnicoVentanaTres[\"created\"].dt.total_seconds()\n",
    "installsIdUnicoVentanaCuatro[\"created\"] = installsIdUnicoVentanaCuatro[\"created\"].dt.total_seconds()\n",
    "installsIdUnicoVentanaCinco[\"created\"] = installsIdUnicoVentanaCinco[\"created\"].dt.total_seconds()\n",
    "installsIdUnicoVentanaSeis[\"created\"] = installsIdUnicoVentanaSeis[\"created\"].dt.total_seconds()\n",
    "installsIdUnicoVentanaSiete[\"created\"] = installsIdUnicoVentanaSiete[\"created\"].dt.total_seconds()"
   ]
  },
  {
   "cell_type": "code",
   "execution_count": 246,
   "metadata": {},
   "outputs": [
    {
     "data": {
      "text/html": [
       "<div>\n",
       "<style scoped>\n",
       "    .dataframe tbody tr th:only-of-type {\n",
       "        vertical-align: middle;\n",
       "    }\n",
       "\n",
       "    .dataframe tbody tr th {\n",
       "        vertical-align: top;\n",
       "    }\n",
       "\n",
       "    .dataframe thead th {\n",
       "        text-align: right;\n",
       "    }\n",
       "</style>\n",
       "<table border=\"1\" class=\"dataframe\">\n",
       "  <thead>\n",
       "    <tr style=\"text-align: right;\">\n",
       "      <th></th>\n",
       "      <th>created</th>\n",
       "      <th>ref_hash</th>\n",
       "      <th>wifi_promedio_inst</th>\n",
       "      <th>cantidad_installs</th>\n",
       "    </tr>\n",
       "  </thead>\n",
       "  <tbody>\n",
       "    <tr>\n",
       "      <th>0</th>\n",
       "      <td>0 days 21:11:50.326000</td>\n",
       "      <td>41863526108385</td>\n",
       "      <td>0.0</td>\n",
       "      <td>2</td>\n",
       "    </tr>\n",
       "    <tr>\n",
       "      <th>2</th>\n",
       "      <td>2 days 05:36:20.258000</td>\n",
       "      <td>135153013040192</td>\n",
       "      <td>NaN</td>\n",
       "      <td>1</td>\n",
       "    </tr>\n",
       "    <tr>\n",
       "      <th>3</th>\n",
       "      <td>0 days 16:40:42.839000</td>\n",
       "      <td>186034136943920</td>\n",
       "      <td>NaN</td>\n",
       "      <td>1</td>\n",
       "    </tr>\n",
       "    <tr>\n",
       "      <th>4</th>\n",
       "      <td>1 days 02:42:36.508000</td>\n",
       "      <td>365882020742330</td>\n",
       "      <td>0.0</td>\n",
       "      <td>1</td>\n",
       "    </tr>\n",
       "    <tr>\n",
       "      <th>5</th>\n",
       "      <td>1 days 01:47:40.475000</td>\n",
       "      <td>519199987760489</td>\n",
       "      <td>1.0</td>\n",
       "      <td>1</td>\n",
       "    </tr>\n",
       "    <tr>\n",
       "      <th>6</th>\n",
       "      <td>0 days 20:51:02.237000</td>\n",
       "      <td>530786270564316</td>\n",
       "      <td>0.0</td>\n",
       "      <td>1</td>\n",
       "    </tr>\n",
       "    <tr>\n",
       "      <th>7</th>\n",
       "      <td>0 days 18:10:00.392000</td>\n",
       "      <td>558877640599287</td>\n",
       "      <td>1.0</td>\n",
       "      <td>1</td>\n",
       "    </tr>\n",
       "    <tr>\n",
       "      <th>8</th>\n",
       "      <td>0 days 20:31:37.181000</td>\n",
       "      <td>655267966876774</td>\n",
       "      <td>0.0</td>\n",
       "      <td>1</td>\n",
       "    </tr>\n",
       "    <tr>\n",
       "      <th>9</th>\n",
       "      <td>1 days 06:30:37.123000</td>\n",
       "      <td>848739744907305</td>\n",
       "      <td>1.0</td>\n",
       "      <td>1</td>\n",
       "    </tr>\n",
       "    <tr>\n",
       "      <th>10</th>\n",
       "      <td>2 days 13:14:07.027000</td>\n",
       "      <td>918552236966790</td>\n",
       "      <td>NaN</td>\n",
       "      <td>1</td>\n",
       "    </tr>\n",
       "  </tbody>\n",
       "</table>\n",
       "</div>"
      ],
      "text/plain": [
       "                  created         ref_hash  wifi_promedio_inst  \\\n",
       "0  0 days 21:11:50.326000   41863526108385                 0.0   \n",
       "2  2 days 05:36:20.258000  135153013040192                 NaN   \n",
       "3  0 days 16:40:42.839000  186034136943920                 NaN   \n",
       "4  1 days 02:42:36.508000  365882020742330                 0.0   \n",
       "5  1 days 01:47:40.475000  519199987760489                 1.0   \n",
       "6  0 days 20:51:02.237000  530786270564316                 0.0   \n",
       "7  0 days 18:10:00.392000  558877640599287                 1.0   \n",
       "8  0 days 20:31:37.181000  655267966876774                 0.0   \n",
       "9  1 days 06:30:37.123000  848739744907305                 1.0   \n",
       "10 2 days 13:14:07.027000  918552236966790                 NaN   \n",
       "\n",
       "    cantidad_installs  \n",
       "0                   2  \n",
       "2                   1  \n",
       "3                   1  \n",
       "4                   1  \n",
       "5                   1  \n",
       "6                   1  \n",
       "7                   1  \n",
       "8                   1  \n",
       "9                   1  \n",
       "10                  1  "
      ]
     },
     "execution_count": 246,
     "metadata": {},
     "output_type": "execute_result"
    }
   ],
   "source": [
    "installsIdUnicoVentanaUno.head(10)"
   ]
  },
  {
   "cell_type": "code",
   "execution_count": 248,
   "metadata": {},
   "outputs": [
    {
     "data": {
      "text/html": [
       "<div>\n",
       "<style scoped>\n",
       "    .dataframe tbody tr th:only-of-type {\n",
       "        vertical-align: middle;\n",
       "    }\n",
       "\n",
       "    .dataframe tbody tr th {\n",
       "        vertical-align: top;\n",
       "    }\n",
       "\n",
       "    .dataframe thead th {\n",
       "        text-align: right;\n",
       "    }\n",
       "</style>\n",
       "<table border=\"1\" class=\"dataframe\">\n",
       "  <thead>\n",
       "    <tr style=\"text-align: right;\">\n",
       "      <th></th>\n",
       "      <th>index</th>\n",
       "      <th>date</th>\n",
       "      <th>event_id</th>\n",
       "      <th>ref_hash</th>\n",
       "      <th>application_id</th>\n",
       "      <th>attributed</th>\n",
       "      <th>device_city</th>\n",
       "      <th>event_uuid</th>\n",
       "      <th>carrier</th>\n",
       "      <th>kind</th>\n",
       "      <th>device_os</th>\n",
       "      <th>wifi</th>\n",
       "      <th>connection_type</th>\n",
       "      <th>device_language</th>\n",
       "    </tr>\n",
       "  </thead>\n",
       "  <tbody>\n",
       "    <tr>\n",
       "      <th>0</th>\n",
       "      <td>2130678</td>\n",
       "      <td>2019-04-20 01:42:49.120</td>\n",
       "      <td>0</td>\n",
       "      <td>5857744372586891366</td>\n",
       "      <td>210</td>\n",
       "      <td>False</td>\n",
       "      <td>NaN</td>\n",
       "      <td>5b506964-5f47-4b28-a8c2-8a92d6c23379</td>\n",
       "      <td>NaN</td>\n",
       "      <td>5.882882e+18</td>\n",
       "      <td>NaN</td>\n",
       "      <td>False</td>\n",
       "      <td>NaN</td>\n",
       "      <td>3.301378e+18</td>\n",
       "    </tr>\n",
       "    <tr>\n",
       "      <th>1</th>\n",
       "      <td>2130680</td>\n",
       "      <td>2019-04-20 01:42:49.340</td>\n",
       "      <td>1</td>\n",
       "      <td>7642521036780133571</td>\n",
       "      <td>210</td>\n",
       "      <td>False</td>\n",
       "      <td>NaN</td>\n",
       "      <td>f1fb9d15-1a7b-4116-8d3b-c4c403e197e2</td>\n",
       "      <td>NaN</td>\n",
       "      <td>4.017674e+18</td>\n",
       "      <td>NaN</td>\n",
       "      <td>False</td>\n",
       "      <td>NaN</td>\n",
       "      <td>NaN</td>\n",
       "    </tr>\n",
       "  </tbody>\n",
       "</table>\n",
       "</div>"
      ],
      "text/plain": [
       "     index                     date  event_id             ref_hash  \\\n",
       "0  2130678  2019-04-20 01:42:49.120         0  5857744372586891366   \n",
       "1  2130680  2019-04-20 01:42:49.340         1  7642521036780133571   \n",
       "\n",
       "   application_id  attributed  device_city  \\\n",
       "0             210       False          NaN   \n",
       "1             210       False          NaN   \n",
       "\n",
       "                             event_uuid  carrier          kind  device_os  \\\n",
       "0  5b506964-5f47-4b28-a8c2-8a92d6c23379      NaN  5.882882e+18        NaN   \n",
       "1  f1fb9d15-1a7b-4116-8d3b-c4c403e197e2      NaN  4.017674e+18        NaN   \n",
       "\n",
       "    wifi connection_type  device_language  \n",
       "0  False             NaN     3.301378e+18  \n",
       "1  False             NaN              NaN  "
      ]
     },
     "execution_count": 248,
     "metadata": {},
     "output_type": "execute_result"
    }
   ],
   "source": [
    "eventsCurated.head(2)"
   ]
  },
  {
   "cell_type": "code",
   "execution_count": 249,
   "metadata": {},
   "outputs": [],
   "source": [
    "eventsCurated = eventsCurated[['date', 'ref_hash']]"
   ]
  },
  {
   "cell_type": "code",
   "execution_count": 250,
   "metadata": {},
   "outputs": [
    {
     "data": {
      "text/html": [
       "<div>\n",
       "<style scoped>\n",
       "    .dataframe tbody tr th:only-of-type {\n",
       "        vertical-align: middle;\n",
       "    }\n",
       "\n",
       "    .dataframe tbody tr th {\n",
       "        vertical-align: top;\n",
       "    }\n",
       "\n",
       "    .dataframe thead th {\n",
       "        text-align: right;\n",
       "    }\n",
       "</style>\n",
       "<table border=\"1\" class=\"dataframe\">\n",
       "  <thead>\n",
       "    <tr style=\"text-align: right;\">\n",
       "      <th></th>\n",
       "      <th>date</th>\n",
       "      <th>ref_hash</th>\n",
       "    </tr>\n",
       "  </thead>\n",
       "  <tbody>\n",
       "    <tr>\n",
       "      <th>0</th>\n",
       "      <td>2019-04-20 01:42:49.120</td>\n",
       "      <td>5857744372586891366</td>\n",
       "    </tr>\n",
       "    <tr>\n",
       "      <th>1</th>\n",
       "      <td>2019-04-20 01:42:49.340</td>\n",
       "      <td>7642521036780133571</td>\n",
       "    </tr>\n",
       "  </tbody>\n",
       "</table>\n",
       "</div>"
      ],
      "text/plain": [
       "                      date             ref_hash\n",
       "0  2019-04-20 01:42:49.120  5857744372586891366\n",
       "1  2019-04-20 01:42:49.340  7642521036780133571"
      ]
     },
     "execution_count": 250,
     "metadata": {},
     "output_type": "execute_result"
    }
   ],
   "source": [
    "eventsCurated.head(2)"
   ]
  },
  {
   "cell_type": "markdown",
   "metadata": {},
   "source": [
    "## Selección de las ventanas de tests de tres días en _Events_"
   ]
  },
  {
   "cell_type": "code",
   "execution_count": 252,
   "metadata": {},
   "outputs": [],
   "source": [
    "eventsVentanaUno = eventsCurated.loc[(eventsCurated[\"date\"] < \"2019-04-21\")]\n",
    "eventsVentanaUno = eventsVentanaUno.loc[(eventsCurated[\"date\"] > \"2019-04-18\")]"
   ]
  },
  {
   "cell_type": "code",
   "execution_count": 253,
   "metadata": {},
   "outputs": [],
   "source": [
    "eventsVentanaDos = eventsCurated.loc[(eventsCurated[\"date\"] < \"2019-04-22\")]\n",
    "eventsVentanaDos = eventsVentanaDos.loc[(eventsCurated[\"date\"] > \"2019-04-19\")]"
   ]
  },
  {
   "cell_type": "code",
   "execution_count": 254,
   "metadata": {},
   "outputs": [],
   "source": [
    "eventsVentanaTres = eventsCurated.loc[(eventsCurated[\"date\"] < \"2019-04-23\")]\n",
    "eventsVentanaTres = eventsVentanaTres.loc[(eventsCurated[\"date\"] > \"2019-04-20\")]"
   ]
  },
  {
   "cell_type": "code",
   "execution_count": 255,
   "metadata": {},
   "outputs": [],
   "source": [
    "eventsVentanaCuatro = eventsCurated.loc[(eventsCurated[\"date\"] < \"2019-04-24\")]\n",
    "eventsVentanaCuatro = eventsVentanaCuatro.loc[(eventsCurated[\"date\"] > \"2019-04-21\")]"
   ]
  },
  {
   "cell_type": "code",
   "execution_count": 256,
   "metadata": {},
   "outputs": [],
   "source": [
    "eventsVentanaCinco = eventsCurated.loc[(eventsCurated[\"date\"] < \"2019-04-25\")]\n",
    "eventsVentanaCinco = eventsVentanaCinco.loc[(eventsCurated[\"date\"] > \"2019-04-22\")]"
   ]
  },
  {
   "cell_type": "code",
   "execution_count": 257,
   "metadata": {},
   "outputs": [],
   "source": [
    "eventsVentanaSeis = eventsCurated.loc[(eventsCurated[\"date\"] < \"2019-04-26\")]\n",
    "eventsVentanaSeis = eventsVentanaSeis.loc[(eventsCurated[\"date\"] > \"2019-04-23\")]"
   ]
  },
  {
   "cell_type": "code",
   "execution_count": 258,
   "metadata": {},
   "outputs": [],
   "source": [
    "eventsVentanaSiete = eventsCurated.loc[(eventsCurated[\"date\"] < \"2019-04-27\")]\n",
    "eventsVentanaSiete = eventsVentanaSiete.loc[(eventsCurated[\"date\"] > \"2019-04-24\")]"
   ]
  },
  {
   "cell_type": "markdown",
   "metadata": {},
   "source": [
    "### En todas las ventanas elegidas, vamos a agregar una columna de fecha inicial para poder basar los tiempos en base a eso. Despues podremos restar el tiempo inicial al tiempo absoluto para hacer modelos en segundos pasados."
   ]
  },
  {
   "cell_type": "code",
   "execution_count": 259,
   "metadata": {},
   "outputs": [],
   "source": [
    "eventsVentanaUno['fechaInicial'] = pd.to_datetime(\"2019-04-18 00:00:00\")\n",
    "eventsVentanaDos['fechaInicial'] = pd.to_datetime(\"2019-04-19 00:00:00\")\n",
    "eventsVentanaTres['fechaInicial'] = pd.to_datetime(\"2019-04-20 00:00:00\")\n",
    "eventsVentanaCuatro['fechaInicial'] = pd.to_datetime(\"2019-04-21 00:00:00\")\n",
    "eventsVentanaCinco['fechaInicial'] = pd.to_datetime(\"2019-04-22 00:00:00\")\n",
    "eventsVentanaSeis['fechaInicial'] = pd.to_datetime(\"2019-04-23 00:00:00\")\n",
    "eventsVentanaSiete['fechaInicial'] = pd.to_datetime(\"2019-04-24 00:00:00\")"
   ]
  },
  {
   "cell_type": "code",
   "execution_count": 260,
   "metadata": {},
   "outputs": [
    {
     "data": {
      "text/html": [
       "<div>\n",
       "<style scoped>\n",
       "    .dataframe tbody tr th:only-of-type {\n",
       "        vertical-align: middle;\n",
       "    }\n",
       "\n",
       "    .dataframe tbody tr th {\n",
       "        vertical-align: top;\n",
       "    }\n",
       "\n",
       "    .dataframe thead th {\n",
       "        text-align: right;\n",
       "    }\n",
       "</style>\n",
       "<table border=\"1\" class=\"dataframe\">\n",
       "  <thead>\n",
       "    <tr style=\"text-align: right;\">\n",
       "      <th></th>\n",
       "      <th>date</th>\n",
       "      <th>ref_hash</th>\n",
       "      <th>fechaInicial</th>\n",
       "    </tr>\n",
       "  </thead>\n",
       "  <tbody>\n",
       "    <tr>\n",
       "      <th>0</th>\n",
       "      <td>2019-04-20 01:42:49.120</td>\n",
       "      <td>5857744372586891366</td>\n",
       "      <td>2019-04-18</td>\n",
       "    </tr>\n",
       "    <tr>\n",
       "      <th>1</th>\n",
       "      <td>2019-04-20 01:42:49.340</td>\n",
       "      <td>7642521036780133571</td>\n",
       "      <td>2019-04-18</td>\n",
       "    </tr>\n",
       "    <tr>\n",
       "      <th>2</th>\n",
       "      <td>2019-04-20 01:42:49.365</td>\n",
       "      <td>2548841562898283198</td>\n",
       "      <td>2019-04-18</td>\n",
       "    </tr>\n",
       "    <tr>\n",
       "      <th>3</th>\n",
       "      <td>2019-04-20 01:42:51.438</td>\n",
       "      <td>609402887625919085</td>\n",
       "      <td>2019-04-18</td>\n",
       "    </tr>\n",
       "    <tr>\n",
       "      <th>4</th>\n",
       "      <td>2019-04-20 01:42:51.838</td>\n",
       "      <td>9114651763556439823</td>\n",
       "      <td>2019-04-18</td>\n",
       "    </tr>\n",
       "  </tbody>\n",
       "</table>\n",
       "</div>"
      ],
      "text/plain": [
       "                      date             ref_hash fechaInicial\n",
       "0  2019-04-20 01:42:49.120  5857744372586891366   2019-04-18\n",
       "1  2019-04-20 01:42:49.340  7642521036780133571   2019-04-18\n",
       "2  2019-04-20 01:42:49.365  2548841562898283198   2019-04-18\n",
       "3  2019-04-20 01:42:51.438   609402887625919085   2019-04-18\n",
       "4  2019-04-20 01:42:51.838  9114651763556439823   2019-04-18"
      ]
     },
     "execution_count": 260,
     "metadata": {},
     "output_type": "execute_result"
    }
   ],
   "source": [
    "eventsVentanaUno.head()"
   ]
  },
  {
   "cell_type": "markdown",
   "metadata": {},
   "source": [
    "### Convertimos los objects de _date_ a elementos de tipo _datetime_ para poder calcular diferencias de tiempo y poder utilisar modelos de Lifelines."
   ]
  },
  {
   "cell_type": "code",
   "execution_count": 261,
   "metadata": {},
   "outputs": [],
   "source": [
    "eventsVentanaUno.loc[:,'date'] = pd.to_datetime(eventsVentanaUno['date'], errors = 'coerce')\n",
    "eventsVentanaDos.loc[:,'date'] = pd.to_datetime(eventsVentanaDos['date'], errors = 'coerce')\n",
    "eventsVentanaTres.loc[:,'date'] = pd.to_datetime(eventsVentanaTres['date'], errors = 'coerce')\n",
    "eventsVentanaCuatro.loc[:,'date'] = pd.to_datetime(eventsVentanaCuatro['date'], errors = 'coerce')\n",
    "eventsVentanaCinco.loc[:,'date'] = pd.to_datetime(eventsVentanaCinco['date'], errors = 'coerce')\n",
    "eventsVentanaSeis.loc[:,'date'] = pd.to_datetime(eventsVentanaSeis['date'], errors = 'coerce')\n",
    "eventsVentanaSiete.loc[:,'date'] = pd.to_datetime(eventsVentanaSiete['date'], errors = 'coerce')"
   ]
  },
  {
   "cell_type": "markdown",
   "metadata": {},
   "source": [
    "### Sacamos la diferencia entre el tiempo de la ventana y el tiempo inicial de la ventana"
   ]
  },
  {
   "cell_type": "code",
   "execution_count": 262,
   "metadata": {},
   "outputs": [],
   "source": [
    "eventsVentanaUno[\"date\"] = eventsVentanaUno[\"date\"] - eventsVentanaUno[\"fechaInicial\"]\n",
    "eventsVentanaDos[\"date\"] = eventsVentanaDos[\"date\"] - eventsVentanaDos[\"fechaInicial\"]\n",
    "eventsVentanaTres[\"date\"] = eventsVentanaTres[\"date\"] - eventsVentanaTres[\"fechaInicial\"]\n",
    "eventsVentanaCuatro[\"date\"] = eventsVentanaCuatro[\"date\"] - eventsVentanaCuatro[\"fechaInicial\"]\n",
    "eventsVentanaCinco[\"date\"] = eventsVentanaCinco[\"date\"] - eventsVentanaCinco[\"fechaInicial\"]\n",
    "eventsVentanaSeis[\"date\"] = eventsVentanaSeis[\"date\"] - eventsVentanaSeis[\"fechaInicial\"]\n",
    "eventsVentanaSiete[\"date\"] = eventsVentanaSiete[\"date\"] - eventsVentanaSiete[\"fechaInicial\"]"
   ]
  },
  {
   "cell_type": "code",
   "execution_count": 263,
   "metadata": {},
   "outputs": [
    {
     "data": {
      "text/html": [
       "<div>\n",
       "<style scoped>\n",
       "    .dataframe tbody tr th:only-of-type {\n",
       "        vertical-align: middle;\n",
       "    }\n",
       "\n",
       "    .dataframe tbody tr th {\n",
       "        vertical-align: top;\n",
       "    }\n",
       "\n",
       "    .dataframe thead th {\n",
       "        text-align: right;\n",
       "    }\n",
       "</style>\n",
       "<table border=\"1\" class=\"dataframe\">\n",
       "  <thead>\n",
       "    <tr style=\"text-align: right;\">\n",
       "      <th></th>\n",
       "      <th>date</th>\n",
       "      <th>ref_hash</th>\n",
       "      <th>fechaInicial</th>\n",
       "    </tr>\n",
       "  </thead>\n",
       "  <tbody>\n",
       "    <tr>\n",
       "      <th>0</th>\n",
       "      <td>2 days 01:42:49.120000</td>\n",
       "      <td>5857744372586891366</td>\n",
       "      <td>2019-04-18</td>\n",
       "    </tr>\n",
       "    <tr>\n",
       "      <th>1</th>\n",
       "      <td>2 days 01:42:49.340000</td>\n",
       "      <td>7642521036780133571</td>\n",
       "      <td>2019-04-18</td>\n",
       "    </tr>\n",
       "  </tbody>\n",
       "</table>\n",
       "</div>"
      ],
      "text/plain": [
       "                    date             ref_hash fechaInicial\n",
       "0 2 days 01:42:49.120000  5857744372586891366   2019-04-18\n",
       "1 2 days 01:42:49.340000  7642521036780133571   2019-04-18"
      ]
     },
     "execution_count": 263,
     "metadata": {},
     "output_type": "execute_result"
    }
   ],
   "source": [
    "eventsVentanaUno.head(2)"
   ]
  },
  {
   "cell_type": "markdown",
   "metadata": {},
   "source": [
    "### Queremos resultados en segundos"
   ]
  },
  {
   "cell_type": "code",
   "execution_count": 264,
   "metadata": {},
   "outputs": [],
   "source": [
    "eventsVentanaUno[\"date\"] = eventsVentanaUno[\"date\"].dt.total_seconds()\n",
    "eventsVentanaDos[\"date\"] = eventsVentanaDos[\"date\"].dt.total_seconds()\n",
    "eventsVentanaTres[\"date\"] = eventsVentanaTres[\"date\"].dt.total_seconds()\n",
    "eventsVentanaCuatro[\"date\"] = eventsVentanaCuatro[\"date\"].dt.total_seconds()\n",
    "eventsVentanaCinco[\"date\"] = eventsVentanaCinco[\"date\"].dt.total_seconds()\n",
    "eventsVentanaSeis[\"date\"] = eventsVentanaSeis[\"date\"].dt.total_seconds()\n",
    "eventsVentanaSiete[\"date\"] = eventsVentanaSiete[\"date\"].dt.total_seconds()"
   ]
  },
  {
   "cell_type": "markdown",
   "metadata": {},
   "source": [
    "Agregamos una columna _sum_ para poder contar la cantidad de veces que aparece un device en una ventana de tres días."
   ]
  },
  {
   "cell_type": "code",
   "execution_count": 266,
   "metadata": {},
   "outputs": [],
   "source": [
    "eventsVentanaUno[\"sum\"] = 1\n",
    "eventsVentanaDos[\"sum\"] = 1\n",
    "eventsVentanaTres[\"sum\"] = 1\n",
    "eventsVentanaCuatro[\"sum\"] = 1\n",
    "eventsVentanaCinco[\"sum\"] = 1\n",
    "eventsVentanaSeis[\"sum\"] = 1\n",
    "eventsVentanaSiete[\"sum\"] = 1"
   ]
  },
  {
   "cell_type": "markdown",
   "metadata": {},
   "source": [
    "Contamos la cantidad de auctions en la ventana de 3 días para incluirla en la ventana siguiente como parametro."
   ]
  },
  {
   "cell_type": "code",
   "execution_count": 267,
   "metadata": {},
   "outputs": [],
   "source": [
    "eventsPorIdVentanaUno = eventsVentanaUno[['ref_hash','sum']].groupby('ref_hash').sum()\n",
    "eventsPorIdVentanaDos = eventsVentanaDos[['ref_hash','sum']].groupby('ref_hash').sum()\n",
    "eventsPorIdVentanaTres = eventsVentanaTres[['ref_hash','sum']].groupby('ref_hash').sum()\n",
    "eventsPorIdVentanaCuatro = eventsVentanaCuatro[['ref_hash','sum']].groupby('ref_hash').sum()\n",
    "eventsPorIdVentanaCinco = eventsVentanaCinco[['ref_hash','sum']].groupby('ref_hash').sum()\n",
    "eventsPorIdVentanaSeis = eventsVentanaSeis[['ref_hash','sum']].groupby('ref_hash').sum()\n",
    "eventsPorIdVentanaSiete = eventsVentanaSiete[['ref_hash','sum']].groupby('ref_hash').sum()"
   ]
  },
  {
   "cell_type": "code",
   "execution_count": 268,
   "metadata": {},
   "outputs": [
    {
     "data": {
      "text/html": [
       "<div>\n",
       "<style scoped>\n",
       "    .dataframe tbody tr th:only-of-type {\n",
       "        vertical-align: middle;\n",
       "    }\n",
       "\n",
       "    .dataframe tbody tr th {\n",
       "        vertical-align: top;\n",
       "    }\n",
       "\n",
       "    .dataframe thead th {\n",
       "        text-align: right;\n",
       "    }\n",
       "</style>\n",
       "<table border=\"1\" class=\"dataframe\">\n",
       "  <thead>\n",
       "    <tr style=\"text-align: right;\">\n",
       "      <th></th>\n",
       "      <th>sum</th>\n",
       "    </tr>\n",
       "    <tr>\n",
       "      <th>ref_hash</th>\n",
       "      <th></th>\n",
       "    </tr>\n",
       "  </thead>\n",
       "  <tbody>\n",
       "    <tr>\n",
       "      <th>40621409780134</th>\n",
       "      <td>3</td>\n",
       "    </tr>\n",
       "    <tr>\n",
       "      <th>69039685746313</th>\n",
       "      <td>6</td>\n",
       "    </tr>\n",
       "  </tbody>\n",
       "</table>\n",
       "</div>"
      ],
      "text/plain": [
       "                sum\n",
       "ref_hash           \n",
       "40621409780134    3\n",
       "69039685746313    6"
      ]
     },
     "execution_count": 268,
     "metadata": {},
     "output_type": "execute_result"
    }
   ],
   "source": [
    "eventsPorIdVentanaSeis.head(2)"
   ]
  },
  {
   "cell_type": "code",
   "execution_count": 269,
   "metadata": {},
   "outputs": [],
   "source": [
    "eventsPorIdVentanaUno = eventsPorIdVentanaUno.stack().reset_index()\n",
    "eventsPorIdVentanaDos = eventsPorIdVentanaDos.stack().reset_index()\n",
    "eventsPorIdVentanaTres = eventsPorIdVentanaTres.stack().reset_index()\n",
    "eventsPorIdVentanaCuatro = eventsPorIdVentanaCuatro.stack().reset_index()\n",
    "eventsPorIdVentanaCinco = eventsPorIdVentanaCinco.stack().reset_index()\n",
    "eventsPorIdVentanaSeis = eventsPorIdVentanaSeis.stack().reset_index()\n",
    "eventsPorIdVentanaSiete = eventsPorIdVentanaSiete.stack().reset_index()"
   ]
  },
  {
   "cell_type": "code",
   "execution_count": 270,
   "metadata": {},
   "outputs": [],
   "source": [
    "eventsPorIdVentanaUno = eventsPorIdVentanaUno.drop(columns = ['level_1'])\n",
    "eventsPorIdVentanaDos = eventsPorIdVentanaDos.drop(columns = ['level_1'])\n",
    "eventsPorIdVentanaTres = eventsPorIdVentanaTres.drop(columns = ['level_1'])\n",
    "eventsPorIdVentanaCuatro = eventsPorIdVentanaCuatro.drop(columns = ['level_1'])\n",
    "eventsPorIdVentanaCinco = eventsPorIdVentanaCinco.drop(columns = ['level_1'])\n",
    "eventsPorIdVentanaSeis = eventsPorIdVentanaSeis.drop(columns = ['level_1'])\n",
    "eventsPorIdVentanaSiete = eventsPorIdVentanaSiete.drop(columns = ['level_1'])"
   ]
  },
  {
   "cell_type": "code",
   "execution_count": 273,
   "metadata": {},
   "outputs": [],
   "source": [
    "eventsPorIdVentanaUno.columns = ['ref_hash', 'cantidad_events']\n",
    "eventsPorIdVentanaDos.columns = ['ref_hash', 'cantidad_events']\n",
    "eventsPorIdVentanaTres.columns = ['ref_hash', 'cantidad_events']\n",
    "eventsPorIdVentanaCuatro.columns = ['ref_hash', 'cantidad_events']\n",
    "eventsPorIdVentanaCinco.columns = ['ref_hash', 'cantidad_events']\n",
    "eventsPorIdVentanaSeis.columns = ['ref_hash', 'cantidad_events']\n",
    "eventsPorIdVentanaSiete.columns = ['ref_hash', 'cantidad_events']"
   ]
  },
  {
   "cell_type": "code",
   "execution_count": 274,
   "metadata": {},
   "outputs": [
    {
     "data": {
      "text/html": [
       "<div>\n",
       "<style scoped>\n",
       "    .dataframe tbody tr th:only-of-type {\n",
       "        vertical-align: middle;\n",
       "    }\n",
       "\n",
       "    .dataframe tbody tr th {\n",
       "        vertical-align: top;\n",
       "    }\n",
       "\n",
       "    .dataframe thead th {\n",
       "        text-align: right;\n",
       "    }\n",
       "</style>\n",
       "<table border=\"1\" class=\"dataframe\">\n",
       "  <thead>\n",
       "    <tr style=\"text-align: right;\">\n",
       "      <th></th>\n",
       "      <th>ref_hash</th>\n",
       "      <th>cantidad_events</th>\n",
       "    </tr>\n",
       "  </thead>\n",
       "  <tbody>\n",
       "    <tr>\n",
       "      <th>0</th>\n",
       "      <td>41863526108385</td>\n",
       "      <td>88</td>\n",
       "    </tr>\n",
       "    <tr>\n",
       "      <th>1</th>\n",
       "      <td>161514654074162</td>\n",
       "      <td>8</td>\n",
       "    </tr>\n",
       "  </tbody>\n",
       "</table>\n",
       "</div>"
      ],
      "text/plain": [
       "          ref_hash  cantidad_events\n",
       "0   41863526108385               88\n",
       "1  161514654074162                8"
      ]
     },
     "execution_count": 274,
     "metadata": {},
     "output_type": "execute_result"
    }
   ],
   "source": [
    "eventsPorIdVentanaUno.head(2)"
   ]
  },
  {
   "cell_type": "code",
   "execution_count": 283,
   "metadata": {},
   "outputs": [],
   "source": [
    "eventsVentanaUno = pd.merge(eventsVentanaUno, eventsPorIdVentanaUno, on ='ref_hash', how = 'left')\n",
    "eventsVentanaDos = pd.merge(eventsVentanaDos, eventsPorIdVentanaDos, on ='ref_hash', how = 'left')\n",
    "eventsVentanaTres = pd.merge(eventsVentanaTres, eventsPorIdVentanaTres, on ='ref_hash', how = 'left')\n",
    "eventsVentanaCuatro = pd.merge(eventsVentanaCuatro, eventsPorIdVentanaCuatro, on ='ref_hash', how = 'left')\n",
    "eventsVentanaCinco = pd.merge(eventsVentanaCinco, eventsPorIdVentanaCinco, on ='ref_hash', how = 'left')\n",
    "eventsVentanaSeis = pd.merge(eventsVentanaSeis, eventsPorIdVentanaSeis, on ='ref_hash', how = 'left')\n",
    "eventsVentanaSiete = pd.merge(eventsVentanaSiete, eventsPorIdVentanaSiete, on ='ref_hash', how = 'left')\n"
   ]
  },
  {
   "cell_type": "code",
   "execution_count": 286,
   "metadata": {},
   "outputs": [
    {
     "data": {
      "text/html": [
       "<div>\n",
       "<style scoped>\n",
       "    .dataframe tbody tr th:only-of-type {\n",
       "        vertical-align: middle;\n",
       "    }\n",
       "\n",
       "    .dataframe tbody tr th {\n",
       "        vertical-align: top;\n",
       "    }\n",
       "\n",
       "    .dataframe thead th {\n",
       "        text-align: right;\n",
       "    }\n",
       "</style>\n",
       "<table border=\"1\" class=\"dataframe\">\n",
       "  <thead>\n",
       "    <tr style=\"text-align: right;\">\n",
       "      <th></th>\n",
       "      <th>date</th>\n",
       "      <th>ref_hash</th>\n",
       "      <th>fechaInicial</th>\n",
       "      <th>sum</th>\n",
       "      <th>cantidad_events</th>\n",
       "    </tr>\n",
       "  </thead>\n",
       "  <tbody>\n",
       "    <tr>\n",
       "      <th>0</th>\n",
       "      <td>163534.650</td>\n",
       "      <td>809939361959643854</td>\n",
       "      <td>2019-04-24</td>\n",
       "      <td>1</td>\n",
       "      <td>40</td>\n",
       "    </tr>\n",
       "    <tr>\n",
       "      <th>1</th>\n",
       "      <td>163533.165</td>\n",
       "      <td>2704332589081852700</td>\n",
       "      <td>2019-04-24</td>\n",
       "      <td>1</td>\n",
       "      <td>546</td>\n",
       "    </tr>\n",
       "    <tr>\n",
       "      <th>2</th>\n",
       "      <td>163533.097</td>\n",
       "      <td>2704332589081852700</td>\n",
       "      <td>2019-04-24</td>\n",
       "      <td>1</td>\n",
       "      <td>546</td>\n",
       "    </tr>\n",
       "    <tr>\n",
       "      <th>3</th>\n",
       "      <td>163534.227</td>\n",
       "      <td>6376777580200607439</td>\n",
       "      <td>2019-04-24</td>\n",
       "      <td>1</td>\n",
       "      <td>459</td>\n",
       "    </tr>\n",
       "    <tr>\n",
       "      <th>4</th>\n",
       "      <td>163050.501</td>\n",
       "      <td>2602532777370559745</td>\n",
       "      <td>2019-04-24</td>\n",
       "      <td>1</td>\n",
       "      <td>62</td>\n",
       "    </tr>\n",
       "    <tr>\n",
       "      <th>5</th>\n",
       "      <td>162446.249</td>\n",
       "      <td>1392327325375134465</td>\n",
       "      <td>2019-04-24</td>\n",
       "      <td>1</td>\n",
       "      <td>94</td>\n",
       "    </tr>\n",
       "    <tr>\n",
       "      <th>6</th>\n",
       "      <td>163054.553</td>\n",
       "      <td>6452440169362283903</td>\n",
       "      <td>2019-04-24</td>\n",
       "      <td>1</td>\n",
       "      <td>36</td>\n",
       "    </tr>\n",
       "    <tr>\n",
       "      <th>7</th>\n",
       "      <td>163054.490</td>\n",
       "      <td>3346836796007974949</td>\n",
       "      <td>2019-04-24</td>\n",
       "      <td>1</td>\n",
       "      <td>55</td>\n",
       "    </tr>\n",
       "    <tr>\n",
       "      <th>8</th>\n",
       "      <td>162457.989</td>\n",
       "      <td>2576380917892592388</td>\n",
       "      <td>2019-04-24</td>\n",
       "      <td>1</td>\n",
       "      <td>29</td>\n",
       "    </tr>\n",
       "    <tr>\n",
       "      <th>9</th>\n",
       "      <td>163054.447</td>\n",
       "      <td>1392327325375134465</td>\n",
       "      <td>2019-04-24</td>\n",
       "      <td>1</td>\n",
       "      <td>94</td>\n",
       "    </tr>\n",
       "  </tbody>\n",
       "</table>\n",
       "</div>"
      ],
      "text/plain": [
       "         date             ref_hash fechaInicial  sum  cantidad_events\n",
       "0  163534.650   809939361959643854   2019-04-24    1               40\n",
       "1  163533.165  2704332589081852700   2019-04-24    1              546\n",
       "2  163533.097  2704332589081852700   2019-04-24    1              546\n",
       "3  163534.227  6376777580200607439   2019-04-24    1              459\n",
       "4  163050.501  2602532777370559745   2019-04-24    1               62\n",
       "5  162446.249  1392327325375134465   2019-04-24    1               94\n",
       "6  163054.553  6452440169362283903   2019-04-24    1               36\n",
       "7  163054.490  3346836796007974949   2019-04-24    1               55\n",
       "8  162457.989  2576380917892592388   2019-04-24    1               29\n",
       "9  163054.447  1392327325375134465   2019-04-24    1               94"
      ]
     },
     "execution_count": 286,
     "metadata": {},
     "output_type": "execute_result"
    }
   ],
   "source": [
    "eventsVentanaSiete.head(10)"
   ]
  },
  {
   "cell_type": "markdown",
   "metadata": {},
   "source": [
    "### Vamos a dejar los duplicates.\n",
    "\n",
    "### Para hacer eso, ordenaremos por device_id y despues por fecha"
   ]
  },
  {
   "cell_type": "code",
   "execution_count": 287,
   "metadata": {},
   "outputs": [],
   "source": [
    "eventsVentanaUno = eventsVentanaUno.sort_values(['ref_hash', 'date'], ascending = [True, True])\n",
    "eventsVentanaDos = eventsVentanaDos.sort_values(['ref_hash', 'date'], ascending = [True, True])\n",
    "eventsVentanaTres = eventsVentanaTres.sort_values(['ref_hash', 'date'], ascending = [True, True])\n",
    "eventsVentanaCuatro = eventsVentanaCuatro.sort_values(['ref_hash', 'date'], ascending = [True, True])\n",
    "eventsVentanaCinco = eventsVentanaCinco.sort_values(['ref_hash', 'date'], ascending = [True, True])\n",
    "eventsVentanaSeis = eventsVentanaSeis.sort_values(['ref_hash', 'date'], ascending = [True, True])\n",
    "eventsVentanaSiete = eventsVentanaSiete.sort_values(['ref_hash', 'date'], ascending = [True, True])"
   ]
  },
  {
   "cell_type": "code",
   "execution_count": 289,
   "metadata": {},
   "outputs": [
    {
     "data": {
      "text/html": [
       "<div>\n",
       "<style scoped>\n",
       "    .dataframe tbody tr th:only-of-type {\n",
       "        vertical-align: middle;\n",
       "    }\n",
       "\n",
       "    .dataframe tbody tr th {\n",
       "        vertical-align: top;\n",
       "    }\n",
       "\n",
       "    .dataframe thead th {\n",
       "        text-align: right;\n",
       "    }\n",
       "</style>\n",
       "<table border=\"1\" class=\"dataframe\">\n",
       "  <thead>\n",
       "    <tr style=\"text-align: right;\">\n",
       "      <th></th>\n",
       "      <th>date</th>\n",
       "      <th>ref_hash</th>\n",
       "      <th>fechaInicial</th>\n",
       "      <th>sum</th>\n",
       "      <th>cantidad_events</th>\n",
       "    </tr>\n",
       "  </thead>\n",
       "  <tbody>\n",
       "    <tr>\n",
       "      <th>269120</th>\n",
       "      <td>76310.326</td>\n",
       "      <td>41863526108385</td>\n",
       "      <td>2019-04-18</td>\n",
       "      <td>1</td>\n",
       "      <td>88</td>\n",
       "    </tr>\n",
       "    <tr>\n",
       "      <th>933324</th>\n",
       "      <td>76385.063</td>\n",
       "      <td>41863526108385</td>\n",
       "      <td>2019-04-18</td>\n",
       "      <td>1</td>\n",
       "      <td>88</td>\n",
       "    </tr>\n",
       "    <tr>\n",
       "      <th>876951</th>\n",
       "      <td>76636.531</td>\n",
       "      <td>41863526108385</td>\n",
       "      <td>2019-04-18</td>\n",
       "      <td>1</td>\n",
       "      <td>88</td>\n",
       "    </tr>\n",
       "    <tr>\n",
       "      <th>876939</th>\n",
       "      <td>76641.831</td>\n",
       "      <td>41863526108385</td>\n",
       "      <td>2019-04-18</td>\n",
       "      <td>1</td>\n",
       "      <td>88</td>\n",
       "    </tr>\n",
       "    <tr>\n",
       "      <th>1044023</th>\n",
       "      <td>76678.316</td>\n",
       "      <td>41863526108385</td>\n",
       "      <td>2019-04-18</td>\n",
       "      <td>1</td>\n",
       "      <td>88</td>\n",
       "    </tr>\n",
       "  </tbody>\n",
       "</table>\n",
       "</div>"
      ],
      "text/plain": [
       "              date        ref_hash fechaInicial  sum  cantidad_events\n",
       "269120   76310.326  41863526108385   2019-04-18    1               88\n",
       "933324   76385.063  41863526108385   2019-04-18    1               88\n",
       "876951   76636.531  41863526108385   2019-04-18    1               88\n",
       "876939   76641.831  41863526108385   2019-04-18    1               88\n",
       "1044023  76678.316  41863526108385   2019-04-18    1               88"
      ]
     },
     "execution_count": 289,
     "metadata": {},
     "output_type": "execute_result"
    }
   ],
   "source": [
    "eventsVentanaUno.head()"
   ]
  },
  {
   "cell_type": "code",
   "execution_count": 291,
   "metadata": {},
   "outputs": [],
   "source": [
    "eventsVentanaUnoRegressionSet = eventsVentanaUno.drop_duplicates(subset = 'ref_hash')\n",
    "eventsVentanaDosRegressionSet = eventsVentanaDos.drop_duplicates(subset = 'ref_hash')\n",
    "eventsVentanaTresRegressionSet = eventsVentanaTres.drop_duplicates(subset = 'ref_hash')\n",
    "eventsVentanaCuatroRegressionSet = eventsVentanaCuatro.drop_duplicates(subset = 'ref_hash')\n",
    "eventsVentanaCincoRegressionSet = eventsVentanaCinco.drop_duplicates(subset = 'ref_hash')\n",
    "eventsVentanaSeisRegressionSet = eventsVentanaSeis.drop_duplicates(subset = 'ref_hash')\n",
    "eventsVentanaSieteRegressionSet = eventsVentanaSiete.drop_duplicates(subset = 'ref_hash')"
   ]
  },
  {
   "cell_type": "code",
   "execution_count": 293,
   "metadata": {},
   "outputs": [],
   "source": [
    "eventsVentanaUnoRegressionSet = eventsVentanaUnoRegressionSet[['ref_hash', 'cantidad_events']]\n",
    "eventsVentanaDosRegressionSet = eventsVentanaDosRegressionSet[['ref_hash', 'cantidad_events']]\n",
    "eventsVentanaTresRegressionSet = eventsVentanaTresRegressionSet[['ref_hash', 'cantidad_events']]\n",
    "eventsVentanaCuatroRegressionSet = eventsVentanaCuatroRegressionSet[['ref_hash', 'cantidad_events']]\n",
    "eventsVentanaCincoRegressionSet = eventsVentanaCincoRegressionSet[['ref_hash', 'cantidad_events']]\n",
    "eventsVentanaSeisRegressionSet = eventsVentanaSeisRegressionSet[['ref_hash', 'cantidad_events']]\n",
    "eventsVentanaSieteRegressionSet = eventsVentanaSieteRegressionSet[['ref_hash', 'cantidad_events']]"
   ]
  },
  {
   "cell_type": "code",
   "execution_count": 294,
   "metadata": {},
   "outputs": [
    {
     "data": {
      "text/html": [
       "<div>\n",
       "<style scoped>\n",
       "    .dataframe tbody tr th:only-of-type {\n",
       "        vertical-align: middle;\n",
       "    }\n",
       "\n",
       "    .dataframe tbody tr th {\n",
       "        vertical-align: top;\n",
       "    }\n",
       "\n",
       "    .dataframe thead th {\n",
       "        text-align: right;\n",
       "    }\n",
       "</style>\n",
       "<table border=\"1\" class=\"dataframe\">\n",
       "  <thead>\n",
       "    <tr style=\"text-align: right;\">\n",
       "      <th></th>\n",
       "      <th>ref_hash</th>\n",
       "      <th>cantidad_events</th>\n",
       "    </tr>\n",
       "  </thead>\n",
       "  <tbody>\n",
       "    <tr>\n",
       "      <th>269120</th>\n",
       "      <td>41863526108385</td>\n",
       "      <td>88</td>\n",
       "    </tr>\n",
       "    <tr>\n",
       "      <th>1209992</th>\n",
       "      <td>161514654074162</td>\n",
       "      <td>8</td>\n",
       "    </tr>\n",
       "    <tr>\n",
       "      <th>326573</th>\n",
       "      <td>186034136943920</td>\n",
       "      <td>13</td>\n",
       "    </tr>\n",
       "    <tr>\n",
       "      <th>1072019</th>\n",
       "      <td>360710529886978</td>\n",
       "      <td>3</td>\n",
       "    </tr>\n",
       "    <tr>\n",
       "      <th>1227073</th>\n",
       "      <td>365882020742330</td>\n",
       "      <td>57</td>\n",
       "    </tr>\n",
       "  </tbody>\n",
       "</table>\n",
       "</div>"
      ],
      "text/plain": [
       "                ref_hash  cantidad_events\n",
       "269120    41863526108385               88\n",
       "1209992  161514654074162                8\n",
       "326573   186034136943920               13\n",
       "1072019  360710529886978                3\n",
       "1227073  365882020742330               57"
      ]
     },
     "execution_count": 294,
     "metadata": {},
     "output_type": "execute_result"
    }
   ],
   "source": [
    "eventsVentanaUnoRegressionSet.head()"
   ]
  },
  {
   "cell_type": "code",
   "execution_count": 474,
   "metadata": {},
   "outputs": [],
   "source": [
    "eventsVentanaUnoRegressionSet.to_csv('events_set1.csv', encoding = 'utf_8', index=False)\n",
    "eventsVentanaDosRegressionSet.to_csv('events_set2.csv', encoding = 'utf_8', index=False)\n",
    "eventsVentanaTresRegressionSet.to_csv('events_set3.csv', encoding = 'utf_8', index=False)\n",
    "eventsVentanaCuatroRegressionSet.to_csv('events_set4.csv', encoding = 'utf_8', index=False)\n",
    "eventsVentanaCincoRegressionSet.to_csv('events_set5.csv', encoding = 'utf_8', index=False)\n",
    "eventsVentanaSeisRegressionSet.to_csv('events_set6.csv', encoding = 'utf_8', index=False)\n",
    "eventsVentanaSieteRegressionSet.to_csv('events_set7.csv', encoding = 'utf_8', index=False)"
   ]
  },
  {
   "cell_type": "code",
   "execution_count": 475,
   "metadata": {},
   "outputs": [],
   "source": [
    "installsIdUnicoVentanaUno.to_csv('installs_set1.csv', encoding = 'utf_8', index=False)\n",
    "installsIdUnicoVentanaDos.to_csv('installs_set2.csv', encoding = 'utf_8', index=False)\n",
    "installsIdUnicoVentanaTres.to_csv('installs_set3.csv', encoding = 'utf_8', index=False)\n",
    "installsIdUnicoVentanaCuatro.to_csv('installs_set4.csv', encoding = 'utf_8', index=False)\n",
    "installsIdUnicoVentanaCinco.to_csv('installs_set5.csv', encoding = 'utf_8', index=False)\n",
    "installsIdUnicoVentanaSeis.to_csv('installs_set6.csv', encoding = 'utf_8', index=False)\n",
    "installsIdUnicoVentanaSiete.to_csv('installs_set7.csv', encoding = 'utf_8', index=False)"
   ]
  },
  {
   "cell_type": "markdown",
   "metadata": {},
   "source": [
    "### Ahora mergeamos events y Installs on ref_hash"
   ]
  },
  {
   "cell_type": "code",
   "execution_count": 298,
   "metadata": {},
   "outputs": [],
   "source": [
    "eventsInstallsVentUnoRegressionSet = pd.merge(eventsVentanaUnoRegressionSet, installsIdUnicoVentanaUno, on='ref_hash', how = 'outer')\n",
    "eventsInstallsVentDosRegressionSet = pd.merge(eventsVentanaDosRegressionSet, installsIdUnicoVentanaDos, on='ref_hash', how = 'outer')\n",
    "eventsInstallsVentTresRegressionSet = pd.merge(eventsVentanaTresRegressionSet, installsIdUnicoVentanaTres, on='ref_hash', how = 'outer')\n",
    "eventsInstallsVentCuatroRegressionSet = pd.merge(eventsVentanaCuatroRegressionSet, installsIdUnicoVentanaCuatro, on='ref_hash', how = 'outer')\n",
    "eventsInstallsVentCincoRegressionSet = pd.merge(eventsVentanaCincoRegressionSet, installsIdUnicoVentanaCinco, on='ref_hash', how = 'outer')\n",
    "eventsInstallsVentSeisRegressionSet = pd.merge(eventsVentanaSeisRegressionSet, installsIdUnicoVentanaSeis, on='ref_hash', how = 'outer')\n",
    "eventsInstallsVentSieteRegressionSet = pd.merge(eventsVentanaSieteRegressionSet, installsIdUnicoVentanaSiete, on='ref_hash', how = 'outer')\n"
   ]
  },
  {
   "cell_type": "code",
   "execution_count": 299,
   "metadata": {},
   "outputs": [
    {
     "data": {
      "text/html": [
       "<div>\n",
       "<style scoped>\n",
       "    .dataframe tbody tr th:only-of-type {\n",
       "        vertical-align: middle;\n",
       "    }\n",
       "\n",
       "    .dataframe tbody tr th {\n",
       "        vertical-align: top;\n",
       "    }\n",
       "\n",
       "    .dataframe thead th {\n",
       "        text-align: right;\n",
       "    }\n",
       "</style>\n",
       "<table border=\"1\" class=\"dataframe\">\n",
       "  <thead>\n",
       "    <tr style=\"text-align: right;\">\n",
       "      <th></th>\n",
       "      <th>ref_hash</th>\n",
       "      <th>cantidad_events</th>\n",
       "      <th>created</th>\n",
       "      <th>wifi_promedio_inst</th>\n",
       "      <th>cantidad_installs</th>\n",
       "    </tr>\n",
       "  </thead>\n",
       "  <tbody>\n",
       "    <tr>\n",
       "      <th>0</th>\n",
       "      <td>41863526108385</td>\n",
       "      <td>88.0</td>\n",
       "      <td>76310.326</td>\n",
       "      <td>0.0</td>\n",
       "      <td>2.0</td>\n",
       "    </tr>\n",
       "    <tr>\n",
       "      <th>1</th>\n",
       "      <td>161514654074162</td>\n",
       "      <td>8.0</td>\n",
       "      <td>NaN</td>\n",
       "      <td>NaN</td>\n",
       "      <td>NaN</td>\n",
       "    </tr>\n",
       "    <tr>\n",
       "      <th>2</th>\n",
       "      <td>186034136943920</td>\n",
       "      <td>13.0</td>\n",
       "      <td>60042.839</td>\n",
       "      <td>NaN</td>\n",
       "      <td>1.0</td>\n",
       "    </tr>\n",
       "    <tr>\n",
       "      <th>3</th>\n",
       "      <td>360710529886978</td>\n",
       "      <td>3.0</td>\n",
       "      <td>NaN</td>\n",
       "      <td>NaN</td>\n",
       "      <td>NaN</td>\n",
       "    </tr>\n",
       "    <tr>\n",
       "      <th>4</th>\n",
       "      <td>365882020742330</td>\n",
       "      <td>57.0</td>\n",
       "      <td>96156.508</td>\n",
       "      <td>0.0</td>\n",
       "      <td>1.0</td>\n",
       "    </tr>\n",
       "  </tbody>\n",
       "</table>\n",
       "</div>"
      ],
      "text/plain": [
       "          ref_hash  cantidad_events    created  wifi_promedio_inst  \\\n",
       "0   41863526108385             88.0  76310.326                 0.0   \n",
       "1  161514654074162              8.0        NaN                 NaN   \n",
       "2  186034136943920             13.0  60042.839                 NaN   \n",
       "3  360710529886978              3.0        NaN                 NaN   \n",
       "4  365882020742330             57.0  96156.508                 0.0   \n",
       "\n",
       "   cantidad_installs  \n",
       "0                2.0  \n",
       "1                NaN  \n",
       "2                1.0  \n",
       "3                NaN  \n",
       "4                1.0  "
      ]
     },
     "execution_count": 299,
     "metadata": {},
     "output_type": "execute_result"
    }
   ],
   "source": [
    "eventsInstallsVentUnoRegressionSet.head()"
   ]
  },
  {
   "cell_type": "code",
   "execution_count": 302,
   "metadata": {},
   "outputs": [],
   "source": [
    "eventsInstallsVentUnoRegressionSet[['wifi_promedio_inst', 'cantidad_installs']] = \\\n",
    "eventsInstallsVentUnoRegressionSet[['wifi_promedio_inst', 'cantidad_installs']].fillna(value = 0)\n",
    "eventsInstallsVentDosRegressionSet[['wifi_promedio_inst', 'cantidad_installs']] = \\\n",
    "eventsInstallsVentDosRegressionSet[['wifi_promedio_inst', 'cantidad_installs']].fillna(value = 0)\n",
    "eventsInstallsVentTresRegressionSet[['wifi_promedio_inst', 'cantidad_installs']] = \\\n",
    "eventsInstallsVentTresRegressionSet[['wifi_promedio_inst', 'cantidad_installs']].fillna(value = 0)\n",
    "eventsInstallsVentCuatroRegressionSet[['wifi_promedio_inst', 'cantidad_installs']] = \\\n",
    "eventsInstallsVentCuatroRegressionSet[['wifi_promedio_inst', 'cantidad_installs']].fillna(value = 0)\n",
    "eventsInstallsVentCincoRegressionSet[['wifi_promedio_inst', 'cantidad_installs']] = \\\n",
    "eventsInstallsVentCincoRegressionSet[['wifi_promedio_inst', 'cantidad_installs']].fillna(value = 0)\n",
    "eventsInstallsVentSeisRegressionSet[['wifi_promedio_inst', 'cantidad_installs']] = \\\n",
    "eventsInstallsVentSeisRegressionSet[['wifi_promedio_inst', 'cantidad_installs']].fillna(value = 0)\n",
    "eventsInstallsVentSieteRegressionSet[['wifi_promedio_inst', 'cantidad_installs']] = \\\n",
    "eventsInstallsVentSieteRegressionSet[['wifi_promedio_inst', 'cantidad_installs']].fillna(value = 0)"
   ]
  },
  {
   "cell_type": "code",
   "execution_count": 309,
   "metadata": {},
   "outputs": [],
   "source": [
    "eventsInstallsVentUnoRegressionSet['cantidad_events'] = \\\n",
    "eventsInstallsVentUnoRegressionSet['cantidad_events'].fillna(eventsInstallsVentUnoRegressionSet['cantidad_installs'])"
   ]
  },
  {
   "cell_type": "code",
   "execution_count": 311,
   "metadata": {},
   "outputs": [],
   "source": [
    "eventsInstallsVentDosRegressionSet['cantidad_events'] = \\\n",
    "eventsInstallsVentDosRegressionSet['cantidad_events'].fillna(eventsInstallsVentDosRegressionSet['cantidad_installs'])\n",
    "eventsInstallsVentTresRegressionSet['cantidad_events'] = \\\n",
    "eventsInstallsVentTresRegressionSet['cantidad_events'].fillna(eventsInstallsVentTresRegressionSet['cantidad_installs'])\n",
    "eventsInstallsVentCuatroRegressionSet['cantidad_events'] = \\\n",
    "eventsInstallsVentCuatroRegressionSet['cantidad_events'].fillna(eventsInstallsVentCuatroRegressionSet['cantidad_installs'])\n",
    "eventsInstallsVentCincoRegressionSet['cantidad_events'] = \\\n",
    "eventsInstallsVentCincoRegressionSet['cantidad_events'].fillna(eventsInstallsVentCincoRegressionSet['cantidad_installs'])\n",
    "eventsInstallsVentSeisRegressionSet['cantidad_events'] = \\\n",
    "eventsInstallsVentSeisRegressionSet['cantidad_events'].fillna(eventsInstallsVentSeisRegressionSet['cantidad_installs'])\n",
    "eventsInstallsVentSieteRegressionSet['cantidad_events'] = \\\n",
    "eventsInstallsVentSieteRegressionSet['cantidad_events'].fillna(eventsInstallsVentSieteRegressionSet['cantidad_installs'])\n"
   ]
  },
  {
   "cell_type": "code",
   "execution_count": 313,
   "metadata": {},
   "outputs": [],
   "source": [
    "eventsInstallsVentUnoRegressionSet['created'] = \\\n",
    "eventsInstallsVentUnoRegressionSet['created'].fillna(value = 259200)\n",
    "eventsInstallsVentDosRegressionSet['created'] = \\\n",
    "eventsInstallsVentDosRegressionSet['created'].fillna(value = 259200)\n",
    "eventsInstallsVentTresRegressionSet['created'] = \\\n",
    "eventsInstallsVentTresRegressionSet['created'].fillna(value = 259200)\n",
    "eventsInstallsVentCuatroRegressionSet['created'] = \\\n",
    "eventsInstallsVentCuatroRegressionSet['created'].fillna(value = 259200)\n",
    "eventsInstallsVentCincoRegressionSet['created'] = \\\n",
    "eventsInstallsVentCincoRegressionSet['created'].fillna(value = 259200)\n",
    "eventsInstallsVentSeisRegressionSet['created'] = \\\n",
    "eventsInstallsVentSeisRegressionSet['created'].fillna(value = 259200)\n",
    "eventsInstallsVentSieteRegressionSet['created'] = \\\n",
    "eventsInstallsVentSieteRegressionSet['created'].fillna(value = 259200)\n"
   ]
  },
  {
   "cell_type": "code",
   "execution_count": 315,
   "metadata": {},
   "outputs": [
    {
     "data": {
      "text/html": [
       "<div>\n",
       "<style scoped>\n",
       "    .dataframe tbody tr th:only-of-type {\n",
       "        vertical-align: middle;\n",
       "    }\n",
       "\n",
       "    .dataframe tbody tr th {\n",
       "        vertical-align: top;\n",
       "    }\n",
       "\n",
       "    .dataframe thead th {\n",
       "        text-align: right;\n",
       "    }\n",
       "</style>\n",
       "<table border=\"1\" class=\"dataframe\">\n",
       "  <thead>\n",
       "    <tr style=\"text-align: right;\">\n",
       "      <th></th>\n",
       "      <th>ref_hash</th>\n",
       "      <th>cantidad_events</th>\n",
       "      <th>created</th>\n",
       "      <th>wifi_promedio_inst</th>\n",
       "      <th>cantidad_installs</th>\n",
       "    </tr>\n",
       "  </thead>\n",
       "  <tbody>\n",
       "    <tr>\n",
       "      <th>0</th>\n",
       "      <td>41863526108385</td>\n",
       "      <td>88.0</td>\n",
       "      <td>76310.326</td>\n",
       "      <td>0.0</td>\n",
       "      <td>2.0</td>\n",
       "    </tr>\n",
       "    <tr>\n",
       "      <th>1</th>\n",
       "      <td>161514654074162</td>\n",
       "      <td>8.0</td>\n",
       "      <td>259200.000</td>\n",
       "      <td>0.0</td>\n",
       "      <td>0.0</td>\n",
       "    </tr>\n",
       "    <tr>\n",
       "      <th>2</th>\n",
       "      <td>186034136943920</td>\n",
       "      <td>13.0</td>\n",
       "      <td>60042.839</td>\n",
       "      <td>0.0</td>\n",
       "      <td>1.0</td>\n",
       "    </tr>\n",
       "    <tr>\n",
       "      <th>3</th>\n",
       "      <td>360710529886978</td>\n",
       "      <td>3.0</td>\n",
       "      <td>259200.000</td>\n",
       "      <td>0.0</td>\n",
       "      <td>0.0</td>\n",
       "    </tr>\n",
       "    <tr>\n",
       "      <th>4</th>\n",
       "      <td>365882020742330</td>\n",
       "      <td>57.0</td>\n",
       "      <td>96156.508</td>\n",
       "      <td>0.0</td>\n",
       "      <td>1.0</td>\n",
       "    </tr>\n",
       "  </tbody>\n",
       "</table>\n",
       "</div>"
      ],
      "text/plain": [
       "          ref_hash  cantidad_events     created  wifi_promedio_inst  \\\n",
       "0   41863526108385             88.0   76310.326                 0.0   \n",
       "1  161514654074162              8.0  259200.000                 0.0   \n",
       "2  186034136943920             13.0   60042.839                 0.0   \n",
       "3  360710529886978              3.0  259200.000                 0.0   \n",
       "4  365882020742330             57.0   96156.508                 0.0   \n",
       "\n",
       "   cantidad_installs  \n",
       "0                2.0  \n",
       "1                0.0  \n",
       "2                1.0  \n",
       "3                0.0  \n",
       "4                1.0  "
      ]
     },
     "execution_count": 315,
     "metadata": {},
     "output_type": "execute_result"
    }
   ],
   "source": [
    "eventsInstallsVentUnoRegressionSet.head()"
   ]
  },
  {
   "cell_type": "code",
   "execution_count": 316,
   "metadata": {},
   "outputs": [],
   "source": [
    "eventsInstallsVentUnoRegressionSet.columns = ['ref_hash','events_v1', 'date_v1', 'wifi_v1', 'installs_v1']\n",
    "eventsInstallsVentDosRegressionSet.columns = ['ref_hash','events_v2', 'date_v2', 'wifi_v2', 'installs_v2']\n",
    "eventsInstallsVentTresRegressionSet.columns = ['ref_hash','events_v3', 'date_v3', 'wifi_v3', 'installs_v3']\n",
    "eventsInstallsVentCuatroRegressionSet.columns = ['ref_hash','events_v4', 'date_v4', 'wifi_v4', 'installs_v4']\n",
    "eventsInstallsVentCincoRegressionSet.columns = ['ref_hash','events_v5', 'date_v5', 'wifi_v5', 'installs_v5']\n",
    "eventsInstallsVentSeisRegressionSet.columns = ['ref_hash','events_v6', 'date_v6', 'wifi_v6', 'installs_v6']\n",
    "eventsInstallsVentSieteRegressionSet.columns = ['ref_hash','events_v7', 'date_v7', 'wifi_v7', 'installs_v7']"
   ]
  },
  {
   "cell_type": "code",
   "execution_count": 476,
   "metadata": {},
   "outputs": [],
   "source": [
    "eventsInstallsVentUnoRegressionSet.to_csv('eventsInstalls_set1.csv', encoding = 'utf_8', index=False)\n",
    "eventsInstallsVentDosRegressionSet.to_csv('eventsInstalls_set2.csv', encoding = 'utf_8', index=False)\n",
    "eventsInstallsVentTresRegressionSet.to_csv('eventsInstalls_set3.csv', encoding = 'utf_8', index=False)\n",
    "eventsInstallsVentCuatroRegressionSet.to_csv('eventsInstalls_set4.csv', encoding = 'utf_8', index=False)\n",
    "eventsInstallsVentCincoRegressionSet.to_csv('eventsInstalls_set5.csv', encoding = 'utf_8', index=False)\n",
    "eventsInstallsVentSeisRegressionSet.to_csv('eventsInstalls_set6.csv', encoding = 'utf_8', index=False)\n",
    "eventsInstallsVentSieteRegressionSet.to_csv('eventsInstalls_set7.csv', encoding = 'utf_8', index=False)"
   ]
  },
  {
   "cell_type": "code",
   "execution_count": 317,
   "metadata": {},
   "outputs": [
    {
     "data": {
      "text/html": [
       "<div>\n",
       "<style scoped>\n",
       "    .dataframe tbody tr th:only-of-type {\n",
       "        vertical-align: middle;\n",
       "    }\n",
       "\n",
       "    .dataframe tbody tr th {\n",
       "        vertical-align: top;\n",
       "    }\n",
       "\n",
       "    .dataframe thead th {\n",
       "        text-align: right;\n",
       "    }\n",
       "</style>\n",
       "<table border=\"1\" class=\"dataframe\">\n",
       "  <thead>\n",
       "    <tr style=\"text-align: right;\">\n",
       "      <th></th>\n",
       "      <th>ref_hash</th>\n",
       "      <th>events_v1</th>\n",
       "      <th>date_v1</th>\n",
       "      <th>wifi_v1</th>\n",
       "      <th>installs_v1</th>\n",
       "    </tr>\n",
       "  </thead>\n",
       "  <tbody>\n",
       "    <tr>\n",
       "      <th>0</th>\n",
       "      <td>41863526108385</td>\n",
       "      <td>88.0</td>\n",
       "      <td>76310.326</td>\n",
       "      <td>0.0</td>\n",
       "      <td>2.0</td>\n",
       "    </tr>\n",
       "    <tr>\n",
       "      <th>1</th>\n",
       "      <td>161514654074162</td>\n",
       "      <td>8.0</td>\n",
       "      <td>259200.000</td>\n",
       "      <td>0.0</td>\n",
       "      <td>0.0</td>\n",
       "    </tr>\n",
       "  </tbody>\n",
       "</table>\n",
       "</div>"
      ],
      "text/plain": [
       "          ref_hash  events_v1     date_v1  wifi_v1  installs_v1\n",
       "0   41863526108385       88.0   76310.326      0.0          2.0\n",
       "1  161514654074162        8.0  259200.000      0.0          0.0"
      ]
     },
     "execution_count": 317,
     "metadata": {},
     "output_type": "execute_result"
    }
   ],
   "source": [
    "eventsInstallsVentUnoRegressionSet.head(2)"
   ]
  },
  {
   "cell_type": "code",
   "execution_count": 318,
   "metadata": {},
   "outputs": [],
   "source": [
    "installsV_1_2_3 = pd.merge(eventsInstallsVentUnoRegressionSet, eventsInstallsVentDosRegressionSet, \\\n",
    "                           on = 'ref_hash', how = 'outer')"
   ]
  },
  {
   "cell_type": "code",
   "execution_count": 319,
   "metadata": {},
   "outputs": [],
   "source": [
    "installsV_1_2_3 = pd.merge(installsV_1_2_3, eventsInstallsVentTresRegressionSet, \\\n",
    "                           on = 'ref_hash', how = 'outer')"
   ]
  },
  {
   "cell_type": "markdown",
   "metadata": {},
   "source": [
    "### Ahora para predecir el target"
   ]
  },
  {
   "cell_type": "code",
   "execution_count": 320,
   "metadata": {},
   "outputs": [],
   "source": [
    "installsV_5_6_7 = pd.merge(eventsInstallsVentCincoRegressionSet, eventsInstallsVentSeisRegressionSet, \\\n",
    "                           on = 'ref_hash', how = 'outer')"
   ]
  },
  {
   "cell_type": "code",
   "execution_count": 321,
   "metadata": {},
   "outputs": [],
   "source": [
    "installsV_5_6_7 = pd.merge(installsV_5_6_7, eventsInstallsVentSieteRegressionSet, \\\n",
    "                           on = 'ref_hash', how = 'outer')"
   ]
  },
  {
   "cell_type": "code",
   "execution_count": 322,
   "metadata": {},
   "outputs": [
    {
     "data": {
      "text/html": [
       "<div>\n",
       "<style scoped>\n",
       "    .dataframe tbody tr th:only-of-type {\n",
       "        vertical-align: middle;\n",
       "    }\n",
       "\n",
       "    .dataframe tbody tr th {\n",
       "        vertical-align: top;\n",
       "    }\n",
       "\n",
       "    .dataframe thead th {\n",
       "        text-align: right;\n",
       "    }\n",
       "</style>\n",
       "<table border=\"1\" class=\"dataframe\">\n",
       "  <thead>\n",
       "    <tr style=\"text-align: right;\">\n",
       "      <th></th>\n",
       "      <th>ref_hash</th>\n",
       "      <th>events_v1</th>\n",
       "      <th>date_v1</th>\n",
       "      <th>wifi_v1</th>\n",
       "      <th>installs_v1</th>\n",
       "      <th>events_v2</th>\n",
       "      <th>date_v2</th>\n",
       "      <th>wifi_v2</th>\n",
       "      <th>installs_v2</th>\n",
       "      <th>events_v3</th>\n",
       "      <th>date_v3</th>\n",
       "      <th>wifi_v3</th>\n",
       "      <th>installs_v3</th>\n",
       "    </tr>\n",
       "  </thead>\n",
       "  <tbody>\n",
       "    <tr>\n",
       "      <th>0</th>\n",
       "      <td>41863526108385</td>\n",
       "      <td>88.0</td>\n",
       "      <td>76310.326</td>\n",
       "      <td>0.0</td>\n",
       "      <td>2.0</td>\n",
       "      <td>72.0</td>\n",
       "      <td>259200.0</td>\n",
       "      <td>0.0</td>\n",
       "      <td>0.0</td>\n",
       "      <td>51.0</td>\n",
       "      <td>259200.000</td>\n",
       "      <td>0.0</td>\n",
       "      <td>0.0</td>\n",
       "    </tr>\n",
       "    <tr>\n",
       "      <th>1</th>\n",
       "      <td>161514654074162</td>\n",
       "      <td>8.0</td>\n",
       "      <td>259200.000</td>\n",
       "      <td>0.0</td>\n",
       "      <td>0.0</td>\n",
       "      <td>8.0</td>\n",
       "      <td>259200.0</td>\n",
       "      <td>0.0</td>\n",
       "      <td>0.0</td>\n",
       "      <td>51.0</td>\n",
       "      <td>238424.805</td>\n",
       "      <td>1.0</td>\n",
       "      <td>1.0</td>\n",
       "    </tr>\n",
       "  </tbody>\n",
       "</table>\n",
       "</div>"
      ],
      "text/plain": [
       "          ref_hash  events_v1     date_v1  wifi_v1  installs_v1  events_v2  \\\n",
       "0   41863526108385       88.0   76310.326      0.0          2.0       72.0   \n",
       "1  161514654074162        8.0  259200.000      0.0          0.0        8.0   \n",
       "\n",
       "    date_v2  wifi_v2  installs_v2  events_v3     date_v3  wifi_v3  installs_v3  \n",
       "0  259200.0      0.0          0.0       51.0  259200.000      0.0          0.0  \n",
       "1  259200.0      0.0          0.0       51.0  238424.805      1.0          1.0  "
      ]
     },
     "execution_count": 322,
     "metadata": {},
     "output_type": "execute_result"
    }
   ],
   "source": [
    "installsV_1_2_3.head(2)"
   ]
  },
  {
   "cell_type": "code",
   "execution_count": 414,
   "metadata": {},
   "outputs": [],
   "source": [
    "targetInstallV_4 = eventsInstallsVentCuatroRegressionSet[['ref_hash', 'date_v4']]"
   ]
  },
  {
   "cell_type": "code",
   "execution_count": 323,
   "metadata": {},
   "outputs": [],
   "source": [
    "targetInstallV_6 = eventsInstallsVentSeisRegressionSet[['ref_hash', 'date_v6']]"
   ]
  },
  {
   "cell_type": "code",
   "execution_count": 478,
   "metadata": {},
   "outputs": [],
   "source": [
    "targetInstallV_7 = eventsInstallsVentSieteRegressionSet[['ref_hash', 'date_v7']]"
   ]
  },
  {
   "cell_type": "code",
   "execution_count": 324,
   "metadata": {},
   "outputs": [],
   "source": [
    "trainInstallsV_1_2_3_6 = pd.merge(installsV_1_2_3, targetInstallV_6, on = \"ref_hash\", how = \"left\")"
   ]
  },
  {
   "cell_type": "code",
   "execution_count": 325,
   "metadata": {},
   "outputs": [
    {
     "data": {
      "text/html": [
       "<div>\n",
       "<style scoped>\n",
       "    .dataframe tbody tr th:only-of-type {\n",
       "        vertical-align: middle;\n",
       "    }\n",
       "\n",
       "    .dataframe tbody tr th {\n",
       "        vertical-align: top;\n",
       "    }\n",
       "\n",
       "    .dataframe thead th {\n",
       "        text-align: right;\n",
       "    }\n",
       "</style>\n",
       "<table border=\"1\" class=\"dataframe\">\n",
       "  <thead>\n",
       "    <tr style=\"text-align: right;\">\n",
       "      <th></th>\n",
       "      <th>ref_hash</th>\n",
       "      <th>events_v1</th>\n",
       "      <th>date_v1</th>\n",
       "      <th>wifi_v1</th>\n",
       "      <th>installs_v1</th>\n",
       "      <th>events_v2</th>\n",
       "      <th>date_v2</th>\n",
       "      <th>wifi_v2</th>\n",
       "      <th>installs_v2</th>\n",
       "      <th>events_v3</th>\n",
       "      <th>date_v3</th>\n",
       "      <th>wifi_v3</th>\n",
       "      <th>installs_v3</th>\n",
       "      <th>date_v6</th>\n",
       "    </tr>\n",
       "  </thead>\n",
       "  <tbody>\n",
       "    <tr>\n",
       "      <th>0</th>\n",
       "      <td>41863526108385</td>\n",
       "      <td>88.0</td>\n",
       "      <td>76310.326</td>\n",
       "      <td>0.0</td>\n",
       "      <td>2.0</td>\n",
       "      <td>72.0</td>\n",
       "      <td>259200.0</td>\n",
       "      <td>0.0</td>\n",
       "      <td>0.0</td>\n",
       "      <td>51.0</td>\n",
       "      <td>259200.000</td>\n",
       "      <td>0.0</td>\n",
       "      <td>0.0</td>\n",
       "      <td>NaN</td>\n",
       "    </tr>\n",
       "    <tr>\n",
       "      <th>1</th>\n",
       "      <td>161514654074162</td>\n",
       "      <td>8.0</td>\n",
       "      <td>259200.000</td>\n",
       "      <td>0.0</td>\n",
       "      <td>0.0</td>\n",
       "      <td>8.0</td>\n",
       "      <td>259200.0</td>\n",
       "      <td>0.0</td>\n",
       "      <td>0.0</td>\n",
       "      <td>51.0</td>\n",
       "      <td>238424.805</td>\n",
       "      <td>1.0</td>\n",
       "      <td>1.0</td>\n",
       "      <td>259200.0</td>\n",
       "    </tr>\n",
       "  </tbody>\n",
       "</table>\n",
       "</div>"
      ],
      "text/plain": [
       "          ref_hash  events_v1     date_v1  wifi_v1  installs_v1  events_v2  \\\n",
       "0   41863526108385       88.0   76310.326      0.0          2.0       72.0   \n",
       "1  161514654074162        8.0  259200.000      0.0          0.0        8.0   \n",
       "\n",
       "    date_v2  wifi_v2  installs_v2  events_v3     date_v3  wifi_v3  \\\n",
       "0  259200.0      0.0          0.0       51.0  259200.000      0.0   \n",
       "1  259200.0      0.0          0.0       51.0  238424.805      1.0   \n",
       "\n",
       "   installs_v3   date_v6  \n",
       "0          0.0       NaN  \n",
       "1          1.0  259200.0  "
      ]
     },
     "execution_count": 325,
     "metadata": {},
     "output_type": "execute_result"
    }
   ],
   "source": [
    "trainInstallsV_1_2_3_6.head(2)"
   ]
  },
  {
   "cell_type": "code",
   "execution_count": 326,
   "metadata": {},
   "outputs": [],
   "source": [
    "trainInstallsV_1_2_3_6[['date_v1', 'date_v2', 'date_v3', 'date_v6']] = \\\n",
    "trainInstallsV_1_2_3_6[['date_v1', 'date_v2', 'date_v3', 'date_v6']].fillna(value = 259200)"
   ]
  },
  {
   "cell_type": "code",
   "execution_count": 327,
   "metadata": {},
   "outputs": [],
   "source": [
    "trainInstallsV_1_2_3_6[['installs_v1', 'installs_v2', 'installs_v3']] = \\\n",
    "trainInstallsV_1_2_3_6[['installs_v1', 'installs_v2', 'installs_v3']].fillna(value = 0)"
   ]
  },
  {
   "cell_type": "code",
   "execution_count": 333,
   "metadata": {},
   "outputs": [],
   "source": [
    "trainInstallsV_1_2_3_6[['wifi_v1', 'wifi_v2', 'wifi_v3']] = \\\n",
    "trainInstallsV_1_2_3_6[['wifi_v1', 'wifi_v2', 'wifi_v3']].fillna(value = 0)"
   ]
  },
  {
   "cell_type": "code",
   "execution_count": 328,
   "metadata": {},
   "outputs": [],
   "source": [
    "trainInstallsV_1_2_3_6[['events_v1', 'events_v2', 'events_v3']] = \\\n",
    "trainInstallsV_1_2_3_6[['events_v1', 'events_v2', 'events_v3']].fillna(value = 0)"
   ]
  },
  {
   "cell_type": "code",
   "execution_count": 477,
   "metadata": {},
   "outputs": [
    {
     "data": {
      "text/html": [
       "<div>\n",
       "<style scoped>\n",
       "    .dataframe tbody tr th:only-of-type {\n",
       "        vertical-align: middle;\n",
       "    }\n",
       "\n",
       "    .dataframe tbody tr th {\n",
       "        vertical-align: top;\n",
       "    }\n",
       "\n",
       "    .dataframe thead th {\n",
       "        text-align: right;\n",
       "    }\n",
       "</style>\n",
       "<table border=\"1\" class=\"dataframe\">\n",
       "  <thead>\n",
       "    <tr style=\"text-align: right;\">\n",
       "      <th></th>\n",
       "      <th>ref_hash</th>\n",
       "      <th>events_v1</th>\n",
       "      <th>date_v1</th>\n",
       "      <th>wifi_v1</th>\n",
       "      <th>installs_v1</th>\n",
       "      <th>events_v2</th>\n",
       "      <th>date_v2</th>\n",
       "      <th>wifi_v2</th>\n",
       "      <th>installs_v2</th>\n",
       "      <th>events_v3</th>\n",
       "      <th>date_v3</th>\n",
       "      <th>wifi_v3</th>\n",
       "      <th>installs_v3</th>\n",
       "      <th>date_v6</th>\n",
       "    </tr>\n",
       "  </thead>\n",
       "  <tbody>\n",
       "    <tr>\n",
       "      <th>0</th>\n",
       "      <td>41863526108385</td>\n",
       "      <td>88.0</td>\n",
       "      <td>76310.326</td>\n",
       "      <td>0.0</td>\n",
       "      <td>2.0</td>\n",
       "      <td>72.0</td>\n",
       "      <td>259200.000</td>\n",
       "      <td>0.0</td>\n",
       "      <td>0.0</td>\n",
       "      <td>51.0</td>\n",
       "      <td>259200.000</td>\n",
       "      <td>0.0</td>\n",
       "      <td>0.0</td>\n",
       "      <td>259200.0</td>\n",
       "    </tr>\n",
       "    <tr>\n",
       "      <th>1</th>\n",
       "      <td>161514654074162</td>\n",
       "      <td>8.0</td>\n",
       "      <td>259200.000</td>\n",
       "      <td>0.0</td>\n",
       "      <td>0.0</td>\n",
       "      <td>8.0</td>\n",
       "      <td>259200.000</td>\n",
       "      <td>0.0</td>\n",
       "      <td>0.0</td>\n",
       "      <td>51.0</td>\n",
       "      <td>238424.805</td>\n",
       "      <td>1.0</td>\n",
       "      <td>1.0</td>\n",
       "      <td>259200.0</td>\n",
       "    </tr>\n",
       "    <tr>\n",
       "      <th>2</th>\n",
       "      <td>186034136943920</td>\n",
       "      <td>13.0</td>\n",
       "      <td>60042.839</td>\n",
       "      <td>0.0</td>\n",
       "      <td>1.0</td>\n",
       "      <td>0.0</td>\n",
       "      <td>259200.000</td>\n",
       "      <td>0.0</td>\n",
       "      <td>0.0</td>\n",
       "      <td>28.0</td>\n",
       "      <td>259200.000</td>\n",
       "      <td>0.0</td>\n",
       "      <td>0.0</td>\n",
       "      <td>259200.0</td>\n",
       "    </tr>\n",
       "    <tr>\n",
       "      <th>3</th>\n",
       "      <td>360710529886978</td>\n",
       "      <td>3.0</td>\n",
       "      <td>259200.000</td>\n",
       "      <td>0.0</td>\n",
       "      <td>0.0</td>\n",
       "      <td>4.0</td>\n",
       "      <td>259200.000</td>\n",
       "      <td>0.0</td>\n",
       "      <td>0.0</td>\n",
       "      <td>5.0</td>\n",
       "      <td>259200.000</td>\n",
       "      <td>0.0</td>\n",
       "      <td>0.0</td>\n",
       "      <td>259200.0</td>\n",
       "    </tr>\n",
       "    <tr>\n",
       "      <th>4</th>\n",
       "      <td>365882020742330</td>\n",
       "      <td>57.0</td>\n",
       "      <td>96156.508</td>\n",
       "      <td>0.0</td>\n",
       "      <td>1.0</td>\n",
       "      <td>65.0</td>\n",
       "      <td>9756.508</td>\n",
       "      <td>0.0</td>\n",
       "      <td>1.0</td>\n",
       "      <td>41.0</td>\n",
       "      <td>259200.000</td>\n",
       "      <td>0.0</td>\n",
       "      <td>0.0</td>\n",
       "      <td>259200.0</td>\n",
       "    </tr>\n",
       "    <tr>\n",
       "      <th>5</th>\n",
       "      <td>475635010681369</td>\n",
       "      <td>17.0</td>\n",
       "      <td>259200.000</td>\n",
       "      <td>0.0</td>\n",
       "      <td>0.0</td>\n",
       "      <td>35.0</td>\n",
       "      <td>253871.662</td>\n",
       "      <td>1.0</td>\n",
       "      <td>1.0</td>\n",
       "      <td>26.0</td>\n",
       "      <td>167471.662</td>\n",
       "      <td>1.0</td>\n",
       "      <td>1.0</td>\n",
       "      <td>259200.0</td>\n",
       "    </tr>\n",
       "    <tr>\n",
       "      <th>6</th>\n",
       "      <td>501790157110512</td>\n",
       "      <td>2.0</td>\n",
       "      <td>259200.000</td>\n",
       "      <td>0.0</td>\n",
       "      <td>0.0</td>\n",
       "      <td>1.0</td>\n",
       "      <td>259200.000</td>\n",
       "      <td>0.0</td>\n",
       "      <td>0.0</td>\n",
       "      <td>1.0</td>\n",
       "      <td>259200.000</td>\n",
       "      <td>0.0</td>\n",
       "      <td>0.0</td>\n",
       "      <td>259200.0</td>\n",
       "    </tr>\n",
       "    <tr>\n",
       "      <th>7</th>\n",
       "      <td>519199987760489</td>\n",
       "      <td>2.0</td>\n",
       "      <td>92860.475</td>\n",
       "      <td>1.0</td>\n",
       "      <td>1.0</td>\n",
       "      <td>2.0</td>\n",
       "      <td>6460.475</td>\n",
       "      <td>1.0</td>\n",
       "      <td>1.0</td>\n",
       "      <td>0.0</td>\n",
       "      <td>259200.000</td>\n",
       "      <td>0.0</td>\n",
       "      <td>0.0</td>\n",
       "      <td>259200.0</td>\n",
       "    </tr>\n",
       "    <tr>\n",
       "      <th>8</th>\n",
       "      <td>558877640599287</td>\n",
       "      <td>1.0</td>\n",
       "      <td>65400.392</td>\n",
       "      <td>1.0</td>\n",
       "      <td>1.0</td>\n",
       "      <td>0.0</td>\n",
       "      <td>259200.000</td>\n",
       "      <td>0.0</td>\n",
       "      <td>0.0</td>\n",
       "      <td>0.0</td>\n",
       "      <td>259200.000</td>\n",
       "      <td>0.0</td>\n",
       "      <td>0.0</td>\n",
       "      <td>259200.0</td>\n",
       "    </tr>\n",
       "    <tr>\n",
       "      <th>9</th>\n",
       "      <td>643594200494946</td>\n",
       "      <td>7.0</td>\n",
       "      <td>259200.000</td>\n",
       "      <td>0.0</td>\n",
       "      <td>0.0</td>\n",
       "      <td>4.0</td>\n",
       "      <td>259200.000</td>\n",
       "      <td>0.0</td>\n",
       "      <td>0.0</td>\n",
       "      <td>2.0</td>\n",
       "      <td>259200.000</td>\n",
       "      <td>0.0</td>\n",
       "      <td>0.0</td>\n",
       "      <td>259200.0</td>\n",
       "    </tr>\n",
       "  </tbody>\n",
       "</table>\n",
       "</div>"
      ],
      "text/plain": [
       "          ref_hash  events_v1     date_v1  wifi_v1  installs_v1  events_v2  \\\n",
       "0   41863526108385       88.0   76310.326      0.0          2.0       72.0   \n",
       "1  161514654074162        8.0  259200.000      0.0          0.0        8.0   \n",
       "2  186034136943920       13.0   60042.839      0.0          1.0        0.0   \n",
       "3  360710529886978        3.0  259200.000      0.0          0.0        4.0   \n",
       "4  365882020742330       57.0   96156.508      0.0          1.0       65.0   \n",
       "5  475635010681369       17.0  259200.000      0.0          0.0       35.0   \n",
       "6  501790157110512        2.0  259200.000      0.0          0.0        1.0   \n",
       "7  519199987760489        2.0   92860.475      1.0          1.0        2.0   \n",
       "8  558877640599287        1.0   65400.392      1.0          1.0        0.0   \n",
       "9  643594200494946        7.0  259200.000      0.0          0.0        4.0   \n",
       "\n",
       "      date_v2  wifi_v2  installs_v2  events_v3     date_v3  wifi_v3  \\\n",
       "0  259200.000      0.0          0.0       51.0  259200.000      0.0   \n",
       "1  259200.000      0.0          0.0       51.0  238424.805      1.0   \n",
       "2  259200.000      0.0          0.0       28.0  259200.000      0.0   \n",
       "3  259200.000      0.0          0.0        5.0  259200.000      0.0   \n",
       "4    9756.508      0.0          1.0       41.0  259200.000      0.0   \n",
       "5  253871.662      1.0          1.0       26.0  167471.662      1.0   \n",
       "6  259200.000      0.0          0.0        1.0  259200.000      0.0   \n",
       "7    6460.475      1.0          1.0        0.0  259200.000      0.0   \n",
       "8  259200.000      0.0          0.0        0.0  259200.000      0.0   \n",
       "9  259200.000      0.0          0.0        2.0  259200.000      0.0   \n",
       "\n",
       "   installs_v3   date_v6  \n",
       "0          0.0  259200.0  \n",
       "1          1.0  259200.0  \n",
       "2          0.0  259200.0  \n",
       "3          0.0  259200.0  \n",
       "4          0.0  259200.0  \n",
       "5          1.0  259200.0  \n",
       "6          0.0  259200.0  \n",
       "7          0.0  259200.0  \n",
       "8          0.0  259200.0  \n",
       "9          0.0  259200.0  "
      ]
     },
     "execution_count": 477,
     "metadata": {},
     "output_type": "execute_result"
    }
   ],
   "source": [
    "trainInstallsV_1_2_3_6.head(10)"
   ]
  },
  {
   "cell_type": "code",
   "execution_count": 415,
   "metadata": {},
   "outputs": [],
   "source": [
    "trainInstallsV_1_4 = pd.merge(eventsInstallsVentUnoRegressionSet, targetInstallV_4, on = 'ref_hash', how = 'left')"
   ]
  },
  {
   "cell_type": "code",
   "execution_count": 416,
   "metadata": {},
   "outputs": [
    {
     "data": {
      "text/html": [
       "<div>\n",
       "<style scoped>\n",
       "    .dataframe tbody tr th:only-of-type {\n",
       "        vertical-align: middle;\n",
       "    }\n",
       "\n",
       "    .dataframe tbody tr th {\n",
       "        vertical-align: top;\n",
       "    }\n",
       "\n",
       "    .dataframe thead th {\n",
       "        text-align: right;\n",
       "    }\n",
       "</style>\n",
       "<table border=\"1\" class=\"dataframe\">\n",
       "  <thead>\n",
       "    <tr style=\"text-align: right;\">\n",
       "      <th></th>\n",
       "      <th>ref_hash</th>\n",
       "      <th>events_v1</th>\n",
       "      <th>date_v1</th>\n",
       "      <th>wifi_v1</th>\n",
       "      <th>installs_v1</th>\n",
       "      <th>date_v4</th>\n",
       "    </tr>\n",
       "  </thead>\n",
       "  <tbody>\n",
       "    <tr>\n",
       "      <th>0</th>\n",
       "      <td>41863526108385</td>\n",
       "      <td>88.0</td>\n",
       "      <td>76310.326</td>\n",
       "      <td>0.0</td>\n",
       "      <td>2.0</td>\n",
       "      <td>259200.000</td>\n",
       "    </tr>\n",
       "    <tr>\n",
       "      <th>1</th>\n",
       "      <td>161514654074162</td>\n",
       "      <td>8.0</td>\n",
       "      <td>259200.000</td>\n",
       "      <td>0.0</td>\n",
       "      <td>0.0</td>\n",
       "      <td>152024.805</td>\n",
       "    </tr>\n",
       "    <tr>\n",
       "      <th>2</th>\n",
       "      <td>186034136943920</td>\n",
       "      <td>13.0</td>\n",
       "      <td>60042.839</td>\n",
       "      <td>0.0</td>\n",
       "      <td>1.0</td>\n",
       "      <td>259200.000</td>\n",
       "    </tr>\n",
       "  </tbody>\n",
       "</table>\n",
       "</div>"
      ],
      "text/plain": [
       "          ref_hash  events_v1     date_v1  wifi_v1  installs_v1     date_v4\n",
       "0   41863526108385       88.0   76310.326      0.0          2.0  259200.000\n",
       "1  161514654074162        8.0  259200.000      0.0          0.0  152024.805\n",
       "2  186034136943920       13.0   60042.839      0.0          1.0  259200.000"
      ]
     },
     "execution_count": 416,
     "metadata": {},
     "output_type": "execute_result"
    }
   ],
   "source": [
    "trainInstallsV_1_4.head(3)"
   ]
  },
  {
   "cell_type": "code",
   "execution_count": 417,
   "metadata": {},
   "outputs": [],
   "source": [
    "trainInstallsV_1_4['date_v4'] = trainInstallsV_1_4['date_v4'].fillna(value = 259200)"
   ]
  },
  {
   "cell_type": "code",
   "execution_count": 418,
   "metadata": {},
   "outputs": [
    {
     "data": {
      "text/plain": [
       "ref_hash       207964\n",
       "events_v1      207964\n",
       "date_v1        207964\n",
       "wifi_v1        207964\n",
       "installs_v1    207964\n",
       "date_v4        207964\n",
       "dtype: int64"
      ]
     },
     "execution_count": 418,
     "metadata": {},
     "output_type": "execute_result"
    }
   ],
   "source": [
    "trainInstallsV_1_4.count()"
   ]
  },
  {
   "cell_type": "markdown",
   "metadata": {},
   "source": [
    "### para el target"
   ]
  },
  {
   "cell_type": "code",
   "execution_count": 329,
   "metadata": {},
   "outputs": [],
   "source": [
    "installsV_5_6_7[['date_v5', 'date_v6', 'date_v7']] = \\\n",
    "installsV_5_6_7[['date_v5', 'date_v6', 'date_v7']].fillna(value = 259200)"
   ]
  },
  {
   "cell_type": "code",
   "execution_count": 330,
   "metadata": {},
   "outputs": [],
   "source": [
    "installsV_5_6_7[['installs_v5', 'installs_v6', 'installs_v7']] = \\\n",
    "installsV_5_6_7[['installs_v5', 'installs_v6', 'installs_v7']].fillna(value = 0)"
   ]
  },
  {
   "cell_type": "code",
   "execution_count": 331,
   "metadata": {},
   "outputs": [],
   "source": [
    "installsV_5_6_7[['events_v5', 'events_v6', 'events_v7']] = \\\n",
    "installsV_5_6_7[['events_v5', 'events_v6', 'events_v7']].fillna(value = 0)"
   ]
  },
  {
   "cell_type": "code",
   "execution_count": 334,
   "metadata": {},
   "outputs": [],
   "source": [
    "installsV_5_6_7[['wifi_v5', 'wifi_v6', 'wifi_v7']] = \\\n",
    "installsV_5_6_7[['wifi_v5', 'wifi_v6', 'wifi_v7']].fillna(value = 0)"
   ]
  },
  {
   "cell_type": "code",
   "execution_count": null,
   "metadata": {},
   "outputs": [],
   "source": []
  },
  {
   "cell_type": "code",
   "execution_count": 335,
   "metadata": {},
   "outputs": [
    {
     "data": {
      "text/html": [
       "<div>\n",
       "<style scoped>\n",
       "    .dataframe tbody tr th:only-of-type {\n",
       "        vertical-align: middle;\n",
       "    }\n",
       "\n",
       "    .dataframe tbody tr th {\n",
       "        vertical-align: top;\n",
       "    }\n",
       "\n",
       "    .dataframe thead th {\n",
       "        text-align: right;\n",
       "    }\n",
       "</style>\n",
       "<table border=\"1\" class=\"dataframe\">\n",
       "  <thead>\n",
       "    <tr style=\"text-align: right;\">\n",
       "      <th></th>\n",
       "      <th>ref_hash</th>\n",
       "      <th>events_v5</th>\n",
       "      <th>date_v5</th>\n",
       "      <th>wifi_v5</th>\n",
       "      <th>installs_v5</th>\n",
       "      <th>events_v6</th>\n",
       "      <th>date_v6</th>\n",
       "      <th>wifi_v6</th>\n",
       "      <th>installs_v6</th>\n",
       "      <th>events_v7</th>\n",
       "      <th>date_v7</th>\n",
       "      <th>wifi_v7</th>\n",
       "      <th>installs_v7</th>\n",
       "    </tr>\n",
       "  </thead>\n",
       "  <tbody>\n",
       "    <tr>\n",
       "      <th>0</th>\n",
       "      <td>40621409780134</td>\n",
       "      <td>3.0</td>\n",
       "      <td>259200.0</td>\n",
       "      <td>0.0</td>\n",
       "      <td>0.0</td>\n",
       "      <td>3.0</td>\n",
       "      <td>259200.0</td>\n",
       "      <td>0.0</td>\n",
       "      <td>0.0</td>\n",
       "      <td>0.0</td>\n",
       "      <td>259200.0</td>\n",
       "      <td>0.0</td>\n",
       "      <td>0.0</td>\n",
       "    </tr>\n",
       "    <tr>\n",
       "      <th>1</th>\n",
       "      <td>69039685746313</td>\n",
       "      <td>4.0</td>\n",
       "      <td>259200.0</td>\n",
       "      <td>0.0</td>\n",
       "      <td>0.0</td>\n",
       "      <td>6.0</td>\n",
       "      <td>259200.0</td>\n",
       "      <td>0.0</td>\n",
       "      <td>0.0</td>\n",
       "      <td>16.0</td>\n",
       "      <td>259200.0</td>\n",
       "      <td>0.0</td>\n",
       "      <td>0.0</td>\n",
       "    </tr>\n",
       "  </tbody>\n",
       "</table>\n",
       "</div>"
      ],
      "text/plain": [
       "         ref_hash  events_v5   date_v5  wifi_v5  installs_v5  events_v6  \\\n",
       "0  40621409780134        3.0  259200.0      0.0          0.0        3.0   \n",
       "1  69039685746313        4.0  259200.0      0.0          0.0        6.0   \n",
       "\n",
       "    date_v6  wifi_v6  installs_v6  events_v7   date_v7  wifi_v7  installs_v7  \n",
       "0  259200.0      0.0          0.0        0.0  259200.0      0.0          0.0  \n",
       "1  259200.0      0.0          0.0       16.0  259200.0      0.0          0.0  "
      ]
     },
     "execution_count": 335,
     "metadata": {},
     "output_type": "execute_result"
    }
   ],
   "source": [
    "installsV_5_6_7.head(2)"
   ]
  },
  {
   "cell_type": "markdown",
   "metadata": {},
   "source": [
    "### Dejamos el id afuera"
   ]
  },
  {
   "cell_type": "code",
   "execution_count": 338,
   "metadata": {},
   "outputs": [],
   "source": [
    "trainInstallsV_1_2_3_6sinId = trainInstallsV_1_2_3_6.drop(columns = ['ref_hash'])"
   ]
  },
  {
   "cell_type": "code",
   "execution_count": 339,
   "metadata": {},
   "outputs": [],
   "source": [
    "installsV_5_6_7sinId = installsV_5_6_7.drop(columns = ['ref_hash'])"
   ]
  },
  {
   "cell_type": "code",
   "execution_count": 419,
   "metadata": {},
   "outputs": [],
   "source": [
    "trainInstallsV_1_4sinId = trainInstallsV_1_4.drop(columns = ['ref_hash'])"
   ]
  },
  {
   "cell_type": "code",
   "execution_count": null,
   "metadata": {},
   "outputs": [],
   "source": []
  },
  {
   "cell_type": "markdown",
   "metadata": {},
   "source": [
    "### usamos el fit de n para n+3"
   ]
  },
  {
   "cell_type": "code",
   "execution_count": 480,
   "metadata": {},
   "outputs": [],
   "source": [
    "arrayInstallV_7 = eventsInstallsVentSieteRegressionSet.drop(columns = ['ref_hash'])"
   ]
  },
  {
   "cell_type": "code",
   "execution_count": 481,
   "metadata": {},
   "outputs": [
    {
     "data": {
      "text/html": [
       "<div>\n",
       "<style scoped>\n",
       "    .dataframe tbody tr th:only-of-type {\n",
       "        vertical-align: middle;\n",
       "    }\n",
       "\n",
       "    .dataframe tbody tr th {\n",
       "        vertical-align: top;\n",
       "    }\n",
       "\n",
       "    .dataframe thead th {\n",
       "        text-align: right;\n",
       "    }\n",
       "</style>\n",
       "<table border=\"1\" class=\"dataframe\">\n",
       "  <thead>\n",
       "    <tr style=\"text-align: right;\">\n",
       "      <th></th>\n",
       "      <th>events_v7</th>\n",
       "      <th>date_v7</th>\n",
       "      <th>wifi_v7</th>\n",
       "      <th>installs_v7</th>\n",
       "    </tr>\n",
       "  </thead>\n",
       "  <tbody>\n",
       "    <tr>\n",
       "      <th>0</th>\n",
       "      <td>57.0</td>\n",
       "      <td>259200.0</td>\n",
       "      <td>0.0</td>\n",
       "      <td>0.0</td>\n",
       "    </tr>\n",
       "    <tr>\n",
       "      <th>1</th>\n",
       "      <td>16.0</td>\n",
       "      <td>259200.0</td>\n",
       "      <td>0.0</td>\n",
       "      <td>0.0</td>\n",
       "    </tr>\n",
       "  </tbody>\n",
       "</table>\n",
       "</div>"
      ],
      "text/plain": [
       "   events_v7   date_v7  wifi_v7  installs_v7\n",
       "0       57.0  259200.0      0.0          0.0\n",
       "1       16.0  259200.0      0.0          0.0"
      ]
     },
     "execution_count": 481,
     "metadata": {},
     "output_type": "execute_result"
    }
   ],
   "source": [
    "arrayInstallV_7.head(2)"
   ]
  },
  {
   "cell_type": "code",
   "execution_count": 482,
   "metadata": {},
   "outputs": [],
   "source": [
    "arrayInstallV_7 = arrayInstallV_7.values"
   ]
  },
  {
   "cell_type": "markdown",
   "metadata": {},
   "source": [
    "### Forma NumPy"
   ]
  },
  {
   "cell_type": "code",
   "execution_count": 340,
   "metadata": {},
   "outputs": [],
   "source": [
    "arraytrainInstallsV_1_2_3_6sinId = trainInstallsV_1_2_3_6sinId.values"
   ]
  },
  {
   "cell_type": "code",
   "execution_count": 420,
   "metadata": {},
   "outputs": [],
   "source": [
    "arraytrainInstallsV_1_4sinId = trainInstallsV_1_4sinId.values"
   ]
  },
  {
   "cell_type": "markdown",
   "metadata": {},
   "source": [
    "### Misma forma para el que necesitamos para predecir el target"
   ]
  },
  {
   "cell_type": "code",
   "execution_count": 341,
   "metadata": {},
   "outputs": [],
   "source": [
    "X_arrayinstallsV_5_6_7sinId = installsV_5_6_7sinId.values"
   ]
  },
  {
   "cell_type": "code",
   "execution_count": 342,
   "metadata": {},
   "outputs": [],
   "source": [
    "X_arraytrainInstallsV_1_2_3_6sinId = arraytrainInstallsV_1_2_3_6sinId[:, :-1]\n",
    "y_arraytrainInstallsV_1_2_3_6sinId = arraytrainInstallsV_1_2_3_6sinId[:, -1]"
   ]
  },
  {
   "cell_type": "code",
   "execution_count": 421,
   "metadata": {},
   "outputs": [],
   "source": [
    "X_arraytrainInstallsV_1_4sinId = arraytrainInstallsV_1_4sinId[:, :-1]\n",
    "y_arraytrainInstallsV_1_4sinId = arraytrainInstallsV_1_4sinId[:, -1]"
   ]
  },
  {
   "cell_type": "code",
   "execution_count": 343,
   "metadata": {},
   "outputs": [],
   "source": [
    "X_train, X_test, y_train, y_test = train_test_split(X_arraytrainInstallsV_1_2_3_6sinId,\\\n",
    "                                                   y_arraytrainInstallsV_1_2_3_6sinId, test_size=0.2, random_state=42)"
   ]
  },
  {
   "cell_type": "code",
   "execution_count": 483,
   "metadata": {},
   "outputs": [],
   "source": [
    "X_train, X_test, y_train, y_test = train_test_split(X_arraytrainInstallsV_1_4sinId,\\\n",
    "                                                   y_arraytrainInstallsV_1_4sinId, test_size=0.2, random_state=42)"
   ]
  },
  {
   "cell_type": "markdown",
   "metadata": {},
   "source": [
    "### Con regresion"
   ]
  },
  {
   "cell_type": "code",
   "execution_count": 344,
   "metadata": {},
   "outputs": [],
   "source": [
    "regTrainingSetV_1_2_3_6 = LinearRegression().fit(X_train, y_train)"
   ]
  },
  {
   "cell_type": "code",
   "execution_count": 484,
   "metadata": {},
   "outputs": [],
   "source": [
    "regTrainingSetV_1_4 = LinearRegression().fit(X_train, y_train)"
   ]
  },
  {
   "cell_type": "code",
   "execution_count": 345,
   "metadata": {},
   "outputs": [],
   "source": [
    "y_estim = regTrainingSetV_1_2_3_6.predict(X_test)"
   ]
  },
  {
   "cell_type": "code",
   "execution_count": 485,
   "metadata": {},
   "outputs": [],
   "source": [
    "y_estim = regTrainingSetV_1_4.predict(X_test)"
   ]
  },
  {
   "cell_type": "code",
   "execution_count": 347,
   "metadata": {},
   "outputs": [],
   "source": [
    "rmseRegLin = math.sqrt(mean_squared_error(y_test, y_estim))"
   ]
  },
  {
   "cell_type": "code",
   "execution_count": 486,
   "metadata": {},
   "outputs": [],
   "source": [
    "rmseRegLinV_1_4 = math.sqrt(mean_squared_error(y_test, y_estim))"
   ]
  },
  {
   "cell_type": "code",
   "execution_count": 348,
   "metadata": {},
   "outputs": [
    {
     "data": {
      "text/plain": [
       "33093.558759031606"
      ]
     },
     "execution_count": 348,
     "metadata": {},
     "output_type": "execute_result"
    }
   ],
   "source": [
    "rmseRegLin"
   ]
  },
  {
   "cell_type": "code",
   "execution_count": 487,
   "metadata": {},
   "outputs": [
    {
     "data": {
      "text/plain": [
       "36179.697956423355"
      ]
     },
     "execution_count": 487,
     "metadata": {},
     "output_type": "execute_result"
    }
   ],
   "source": [
    "rmseRegLinV_1_4"
   ]
  },
  {
   "cell_type": "code",
   "execution_count": 409,
   "metadata": {},
   "outputs": [
    {
     "data": {
      "text/plain": [
       "0.016397678190139264"
      ]
     },
     "execution_count": 409,
     "metadata": {},
     "output_type": "execute_result"
    }
   ],
   "source": [
    "regTrainingSetV_1_2_3_6.score(X_test, y_test)"
   ]
  },
  {
   "cell_type": "code",
   "execution_count": 427,
   "metadata": {},
   "outputs": [
    {
     "data": {
      "text/plain": [
       "0.013753025752257675"
      ]
     },
     "execution_count": 427,
     "metadata": {},
     "output_type": "execute_result"
    }
   ],
   "source": [
    "regTrainingSetV_1_4.score(X_test, y_test)"
   ]
  },
  {
   "cell_type": "code",
   "execution_count": 410,
   "metadata": {},
   "outputs": [
    {
     "data": {
      "text/plain": [
       "array([-6.00815266e+00, -5.13836783e-02, -9.74919542e+02, -1.25038542e+03,\n",
       "        4.00345332e+00, -1.78686335e-02,  5.10499450e+01,  5.45622927e+02,\n",
       "       -2.05105175e+01,  1.50191136e-03, -5.76692622e+02,  7.41948369e+03])"
      ]
     },
     "execution_count": 410,
     "metadata": {},
     "output_type": "execute_result"
    }
   ],
   "source": [
    "regTrainingSetV_1_2_3_6.coef_"
   ]
  },
  {
   "cell_type": "code",
   "execution_count": 428,
   "metadata": {},
   "outputs": [
    {
     "data": {
      "text/plain": [
       "array([-1.41476286e+01, -1.60183969e-02, -1.05453993e+03,  7.79292559e+03])"
      ]
     },
     "execution_count": 428,
     "metadata": {},
     "output_type": "execute_result"
    }
   ],
   "source": [
    "regTrainingSetV_1_4.coef_"
   ]
  },
  {
   "cell_type": "markdown",
   "metadata": {},
   "source": [
    "### GridSearch con XGBoost para buscar los mejores parámetros. "
   ]
  },
  {
   "cell_type": "code",
   "execution_count": 469,
   "metadata": {},
   "outputs": [
    {
     "name": "stdout",
     "output_type": "stream",
     "text": [
      "Fitting 5 folds for each of 27 candidates, totalling 135 fits\n"
     ]
    },
    {
     "name": "stderr",
     "output_type": "stream",
     "text": [
      "[Parallel(n_jobs=5)]: Using backend LokyBackend with 5 concurrent workers.\n",
      "[Parallel(n_jobs=5)]: Done  40 tasks      | elapsed: 17.0min\n",
      "[Parallel(n_jobs=5)]: Done 135 out of 135 | elapsed: 52.9min finished\n"
     ]
    },
    {
     "data": {
      "text/plain": [
       "GridSearchCV(cv=5, error_score='raise-deprecating',\n",
       "       estimator=XGBRegressor(base_score=0.5, booster='gbtree', colsample_bylevel=1,\n",
       "       colsample_bynode=1, colsample_bytree=1, gamma=0,\n",
       "       importance_type='gain', learning_rate=0.1, max_delta_step=0,\n",
       "       max_depth=3, min_child_weight=1, missing=None, n_estimators=100,\n",
       "       n_jobs=1, nthread=None, objective='reg:linear', random_state=0,\n",
       "       reg_alpha=0, reg_lambda=1, scale_pos_weight=1, seed=None,\n",
       "       silent=None, subsample=1, verbosity=1),\n",
       "       fit_params=None, iid='warn', n_jobs=5,\n",
       "       param_grid={'objective': ['reg:linear'], 'learning_rate': [0.045, 0.05, 0.06], 'max_depth': [5], 'min_child_weight': [2, 3, 4], 'silent': [1], 'subsample': [0.5, 0.55, 0.6], 'colsample_bytree': [0.85], 'n_estimators': [650]},\n",
       "       pre_dispatch='2*n_jobs', refit=True, return_train_score='warn',\n",
       "       scoring='neg_mean_squared_error', verbose=True)"
      ]
     },
     "execution_count": 469,
     "metadata": {},
     "output_type": "execute_result"
    }
   ],
   "source": [
    "xgb1 = xgboost.XGBRegressor()\n",
    "parameters = { \n",
    "                      'objective':['reg:linear'],\n",
    "                      'learning_rate': [0.045,0.05,0.06], \n",
    "                      'max_depth': [5],\n",
    "                      'min_child_weight': [2,3,4],\n",
    "                      'silent': [1],\n",
    "                      'subsample': [0.5,0.55,0.6],\n",
    "                      'colsample_bytree': [0.85],\n",
    "                      'n_estimators': [650]}\n",
    "\n",
    "xgb_grid = GridSearchCV(xgb1, parameters, scoring='neg_mean_squared_error', #this line can be commented to use XGB's default metric\n",
    "                            cv = 5,\n",
    "                            n_jobs = 5,\n",
    "                            verbose=True)\n",
    "\n",
    "\n",
    "xgb_grid.fit(X_train,y_train)\n",
    "    "
   ]
  },
  {
   "cell_type": "code",
   "execution_count": 470,
   "metadata": {},
   "outputs": [],
   "source": [
    "y_estim = xgb_grid.predict(X_test)"
   ]
  },
  {
   "cell_type": "code",
   "execution_count": 471,
   "metadata": {},
   "outputs": [],
   "source": [
    "rmseXGBgrid = math.sqrt(mean_squared_error(y_test, y_estim))"
   ]
  },
  {
   "cell_type": "code",
   "execution_count": 472,
   "metadata": {},
   "outputs": [
    {
     "data": {
      "text/plain": [
       "36139.51417377929"
      ]
     },
     "execution_count": 472,
     "metadata": {},
     "output_type": "execute_result"
    }
   ],
   "source": [
    "rmseXGBgrid"
   ]
  },
  {
   "cell_type": "code",
   "execution_count": 473,
   "metadata": {},
   "outputs": [
    {
     "name": "stdout",
     "output_type": "stream",
     "text": [
      "-33.09458698278196\n"
     ]
    }
   ],
   "source": [
    "print(explained_variance_score(y_estim ,y_test))"
   ]
  },
  {
   "cell_type": "markdown",
   "metadata": {},
   "source": [
    "### Con ese fit aplicado a V_1_4, calcularemos una prediccion para el target."
   ]
  },
  {
   "cell_type": "code",
   "execution_count": null,
   "metadata": {},
   "outputs": [],
   "source": []
  },
  {
   "cell_type": "markdown",
   "metadata": {},
   "source": [
    "### Aca probamos otros fits con otros input y otros hiperparametros."
   ]
  },
  {
   "cell_type": "code",
   "execution_count": 350,
   "metadata": {},
   "outputs": [],
   "source": [
    "xgbV_1_2_3_6 = xgboost.XGBRegressor(n_estimators=100, learning_rate=0.08, gamma=0, subsample=0.75,\n",
    "                           colsample_bytree=1, max_depth=7, objective='reg:squarederror')"
   ]
  },
  {
   "cell_type": "code",
   "execution_count": 488,
   "metadata": {},
   "outputs": [],
   "source": [
    "xgbV_1_4 = xgboost.XGBRegressor(n_estimators=100, learning_rate=1, gamma=0, subsample=0.75,\n",
    "                           colsample_bytree=1, max_depth=7, objective='reg:squarederror')"
   ]
  },
  {
   "cell_type": "code",
   "execution_count": 351,
   "metadata": {},
   "outputs": [
    {
     "data": {
      "text/plain": [
       "XGBRegressor(base_score=0.5, booster='gbtree', colsample_bylevel=1,\n",
       "       colsample_bynode=1, colsample_bytree=1, gamma=0,\n",
       "       importance_type='gain', learning_rate=0.08, max_delta_step=0,\n",
       "       max_depth=7, min_child_weight=1, missing=None, n_estimators=100,\n",
       "       n_jobs=1, nthread=None, objective='reg:squarederror',\n",
       "       random_state=0, reg_alpha=0, reg_lambda=1, scale_pos_weight=1,\n",
       "       seed=None, silent=None, subsample=0.75, verbosity=1)"
      ]
     },
     "execution_count": 351,
     "metadata": {},
     "output_type": "execute_result"
    }
   ],
   "source": [
    "xgbV_1_2_3_6.fit(X_train, y_train)"
   ]
  },
  {
   "cell_type": "code",
   "execution_count": 489,
   "metadata": {},
   "outputs": [
    {
     "data": {
      "text/plain": [
       "XGBRegressor(base_score=0.5, booster='gbtree', colsample_bylevel=1,\n",
       "       colsample_bynode=1, colsample_bytree=1, gamma=0,\n",
       "       importance_type='gain', learning_rate=1, max_delta_step=0,\n",
       "       max_depth=7, min_child_weight=1, missing=None, n_estimators=100,\n",
       "       n_jobs=1, nthread=None, objective='reg:squarederror',\n",
       "       random_state=0, reg_alpha=0, reg_lambda=1, scale_pos_weight=1,\n",
       "       seed=None, silent=None, subsample=0.75, verbosity=1)"
      ]
     },
     "execution_count": 489,
     "metadata": {},
     "output_type": "execute_result"
    }
   ],
   "source": [
    "xgbV_1_4.fit(X_train, y_train)"
   ]
  },
  {
   "cell_type": "code",
   "execution_count": 352,
   "metadata": {},
   "outputs": [],
   "source": [
    "y_estim = xgbV_1_2_3_6.predict(X_test)"
   ]
  },
  {
   "cell_type": "code",
   "execution_count": 490,
   "metadata": {},
   "outputs": [],
   "source": [
    "y_estim = xgbV_1_4.predict(X_test)"
   ]
  },
  {
   "cell_type": "code",
   "execution_count": 411,
   "metadata": {},
   "outputs": [],
   "source": [
    "y_train_estim = xgbV_1_2_3_6.predict(X_train)"
   ]
  },
  {
   "cell_type": "code",
   "execution_count": 353,
   "metadata": {},
   "outputs": [],
   "source": [
    "rmseXGB = math.sqrt(mean_squared_error(y_test, y_estim))"
   ]
  },
  {
   "cell_type": "code",
   "execution_count": 491,
   "metadata": {},
   "outputs": [],
   "source": [
    "rmseXGBV_1_4 = math.sqrt(mean_squared_error(y_test, y_estim))"
   ]
  },
  {
   "cell_type": "code",
   "execution_count": 354,
   "metadata": {},
   "outputs": [
    {
     "data": {
      "text/plain": [
       "32980.77870462715"
      ]
     },
     "execution_count": 354,
     "metadata": {},
     "output_type": "execute_result"
    }
   ],
   "source": [
    "rmseXGB"
   ]
  },
  {
   "cell_type": "code",
   "execution_count": 492,
   "metadata": {},
   "outputs": [
    {
     "data": {
      "text/plain": [
       "37803.02571606861"
      ]
     },
     "execution_count": 492,
     "metadata": {},
     "output_type": "execute_result"
    }
   ],
   "source": [
    "rmseXGBV_1_4"
   ]
  },
  {
   "cell_type": "code",
   "execution_count": 458,
   "metadata": {},
   "outputs": [
    {
     "name": "stdout",
     "output_type": "stream",
     "text": [
      "-7.754393252529219\n"
     ]
    }
   ],
   "source": [
    "print(explained_variance_score(y_estim ,y_test))"
   ]
  },
  {
   "cell_type": "code",
   "execution_count": 412,
   "metadata": {},
   "outputs": [
    {
     "name": "stdout",
     "output_type": "stream",
     "text": [
      "-28.68581495695423\n"
     ]
    }
   ],
   "source": [
    "print(explained_variance_score(y_train_estim , y_train))"
   ]
  },
  {
   "cell_type": "code",
   "execution_count": 408,
   "metadata": {},
   "outputs": [
    {
     "name": "stdout",
     "output_type": "stream",
     "text": [
      "-48.633896279367676\n"
     ]
    }
   ],
   "source": [
    "print(explained_variance_score(y_estim ,y_test))"
   ]
  },
  {
   "cell_type": "markdown",
   "metadata": {},
   "source": [
    "### Con Ridge alpha = 1"
   ]
  },
  {
   "cell_type": "code",
   "execution_count": 355,
   "metadata": {},
   "outputs": [],
   "source": [
    "RidgeV_1_2_3_6 = Ridge(alpha = 10)"
   ]
  },
  {
   "cell_type": "code",
   "execution_count": 356,
   "metadata": {},
   "outputs": [
    {
     "data": {
      "text/plain": [
       "Ridge(alpha=10, copy_X=True, fit_intercept=True, max_iter=None,\n",
       "   normalize=False, random_state=None, solver='auto', tol=0.001)"
      ]
     },
     "execution_count": 356,
     "metadata": {},
     "output_type": "execute_result"
    }
   ],
   "source": [
    "RidgeV_1_2_3_6.fit(X_train, y_train)"
   ]
  },
  {
   "cell_type": "code",
   "execution_count": 357,
   "metadata": {},
   "outputs": [],
   "source": [
    "y_estim = RidgeV_1_2_3_6.predict(X_test)"
   ]
  },
  {
   "cell_type": "code",
   "execution_count": 358,
   "metadata": {},
   "outputs": [],
   "source": [
    "rmseRidge1 = math.sqrt(mean_squared_error(y_test, y_estim))"
   ]
  },
  {
   "cell_type": "code",
   "execution_count": 359,
   "metadata": {},
   "outputs": [
    {
     "data": {
      "text/plain": [
       "33093.55312595675"
      ]
     },
     "execution_count": 359,
     "metadata": {},
     "output_type": "execute_result"
    }
   ],
   "source": [
    "rmseRidge1"
   ]
  },
  {
   "cell_type": "markdown",
   "metadata": {},
   "source": [
    "### Usamos el fitter de XGBoost para predecir el target"
   ]
  },
  {
   "cell_type": "code",
   "execution_count": 360,
   "metadata": {},
   "outputs": [],
   "source": [
    "y_targetXGBoost = xgbV_1_2_3_6.predict(X_arrayinstallsV_5_6_7sinId)"
   ]
  },
  {
   "cell_type": "code",
   "execution_count": 363,
   "metadata": {},
   "outputs": [],
   "source": [
    "df_device_installsV_5_6_7 = installsV_5_6_7[['ref_hash']]"
   ]
  },
  {
   "cell_type": "code",
   "execution_count": 364,
   "metadata": {},
   "outputs": [],
   "source": [
    "df_device_installsV_5_6_7 = df_device_installsV_5_6_7.reset_index(drop = True)"
   ]
  },
  {
   "cell_type": "markdown",
   "metadata": {},
   "source": [
    "### otro fit"
   ]
  },
  {
   "cell_type": "code",
   "execution_count": 493,
   "metadata": {},
   "outputs": [],
   "source": [
    "y_targetXGBoost = xgbV_1_4.predict(arrayInstallV_7)"
   ]
  },
  {
   "cell_type": "code",
   "execution_count": 494,
   "metadata": {},
   "outputs": [],
   "source": [
    "dfPredictXGBoost = pd.DataFrame(y_targetXGBoost, columns = ['prediccion_install'])"
   ]
  },
  {
   "cell_type": "code",
   "execution_count": 495,
   "metadata": {},
   "outputs": [],
   "source": [
    "df_device_installsV_7 = eventsInstallsVentSieteRegressionSet[['ref_hash']]"
   ]
  },
  {
   "cell_type": "code",
   "execution_count": 496,
   "metadata": {},
   "outputs": [],
   "source": [
    "df_device_installsV_7 = df_device_installsV_7.reset_index(drop = True)"
   ]
  },
  {
   "cell_type": "code",
   "execution_count": 497,
   "metadata": {},
   "outputs": [],
   "source": [
    "dfPredictXGBoost = pd.concat([df_device_installsV_7, dfPredictXGBoost], axis = 1)"
   ]
  },
  {
   "cell_type": "code",
   "execution_count": 498,
   "metadata": {},
   "outputs": [
    {
     "data": {
      "text/plain": [
       "241298"
      ]
     },
     "execution_count": 498,
     "metadata": {},
     "output_type": "execute_result"
    }
   ],
   "source": [
    "len(dfPredictXGBoost)"
   ]
  },
  {
   "cell_type": "code",
   "execution_count": 499,
   "metadata": {},
   "outputs": [],
   "source": [
    "dfPredictXGBoost['ref_hash'] = dfPredictXGBoost.ref_hash.astype(str) + '_sc'"
   ]
  },
  {
   "cell_type": "code",
   "execution_count": 500,
   "metadata": {},
   "outputs": [],
   "source": [
    "dfPredictXGBoost.columns = ['ref_hash', 'prediccion_install']"
   ]
  },
  {
   "cell_type": "code",
   "execution_count": 501,
   "metadata": {},
   "outputs": [
    {
     "data": {
      "text/html": [
       "<div>\n",
       "<style scoped>\n",
       "    .dataframe tbody tr th:only-of-type {\n",
       "        vertical-align: middle;\n",
       "    }\n",
       "\n",
       "    .dataframe tbody tr th {\n",
       "        vertical-align: top;\n",
       "    }\n",
       "\n",
       "    .dataframe thead th {\n",
       "        text-align: right;\n",
       "    }\n",
       "</style>\n",
       "<table border=\"1\" class=\"dataframe\">\n",
       "  <thead>\n",
       "    <tr style=\"text-align: right;\">\n",
       "      <th></th>\n",
       "      <th>ref_hash</th>\n",
       "      <th>prediccion_install</th>\n",
       "    </tr>\n",
       "  </thead>\n",
       "  <tbody>\n",
       "    <tr>\n",
       "      <th>0</th>\n",
       "      <td>41863526108385_sc</td>\n",
       "      <td>256103.15625</td>\n",
       "    </tr>\n",
       "    <tr>\n",
       "      <th>1</th>\n",
       "      <td>69039685746313_sc</td>\n",
       "      <td>245650.12500</td>\n",
       "    </tr>\n",
       "  </tbody>\n",
       "</table>\n",
       "</div>"
      ],
      "text/plain": [
       "            ref_hash  prediccion_install\n",
       "0  41863526108385_sc        256103.15625\n",
       "1  69039685746313_sc        245650.12500"
      ]
     },
     "execution_count": 501,
     "metadata": {},
     "output_type": "execute_result"
    }
   ],
   "source": [
    "dfPredictXGBoost.head(2)"
   ]
  },
  {
   "cell_type": "markdown",
   "metadata": {},
   "source": [
    "## Ahora a leer el archivo llenado con los Sc, para ponerle los valores St"
   ]
  },
  {
   "cell_type": "code",
   "execution_count": 502,
   "metadata": {},
   "outputs": [],
   "source": [
    "target = pd.read_csv('./targetConScConSt.csv')"
   ]
  },
  {
   "cell_type": "code",
   "execution_count": 503,
   "metadata": {},
   "outputs": [
    {
     "data": {
      "text/html": [
       "<div>\n",
       "<style scoped>\n",
       "    .dataframe tbody tr th:only-of-type {\n",
       "        vertical-align: middle;\n",
       "    }\n",
       "\n",
       "    .dataframe tbody tr th {\n",
       "        vertical-align: top;\n",
       "    }\n",
       "\n",
       "    .dataframe thead th {\n",
       "        text-align: right;\n",
       "    }\n",
       "</style>\n",
       "<table border=\"1\" class=\"dataframe\">\n",
       "  <thead>\n",
       "    <tr style=\"text-align: right;\">\n",
       "      <th></th>\n",
       "      <th>ref_hash</th>\n",
       "      <th>obj</th>\n",
       "    </tr>\n",
       "  </thead>\n",
       "  <tbody>\n",
       "    <tr>\n",
       "      <th>0</th>\n",
       "      <td>1000169251625791246_sc</td>\n",
       "      <td>259200</td>\n",
       "    </tr>\n",
       "    <tr>\n",
       "      <th>1</th>\n",
       "      <td>1000169251625791246_st</td>\n",
       "      <td>73579</td>\n",
       "    </tr>\n",
       "    <tr>\n",
       "      <th>2</th>\n",
       "      <td>1000395625957344683_sc</td>\n",
       "      <td>161908</td>\n",
       "    </tr>\n",
       "    <tr>\n",
       "      <th>3</th>\n",
       "      <td>1000395625957344683_st</td>\n",
       "      <td>46671</td>\n",
       "    </tr>\n",
       "    <tr>\n",
       "      <th>4</th>\n",
       "      <td>1003027494996471685_sc</td>\n",
       "      <td>182100</td>\n",
       "    </tr>\n",
       "  </tbody>\n",
       "</table>\n",
       "</div>"
      ],
      "text/plain": [
       "                 ref_hash     obj\n",
       "0  1000169251625791246_sc  259200\n",
       "1  1000169251625791246_st   73579\n",
       "2  1000395625957344683_sc  161908\n",
       "3  1000395625957344683_st   46671\n",
       "4  1003027494996471685_sc  182100"
      ]
     },
     "execution_count": 503,
     "metadata": {},
     "output_type": "execute_result"
    }
   ],
   "source": [
    "target.head()"
   ]
  },
  {
   "cell_type": "code",
   "execution_count": 504,
   "metadata": {},
   "outputs": [],
   "source": [
    "target.loc[target.index % 2 == 0, 'obj'] = 0"
   ]
  },
  {
   "cell_type": "code",
   "execution_count": 505,
   "metadata": {},
   "outputs": [],
   "source": [
    "target = pd.merge(target, dfPredictXGBoost, on = 'ref_hash', how = 'left')"
   ]
  },
  {
   "cell_type": "code",
   "execution_count": 506,
   "metadata": {},
   "outputs": [
    {
     "data": {
      "text/plain": [
       "ref_hash              8074\n",
       "obj                   8074\n",
       "prediccion_install    2394\n",
       "dtype: int64"
      ]
     },
     "execution_count": 506,
     "metadata": {},
     "output_type": "execute_result"
    }
   ],
   "source": [
    "target.count()"
   ]
  },
  {
   "cell_type": "code",
   "execution_count": 507,
   "metadata": {},
   "outputs": [
    {
     "data": {
      "text/html": [
       "<div>\n",
       "<style scoped>\n",
       "    .dataframe tbody tr th:only-of-type {\n",
       "        vertical-align: middle;\n",
       "    }\n",
       "\n",
       "    .dataframe tbody tr th {\n",
       "        vertical-align: top;\n",
       "    }\n",
       "\n",
       "    .dataframe thead th {\n",
       "        text-align: right;\n",
       "    }\n",
       "</style>\n",
       "<table border=\"1\" class=\"dataframe\">\n",
       "  <thead>\n",
       "    <tr style=\"text-align: right;\">\n",
       "      <th></th>\n",
       "      <th>ref_hash</th>\n",
       "      <th>obj</th>\n",
       "      <th>prediccion_install</th>\n",
       "    </tr>\n",
       "  </thead>\n",
       "  <tbody>\n",
       "    <tr>\n",
       "      <th>0</th>\n",
       "      <td>1000169251625791246_sc</td>\n",
       "      <td>0</td>\n",
       "      <td>244028.765625</td>\n",
       "    </tr>\n",
       "    <tr>\n",
       "      <th>1</th>\n",
       "      <td>1000169251625791246_st</td>\n",
       "      <td>73579</td>\n",
       "      <td>NaN</td>\n",
       "    </tr>\n",
       "    <tr>\n",
       "      <th>2</th>\n",
       "      <td>1000395625957344683_sc</td>\n",
       "      <td>0</td>\n",
       "      <td>NaN</td>\n",
       "    </tr>\n",
       "    <tr>\n",
       "      <th>3</th>\n",
       "      <td>1000395625957344683_st</td>\n",
       "      <td>46671</td>\n",
       "      <td>NaN</td>\n",
       "    </tr>\n",
       "    <tr>\n",
       "      <th>4</th>\n",
       "      <td>1003027494996471685_sc</td>\n",
       "      <td>0</td>\n",
       "      <td>244132.734375</td>\n",
       "    </tr>\n",
       "    <tr>\n",
       "      <th>5</th>\n",
       "      <td>1003027494996471685_st</td>\n",
       "      <td>118291</td>\n",
       "      <td>NaN</td>\n",
       "    </tr>\n",
       "    <tr>\n",
       "      <th>6</th>\n",
       "      <td>1006670001679961544_sc</td>\n",
       "      <td>0</td>\n",
       "      <td>NaN</td>\n",
       "    </tr>\n",
       "    <tr>\n",
       "      <th>7</th>\n",
       "      <td>1006670001679961544_st</td>\n",
       "      <td>150630</td>\n",
       "      <td>NaN</td>\n",
       "    </tr>\n",
       "    <tr>\n",
       "      <th>8</th>\n",
       "      <td>1007573308966476713_sc</td>\n",
       "      <td>0</td>\n",
       "      <td>NaN</td>\n",
       "    </tr>\n",
       "    <tr>\n",
       "      <th>9</th>\n",
       "      <td>1007573308966476713_st</td>\n",
       "      <td>95972</td>\n",
       "      <td>NaN</td>\n",
       "    </tr>\n",
       "  </tbody>\n",
       "</table>\n",
       "</div>"
      ],
      "text/plain": [
       "                 ref_hash     obj  prediccion_install\n",
       "0  1000169251625791246_sc       0       244028.765625\n",
       "1  1000169251625791246_st   73579                 NaN\n",
       "2  1000395625957344683_sc       0                 NaN\n",
       "3  1000395625957344683_st   46671                 NaN\n",
       "4  1003027494996471685_sc       0       244132.734375\n",
       "5  1003027494996471685_st  118291                 NaN\n",
       "6  1006670001679961544_sc       0                 NaN\n",
       "7  1006670001679961544_st  150630                 NaN\n",
       "8  1007573308966476713_sc       0                 NaN\n",
       "9  1007573308966476713_st   95972                 NaN"
      ]
     },
     "execution_count": 507,
     "metadata": {},
     "output_type": "execute_result"
    }
   ],
   "source": [
    "target.head(10)"
   ]
  },
  {
   "cell_type": "code",
   "execution_count": 508,
   "metadata": {},
   "outputs": [],
   "source": [
    "target.loc[target.index % 2 != 0, 'prediccion_install'] = 0"
   ]
  },
  {
   "cell_type": "code",
   "execution_count": 509,
   "metadata": {},
   "outputs": [
    {
     "data": {
      "text/html": [
       "<div>\n",
       "<style scoped>\n",
       "    .dataframe tbody tr th:only-of-type {\n",
       "        vertical-align: middle;\n",
       "    }\n",
       "\n",
       "    .dataframe tbody tr th {\n",
       "        vertical-align: top;\n",
       "    }\n",
       "\n",
       "    .dataframe thead th {\n",
       "        text-align: right;\n",
       "    }\n",
       "</style>\n",
       "<table border=\"1\" class=\"dataframe\">\n",
       "  <thead>\n",
       "    <tr style=\"text-align: right;\">\n",
       "      <th></th>\n",
       "      <th>ref_hash</th>\n",
       "      <th>obj</th>\n",
       "      <th>prediccion_install</th>\n",
       "    </tr>\n",
       "  </thead>\n",
       "  <tbody>\n",
       "    <tr>\n",
       "      <th>0</th>\n",
       "      <td>1000169251625791246_sc</td>\n",
       "      <td>0</td>\n",
       "      <td>244028.765625</td>\n",
       "    </tr>\n",
       "    <tr>\n",
       "      <th>1</th>\n",
       "      <td>1000169251625791246_st</td>\n",
       "      <td>73579</td>\n",
       "      <td>0.000000</td>\n",
       "    </tr>\n",
       "    <tr>\n",
       "      <th>2</th>\n",
       "      <td>1000395625957344683_sc</td>\n",
       "      <td>0</td>\n",
       "      <td>NaN</td>\n",
       "    </tr>\n",
       "    <tr>\n",
       "      <th>3</th>\n",
       "      <td>1000395625957344683_st</td>\n",
       "      <td>46671</td>\n",
       "      <td>0.000000</td>\n",
       "    </tr>\n",
       "  </tbody>\n",
       "</table>\n",
       "</div>"
      ],
      "text/plain": [
       "                 ref_hash    obj  prediccion_install\n",
       "0  1000169251625791246_sc      0       244028.765625\n",
       "1  1000169251625791246_st  73579            0.000000\n",
       "2  1000395625957344683_sc      0                 NaN\n",
       "3  1000395625957344683_st  46671            0.000000"
      ]
     },
     "execution_count": 509,
     "metadata": {},
     "output_type": "execute_result"
    }
   ],
   "source": [
    "target.head(4)"
   ]
  },
  {
   "cell_type": "code",
   "execution_count": 510,
   "metadata": {},
   "outputs": [],
   "source": [
    "target = target.fillna(value = 259200)"
   ]
  },
  {
   "cell_type": "code",
   "execution_count": 511,
   "metadata": {},
   "outputs": [
    {
     "data": {
      "text/html": [
       "<div>\n",
       "<style scoped>\n",
       "    .dataframe tbody tr th:only-of-type {\n",
       "        vertical-align: middle;\n",
       "    }\n",
       "\n",
       "    .dataframe tbody tr th {\n",
       "        vertical-align: top;\n",
       "    }\n",
       "\n",
       "    .dataframe thead th {\n",
       "        text-align: right;\n",
       "    }\n",
       "</style>\n",
       "<table border=\"1\" class=\"dataframe\">\n",
       "  <thead>\n",
       "    <tr style=\"text-align: right;\">\n",
       "      <th></th>\n",
       "      <th>ref_hash</th>\n",
       "      <th>obj</th>\n",
       "      <th>prediccion_install</th>\n",
       "    </tr>\n",
       "  </thead>\n",
       "  <tbody>\n",
       "    <tr>\n",
       "      <th>0</th>\n",
       "      <td>1000169251625791246_sc</td>\n",
       "      <td>0</td>\n",
       "      <td>244028.765625</td>\n",
       "    </tr>\n",
       "    <tr>\n",
       "      <th>1</th>\n",
       "      <td>1000169251625791246_st</td>\n",
       "      <td>73579</td>\n",
       "      <td>0.000000</td>\n",
       "    </tr>\n",
       "    <tr>\n",
       "      <th>2</th>\n",
       "      <td>1000395625957344683_sc</td>\n",
       "      <td>0</td>\n",
       "      <td>259200.000000</td>\n",
       "    </tr>\n",
       "    <tr>\n",
       "      <th>3</th>\n",
       "      <td>1000395625957344683_st</td>\n",
       "      <td>46671</td>\n",
       "      <td>0.000000</td>\n",
       "    </tr>\n",
       "  </tbody>\n",
       "</table>\n",
       "</div>"
      ],
      "text/plain": [
       "                 ref_hash    obj  prediccion_install\n",
       "0  1000169251625791246_sc      0       244028.765625\n",
       "1  1000169251625791246_st  73579            0.000000\n",
       "2  1000395625957344683_sc      0       259200.000000\n",
       "3  1000395625957344683_st  46671            0.000000"
      ]
     },
     "execution_count": 511,
     "metadata": {},
     "output_type": "execute_result"
    }
   ],
   "source": [
    "target.head(4)"
   ]
  },
  {
   "cell_type": "code",
   "execution_count": 512,
   "metadata": {},
   "outputs": [],
   "source": [
    "target['prediccion_install'] = target.prediccion_install.round().astype(int)"
   ]
  },
  {
   "cell_type": "code",
   "execution_count": 513,
   "metadata": {},
   "outputs": [],
   "source": [
    "target['obj'] = target['obj'] + target['prediccion_install']"
   ]
  },
  {
   "cell_type": "code",
   "execution_count": 514,
   "metadata": {},
   "outputs": [
    {
     "data": {
      "text/html": [
       "<div>\n",
       "<style scoped>\n",
       "    .dataframe tbody tr th:only-of-type {\n",
       "        vertical-align: middle;\n",
       "    }\n",
       "\n",
       "    .dataframe tbody tr th {\n",
       "        vertical-align: top;\n",
       "    }\n",
       "\n",
       "    .dataframe thead th {\n",
       "        text-align: right;\n",
       "    }\n",
       "</style>\n",
       "<table border=\"1\" class=\"dataframe\">\n",
       "  <thead>\n",
       "    <tr style=\"text-align: right;\">\n",
       "      <th></th>\n",
       "      <th>ref_hash</th>\n",
       "      <th>obj</th>\n",
       "      <th>prediccion_install</th>\n",
       "    </tr>\n",
       "  </thead>\n",
       "  <tbody>\n",
       "    <tr>\n",
       "      <th>0</th>\n",
       "      <td>1000169251625791246_sc</td>\n",
       "      <td>244029</td>\n",
       "      <td>244029</td>\n",
       "    </tr>\n",
       "    <tr>\n",
       "      <th>1</th>\n",
       "      <td>1000169251625791246_st</td>\n",
       "      <td>73579</td>\n",
       "      <td>0</td>\n",
       "    </tr>\n",
       "  </tbody>\n",
       "</table>\n",
       "</div>"
      ],
      "text/plain": [
       "                 ref_hash     obj  prediccion_install\n",
       "0  1000169251625791246_sc  244029              244029\n",
       "1  1000169251625791246_st   73579                   0"
      ]
     },
     "execution_count": 514,
     "metadata": {},
     "output_type": "execute_result"
    }
   ],
   "source": [
    "target.head(2)"
   ]
  },
  {
   "cell_type": "code",
   "execution_count": 515,
   "metadata": {},
   "outputs": [],
   "source": [
    "target = target.drop(columns = ['prediccion_install'])"
   ]
  },
  {
   "cell_type": "code",
   "execution_count": 516,
   "metadata": {},
   "outputs": [
    {
     "data": {
      "text/html": [
       "<div>\n",
       "<style scoped>\n",
       "    .dataframe tbody tr th:only-of-type {\n",
       "        vertical-align: middle;\n",
       "    }\n",
       "\n",
       "    .dataframe tbody tr th {\n",
       "        vertical-align: top;\n",
       "    }\n",
       "\n",
       "    .dataframe thead th {\n",
       "        text-align: right;\n",
       "    }\n",
       "</style>\n",
       "<table border=\"1\" class=\"dataframe\">\n",
       "  <thead>\n",
       "    <tr style=\"text-align: right;\">\n",
       "      <th></th>\n",
       "      <th>ref_hash</th>\n",
       "      <th>obj</th>\n",
       "    </tr>\n",
       "  </thead>\n",
       "  <tbody>\n",
       "    <tr>\n",
       "      <th>0</th>\n",
       "      <td>1000169251625791246_sc</td>\n",
       "      <td>244029</td>\n",
       "    </tr>\n",
       "    <tr>\n",
       "      <th>1</th>\n",
       "      <td>1000169251625791246_st</td>\n",
       "      <td>73579</td>\n",
       "    </tr>\n",
       "    <tr>\n",
       "      <th>2</th>\n",
       "      <td>1000395625957344683_sc</td>\n",
       "      <td>259200</td>\n",
       "    </tr>\n",
       "    <tr>\n",
       "      <th>3</th>\n",
       "      <td>1000395625957344683_st</td>\n",
       "      <td>46671</td>\n",
       "    </tr>\n",
       "    <tr>\n",
       "      <th>4</th>\n",
       "      <td>1003027494996471685_sc</td>\n",
       "      <td>244133</td>\n",
       "    </tr>\n",
       "  </tbody>\n",
       "</table>\n",
       "</div>"
      ],
      "text/plain": [
       "                 ref_hash     obj\n",
       "0  1000169251625791246_sc  244029\n",
       "1  1000169251625791246_st   73579\n",
       "2  1000395625957344683_sc  259200\n",
       "3  1000395625957344683_st   46671\n",
       "4  1003027494996471685_sc  244133"
      ]
     },
     "execution_count": 516,
     "metadata": {},
     "output_type": "execute_result"
    }
   ],
   "source": [
    "target.head()"
   ]
  },
  {
   "cell_type": "code",
   "execution_count": 517,
   "metadata": {},
   "outputs": [],
   "source": [
    "target.to_csv('targetInstallXGBoostv_1_4.csv', encoding='utf-8', index=False)"
   ]
  },
  {
   "cell_type": "code",
   "execution_count": null,
   "metadata": {},
   "outputs": [],
   "source": []
  },
  {
   "cell_type": "code",
   "execution_count": 325,
   "metadata": {},
   "outputs": [],
   "source": [
    "targetUpdated.to_csv('targetConSc.csv', encoding='utf-8', index=False)"
   ]
  }
 ],
 "metadata": {
  "kernelspec": {
   "display_name": "Python 3",
   "language": "python",
   "name": "python3"
  },
  "language_info": {
   "codemirror_mode": {
    "name": "ipython",
    "version": 3
   },
   "file_extension": ".py",
   "mimetype": "text/x-python",
   "name": "python",
   "nbconvert_exporter": "python",
   "pygments_lexer": "ipython3",
   "version": "3.7.1"
  }
 },
 "nbformat": 4,
 "nbformat_minor": 2
}
