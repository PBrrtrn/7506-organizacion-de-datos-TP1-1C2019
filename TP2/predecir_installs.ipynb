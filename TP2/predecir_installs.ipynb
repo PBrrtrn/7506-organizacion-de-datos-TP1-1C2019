{
 "cells": [
  {
   "cell_type": "code",
   "execution_count": 111,
   "metadata": {},
   "outputs": [],
   "source": [
    "import pandas as pd\n",
    "import sklearn as skl\n",
    "import xgboost as xgb\n",
    "import category_encoders as ce\n",
    "from datetime import timedelta\n",
    "from sklearn.metrics import explained_variance_score\n",
    "\n",
    "\n",
    "cols = ['created','ref_hash','implicit','device_brand','device_model','wifi','device_language','ref_type']\n",
    "installs = pd.read_csv('/home/fedoremelianenko/FIUBA/Organizacion de datos/TPs/TP2/data/installs.csv',usecols=cols)\n",
    "installs['created'] = pd.to_datetime(installs['created'])\n",
    "\n",
    "def generar_ventanas(df, str_columna_fecha):\n",
    "    FECHA_INICIO = pd.to_datetime(df[str_columna_fecha].min().strftime('%Y-%m-%d'))\n",
    "    FECHA_FIN = pd.to_datetime(df[str_columna_fecha].max().strftime('%Y-%m-%d'))\n",
    "\n",
    "    FECHA_UN_DIA = FECHA_INICIO + timedelta(days=1)\n",
    "    FECHA_DOS_DIAS = FECHA_INICIO + timedelta(days=2)\n",
    "    FECHA_TRES_DIAS = FECHA_INICIO + timedelta(days=3)\n",
    "    FECHA_CUATRO_DIAS = FECHA_INICIO + timedelta(days=4)\n",
    "    FECHA_CINCO_DIAS = FECHA_INICIO + timedelta(days=5)\n",
    "    FECHA_SEIS_DIAS = FECHA_INICIO + timedelta(days=6)\n",
    "    FECHA_SIETE_DIAS = FECHA_INICIO + timedelta(days=7)\n",
    "\n",
    "    ventana_uno = installs.loc[(df[str_columna_fecha] < FECHA_TRES_DIAS)]\n",
    "    ventana_uno = ventana_uno.loc[(df[str_columna_fecha] > FECHA_INICIO)]\n",
    "\n",
    "    ventana_dos = installs.loc[(df[str_columna_fecha] < FECHA_CUATRO_DIAS)]\n",
    "    ventana_dos = ventana_dos.loc[(df[str_columna_fecha] > FECHA_UN_DIA)]\n",
    "\n",
    "    ventana_tres = installs.loc[(df[str_columna_fecha] < FECHA_CINCO_DIAS)]\n",
    "    ventana_tres = ventana_tres.loc[(df[str_columna_fecha] > FECHA_DOS_DIAS)]\n",
    "    \n",
    "    ventana_cuatro = installs.loc[(df[str_columna_fecha] < FECHA_SEIS_DIAS)]\n",
    "    ventana_cuatro = ventana_tres.loc[(df[str_columna_fecha] > FECHA_TRES_DIAS)]\n",
    "    \n",
    "    ventana_cinco = installs.loc[(df[str_columna_fecha] < FECHA_SIETE_DIAS)]\n",
    "    ventana_cinco = ventana_tres.loc[(df[str_columna_fecha] > FECHA_CUATRO_DIAS)]\n",
    "    \n",
    "    return ventana_uno, ventana_dos, ventana_tres, ventana_cuatro, ventana_cinco"
   ]
  },
  {
   "cell_type": "code",
   "execution_count": 112,
   "metadata": {},
   "outputs": [
    {
     "data": {
      "text/html": [
       "<div>\n",
       "<style scoped>\n",
       "    .dataframe tbody tr th:only-of-type {\n",
       "        vertical-align: middle;\n",
       "    }\n",
       "\n",
       "    .dataframe tbody tr th {\n",
       "        vertical-align: top;\n",
       "    }\n",
       "\n",
       "    .dataframe thead th {\n",
       "        text-align: right;\n",
       "    }\n",
       "</style>\n",
       "<table border=\"1\" class=\"dataframe\">\n",
       "  <thead>\n",
       "    <tr style=\"text-align: right;\">\n",
       "      <th></th>\n",
       "      <th>created</th>\n",
       "      <th>ref_type</th>\n",
       "      <th>ref_hash</th>\n",
       "      <th>implicit</th>\n",
       "      <th>device_brand</th>\n",
       "      <th>device_model</th>\n",
       "      <th>wifi</th>\n",
       "      <th>device_language</th>\n",
       "    </tr>\n",
       "  </thead>\n",
       "  <tbody>\n",
       "    <tr>\n",
       "      <th>0</th>\n",
       "      <td>2019-04-24 06:23:29.495</td>\n",
       "      <td>0</td>\n",
       "      <td>4716708407362582887</td>\n",
       "      <td>True</td>\n",
       "      <td>NaN</td>\n",
       "      <td>3.739127e+17</td>\n",
       "      <td>0</td>\n",
       "      <td>3.301378e+18</td>\n",
       "    </tr>\n",
       "    <tr>\n",
       "      <th>2</th>\n",
       "      <td>2019-04-20 10:15:36.274</td>\n",
       "      <td>0</td>\n",
       "      <td>5230323462636548010</td>\n",
       "      <td>True</td>\n",
       "      <td>NaN</td>\n",
       "      <td>8.355496e+18</td>\n",
       "      <td>0</td>\n",
       "      <td>4.060930e+18</td>\n",
       "    </tr>\n",
       "    <tr>\n",
       "      <th>3</th>\n",
       "      <td>2019-04-20 21:56:47.151</td>\n",
       "      <td>0</td>\n",
       "      <td>5097163995161606833</td>\n",
       "      <td>True</td>\n",
       "      <td>NaN</td>\n",
       "      <td>2.355772e+18</td>\n",
       "      <td>0</td>\n",
       "      <td>3.301378e+18</td>\n",
       "    </tr>\n",
       "    <tr>\n",
       "      <th>5</th>\n",
       "      <td>2019-04-20 18:19:27.485</td>\n",
       "      <td>0</td>\n",
       "      <td>7522785771858684314</td>\n",
       "      <td>True</td>\n",
       "      <td>NaN</td>\n",
       "      <td>6.208879e+18</td>\n",
       "      <td>0</td>\n",
       "      <td>3.301378e+18</td>\n",
       "    </tr>\n",
       "    <tr>\n",
       "      <th>6</th>\n",
       "      <td>2019-04-20 03:40:21.239</td>\n",
       "      <td>0</td>\n",
       "      <td>7882044913917355073</td>\n",
       "      <td>True</td>\n",
       "      <td>NaN</td>\n",
       "      <td>4.566898e+18</td>\n",
       "      <td>0</td>\n",
       "      <td>4.060930e+18</td>\n",
       "    </tr>\n",
       "  </tbody>\n",
       "</table>\n",
       "</div>"
      ],
      "text/plain": [
       "                  created  ref_type             ref_hash  implicit  \\\n",
       "0 2019-04-24 06:23:29.495         0  4716708407362582887      True   \n",
       "2 2019-04-20 10:15:36.274         0  5230323462636548010      True   \n",
       "3 2019-04-20 21:56:47.151         0  5097163995161606833      True   \n",
       "5 2019-04-20 18:19:27.485         0  7522785771858684314      True   \n",
       "6 2019-04-20 03:40:21.239         0  7882044913917355073      True   \n",
       "\n",
       "   device_brand  device_model  wifi  device_language  \n",
       "0           NaN  3.739127e+17     0     3.301378e+18  \n",
       "2           NaN  8.355496e+18     0     4.060930e+18  \n",
       "3           NaN  2.355772e+18     0     3.301378e+18  \n",
       "5           NaN  6.208879e+18     0     3.301378e+18  \n",
       "6           NaN  4.566898e+18     0     4.060930e+18  "
      ]
     },
     "execution_count": 112,
     "metadata": {},
     "output_type": "execute_result"
    }
   ],
   "source": [
    "installs = installs.loc[installs['implicit'] == True]\n",
    "installs['wifi'] = installs['wifi'].apply(lambda x: 1 if x== True else 0)\n",
    "installs['ref_type'] = installs['ref_type'].apply(lambda x: 1 if (x == 1891515180541284343) else 0)\n",
    "installs['device_language']=installs['device_language'].fillna(value=0)\n",
    "installs.head()"
   ]
  },
  {
   "cell_type": "code",
   "execution_count": 113,
   "metadata": {},
   "outputs": [],
   "source": [
    "installs['cantidad_instalaciones'] = 1"
   ]
  },
  {
   "cell_type": "code",
   "execution_count": 114,
   "metadata": {},
   "outputs": [],
   "source": [
    "installs_ventana_uno, installs_ventana_dos, installs_ventana_tres, installs_ventana_cuatro, installs_ventana_cinco = generar_ventanas(installs,'created')"
   ]
  },
  {
   "cell_type": "code",
   "execution_count": 115,
   "metadata": {},
   "outputs": [],
   "source": [
    "iv1_grouped = installs_ventana_uno.groupby('ref_hash').agg({'cantidad_instalaciones':'sum'})\n",
    "installs_ventana_uno = installs_ventana_uno.merge(iv1_grouped, on='ref_hash',how='left')\n",
    "installs_ventana_uno.drop(['cantidad_instalaciones_x'], axis=1, inplace=True)\n",
    "installs_ventana_uno.rename({'cantidad_instalaciones_y':'cantidad_instalaciones'}, inplace=True, axis=1)\n",
    "\n",
    "iv2_grouped = installs_ventana_dos.groupby('ref_hash').agg({'cantidad_instalaciones':'sum'})\n",
    "installs_ventana_dos = installs_ventana_dos.merge(iv2_grouped, on='ref_hash',how='left')\n",
    "installs_ventana_dos.drop(['cantidad_instalaciones_x'], axis=1, inplace=True)\n",
    "installs_ventana_dos.rename({'cantidad_instalaciones_y':'cantidad_instalaciones'}, inplace=True, axis=1)\n",
    "\n",
    "iv3_grouped = installs_ventana_tres.groupby('ref_hash').agg({'cantidad_instalaciones':'sum'})\n",
    "installs_ventana_tres = installs_ventana_tres.merge(iv3_grouped, on='ref_hash',how='left')\n",
    "installs_ventana_tres.drop(['cantidad_instalaciones_x'], axis=1, inplace=True)\n",
    "installs_ventana_tres.rename({'cantidad_instalaciones_y':'cantidad_instalaciones'}, inplace=True, axis=1)\n",
    "\n",
    "iv4_grouped = installs_ventana_cuatro.groupby('ref_hash').agg({'cantidad_instalaciones':'sum'})\n",
    "installs_ventana_cuatro = installs_ventana_uno.merge(iv4_grouped, on='ref_hash',how='left')\n",
    "installs_ventana_cuatro.drop(['cantidad_instalaciones_x'], axis=1, inplace=True)\n",
    "installs_ventana_cuatro.rename({'cantidad_instalaciones_y':'cantidad_instalaciones'}, inplace=True, axis=1)\n",
    "\n",
    "iv5_grouped = installs_ventana_cinco.groupby('ref_hash').agg({'cantidad_instalaciones':'sum'})\n",
    "installs_ventana_cinco = installs_ventana_cinco.merge(iv5_grouped, on='ref_hash',how='left')\n",
    "installs_ventana_cinco.drop(['cantidad_instalaciones_x'], axis=1, inplace=True)\n",
    "installs_ventana_cinco.rename({'cantidad_instalaciones_y':'cantidad_instalaciones'}, inplace=True, axis=1)"
   ]
  },
  {
   "cell_type": "code",
   "execution_count": 116,
   "metadata": {},
   "outputs": [],
   "source": [
    "def t_sum(t_inst):\n",
    "    suma = (t_inst.iloc[0] - pd.to_datetime(pd.to_datetime(t_inst.iloc[0]).strftime('%Y-%m-%d'))).total_seconds()\n",
    "    for i in range(1, len(t_inst)):\n",
    "        suma += (t_inst.iloc[i] - t_inst.iloc[i-1]).total_seconds()\n",
    "    return suma\n",
    "\n",
    "def t_hasta_conversion(t_inst):\n",
    "    return (t_inst.iloc[0] - pd.to_datetime(pd.to_datetime(t_inst.iloc[0]).strftime('%Y-%m-%d'))).total_seconds()\n",
    "\n",
    "installs_ventana_uno.sort_values(by='created',axis=0,inplace=True)\n",
    "installs_ventana_uno['primera_instalacion'] = installs_ventana_uno['created']\n",
    "\n",
    "installs_ventana_dos.sort_values(by='created',axis=0,inplace=True)\n",
    "installs_ventana_dos['primera_instalacion'] = installs_ventana_dos['created']\n",
    "\n",
    "installs_ventana_tres.sort_values(by='created',axis=0,inplace=True)\n",
    "installs_ventana_tres['primera_instalacion'] = installs_ventana_tres['created']\n",
    "\n",
    "installs_ventana_cuatro.sort_values(by='created',axis=0,inplace=True)\n",
    "installs_ventana_cuatro['primera_instalacion'] = installs_ventana_cuatro['created']\n",
    "\n",
    "installs_ventana_cinco.sort_values(by='created',axis=0,inplace=True)\n",
    "installs_ventana_cinco['primera_instalacion'] = installs_ventana_cinco['created']\n",
    "\n",
    "iv1 = installs_ventana_uno.groupby(['ref_hash','ref_type','device_brand','device_model','device_language',\n",
    "                                    'cantidad_instalaciones']).agg({'created':t_sum,'wifi':'mean',\n",
    "                                                                   'primera_instalacion':t_hasta_conversion})\n",
    "\n",
    "iv2 = installs_ventana_dos.groupby(['ref_hash','ref_type','device_brand','device_model','device_language',\n",
    "                                    'cantidad_instalaciones']).agg({'created':t_sum,'wifi':'mean',\n",
    "                                                                   'primera_instalacion':t_hasta_conversion})\n",
    "\n",
    "iv3 = installs_ventana_tres.groupby(['ref_hash','ref_type','device_brand','device_model','device_language',\n",
    "                                    'cantidad_instalaciones']).agg({'created':t_sum,'wifi':'mean',\n",
    "                                                                   'primera_instalacion':t_hasta_conversion})\n",
    "\n",
    "iv4 = installs_ventana_cuatro.groupby(['ref_hash','ref_type','device_brand','device_model','device_language',\n",
    "                                    'cantidad_instalaciones']).agg({'created':t_sum,'wifi':'mean',\n",
    "                                                                   'primera_instalacion':t_hasta_conversion})\n",
    "\n",
    "iv5 = installs_ventana_cinco.groupby(['ref_hash','ref_type','device_brand','device_model','device_language',\n",
    "                                    'cantidad_instalaciones']).agg({'created':t_sum,'wifi':'mean',\n",
    "                                                                   'primera_instalacion':t_hasta_conversion})\n",
    "iv1.reset_index(inplace=True)\n",
    "iv1.rename({'created':'t_sum'},inplace=True, axis=1)\n",
    "\n",
    "iv2.reset_index(inplace=True)\n",
    "iv2.rename({'created':'t_sum'},inplace=True, axis=1)\n",
    "\n",
    "iv3.reset_index(inplace=True)\n",
    "iv3.rename({'created':'t_sum'},inplace=True, axis=1)\n",
    "\n",
    "iv4.reset_index(inplace=True)\n",
    "iv4.rename({'created':'t_sum'},inplace=True, axis=1)\n",
    "\n",
    "iv5.reset_index(inplace=True)\n",
    "iv5.rename({'created':'t_sum'},inplace=True, axis=1)"
   ]
  },
  {
   "cell_type": "code",
   "execution_count": 117,
   "metadata": {},
   "outputs": [
    {
     "data": {
      "text/plain": [
       "\"encoder_bi = ce.BinaryEncoder(cols=['device_model','device_language','device_brand'])\\niv1 = encoder_bi.fit_transform(iv1)\\niv2 = encoder_bi.fit_transform(iv2)\\niv3 = encoder_bi.fit_transform(iv3)\\niv4 = encoder_bi.fit_transform(iv4)\\niv5 = encoder_bi.fit_transform(iv5)\""
      ]
     },
     "execution_count": 117,
     "metadata": {},
     "output_type": "execute_result"
    }
   ],
   "source": [
    "'''encoder_bi = ce.BinaryEncoder(cols=['device_model','device_language','device_brand'])\n",
    "iv1 = encoder_bi.fit_transform(iv1)\n",
    "iv2 = encoder_bi.fit_transform(iv2)\n",
    "iv3 = encoder_bi.fit_transform(iv3)\n",
    "iv4 = encoder_bi.fit_transform(iv4)\n",
    "iv5 = encoder_bi.fit_transform(iv5)'''"
   ]
  },
  {
   "cell_type": "code",
   "execution_count": 118,
   "metadata": {},
   "outputs": [],
   "source": [
    "ventanaUnoData = iv1.drop(['primera_instalacion'], axis=1).values\n",
    "ventanaUnoTargets = iv1['primera_instalacion'].values\n",
    "\n",
    "ventanaDosData = iv2.drop(['primera_instalacion'],axis=1).values\n",
    "ventanaDosTargets = iv2['primera_instalacion'].values\n",
    "\n",
    "ventanaTresData = iv3.drop(['primera_instalacion'], axis=1).values\n",
    "ventanaTresTargets = iv3['primera_instalacion'].values\n",
    "\n",
    "ventanaCuatroData = iv4.drop(['primera_instalacion'], axis=1).values\n",
    "ventanaCuatroTargets = iv4['primera_instalacion'].values\n",
    "\n",
    "ventanaCincoData = iv5.drop(['primera_instalacion'], axis=1).values\n",
    "ventanaCincoTargets = iv5['primera_instalacion'].values\n",
    "\n",
    "\n",
    "xgbVentanaUno = xgb.XGBRegressor(n_estimators=100, learning_rate=0.08, gamma=0, subsample=0.75,\n",
    "                           colsample_bytree=1, max_depth=7, objective='reg:squarederror')\n",
    "\n",
    "xgbVentanaDos = xgb.XGBRegressor(n_estimators=100, learning_rate=0.08, gamma=0, subsample=0.75,\n",
    "                           colsample_bytree=1, max_depth=7, objective='reg:squarederror')\n",
    "\n",
    "xgbVentanaTres = xgb.XGBRegressor(n_estimators=100, learning_rate=0.08, gamma=0, subsample=0.75,\n",
    "                           colsample_bytree=1, max_depth=7, objective='reg:squarederror')\n",
    "\n",
    "xgbVentanaCuatro = xgb.XGBRegressor(n_estimators=100, learning_rate=0.08, gamma=0, subsample=0.75,\n",
    "                           colsample_bytree=1, max_depth=7, objective='reg:squarederror')\n",
    "\n",
    "xgbVentanaCinco = xgb.XGBRegressor(n_estimators=100, learning_rate=0.08, gamma=0, subsample=0.75,\n",
    "                           colsample_bytree=1, max_depth=7, objective='reg:squarederror')"
   ]
  },
  {
   "cell_type": "code",
   "execution_count": 119,
   "metadata": {},
   "outputs": [
    {
     "data": {
      "text/plain": [
       "XGBRegressor(base_score=0.5, booster='gbtree', colsample_bylevel=1,\n",
       "             colsample_bynode=1, colsample_bytree=1, gamma=0,\n",
       "             importance_type='gain', learning_rate=0.08, max_delta_step=0,\n",
       "             max_depth=7, min_child_weight=1, missing=None, n_estimators=100,\n",
       "             n_jobs=1, nthread=None, objective='reg:squarederror',\n",
       "             random_state=0, reg_alpha=0, reg_lambda=1, scale_pos_weight=1,\n",
       "             seed=None, silent=None, subsample=0.75, verbosity=1)"
      ]
     },
     "execution_count": 119,
     "metadata": {},
     "output_type": "execute_result"
    }
   ],
   "source": [
    "xgbVentanaUno.fit(ventanaUnoData, ventanaUnoTargets)\n",
    "xgbVentanaDos.fit(ventanaDosData, ventanaDosTargets)\n",
    "xgbVentanaTres.fit(ventanaTresData, ventanaTresTargets)\n",
    "xgbVentanaCuatro.fit(ventanaCuatroData, ventanaCuatroTargets)\n",
    "xgbVentanaCinco.fit(ventanaCincoData, ventanaCincoTargets)"
   ]
  },
  {
   "cell_type": "code",
   "execution_count": 132,
   "metadata": {},
   "outputs": [],
   "source": [
    "prediccionV1_V2 = xgbVentanaUno.predict(ventanaDosData)\n",
    "prediccionV2_V3 = xgbVentanaDos.predict(ventanaTresData)\n",
    "prediccionV3_V4 = xgbVentanaTres.predict(ventanaCuatroData)\n",
    "prediccionV4_V5 = xgbVentanaCuatro.predict(ventanaCincoData)\n",
    "prediccionV5_V1 = xgbVentanaCinco.predict(ventanaUnoData)\n",
    "\n",
    "prediccionV1_V4 = xgbVentanaUno.predict(ventanaCuatroData)\n",
    "prediccionV2_V5 = xgbVentanaDos.predict(ventanaCincoData)"
   ]
  },
  {
   "cell_type": "code",
   "execution_count": 125,
   "metadata": {},
   "outputs": [
    {
     "data": {
      "text/plain": [
       "0.9950602815853041"
      ]
     },
     "execution_count": 125,
     "metadata": {},
     "output_type": "execute_result"
    }
   ],
   "source": [
    "explained_variance_score(prediccionV1_V2, ventanaDosTargets)"
   ]
  },
  {
   "cell_type": "code",
   "execution_count": 126,
   "metadata": {},
   "outputs": [
    {
     "data": {
      "text/plain": [
       "0.994862301284657"
      ]
     },
     "execution_count": 126,
     "metadata": {},
     "output_type": "execute_result"
    }
   ],
   "source": [
    "explained_variance_score(prediccionV2_V3, ventanaTresTargets)"
   ]
  },
  {
   "cell_type": "code",
   "execution_count": 127,
   "metadata": {},
   "outputs": [
    {
     "data": {
      "text/plain": [
       "0.9659257467602657"
      ]
     },
     "execution_count": 127,
     "metadata": {},
     "output_type": "execute_result"
    }
   ],
   "source": [
    "explained_variance_score(prediccionV3_V4, ventanaCuatroTargets)"
   ]
  },
  {
   "cell_type": "code",
   "execution_count": 128,
   "metadata": {},
   "outputs": [
    {
     "data": {
      "text/plain": [
       "0.9880996548486832"
      ]
     },
     "execution_count": 128,
     "metadata": {},
     "output_type": "execute_result"
    }
   ],
   "source": [
    "explained_variance_score(prediccionV4_V5, ventanaCincoTargets)"
   ]
  },
  {
   "cell_type": "code",
   "execution_count": 130,
   "metadata": {},
   "outputs": [
    {
     "data": {
      "text/plain": [
       "0.9793026402661242"
      ]
     },
     "execution_count": 130,
     "metadata": {},
     "output_type": "execute_result"
    }
   ],
   "source": [
    "explained_variance_score(prediccionV1_V4, ventanaCuatroTargets)"
   ]
  },
  {
   "cell_type": "code",
   "execution_count": 133,
   "metadata": {},
   "outputs": [
    {
     "data": {
      "text/plain": [
       "0.9959225844731532"
      ]
     },
     "execution_count": 133,
     "metadata": {},
     "output_type": "execute_result"
    }
   ],
   "source": [
    "explained_variance_score(prediccionV2_V5, ventanaCincoTargets)"
   ]
  },
  {
   "cell_type": "code",
   "execution_count": null,
   "metadata": {},
   "outputs": [],
   "source": []
  }
 ],
 "metadata": {
  "kernelspec": {
   "display_name": "Python 3",
   "language": "python",
   "name": "python3"
  },
  "language_info": {
   "codemirror_mode": {
    "name": "ipython",
    "version": 3
   },
   "file_extension": ".py",
   "mimetype": "text/x-python",
   "name": "python",
   "nbconvert_exporter": "python",
   "pygments_lexer": "ipython3",
   "version": "3.7.3"
  }
 },
 "nbformat": 4,
 "nbformat_minor": 2
}
