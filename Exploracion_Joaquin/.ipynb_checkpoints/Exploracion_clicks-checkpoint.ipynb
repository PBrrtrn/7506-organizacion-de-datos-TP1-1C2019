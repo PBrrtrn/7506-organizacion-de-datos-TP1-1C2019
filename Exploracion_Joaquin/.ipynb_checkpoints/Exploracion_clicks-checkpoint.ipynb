{
 "cells": [
  {
   "cell_type": "code",
   "execution_count": 1,
   "metadata": {},
   "outputs": [],
   "source": [
    "import pandas as pd\n",
    "import numpy as np\n",
    "import datetime\n",
    "import calendar\n",
    "import matplotlib as mpl\n",
    "import matplotlib.pyplot as plt\n",
    "import seaborn as sns\n",
    "import math\n",
    "\n",
    "def new_comparison(dfs_to_compare,criteria,index_names):\n",
    "    df = pd.DataFrame()\n",
    "    j = 0\n",
    "    for i in index_names:\n",
    "        df[i] = dfs_to_compare[j][criteria]\n",
    "        j = j +1\n",
    "    return df\n",
    "\n",
    "#FUNCION PARA CONVERTIR FECHA A DIA DE LA SEMANA\n",
    "def fecha_a_dia(dia):\n",
    "    return calendar.day_name[dia.weekday()]\n",
    "\n",
    "#dias = {'day_of_week': ['Monday','Tuesday','Wednesday','Thursday','Friday','Saturday','Sunday'],}\n",
    "#df_dias = pd.DataFrame(dias,columns=['day_of_week'])\n",
    "#df_dias['numbers'] = [0]\n",
    "#df_dias['rep'] = 0\n",
    "\n",
    "#def day_rep(df_dias, df){\n",
    "# SI DF.DIA NO ESTA EN DF_DIAS[DF.DIA_DE_SEMANA].NUMEROS => DF_DIAS[DF.DIA_DE_SEMANA].REP ++\n",
    "    "
   ]
  },
  {
   "cell_type": "code",
   "execution_count": 2,
   "metadata": {},
   "outputs": [],
   "source": [
    "#LEO CSV DETALLANDO LOS TIPOS POR COLUMNA\n",
    "types = {'advertiser_id':'int8',\n",
    "         'action':'category',\n",
    "         'source_id':'int8',\n",
    "         'latitude':'float64',\n",
    "         'created':'object',\n",
    "         'longitude':'float64',\n",
    "         'wifi_connection':'category',\n",
    "         'carrier_id':'float64',\n",
    "         'trans_id':'object',\n",
    "         'os_minor':'float',\n",
    "         'agent_device':'float',\n",
    "         'os_mayor':'float64',\n",
    "         'specs_brand':'category',\n",
    "         'brand':'float64',\n",
    "         'timeToClick':'float64',\n",
    "         'touchX':'float64',\n",
    "         'touchY':'float64',\n",
    "         'ref_type':'category',\n",
    "         'ref_hash':'int64'}\n",
    "clicks = pd.read_csv('../../../datos_tp/clicks.csv', dtype = types)"
   ]
  },
  {
   "cell_type": "code",
   "execution_count": 3,
   "metadata": {},
   "outputs": [
    {
     "data": {
      "text/plain": [
       "advertiser_id                int8\n",
       "action_id                 float64\n",
       "source_id                    int8\n",
       "created            datetime64[ns]\n",
       "country_code                int64\n",
       "latitude                  float64\n",
       "longitude                 float64\n",
       "wifi_connection          category\n",
       "carrier_id                float64\n",
       "trans_id                   object\n",
       "os_minor                  float64\n",
       "agent_device              float64\n",
       "os_major                  float64\n",
       "specs_brand              category\n",
       "brand                     float64\n",
       "timeToClick               float64\n",
       "touchX                    float64\n",
       "touchY                    float64\n",
       "ref_type                 category\n",
       "ref_hash                    int64\n",
       "dtype: object"
      ]
     },
     "execution_count": 3,
     "metadata": {},
     "output_type": "execute_result"
    }
   ],
   "source": [
    "#CASTEO LA FECHA\n",
    "clicks['created'] = pd.to_datetime(clicks['created'], format= '%Y-%m-%d %H:%M:%S')\n",
    "clicks.dtypes"
   ]
  },
  {
   "cell_type": "code",
   "execution_count": null,
   "metadata": {},
   "outputs": [],
   "source": []
  },
  {
   "cell_type": "code",
   "execution_count": 4,
   "metadata": {},
   "outputs": [
    {
     "data": {
      "text/html": [
       "<div>\n",
       "<style scoped>\n",
       "    .dataframe tbody tr th:only-of-type {\n",
       "        vertical-align: middle;\n",
       "    }\n",
       "\n",
       "    .dataframe tbody tr th {\n",
       "        vertical-align: top;\n",
       "    }\n",
       "\n",
       "    .dataframe thead th {\n",
       "        text-align: right;\n",
       "    }\n",
       "</style>\n",
       "<table border=\"1\" class=\"dataframe\">\n",
       "  <thead>\n",
       "    <tr style=\"text-align: right;\">\n",
       "      <th></th>\n",
       "      <th>advertiser_id</th>\n",
       "      <th>action_id</th>\n",
       "      <th>source_id</th>\n",
       "      <th>created</th>\n",
       "      <th>country_code</th>\n",
       "      <th>latitude</th>\n",
       "      <th>longitude</th>\n",
       "      <th>wifi_connection</th>\n",
       "      <th>carrier_id</th>\n",
       "      <th>trans_id</th>\n",
       "      <th>...</th>\n",
       "      <th>agent_device</th>\n",
       "      <th>os_major</th>\n",
       "      <th>specs_brand</th>\n",
       "      <th>brand</th>\n",
       "      <th>timeToClick</th>\n",
       "      <th>touchX</th>\n",
       "      <th>touchY</th>\n",
       "      <th>ref_type</th>\n",
       "      <th>ref_hash</th>\n",
       "      <th>day_of_week</th>\n",
       "    </tr>\n",
       "  </thead>\n",
       "  <tbody>\n",
       "    <tr>\n",
       "      <th>0</th>\n",
       "      <td>2</td>\n",
       "      <td>NaN</td>\n",
       "      <td>4</td>\n",
       "      <td>2019-03-06 22:42:12.755</td>\n",
       "      <td>6333597102633388268</td>\n",
       "      <td>1.205689</td>\n",
       "      <td>1.070234</td>\n",
       "      <td>False</td>\n",
       "      <td>1.0</td>\n",
       "      <td>iGgClCM9exiHF4K31g94XmvHEBSLKIY</td>\n",
       "      <td>...</td>\n",
       "      <td>NaN</td>\n",
       "      <td>3.072849e+18</td>\n",
       "      <td>2733035977666442898</td>\n",
       "      <td>NaN</td>\n",
       "      <td>1.563</td>\n",
       "      <td>0.905</td>\n",
       "      <td>0.078</td>\n",
       "      <td>1891515180541284343</td>\n",
       "      <td>1904083516767779093</td>\n",
       "      <td>Wednesday</td>\n",
       "    </tr>\n",
       "    <tr>\n",
       "      <th>1</th>\n",
       "      <td>0</td>\n",
       "      <td>NaN</td>\n",
       "      <td>0</td>\n",
       "      <td>2019-03-08 10:24:30.641</td>\n",
       "      <td>6333597102633388268</td>\n",
       "      <td>1.218924</td>\n",
       "      <td>1.071209</td>\n",
       "      <td>False</td>\n",
       "      <td>4.0</td>\n",
       "      <td>MMHTOJ6qKAOeIH_Eywh1KIcCaxtO9oM</td>\n",
       "      <td>...</td>\n",
       "      <td>NaN</td>\n",
       "      <td>1.774085e+18</td>\n",
       "      <td>392184377613098015</td>\n",
       "      <td>NaN</td>\n",
       "      <td>NaN</td>\n",
       "      <td>NaN</td>\n",
       "      <td>NaN</td>\n",
       "      <td>1891515180541284343</td>\n",
       "      <td>3086509764961796666</td>\n",
       "      <td>Friday</td>\n",
       "    </tr>\n",
       "    <tr>\n",
       "      <th>2</th>\n",
       "      <td>0</td>\n",
       "      <td>NaN</td>\n",
       "      <td>0</td>\n",
       "      <td>2019-03-08 15:24:16.069</td>\n",
       "      <td>6333597102633388268</td>\n",
       "      <td>1.205689</td>\n",
       "      <td>1.070234</td>\n",
       "      <td>False</td>\n",
       "      <td>6.0</td>\n",
       "      <td>vIrEIdf9izUaWdAri6Ezk7T3nHFvNQU</td>\n",
       "      <td>...</td>\n",
       "      <td>NaN</td>\n",
       "      <td>3.072849e+18</td>\n",
       "      <td>392184377613098015</td>\n",
       "      <td>NaN</td>\n",
       "      <td>NaN</td>\n",
       "      <td>0.946</td>\n",
       "      <td>0.473</td>\n",
       "      <td>1891515180541284343</td>\n",
       "      <td>6958163894863846647</td>\n",
       "      <td>Friday</td>\n",
       "    </tr>\n",
       "    <tr>\n",
       "      <th>3</th>\n",
       "      <td>2</td>\n",
       "      <td>NaN</td>\n",
       "      <td>3</td>\n",
       "      <td>2019-03-06 03:08:51.543</td>\n",
       "      <td>6333597102633388268</td>\n",
       "      <td>1.205689</td>\n",
       "      <td>1.070234</td>\n",
       "      <td>False</td>\n",
       "      <td>45.0</td>\n",
       "      <td>YaKxxEAs2UmZhSpRfiCO9Zpa82B_AKM</td>\n",
       "      <td>...</td>\n",
       "      <td>NaN</td>\n",
       "      <td>3.072849e+18</td>\n",
       "      <td>2733035977666442898</td>\n",
       "      <td>NaN</td>\n",
       "      <td>19.013</td>\n",
       "      <td>0.035</td>\n",
       "      <td>0.431</td>\n",
       "      <td>1891515180541284343</td>\n",
       "      <td>4368617728156436525</td>\n",
       "      <td>Wednesday</td>\n",
       "    </tr>\n",
       "    <tr>\n",
       "      <th>4</th>\n",
       "      <td>2</td>\n",
       "      <td>NaN</td>\n",
       "      <td>3</td>\n",
       "      <td>2019-03-06 03:32:55.570</td>\n",
       "      <td>6333597102633388268</td>\n",
       "      <td>1.205689</td>\n",
       "      <td>1.070234</td>\n",
       "      <td>False</td>\n",
       "      <td>45.0</td>\n",
       "      <td>X5XTOcYQovkl6yadYdAD7xioVGU9jiY</td>\n",
       "      <td>...</td>\n",
       "      <td>NaN</td>\n",
       "      <td>3.072849e+18</td>\n",
       "      <td>2733035977666442898</td>\n",
       "      <td>NaN</td>\n",
       "      <td>28.110</td>\n",
       "      <td>0.054</td>\n",
       "      <td>0.423</td>\n",
       "      <td>1891515180541284343</td>\n",
       "      <td>4368617728156436525</td>\n",
       "      <td>Wednesday</td>\n",
       "    </tr>\n",
       "  </tbody>\n",
       "</table>\n",
       "<p>5 rows × 21 columns</p>\n",
       "</div>"
      ],
      "text/plain": [
       "   advertiser_id  action_id  source_id                 created  \\\n",
       "0              2        NaN          4 2019-03-06 22:42:12.755   \n",
       "1              0        NaN          0 2019-03-08 10:24:30.641   \n",
       "2              0        NaN          0 2019-03-08 15:24:16.069   \n",
       "3              2        NaN          3 2019-03-06 03:08:51.543   \n",
       "4              2        NaN          3 2019-03-06 03:32:55.570   \n",
       "\n",
       "          country_code  latitude  longitude wifi_connection  carrier_id  \\\n",
       "0  6333597102633388268  1.205689   1.070234           False         1.0   \n",
       "1  6333597102633388268  1.218924   1.071209           False         4.0   \n",
       "2  6333597102633388268  1.205689   1.070234           False         6.0   \n",
       "3  6333597102633388268  1.205689   1.070234           False        45.0   \n",
       "4  6333597102633388268  1.205689   1.070234           False        45.0   \n",
       "\n",
       "                          trans_id     ...       agent_device      os_major  \\\n",
       "0  iGgClCM9exiHF4K31g94XmvHEBSLKIY     ...                NaN  3.072849e+18   \n",
       "1  MMHTOJ6qKAOeIH_Eywh1KIcCaxtO9oM     ...                NaN  1.774085e+18   \n",
       "2  vIrEIdf9izUaWdAri6Ezk7T3nHFvNQU     ...                NaN  3.072849e+18   \n",
       "3  YaKxxEAs2UmZhSpRfiCO9Zpa82B_AKM     ...                NaN  3.072849e+18   \n",
       "4  X5XTOcYQovkl6yadYdAD7xioVGU9jiY     ...                NaN  3.072849e+18   \n",
       "\n",
       "           specs_brand brand  timeToClick  touchX  touchY  \\\n",
       "0  2733035977666442898   NaN        1.563   0.905   0.078   \n",
       "1   392184377613098015   NaN          NaN     NaN     NaN   \n",
       "2   392184377613098015   NaN          NaN   0.946   0.473   \n",
       "3  2733035977666442898   NaN       19.013   0.035   0.431   \n",
       "4  2733035977666442898   NaN       28.110   0.054   0.423   \n",
       "\n",
       "              ref_type             ref_hash  day_of_week  \n",
       "0  1891515180541284343  1904083516767779093    Wednesday  \n",
       "1  1891515180541284343  3086509764961796666       Friday  \n",
       "2  1891515180541284343  6958163894863846647       Friday  \n",
       "3  1891515180541284343  4368617728156436525    Wednesday  \n",
       "4  1891515180541284343  4368617728156436525    Wednesday  \n",
       "\n",
       "[5 rows x 21 columns]"
      ]
     },
     "execution_count": 4,
     "metadata": {},
     "output_type": "execute_result"
    }
   ],
   "source": [
    "#APLICO FUNCION AL DATA FRAME\n",
    "\n",
    "clicks['day_of_week'] = clicks['created'].map(fecha_a_dia)\n",
    "clicks.head()"
   ]
  },
  {
   "cell_type": "code",
   "execution_count": null,
   "metadata": {},
   "outputs": [],
   "source": []
  },
  {
   "cell_type": "code",
   "execution_count": 105,
   "metadata": {},
   "outputs": [
    {
     "data": {
      "text/html": [
       "<div>\n",
       "<style scoped>\n",
       "    .dataframe tbody tr th:only-of-type {\n",
       "        vertical-align: middle;\n",
       "    }\n",
       "\n",
       "    .dataframe tbody tr th {\n",
       "        vertical-align: top;\n",
       "    }\n",
       "\n",
       "    .dataframe thead th {\n",
       "        text-align: right;\n",
       "    }\n",
       "</style>\n",
       "<table border=\"1\" class=\"dataframe\">\n",
       "  <thead>\n",
       "    <tr style=\"text-align: right;\">\n",
       "      <th></th>\n",
       "      <th>counts</th>\n",
       "    </tr>\n",
       "    <tr>\n",
       "      <th>day_of_week</th>\n",
       "      <th></th>\n",
       "    </tr>\n",
       "  </thead>\n",
       "  <tbody>\n",
       "    <tr>\n",
       "      <th>Friday</th>\n",
       "      <td>2839</td>\n",
       "    </tr>\n",
       "    <tr>\n",
       "      <th>Monday</th>\n",
       "      <td>4557</td>\n",
       "    </tr>\n",
       "    <tr>\n",
       "      <th>Saturday</th>\n",
       "      <td>3283</td>\n",
       "    </tr>\n",
       "    <tr>\n",
       "      <th>Sunday</th>\n",
       "      <td>3966</td>\n",
       "    </tr>\n",
       "    <tr>\n",
       "      <th>Thursday</th>\n",
       "      <td>2989</td>\n",
       "    </tr>\n",
       "    <tr>\n",
       "      <th>Tuesday</th>\n",
       "      <td>5204</td>\n",
       "    </tr>\n",
       "    <tr>\n",
       "      <th>Wednesday</th>\n",
       "      <td>3468</td>\n",
       "    </tr>\n",
       "  </tbody>\n",
       "</table>\n",
       "</div>"
      ],
      "text/plain": [
       "             counts\n",
       "day_of_week        \n",
       "Friday         2839\n",
       "Monday         4557\n",
       "Saturday       3283\n",
       "Sunday         3966\n",
       "Thursday       2989\n",
       "Tuesday        5204\n",
       "Wednesday      3468"
      ]
     },
     "execution_count": 105,
     "metadata": {},
     "output_type": "execute_result"
    },
    {
     "data": {
      "image/png": "[encoded data removed]",
      "text/plain": [
       "<Figure size 864x720 with 1 Axes>"
      ]
     },
     "metadata": {
      "needs_background": "light"
     },
     "output_type": "display_data"
    }
   ],
   "source": [
    "#PLOTEO CANTIDAD DE CLICKS POR DIA DE LA SEMANA\n",
    "clicks['day'] = clicks['created'].apply(lambda x: x.day)\n",
    "\n",
    "#SACO DIAS 5 y 6\n",
    "clicks = clicks.loc[((clicks.day != 5) & (clicks.day != 6))]\n",
    "\n",
    "clicks['counts'] = 1\n",
    "days_group = clicks.groupby('day_of_week').agg({'counts':'sum'})\n",
    "days_group.rename(columns={'counts':'clicks'})\n",
    "ord = pd.Series([5,1,6,7,4,2,3])\n",
    "#days_group['ord'] = ord\n",
    "#days_group.sort_values(by='ord',inplace=True)\n",
    "#days_group.drop(columns='ord',inplace=True)\n",
    "fig = plt.figure(figsize=(12,10))\n",
    "ax = fig.add_subplot(111)\n",
    "days_group.plot.bar(ax=ax)\n",
    "ax.set_xlabel('dia',fontsize=12)\n",
    "ax.set_ylabel('clicks',fontsize=12)\n",
    "ax.set_title('clicks por dia', fontsize=18)\n",
    "days_group"
   ]
  },
  {
   "cell_type": "code",
   "execution_count": null,
   "metadata": {},
   "outputs": [],
   "source": []
  },
  {
   "cell_type": "code",
   "execution_count": 8,
   "metadata": {},
   "outputs": [],
   "source": [
    "clicks.loc[((clicks['day_of_week'] == \"Saturday\") | (clicks['day_of_week'] == \"Sunday\")), 'weekend'] = True\n",
    "clicks.loc[((clicks['day_of_week'] != \"Saturday\") & (clicks['day_of_week'] != \"Sunday\")), 'weekend'] = False\n"
   ]
  },
  {
   "cell_type": "code",
   "execution_count": 23,
   "metadata": {},
   "outputs": [
    {
     "data": {
      "text/plain": [
       "Text(0.5, 0, 'hora')"
      ]
     },
     "execution_count": 23,
     "metadata": {},
     "output_type": "execute_result"
    },
    {
     "data": {
      "image/png": "[encoded data removed]",
      "text/plain": [
       "<Figure size 864x720 with 1 Axes>"
      ]
     },
     "metadata": {
      "needs_background": "light"
     },
     "output_type": "display_data"
    }
   ],
   "source": [
    "\n",
    "clicks['hour'] = clicks['created'].apply(lambda x: x.hour)\n",
    "week_hg = clicks.loc[clicks.weekend==False].groupby(['hour']).agg({'counts':'sum'})\n",
    "week_hg.counts = (week_hg.counts)/5\n",
    "weekend_hg = clicks.loc[clicks.weekend==True].groupby(['hour']).agg({'counts':'sum'})\n",
    "weekend_hg.counts = (weekend_hg.counts)/2\n",
    "\n",
    "comparison = new_comparison([week_hg,weekend_hg],'counts',['week','weekend'])\n",
    "\n",
    "fig = plt.figure(figsize=(12,10))\n",
    "ax = fig.add_subplot(111)\n",
    "ax.set_ylabel('clicks', fontsize=20)\n",
    "\n",
    "comparison.plot.bar(figsize=(12,10), title='promedio de clicks en semana Vs. fin de semana por hora', ax=ax)\n",
    "ax.set_xlabel('hora', fontsize=20)"
   ]
  },
  {
   "cell_type": "code",
   "execution_count": 25,
   "metadata": {},
   "outputs": [
    {
     "ename": "AttributeError",
     "evalue": "'Series' object has no attribute 'set_index'",
     "output_type": "error",
     "traceback": [
      "\u001b[1;31m---------------------------------------------------------------------------\u001b[0m",
      "\u001b[1;31mAttributeError\u001b[0m                            Traceback (most recent call last)",
      "\u001b[1;32m<ipython-input-25-54a3f1d3f7f9>\u001b[0m in \u001b[0;36m<module>\u001b[1;34m\u001b[0m\n\u001b[0;32m      1\u001b[0m \u001b[0mcounts\u001b[0m \u001b[1;33m=\u001b[0m \u001b[0mpd\u001b[0m\u001b[1;33m.\u001b[0m\u001b[0mSeries\u001b[0m\u001b[1;33m(\u001b[0m\u001b[1;33m[\u001b[0m\u001b[0mweek_hg\u001b[0m\u001b[1;33m.\u001b[0m\u001b[0mcounts\u001b[0m\u001b[1;33m.\u001b[0m\u001b[0msum\u001b[0m\u001b[1;33m(\u001b[0m\u001b[1;33m)\u001b[0m\u001b[1;33m,\u001b[0m\u001b[0mweekend_hg\u001b[0m\u001b[1;33m.\u001b[0m\u001b[0mcounts\u001b[0m\u001b[1;33m.\u001b[0m\u001b[0msum\u001b[0m\u001b[1;33m(\u001b[0m\u001b[1;33m)\u001b[0m\u001b[1;33m]\u001b[0m\u001b[1;33m)\u001b[0m\u001b[1;33m\u001b[0m\u001b[1;33m\u001b[0m\u001b[0m\n\u001b[1;32m----> 2\u001b[1;33m \u001b[0mcounts\u001b[0m\u001b[1;33m.\u001b[0m\u001b[0mset_index\u001b[0m\u001b[1;33m(\u001b[0m\u001b[1;33m[\u001b[0m\u001b[1;34m'week'\u001b[0m\u001b[1;33m,\u001b[0m\u001b[1;34m'weekend'\u001b[0m\u001b[1;33m]\u001b[0m\u001b[1;33m)\u001b[0m\u001b[1;33m\u001b[0m\u001b[1;33m\u001b[0m\u001b[0m\n\u001b[0m\u001b[0;32m      3\u001b[0m \u001b[0max\u001b[0m \u001b[1;33m=\u001b[0m \u001b[0mcounts\u001b[0m\u001b[1;33m.\u001b[0m\u001b[0mplot\u001b[0m\u001b[1;33m.\u001b[0m\u001b[0mbar\u001b[0m\u001b[1;33m(\u001b[0m\u001b[0mtitle\u001b[0m \u001b[1;33m=\u001b[0m \u001b[1;34m'Week Vs. Weekend'\u001b[0m\u001b[1;33m)\u001b[0m\u001b[1;33m\u001b[0m\u001b[1;33m\u001b[0m\u001b[0m\n\u001b[0;32m      4\u001b[0m \u001b[0max\u001b[0m\u001b[1;33m.\u001b[0m\u001b[0mset_xlabel\u001b[0m\u001b[1;33m(\u001b[0m\u001b[1;34m''\u001b[0m\u001b[1;33m)\u001b[0m\u001b[1;33m\u001b[0m\u001b[1;33m\u001b[0m\u001b[0m\n\u001b[0;32m      5\u001b[0m \u001b[0max\u001b[0m\u001b[1;33m.\u001b[0m\u001b[0mset_ylabel\u001b[0m\u001b[1;33m(\u001b[0m\u001b[1;34m'normalized_clicks'\u001b[0m\u001b[1;33m)\u001b[0m\u001b[1;33m\u001b[0m\u001b[1;33m\u001b[0m\u001b[0m\n",
      "\u001b[1;32m~\\Anaconda3\\lib\\site-packages\\pandas\\core\\generic.py\u001b[0m in \u001b[0;36m__getattr__\u001b[1;34m(self, name)\u001b[0m\n\u001b[0;32m   4374\u001b[0m             \u001b[1;32mif\u001b[0m \u001b[0mself\u001b[0m\u001b[1;33m.\u001b[0m\u001b[0m_info_axis\u001b[0m\u001b[1;33m.\u001b[0m\u001b[0m_can_hold_identifiers_and_holds_name\u001b[0m\u001b[1;33m(\u001b[0m\u001b[0mname\u001b[0m\u001b[1;33m)\u001b[0m\u001b[1;33m:\u001b[0m\u001b[1;33m\u001b[0m\u001b[1;33m\u001b[0m\u001b[0m\n\u001b[0;32m   4375\u001b[0m                 \u001b[1;32mreturn\u001b[0m \u001b[0mself\u001b[0m\u001b[1;33m[\u001b[0m\u001b[0mname\u001b[0m\u001b[1;33m]\u001b[0m\u001b[1;33m\u001b[0m\u001b[1;33m\u001b[0m\u001b[0m\n\u001b[1;32m-> 4376\u001b[1;33m             \u001b[1;32mreturn\u001b[0m \u001b[0mobject\u001b[0m\u001b[1;33m.\u001b[0m\u001b[0m__getattribute__\u001b[0m\u001b[1;33m(\u001b[0m\u001b[0mself\u001b[0m\u001b[1;33m,\u001b[0m \u001b[0mname\u001b[0m\u001b[1;33m)\u001b[0m\u001b[1;33m\u001b[0m\u001b[1;33m\u001b[0m\u001b[0m\n\u001b[0m\u001b[0;32m   4377\u001b[0m \u001b[1;33m\u001b[0m\u001b[0m\n\u001b[0;32m   4378\u001b[0m     \u001b[1;32mdef\u001b[0m \u001b[0m__setattr__\u001b[0m\u001b[1;33m(\u001b[0m\u001b[0mself\u001b[0m\u001b[1;33m,\u001b[0m \u001b[0mname\u001b[0m\u001b[1;33m,\u001b[0m \u001b[0mvalue\u001b[0m\u001b[1;33m)\u001b[0m\u001b[1;33m:\u001b[0m\u001b[1;33m\u001b[0m\u001b[1;33m\u001b[0m\u001b[0m\n",
      "\u001b[1;31mAttributeError\u001b[0m: 'Series' object has no attribute 'set_index'"
     ]
    }
   ],
   "source": [
    "counts = pd.Series([week_hg.counts.sum(),weekend_hg.counts.sum()])\n",
    "counts.set_index(['week','weekend'])\n",
    "ax = counts.plot.bar(title = 'Week Vs. Weekend')\n",
    "ax.set_xlabel('')\n",
    "ax.set_ylabel('normalized_clicks')\n"
   ]
  },
  {
   "cell_type": "code",
   "execution_count": 26,
   "metadata": {},
   "outputs": [],
   "source": [
    "ev_types = {'event_id':'int64',\n",
    "            'ref_type':'category',\n",
    "            'ref_hash':'int64',\n",
    "            'application_id':'int64',\n",
    "            'attributed':'bool',\n",
    "            'device_countrycode':'category',\n",
    "            'device_os_version':'float64',\n",
    "            'device_brand':'float64',\n",
    "            'device_model':'float64',\n",
    "            'device_city':'float64',\n",
    "            'session_user_agent':'float64',\n",
    "            'trans_id':'category',\n",
    "            'user_agent':'float64',\n",
    "            'event_uuid':'object',\n",
    "            'carrier':'float64',\n",
    "            'kind':'float64',\n",
    "            'device_os':'category',\n",
    "            'wifi':'category',\n",
    "            'connection_type':'category',\n",
    "            'ip_address':'int64',\n",
    "            'device_language':'float64'}\n",
    "\n",
    "events = pd.read_csv('../../../datos_tp/events.csv', dtype = ev_types)"
   ]
  },
  {
   "cell_type": "code",
   "execution_count": 27,
   "metadata": {},
   "outputs": [
    {
     "name": "stdout",
     "output_type": "stream",
     "text": [
      "<class 'pandas.core.frame.DataFrame'>\n",
      "Int64Index: 23607 entries, 0 to 23606\n",
      "Data columns (total 46 columns):\n",
      "advertiser_id         23607 non-null int8\n",
      "action_id             0 non-null float64\n",
      "source_id             23607 non-null int8\n",
      "created               23607 non-null datetime64[ns]\n",
      "country_code          23607 non-null int64\n",
      "latitude              23607 non-null float64\n",
      "longitude             23607 non-null float64\n",
      "wifi_connection       23607 non-null category\n",
      "carrier_id            23377 non-null float64\n",
      "trans_id_x            23607 non-null object\n",
      "os_minor              23579 non-null float64\n",
      "agent_device          2747 non-null float64\n",
      "os_major              23579 non-null float64\n",
      "specs_brand           23607 non-null category\n",
      "brand                 7217 non-null float64\n",
      "timeToClick           18736 non-null float64\n",
      "touchX                19722 non-null float64\n",
      "touchY                19722 non-null float64\n",
      "ref_type_x            23607 non-null category\n",
      "ref_hash              23607 non-null int64\n",
      "day_of_week           23607 non-null object\n",
      "weekend               23607 non-null bool\n",
      "hour                  23607 non-null int64\n",
      "day                   23607 non-null int64\n",
      "counts                23607 non-null int64\n",
      "date                  23607 non-null object\n",
      "event_id              23607 non-null int64\n",
      "ref_type_y            23607 non-null category\n",
      "application_id        23607 non-null int64\n",
      "attributed            23607 non-null bool\n",
      "device_countrycode    23607 non-null category\n",
      "device_os_version     7784 non-null float64\n",
      "device_brand          15008 non-null float64\n",
      "device_model          23187 non-null float64\n",
      "device_city           4616 non-null float64\n",
      "session_user_agent    23063 non-null float64\n",
      "trans_id_y            0 non-null category\n",
      "user_agent            15490 non-null float64\n",
      "event_uuid            23220 non-null object\n",
      "carrier               4641 non-null float64\n",
      "kind                  23220 non-null float64\n",
      "device_os             4904 non-null category\n",
      "wifi                  15457 non-null category\n",
      "connection_type       4641 non-null category\n",
      "ip_address            23607 non-null int64\n",
      "device_language       23190 non-null float64\n",
      "dtypes: bool(2), category(9), datetime64[ns](1), float64(20), int64(8), int8(2), object(4)\n",
      "memory usage: 6.4+ MB\n"
     ]
    }
   ],
   "source": [
    "cl_ev = clicks.merge(events, on='ref_hash',how='inner')\n",
    "cl_ev.info()"
   ]
  },
  {
   "cell_type": "code",
   "execution_count": 69,
   "metadata": {},
   "outputs": [],
   "source": [
    "cl_ev_touch = cl_ev.dropna(subset=['touchX','touchY'])"
   ]
  },
  {
   "cell_type": "code",
   "execution_count": 96,
   "metadata": {},
   "outputs": [],
   "source": [
    "#VEO QUE LOS EVENTOS SE REPITAN MAS DE n VECES\n",
    "n=80\n",
    "ev_count = cl_ev_touch.event_id.value_counts()\n",
    "ev_count = ev_count.reset_index().rename(columns={'index':'event'})\n",
    "ev_count = ev_count[ev_count['event_id'] > n]\n",
    "ev_count\n",
    "\n",
    "cl_ev_touch['repeats'] = 1\n",
    "cl_ev_touch = cl_ev_touch.loc[cl_ev_touch.event_id.isin(ev_count.event)]\n",
    "\n",
    "#AGRUPO\n",
    "group = cl_ev_touch.groupby('event_id').agg({'touchX':'mean','touchY':'mean','repeats':'sum'}).sort_values(by='repeats',ascending=False)\n",
    "group.reset_index(inplace=True)\n",
    "group.event_id = group.event_id.to_string()\n",
    "#group.event_id = group.event_id.astype('category')\n",
    "#group.reset_index(inplace=True)\n",
    "#group.rename(columns={'index':'ind'},inplace=True)"
   ]
  },
  {
   "cell_type": "code",
   "execution_count": 98,
   "metadata": {},
   "outputs": [
    {
     "data": {
      "text/plain": [
       "<matplotlib.axes._subplots.AxesSubplot at 0x1d1042988d0>"
      ]
     },
     "execution_count": 98,
     "metadata": {},
     "output_type": "execute_result"
    },
    {
     "data": {
      "image/png": "[encoded data removed]",
      "text/plain": [
       "<Figure size 1440x72 with 1 Axes>"
      ]
     },
     "metadata": {
      "needs_background": "light"
     },
     "output_type": "display_data"
    },
    {
     "data": {
      "image/png": "[encoded data removed]",
      "text/plain": [
       "<Figure size 864x576 with 1 Axes>"
      ]
     },
     "metadata": {
      "needs_background": "light"
     },
     "output_type": "display_data"
    }
   ],
   "source": [
    "#group['#events'] = np.log2(group['repeats'])\n",
    "#\n",
    "#colors = {1:'red', 452:'blue', 133:'yellow', 329:'orange', 273:'Accent', 274:'Greys', 82:'red', 22:'red', 23:'red', 155:'red', 156:'red', 158:'red', 159:'red', 31:'red', 33:'red', 161:'red', 162:'red', 171:'red', 310:'red', 189:'red'}\n",
    "colors = sns.palplot(sns.color_palette(\"Set1\", n_colors=20, desat=.5))\n",
    "fig = plt.figure(figsize=(12,8))\n",
    "ax = fig.add_subplot(111)\n",
    "ax.set_xlabel('coordenada X')\n",
    "ax.set_ylabel('coordenada Y')\n",
    "sns.scatterplot(x=\"touchX\", y=\"touchY\", hue=\"event_id\", ax=ax, size=\"repeats\", palette=colors, sizes=(60,600), data=group)\n",
    "\n",
    "#plt.scatter(group.touchX, group.touchY, s=group['repeats'], c=colors, alpha=0.5)"
   ]
  },
  {
   "cell_type": "code",
   "execution_count": null,
   "metadata": {},
   "outputs": [],
   "source": []
  },
  {
   "cell_type": "code",
   "execution_count": null,
   "metadata": {},
   "outputs": [],
   "source": []
  }
 ],
 "metadata": {
  "kernelspec": {
   "display_name": "Python 3",
   "language": "python",
   "name": "python3"
  },
  "language_info": {
   "codemirror_mode": {
    "name": "ipython",
    "version": 3
   },
   "file_extension": ".py",
   "mimetype": "text/x-python",
   "name": "python",
   "nbconvert_exporter": "python",
   "pygments_lexer": "ipython3",
   "version": "3.7.1"
  }
 },
 "nbformat": 4,
 "nbformat_minor": 2
}
