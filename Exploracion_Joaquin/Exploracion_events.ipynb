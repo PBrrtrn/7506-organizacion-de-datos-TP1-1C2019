{
 "cells": [
  {
   "cell_type": "code",
   "execution_count": 1,
   "metadata": {},
   "outputs": [],
   "source": [
    "import pandas as pd\n",
    "import numpy as np\n",
    "import datetime\n",
    "import calendar\n"
   ]
  },
  {
   "cell_type": "code",
   "execution_count": 30,
   "metadata": {},
   "outputs": [],
   "source": [
    "types = {'date':'object','event_id':'int64','ref_type':'category','ref_hash':'int64','application_id':'int64',\\\n",
    "         'attributed':'bool','device_countrycode':'category','device_os_version':'float64','device_brand':'float64',\\\n",
    "         'device_model':'float64','device_city':'float64','session_user_agent':'float64','trans_id':'category',\\\n",
    "         'user_agent':'float64','event_uuid':'object','carrier':'float64','kind':'float64','device_os':'category',\\\n",
    "         'wifi':'bool','connection_type':'category','ip_address':'int64','device_language':'float64'}\n",
    "events = pd.read_csv('../../../datos_tp/events.csv', dtype = types)"
   ]
  },
  {
   "cell_type": "code",
   "execution_count": 31,
   "metadata": {},
   "outputs": [
    {
     "name": "stdout",
     "output_type": "stream",
     "text": [
      "<class 'pandas.core.frame.DataFrame'>\n",
      "RangeIndex: 2494423 entries, 0 to 2494422\n",
      "Data columns (total 22 columns):\n",
      "date                  object\n",
      "event_id              int64\n",
      "ref_type              category\n",
      "ref_hash              int64\n",
      "application_id        int64\n",
      "attributed            bool\n",
      "device_countrycode    category\n",
      "device_os_version     float64\n",
      "device_brand          float64\n",
      "device_model          float64\n",
      "device_city           float64\n",
      "session_user_agent    float64\n",
      "trans_id              category\n",
      "user_agent            float64\n",
      "event_uuid            object\n",
      "carrier               float64\n",
      "kind                  float64\n",
      "device_os             category\n",
      "wifi                  object\n",
      "connection_type       category\n",
      "ip_address            int64\n",
      "device_language       float64\n",
      "dtypes: bool(1), category(5), float64(9), int64(4), object(3)\n",
      "memory usage: 318.8+ MB\n"
     ]
    }
   ],
   "source": [
    "events.info()"
   ]
  },
  {
   "cell_type": "code",
   "execution_count": 26,
   "metadata": {},
   "outputs": [
    {
     "data": {
      "text/plain": [
       "6.977049e+18    745898\n",
       "3.301378e+18    589865\n",
       "9.028383e+18    388832\n",
       "6.804428e+18    340624\n",
       "4.621024e+18    150143\n",
       "4.077062e+17     53277\n",
       "2.822843e+17     28294\n",
       "4.060930e+18     25943\n",
       "3.095856e+18     25635\n",
       "6.111820e+18     18314\n",
       "1.526421e+18     10181\n",
       "1.193279e+18      6968\n",
       "6.035180e+18      3681\n",
       "3.177265e+18      3077\n",
       "3.695787e+17      2622\n",
       "6.535228e+18      2201\n",
       "2.554251e+18      1465\n",
       "1.101539e+17       845\n",
       "5.649026e+18       740\n",
       "4.073835e+18       553\n",
       "5.061642e+18       441\n",
       "7.774316e+18       399\n",
       "3.788746e+18       395\n",
       "3.915023e+18       339\n",
       "1.515888e+18       335\n",
       "2.488366e+18       305\n",
       "4.594650e+18       305\n",
       "5.846217e+18       284\n",
       "8.149693e+18       233\n",
       "7.687656e+17       230\n",
       "                 ...  \n",
       "1.580566e+18         2\n",
       "5.487852e+18         2\n",
       "1.820903e+18         2\n",
       "5.794427e+17         2\n",
       "2.099144e+18         2\n",
       "3.086043e+18         2\n",
       "1.873502e+18         2\n",
       "6.344558e+18         2\n",
       "2.234227e+18         1\n",
       "2.255778e+18         1\n",
       "8.665658e+18         1\n",
       "5.100938e+18         1\n",
       "4.953653e+18         1\n",
       "5.398553e+18         1\n",
       "6.659399e+18         1\n",
       "6.261356e+18         1\n",
       "4.868943e+18         1\n",
       "7.505877e+18         1\n",
       "8.988833e+18         1\n",
       "9.072202e+17         1\n",
       "1.067925e+18         1\n",
       "8.801445e+18         1\n",
       "5.007535e+18         1\n",
       "6.232746e+18         1\n",
       "8.949678e+18         1\n",
       "3.870747e+18         1\n",
       "2.067660e+17         1\n",
       "2.186803e+18         1\n",
       "8.939758e+18         1\n",
       "7.427589e+18         1\n",
       "Name: device_language, Length: 186, dtype: int64"
      ]
     },
     "execution_count": 26,
     "metadata": {},
     "output_type": "execute_result"
    }
   ],
   "source": [
    "events.device_language.value_counts()"
   ]
  }
 ],
 "metadata": {
  "kernelspec": {
   "display_name": "Python 3",
   "language": "python",
   "name": "python3"
  },
  "language_info": {
   "codemirror_mode": {
    "name": "ipython",
    "version": 3
   },
   "file_extension": ".py",
   "mimetype": "text/x-python",
   "name": "python",
   "nbconvert_exporter": "python",
   "pygments_lexer": "ipython3",
   "version": "3.7.1"
  }
 },
 "nbformat": 4,
 "nbformat_minor": 2
}
