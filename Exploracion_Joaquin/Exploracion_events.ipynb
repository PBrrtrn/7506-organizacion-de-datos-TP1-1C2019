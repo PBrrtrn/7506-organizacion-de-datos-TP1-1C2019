{
 "cells": [
  {
   "cell_type": "code",
   "execution_count": 80,
   "metadata": {},
   "outputs": [],
   "source": [
    "import pandas as pd\n",
    "import numpy as np\n",
    "import datetime\n",
    "import calendar\n",
    "import matplotlib.pyplot as plt\n",
    "import seaborn as sns\n",
    "\n",
    "from func import *"
   ]
  },
  {
   "cell_type": "code",
   "execution_count": 217,
   "metadata": {},
   "outputs": [],
   "source": [
    "ev_types = {'event_id':'int64',\n",
    "            'ref_type':'category',\n",
    "            'ref_hash':'int64',\n",
    "            'application_id':'int64',\n",
    "            'attributed':'bool',\n",
    "            'device_countrycode':'category',\n",
    "            'device_os_version':'float64',\n",
    "            'device_brand':'float64',\n",
    "            'device_model':'float64',\n",
    "            'device_city':'float64',\n",
    "            'session_user_agent':'float64',\n",
    "            'trans_id':'category',\n",
    "            'user_agent':'float64',\n",
    "            'event_uuid':'object',\n",
    "            'carrier':'float64',\n",
    "            'kind':'float64',\n",
    "            'device_os':'category',\n",
    "            'wifi':'category',\n",
    "            'connection_type':'category',\n",
    "            'ip_address':'int64',\n",
    "            'device_language':'float64'}\n",
    "\n",
    "events = pd.read_csv('../../../datos_tp/events.csv', dtype = ev_types)\n"
   ]
  },
  {
   "cell_type": "code",
   "execution_count": 218,
   "metadata": {},
   "outputs": [],
   "source": [
    "installs = pd.read_csv('../../../datos_tp/installs.csv')\n",
    "installs.rename(columns={'created':'date'},inplace=True)\n",
    "installs['date'] = pd.to_datetime(installs['date'], format = '%Y-%m-%d %H:%M:%S')\n",
    "events['date'] = pd.to_datetime(events['date'], format = '%Y-%m-%d %H:%M:%S')\n",
    "installs['ins'] = 1\n",
    "events['ins'] = 0"
   ]
  },
  {
   "cell_type": "code",
   "execution_count": 230,
   "metadata": {
    "scrolled": true
   },
   "outputs": [
    {
     "name": "stderr",
     "output_type": "stream",
     "text": [
      "C:\\Users\\Joaquin\\Anaconda3\\lib\\site-packages\\ipykernel_launcher.py:25: FutureWarning: Sorting because non-concatenation axis is not aligned. A future version\n",
      "of pandas will change to not sort by default.\n",
      "\n",
      "To accept the future behavior, pass 'sort=False'.\n",
      "\n",
      "To retain the current behavior and silence the warning, pass 'sort=True'.\n",
      "\n"
     ]
    }
   ],
   "source": [
    "concat_types = {\n",
    "            'ref_type':'category',\n",
    "            'ref_hash':'int64',\n",
    "            'application_id':'int64',\n",
    "            'attributed':'category',\n",
    "            'device_countrycode':'category',\n",
    "            #'device_os_version':'float64',\n",
    "            #'device_brand':'float64',\n",
    "            #'device_model':'float64',\n",
    "            #'device_city':'float64',\n",
    "            #'session_user_agent':'float64',\n",
    "            'trans_id':'category',\n",
    "            #'user_agent':'float64',\n",
    "            'event_uuid':'object',\n",
    "            #'carrier':'float64',\n",
    "            #'click_hash':'float64',\n",
    "            #'kind':'float64',\n",
    "            'device_os':'category',\n",
    "            'wifi':'category',\n",
    "            'connection_type':'category',\n",
    "            'ip_address':'int64',\n",
    "            #'device_language':'float64',\n",
    "            'implicit':'category'}\n",
    "\n",
    "tot_events = pd.concat([installs,events])\n",
    "tot_events = tot_events.astype(concat_types)\n",
    "#tot_events.info()"
   ]
  },
  {
   "cell_type": "code",
   "execution_count": 231,
   "metadata": {},
   "outputs": [],
   "source": [
    "tot_events.loc[(tot_events['ins'] == 1), 'event_id'] = 'install'\n",
    "tot_events.sort_values(by=[\"ip_address\", \"date\"], inplace = True)"
   ]
  },
  {
   "cell_type": "code",
   "execution_count": 232,
   "metadata": {},
   "outputs": [],
   "source": [
    "#tot_events.head()"
   ]
  },
  {
   "cell_type": "code",
   "execution_count": 233,
   "metadata": {},
   "outputs": [],
   "source": [
    "#PARA TRABAJAR SOLO CON LOS EVENTOS QUE SUCEDIERON MAS DE n VECES, DESCOMENTO ESTA CELDA\n",
    "#n=10\n",
    "#ev_count = tot_events.event_id.value_counts()\n",
    "#ev_count = ev_count[ev_count > n]\n",
    "#ev_count = ev_count.reset_index()\n",
    "#tot_events_filt = tot_events.loc[tot_events.event_id.isin(ev_count.event_id)]"
   ]
  },
  {
   "cell_type": "code",
   "execution_count": 234,
   "metadata": {},
   "outputs": [
    {
     "data": {
      "text/plain": [
       "66     325696\n",
       "64     259084\n",
       "145    252431\n",
       "63     181555\n",
       "103    137513\n",
       "Name: application_id, dtype: int64"
      ]
     },
     "execution_count": 234,
     "metadata": {},
     "output_type": "execute_result"
    }
   ],
   "source": [
    "tot_events.application_id.value_counts().head(5)"
   ]
  },
  {
   "cell_type": "code",
   "execution_count": 241,
   "metadata": {},
   "outputs": [
    {
     "data": {
      "text/plain": [
       "22.0     322334\n",
       "105.0      2338\n",
       "101.0      1023\n",
       "172.0         1\n",
       "Name: event_id, dtype: int64"
      ]
     },
     "execution_count": 241,
     "metadata": {},
     "output_type": "execute_result"
    }
   ],
   "source": [
    "#COMO VEO QUE EL FLUJO DE EVENTOS DEPENDE MUCHO DE EL APPLICATION ID\n",
    "#EN ESTA CELDA FILTRO EL DATAFRAME POR APLICACION\n",
    "#PARA TRABAJAR SOBRE UNA APLICACION EN PARTICULAR, DESCOMENTO ESTA CELDA\n",
    "\n",
    "#tot_events = tot_events.loc[tot_events.application_id == 66]\n",
    "#tot_events.event_id.value_counts()"
   ]
  },
  {
   "cell_type": "code",
   "execution_count": 242,
   "metadata": {},
   "outputs": [
    {
     "data": {
      "text/html": [
       "<div>\n",
       "<style scoped>\n",
       "    .dataframe tbody tr th:only-of-type {\n",
       "        vertical-align: middle;\n",
       "    }\n",
       "\n",
       "    .dataframe tbody tr th {\n",
       "        vertical-align: top;\n",
       "    }\n",
       "\n",
       "    .dataframe thead th {\n",
       "        text-align: right;\n",
       "    }\n",
       "</style>\n",
       "<table border=\"1\" class=\"dataframe\">\n",
       "  <thead>\n",
       "    <tr style=\"text-align: right;\">\n",
       "      <th></th>\n",
       "      <th>ip_address</th>\n",
       "      <th>date</th>\n",
       "      <th>session</th>\n",
       "    </tr>\n",
       "  </thead>\n",
       "  <tbody>\n",
       "    <tr>\n",
       "      <th>0</th>\n",
       "      <td>363418059153523</td>\n",
       "      <td>2019-03-07 18:36:16.534</td>\n",
       "      <td>0.0</td>\n",
       "    </tr>\n",
       "    <tr>\n",
       "      <th>1</th>\n",
       "      <td>363418059153523</td>\n",
       "      <td>2019-03-07 18:36:22.306</td>\n",
       "      <td>0.0</td>\n",
       "    </tr>\n",
       "    <tr>\n",
       "      <th>2</th>\n",
       "      <td>363418059153523</td>\n",
       "      <td>2019-03-07 19:04:52.949</td>\n",
       "      <td>0.0</td>\n",
       "    </tr>\n",
       "    <tr>\n",
       "      <th>3</th>\n",
       "      <td>363418059153523</td>\n",
       "      <td>2019-03-08 00:27:56.369</td>\n",
       "      <td>1.0</td>\n",
       "    </tr>\n",
       "    <tr>\n",
       "      <th>4</th>\n",
       "      <td>403365767215374</td>\n",
       "      <td>2019-03-13 16:01:27.528</td>\n",
       "      <td>0.0</td>\n",
       "    </tr>\n",
       "  </tbody>\n",
       "</table>\n",
       "</div>"
      ],
      "text/plain": [
       "        ip_address                    date  session\n",
       "0  363418059153523 2019-03-07 18:36:16.534      0.0\n",
       "1  363418059153523 2019-03-07 18:36:22.306      0.0\n",
       "2  363418059153523 2019-03-07 19:04:52.949      0.0\n",
       "3  363418059153523 2019-03-08 00:27:56.369      1.0\n",
       "4  403365767215374 2019-03-13 16:01:27.528      0.0"
      ]
     },
     "execution_count": 242,
     "metadata": {},
     "output_type": "execute_result"
    }
   ],
   "source": [
    "tot_events.reset_index(inplace=True)\n",
    "sess = generateSessions(tot_events)\n",
    "tot_events['session'] = sess\n",
    "tot_events[['ip_address','date','session']].head()\n",
    "#521945665648320\tver este IP"
   ]
  },
  {
   "cell_type": "code",
   "execution_count": 243,
   "metadata": {},
   "outputs": [
    {
     "data": {
      "text/html": [
       "<div>\n",
       "<style scoped>\n",
       "    .dataframe tbody tr th:only-of-type {\n",
       "        vertical-align: middle;\n",
       "    }\n",
       "\n",
       "    .dataframe tbody tr th {\n",
       "        vertical-align: top;\n",
       "    }\n",
       "\n",
       "    .dataframe thead th {\n",
       "        text-align: right;\n",
       "    }\n",
       "</style>\n",
       "<table border=\"1\" class=\"dataframe\">\n",
       "  <thead>\n",
       "    <tr style=\"text-align: right;\">\n",
       "      <th></th>\n",
       "      <th>ip_address</th>\n",
       "      <th>session</th>\n",
       "      <th>application_id</th>\n",
       "      <th>event_id</th>\n",
       "      <th>ins</th>\n",
       "    </tr>\n",
       "  </thead>\n",
       "  <tbody>\n",
       "    <tr>\n",
       "      <th>0</th>\n",
       "      <td>363418059153523</td>\n",
       "      <td>0.0</td>\n",
       "      <td>66</td>\n",
       "      <td>22.0</td>\n",
       "      <td>0</td>\n",
       "    </tr>\n",
       "    <tr>\n",
       "      <th>1</th>\n",
       "      <td>363418059153523</td>\n",
       "      <td>1.0</td>\n",
       "      <td>66</td>\n",
       "      <td>22.0</td>\n",
       "      <td>0</td>\n",
       "    </tr>\n",
       "    <tr>\n",
       "      <th>2</th>\n",
       "      <td>403365767215374</td>\n",
       "      <td>0.0</td>\n",
       "      <td>66</td>\n",
       "      <td>22.0</td>\n",
       "      <td>0</td>\n",
       "    </tr>\n",
       "    <tr>\n",
       "      <th>3</th>\n",
       "      <td>813406996989033</td>\n",
       "      <td>0.0</td>\n",
       "      <td>66</td>\n",
       "      <td>22.0</td>\n",
       "      <td>0</td>\n",
       "    </tr>\n",
       "    <tr>\n",
       "      <th>4</th>\n",
       "      <td>813406996989033</td>\n",
       "      <td>0.0</td>\n",
       "      <td>66</td>\n",
       "      <td>105.0</td>\n",
       "      <td>0</td>\n",
       "    </tr>\n",
       "  </tbody>\n",
       "</table>\n",
       "</div>"
      ],
      "text/plain": [
       "        ip_address  session  application_id  event_id  ins\n",
       "0  363418059153523      0.0              66      22.0    0\n",
       "1  363418059153523      1.0              66      22.0    0\n",
       "2  403365767215374      0.0              66      22.0    0\n",
       "3  813406996989033      0.0              66      22.0    0\n",
       "4  813406996989033      0.0              66     105.0    0"
      ]
     },
     "execution_count": 243,
     "metadata": {},
     "output_type": "execute_result"
    }
   ],
   "source": [
    "tot_events.groupby(['ip_address','session','application_id','event_id']).agg({'ins':'sum'}).reset_index().head()"
   ]
  },
  {
   "cell_type": "code",
   "execution_count": 244,
   "metadata": {},
   "outputs": [],
   "source": [
    "#ev_on_app = tot_events.groupby(['application_id','event_id']).agg({'event_id':'count'}).rename(columns={'event_id':'event_counts'}).unstack()\n",
    "#ev_on_app.reset_index(inplace=True)"
   ]
  },
  {
   "cell_type": "code",
   "execution_count": 245,
   "metadata": {},
   "outputs": [
    {
     "data": {
      "text/html": [
       "<div>\n",
       "<style scoped>\n",
       "    .dataframe tbody tr th:only-of-type {\n",
       "        vertical-align: middle;\n",
       "    }\n",
       "\n",
       "    .dataframe tbody tr th {\n",
       "        vertical-align: top;\n",
       "    }\n",
       "\n",
       "    .dataframe thead th {\n",
       "        text-align: right;\n",
       "    }\n",
       "</style>\n",
       "<table border=\"1\" class=\"dataframe\">\n",
       "  <thead>\n",
       "    <tr style=\"text-align: right;\">\n",
       "      <th></th>\n",
       "      <th>event</th>\n",
       "      <th>next_event</th>\n",
       "    </tr>\n",
       "  </thead>\n",
       "  <tbody>\n",
       "    <tr>\n",
       "      <th>1</th>\n",
       "      <td>22</td>\n",
       "      <td>22</td>\n",
       "    </tr>\n",
       "    <tr>\n",
       "      <th>2</th>\n",
       "      <td>22</td>\n",
       "      <td>22</td>\n",
       "    </tr>\n",
       "    <tr>\n",
       "      <th>3</th>\n",
       "      <td>22</td>\n",
       "      <td>-1</td>\n",
       "    </tr>\n",
       "    <tr>\n",
       "      <th>4</th>\n",
       "      <td>22</td>\n",
       "      <td>-1</td>\n",
       "    </tr>\n",
       "    <tr>\n",
       "      <th>5</th>\n",
       "      <td>22</td>\n",
       "      <td>22</td>\n",
       "    </tr>\n",
       "    <tr>\n",
       "      <th>6</th>\n",
       "      <td>22</td>\n",
       "      <td>22</td>\n",
       "    </tr>\n",
       "    <tr>\n",
       "      <th>7</th>\n",
       "      <td>22</td>\n",
       "      <td>-1</td>\n",
       "    </tr>\n",
       "    <tr>\n",
       "      <th>8</th>\n",
       "      <td>22</td>\n",
       "      <td>22</td>\n",
       "    </tr>\n",
       "    <tr>\n",
       "      <th>9</th>\n",
       "      <td>22</td>\n",
       "      <td>22</td>\n",
       "    </tr>\n",
       "    <tr>\n",
       "      <th>10</th>\n",
       "      <td>22</td>\n",
       "      <td>22</td>\n",
       "    </tr>\n",
       "  </tbody>\n",
       "</table>\n",
       "</div>"
      ],
      "text/plain": [
       "   event next_event\n",
       "1     22         22\n",
       "2     22         22\n",
       "3     22         -1\n",
       "4     22         -1\n",
       "5     22         22\n",
       "6     22         22\n",
       "7     22         -1\n",
       "8     22         22\n",
       "9     22         22\n",
       "10    22         22"
      ]
     },
     "execution_count": 245,
     "metadata": {},
     "output_type": "execute_result"
    }
   ],
   "source": [
    "next_event = pd.DataFrame()\n",
    "next_event['event'] = tot_events.event_id\n",
    "next_event['session'] = tot_events.session\n",
    "next_event['ip_address'] = tot_events.ip_address\n",
    "next_event.index = next_event.index+1\n",
    "#next_event['next_ev'] = tot_events.event_id\n",
    "next_event['next_sess'] = tot_events.session\n",
    "next_event['next_ip'] = tot_events.ip_address\n",
    "next_event.loc[(next_event.session != next_event.next_sess) | (next_event.ip_address != next_event.next_ip), 'next_event'] = -1\n",
    "next_event.loc[(next_event.session == next_event.next_sess) & (next_event.ip_address == next_event.next_ip), 'next_event'] = tot_events.event_id\n",
    "\n",
    "#LAS SIGUIENTES LINEAS SON SOLO PARA ARMAR MATRIZ DE EVENTOS, PARA EXPLORAR OTROS DATOS LAS COMENTO\n",
    "next_event = next_event[['event','next_event']]\n",
    "next_event.head(10)\n",
    "\n"
   ]
  },
  {
   "cell_type": "code",
   "execution_count": 271,
   "metadata": {},
   "outputs": [
    {
     "data": {
      "text/html": [
       "<div>\n",
       "<style scoped>\n",
       "    .dataframe tbody tr th:only-of-type {\n",
       "        vertical-align: middle;\n",
       "    }\n",
       "\n",
       "    .dataframe tbody tr th {\n",
       "        vertical-align: top;\n",
       "    }\n",
       "\n",
       "    .dataframe thead th {\n",
       "        text-align: right;\n",
       "    }\n",
       "</style>\n",
       "<table border=\"1\" class=\"dataframe\">\n",
       "  <thead>\n",
       "    <tr style=\"text-align: right;\">\n",
       "      <th></th>\n",
       "      <th></th>\n",
       "      <th>next_event</th>\n",
       "    </tr>\n",
       "    <tr>\n",
       "      <th>event</th>\n",
       "      <th>next_event</th>\n",
       "      <th></th>\n",
       "    </tr>\n",
       "  </thead>\n",
       "  <tbody>\n",
       "    <tr>\n",
       "      <th rowspan=\"5\" valign=\"top\">22.0</th>\n",
       "      <th>-1.0</th>\n",
       "      <td>138261</td>\n",
       "    </tr>\n",
       "    <tr>\n",
       "      <th>22.0</th>\n",
       "      <td>180771</td>\n",
       "    </tr>\n",
       "    <tr>\n",
       "      <th>101.0</th>\n",
       "      <td>994</td>\n",
       "    </tr>\n",
       "    <tr>\n",
       "      <th>105.0</th>\n",
       "      <td>2307</td>\n",
       "    </tr>\n",
       "    <tr>\n",
       "      <th>172.0</th>\n",
       "      <td>1</td>\n",
       "    </tr>\n",
       "  </tbody>\n",
       "</table>\n",
       "</div>"
      ],
      "text/plain": [
       "                  next_event\n",
       "event next_event            \n",
       "22.0  -1.0            138261\n",
       "       22.0           180771\n",
       "       101.0             994\n",
       "       105.0            2307\n",
       "       172.0               1"
      ]
     },
     "execution_count": 271,
     "metadata": {},
     "output_type": "execute_result"
    }
   ],
   "source": [
    "nev_group = next_event.groupby(['event','next_event']).agg({'next_event':'count'})\n",
    "#SI QUIERO EL INVERSO (LA CANTIDAD DE EVENTOS DEPENDIENDO DEL NEXT_EVENT) CAMBIO ACA ARRIBA ESOS CAMPOS, NO SOBRE NEV_GROUP\n",
    "nev_group.head()"
   ]
  },
  {
   "cell_type": "code",
   "execution_count": 268,
   "metadata": {},
   "outputs": [
    {
     "data": {
      "text/html": [
       "<div>\n",
       "<style scoped>\n",
       "    .dataframe tbody tr th:only-of-type {\n",
       "        vertical-align: middle;\n",
       "    }\n",
       "\n",
       "    .dataframe tbody tr th {\n",
       "        vertical-align: top;\n",
       "    }\n",
       "\n",
       "    .dataframe thead tr th {\n",
       "        text-align: left;\n",
       "    }\n",
       "\n",
       "    .dataframe thead tr:last-of-type th {\n",
       "        text-align: right;\n",
       "    }\n",
       "</style>\n",
       "<table border=\"1\" class=\"dataframe\">\n",
       "  <thead>\n",
       "    <tr>\n",
       "      <th></th>\n",
       "      <th colspan=\"4\" halign=\"left\">next_event</th>\n",
       "    </tr>\n",
       "    <tr>\n",
       "      <th>event</th>\n",
       "      <th>22.0</th>\n",
       "      <th>101.0</th>\n",
       "      <th>105.0</th>\n",
       "      <th>172.0</th>\n",
       "    </tr>\n",
       "    <tr>\n",
       "      <th>next_event</th>\n",
       "      <th></th>\n",
       "      <th></th>\n",
       "      <th></th>\n",
       "      <th></th>\n",
       "    </tr>\n",
       "  </thead>\n",
       "  <tbody>\n",
       "    <tr>\n",
       "      <th>-1.0</th>\n",
       "      <td>138261.0</td>\n",
       "      <td>495.0</td>\n",
       "      <td>962.0</td>\n",
       "      <td>NaN</td>\n",
       "    </tr>\n",
       "    <tr>\n",
       "      <th>22.0</th>\n",
       "      <td>180771.0</td>\n",
       "      <td>526.0</td>\n",
       "      <td>1369.0</td>\n",
       "      <td>1.0</td>\n",
       "    </tr>\n",
       "    <tr>\n",
       "      <th>101.0</th>\n",
       "      <td>994.0</td>\n",
       "      <td>2.0</td>\n",
       "      <td>1.0</td>\n",
       "      <td>NaN</td>\n",
       "    </tr>\n",
       "    <tr>\n",
       "      <th>105.0</th>\n",
       "      <td>2307.0</td>\n",
       "      <td>NaN</td>\n",
       "      <td>6.0</td>\n",
       "      <td>NaN</td>\n",
       "    </tr>\n",
       "    <tr>\n",
       "      <th>172.0</th>\n",
       "      <td>1.0</td>\n",
       "      <td>NaN</td>\n",
       "      <td>NaN</td>\n",
       "      <td>NaN</td>\n",
       "    </tr>\n",
       "  </tbody>\n",
       "</table>\n",
       "</div>"
      ],
      "text/plain": [
       "           next_event                     \n",
       "event           22.0   101.0   105.0 172.0\n",
       "next_event                                \n",
       "-1.0         138261.0  495.0   962.0   NaN\n",
       " 22.0        180771.0  526.0  1369.0   1.0\n",
       " 101.0          994.0    2.0     1.0   NaN\n",
       " 105.0         2307.0    NaN     6.0   NaN\n",
       " 172.0            1.0    NaN     NaN   NaN"
      ]
     },
     "execution_count": 268,
     "metadata": {},
     "output_type": "execute_result"
    }
   ],
   "source": [
    "#PARA VERLA MEJOR TENGO QUE FILTRAR LOS EVENTOS UNICOS\n",
    "#nev_group = nev_group.unstack('event')\n",
    "#nev_group\n",
    "\n",
    "#SI DESCOMENTO VEO LA MATRIZ"
   ]
  },
  {
   "cell_type": "code",
   "execution_count": 269,
   "metadata": {},
   "outputs": [
    {
     "data": {
      "text/plain": [
       "<matplotlib.axes._subplots.AxesSubplot at 0x233860d7438>"
      ]
     },
     "execution_count": 269,
     "metadata": {},
     "output_type": "execute_result"
    },
    {
     "data": {
      "image/png": "[encoded data removed]",
      "text/plain": [
       "<Figure size 432x288 with 2 Axes>"
      ]
     },
     "metadata": {
      "needs_background": "light"
     },
     "output_type": "display_data"
    }
   ],
   "source": [
    "#CELDA PARA HEATMAP DE FLUJO DE EVENTOS PARA ALGUN APPLICATION_ID\n",
    "\n",
    "#nev_group.columns = nev_group.columns.get_level_values(1)\n",
    "#nev_group.fillna(0, inplace=True)\n",
    "#ax = plt.axes()\n",
    "#ax.set_title('Next events for app 66')\n",
    "#sns.heatmap(nev_group,ax = ax)"
   ]
  },
  {
   "cell_type": "code",
   "execution_count": 272,
   "metadata": {},
   "outputs": [
    {
     "data": {
      "text/html": [
       "<div>\n",
       "<style scoped>\n",
       "    .dataframe tbody tr th:only-of-type {\n",
       "        vertical-align: middle;\n",
       "    }\n",
       "\n",
       "    .dataframe tbody tr th {\n",
       "        vertical-align: top;\n",
       "    }\n",
       "\n",
       "    .dataframe thead th {\n",
       "        text-align: right;\n",
       "    }\n",
       "</style>\n",
       "<table border=\"1\" class=\"dataframe\">\n",
       "  <thead>\n",
       "    <tr style=\"text-align: right;\">\n",
       "      <th></th>\n",
       "      <th>event</th>\n",
       "      <th>next_event</th>\n",
       "      <th>repeats</th>\n",
       "    </tr>\n",
       "  </thead>\n",
       "  <tbody>\n",
       "    <tr>\n",
       "      <th>0</th>\n",
       "      <td>22.0</td>\n",
       "      <td>-1.0</td>\n",
       "      <td>138261</td>\n",
       "    </tr>\n",
       "    <tr>\n",
       "      <th>1</th>\n",
       "      <td>22.0</td>\n",
       "      <td>22.0</td>\n",
       "      <td>180771</td>\n",
       "    </tr>\n",
       "    <tr>\n",
       "      <th>2</th>\n",
       "      <td>22.0</td>\n",
       "      <td>101.0</td>\n",
       "      <td>994</td>\n",
       "    </tr>\n",
       "    <tr>\n",
       "      <th>3</th>\n",
       "      <td>22.0</td>\n",
       "      <td>105.0</td>\n",
       "      <td>2307</td>\n",
       "    </tr>\n",
       "    <tr>\n",
       "      <th>4</th>\n",
       "      <td>22.0</td>\n",
       "      <td>172.0</td>\n",
       "      <td>1</td>\n",
       "    </tr>\n",
       "  </tbody>\n",
       "</table>\n",
       "</div>"
      ],
      "text/plain": [
       "   event  next_event  repeats\n",
       "0   22.0        -1.0   138261\n",
       "1   22.0        22.0   180771\n",
       "2   22.0       101.0      994\n",
       "3   22.0       105.0     2307\n",
       "4   22.0       172.0        1"
      ]
     },
     "execution_count": 272,
     "metadata": {},
     "output_type": "execute_result"
    }
   ],
   "source": [
    "#PISO LA MATRIZ O EL AGRUPAMIENTO\n",
    "nev_group = nev_group.rename(columns = {'next_event':'repeats'}).reset_index()\n",
    "nev_group.head()"
   ]
  },
  {
   "cell_type": "code",
   "execution_count": null,
   "metadata": {},
   "outputs": [],
   "source": []
  },
  {
   "cell_type": "code",
   "execution_count": 273,
   "metadata": {},
   "outputs": [
    {
     "data": {
      "text/plain": [
       "<matplotlib.axes._subplots.AxesSubplot at 0x2342ccffcf8>"
      ]
     },
     "execution_count": 273,
     "metadata": {},
     "output_type": "execute_result"
    },
    {
     "data": {
      "image/png": "[encoded data removed]",
      "text/plain": [
       "<Figure size 432x288 with 1 Axes>"
      ]
     },
     "metadata": {},
     "output_type": "display_data"
    }
   ],
   "source": [
    "wifi_counts = installs.wifi.value_counts()\n",
    "wifi_counts.plot.pie()"
   ]
  },
  {
   "cell_type": "code",
   "execution_count": null,
   "metadata": {},
   "outputs": [],
   "source": [
    "#events['counts'] = 1\n",
    "#app_city_group = events.groupby(['application_id','device_city']).agg({'counts':'sum'}).reset_index()\n",
    "#app_city_group.head()\n",
    "#app_city_group.groupby(['application_id','device_city']).agg({'counts':'max'})"
   ]
  }
 ],
 "metadata": {
  "kernelspec": {
   "display_name": "Python 3",
   "language": "python",
   "name": "python3"
  },
  "language_info": {
   "codemirror_mode": {
    "name": "ipython",
    "version": 3
   },
   "file_extension": ".py",
   "mimetype": "text/x-python",
   "name": "python",
   "nbconvert_exporter": "python",
   "pygments_lexer": "ipython3",
   "version": "3.7.1"
  }
 },
 "nbformat": 4,
 "nbformat_minor": 2
}
