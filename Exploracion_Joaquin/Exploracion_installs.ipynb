{
 "cells": [
  {
   "cell_type": "code",
   "execution_count": 5,
   "metadata": {},
   "outputs": [],
   "source": [
    "import pandas as pd\n",
    "import numpy as np\n",
    "import seaborn as sns\n",
    "import matplotlib.pyplot as plt\n",
    "#import func.py"
   ]
  },
  {
   "cell_type": "code",
   "execution_count": 6,
   "metadata": {},
   "outputs": [],
   "source": [
    "installs = pd.read_csv('../../../datos_tp/installs.csv')\n",
    "installs.rename(columns={'created':'date'},inplace=True)\n",
    "installs['date'] = pd.to_datetime(installs['date'], format = '%Y-%m-%d %H:%M:%S')\n",
    "installs['ins'] = 1"
   ]
  },
  {
   "cell_type": "code",
   "execution_count": null,
   "metadata": {},
   "outputs": [],
   "source": [
    "types = {'auction_type_id':'category','country':'int64','device_id':'int64','platform':'category','ref_type':'category','source_id':'category'}\n",
    "auctions = pd.read_csv('../../../datos_tp/auctions.csv', dtype = types)"
   ]
  },
  {
   "cell_type": "code",
   "execution_count": null,
   "metadata": {},
   "outputs": [],
   "source": [
    "inst_auct = installs.merge(auctions, left_on='ref_hash', right_on='device_id',how='inner')\n",
    "inst_auct['date'] = inst_auct.date_x\n",
    "#inst_auct.drop(columns = {'date_x','date_y'},inplace = True)\n",
    "inst_auct.info()"
   ]
  },
  {
   "cell_type": "code",
   "execution_count": 7,
   "metadata": {},
   "outputs": [
    {
     "data": {
      "text/plain": [
       "7     947\n",
       "9     731\n",
       "10    389\n",
       "16    362\n",
       "8     328\n",
       "2     174\n",
       "29     97\n",
       "20     95\n",
       "6      35\n",
       "1      34\n",
       "26     28\n",
       "34     28\n",
       "15     20\n",
       "0      18\n",
       "3      17\n",
       "28     17\n",
       "12     15\n",
       "18     14\n",
       "24     13\n",
       "17     13\n",
       "14     13\n",
       "21      7\n",
       "5       3\n",
       "13      3\n",
       "33      2\n",
       "30      2\n",
       "19      2\n",
       "32      2\n",
       "36      1\n",
       "4       1\n",
       "23      1\n",
       "Name: application_id, dtype: int64"
      ]
     },
     "execution_count": 7,
     "metadata": {},
     "output_type": "execute_result"
    }
   ],
   "source": [
    "installs.application_id.value_counts()"
   ]
  },
  {
   "cell_type": "code",
   "execution_count": null,
   "metadata": {},
   "outputs": [],
   "source": []
  }
 ],
 "metadata": {
  "kernelspec": {
   "display_name": "Python 3",
   "language": "python",
   "name": "python3"
  },
  "language_info": {
   "codemirror_mode": {
    "name": "ipython",
    "version": 3
   },
   "file_extension": ".py",
   "mimetype": "text/x-python",
   "name": "python",
   "nbconvert_exporter": "python",
   "pygments_lexer": "ipython3",
   "version": "3.7.1"
  }
 },
 "nbformat": 4,
 "nbformat_minor": 2
}
